{
 "cells": [
  {
   "cell_type": "markdown",
   "metadata": {},
   "source": [
    "# Проект - Компьютерные игры и рейтинг их продаж в магазине \"Стримчик\""
   ]
  },
  {
   "cell_type": "markdown",
   "metadata": {},
   "source": [
    "Цель: Выявить закономерности, определяющие успешность игры. Выявление потенциально популярного продукта для проведения рекламной компании.\n",
    "\n",
    "Описание данных: Name — название игры Platform — платформа Year_of_Release — год выпуска Genre — жанр игры NA_sales — продажи в Северной Америке (миллионы проданных копий) EU_sales — продажи в Европе (миллионы проданных копий) JP_sales — продажи в Японии (миллионы проданных копий) Other_sales — продажи в других странах (миллионы проданных копий) Critic_Score — оценка критиков (максимум 100) User_Score — оценка пользователей (максимум 10) Rating — рейтинг от организации ESRB (англ. Entertainment Software Rating Board). Эта ассоциация определяет рейтинг компьютерных игр и присваивает им подходящую возрастную категорию."
   ]
  },
  {
   "cell_type": "markdown",
   "metadata": {},
   "source": [
    "# Шаг 1. Откройте файл с данными и изучите общую информацию"
   ]
  },
  {
   "cell_type": "code",
   "execution_count": 1,
   "metadata": {},
   "outputs": [],
   "source": [
    "import pandas as pd\n",
    "import matplotlib.pyplot as plt\n",
    "import seaborn as sns\n",
    "import plotly.express as px\n",
    "import numpy as np\n",
    "from scipy import stats as st"
   ]
  },
  {
   "cell_type": "code",
   "execution_count": 2,
   "metadata": {},
   "outputs": [],
   "source": [
    "data_games = pd.read_csv('/datasets/games.csv')"
   ]
  },
  {
   "cell_type": "code",
   "execution_count": 3,
   "metadata": {},
   "outputs": [
    {
     "name": "stdout",
     "output_type": "stream",
     "text": [
      "<class 'pandas.core.frame.DataFrame'>\n",
      "RangeIndex: 16715 entries, 0 to 16714\n",
      "Data columns (total 11 columns):\n",
      " #   Column           Non-Null Count  Dtype  \n",
      "---  ------           --------------  -----  \n",
      " 0   Name             16713 non-null  object \n",
      " 1   Platform         16715 non-null  object \n",
      " 2   Year_of_Release  16446 non-null  float64\n",
      " 3   Genre            16713 non-null  object \n",
      " 4   NA_sales         16715 non-null  float64\n",
      " 5   EU_sales         16715 non-null  float64\n",
      " 6   JP_sales         16715 non-null  float64\n",
      " 7   Other_sales      16715 non-null  float64\n",
      " 8   Critic_Score     8137 non-null   float64\n",
      " 9   User_Score       10014 non-null  object \n",
      " 10  Rating           9949 non-null   object \n",
      "dtypes: float64(6), object(5)\n",
      "memory usage: 1.4+ MB\n"
     ]
    }
   ],
   "source": [
    "data_games.info()"
   ]
  },
  {
   "cell_type": "code",
   "execution_count": 4,
   "metadata": {},
   "outputs": [
    {
     "data": {
      "text/html": [
       "<div>\n",
       "<style scoped>\n",
       "    .dataframe tbody tr th:only-of-type {\n",
       "        vertical-align: middle;\n",
       "    }\n",
       "\n",
       "    .dataframe tbody tr th {\n",
       "        vertical-align: top;\n",
       "    }\n",
       "\n",
       "    .dataframe thead th {\n",
       "        text-align: right;\n",
       "    }\n",
       "</style>\n",
       "<table border=\"1\" class=\"dataframe\">\n",
       "  <thead>\n",
       "    <tr style=\"text-align: right;\">\n",
       "      <th></th>\n",
       "      <th>Name</th>\n",
       "      <th>Platform</th>\n",
       "      <th>Year_of_Release</th>\n",
       "      <th>Genre</th>\n",
       "      <th>NA_sales</th>\n",
       "      <th>EU_sales</th>\n",
       "      <th>JP_sales</th>\n",
       "      <th>Other_sales</th>\n",
       "      <th>Critic_Score</th>\n",
       "      <th>User_Score</th>\n",
       "      <th>Rating</th>\n",
       "    </tr>\n",
       "  </thead>\n",
       "  <tbody>\n",
       "    <tr>\n",
       "      <th>0</th>\n",
       "      <td>Wii Sports</td>\n",
       "      <td>Wii</td>\n",
       "      <td>2006.0</td>\n",
       "      <td>Sports</td>\n",
       "      <td>41.36</td>\n",
       "      <td>28.96</td>\n",
       "      <td>3.77</td>\n",
       "      <td>8.45</td>\n",
       "      <td>76.0</td>\n",
       "      <td>8</td>\n",
       "      <td>E</td>\n",
       "    </tr>\n",
       "    <tr>\n",
       "      <th>1</th>\n",
       "      <td>Super Mario Bros.</td>\n",
       "      <td>NES</td>\n",
       "      <td>1985.0</td>\n",
       "      <td>Platform</td>\n",
       "      <td>29.08</td>\n",
       "      <td>3.58</td>\n",
       "      <td>6.81</td>\n",
       "      <td>0.77</td>\n",
       "      <td>NaN</td>\n",
       "      <td>NaN</td>\n",
       "      <td>NaN</td>\n",
       "    </tr>\n",
       "    <tr>\n",
       "      <th>2</th>\n",
       "      <td>Mario Kart Wii</td>\n",
       "      <td>Wii</td>\n",
       "      <td>2008.0</td>\n",
       "      <td>Racing</td>\n",
       "      <td>15.68</td>\n",
       "      <td>12.76</td>\n",
       "      <td>3.79</td>\n",
       "      <td>3.29</td>\n",
       "      <td>82.0</td>\n",
       "      <td>8.3</td>\n",
       "      <td>E</td>\n",
       "    </tr>\n",
       "    <tr>\n",
       "      <th>3</th>\n",
       "      <td>Wii Sports Resort</td>\n",
       "      <td>Wii</td>\n",
       "      <td>2009.0</td>\n",
       "      <td>Sports</td>\n",
       "      <td>15.61</td>\n",
       "      <td>10.93</td>\n",
       "      <td>3.28</td>\n",
       "      <td>2.95</td>\n",
       "      <td>80.0</td>\n",
       "      <td>8</td>\n",
       "      <td>E</td>\n",
       "    </tr>\n",
       "    <tr>\n",
       "      <th>4</th>\n",
       "      <td>Pokemon Red/Pokemon Blue</td>\n",
       "      <td>GB</td>\n",
       "      <td>1996.0</td>\n",
       "      <td>Role-Playing</td>\n",
       "      <td>11.27</td>\n",
       "      <td>8.89</td>\n",
       "      <td>10.22</td>\n",
       "      <td>1.00</td>\n",
       "      <td>NaN</td>\n",
       "      <td>NaN</td>\n",
       "      <td>NaN</td>\n",
       "    </tr>\n",
       "    <tr>\n",
       "      <th>5</th>\n",
       "      <td>Tetris</td>\n",
       "      <td>GB</td>\n",
       "      <td>1989.0</td>\n",
       "      <td>Puzzle</td>\n",
       "      <td>23.20</td>\n",
       "      <td>2.26</td>\n",
       "      <td>4.22</td>\n",
       "      <td>0.58</td>\n",
       "      <td>NaN</td>\n",
       "      <td>NaN</td>\n",
       "      <td>NaN</td>\n",
       "    </tr>\n",
       "    <tr>\n",
       "      <th>6</th>\n",
       "      <td>New Super Mario Bros.</td>\n",
       "      <td>DS</td>\n",
       "      <td>2006.0</td>\n",
       "      <td>Platform</td>\n",
       "      <td>11.28</td>\n",
       "      <td>9.14</td>\n",
       "      <td>6.50</td>\n",
       "      <td>2.88</td>\n",
       "      <td>89.0</td>\n",
       "      <td>8.5</td>\n",
       "      <td>E</td>\n",
       "    </tr>\n",
       "    <tr>\n",
       "      <th>7</th>\n",
       "      <td>Wii Play</td>\n",
       "      <td>Wii</td>\n",
       "      <td>2006.0</td>\n",
       "      <td>Misc</td>\n",
       "      <td>13.96</td>\n",
       "      <td>9.18</td>\n",
       "      <td>2.93</td>\n",
       "      <td>2.84</td>\n",
       "      <td>58.0</td>\n",
       "      <td>6.6</td>\n",
       "      <td>E</td>\n",
       "    </tr>\n",
       "    <tr>\n",
       "      <th>8</th>\n",
       "      <td>New Super Mario Bros. Wii</td>\n",
       "      <td>Wii</td>\n",
       "      <td>2009.0</td>\n",
       "      <td>Platform</td>\n",
       "      <td>14.44</td>\n",
       "      <td>6.94</td>\n",
       "      <td>4.70</td>\n",
       "      <td>2.24</td>\n",
       "      <td>87.0</td>\n",
       "      <td>8.4</td>\n",
       "      <td>E</td>\n",
       "    </tr>\n",
       "    <tr>\n",
       "      <th>9</th>\n",
       "      <td>Duck Hunt</td>\n",
       "      <td>NES</td>\n",
       "      <td>1984.0</td>\n",
       "      <td>Shooter</td>\n",
       "      <td>26.93</td>\n",
       "      <td>0.63</td>\n",
       "      <td>0.28</td>\n",
       "      <td>0.47</td>\n",
       "      <td>NaN</td>\n",
       "      <td>NaN</td>\n",
       "      <td>NaN</td>\n",
       "    </tr>\n",
       "    <tr>\n",
       "      <th>10</th>\n",
       "      <td>Nintendogs</td>\n",
       "      <td>DS</td>\n",
       "      <td>2005.0</td>\n",
       "      <td>Simulation</td>\n",
       "      <td>9.05</td>\n",
       "      <td>10.95</td>\n",
       "      <td>1.93</td>\n",
       "      <td>2.74</td>\n",
       "      <td>NaN</td>\n",
       "      <td>NaN</td>\n",
       "      <td>NaN</td>\n",
       "    </tr>\n",
       "    <tr>\n",
       "      <th>11</th>\n",
       "      <td>Mario Kart DS</td>\n",
       "      <td>DS</td>\n",
       "      <td>2005.0</td>\n",
       "      <td>Racing</td>\n",
       "      <td>9.71</td>\n",
       "      <td>7.47</td>\n",
       "      <td>4.13</td>\n",
       "      <td>1.90</td>\n",
       "      <td>91.0</td>\n",
       "      <td>8.6</td>\n",
       "      <td>E</td>\n",
       "    </tr>\n",
       "    <tr>\n",
       "      <th>12</th>\n",
       "      <td>Pokemon Gold/Pokemon Silver</td>\n",
       "      <td>GB</td>\n",
       "      <td>1999.0</td>\n",
       "      <td>Role-Playing</td>\n",
       "      <td>9.00</td>\n",
       "      <td>6.18</td>\n",
       "      <td>7.20</td>\n",
       "      <td>0.71</td>\n",
       "      <td>NaN</td>\n",
       "      <td>NaN</td>\n",
       "      <td>NaN</td>\n",
       "    </tr>\n",
       "    <tr>\n",
       "      <th>13</th>\n",
       "      <td>Wii Fit</td>\n",
       "      <td>Wii</td>\n",
       "      <td>2007.0</td>\n",
       "      <td>Sports</td>\n",
       "      <td>8.92</td>\n",
       "      <td>8.03</td>\n",
       "      <td>3.60</td>\n",
       "      <td>2.15</td>\n",
       "      <td>80.0</td>\n",
       "      <td>7.7</td>\n",
       "      <td>E</td>\n",
       "    </tr>\n",
       "    <tr>\n",
       "      <th>14</th>\n",
       "      <td>Kinect Adventures!</td>\n",
       "      <td>X360</td>\n",
       "      <td>2010.0</td>\n",
       "      <td>Misc</td>\n",
       "      <td>15.00</td>\n",
       "      <td>4.89</td>\n",
       "      <td>0.24</td>\n",
       "      <td>1.69</td>\n",
       "      <td>61.0</td>\n",
       "      <td>6.3</td>\n",
       "      <td>E</td>\n",
       "    </tr>\n",
       "    <tr>\n",
       "      <th>15</th>\n",
       "      <td>Wii Fit Plus</td>\n",
       "      <td>Wii</td>\n",
       "      <td>2009.0</td>\n",
       "      <td>Sports</td>\n",
       "      <td>9.01</td>\n",
       "      <td>8.49</td>\n",
       "      <td>2.53</td>\n",
       "      <td>1.77</td>\n",
       "      <td>80.0</td>\n",
       "      <td>7.4</td>\n",
       "      <td>E</td>\n",
       "    </tr>\n",
       "    <tr>\n",
       "      <th>16</th>\n",
       "      <td>Grand Theft Auto V</td>\n",
       "      <td>PS3</td>\n",
       "      <td>2013.0</td>\n",
       "      <td>Action</td>\n",
       "      <td>7.02</td>\n",
       "      <td>9.09</td>\n",
       "      <td>0.98</td>\n",
       "      <td>3.96</td>\n",
       "      <td>97.0</td>\n",
       "      <td>8.2</td>\n",
       "      <td>M</td>\n",
       "    </tr>\n",
       "    <tr>\n",
       "      <th>17</th>\n",
       "      <td>Grand Theft Auto: San Andreas</td>\n",
       "      <td>PS2</td>\n",
       "      <td>2004.0</td>\n",
       "      <td>Action</td>\n",
       "      <td>9.43</td>\n",
       "      <td>0.40</td>\n",
       "      <td>0.41</td>\n",
       "      <td>10.57</td>\n",
       "      <td>95.0</td>\n",
       "      <td>9</td>\n",
       "      <td>M</td>\n",
       "    </tr>\n",
       "    <tr>\n",
       "      <th>18</th>\n",
       "      <td>Super Mario World</td>\n",
       "      <td>SNES</td>\n",
       "      <td>1990.0</td>\n",
       "      <td>Platform</td>\n",
       "      <td>12.78</td>\n",
       "      <td>3.75</td>\n",
       "      <td>3.54</td>\n",
       "      <td>0.55</td>\n",
       "      <td>NaN</td>\n",
       "      <td>NaN</td>\n",
       "      <td>NaN</td>\n",
       "    </tr>\n",
       "    <tr>\n",
       "      <th>19</th>\n",
       "      <td>Brain Age: Train Your Brain in Minutes a Day</td>\n",
       "      <td>DS</td>\n",
       "      <td>2005.0</td>\n",
       "      <td>Misc</td>\n",
       "      <td>4.74</td>\n",
       "      <td>9.20</td>\n",
       "      <td>4.16</td>\n",
       "      <td>2.04</td>\n",
       "      <td>77.0</td>\n",
       "      <td>7.9</td>\n",
       "      <td>E</td>\n",
       "    </tr>\n",
       "  </tbody>\n",
       "</table>\n",
       "</div>"
      ],
      "text/plain": [
       "                                            Name Platform  Year_of_Release  \\\n",
       "0                                     Wii Sports      Wii           2006.0   \n",
       "1                              Super Mario Bros.      NES           1985.0   \n",
       "2                                 Mario Kart Wii      Wii           2008.0   \n",
       "3                              Wii Sports Resort      Wii           2009.0   \n",
       "4                       Pokemon Red/Pokemon Blue       GB           1996.0   \n",
       "5                                         Tetris       GB           1989.0   \n",
       "6                          New Super Mario Bros.       DS           2006.0   \n",
       "7                                       Wii Play      Wii           2006.0   \n",
       "8                      New Super Mario Bros. Wii      Wii           2009.0   \n",
       "9                                      Duck Hunt      NES           1984.0   \n",
       "10                                    Nintendogs       DS           2005.0   \n",
       "11                                 Mario Kart DS       DS           2005.0   \n",
       "12                   Pokemon Gold/Pokemon Silver       GB           1999.0   \n",
       "13                                       Wii Fit      Wii           2007.0   \n",
       "14                            Kinect Adventures!     X360           2010.0   \n",
       "15                                  Wii Fit Plus      Wii           2009.0   \n",
       "16                            Grand Theft Auto V      PS3           2013.0   \n",
       "17                 Grand Theft Auto: San Andreas      PS2           2004.0   \n",
       "18                             Super Mario World     SNES           1990.0   \n",
       "19  Brain Age: Train Your Brain in Minutes a Day       DS           2005.0   \n",
       "\n",
       "           Genre  NA_sales  EU_sales  JP_sales  Other_sales  Critic_Score  \\\n",
       "0         Sports     41.36     28.96      3.77         8.45          76.0   \n",
       "1       Platform     29.08      3.58      6.81         0.77           NaN   \n",
       "2         Racing     15.68     12.76      3.79         3.29          82.0   \n",
       "3         Sports     15.61     10.93      3.28         2.95          80.0   \n",
       "4   Role-Playing     11.27      8.89     10.22         1.00           NaN   \n",
       "5         Puzzle     23.20      2.26      4.22         0.58           NaN   \n",
       "6       Platform     11.28      9.14      6.50         2.88          89.0   \n",
       "7           Misc     13.96      9.18      2.93         2.84          58.0   \n",
       "8       Platform     14.44      6.94      4.70         2.24          87.0   \n",
       "9        Shooter     26.93      0.63      0.28         0.47           NaN   \n",
       "10    Simulation      9.05     10.95      1.93         2.74           NaN   \n",
       "11        Racing      9.71      7.47      4.13         1.90          91.0   \n",
       "12  Role-Playing      9.00      6.18      7.20         0.71           NaN   \n",
       "13        Sports      8.92      8.03      3.60         2.15          80.0   \n",
       "14          Misc     15.00      4.89      0.24         1.69          61.0   \n",
       "15        Sports      9.01      8.49      2.53         1.77          80.0   \n",
       "16        Action      7.02      9.09      0.98         3.96          97.0   \n",
       "17        Action      9.43      0.40      0.41        10.57          95.0   \n",
       "18      Platform     12.78      3.75      3.54         0.55           NaN   \n",
       "19          Misc      4.74      9.20      4.16         2.04          77.0   \n",
       "\n",
       "   User_Score Rating  \n",
       "0           8      E  \n",
       "1         NaN    NaN  \n",
       "2         8.3      E  \n",
       "3           8      E  \n",
       "4         NaN    NaN  \n",
       "5         NaN    NaN  \n",
       "6         8.5      E  \n",
       "7         6.6      E  \n",
       "8         8.4      E  \n",
       "9         NaN    NaN  \n",
       "10        NaN    NaN  \n",
       "11        8.6      E  \n",
       "12        NaN    NaN  \n",
       "13        7.7      E  \n",
       "14        6.3      E  \n",
       "15        7.4      E  \n",
       "16        8.2      M  \n",
       "17          9      M  \n",
       "18        NaN    NaN  \n",
       "19        7.9      E  "
      ]
     },
     "execution_count": 4,
     "metadata": {},
     "output_type": "execute_result"
    }
   ],
   "source": [
    "data_games.head(20)"
   ]
  },
  {
   "cell_type": "code",
   "execution_count": 5,
   "metadata": {},
   "outputs": [
    {
     "name": "stdout",
     "output_type": "stream",
     "text": [
      "Number of Rows: 16715\n",
      "Number of Columns: 11\n"
     ]
    }
   ],
   "source": [
    "#Посчитаем кол-во строк и столбцов\n",
    "\n",
    "rows = len(data_games.axes[0])\n",
    "cols = len(data_games.axes[1])\n",
    "  \n",
    "\n",
    "print(\"Number of Rows: \" + str(rows))\n",
    "print(\"Number of Columns: \" + str(cols))"
   ]
  },
  {
   "cell_type": "code",
   "execution_count": 6,
   "metadata": {},
   "outputs": [
    {
     "data": {
      "text/plain": [
       "Name                  2\n",
       "Platform              0\n",
       "Year_of_Release     269\n",
       "Genre                 2\n",
       "NA_sales              0\n",
       "EU_sales              0\n",
       "JP_sales              0\n",
       "Other_sales           0\n",
       "Critic_Score       8578\n",
       "User_Score         6701\n",
       "Rating             6766\n",
       "dtype: int64"
      ]
     },
     "execution_count": 6,
     "metadata": {},
     "output_type": "execute_result"
    }
   ],
   "source": [
    "data_games.isna().sum()"
   ]
  },
  {
   "cell_type": "markdown",
   "metadata": {},
   "source": [
    "Вывод: Загружены данные об играх до 2016 года об играх, их жанре, рейтинге, продажах в Японии, Северной Америке и Европе.\n",
    "В датафрейме 16715 строк. Есть пропуски в категориях названия игр, года выпуска, оценке критиков, оценк пользователей и рейтинге от организации ESRB."
   ]
  },
  {
   "cell_type": "markdown",
   "metadata": {},
   "source": [
    "# Шаг 2. Подготовьте данные"
   ]
  },
  {
   "cell_type": "code",
   "execution_count": 7,
   "metadata": {},
   "outputs": [],
   "source": [
    "# Заменим названия столбцов (приведем к нижнему регистру);\n",
    "\n",
    "data_games.columns = data_games.columns.str.lower()"
   ]
  },
  {
   "cell_type": "code",
   "execution_count": 8,
   "metadata": {},
   "outputs": [
    {
     "data": {
      "text/html": [
       "<div>\n",
       "<style scoped>\n",
       "    .dataframe tbody tr th:only-of-type {\n",
       "        vertical-align: middle;\n",
       "    }\n",
       "\n",
       "    .dataframe tbody tr th {\n",
       "        vertical-align: top;\n",
       "    }\n",
       "\n",
       "    .dataframe thead th {\n",
       "        text-align: right;\n",
       "    }\n",
       "</style>\n",
       "<table border=\"1\" class=\"dataframe\">\n",
       "  <thead>\n",
       "    <tr style=\"text-align: right;\">\n",
       "      <th></th>\n",
       "      <th>name</th>\n",
       "      <th>platform</th>\n",
       "      <th>year_of_release</th>\n",
       "      <th>genre</th>\n",
       "      <th>na_sales</th>\n",
       "      <th>eu_sales</th>\n",
       "      <th>jp_sales</th>\n",
       "      <th>other_sales</th>\n",
       "      <th>critic_score</th>\n",
       "      <th>user_score</th>\n",
       "      <th>rating</th>\n",
       "    </tr>\n",
       "  </thead>\n",
       "  <tbody>\n",
       "    <tr>\n",
       "      <th>0</th>\n",
       "      <td>Wii Sports</td>\n",
       "      <td>Wii</td>\n",
       "      <td>2006.0</td>\n",
       "      <td>Sports</td>\n",
       "      <td>41.36</td>\n",
       "      <td>28.96</td>\n",
       "      <td>3.77</td>\n",
       "      <td>8.45</td>\n",
       "      <td>76.0</td>\n",
       "      <td>8</td>\n",
       "      <td>E</td>\n",
       "    </tr>\n",
       "    <tr>\n",
       "      <th>1</th>\n",
       "      <td>Super Mario Bros.</td>\n",
       "      <td>NES</td>\n",
       "      <td>1985.0</td>\n",
       "      <td>Platform</td>\n",
       "      <td>29.08</td>\n",
       "      <td>3.58</td>\n",
       "      <td>6.81</td>\n",
       "      <td>0.77</td>\n",
       "      <td>NaN</td>\n",
       "      <td>NaN</td>\n",
       "      <td>NaN</td>\n",
       "    </tr>\n",
       "    <tr>\n",
       "      <th>2</th>\n",
       "      <td>Mario Kart Wii</td>\n",
       "      <td>Wii</td>\n",
       "      <td>2008.0</td>\n",
       "      <td>Racing</td>\n",
       "      <td>15.68</td>\n",
       "      <td>12.76</td>\n",
       "      <td>3.79</td>\n",
       "      <td>3.29</td>\n",
       "      <td>82.0</td>\n",
       "      <td>8.3</td>\n",
       "      <td>E</td>\n",
       "    </tr>\n",
       "    <tr>\n",
       "      <th>3</th>\n",
       "      <td>Wii Sports Resort</td>\n",
       "      <td>Wii</td>\n",
       "      <td>2009.0</td>\n",
       "      <td>Sports</td>\n",
       "      <td>15.61</td>\n",
       "      <td>10.93</td>\n",
       "      <td>3.28</td>\n",
       "      <td>2.95</td>\n",
       "      <td>80.0</td>\n",
       "      <td>8</td>\n",
       "      <td>E</td>\n",
       "    </tr>\n",
       "    <tr>\n",
       "      <th>4</th>\n",
       "      <td>Pokemon Red/Pokemon Blue</td>\n",
       "      <td>GB</td>\n",
       "      <td>1996.0</td>\n",
       "      <td>Role-Playing</td>\n",
       "      <td>11.27</td>\n",
       "      <td>8.89</td>\n",
       "      <td>10.22</td>\n",
       "      <td>1.00</td>\n",
       "      <td>NaN</td>\n",
       "      <td>NaN</td>\n",
       "      <td>NaN</td>\n",
       "    </tr>\n",
       "  </tbody>\n",
       "</table>\n",
       "</div>"
      ],
      "text/plain": [
       "                       name platform  year_of_release         genre  na_sales  \\\n",
       "0                Wii Sports      Wii           2006.0        Sports     41.36   \n",
       "1         Super Mario Bros.      NES           1985.0      Platform     29.08   \n",
       "2            Mario Kart Wii      Wii           2008.0        Racing     15.68   \n",
       "3         Wii Sports Resort      Wii           2009.0        Sports     15.61   \n",
       "4  Pokemon Red/Pokemon Blue       GB           1996.0  Role-Playing     11.27   \n",
       "\n",
       "   eu_sales  jp_sales  other_sales  critic_score user_score rating  \n",
       "0     28.96      3.77         8.45          76.0          8      E  \n",
       "1      3.58      6.81         0.77           NaN        NaN    NaN  \n",
       "2     12.76      3.79         3.29          82.0        8.3      E  \n",
       "3     10.93      3.28         2.95          80.0          8      E  \n",
       "4      8.89     10.22         1.00           NaN        NaN    NaN  "
      ]
     },
     "execution_count": 8,
     "metadata": {},
     "output_type": "execute_result"
    }
   ],
   "source": [
    "data_games.head()"
   ]
  },
  {
   "cell_type": "code",
   "execution_count": 9,
   "metadata": {},
   "outputs": [
    {
     "data": {
      "text/plain": [
       "name                object\n",
       "platform            object\n",
       "year_of_release    float64\n",
       "genre               object\n",
       "na_sales           float64\n",
       "eu_sales           float64\n",
       "jp_sales           float64\n",
       "other_sales        float64\n",
       "critic_score       float64\n",
       "user_score          object\n",
       "rating              object\n",
       "dtype: object"
      ]
     },
     "execution_count": 9,
     "metadata": {},
     "output_type": "execute_result"
    }
   ],
   "source": [
    "data_games.dtypes"
   ]
  },
  {
   "cell_type": "code",
   "execution_count": 10,
   "metadata": {},
   "outputs": [],
   "source": [
    "# Для экономии памяти поменяем float64 на float32\n",
    "data_games[['na_sales', 'eu_sales', 'jp_sales', 'other_sales', 'critic_score']] = data_games[['na_sales', \n",
    "      'eu_sales', \n",
    "      'jp_sales', \n",
    "      'other_sales', \n",
    "      'critic_score'\n",
    "      ]].apply(lambda x: x.astype('float32'))\n",
    "data_games[['na_sales', 'eu_sales', 'jp_sales', 'other_sales', 'critic_score']] = data_games[['na_sales', \n",
    "      'eu_sales', \n",
    "      'jp_sales', \n",
    "      'other_sales', \n",
    "      'critic_score'\n",
    "      ]]"
   ]
  },
  {
   "cell_type": "code",
   "execution_count": 11,
   "metadata": {},
   "outputs": [],
   "source": [
    "# год не может быть не целым числом, приведем оценку критиков и год в тип integer. Пока есть пропуски нет возможности \n",
    "# перевести в тип int64\n",
    "data_games['year_of_release'] = pd.to_numeric(data_games['year_of_release'], downcast='integer')\n",
    "data_games['critic_score'] = pd.to_numeric(data_games['critic_score'], downcast='integer')\n",
    "\n",
    "# приведем user_score в тип float и округлим значения. В столбце есть значение \"tbd\" - то есть еще нет оценки,\n",
    "# поэтому эти значения можно заменить на NaN \n",
    "data_games['user_score'] = pd.to_numeric(data_games['user_score'], downcast='float', errors ='coerce')\n",
    "data_games['user_score'] = data_games['user_score'].round(1)"
   ]
  },
  {
   "cell_type": "code",
   "execution_count": 12,
   "metadata": {},
   "outputs": [
    {
     "name": "stdout",
     "output_type": "stream",
     "text": [
      "<class 'pandas.core.frame.DataFrame'>\n",
      "RangeIndex: 16715 entries, 0 to 16714\n",
      "Data columns (total 11 columns):\n",
      " #   Column           Non-Null Count  Dtype  \n",
      "---  ------           --------------  -----  \n",
      " 0   name             16713 non-null  object \n",
      " 1   platform         16715 non-null  object \n",
      " 2   year_of_release  16446 non-null  float64\n",
      " 3   genre            16713 non-null  object \n",
      " 4   na_sales         16715 non-null  float32\n",
      " 5   eu_sales         16715 non-null  float32\n",
      " 6   jp_sales         16715 non-null  float32\n",
      " 7   other_sales      16715 non-null  float32\n",
      " 8   critic_score     8137 non-null   float32\n",
      " 9   user_score       7590 non-null   float32\n",
      " 10  rating           9949 non-null   object \n",
      "dtypes: float32(6), float64(1), object(4)\n",
      "memory usage: 1.0+ MB\n"
     ]
    }
   ],
   "source": [
    "data_games.info()"
   ]
  },
  {
   "cell_type": "code",
   "execution_count": 13,
   "metadata": {},
   "outputs": [
    {
     "data": {
      "text/html": [
       "<div>\n",
       "<style scoped>\n",
       "    .dataframe tbody tr th:only-of-type {\n",
       "        vertical-align: middle;\n",
       "    }\n",
       "\n",
       "    .dataframe tbody tr th {\n",
       "        vertical-align: top;\n",
       "    }\n",
       "\n",
       "    .dataframe thead th {\n",
       "        text-align: right;\n",
       "    }\n",
       "</style>\n",
       "<table border=\"1\" class=\"dataframe\">\n",
       "  <thead>\n",
       "    <tr style=\"text-align: right;\">\n",
       "      <th></th>\n",
       "      <th>name</th>\n",
       "      <th>platform</th>\n",
       "      <th>year_of_release</th>\n",
       "      <th>genre</th>\n",
       "      <th>na_sales</th>\n",
       "      <th>eu_sales</th>\n",
       "      <th>jp_sales</th>\n",
       "      <th>other_sales</th>\n",
       "      <th>critic_score</th>\n",
       "      <th>user_score</th>\n",
       "      <th>rating</th>\n",
       "    </tr>\n",
       "  </thead>\n",
       "  <tbody>\n",
       "    <tr>\n",
       "      <th>0</th>\n",
       "      <td>Wii Sports</td>\n",
       "      <td>Wii</td>\n",
       "      <td>2006.0</td>\n",
       "      <td>Sports</td>\n",
       "      <td>41.360001</td>\n",
       "      <td>28.959999</td>\n",
       "      <td>3.77</td>\n",
       "      <td>8.45</td>\n",
       "      <td>76.0</td>\n",
       "      <td>8.0</td>\n",
       "      <td>E</td>\n",
       "    </tr>\n",
       "    <tr>\n",
       "      <th>1</th>\n",
       "      <td>Super Mario Bros.</td>\n",
       "      <td>NES</td>\n",
       "      <td>1985.0</td>\n",
       "      <td>Platform</td>\n",
       "      <td>29.080000</td>\n",
       "      <td>3.580000</td>\n",
       "      <td>6.81</td>\n",
       "      <td>0.77</td>\n",
       "      <td>NaN</td>\n",
       "      <td>NaN</td>\n",
       "      <td>NaN</td>\n",
       "    </tr>\n",
       "    <tr>\n",
       "      <th>2</th>\n",
       "      <td>Mario Kart Wii</td>\n",
       "      <td>Wii</td>\n",
       "      <td>2008.0</td>\n",
       "      <td>Racing</td>\n",
       "      <td>15.680000</td>\n",
       "      <td>12.760000</td>\n",
       "      <td>3.79</td>\n",
       "      <td>3.29</td>\n",
       "      <td>82.0</td>\n",
       "      <td>8.3</td>\n",
       "      <td>E</td>\n",
       "    </tr>\n",
       "    <tr>\n",
       "      <th>3</th>\n",
       "      <td>Wii Sports Resort</td>\n",
       "      <td>Wii</td>\n",
       "      <td>2009.0</td>\n",
       "      <td>Sports</td>\n",
       "      <td>15.610000</td>\n",
       "      <td>10.930000</td>\n",
       "      <td>3.28</td>\n",
       "      <td>2.95</td>\n",
       "      <td>80.0</td>\n",
       "      <td>8.0</td>\n",
       "      <td>E</td>\n",
       "    </tr>\n",
       "    <tr>\n",
       "      <th>4</th>\n",
       "      <td>Pokemon Red/Pokemon Blue</td>\n",
       "      <td>GB</td>\n",
       "      <td>1996.0</td>\n",
       "      <td>Role-Playing</td>\n",
       "      <td>11.270000</td>\n",
       "      <td>8.890000</td>\n",
       "      <td>10.22</td>\n",
       "      <td>1.00</td>\n",
       "      <td>NaN</td>\n",
       "      <td>NaN</td>\n",
       "      <td>NaN</td>\n",
       "    </tr>\n",
       "  </tbody>\n",
       "</table>\n",
       "</div>"
      ],
      "text/plain": [
       "                       name platform  year_of_release         genre  \\\n",
       "0                Wii Sports      Wii           2006.0        Sports   \n",
       "1         Super Mario Bros.      NES           1985.0      Platform   \n",
       "2            Mario Kart Wii      Wii           2008.0        Racing   \n",
       "3         Wii Sports Resort      Wii           2009.0        Sports   \n",
       "4  Pokemon Red/Pokemon Blue       GB           1996.0  Role-Playing   \n",
       "\n",
       "    na_sales   eu_sales  jp_sales  other_sales  critic_score  user_score  \\\n",
       "0  41.360001  28.959999      3.77         8.45          76.0         8.0   \n",
       "1  29.080000   3.580000      6.81         0.77           NaN         NaN   \n",
       "2  15.680000  12.760000      3.79         3.29          82.0         8.3   \n",
       "3  15.610000  10.930000      3.28         2.95          80.0         8.0   \n",
       "4  11.270000   8.890000     10.22         1.00           NaN         NaN   \n",
       "\n",
       "  rating  \n",
       "0      E  \n",
       "1    NaN  \n",
       "2      E  \n",
       "3      E  \n",
       "4    NaN  "
      ]
     },
     "execution_count": 13,
     "metadata": {},
     "output_type": "execute_result"
    }
   ],
   "source": [
    "data_games.head()"
   ]
  },
  {
   "cell_type": "markdown",
   "metadata": {},
   "source": [
    "### Обработка пропусков"
   ]
  },
  {
   "cell_type": "markdown",
   "metadata": {},
   "source": [
    "critic_score и user_score. В этих столбцах нельзя восстановить значения и заменить их средним или медианным, потому что для каждой строки оценка - это индивидуальное значение. "
   ]
  },
  {
   "cell_type": "code",
   "execution_count": 14,
   "metadata": {},
   "outputs": [
    {
     "data": {
      "text/html": [
       "<div>\n",
       "<style scoped>\n",
       "    .dataframe tbody tr th:only-of-type {\n",
       "        vertical-align: middle;\n",
       "    }\n",
       "\n",
       "    .dataframe tbody tr th {\n",
       "        vertical-align: top;\n",
       "    }\n",
       "\n",
       "    .dataframe thead th {\n",
       "        text-align: right;\n",
       "    }\n",
       "</style>\n",
       "<table border=\"1\" class=\"dataframe\">\n",
       "  <thead>\n",
       "    <tr style=\"text-align: right;\">\n",
       "      <th></th>\n",
       "      <th>name</th>\n",
       "      <th>platform</th>\n",
       "      <th>year_of_release</th>\n",
       "      <th>genre</th>\n",
       "      <th>na_sales</th>\n",
       "      <th>eu_sales</th>\n",
       "      <th>jp_sales</th>\n",
       "      <th>other_sales</th>\n",
       "      <th>critic_score</th>\n",
       "      <th>user_score</th>\n",
       "      <th>rating</th>\n",
       "    </tr>\n",
       "  </thead>\n",
       "  <tbody>\n",
       "    <tr>\n",
       "      <th>659</th>\n",
       "      <td>NaN</td>\n",
       "      <td>GEN</td>\n",
       "      <td>1993.0</td>\n",
       "      <td>NaN</td>\n",
       "      <td>1.78</td>\n",
       "      <td>0.53</td>\n",
       "      <td>0.00</td>\n",
       "      <td>0.08</td>\n",
       "      <td>NaN</td>\n",
       "      <td>NaN</td>\n",
       "      <td>NaN</td>\n",
       "    </tr>\n",
       "    <tr>\n",
       "      <th>14244</th>\n",
       "      <td>NaN</td>\n",
       "      <td>GEN</td>\n",
       "      <td>1993.0</td>\n",
       "      <td>NaN</td>\n",
       "      <td>0.00</td>\n",
       "      <td>0.00</td>\n",
       "      <td>0.03</td>\n",
       "      <td>0.00</td>\n",
       "      <td>NaN</td>\n",
       "      <td>NaN</td>\n",
       "      <td>NaN</td>\n",
       "    </tr>\n",
       "  </tbody>\n",
       "</table>\n",
       "</div>"
      ],
      "text/plain": [
       "      name platform  year_of_release genre  na_sales  eu_sales  jp_sales  \\\n",
       "659    NaN      GEN           1993.0   NaN      1.78      0.53      0.00   \n",
       "14244  NaN      GEN           1993.0   NaN      0.00      0.00      0.03   \n",
       "\n",
       "       other_sales  critic_score  user_score rating  \n",
       "659           0.08           NaN         NaN    NaN  \n",
       "14244         0.00           NaN         NaN    NaN  "
      ]
     },
     "execution_count": 14,
     "metadata": {},
     "output_type": "execute_result"
    }
   ],
   "source": [
    "# Удалим строки с пропущенным названием, они не подлежат восстановлению\n",
    "data_games[data_games['name'].isna()]"
   ]
  },
  {
   "cell_type": "code",
   "execution_count": 15,
   "metadata": {},
   "outputs": [
    {
     "name": "stdout",
     "output_type": "stream",
     "text": [
      "<class 'pandas.core.frame.DataFrame'>\n",
      "Int64Index: 16713 entries, 0 to 16714\n",
      "Data columns (total 11 columns):\n",
      " #   Column           Non-Null Count  Dtype  \n",
      "---  ------           --------------  -----  \n",
      " 0   name             16713 non-null  object \n",
      " 1   platform         16713 non-null  object \n",
      " 2   year_of_release  16444 non-null  float64\n",
      " 3   genre            16713 non-null  object \n",
      " 4   na_sales         16713 non-null  float32\n",
      " 5   eu_sales         16713 non-null  float32\n",
      " 6   jp_sales         16713 non-null  float32\n",
      " 7   other_sales      16713 non-null  float32\n",
      " 8   critic_score     8137 non-null   float32\n",
      " 9   user_score       7590 non-null   float32\n",
      " 10  rating           9949 non-null   object \n",
      "dtypes: float32(6), float64(1), object(4)\n",
      "memory usage: 1.1+ MB\n"
     ]
    }
   ],
   "source": [
    "data_games.drop([659, 14244],inplace=True)\n",
    "data_games.info()"
   ]
  },
  {
   "cell_type": "markdown",
   "metadata": {},
   "source": [
    "Те строки, в которых год пропущен, не имеют значения для аналитики, поэтому их можно удалить. Всего 269 значений пропущенных против 16 тысяч."
   ]
  },
  {
   "cell_type": "code",
   "execution_count": 16,
   "metadata": {},
   "outputs": [
    {
     "name": "stdout",
     "output_type": "stream",
     "text": [
      "<class 'pandas.core.frame.DataFrame'>\n",
      "Int64Index: 16444 entries, 0 to 16714\n",
      "Data columns (total 11 columns):\n",
      " #   Column           Non-Null Count  Dtype  \n",
      "---  ------           --------------  -----  \n",
      " 0   name             16444 non-null  object \n",
      " 1   platform         16444 non-null  object \n",
      " 2   year_of_release  16444 non-null  int64  \n",
      " 3   genre            16444 non-null  object \n",
      " 4   na_sales         16444 non-null  float32\n",
      " 5   eu_sales         16444 non-null  float32\n",
      " 6   jp_sales         16444 non-null  float32\n",
      " 7   other_sales      16444 non-null  float32\n",
      " 8   critic_score     7983 non-null   float32\n",
      " 9   user_score       7463 non-null   float32\n",
      " 10  rating           9768 non-null   object \n",
      "dtypes: float32(6), int64(1), object(4)\n",
      "memory usage: 1.1+ MB\n"
     ]
    }
   ],
   "source": [
    "data_games.drop(data_games[data_games['year_of_release'].isna()].index,inplace=True)\n",
    "data_games['year_of_release'] = pd.to_numeric(data_games['year_of_release'], downcast='integer')\n",
    "data_games['year_of_release'] = data_games['year_of_release'].astype('int64')\n",
    "data_games.info()"
   ]
  },
  {
   "cell_type": "code",
   "execution_count": 17,
   "metadata": {},
   "outputs": [],
   "source": [
    "#Заменим пропущенные значения на \"undefiend\"\n",
    "data_games[\"rating\"] = data_games['rating'].fillna(\"undefined\")"
   ]
  },
  {
   "cell_type": "markdown",
   "metadata": {},
   "source": [
    "### Удаление дубликатов"
   ]
  },
  {
   "cell_type": "code",
   "execution_count": 18,
   "metadata": {},
   "outputs": [
    {
     "name": "stdout",
     "output_type": "stream",
     "text": [
      "<class 'pandas.core.frame.DataFrame'>\n",
      "Int64Index: 16444 entries, 0 to 16714\n",
      "Data columns (total 11 columns):\n",
      " #   Column           Non-Null Count  Dtype  \n",
      "---  ------           --------------  -----  \n",
      " 0   name             16444 non-null  object \n",
      " 1   platform         16444 non-null  object \n",
      " 2   year_of_release  16444 non-null  int64  \n",
      " 3   genre            16444 non-null  object \n",
      " 4   na_sales         16444 non-null  float32\n",
      " 5   eu_sales         16444 non-null  float32\n",
      " 6   jp_sales         16444 non-null  float32\n",
      " 7   other_sales      16444 non-null  float32\n",
      " 8   critic_score     7983 non-null   float32\n",
      " 9   user_score       7463 non-null   float32\n",
      " 10  rating           16444 non-null  object \n",
      "dtypes: float32(6), int64(1), object(4)\n",
      "memory usage: 1.1+ MB\n"
     ]
    }
   ],
   "source": [
    "data_games.drop_duplicates()\n",
    "data_games.info()"
   ]
  },
  {
   "cell_type": "code",
   "execution_count": 19,
   "metadata": {},
   "outputs": [
    {
     "name": "stdout",
     "output_type": "stream",
     "text": [
      "<class 'pandas.core.frame.DataFrame'>\n",
      "Int64Index: 16444 entries, 0 to 16714\n",
      "Data columns (total 3 columns):\n",
      " #   Column           Non-Null Count  Dtype \n",
      "---  ------           --------------  ----- \n",
      " 0   name             16444 non-null  object\n",
      " 1   platform         16444 non-null  object\n",
      " 2   year_of_release  16444 non-null  int64 \n",
      "dtypes: int64(1), object(2)\n",
      "memory usage: 513.9+ KB\n"
     ]
    }
   ],
   "source": [
    "part_data_games = data_games.loc[:, 'name':'year_of_release']\n",
    "part_data_games.drop_duplicates()\n",
    "part_data_games.info()"
   ]
  },
  {
   "cell_type": "markdown",
   "metadata": {},
   "source": [
    "Посчитаем суммарные продажи во всех регионах и запишем их в отдельный столбец"
   ]
  },
  {
   "cell_type": "code",
   "execution_count": 20,
   "metadata": {},
   "outputs": [
    {
     "data": {
      "text/html": [
       "<div>\n",
       "<style scoped>\n",
       "    .dataframe tbody tr th:only-of-type {\n",
       "        vertical-align: middle;\n",
       "    }\n",
       "\n",
       "    .dataframe tbody tr th {\n",
       "        vertical-align: top;\n",
       "    }\n",
       "\n",
       "    .dataframe thead th {\n",
       "        text-align: right;\n",
       "    }\n",
       "</style>\n",
       "<table border=\"1\" class=\"dataframe\">\n",
       "  <thead>\n",
       "    <tr style=\"text-align: right;\">\n",
       "      <th></th>\n",
       "      <th>name</th>\n",
       "      <th>platform</th>\n",
       "      <th>year_of_release</th>\n",
       "      <th>genre</th>\n",
       "      <th>na_sales</th>\n",
       "      <th>eu_sales</th>\n",
       "      <th>jp_sales</th>\n",
       "      <th>other_sales</th>\n",
       "      <th>critic_score</th>\n",
       "      <th>user_score</th>\n",
       "      <th>rating</th>\n",
       "      <th>world_sales</th>\n",
       "    </tr>\n",
       "  </thead>\n",
       "  <tbody>\n",
       "    <tr>\n",
       "      <th>0</th>\n",
       "      <td>Wii Sports</td>\n",
       "      <td>Wii</td>\n",
       "      <td>2006</td>\n",
       "      <td>Sports</td>\n",
       "      <td>41.360001</td>\n",
       "      <td>28.959999</td>\n",
       "      <td>3.77</td>\n",
       "      <td>8.45</td>\n",
       "      <td>76.0</td>\n",
       "      <td>8.0</td>\n",
       "      <td>E</td>\n",
       "      <td>82.539993</td>\n",
       "    </tr>\n",
       "    <tr>\n",
       "      <th>1</th>\n",
       "      <td>Super Mario Bros.</td>\n",
       "      <td>NES</td>\n",
       "      <td>1985</td>\n",
       "      <td>Platform</td>\n",
       "      <td>29.080000</td>\n",
       "      <td>3.580000</td>\n",
       "      <td>6.81</td>\n",
       "      <td>0.77</td>\n",
       "      <td>NaN</td>\n",
       "      <td>NaN</td>\n",
       "      <td>undefined</td>\n",
       "      <td>40.240002</td>\n",
       "    </tr>\n",
       "    <tr>\n",
       "      <th>2</th>\n",
       "      <td>Mario Kart Wii</td>\n",
       "      <td>Wii</td>\n",
       "      <td>2008</td>\n",
       "      <td>Racing</td>\n",
       "      <td>15.680000</td>\n",
       "      <td>12.760000</td>\n",
       "      <td>3.79</td>\n",
       "      <td>3.29</td>\n",
       "      <td>82.0</td>\n",
       "      <td>8.3</td>\n",
       "      <td>E</td>\n",
       "      <td>35.520000</td>\n",
       "    </tr>\n",
       "    <tr>\n",
       "      <th>3</th>\n",
       "      <td>Wii Sports Resort</td>\n",
       "      <td>Wii</td>\n",
       "      <td>2009</td>\n",
       "      <td>Sports</td>\n",
       "      <td>15.610000</td>\n",
       "      <td>10.930000</td>\n",
       "      <td>3.28</td>\n",
       "      <td>2.95</td>\n",
       "      <td>80.0</td>\n",
       "      <td>8.0</td>\n",
       "      <td>E</td>\n",
       "      <td>32.770000</td>\n",
       "    </tr>\n",
       "    <tr>\n",
       "      <th>4</th>\n",
       "      <td>Pokemon Red/Pokemon Blue</td>\n",
       "      <td>GB</td>\n",
       "      <td>1996</td>\n",
       "      <td>Role-Playing</td>\n",
       "      <td>11.270000</td>\n",
       "      <td>8.890000</td>\n",
       "      <td>10.22</td>\n",
       "      <td>1.00</td>\n",
       "      <td>NaN</td>\n",
       "      <td>NaN</td>\n",
       "      <td>undefined</td>\n",
       "      <td>31.380001</td>\n",
       "    </tr>\n",
       "  </tbody>\n",
       "</table>\n",
       "</div>"
      ],
      "text/plain": [
       "                       name platform  year_of_release         genre  \\\n",
       "0                Wii Sports      Wii             2006        Sports   \n",
       "1         Super Mario Bros.      NES             1985      Platform   \n",
       "2            Mario Kart Wii      Wii             2008        Racing   \n",
       "3         Wii Sports Resort      Wii             2009        Sports   \n",
       "4  Pokemon Red/Pokemon Blue       GB             1996  Role-Playing   \n",
       "\n",
       "    na_sales   eu_sales  jp_sales  other_sales  critic_score  user_score  \\\n",
       "0  41.360001  28.959999      3.77         8.45          76.0         8.0   \n",
       "1  29.080000   3.580000      6.81         0.77           NaN         NaN   \n",
       "2  15.680000  12.760000      3.79         3.29          82.0         8.3   \n",
       "3  15.610000  10.930000      3.28         2.95          80.0         8.0   \n",
       "4  11.270000   8.890000     10.22         1.00           NaN         NaN   \n",
       "\n",
       "      rating  world_sales  \n",
       "0          E    82.539993  \n",
       "1  undefined    40.240002  \n",
       "2          E    35.520000  \n",
       "3          E    32.770000  \n",
       "4  undefined    31.380001  "
      ]
     },
     "execution_count": 20,
     "metadata": {},
     "output_type": "execute_result"
    }
   ],
   "source": [
    "data_games['world_sales'] = (data_games['na_sales'] + data_games['eu_sales'] \n",
    "                                   + data_games['jp_sales'] + data_games['other_sales'])\n",
    "data_games.head()"
   ]
  },
  {
   "cell_type": "markdown",
   "metadata": {},
   "source": [
    "Вывод:\n",
    "\n",
    "Произведена предобработка данных\n",
    "Название столбцов было приведено к нижнему регистру\n",
    "Восстановлены пропуски в строках, где это возможно\n",
    "Удалены строки с данными непригодными для аналеа\n",
    "Добавлен столбец суммарных продаж."
   ]
  },
  {
   "cell_type": "markdown",
   "metadata": {},
   "source": [
    "# Шаг 3: Исследовательский анализ данных"
   ]
  },
  {
   "cell_type": "markdown",
   "metadata": {},
   "source": [
    "Посмотрим, сколько игр выпускалось в разные годы. Важны ли данные за все периоды?"
   ]
  },
  {
   "cell_type": "code",
   "execution_count": 21,
   "metadata": {},
   "outputs": [
    {
     "data": {
      "text/plain": [
       "2008    1427\n",
       "2009    1426\n",
       "2010    1255\n",
       "2007    1197\n",
       "2011    1136\n",
       "2006    1006\n",
       "2005     939\n",
       "2002     829\n",
       "2003     775\n",
       "2004     762\n",
       "2012     653\n",
       "2015     606\n",
       "2014     581\n",
       "2013     544\n",
       "2016     502\n",
       "2001     482\n",
       "1998     379\n",
       "2000     350\n",
       "1999     338\n",
       "1997     289\n",
       "1996     263\n",
       "1995     219\n",
       "1994     121\n",
       "1993      60\n",
       "1981      46\n",
       "1992      43\n",
       "1991      41\n",
       "1982      36\n",
       "1986      21\n",
       "1983      17\n",
       "1989      17\n",
       "1990      16\n",
       "1987      16\n",
       "1988      15\n",
       "1985      14\n",
       "1984      14\n",
       "1980       9\n",
       "Name: year_of_release, dtype: int64"
      ]
     },
     "execution_count": 21,
     "metadata": {},
     "output_type": "execute_result"
    }
   ],
   "source": [
    "data_games['year_of_release'].value_counts()"
   ]
  },
  {
   "cell_type": "code",
   "execution_count": 22,
   "metadata": {},
   "outputs": [
    {
     "name": "stdout",
     "output_type": "stream",
     "text": [
      "                 games_count\n",
      "year_of_release             \n",
      "1980                       9\n",
      "1981                      46\n",
      "1982                      36\n",
      "1983                      17\n",
      "1984                      14\n",
      "1985                      14\n",
      "1986                      21\n",
      "1987                      16\n",
      "1988                      15\n",
      "1989                      17\n",
      "1990                      16\n",
      "1991                      41\n",
      "1992                      43\n",
      "1993                      60\n",
      "1994                     121\n",
      "1995                     219\n",
      "1996                     263\n",
      "1997                     289\n",
      "1998                     379\n",
      "1999                     338\n",
      "2000                     350\n",
      "2001                     482\n",
      "2002                     829\n",
      "2003                     775\n",
      "2004                     762\n",
      "2005                     939\n",
      "2006                    1006\n",
      "2007                    1197\n",
      "2008                    1427\n",
      "2009                    1426\n",
      "2010                    1255\n",
      "2011                    1136\n",
      "2012                     653\n",
      "2013                     544\n",
      "2014                     581\n",
      "2015                     606\n",
      "2016                     502\n"
     ]
    },
    {
     "data": {
      "image/png": "[encoded data removed]",
      "text/plain": [
       "<Figure size 432x288 with 1 Axes>"
      ]
     },
     "metadata": {
      "needs_background": "light"
     },
     "output_type": "display_data"
    }
   ],
   "source": [
    "year_of_release_pivot_table = pd.pivot_table(data_games, index='year_of_release', values='name', aggfunc='count')\n",
    "year_of_release_pivot_table.columns = ['games_count']\n",
    "print(year_of_release_pivot_table)\n",
    "year_of_release_pivot_table.plot()\n",
    "\n",
    "plt.title('Кол-во выпущенных игр в разные года')\n",
    "plt.xlabel('Год')\n",
    "plt.ylabel('Кол-во игр')\n",
    "plt.grid()\n",
    "plt.show()\n"
   ]
  },
  {
   "cell_type": "markdown",
   "metadata": {},
   "source": [
    "Данные за весь период не важны.\n",
    "\n",
    "С 1980 годов по 1993 было выпущено мало игр, маленькие охваты. Далее появился персональный компьютер и начался рост выпуска игр.\n",
    "\n",
    "В 2002 году есть небольшой всплеск выпуска игр. Это может быть связано с выпуском новых движков и развития программирования.\n",
    "\n",
    "Есть пик в 2009 году. \n",
    "\n",
    "Спад индустрии игр с 2012 по 2016 обусловлен экономическим кризисом и требованиями покупателей, как следствие долгой разработкой игр. "
   ]
  },
  {
   "cell_type": "markdown",
   "metadata": {},
   "source": [
    "Посмотрим, как менялись продажи по платформам. Выберем платформы с наибольшими суммарными продажами и построем распределение по годам. За какой характерный срок появляются новые и исчезают старые платформы?"
   ]
  },
  {
   "cell_type": "code",
   "execution_count": 23,
   "metadata": {},
   "outputs": [
    {
     "data": {
      "text/html": [
       "<div>\n",
       "<style scoped>\n",
       "    .dataframe tbody tr th:only-of-type {\n",
       "        vertical-align: middle;\n",
       "    }\n",
       "\n",
       "    .dataframe tbody tr th {\n",
       "        vertical-align: top;\n",
       "    }\n",
       "\n",
       "    .dataframe thead th {\n",
       "        text-align: right;\n",
       "    }\n",
       "</style>\n",
       "<table border=\"1\" class=\"dataframe\">\n",
       "  <thead>\n",
       "    <tr style=\"text-align: right;\">\n",
       "      <th></th>\n",
       "      <th>world_sales</th>\n",
       "    </tr>\n",
       "    <tr>\n",
       "      <th>platform</th>\n",
       "      <th></th>\n",
       "    </tr>\n",
       "  </thead>\n",
       "  <tbody>\n",
       "    <tr>\n",
       "      <th>PS2</th>\n",
       "      <td>1233.559937</td>\n",
       "    </tr>\n",
       "    <tr>\n",
       "      <th>X360</th>\n",
       "      <td>961.239990</td>\n",
       "    </tr>\n",
       "    <tr>\n",
       "      <th>PS3</th>\n",
       "      <td>931.339966</td>\n",
       "    </tr>\n",
       "    <tr>\n",
       "      <th>Wii</th>\n",
       "      <td>891.179993</td>\n",
       "    </tr>\n",
       "    <tr>\n",
       "      <th>DS</th>\n",
       "      <td>802.780029</td>\n",
       "    </tr>\n",
       "    <tr>\n",
       "      <th>PS</th>\n",
       "      <td>727.580017</td>\n",
       "    </tr>\n",
       "    <tr>\n",
       "      <th>PS4</th>\n",
       "      <td>314.140015</td>\n",
       "    </tr>\n",
       "    <tr>\n",
       "      <th>GBA</th>\n",
       "      <td>312.880005</td>\n",
       "    </tr>\n",
       "    <tr>\n",
       "      <th>PSP</th>\n",
       "      <td>289.529999</td>\n",
       "    </tr>\n",
       "    <tr>\n",
       "      <th>3DS</th>\n",
       "      <td>257.809998</td>\n",
       "    </tr>\n",
       "    <tr>\n",
       "      <th>PC</th>\n",
       "      <td>255.759995</td>\n",
       "    </tr>\n",
       "    <tr>\n",
       "      <th>GB</th>\n",
       "      <td>254.429993</td>\n",
       "    </tr>\n",
       "    <tr>\n",
       "      <th>XB</th>\n",
       "      <td>251.569992</td>\n",
       "    </tr>\n",
       "    <tr>\n",
       "      <th>NES</th>\n",
       "      <td>251.050003</td>\n",
       "    </tr>\n",
       "    <tr>\n",
       "      <th>N64</th>\n",
       "      <td>218.009995</td>\n",
       "    </tr>\n",
       "    <tr>\n",
       "      <th>SNES</th>\n",
       "      <td>200.039993</td>\n",
       "    </tr>\n",
       "    <tr>\n",
       "      <th>GC</th>\n",
       "      <td>196.729996</td>\n",
       "    </tr>\n",
       "    <tr>\n",
       "      <th>XOne</th>\n",
       "      <td>159.320007</td>\n",
       "    </tr>\n",
       "    <tr>\n",
       "      <th>2600</th>\n",
       "      <td>86.480003</td>\n",
       "    </tr>\n",
       "    <tr>\n",
       "      <th>WiiU</th>\n",
       "      <td>82.190002</td>\n",
       "    </tr>\n",
       "    <tr>\n",
       "      <th>PSV</th>\n",
       "      <td>53.810001</td>\n",
       "    </tr>\n",
       "    <tr>\n",
       "      <th>SAT</th>\n",
       "      <td>33.590000</td>\n",
       "    </tr>\n",
       "    <tr>\n",
       "      <th>GEN</th>\n",
       "      <td>28.350000</td>\n",
       "    </tr>\n",
       "    <tr>\n",
       "      <th>DC</th>\n",
       "      <td>15.950000</td>\n",
       "    </tr>\n",
       "    <tr>\n",
       "      <th>SCD</th>\n",
       "      <td>1.860000</td>\n",
       "    </tr>\n",
       "    <tr>\n",
       "      <th>NG</th>\n",
       "      <td>1.440000</td>\n",
       "    </tr>\n",
       "    <tr>\n",
       "      <th>WS</th>\n",
       "      <td>1.420000</td>\n",
       "    </tr>\n",
       "    <tr>\n",
       "      <th>TG16</th>\n",
       "      <td>0.160000</td>\n",
       "    </tr>\n",
       "    <tr>\n",
       "      <th>3DO</th>\n",
       "      <td>0.100000</td>\n",
       "    </tr>\n",
       "    <tr>\n",
       "      <th>GG</th>\n",
       "      <td>0.040000</td>\n",
       "    </tr>\n",
       "    <tr>\n",
       "      <th>PCFX</th>\n",
       "      <td>0.030000</td>\n",
       "    </tr>\n",
       "  </tbody>\n",
       "</table>\n",
       "</div>"
      ],
      "text/plain": [
       "          world_sales\n",
       "platform             \n",
       "PS2       1233.559937\n",
       "X360       961.239990\n",
       "PS3        931.339966\n",
       "Wii        891.179993\n",
       "DS         802.780029\n",
       "PS         727.580017\n",
       "PS4        314.140015\n",
       "GBA        312.880005\n",
       "PSP        289.529999\n",
       "3DS        257.809998\n",
       "PC         255.759995\n",
       "GB         254.429993\n",
       "XB         251.569992\n",
       "NES        251.050003\n",
       "N64        218.009995\n",
       "SNES       200.039993\n",
       "GC         196.729996\n",
       "XOne       159.320007\n",
       "2600        86.480003\n",
       "WiiU        82.190002\n",
       "PSV         53.810001\n",
       "SAT         33.590000\n",
       "GEN         28.350000\n",
       "DC          15.950000\n",
       "SCD          1.860000\n",
       "NG           1.440000\n",
       "WS           1.420000\n",
       "TG16         0.160000\n",
       "3DO          0.100000\n",
       "GG           0.040000\n",
       "PCFX         0.030000"
      ]
     },
     "execution_count": 23,
     "metadata": {},
     "output_type": "execute_result"
    }
   ],
   "source": [
    "platform_pivot_table = pd.pivot_table(data_games, index=['platform'], values='world_sales', aggfunc='sum')\n",
    "platform_pivot_table = platform_pivot_table.sort_values('world_sales',ascending=False)\n",
    "platform_pivot_table"
   ]
  },
  {
   "cell_type": "code",
   "execution_count": 24,
   "metadata": {},
   "outputs": [
    {
     "data": {
      "text/plain": [
       "['PS2', 'X360', 'PS3', 'Wii', 'DS', 'PS']"
      ]
     },
     "execution_count": 24,
     "metadata": {},
     "output_type": "execute_result"
    }
   ],
   "source": [
    "# Рассмотрим первую шестерку, так как потом спад почти на половину\n",
    "best_sales_platform = list(platform_pivot_table.index[:6])\n",
    "best_sales_platform"
   ]
  },
  {
   "cell_type": "code",
   "execution_count": 25,
   "metadata": {},
   "outputs": [
    {
     "name": "stdout",
     "output_type": "stream",
     "text": [
      "Платформа PS2\n",
      "                          world_sales\n",
      "platform year_of_release             \n",
      "PS2      2000               39.170002\n",
      "         2001              166.430008\n",
      "         2002              205.380005\n",
      "         2003              184.309998\n",
      "         2004              211.809998\n",
      "         2005              160.660004\n",
      "         2006              103.419998\n",
      "         2007               75.989998\n",
      "         2008               53.900002\n",
      "         2009               26.400000\n",
      "         2010                5.640000\n",
      "         2011                0.450000\n",
      "\n",
      "Платформа X360\n",
      "                          world_sales\n",
      "platform year_of_release             \n",
      "X360     2005                8.250000\n",
      "         2006               51.619999\n",
      "         2007               95.409996\n",
      "         2008              135.259995\n",
      "         2009              120.290001\n",
      "         2010              170.029999\n",
      "         2011              143.839996\n",
      "         2012               99.739998\n",
      "         2013               88.580002\n",
      "         2014               34.740002\n",
      "         2015               11.960000\n",
      "         2016                1.520000\n",
      "\n",
      "Платформа PS3\n",
      "                          world_sales\n",
      "platform year_of_release             \n",
      "PS3      2006               20.960001\n",
      "         2007               73.190002\n",
      "         2008              118.519997\n",
      "         2009              130.930008\n",
      "         2010              142.169998\n",
      "         2011              156.779999\n",
      "         2012              107.360001\n",
      "         2013              113.250000\n",
      "         2014               47.759998\n",
      "         2015               16.820000\n",
      "         2016                3.600000\n",
      "\n",
      "Платформа Wii\n",
      "                          world_sales\n",
      "platform year_of_release             \n",
      "Wii      2006              137.149994\n",
      "         2007              152.770004\n",
      "         2008              171.320007\n",
      "         2009              206.970001\n",
      "         2010              127.949997\n",
      "         2011               59.649998\n",
      "         2012               21.710001\n",
      "         2013                8.590000\n",
      "         2014                3.750000\n",
      "         2015                1.140000\n",
      "         2016                0.180000\n",
      "\n",
      "Платформа DS\n",
      "                          world_sales\n",
      "platform year_of_release             \n",
      "DS       1985                0.020000\n",
      "         2004               17.270000\n",
      "         2005              130.139999\n",
      "         2006              119.809998\n",
      "         2007              146.940002\n",
      "         2008              145.309998\n",
      "         2009              119.540001\n",
      "         2010               85.019997\n",
      "         2011               26.180000\n",
      "         2012               11.010000\n",
      "         2013                1.540000\n",
      "\n",
      "Платформа PS\n",
      "                          world_sales\n",
      "platform year_of_release             \n",
      "PS       1994                6.030000\n",
      "         1995               35.959999\n",
      "         1996               94.700005\n",
      "         1997              136.169998\n",
      "         1998              169.490005\n",
      "         1999              144.529999\n",
      "         2000               96.370003\n",
      "         2001               35.590000\n",
      "         2002                6.670000\n",
      "         2003                2.070000\n",
      "\n"
     ]
    }
   ],
   "source": [
    "for platform in best_sales_platform:\n",
    "    print('Платформа', platform)\n",
    "    platform_pivot_table = pd.pivot_table(data_games.query('platform == @platform'), index=['platform','year_of_release'], values='world_sales', aggfunc='sum')\n",
    "    print(platform_pivot_table)\n",
    "    print()"
   ]
  },
  {
   "cell_type": "code",
   "execution_count": 26,
   "metadata": {},
   "outputs": [
    {
     "name": "stdout",
     "output_type": "stream",
     "text": [
      "Платформа  PS4\n",
      "                          world_sales\n",
      "platform year_of_release             \n",
      "PS4      2013               25.990000\n",
      "         2014              100.000000\n",
      "         2015              118.900002\n",
      "         2016               69.250000\n",
      "\n"
     ]
    }
   ],
   "source": [
    "#  Рассмотрим данные для PS4 для полной картины\n",
    "print('Платформа ','PS4')\n",
    "platform_pivot_table = pd.pivot_table(data_games.query('platform == \"PS4\"'), \n",
    "                                            index=['platform','year_of_release'], \n",
    "                                            values='world_sales', aggfunc='sum')\n",
    "print(platform_pivot_table)\n",
    "print()"
   ]
  },
  {
   "cell_type": "markdown",
   "metadata": {},
   "source": [
    "Самые популярные платформы используются в течение 8-12 лет. В список популярных платформ попали несколько поколений PS. \n",
    "\n",
    "PS 1994-2003\n",
    "PS2 2000-2011\n",
    "PS3 2006-2016\n",
    "PS4 2013-2016\n",
    "\n",
    "Каждые 6 лет примерно выпускались платформы. И примерно 3-5 лет существует предыдущая версия платформ."
   ]
  },
  {
   "cell_type": "markdown",
   "metadata": {},
   "source": [
    "3 вопрос и 4 вопрос. Возьмем данные за соответствующий актуальный период. \n",
    "Возьмем данные с 2013 по 2016. Так как если игра создается в течение 2-4 лет, то в 2017 год будут игры, которые начали разрабатывать в 2013 году. PS4 просуществует на рынке еще 2-4 года и топ продаж придется как раз на 2017 год. \n",
    "После 2013 года падение суммарных продаж, что произошло скорее всего в следствие того, что появилась тенденция уделять больше внимания качеству игры. "
   ]
  },
  {
   "cell_type": "code",
   "execution_count": 27,
   "metadata": {},
   "outputs": [
    {
     "name": "stdout",
     "output_type": "stream",
     "text": [
      "<class 'pandas.core.frame.DataFrame'>\n",
      "Int64Index: 2233 entries, 16 to 16714\n",
      "Data columns (total 12 columns):\n",
      " #   Column           Non-Null Count  Dtype  \n",
      "---  ------           --------------  -----  \n",
      " 0   name             2233 non-null   object \n",
      " 1   platform         2233 non-null   object \n",
      " 2   year_of_release  2233 non-null   int64  \n",
      " 3   genre            2233 non-null   object \n",
      " 4   na_sales         2233 non-null   float32\n",
      " 5   eu_sales         2233 non-null   float32\n",
      " 6   jp_sales         2233 non-null   float32\n",
      " 7   other_sales      2233 non-null   float32\n",
      " 8   critic_score     991 non-null    float32\n",
      " 9   user_score       1192 non-null   float32\n",
      " 10  rating           2233 non-null   object \n",
      " 11  world_sales      2233 non-null   float32\n",
      "dtypes: float32(7), int64(1), object(4)\n",
      "memory usage: 165.7+ KB\n"
     ]
    }
   ],
   "source": [
    "actual_data_games = data_games.query('year_of_release > 2012')\n",
    "actual_data_games.info()"
   ]
  },
  {
   "cell_type": "code",
   "execution_count": 28,
   "metadata": {},
   "outputs": [
    {
     "data": {
      "text/html": [
       "<div>\n",
       "<style scoped>\n",
       "    .dataframe tbody tr th:only-of-type {\n",
       "        vertical-align: middle;\n",
       "    }\n",
       "\n",
       "    .dataframe tbody tr th {\n",
       "        vertical-align: top;\n",
       "    }\n",
       "\n",
       "    .dataframe thead th {\n",
       "        text-align: right;\n",
       "    }\n",
       "</style>\n",
       "<table border=\"1\" class=\"dataframe\">\n",
       "  <thead>\n",
       "    <tr style=\"text-align: right;\">\n",
       "      <th></th>\n",
       "      <th>name</th>\n",
       "      <th>platform</th>\n",
       "      <th>year_of_release</th>\n",
       "      <th>genre</th>\n",
       "      <th>na_sales</th>\n",
       "      <th>eu_sales</th>\n",
       "      <th>jp_sales</th>\n",
       "      <th>other_sales</th>\n",
       "      <th>critic_score</th>\n",
       "      <th>user_score</th>\n",
       "      <th>rating</th>\n",
       "      <th>world_sales</th>\n",
       "    </tr>\n",
       "  </thead>\n",
       "  <tbody>\n",
       "    <tr>\n",
       "      <th>16</th>\n",
       "      <td>Grand Theft Auto V</td>\n",
       "      <td>PS3</td>\n",
       "      <td>2013</td>\n",
       "      <td>Action</td>\n",
       "      <td>7.02</td>\n",
       "      <td>9.09</td>\n",
       "      <td>0.98</td>\n",
       "      <td>3.96</td>\n",
       "      <td>97.0</td>\n",
       "      <td>8.2</td>\n",
       "      <td>M</td>\n",
       "      <td>21.049999</td>\n",
       "    </tr>\n",
       "    <tr>\n",
       "      <th>23</th>\n",
       "      <td>Grand Theft Auto V</td>\n",
       "      <td>X360</td>\n",
       "      <td>2013</td>\n",
       "      <td>Action</td>\n",
       "      <td>9.66</td>\n",
       "      <td>5.14</td>\n",
       "      <td>0.06</td>\n",
       "      <td>1.41</td>\n",
       "      <td>97.0</td>\n",
       "      <td>8.1</td>\n",
       "      <td>M</td>\n",
       "      <td>16.270000</td>\n",
       "    </tr>\n",
       "    <tr>\n",
       "      <th>31</th>\n",
       "      <td>Call of Duty: Black Ops 3</td>\n",
       "      <td>PS4</td>\n",
       "      <td>2015</td>\n",
       "      <td>Shooter</td>\n",
       "      <td>6.03</td>\n",
       "      <td>5.86</td>\n",
       "      <td>0.36</td>\n",
       "      <td>2.38</td>\n",
       "      <td>NaN</td>\n",
       "      <td>NaN</td>\n",
       "      <td>undefined</td>\n",
       "      <td>14.630000</td>\n",
       "    </tr>\n",
       "    <tr>\n",
       "      <th>33</th>\n",
       "      <td>Pokemon X/Pokemon Y</td>\n",
       "      <td>3DS</td>\n",
       "      <td>2013</td>\n",
       "      <td>Role-Playing</td>\n",
       "      <td>5.28</td>\n",
       "      <td>4.19</td>\n",
       "      <td>4.35</td>\n",
       "      <td>0.78</td>\n",
       "      <td>NaN</td>\n",
       "      <td>NaN</td>\n",
       "      <td>undefined</td>\n",
       "      <td>14.599999</td>\n",
       "    </tr>\n",
       "    <tr>\n",
       "      <th>42</th>\n",
       "      <td>Grand Theft Auto V</td>\n",
       "      <td>PS4</td>\n",
       "      <td>2014</td>\n",
       "      <td>Action</td>\n",
       "      <td>3.96</td>\n",
       "      <td>6.31</td>\n",
       "      <td>0.38</td>\n",
       "      <td>1.97</td>\n",
       "      <td>97.0</td>\n",
       "      <td>8.3</td>\n",
       "      <td>M</td>\n",
       "      <td>12.620001</td>\n",
       "    </tr>\n",
       "  </tbody>\n",
       "</table>\n",
       "</div>"
      ],
      "text/plain": [
       "                         name platform  year_of_release         genre  \\\n",
       "16         Grand Theft Auto V      PS3             2013        Action   \n",
       "23         Grand Theft Auto V     X360             2013        Action   \n",
       "31  Call of Duty: Black Ops 3      PS4             2015       Shooter   \n",
       "33        Pokemon X/Pokemon Y      3DS             2013  Role-Playing   \n",
       "42         Grand Theft Auto V      PS4             2014        Action   \n",
       "\n",
       "    na_sales  eu_sales  jp_sales  other_sales  critic_score  user_score  \\\n",
       "16      7.02      9.09      0.98         3.96          97.0         8.2   \n",
       "23      9.66      5.14      0.06         1.41          97.0         8.1   \n",
       "31      6.03      5.86      0.36         2.38           NaN         NaN   \n",
       "33      5.28      4.19      4.35         0.78           NaN         NaN   \n",
       "42      3.96      6.31      0.38         1.97          97.0         8.3   \n",
       "\n",
       "       rating  world_sales  \n",
       "16          M    21.049999  \n",
       "23          M    16.270000  \n",
       "31  undefined    14.630000  \n",
       "33  undefined    14.599999  \n",
       "42          M    12.620001  "
      ]
     },
     "execution_count": 28,
     "metadata": {},
     "output_type": "execute_result"
    }
   ],
   "source": [
    "actual_data_games.head()"
   ]
  },
  {
   "cell_type": "markdown",
   "metadata": {},
   "source": [
    "5 вопрос. Определим самые прибыльные платформы за актуальный период"
   ]
  },
  {
   "cell_type": "code",
   "execution_count": 29,
   "metadata": {},
   "outputs": [
    {
     "data": {
      "text/html": [
       "<div>\n",
       "<style scoped>\n",
       "    .dataframe tbody tr th:only-of-type {\n",
       "        vertical-align: middle;\n",
       "    }\n",
       "\n",
       "    .dataframe tbody tr th {\n",
       "        vertical-align: top;\n",
       "    }\n",
       "\n",
       "    .dataframe thead th {\n",
       "        text-align: right;\n",
       "    }\n",
       "</style>\n",
       "<table border=\"1\" class=\"dataframe\">\n",
       "  <thead>\n",
       "    <tr style=\"text-align: right;\">\n",
       "      <th></th>\n",
       "      <th></th>\n",
       "      <th>world_sales</th>\n",
       "    </tr>\n",
       "    <tr>\n",
       "      <th>platform</th>\n",
       "      <th>year_of_release</th>\n",
       "      <th></th>\n",
       "    </tr>\n",
       "  </thead>\n",
       "  <tbody>\n",
       "    <tr>\n",
       "      <th rowspan=\"4\" valign=\"top\">3DS</th>\n",
       "      <th>2013</th>\n",
       "      <td>56.570000</td>\n",
       "    </tr>\n",
       "    <tr>\n",
       "      <th>2014</th>\n",
       "      <td>43.759998</td>\n",
       "    </tr>\n",
       "    <tr>\n",
       "      <th>2015</th>\n",
       "      <td>27.780001</td>\n",
       "    </tr>\n",
       "    <tr>\n",
       "      <th>2016</th>\n",
       "      <td>15.140000</td>\n",
       "    </tr>\n",
       "    <tr>\n",
       "      <th>DS</th>\n",
       "      <th>2013</th>\n",
       "      <td>1.540000</td>\n",
       "    </tr>\n",
       "    <tr>\n",
       "      <th rowspan=\"4\" valign=\"top\">PC</th>\n",
       "      <th>2013</th>\n",
       "      <td>12.380000</td>\n",
       "    </tr>\n",
       "    <tr>\n",
       "      <th>2014</th>\n",
       "      <td>13.280001</td>\n",
       "    </tr>\n",
       "    <tr>\n",
       "      <th>2015</th>\n",
       "      <td>8.520000</td>\n",
       "    </tr>\n",
       "    <tr>\n",
       "      <th>2016</th>\n",
       "      <td>5.250000</td>\n",
       "    </tr>\n",
       "    <tr>\n",
       "      <th rowspan=\"4\" valign=\"top\">PS3</th>\n",
       "      <th>2013</th>\n",
       "      <td>113.250000</td>\n",
       "    </tr>\n",
       "    <tr>\n",
       "      <th>2014</th>\n",
       "      <td>47.759998</td>\n",
       "    </tr>\n",
       "    <tr>\n",
       "      <th>2015</th>\n",
       "      <td>16.820000</td>\n",
       "    </tr>\n",
       "    <tr>\n",
       "      <th>2016</th>\n",
       "      <td>3.600000</td>\n",
       "    </tr>\n",
       "    <tr>\n",
       "      <th rowspan=\"4\" valign=\"top\">PS4</th>\n",
       "      <th>2013</th>\n",
       "      <td>25.990000</td>\n",
       "    </tr>\n",
       "    <tr>\n",
       "      <th>2014</th>\n",
       "      <td>100.000000</td>\n",
       "    </tr>\n",
       "    <tr>\n",
       "      <th>2015</th>\n",
       "      <td>118.900002</td>\n",
       "    </tr>\n",
       "    <tr>\n",
       "      <th>2016</th>\n",
       "      <td>69.250000</td>\n",
       "    </tr>\n",
       "    <tr>\n",
       "      <th rowspan=\"3\" valign=\"top\">PSP</th>\n",
       "      <th>2013</th>\n",
       "      <td>3.140000</td>\n",
       "    </tr>\n",
       "    <tr>\n",
       "      <th>2014</th>\n",
       "      <td>0.240000</td>\n",
       "    </tr>\n",
       "    <tr>\n",
       "      <th>2015</th>\n",
       "      <td>0.120000</td>\n",
       "    </tr>\n",
       "    <tr>\n",
       "      <th rowspan=\"4\" valign=\"top\">PSV</th>\n",
       "      <th>2013</th>\n",
       "      <td>10.590000</td>\n",
       "    </tr>\n",
       "    <tr>\n",
       "      <th>2014</th>\n",
       "      <td>11.900000</td>\n",
       "    </tr>\n",
       "    <tr>\n",
       "      <th>2015</th>\n",
       "      <td>6.250000</td>\n",
       "    </tr>\n",
       "    <tr>\n",
       "      <th>2016</th>\n",
       "      <td>4.250000</td>\n",
       "    </tr>\n",
       "    <tr>\n",
       "      <th rowspan=\"4\" valign=\"top\">Wii</th>\n",
       "      <th>2013</th>\n",
       "      <td>8.590000</td>\n",
       "    </tr>\n",
       "    <tr>\n",
       "      <th>2014</th>\n",
       "      <td>3.750000</td>\n",
       "    </tr>\n",
       "    <tr>\n",
       "      <th>2015</th>\n",
       "      <td>1.140000</td>\n",
       "    </tr>\n",
       "    <tr>\n",
       "      <th>2016</th>\n",
       "      <td>0.180000</td>\n",
       "    </tr>\n",
       "    <tr>\n",
       "      <th rowspan=\"4\" valign=\"top\">WiiU</th>\n",
       "      <th>2013</th>\n",
       "      <td>21.650000</td>\n",
       "    </tr>\n",
       "    <tr>\n",
       "      <th>2014</th>\n",
       "      <td>22.030001</td>\n",
       "    </tr>\n",
       "    <tr>\n",
       "      <th>2015</th>\n",
       "      <td>16.350000</td>\n",
       "    </tr>\n",
       "    <tr>\n",
       "      <th>2016</th>\n",
       "      <td>4.600000</td>\n",
       "    </tr>\n",
       "    <tr>\n",
       "      <th rowspan=\"4\" valign=\"top\">X360</th>\n",
       "      <th>2013</th>\n",
       "      <td>88.580002</td>\n",
       "    </tr>\n",
       "    <tr>\n",
       "      <th>2014</th>\n",
       "      <td>34.740002</td>\n",
       "    </tr>\n",
       "    <tr>\n",
       "      <th>2015</th>\n",
       "      <td>11.960000</td>\n",
       "    </tr>\n",
       "    <tr>\n",
       "      <th>2016</th>\n",
       "      <td>1.520000</td>\n",
       "    </tr>\n",
       "    <tr>\n",
       "      <th rowspan=\"4\" valign=\"top\">XOne</th>\n",
       "      <th>2013</th>\n",
       "      <td>18.960001</td>\n",
       "    </tr>\n",
       "    <tr>\n",
       "      <th>2014</th>\n",
       "      <td>54.070000</td>\n",
       "    </tr>\n",
       "    <tr>\n",
       "      <th>2015</th>\n",
       "      <td>60.139999</td>\n",
       "    </tr>\n",
       "    <tr>\n",
       "      <th>2016</th>\n",
       "      <td>26.150000</td>\n",
       "    </tr>\n",
       "  </tbody>\n",
       "</table>\n",
       "</div>"
      ],
      "text/plain": [
       "                          world_sales\n",
       "platform year_of_release             \n",
       "3DS      2013               56.570000\n",
       "         2014               43.759998\n",
       "         2015               27.780001\n",
       "         2016               15.140000\n",
       "DS       2013                1.540000\n",
       "PC       2013               12.380000\n",
       "         2014               13.280001\n",
       "         2015                8.520000\n",
       "         2016                5.250000\n",
       "PS3      2013              113.250000\n",
       "         2014               47.759998\n",
       "         2015               16.820000\n",
       "         2016                3.600000\n",
       "PS4      2013               25.990000\n",
       "         2014              100.000000\n",
       "         2015              118.900002\n",
       "         2016               69.250000\n",
       "PSP      2013                3.140000\n",
       "         2014                0.240000\n",
       "         2015                0.120000\n",
       "PSV      2013               10.590000\n",
       "         2014               11.900000\n",
       "         2015                6.250000\n",
       "         2016                4.250000\n",
       "Wii      2013                8.590000\n",
       "         2014                3.750000\n",
       "         2015                1.140000\n",
       "         2016                0.180000\n",
       "WiiU     2013               21.650000\n",
       "         2014               22.030001\n",
       "         2015               16.350000\n",
       "         2016                4.600000\n",
       "X360     2013               88.580002\n",
       "         2014               34.740002\n",
       "         2015               11.960000\n",
       "         2016                1.520000\n",
       "XOne     2013               18.960001\n",
       "         2014               54.070000\n",
       "         2015               60.139999\n",
       "         2016               26.150000"
      ]
     },
     "execution_count": 29,
     "metadata": {},
     "output_type": "execute_result"
    }
   ],
   "source": [
    "# составим таблицу только по платформам, годам и продажам\n",
    "best_sales_platform = pd.pivot_table(actual_data_games, index=['platform','year_of_release'], \n",
    "                                     values='world_sales', aggfunc = 'sum')\n",
    "best_sales_platform"
   ]
  },
  {
   "cell_type": "code",
   "execution_count": 30,
   "metadata": {},
   "outputs": [
    {
     "data": {
      "text/html": [
       "<div>\n",
       "<style scoped>\n",
       "    .dataframe tbody tr th:only-of-type {\n",
       "        vertical-align: middle;\n",
       "    }\n",
       "\n",
       "    .dataframe tbody tr th {\n",
       "        vertical-align: top;\n",
       "    }\n",
       "\n",
       "    .dataframe thead th {\n",
       "        text-align: right;\n",
       "    }\n",
       "</style>\n",
       "<table border=\"1\" class=\"dataframe\">\n",
       "  <thead>\n",
       "    <tr style=\"text-align: right;\">\n",
       "      <th></th>\n",
       "      <th>world_sales</th>\n",
       "    </tr>\n",
       "    <tr>\n",
       "      <th>platform</th>\n",
       "      <th></th>\n",
       "    </tr>\n",
       "  </thead>\n",
       "  <tbody>\n",
       "    <tr>\n",
       "      <th>PS4</th>\n",
       "      <td>314.140015</td>\n",
       "    </tr>\n",
       "    <tr>\n",
       "      <th>PS3</th>\n",
       "      <td>181.429993</td>\n",
       "    </tr>\n",
       "    <tr>\n",
       "      <th>XOne</th>\n",
       "      <td>159.320007</td>\n",
       "    </tr>\n",
       "    <tr>\n",
       "      <th>3DS</th>\n",
       "      <td>143.250000</td>\n",
       "    </tr>\n",
       "    <tr>\n",
       "      <th>X360</th>\n",
       "      <td>136.800003</td>\n",
       "    </tr>\n",
       "    <tr>\n",
       "      <th>WiiU</th>\n",
       "      <td>64.629997</td>\n",
       "    </tr>\n",
       "    <tr>\n",
       "      <th>PC</th>\n",
       "      <td>39.430000</td>\n",
       "    </tr>\n",
       "    <tr>\n",
       "      <th>PSV</th>\n",
       "      <td>32.989998</td>\n",
       "    </tr>\n",
       "    <tr>\n",
       "      <th>Wii</th>\n",
       "      <td>13.660000</td>\n",
       "    </tr>\n",
       "    <tr>\n",
       "      <th>PSP</th>\n",
       "      <td>3.500000</td>\n",
       "    </tr>\n",
       "    <tr>\n",
       "      <th>DS</th>\n",
       "      <td>1.540000</td>\n",
       "    </tr>\n",
       "  </tbody>\n",
       "</table>\n",
       "</div>"
      ],
      "text/plain": [
       "          world_sales\n",
       "platform             \n",
       "PS4        314.140015\n",
       "PS3        181.429993\n",
       "XOne       159.320007\n",
       "3DS        143.250000\n",
       "X360       136.800003\n",
       "WiiU        64.629997\n",
       "PC          39.430000\n",
       "PSV         32.989998\n",
       "Wii         13.660000\n",
       "PSP          3.500000\n",
       "DS           1.540000"
      ]
     },
     "execution_count": 30,
     "metadata": {},
     "output_type": "execute_result"
    }
   ],
   "source": [
    "# составим рейтинг, проссумируем продажи для платформ по годам\n",
    "best_sales_platform = pd.pivot_table(actual_data_games, index='platform', \n",
    "                                     values='world_sales', aggfunc = 'sum')\n",
    "best_sales_platform.sort_values('world_sales', ascending=False)"
   ]
  },
  {
   "cell_type": "markdown",
   "metadata": {},
   "source": [
    "Топ 5 платформ по миру: PS4, PS3, XOne, 3DS и X360. \n",
    "\n",
    "Продажи растут у PS4, XOne, WiiU и PSV, PC. Продажи падают у приставок PS3, X360, DS, Wii и PSP - это приставки предудыщего поколения.\n",
    "\n",
    "Потенциально прибыльные - платформы нового поколения"
   ]
  },
  {
   "cell_type": "markdown",
   "metadata": {},
   "source": [
    "6 вопрос. Построем график «ящик с усами» по глобальным продажам игр в разбивке по платформам. Опишем результат."
   ]
  },
  {
   "cell_type": "code",
   "execution_count": 31,
   "metadata": {},
   "outputs": [
    {
     "data": {
      "text/plain": [
       "(0.0, 5.0)"
      ]
     },
     "execution_count": 31,
     "metadata": {},
     "output_type": "execute_result"
    },
    {
     "data": {
      "image/png": "[encoded data removed]",
      "text/plain": [
       "<Figure size 1080x1080 with 1 Axes>"
      ]
     },
     "metadata": {
      "needs_background": "light"
     },
     "output_type": "display_data"
    }
   ],
   "source": [
    "boxplot = actual_data_games.boxplot(column = 'world_sales', figsize=(15,15))\n",
    "actual_data_games['world_sales'].describe()\n",
    "\n",
    "ymin, ymax = [0, 5]\n",
    "boxplot.set_ylim([ymin, ymax])"
   ]
  },
  {
   "cell_type": "markdown",
   "metadata": {},
   "source": [
    "Хорошо продаваемых игр единицы, большая часть игр не вышла на прибыль даже больше 500 тыс долларов."
   ]
  },
  {
   "cell_type": "code",
   "execution_count": 32,
   "metadata": {},
   "outputs": [
    {
     "data": {
      "text/plain": [
       "count    392.000000\n",
       "mean       0.801378\n",
       "std        1.609456\n",
       "min        0.010000\n",
       "25%        0.060000\n",
       "50%        0.200000\n",
       "75%        0.730000\n",
       "max       14.630000\n",
       "Name: world_sales, dtype: float64"
      ]
     },
     "execution_count": 32,
     "metadata": {},
     "output_type": "execute_result"
    },
    {
     "data": {
      "image/png": "[encoded data removed]",
      "text/plain": [
       "<Figure size 648x648 with 1 Axes>"
      ]
     },
     "metadata": {
      "needs_background": "light"
     },
     "output_type": "display_data"
    }
   ],
   "source": [
    "PS4_actual_data_games = actual_data_games.query('platform ==\"PS4\"')\n",
    "boxplot = PS4_actual_data_games.boxplot(column = 'world_sales', figsize=(9,9))\n",
    "\n",
    "\n",
    "ymin, ymax = [0, 4]\n",
    "boxplot.set_ylim([ymin, ymax])\n",
    "\n",
    "PS4_actual_data_games['world_sales'].describe()"
   ]
  },
  {
   "cell_type": "code",
   "execution_count": 33,
   "metadata": {},
   "outputs": [
    {
     "data": {
      "text/plain": [
       "count    345.000000\n",
       "mean       0.525884\n",
       "std        1.451939\n",
       "min        0.010000\n",
       "25%        0.040000\n",
       "50%        0.150000\n",
       "75%        0.510000\n",
       "max       21.049999\n",
       "Name: world_sales, dtype: float64"
      ]
     },
     "execution_count": 33,
     "metadata": {},
     "output_type": "execute_result"
    },
    {
     "data": {
      "image/png": "[encoded data removed]",
      "text/plain": [
       "<Figure size 1080x1080 with 1 Axes>"
      ]
     },
     "metadata": {
      "needs_background": "light"
     },
     "output_type": "display_data"
    }
   ],
   "source": [
    "PS3_actual_data_games = actual_data_games.query('platform ==\"PS3\"')\n",
    "boxplot = PS3_actual_data_games.boxplot(column = 'world_sales',figsize=(15,15))\n",
    "\n",
    "ymin, ymax = [0, 4]\n",
    "boxplot.set_ylim([ymin, ymax])\n",
    "\n",
    "PS3_actual_data_games['world_sales'].describe()"
   ]
  },
  {
   "cell_type": "code",
   "execution_count": 34,
   "metadata": {},
   "outputs": [
    {
     "data": {
      "text/plain": [
       "count    247.000000\n",
       "mean       0.645020\n",
       "std        1.036139\n",
       "min        0.010000\n",
       "25%        0.060000\n",
       "50%        0.220000\n",
       "75%        0.685000\n",
       "max        7.390000\n",
       "Name: world_sales, dtype: float64"
      ]
     },
     "execution_count": 34,
     "metadata": {},
     "output_type": "execute_result"
    },
    {
     "data": {
      "image/png": "[encoded data removed]",
      "text/plain": [
       "<Figure size 1080x1080 with 1 Axes>"
      ]
     },
     "metadata": {
      "needs_background": "light"
     },
     "output_type": "display_data"
    }
   ],
   "source": [
    "XOne_actual_data_games = actual_data_games.query('platform == \"XOne\"')\n",
    "boxplot = XOne_actual_data_games.boxplot(column = 'world_sales', figsize=(15,15))\n",
    "\n",
    "ymin, ymax = [0, 4]\n",
    "boxplot.set_ylim([ymin, ymax])\n",
    "\n",
    "XOne_actual_data_games['world_sales'].describe()"
   ]
  },
  {
   "cell_type": "code",
   "execution_count": 35,
   "metadata": {},
   "outputs": [
    {
     "data": {
      "text/plain": [
       "count    303.000000\n",
       "mean       0.472772\n",
       "std        1.381347\n",
       "min        0.010000\n",
       "25%        0.040000\n",
       "50%        0.090000\n",
       "75%        0.280000\n",
       "max       14.599999\n",
       "Name: world_sales, dtype: float64"
      ]
     },
     "execution_count": 35,
     "metadata": {},
     "output_type": "execute_result"
    },
    {
     "data": {
      "image/png": "[encoded data removed]",
      "text/plain": [
       "<Figure size 1080x1080 with 1 Axes>"
      ]
     },
     "metadata": {
      "needs_background": "light"
     },
     "output_type": "display_data"
    }
   ],
   "source": [
    "_3DS_actual_data_games = actual_data_games.query('platform == \"3DS\"')\n",
    "boxplot = _3DS_actual_data_games.boxplot(column = 'world_sales', figsize=(15,15))\n",
    "\n",
    "ymin, ymax = [0, 4]\n",
    "boxplot.set_ylim([ymin, ymax])\n",
    "\n",
    "_3DS_actual_data_games['world_sales'].describe()"
   ]
  },
  {
   "cell_type": "code",
   "execution_count": 36,
   "metadata": {},
   "outputs": [
    {
     "data": {
      "text/plain": [
       "count    186.000000\n",
       "mean       0.735484\n",
       "std        1.663275\n",
       "min        0.010000\n",
       "25%        0.080000\n",
       "50%        0.265000\n",
       "75%        0.795000\n",
       "max       16.270000\n",
       "Name: world_sales, dtype: float64"
      ]
     },
     "execution_count": 36,
     "metadata": {},
     "output_type": "execute_result"
    },
    {
     "data": {
      "image/png": "[encoded data removed]",
      "text/plain": [
       "<Figure size 1080x1080 with 1 Axes>"
      ]
     },
     "metadata": {
      "needs_background": "light"
     },
     "output_type": "display_data"
    }
   ],
   "source": [
    "X360_actual_data_games = actual_data_games.query('platform ==\"X360\"')\n",
    "boxplot = X360_actual_data_games.boxplot(column = 'world_sales', figsize=(15,15))\n",
    "\n",
    "ymin, ymax = [0, 4]\n",
    "boxplot.set_ylim([ymin, ymax])\n",
    "\n",
    "X360_actual_data_games['world_sales'].describe()"
   ]
  },
  {
   "cell_type": "code",
   "execution_count": 37,
   "metadata": {},
   "outputs": [
    {
     "data": {
      "text/plain": [
       "Text(0.5, 1.0, 'Распределение прибыли по платформам')"
      ]
     },
     "execution_count": 37,
     "metadata": {},
     "output_type": "execute_result"
    },
    {
     "data": {
      "image/png": "[encoded data removed]",
      "text/plain": [
       "<Figure size 1080x1080 with 1 Axes>"
      ]
     },
     "metadata": {
      "needs_background": "light"
     },
     "output_type": "display_data"
    }
   ],
   "source": [
    "boxplot = actual_data_games.boxplot(column=['world_sales' ], by = ['platform'], figsize=(15,15))\n",
    "\n",
    "ymin, ymax = [0, 4]\n",
    "boxplot.set_ylim([ymin, ymax])\n",
    "boxplot.set_title('Распределение прибыли по платформам')"
   ]
  },
  {
   "cell_type": "markdown",
   "metadata": {},
   "source": [
    "Средняя выручка на игру по миру: 488 тыс. дол. 3/4 игр заработали до 400 тыс. Рекорд 21 млн.\n",
    "Средняя выручка на игру по платформе PS4: 801 тыс. 3/4 игр заработали до 730 тыс. Рекорд 14,6 млн.\n",
    "Средняя выручка на игру по платформе PS3: 526 тыс. 3/4 игр заработали до 510 тыс. Рекорд 21 млн.\n",
    "Средняя выручка на игру по платформе XOne: 645 тыс. 3/4 игр заработали до 685 тыс. Рекорд 7,4 млн.\n",
    "Средняя выручка на игру по платформе X360: 735 тыс. 3/4 игр заработали до 795 тыс. Рекорд 16,3 млн.\n",
    "Средняя выручка на игру по платформе 3DS: 472 тыс. 3/4 игр заработали до 280 тыс. Рекорд 14,6 млн.\n",
    "\n",
    "Для PS4, PS3 и 3DS есть тенденция к росту продаж. Среднее значение больше 3-го квантиля, следовательно на этих платформах игры более популярные и продаваемые."
   ]
  },
  {
   "cell_type": "markdown",
   "metadata": {},
   "source": [
    "7 вопрос. Посмотрим, как влияют на продажи внутри одной популярной платформы отзывы пользователей и критиков. Построем диаграмму рассеяния и посчитаем корреляцию между отзывами и продажами."
   ]
  },
  {
   "cell_type": "code",
   "execution_count": 38,
   "metadata": {},
   "outputs": [
    {
     "data": {
      "text/html": [
       "<div>\n",
       "<style scoped>\n",
       "    .dataframe tbody tr th:only-of-type {\n",
       "        vertical-align: middle;\n",
       "    }\n",
       "\n",
       "    .dataframe tbody tr th {\n",
       "        vertical-align: top;\n",
       "    }\n",
       "\n",
       "    .dataframe thead th {\n",
       "        text-align: right;\n",
       "    }\n",
       "</style>\n",
       "<table border=\"1\" class=\"dataframe\">\n",
       "  <thead>\n",
       "    <tr style=\"text-align: right;\">\n",
       "      <th></th>\n",
       "      <th>world_sales</th>\n",
       "      <th>critic_score</th>\n",
       "      <th>user_score</th>\n",
       "    </tr>\n",
       "  </thead>\n",
       "  <tbody>\n",
       "    <tr>\n",
       "      <th>31</th>\n",
       "      <td>14.630000</td>\n",
       "      <td>NaN</td>\n",
       "      <td>NaN</td>\n",
       "    </tr>\n",
       "    <tr>\n",
       "      <th>42</th>\n",
       "      <td>12.620001</td>\n",
       "      <td>97.0</td>\n",
       "      <td>8.3</td>\n",
       "    </tr>\n",
       "    <tr>\n",
       "      <th>77</th>\n",
       "      <td>8.580000</td>\n",
       "      <td>82.0</td>\n",
       "      <td>4.3</td>\n",
       "    </tr>\n",
       "    <tr>\n",
       "      <th>87</th>\n",
       "      <td>7.980000</td>\n",
       "      <td>NaN</td>\n",
       "      <td>NaN</td>\n",
       "    </tr>\n",
       "    <tr>\n",
       "      <th>92</th>\n",
       "      <td>7.660000</td>\n",
       "      <td>83.0</td>\n",
       "      <td>5.7</td>\n",
       "    </tr>\n",
       "  </tbody>\n",
       "</table>\n",
       "</div>"
      ],
      "text/plain": [
       "    world_sales  critic_score  user_score\n",
       "31    14.630000           NaN         NaN\n",
       "42    12.620001          97.0         8.3\n",
       "77     8.580000          82.0         4.3\n",
       "87     7.980000           NaN         NaN\n",
       "92     7.660000          83.0         5.7"
      ]
     },
     "execution_count": 38,
     "metadata": {},
     "output_type": "execute_result"
    }
   ],
   "source": [
    "PS4_critic_and_user_ratings = PS4_actual_data_games.loc[:,['world_sales', 'critic_score', 'user_score']]\n",
    "PS4_critic_and_user_ratings.head()"
   ]
  },
  {
   "cell_type": "code",
   "execution_count": 39,
   "metadata": {},
   "outputs": [
    {
     "data": {
      "text/html": [
       "<div>\n",
       "<style scoped>\n",
       "    .dataframe tbody tr th:only-of-type {\n",
       "        vertical-align: middle;\n",
       "    }\n",
       "\n",
       "    .dataframe tbody tr th {\n",
       "        vertical-align: top;\n",
       "    }\n",
       "\n",
       "    .dataframe thead th {\n",
       "        text-align: right;\n",
       "    }\n",
       "</style>\n",
       "<table border=\"1\" class=\"dataframe\">\n",
       "  <thead>\n",
       "    <tr style=\"text-align: right;\">\n",
       "      <th></th>\n",
       "      <th>world_sales</th>\n",
       "      <th>critic_score</th>\n",
       "      <th>user_score</th>\n",
       "    </tr>\n",
       "  </thead>\n",
       "  <tbody>\n",
       "    <tr>\n",
       "      <th>world_sales</th>\n",
       "      <td>1.000000</td>\n",
       "      <td>0.406568</td>\n",
       "      <td>-0.031957</td>\n",
       "    </tr>\n",
       "    <tr>\n",
       "      <th>critic_score</th>\n",
       "      <td>0.406568</td>\n",
       "      <td>1.000000</td>\n",
       "      <td>0.557654</td>\n",
       "    </tr>\n",
       "    <tr>\n",
       "      <th>user_score</th>\n",
       "      <td>-0.031957</td>\n",
       "      <td>0.557654</td>\n",
       "      <td>1.000000</td>\n",
       "    </tr>\n",
       "  </tbody>\n",
       "</table>\n",
       "</div>"
      ],
      "text/plain": [
       "              world_sales  critic_score  user_score\n",
       "world_sales      1.000000      0.406568   -0.031957\n",
       "critic_score     0.406568      1.000000    0.557654\n",
       "user_score      -0.031957      0.557654    1.000000"
      ]
     },
     "execution_count": 39,
     "metadata": {},
     "output_type": "execute_result"
    }
   ],
   "source": [
    "PS4_critic_and_user_ratings.corr()"
   ]
  },
  {
   "cell_type": "code",
   "execution_count": 40,
   "metadata": {},
   "outputs": [
    {
     "data": {
      "text/plain": [
       "array([[<AxesSubplot:xlabel='world_sales', ylabel='world_sales'>,\n",
       "        <AxesSubplot:xlabel='critic_score', ylabel='world_sales'>,\n",
       "        <AxesSubplot:xlabel='user_score', ylabel='world_sales'>],\n",
       "       [<AxesSubplot:xlabel='world_sales', ylabel='critic_score'>,\n",
       "        <AxesSubplot:xlabel='critic_score', ylabel='critic_score'>,\n",
       "        <AxesSubplot:xlabel='user_score', ylabel='critic_score'>],\n",
       "       [<AxesSubplot:xlabel='world_sales', ylabel='user_score'>,\n",
       "        <AxesSubplot:xlabel='critic_score', ylabel='user_score'>,\n",
       "        <AxesSubplot:xlabel='user_score', ylabel='user_score'>]],\n",
       "      dtype=object)"
      ]
     },
     "execution_count": 40,
     "metadata": {},
     "output_type": "execute_result"
    },
    {
     "data": {
      "image/png": "[encoded data removed]",
      "text/plain": [
       "<Figure size 648x648 with 9 Axes>"
      ]
     },
     "metadata": {
      "needs_background": "light"
     },
     "output_type": "display_data"
    }
   ],
   "source": [
    "pd.plotting.scatter_matrix(PS4_critic_and_user_ratings, figsize=(9, 9))"
   ]
  },
  {
   "cell_type": "markdown",
   "metadata": {},
   "source": [
    "Для платформы PS4 есть прямая корреляция между прибылью и рейтингом критиков. Чем выше оценивают игру критики, тем выше прибыль. Видимо оценка зависит от качества самой игры, отсюда и прибыль\n",
    "Есть обратная связь с оценкой пользователей, но она не несет особой смысловой нагрузки\n",
    "\n",
    "Также есть связь между оценкой игроков и критиков. Чем выше критик, оценивает игру, тем выше оценит ее и игрок.\n"
   ]
  },
  {
   "cell_type": "markdown",
   "metadata": {},
   "source": [
    "8 вопрос. Соотнесем выводы с продажами игр на других платформах."
   ]
  },
  {
   "cell_type": "code",
   "execution_count": 41,
   "metadata": {},
   "outputs": [
    {
     "data": {
      "text/html": [
       "<div>\n",
       "<style scoped>\n",
       "    .dataframe tbody tr th:only-of-type {\n",
       "        vertical-align: middle;\n",
       "    }\n",
       "\n",
       "    .dataframe tbody tr th {\n",
       "        vertical-align: top;\n",
       "    }\n",
       "\n",
       "    .dataframe thead th {\n",
       "        text-align: right;\n",
       "    }\n",
       "</style>\n",
       "<table border=\"1\" class=\"dataframe\">\n",
       "  <thead>\n",
       "    <tr style=\"text-align: right;\">\n",
       "      <th></th>\n",
       "      <th>world_sales</th>\n",
       "      <th>critic_score</th>\n",
       "      <th>user_score</th>\n",
       "    </tr>\n",
       "  </thead>\n",
       "  <tbody>\n",
       "    <tr>\n",
       "      <th>16</th>\n",
       "      <td>21.049999</td>\n",
       "      <td>97.0</td>\n",
       "      <td>8.2</td>\n",
       "    </tr>\n",
       "    <tr>\n",
       "      <th>69</th>\n",
       "      <td>9.360000</td>\n",
       "      <td>71.0</td>\n",
       "      <td>2.6</td>\n",
       "    </tr>\n",
       "    <tr>\n",
       "      <th>126</th>\n",
       "      <td>6.460000</td>\n",
       "      <td>86.0</td>\n",
       "      <td>4.3</td>\n",
       "    </tr>\n",
       "    <tr>\n",
       "      <th>149</th>\n",
       "      <td>5.860001</td>\n",
       "      <td>95.0</td>\n",
       "      <td>9.1</td>\n",
       "    </tr>\n",
       "    <tr>\n",
       "      <th>180</th>\n",
       "      <td>5.270000</td>\n",
       "      <td>NaN</td>\n",
       "      <td>NaN</td>\n",
       "    </tr>\n",
       "  </tbody>\n",
       "</table>\n",
       "</div>"
      ],
      "text/plain": [
       "     world_sales  critic_score  user_score\n",
       "16     21.049999          97.0         8.2\n",
       "69      9.360000          71.0         2.6\n",
       "126     6.460000          86.0         4.3\n",
       "149     5.860001          95.0         9.1\n",
       "180     5.270000           NaN         NaN"
      ]
     },
     "execution_count": 41,
     "metadata": {},
     "output_type": "execute_result"
    }
   ],
   "source": [
    "PS3_critic_and_user_ratings = PS3_actual_data_games.loc[:,['world_sales', 'critic_score', 'user_score']]\n",
    "PS3_critic_and_user_ratings.head()"
   ]
  },
  {
   "cell_type": "code",
   "execution_count": 42,
   "metadata": {},
   "outputs": [
    {
     "data": {
      "text/html": [
       "<div>\n",
       "<style scoped>\n",
       "    .dataframe tbody tr th:only-of-type {\n",
       "        vertical-align: middle;\n",
       "    }\n",
       "\n",
       "    .dataframe tbody tr th {\n",
       "        vertical-align: top;\n",
       "    }\n",
       "\n",
       "    .dataframe thead th {\n",
       "        text-align: right;\n",
       "    }\n",
       "</style>\n",
       "<table border=\"1\" class=\"dataframe\">\n",
       "  <thead>\n",
       "    <tr style=\"text-align: right;\">\n",
       "      <th></th>\n",
       "      <th>world_sales</th>\n",
       "      <th>critic_score</th>\n",
       "      <th>user_score</th>\n",
       "    </tr>\n",
       "  </thead>\n",
       "  <tbody>\n",
       "    <tr>\n",
       "      <th>world_sales</th>\n",
       "      <td>1.000000</td>\n",
       "      <td>0.334285</td>\n",
       "      <td>0.002394</td>\n",
       "    </tr>\n",
       "    <tr>\n",
       "      <th>critic_score</th>\n",
       "      <td>0.334285</td>\n",
       "      <td>1.000000</td>\n",
       "      <td>0.599920</td>\n",
       "    </tr>\n",
       "    <tr>\n",
       "      <th>user_score</th>\n",
       "      <td>0.002394</td>\n",
       "      <td>0.599920</td>\n",
       "      <td>1.000000</td>\n",
       "    </tr>\n",
       "  </tbody>\n",
       "</table>\n",
       "</div>"
      ],
      "text/plain": [
       "              world_sales  critic_score  user_score\n",
       "world_sales      1.000000      0.334285    0.002394\n",
       "critic_score     0.334285      1.000000    0.599920\n",
       "user_score       0.002394      0.599920    1.000000"
      ]
     },
     "execution_count": 42,
     "metadata": {},
     "output_type": "execute_result"
    }
   ],
   "source": [
    "PS3_critic_and_user_ratings.corr()"
   ]
  },
  {
   "cell_type": "code",
   "execution_count": 43,
   "metadata": {},
   "outputs": [
    {
     "data": {
      "text/plain": [
       "array([[<AxesSubplot:xlabel='world_sales', ylabel='world_sales'>,\n",
       "        <AxesSubplot:xlabel='critic_score', ylabel='world_sales'>,\n",
       "        <AxesSubplot:xlabel='user_score', ylabel='world_sales'>],\n",
       "       [<AxesSubplot:xlabel='world_sales', ylabel='critic_score'>,\n",
       "        <AxesSubplot:xlabel='critic_score', ylabel='critic_score'>,\n",
       "        <AxesSubplot:xlabel='user_score', ylabel='critic_score'>],\n",
       "       [<AxesSubplot:xlabel='world_sales', ylabel='user_score'>,\n",
       "        <AxesSubplot:xlabel='critic_score', ylabel='user_score'>,\n",
       "        <AxesSubplot:xlabel='user_score', ylabel='user_score'>]],\n",
       "      dtype=object)"
      ]
     },
     "execution_count": 43,
     "metadata": {},
     "output_type": "execute_result"
    },
    {
     "data": {
      "image/png": "[encoded data removed]",
      "text/plain": [
       "<Figure size 648x648 with 9 Axes>"
      ]
     },
     "metadata": {
      "needs_background": "light"
     },
     "output_type": "display_data"
    }
   ],
   "source": [
    "pd.plotting.scatter_matrix(PS3_critic_and_user_ratings, figsize=(9,9))"
   ]
  },
  {
   "cell_type": "markdown",
   "metadata": {},
   "source": [
    "Зависимости для PS3 имеют похожие тенденции, как для платформы PS4 только менее явно выраженные"
   ]
  },
  {
   "cell_type": "code",
   "execution_count": 44,
   "metadata": {},
   "outputs": [
    {
     "data": {
      "text/html": [
       "<div>\n",
       "<style scoped>\n",
       "    .dataframe tbody tr th:only-of-type {\n",
       "        vertical-align: middle;\n",
       "    }\n",
       "\n",
       "    .dataframe tbody tr th {\n",
       "        vertical-align: top;\n",
       "    }\n",
       "\n",
       "    .dataframe thead th {\n",
       "        text-align: right;\n",
       "    }\n",
       "</style>\n",
       "<table border=\"1\" class=\"dataframe\">\n",
       "  <thead>\n",
       "    <tr style=\"text-align: right;\">\n",
       "      <th></th>\n",
       "      <th>world_sales</th>\n",
       "      <th>critic_score</th>\n",
       "      <th>user_score</th>\n",
       "    </tr>\n",
       "  </thead>\n",
       "  <tbody>\n",
       "    <tr>\n",
       "      <th>99</th>\n",
       "      <td>7.39</td>\n",
       "      <td>NaN</td>\n",
       "      <td>NaN</td>\n",
       "    </tr>\n",
       "    <tr>\n",
       "      <th>165</th>\n",
       "      <td>5.47</td>\n",
       "      <td>97.0</td>\n",
       "      <td>7.9</td>\n",
       "    </tr>\n",
       "    <tr>\n",
       "      <th>179</th>\n",
       "      <td>5.26</td>\n",
       "      <td>81.0</td>\n",
       "      <td>5.4</td>\n",
       "    </tr>\n",
       "    <tr>\n",
       "      <th>242</th>\n",
       "      <td>4.49</td>\n",
       "      <td>84.0</td>\n",
       "      <td>6.4</td>\n",
       "    </tr>\n",
       "    <tr>\n",
       "      <th>270</th>\n",
       "      <td>4.22</td>\n",
       "      <td>88.0</td>\n",
       "      <td>6.2</td>\n",
       "    </tr>\n",
       "  </tbody>\n",
       "</table>\n",
       "</div>"
      ],
      "text/plain": [
       "     world_sales  critic_score  user_score\n",
       "99          7.39           NaN         NaN\n",
       "165         5.47          97.0         7.9\n",
       "179         5.26          81.0         5.4\n",
       "242         4.49          84.0         6.4\n",
       "270         4.22          88.0         6.2"
      ]
     },
     "execution_count": 44,
     "metadata": {},
     "output_type": "execute_result"
    }
   ],
   "source": [
    "XOne_critic_and_user_ratings = XOne_actual_data_games.loc[:,['world_sales', 'critic_score', 'user_score']]\n",
    "XOne_critic_and_user_ratings.head()"
   ]
  },
  {
   "cell_type": "code",
   "execution_count": 45,
   "metadata": {},
   "outputs": [
    {
     "data": {
      "text/html": [
       "<div>\n",
       "<style scoped>\n",
       "    .dataframe tbody tr th:only-of-type {\n",
       "        vertical-align: middle;\n",
       "    }\n",
       "\n",
       "    .dataframe tbody tr th {\n",
       "        vertical-align: top;\n",
       "    }\n",
       "\n",
       "    .dataframe thead th {\n",
       "        text-align: right;\n",
       "    }\n",
       "</style>\n",
       "<table border=\"1\" class=\"dataframe\">\n",
       "  <thead>\n",
       "    <tr style=\"text-align: right;\">\n",
       "      <th></th>\n",
       "      <th>world_sales</th>\n",
       "      <th>critic_score</th>\n",
       "      <th>user_score</th>\n",
       "    </tr>\n",
       "  </thead>\n",
       "  <tbody>\n",
       "    <tr>\n",
       "      <th>world_sales</th>\n",
       "      <td>1.000000</td>\n",
       "      <td>0.416998</td>\n",
       "      <td>-0.068925</td>\n",
       "    </tr>\n",
       "    <tr>\n",
       "      <th>critic_score</th>\n",
       "      <td>0.416998</td>\n",
       "      <td>1.000000</td>\n",
       "      <td>0.472462</td>\n",
       "    </tr>\n",
       "    <tr>\n",
       "      <th>user_score</th>\n",
       "      <td>-0.068925</td>\n",
       "      <td>0.472462</td>\n",
       "      <td>1.000000</td>\n",
       "    </tr>\n",
       "  </tbody>\n",
       "</table>\n",
       "</div>"
      ],
      "text/plain": [
       "              world_sales  critic_score  user_score\n",
       "world_sales      1.000000      0.416998   -0.068925\n",
       "critic_score     0.416998      1.000000    0.472462\n",
       "user_score      -0.068925      0.472462    1.000000"
      ]
     },
     "execution_count": 45,
     "metadata": {},
     "output_type": "execute_result"
    }
   ],
   "source": [
    "XOne_critic_and_user_ratings.corr()"
   ]
  },
  {
   "cell_type": "code",
   "execution_count": 46,
   "metadata": {},
   "outputs": [
    {
     "data": {
      "text/plain": [
       "array([[<AxesSubplot:xlabel='world_sales', ylabel='world_sales'>,\n",
       "        <AxesSubplot:xlabel='critic_score', ylabel='world_sales'>,\n",
       "        <AxesSubplot:xlabel='user_score', ylabel='world_sales'>],\n",
       "       [<AxesSubplot:xlabel='world_sales', ylabel='critic_score'>,\n",
       "        <AxesSubplot:xlabel='critic_score', ylabel='critic_score'>,\n",
       "        <AxesSubplot:xlabel='user_score', ylabel='critic_score'>],\n",
       "       [<AxesSubplot:xlabel='world_sales', ylabel='user_score'>,\n",
       "        <AxesSubplot:xlabel='critic_score', ylabel='user_score'>,\n",
       "        <AxesSubplot:xlabel='user_score', ylabel='user_score'>]],\n",
       "      dtype=object)"
      ]
     },
     "execution_count": 46,
     "metadata": {},
     "output_type": "execute_result"
    },
    {
     "data": {
      "image/png": "[encoded data removed]",
      "text/plain": [
       "<Figure size 648x648 with 9 Axes>"
      ]
     },
     "metadata": {
      "needs_background": "light"
     },
     "output_type": "display_data"
    }
   ],
   "source": [
    "pd.plotting.scatter_matrix(XOne_critic_and_user_ratings, figsize=(9,9))"
   ]
  },
  {
   "cell_type": "code",
   "execution_count": 47,
   "metadata": {},
   "outputs": [
    {
     "data": {
      "text/html": [
       "<div>\n",
       "<style scoped>\n",
       "    .dataframe tbody tr th:only-of-type {\n",
       "        vertical-align: middle;\n",
       "    }\n",
       "\n",
       "    .dataframe tbody tr th {\n",
       "        vertical-align: top;\n",
       "    }\n",
       "\n",
       "    .dataframe thead th {\n",
       "        text-align: right;\n",
       "    }\n",
       "</style>\n",
       "<table border=\"1\" class=\"dataframe\">\n",
       "  <thead>\n",
       "    <tr style=\"text-align: right;\">\n",
       "      <th></th>\n",
       "      <th>world_sales</th>\n",
       "      <th>critic_score</th>\n",
       "      <th>user_score</th>\n",
       "    </tr>\n",
       "  </thead>\n",
       "  <tbody>\n",
       "    <tr>\n",
       "      <th>23</th>\n",
       "      <td>16.270000</td>\n",
       "      <td>97.0</td>\n",
       "      <td>8.1</td>\n",
       "    </tr>\n",
       "    <tr>\n",
       "      <th>60</th>\n",
       "      <td>10.240000</td>\n",
       "      <td>73.0</td>\n",
       "      <td>2.6</td>\n",
       "    </tr>\n",
       "    <tr>\n",
       "      <th>72</th>\n",
       "      <td>9.180001</td>\n",
       "      <td>NaN</td>\n",
       "      <td>NaN</td>\n",
       "    </tr>\n",
       "    <tr>\n",
       "      <th>263</th>\n",
       "      <td>4.280000</td>\n",
       "      <td>NaN</td>\n",
       "      <td>4.9</td>\n",
       "    </tr>\n",
       "    <tr>\n",
       "      <th>271</th>\n",
       "      <td>4.220000</td>\n",
       "      <td>84.0</td>\n",
       "      <td>4.2</td>\n",
       "    </tr>\n",
       "  </tbody>\n",
       "</table>\n",
       "</div>"
      ],
      "text/plain": [
       "     world_sales  critic_score  user_score\n",
       "23     16.270000          97.0         8.1\n",
       "60     10.240000          73.0         2.6\n",
       "72      9.180001           NaN         NaN\n",
       "263     4.280000           NaN         4.9\n",
       "271     4.220000          84.0         4.2"
      ]
     },
     "execution_count": 47,
     "metadata": {},
     "output_type": "execute_result"
    }
   ],
   "source": [
    "X360_critic_and_user_ratings = X360_actual_data_games.loc[:,['world_sales', 'critic_score', 'user_score']]\n",
    "X360_critic_and_user_ratings.head()"
   ]
  },
  {
   "cell_type": "code",
   "execution_count": 48,
   "metadata": {},
   "outputs": [
    {
     "data": {
      "text/html": [
       "<div>\n",
       "<style scoped>\n",
       "    .dataframe tbody tr th:only-of-type {\n",
       "        vertical-align: middle;\n",
       "    }\n",
       "\n",
       "    .dataframe tbody tr th {\n",
       "        vertical-align: top;\n",
       "    }\n",
       "\n",
       "    .dataframe thead th {\n",
       "        text-align: right;\n",
       "    }\n",
       "</style>\n",
       "<table border=\"1\" class=\"dataframe\">\n",
       "  <thead>\n",
       "    <tr style=\"text-align: right;\">\n",
       "      <th></th>\n",
       "      <th>world_sales</th>\n",
       "      <th>critic_score</th>\n",
       "      <th>user_score</th>\n",
       "    </tr>\n",
       "  </thead>\n",
       "  <tbody>\n",
       "    <tr>\n",
       "      <th>world_sales</th>\n",
       "      <td>1.000000</td>\n",
       "      <td>0.350345</td>\n",
       "      <td>-0.011742</td>\n",
       "    </tr>\n",
       "    <tr>\n",
       "      <th>critic_score</th>\n",
       "      <td>0.350345</td>\n",
       "      <td>1.000000</td>\n",
       "      <td>0.520946</td>\n",
       "    </tr>\n",
       "    <tr>\n",
       "      <th>user_score</th>\n",
       "      <td>-0.011742</td>\n",
       "      <td>0.520946</td>\n",
       "      <td>1.000000</td>\n",
       "    </tr>\n",
       "  </tbody>\n",
       "</table>\n",
       "</div>"
      ],
      "text/plain": [
       "              world_sales  critic_score  user_score\n",
       "world_sales      1.000000      0.350345   -0.011742\n",
       "critic_score     0.350345      1.000000    0.520946\n",
       "user_score      -0.011742      0.520946    1.000000"
      ]
     },
     "execution_count": 48,
     "metadata": {},
     "output_type": "execute_result"
    }
   ],
   "source": [
    "X360_critic_and_user_ratings.corr()"
   ]
  },
  {
   "cell_type": "code",
   "execution_count": 49,
   "metadata": {},
   "outputs": [
    {
     "data": {
      "text/plain": [
       "array([[<AxesSubplot:xlabel='world_sales', ylabel='world_sales'>,\n",
       "        <AxesSubplot:xlabel='critic_score', ylabel='world_sales'>,\n",
       "        <AxesSubplot:xlabel='user_score', ylabel='world_sales'>],\n",
       "       [<AxesSubplot:xlabel='world_sales', ylabel='critic_score'>,\n",
       "        <AxesSubplot:xlabel='critic_score', ylabel='critic_score'>,\n",
       "        <AxesSubplot:xlabel='user_score', ylabel='critic_score'>],\n",
       "       [<AxesSubplot:xlabel='world_sales', ylabel='user_score'>,\n",
       "        <AxesSubplot:xlabel='critic_score', ylabel='user_score'>,\n",
       "        <AxesSubplot:xlabel='user_score', ylabel='user_score'>]],\n",
       "      dtype=object)"
      ]
     },
     "execution_count": 49,
     "metadata": {},
     "output_type": "execute_result"
    },
    {
     "data": {
      "image/png": "[encoded data removed]",
      "text/plain": [
       "<Figure size 648x648 with 9 Axes>"
      ]
     },
     "metadata": {
      "needs_background": "light"
     },
     "output_type": "display_data"
    }
   ],
   "source": [
    "pd.plotting.scatter_matrix(X360_critic_and_user_ratings, figsize=(9,9))"
   ]
  },
  {
   "cell_type": "code",
   "execution_count": 50,
   "metadata": {},
   "outputs": [
    {
     "data": {
      "text/html": [
       "<div>\n",
       "<style scoped>\n",
       "    .dataframe tbody tr th:only-of-type {\n",
       "        vertical-align: middle;\n",
       "    }\n",
       "\n",
       "    .dataframe tbody tr th {\n",
       "        vertical-align: top;\n",
       "    }\n",
       "\n",
       "    .dataframe thead th {\n",
       "        text-align: right;\n",
       "    }\n",
       "</style>\n",
       "<table border=\"1\" class=\"dataframe\">\n",
       "  <thead>\n",
       "    <tr style=\"text-align: right;\">\n",
       "      <th></th>\n",
       "      <th>world_sales</th>\n",
       "      <th>critic_score</th>\n",
       "      <th>user_score</th>\n",
       "    </tr>\n",
       "  </thead>\n",
       "  <tbody>\n",
       "    <tr>\n",
       "      <th>33</th>\n",
       "      <td>14.599999</td>\n",
       "      <td>NaN</td>\n",
       "      <td>NaN</td>\n",
       "    </tr>\n",
       "    <tr>\n",
       "      <th>47</th>\n",
       "      <td>11.680000</td>\n",
       "      <td>NaN</td>\n",
       "      <td>NaN</td>\n",
       "    </tr>\n",
       "    <tr>\n",
       "      <th>96</th>\n",
       "      <td>7.550000</td>\n",
       "      <td>NaN</td>\n",
       "      <td>NaN</td>\n",
       "    </tr>\n",
       "    <tr>\n",
       "      <th>108</th>\n",
       "      <td>7.140000</td>\n",
       "      <td>NaN</td>\n",
       "      <td>NaN</td>\n",
       "    </tr>\n",
       "    <tr>\n",
       "      <th>184</th>\n",
       "      <td>5.220000</td>\n",
       "      <td>NaN</td>\n",
       "      <td>NaN</td>\n",
       "    </tr>\n",
       "  </tbody>\n",
       "</table>\n",
       "</div>"
      ],
      "text/plain": [
       "     world_sales  critic_score  user_score\n",
       "33     14.599999           NaN         NaN\n",
       "47     11.680000           NaN         NaN\n",
       "96      7.550000           NaN         NaN\n",
       "108     7.140000           NaN         NaN\n",
       "184     5.220000           NaN         NaN"
      ]
     },
     "execution_count": 50,
     "metadata": {},
     "output_type": "execute_result"
    }
   ],
   "source": [
    "_3DS_critic_and_user_ratings = _3DS_actual_data_games.loc[:,['world_sales', 'critic_score', 'user_score']]\n",
    "_3DS_critic_and_user_ratings.head()"
   ]
  },
  {
   "cell_type": "code",
   "execution_count": 51,
   "metadata": {},
   "outputs": [
    {
     "data": {
      "text/html": [
       "<div>\n",
       "<style scoped>\n",
       "    .dataframe tbody tr th:only-of-type {\n",
       "        vertical-align: middle;\n",
       "    }\n",
       "\n",
       "    .dataframe tbody tr th {\n",
       "        vertical-align: top;\n",
       "    }\n",
       "\n",
       "    .dataframe thead th {\n",
       "        text-align: right;\n",
       "    }\n",
       "</style>\n",
       "<table border=\"1\" class=\"dataframe\">\n",
       "  <thead>\n",
       "    <tr style=\"text-align: right;\">\n",
       "      <th></th>\n",
       "      <th>world_sales</th>\n",
       "      <th>critic_score</th>\n",
       "      <th>user_score</th>\n",
       "    </tr>\n",
       "  </thead>\n",
       "  <tbody>\n",
       "    <tr>\n",
       "      <th>world_sales</th>\n",
       "      <td>1.000000</td>\n",
       "      <td>0.357057</td>\n",
       "      <td>0.241504</td>\n",
       "    </tr>\n",
       "    <tr>\n",
       "      <th>critic_score</th>\n",
       "      <td>0.357057</td>\n",
       "      <td>1.000000</td>\n",
       "      <td>0.769536</td>\n",
       "    </tr>\n",
       "    <tr>\n",
       "      <th>user_score</th>\n",
       "      <td>0.241504</td>\n",
       "      <td>0.769536</td>\n",
       "      <td>1.000000</td>\n",
       "    </tr>\n",
       "  </tbody>\n",
       "</table>\n",
       "</div>"
      ],
      "text/plain": [
       "              world_sales  critic_score  user_score\n",
       "world_sales      1.000000      0.357057    0.241504\n",
       "critic_score     0.357057      1.000000    0.769536\n",
       "user_score       0.241504      0.769536    1.000000"
      ]
     },
     "execution_count": 51,
     "metadata": {},
     "output_type": "execute_result"
    }
   ],
   "source": [
    "_3DS_critic_and_user_ratings.corr()"
   ]
  },
  {
   "cell_type": "code",
   "execution_count": 52,
   "metadata": {},
   "outputs": [
    {
     "data": {
      "text/plain": [
       "array([[<AxesSubplot:xlabel='world_sales', ylabel='world_sales'>,\n",
       "        <AxesSubplot:xlabel='critic_score', ylabel='world_sales'>,\n",
       "        <AxesSubplot:xlabel='user_score', ylabel='world_sales'>],\n",
       "       [<AxesSubplot:xlabel='world_sales', ylabel='critic_score'>,\n",
       "        <AxesSubplot:xlabel='critic_score', ylabel='critic_score'>,\n",
       "        <AxesSubplot:xlabel='user_score', ylabel='critic_score'>],\n",
       "       [<AxesSubplot:xlabel='world_sales', ylabel='user_score'>,\n",
       "        <AxesSubplot:xlabel='critic_score', ylabel='user_score'>,\n",
       "        <AxesSubplot:xlabel='user_score', ylabel='user_score'>]],\n",
       "      dtype=object)"
      ]
     },
     "execution_count": 52,
     "metadata": {},
     "output_type": "execute_result"
    },
    {
     "data": {
      "image/png": "[encoded data removed]",
      "text/plain": [
       "<Figure size 648x648 with 9 Axes>"
      ]
     },
     "metadata": {
      "needs_background": "light"
     },
     "output_type": "display_data"
    }
   ],
   "source": [
    "pd.plotting.scatter_matrix(_3DS_critic_and_user_ratings, figsize=(9,9))"
   ]
  },
  {
   "cell_type": "markdown",
   "metadata": {},
   "source": [
    "Платформы PS3, XOne и X360 имеют похожие тенденции и зависимости, как у платформы PS4\n",
    "\n",
    "У платформы 3DS продажи имеют прямую связь от рейтинга игроков. "
   ]
  },
  {
   "cell_type": "markdown",
   "metadata": {},
   "source": [
    "9 вопрос. Посмотрим на общее распределение игр по жанрам. Что можно сказать о самых прибыльных жанрах? Выделяются ли жанры с высокими и низкими продажами?"
   ]
  },
  {
   "cell_type": "code",
   "execution_count": 53,
   "metadata": {},
   "outputs": [
    {
     "data": {
      "text/html": [
       "<div>\n",
       "<style scoped>\n",
       "    .dataframe tbody tr th:only-of-type {\n",
       "        vertical-align: middle;\n",
       "    }\n",
       "\n",
       "    .dataframe tbody tr th {\n",
       "        vertical-align: top;\n",
       "    }\n",
       "\n",
       "    .dataframe thead th {\n",
       "        text-align: right;\n",
       "    }\n",
       "</style>\n",
       "<table border=\"1\" class=\"dataframe\">\n",
       "  <thead>\n",
       "    <tr style=\"text-align: right;\">\n",
       "      <th></th>\n",
       "      <th>world_sales</th>\n",
       "    </tr>\n",
       "    <tr>\n",
       "      <th>genre</th>\n",
       "      <th></th>\n",
       "    </tr>\n",
       "  </thead>\n",
       "  <tbody>\n",
       "    <tr>\n",
       "      <th>Action</th>\n",
       "      <td>321.869995</td>\n",
       "    </tr>\n",
       "    <tr>\n",
       "      <th>Shooter</th>\n",
       "      <td>232.979996</td>\n",
       "    </tr>\n",
       "    <tr>\n",
       "      <th>Sports</th>\n",
       "      <td>150.649994</td>\n",
       "    </tr>\n",
       "    <tr>\n",
       "      <th>Role-Playing</th>\n",
       "      <td>145.889999</td>\n",
       "    </tr>\n",
       "    <tr>\n",
       "      <th>Misc</th>\n",
       "      <td>62.820000</td>\n",
       "    </tr>\n",
       "    <tr>\n",
       "      <th>Platform</th>\n",
       "      <td>42.630001</td>\n",
       "    </tr>\n",
       "    <tr>\n",
       "      <th>Racing</th>\n",
       "      <td>39.889999</td>\n",
       "    </tr>\n",
       "    <tr>\n",
       "      <th>Fighting</th>\n",
       "      <td>35.310001</td>\n",
       "    </tr>\n",
       "    <tr>\n",
       "      <th>Adventure</th>\n",
       "      <td>23.639999</td>\n",
       "    </tr>\n",
       "    <tr>\n",
       "      <th>Simulation</th>\n",
       "      <td>21.760000</td>\n",
       "    </tr>\n",
       "    <tr>\n",
       "      <th>Strategy</th>\n",
       "      <td>10.080000</td>\n",
       "    </tr>\n",
       "    <tr>\n",
       "      <th>Puzzle</th>\n",
       "      <td>3.170000</td>\n",
       "    </tr>\n",
       "  </tbody>\n",
       "</table>\n",
       "</div>"
      ],
      "text/plain": [
       "              world_sales\n",
       "genre                    \n",
       "Action         321.869995\n",
       "Shooter        232.979996\n",
       "Sports         150.649994\n",
       "Role-Playing   145.889999\n",
       "Misc            62.820000\n",
       "Platform        42.630001\n",
       "Racing          39.889999\n",
       "Fighting        35.310001\n",
       "Adventure       23.639999\n",
       "Simulation      21.760000\n",
       "Strategy        10.080000\n",
       "Puzzle           3.170000"
      ]
     },
     "execution_count": 53,
     "metadata": {},
     "output_type": "execute_result"
    }
   ],
   "source": [
    "genre_pivot_table = pd.pivot_table(actual_data_games, index='genre', values='world_sales', aggfunc='sum')\n",
    "genre_pivot_table.sort_values('world_sales', ascending=False)"
   ]
  },
  {
   "cell_type": "markdown",
   "metadata": {},
   "source": [
    "Самые прибыльные жанры - Action, Shooter, Sports, Role_Playing. \n",
    "\n",
    "С 2013 по 2016 год не пользуются популярностью приключения, симуляторы, стратегии и мозаики."
   ]
  },
  {
   "cell_type": "code",
   "execution_count": 54,
   "metadata": {},
   "outputs": [
    {
     "data": {
      "text/plain": [
       "Text(0.5, 1.0, 'Распределение прибыли по жанрам')"
      ]
     },
     "execution_count": 54,
     "metadata": {},
     "output_type": "execute_result"
    },
    {
     "data": {
      "image/png": "[encoded data removed]",
      "text/plain": [
       "<Figure size 1080x1080 with 1 Axes>"
      ]
     },
     "metadata": {
      "needs_background": "light"
     },
     "output_type": "display_data"
    }
   ],
   "source": [
    "boxplot = actual_data_games.boxplot(column=['world_sales' ], by = ['genre'], figsize=(15,15))\n",
    "\n",
    "ymin, ymax = [0, 4]\n",
    "boxplot.set_ylim([ymin, ymax])\n",
    "boxplot.set_title('Распределение прибыли по жанрам')"
   ]
  },
  {
   "cell_type": "markdown",
   "metadata": {},
   "source": [
    "Самые прибыльные жанры - Action, Sports, Role_Playing. "
   ]
  },
  {
   "cell_type": "markdown",
   "metadata": {},
   "source": [
    "Вывод:\n",
    "На каждый вопрос ответы даны отдельно.\n",
    "\n",
    "Общий вывод - на 2017 год ожидается подьем продаж трех платформ - PS4, XOne и 3DS"
   ]
  },
  {
   "cell_type": "markdown",
   "metadata": {},
   "source": [
    "# Шаг 4. Составление портрета пользователя каждого региона"
   ]
  },
  {
   "cell_type": "markdown",
   "metadata": {},
   "source": [
    "Определим для пользователя каждого региона (NA, EU, JP):\n",
    "Самые популярные платформы (топ-5). Опишем различия в долях продаж.\n",
    "Самые популярные жанры (топ-5). \n",
    "Влияет ли рейтинг ESRB на продажи в отдельном регионе?"
   ]
  },
  {
   "cell_type": "code",
   "execution_count": 55,
   "metadata": {},
   "outputs": [
    {
     "name": "stdout",
     "output_type": "stream",
     "text": [
      "<class 'pandas.core.frame.DataFrame'>\n",
      "Int64Index: 1309 entries, 16 to 16672\n",
      "Data columns (total 12 columns):\n",
      " #   Column           Non-Null Count  Dtype  \n",
      "---  ------           --------------  -----  \n",
      " 0   name             1309 non-null   object \n",
      " 1   platform         1309 non-null   object \n",
      " 2   year_of_release  1309 non-null   int64  \n",
      " 3   genre            1309 non-null   object \n",
      " 4   na_sales         1309 non-null   float32\n",
      " 5   eu_sales         1309 non-null   float32\n",
      " 6   jp_sales         1309 non-null   float32\n",
      " 7   other_sales      1309 non-null   float32\n",
      " 8   critic_score     809 non-null    float32\n",
      " 9   user_score       974 non-null    float32\n",
      " 10  rating           1309 non-null   object \n",
      " 11  world_sales      1309 non-null   float32\n",
      "dtypes: float32(7), int64(1), object(4)\n",
      "memory usage: 97.2+ KB\n"
     ]
    }
   ],
   "source": [
    "# рассмотрим строчки с ненулевыми продажами\n",
    "na_actual_data_games = actual_data_games.query('na_sales > 0')\n",
    "na_actual_data_games.info()"
   ]
  },
  {
   "cell_type": "code",
   "execution_count": 56,
   "metadata": {},
   "outputs": [
    {
     "name": "stdout",
     "output_type": "stream",
     "text": [
      "<class 'pandas.core.frame.DataFrame'>\n",
      "Int64Index: 1422 entries, 16 to 16692\n",
      "Data columns (total 12 columns):\n",
      " #   Column           Non-Null Count  Dtype  \n",
      "---  ------           --------------  -----  \n",
      " 0   name             1422 non-null   object \n",
      " 1   platform         1422 non-null   object \n",
      " 2   year_of_release  1422 non-null   int64  \n",
      " 3   genre            1422 non-null   object \n",
      " 4   na_sales         1422 non-null   float32\n",
      " 5   eu_sales         1422 non-null   float32\n",
      " 6   jp_sales         1422 non-null   float32\n",
      " 7   other_sales      1422 non-null   float32\n",
      " 8   critic_score     872 non-null    float32\n",
      " 9   user_score       1047 non-null   float32\n",
      " 10  rating           1422 non-null   object \n",
      " 11  world_sales      1422 non-null   float32\n",
      "dtypes: float32(7), int64(1), object(4)\n",
      "memory usage: 105.5+ KB\n"
     ]
    }
   ],
   "source": [
    "eu_actual_data_games = actual_data_games.query('eu_sales > 0')\n",
    "eu_actual_data_games.info()"
   ]
  },
  {
   "cell_type": "code",
   "execution_count": 57,
   "metadata": {},
   "outputs": [
    {
     "name": "stdout",
     "output_type": "stream",
     "text": [
      "<class 'pandas.core.frame.DataFrame'>\n",
      "Int64Index: 1187 entries, 16 to 16714\n",
      "Data columns (total 12 columns):\n",
      " #   Column           Non-Null Count  Dtype  \n",
      "---  ------           --------------  -----  \n",
      " 0   name             1187 non-null   object \n",
      " 1   platform         1187 non-null   object \n",
      " 2   year_of_release  1187 non-null   int64  \n",
      " 3   genre            1187 non-null   object \n",
      " 4   na_sales         1187 non-null   float32\n",
      " 5   eu_sales         1187 non-null   float32\n",
      " 6   jp_sales         1187 non-null   float32\n",
      " 7   other_sales      1187 non-null   float32\n",
      " 8   critic_score     410 non-null    float32\n",
      " 9   user_score       462 non-null    float32\n",
      " 10  rating           1187 non-null   object \n",
      " 11  world_sales      1187 non-null   float32\n",
      "dtypes: float32(7), int64(1), object(4)\n",
      "memory usage: 88.1+ KB\n"
     ]
    }
   ],
   "source": [
    "jp_actual_data_games = actual_data_games.query('jp_sales > 0')\n",
    "jp_actual_data_games.info()"
   ]
  },
  {
   "cell_type": "code",
   "execution_count": 58,
   "metadata": {},
   "outputs": [
    {
     "data": {
      "text/html": [
       "<div>\n",
       "<style scoped>\n",
       "    .dataframe tbody tr th:only-of-type {\n",
       "        vertical-align: middle;\n",
       "    }\n",
       "\n",
       "    .dataframe tbody tr th {\n",
       "        vertical-align: top;\n",
       "    }\n",
       "\n",
       "    .dataframe thead th {\n",
       "        text-align: right;\n",
       "    }\n",
       "</style>\n",
       "<table border=\"1\" class=\"dataframe\">\n",
       "  <thead>\n",
       "    <tr style=\"text-align: right;\">\n",
       "      <th></th>\n",
       "      <th>na_sales</th>\n",
       "    </tr>\n",
       "    <tr>\n",
       "      <th>platform</th>\n",
       "      <th></th>\n",
       "    </tr>\n",
       "  </thead>\n",
       "  <tbody>\n",
       "    <tr>\n",
       "      <th>PS4</th>\n",
       "      <td>108.739998</td>\n",
       "    </tr>\n",
       "    <tr>\n",
       "      <th>XOne</th>\n",
       "      <td>93.120003</td>\n",
       "    </tr>\n",
       "    <tr>\n",
       "      <th>X360</th>\n",
       "      <td>81.659996</td>\n",
       "    </tr>\n",
       "    <tr>\n",
       "      <th>PS3</th>\n",
       "      <td>63.500000</td>\n",
       "    </tr>\n",
       "    <tr>\n",
       "      <th>3DS</th>\n",
       "      <td>38.200001</td>\n",
       "    </tr>\n",
       "    <tr>\n",
       "      <th>WiiU</th>\n",
       "      <td>29.209999</td>\n",
       "    </tr>\n",
       "    <tr>\n",
       "      <th>PC</th>\n",
       "      <td>11.110000</td>\n",
       "    </tr>\n",
       "    <tr>\n",
       "      <th>Wii</th>\n",
       "      <td>6.560000</td>\n",
       "    </tr>\n",
       "    <tr>\n",
       "      <th>PSV</th>\n",
       "      <td>5.040000</td>\n",
       "    </tr>\n",
       "    <tr>\n",
       "      <th>DS</th>\n",
       "      <td>0.570000</td>\n",
       "    </tr>\n",
       "  </tbody>\n",
       "</table>\n",
       "</div>"
      ],
      "text/plain": [
       "            na_sales\n",
       "platform            \n",
       "PS4       108.739998\n",
       "XOne       93.120003\n",
       "X360       81.659996\n",
       "PS3        63.500000\n",
       "3DS        38.200001\n",
       "WiiU       29.209999\n",
       "PC         11.110000\n",
       "Wii         6.560000\n",
       "PSV         5.040000\n",
       "DS          0.570000"
      ]
     },
     "execution_count": 58,
     "metadata": {},
     "output_type": "execute_result"
    }
   ],
   "source": [
    "na_platform_pivot_table = pd.pivot_table(na_actual_data_games, index='platform', values='na_sales',\n",
    "                                        aggfunc='sum').sort_values('na_sales', ascending=False)\n",
    "na_platform_pivot_table"
   ]
  },
  {
   "cell_type": "code",
   "execution_count": 59,
   "metadata": {},
   "outputs": [
    {
     "data": {
      "text/html": [
       "<div>\n",
       "<style scoped>\n",
       "    .dataframe tbody tr th:only-of-type {\n",
       "        vertical-align: middle;\n",
       "    }\n",
       "\n",
       "    .dataframe tbody tr th {\n",
       "        vertical-align: top;\n",
       "    }\n",
       "\n",
       "    .dataframe thead th {\n",
       "        text-align: right;\n",
       "    }\n",
       "</style>\n",
       "<table border=\"1\" class=\"dataframe\">\n",
       "  <thead>\n",
       "    <tr style=\"text-align: right;\">\n",
       "      <th></th>\n",
       "      <th>eu_sales</th>\n",
       "    </tr>\n",
       "    <tr>\n",
       "      <th>platform</th>\n",
       "      <th></th>\n",
       "    </tr>\n",
       "  </thead>\n",
       "  <tbody>\n",
       "    <tr>\n",
       "      <th>PS4</th>\n",
       "      <td>141.089996</td>\n",
       "    </tr>\n",
       "    <tr>\n",
       "      <th>PS3</th>\n",
       "      <td>67.809998</td>\n",
       "    </tr>\n",
       "    <tr>\n",
       "      <th>XOne</th>\n",
       "      <td>51.590000</td>\n",
       "    </tr>\n",
       "    <tr>\n",
       "      <th>X360</th>\n",
       "      <td>42.520000</td>\n",
       "    </tr>\n",
       "    <tr>\n",
       "      <th>3DS</th>\n",
       "      <td>30.959999</td>\n",
       "    </tr>\n",
       "    <tr>\n",
       "      <th>PC</th>\n",
       "      <td>25.360001</td>\n",
       "    </tr>\n",
       "    <tr>\n",
       "      <th>WiiU</th>\n",
       "      <td>19.850000</td>\n",
       "    </tr>\n",
       "    <tr>\n",
       "      <th>PSV</th>\n",
       "      <td>6.100000</td>\n",
       "    </tr>\n",
       "    <tr>\n",
       "      <th>Wii</th>\n",
       "      <td>5.930000</td>\n",
       "    </tr>\n",
       "    <tr>\n",
       "      <th>DS</th>\n",
       "      <td>0.850000</td>\n",
       "    </tr>\n",
       "    <tr>\n",
       "      <th>PSP</th>\n",
       "      <td>0.170000</td>\n",
       "    </tr>\n",
       "  </tbody>\n",
       "</table>\n",
       "</div>"
      ],
      "text/plain": [
       "            eu_sales\n",
       "platform            \n",
       "PS4       141.089996\n",
       "PS3        67.809998\n",
       "XOne       51.590000\n",
       "X360       42.520000\n",
       "3DS        30.959999\n",
       "PC         25.360001\n",
       "WiiU       19.850000\n",
       "PSV         6.100000\n",
       "Wii         5.930000\n",
       "DS          0.850000\n",
       "PSP         0.170000"
      ]
     },
     "execution_count": 59,
     "metadata": {},
     "output_type": "execute_result"
    }
   ],
   "source": [
    "eu_platform_pivot_table = pd.pivot_table(eu_actual_data_games, index='platform', values='eu_sales',\n",
    "                                        aggfunc='sum').sort_values('eu_sales', ascending=False)\n",
    "eu_platform_pivot_table"
   ]
  },
  {
   "cell_type": "code",
   "execution_count": 60,
   "metadata": {},
   "outputs": [
    {
     "data": {
      "text/html": [
       "<div>\n",
       "<style scoped>\n",
       "    .dataframe tbody tr th:only-of-type {\n",
       "        vertical-align: middle;\n",
       "    }\n",
       "\n",
       "    .dataframe tbody tr th {\n",
       "        vertical-align: top;\n",
       "    }\n",
       "\n",
       "    .dataframe thead th {\n",
       "        text-align: right;\n",
       "    }\n",
       "</style>\n",
       "<table border=\"1\" class=\"dataframe\">\n",
       "  <thead>\n",
       "    <tr style=\"text-align: right;\">\n",
       "      <th></th>\n",
       "      <th>jp_sales</th>\n",
       "    </tr>\n",
       "    <tr>\n",
       "      <th>platform</th>\n",
       "      <th></th>\n",
       "    </tr>\n",
       "  </thead>\n",
       "  <tbody>\n",
       "    <tr>\n",
       "      <th>3DS</th>\n",
       "      <td>67.809998</td>\n",
       "    </tr>\n",
       "    <tr>\n",
       "      <th>PS3</th>\n",
       "      <td>23.350000</td>\n",
       "    </tr>\n",
       "    <tr>\n",
       "      <th>PSV</th>\n",
       "      <td>18.590000</td>\n",
       "    </tr>\n",
       "    <tr>\n",
       "      <th>PS4</th>\n",
       "      <td>15.960000</td>\n",
       "    </tr>\n",
       "    <tr>\n",
       "      <th>WiiU</th>\n",
       "      <td>10.880000</td>\n",
       "    </tr>\n",
       "    <tr>\n",
       "      <th>PSP</th>\n",
       "      <td>3.290000</td>\n",
       "    </tr>\n",
       "    <tr>\n",
       "      <th>X360</th>\n",
       "      <td>0.510000</td>\n",
       "    </tr>\n",
       "    <tr>\n",
       "      <th>XOne</th>\n",
       "      <td>0.340000</td>\n",
       "    </tr>\n",
       "    <tr>\n",
       "      <th>Wii</th>\n",
       "      <td>0.050000</td>\n",
       "    </tr>\n",
       "  </tbody>\n",
       "</table>\n",
       "</div>"
      ],
      "text/plain": [
       "           jp_sales\n",
       "platform           \n",
       "3DS       67.809998\n",
       "PS3       23.350000\n",
       "PSV       18.590000\n",
       "PS4       15.960000\n",
       "WiiU      10.880000\n",
       "PSP        3.290000\n",
       "X360       0.510000\n",
       "XOne       0.340000\n",
       "Wii        0.050000"
      ]
     },
     "execution_count": 60,
     "metadata": {},
     "output_type": "execute_result"
    }
   ],
   "source": [
    "jp_platform_pivot_table = pd.pivot_table(jp_actual_data_games, index='platform', values='jp_sales',\n",
    "                                        aggfunc='sum').sort_values('jp_sales', ascending=False)\n",
    "jp_platform_pivot_table"
   ]
  },
  {
   "cell_type": "markdown",
   "metadata": {},
   "source": [
    "Рейтинг платформ:\n",
    "\n",
    "Топ 5 в Северной Америке: PS4, XOne, X360, PS3 и 3DS\n",
    "Топ 5 в Европе: PS4, PS3, XOne, X360 и 3DS\n",
    "Топ 5 в Японии: 3DS, PS3, PSV, PS4 и WiiU\n",
    "Во всех странах с высоким рейтингом продаж есть PS, то есть бренд делает свое дело. Есть влияние расположение компании, то есть лидирующие на рынке в стране компании продают самые продаваемые игры. На Американском рынке между собой соревнуются PS4 и XOne.  В Европе из-за отсутствия собственных крупнейших компаний хорошо продается PS4. В Японии соревнуются 3DS и PS3, при этом в родной стране PS3 продается лучше"
   ]
  },
  {
   "cell_type": "markdown",
   "metadata": {},
   "source": [
    "Найдем самые популярные жанры"
   ]
  },
  {
   "cell_type": "code",
   "execution_count": 61,
   "metadata": {},
   "outputs": [
    {
     "data": {
      "text/html": [
       "<div>\n",
       "<style scoped>\n",
       "    .dataframe tbody tr th:only-of-type {\n",
       "        vertical-align: middle;\n",
       "    }\n",
       "\n",
       "    .dataframe tbody tr th {\n",
       "        vertical-align: top;\n",
       "    }\n",
       "\n",
       "    .dataframe thead th {\n",
       "        text-align: right;\n",
       "    }\n",
       "</style>\n",
       "<table border=\"1\" class=\"dataframe\">\n",
       "  <thead>\n",
       "    <tr style=\"text-align: right;\">\n",
       "      <th></th>\n",
       "      <th>na_sales</th>\n",
       "    </tr>\n",
       "    <tr>\n",
       "      <th>genre</th>\n",
       "      <th></th>\n",
       "    </tr>\n",
       "  </thead>\n",
       "  <tbody>\n",
       "    <tr>\n",
       "      <th>Action</th>\n",
       "      <td>126.050003</td>\n",
       "    </tr>\n",
       "    <tr>\n",
       "      <th>Shooter</th>\n",
       "      <td>109.739998</td>\n",
       "    </tr>\n",
       "    <tr>\n",
       "      <th>Sports</th>\n",
       "      <td>65.269997</td>\n",
       "    </tr>\n",
       "    <tr>\n",
       "      <th>Role-Playing</th>\n",
       "      <td>46.400002</td>\n",
       "    </tr>\n",
       "    <tr>\n",
       "      <th>Misc</th>\n",
       "      <td>27.490000</td>\n",
       "    </tr>\n",
       "    <tr>\n",
       "      <th>Platform</th>\n",
       "      <td>18.139999</td>\n",
       "    </tr>\n",
       "    <tr>\n",
       "      <th>Fighting</th>\n",
       "      <td>15.550000</td>\n",
       "    </tr>\n",
       "    <tr>\n",
       "      <th>Racing</th>\n",
       "      <td>12.960000</td>\n",
       "    </tr>\n",
       "    <tr>\n",
       "      <th>Adventure</th>\n",
       "      <td>7.140000</td>\n",
       "    </tr>\n",
       "    <tr>\n",
       "      <th>Simulation</th>\n",
       "      <td>4.860000</td>\n",
       "    </tr>\n",
       "    <tr>\n",
       "      <th>Strategy</th>\n",
       "      <td>3.280000</td>\n",
       "    </tr>\n",
       "    <tr>\n",
       "      <th>Puzzle</th>\n",
       "      <td>0.830000</td>\n",
       "    </tr>\n",
       "  </tbody>\n",
       "</table>\n",
       "</div>"
      ],
      "text/plain": [
       "                na_sales\n",
       "genre                   \n",
       "Action        126.050003\n",
       "Shooter       109.739998\n",
       "Sports         65.269997\n",
       "Role-Playing   46.400002\n",
       "Misc           27.490000\n",
       "Platform       18.139999\n",
       "Fighting       15.550000\n",
       "Racing         12.960000\n",
       "Adventure       7.140000\n",
       "Simulation      4.860000\n",
       "Strategy        3.280000\n",
       "Puzzle          0.830000"
      ]
     },
     "execution_count": 61,
     "metadata": {},
     "output_type": "execute_result"
    }
   ],
   "source": [
    "na_genre_pivot_table = pd.pivot_table(na_actual_data_games, index='genre', values='na_sales',\n",
    "                                        aggfunc='sum').sort_values('na_sales', ascending=False)\n",
    "na_genre_pivot_table"
   ]
  },
  {
   "cell_type": "code",
   "execution_count": 62,
   "metadata": {},
   "outputs": [
    {
     "data": {
      "text/html": [
       "<div>\n",
       "<style scoped>\n",
       "    .dataframe tbody tr th:only-of-type {\n",
       "        vertical-align: middle;\n",
       "    }\n",
       "\n",
       "    .dataframe tbody tr th {\n",
       "        vertical-align: top;\n",
       "    }\n",
       "\n",
       "    .dataframe thead th {\n",
       "        text-align: right;\n",
       "    }\n",
       "</style>\n",
       "<table border=\"1\" class=\"dataframe\">\n",
       "  <thead>\n",
       "    <tr style=\"text-align: right;\">\n",
       "      <th></th>\n",
       "      <th>eu_sales</th>\n",
       "    </tr>\n",
       "    <tr>\n",
       "      <th>genre</th>\n",
       "      <th></th>\n",
       "    </tr>\n",
       "  </thead>\n",
       "  <tbody>\n",
       "    <tr>\n",
       "      <th>Action</th>\n",
       "      <td>118.129997</td>\n",
       "    </tr>\n",
       "    <tr>\n",
       "      <th>Shooter</th>\n",
       "      <td>87.860001</td>\n",
       "    </tr>\n",
       "    <tr>\n",
       "      <th>Sports</th>\n",
       "      <td>60.520000</td>\n",
       "    </tr>\n",
       "    <tr>\n",
       "      <th>Role-Playing</th>\n",
       "      <td>36.970001</td>\n",
       "    </tr>\n",
       "    <tr>\n",
       "      <th>Racing</th>\n",
       "      <td>20.190001</td>\n",
       "    </tr>\n",
       "    <tr>\n",
       "      <th>Misc</th>\n",
       "      <td>20.039999</td>\n",
       "    </tr>\n",
       "    <tr>\n",
       "      <th>Platform</th>\n",
       "      <td>15.580000</td>\n",
       "    </tr>\n",
       "    <tr>\n",
       "      <th>Simulation</th>\n",
       "      <td>10.920000</td>\n",
       "    </tr>\n",
       "    <tr>\n",
       "      <th>Fighting</th>\n",
       "      <td>8.550000</td>\n",
       "    </tr>\n",
       "    <tr>\n",
       "      <th>Adventure</th>\n",
       "      <td>8.250000</td>\n",
       "    </tr>\n",
       "    <tr>\n",
       "      <th>Strategy</th>\n",
       "      <td>4.220000</td>\n",
       "    </tr>\n",
       "    <tr>\n",
       "      <th>Puzzle</th>\n",
       "      <td>1.000000</td>\n",
       "    </tr>\n",
       "  </tbody>\n",
       "</table>\n",
       "</div>"
      ],
      "text/plain": [
       "                eu_sales\n",
       "genre                   \n",
       "Action        118.129997\n",
       "Shooter        87.860001\n",
       "Sports         60.520000\n",
       "Role-Playing   36.970001\n",
       "Racing         20.190001\n",
       "Misc           20.039999\n",
       "Platform       15.580000\n",
       "Simulation     10.920000\n",
       "Fighting        8.550000\n",
       "Adventure       8.250000\n",
       "Strategy        4.220000\n",
       "Puzzle          1.000000"
      ]
     },
     "execution_count": 62,
     "metadata": {},
     "output_type": "execute_result"
    }
   ],
   "source": [
    "eu_genre_pivot_table = pd.pivot_table(eu_actual_data_games, index='genre', values='eu_sales',\n",
    "                                        aggfunc='sum').sort_values('eu_sales', ascending=False)\n",
    "eu_genre_pivot_table"
   ]
  },
  {
   "cell_type": "code",
   "execution_count": 63,
   "metadata": {},
   "outputs": [
    {
     "data": {
      "text/html": [
       "<div>\n",
       "<style scoped>\n",
       "    .dataframe tbody tr th:only-of-type {\n",
       "        vertical-align: middle;\n",
       "    }\n",
       "\n",
       "    .dataframe tbody tr th {\n",
       "        vertical-align: top;\n",
       "    }\n",
       "\n",
       "    .dataframe thead th {\n",
       "        text-align: right;\n",
       "    }\n",
       "</style>\n",
       "<table border=\"1\" class=\"dataframe\">\n",
       "  <thead>\n",
       "    <tr style=\"text-align: right;\">\n",
       "      <th></th>\n",
       "      <th>jp_sales</th>\n",
       "    </tr>\n",
       "    <tr>\n",
       "      <th>genre</th>\n",
       "      <th></th>\n",
       "    </tr>\n",
       "  </thead>\n",
       "  <tbody>\n",
       "    <tr>\n",
       "      <th>Role-Playing</th>\n",
       "      <td>51.040001</td>\n",
       "    </tr>\n",
       "    <tr>\n",
       "      <th>Action</th>\n",
       "      <td>40.490002</td>\n",
       "    </tr>\n",
       "    <tr>\n",
       "      <th>Misc</th>\n",
       "      <td>9.200000</td>\n",
       "    </tr>\n",
       "    <tr>\n",
       "      <th>Fighting</th>\n",
       "      <td>7.650000</td>\n",
       "    </tr>\n",
       "    <tr>\n",
       "      <th>Shooter</th>\n",
       "      <td>6.610000</td>\n",
       "    </tr>\n",
       "    <tr>\n",
       "      <th>Adventure</th>\n",
       "      <td>5.820000</td>\n",
       "    </tr>\n",
       "    <tr>\n",
       "      <th>Sports</th>\n",
       "      <td>5.410000</td>\n",
       "    </tr>\n",
       "    <tr>\n",
       "      <th>Platform</th>\n",
       "      <td>4.790000</td>\n",
       "    </tr>\n",
       "    <tr>\n",
       "      <th>Simulation</th>\n",
       "      <td>4.520000</td>\n",
       "    </tr>\n",
       "    <tr>\n",
       "      <th>Racing</th>\n",
       "      <td>2.300000</td>\n",
       "    </tr>\n",
       "    <tr>\n",
       "      <th>Strategy</th>\n",
       "      <td>1.770000</td>\n",
       "    </tr>\n",
       "    <tr>\n",
       "      <th>Puzzle</th>\n",
       "      <td>1.180000</td>\n",
       "    </tr>\n",
       "  </tbody>\n",
       "</table>\n",
       "</div>"
      ],
      "text/plain": [
       "               jp_sales\n",
       "genre                  \n",
       "Role-Playing  51.040001\n",
       "Action        40.490002\n",
       "Misc           9.200000\n",
       "Fighting       7.650000\n",
       "Shooter        6.610000\n",
       "Adventure      5.820000\n",
       "Sports         5.410000\n",
       "Platform       4.790000\n",
       "Simulation     4.520000\n",
       "Racing         2.300000\n",
       "Strategy       1.770000\n",
       "Puzzle         1.180000"
      ]
     },
     "execution_count": 63,
     "metadata": {},
     "output_type": "execute_result"
    }
   ],
   "source": [
    "jp_genre_pivot_table = pd.pivot_table(jp_actual_data_games, index='genre', values='jp_sales',\n",
    "                                        aggfunc='sum').sort_values('jp_sales', ascending=False)\n",
    "jp_genre_pivot_table"
   ]
  },
  {
   "cell_type": "markdown",
   "metadata": {},
   "source": [
    "Рейтинг жанров:\n",
    "\n",
    "Топ 5 в Северной Америке: Action, Shooter, Sports, Role-Playing и Misc\n",
    "Топ 5 в Европе: Action, Shooter, Sports, Role-Playing и Racing\n",
    "Топ 5 в Японии: Role-Playing, Action, Misc, Fighting и Shooter\n",
    "\n",
    "В Америке и Европе интересуются похожими жанрами. В Японии превалируют в основном другие жанры"
   ]
  },
  {
   "cell_type": "markdown",
   "metadata": {},
   "source": [
    "Посмотрим, как влияет рейтинг в каждом регионе"
   ]
  },
  {
   "cell_type": "code",
   "execution_count": 64,
   "metadata": {},
   "outputs": [
    {
     "data": {
      "text/html": [
       "<div>\n",
       "<style scoped>\n",
       "    .dataframe tbody tr th:only-of-type {\n",
       "        vertical-align: middle;\n",
       "    }\n",
       "\n",
       "    .dataframe tbody tr th {\n",
       "        vertical-align: top;\n",
       "    }\n",
       "\n",
       "    .dataframe thead th {\n",
       "        text-align: right;\n",
       "    }\n",
       "</style>\n",
       "<table border=\"1\" class=\"dataframe\">\n",
       "  <thead>\n",
       "    <tr style=\"text-align: right;\">\n",
       "      <th></th>\n",
       "      <th>na_sales</th>\n",
       "    </tr>\n",
       "    <tr>\n",
       "      <th>rating</th>\n",
       "      <th></th>\n",
       "    </tr>\n",
       "  </thead>\n",
       "  <tbody>\n",
       "    <tr>\n",
       "      <th>M</th>\n",
       "      <td>165.210007</td>\n",
       "    </tr>\n",
       "    <tr>\n",
       "      <th>undefined</th>\n",
       "      <td>89.419998</td>\n",
       "    </tr>\n",
       "    <tr>\n",
       "      <th>E</th>\n",
       "      <td>79.050003</td>\n",
       "    </tr>\n",
       "    <tr>\n",
       "      <th>E10+</th>\n",
       "      <td>54.240002</td>\n",
       "    </tr>\n",
       "    <tr>\n",
       "      <th>T</th>\n",
       "      <td>49.790001</td>\n",
       "    </tr>\n",
       "  </tbody>\n",
       "</table>\n",
       "</div>"
      ],
      "text/plain": [
       "             na_sales\n",
       "rating               \n",
       "M          165.210007\n",
       "undefined   89.419998\n",
       "E           79.050003\n",
       "E10+        54.240002\n",
       "T           49.790001"
      ]
     },
     "execution_count": 64,
     "metadata": {},
     "output_type": "execute_result"
    }
   ],
   "source": [
    "na_rating_pivot_table = pd.pivot_table(na_actual_data_games, index='rating', values='na_sales',\n",
    "                                        aggfunc='sum').sort_values('na_sales', ascending=False)\n",
    "na_rating_pivot_table"
   ]
  },
  {
   "cell_type": "code",
   "execution_count": 65,
   "metadata": {},
   "outputs": [
    {
     "data": {
      "text/html": [
       "<div>\n",
       "<style scoped>\n",
       "    .dataframe tbody tr th:only-of-type {\n",
       "        vertical-align: middle;\n",
       "    }\n",
       "\n",
       "    .dataframe tbody tr th {\n",
       "        vertical-align: top;\n",
       "    }\n",
       "\n",
       "    .dataframe thead th {\n",
       "        text-align: right;\n",
       "    }\n",
       "</style>\n",
       "<table border=\"1\" class=\"dataframe\">\n",
       "  <thead>\n",
       "    <tr style=\"text-align: right;\">\n",
       "      <th></th>\n",
       "      <th>eu_sales</th>\n",
       "    </tr>\n",
       "    <tr>\n",
       "      <th>rating</th>\n",
       "      <th></th>\n",
       "    </tr>\n",
       "  </thead>\n",
       "  <tbody>\n",
       "    <tr>\n",
       "      <th>M</th>\n",
       "      <td>145.320007</td>\n",
       "    </tr>\n",
       "    <tr>\n",
       "      <th>E</th>\n",
       "      <td>83.360001</td>\n",
       "    </tr>\n",
       "    <tr>\n",
       "      <th>undefined</th>\n",
       "      <td>78.909996</td>\n",
       "    </tr>\n",
       "    <tr>\n",
       "      <th>E10+</th>\n",
       "      <td>42.689999</td>\n",
       "    </tr>\n",
       "    <tr>\n",
       "      <th>T</th>\n",
       "      <td>41.950001</td>\n",
       "    </tr>\n",
       "  </tbody>\n",
       "</table>\n",
       "</div>"
      ],
      "text/plain": [
       "             eu_sales\n",
       "rating               \n",
       "M          145.320007\n",
       "E           83.360001\n",
       "undefined   78.909996\n",
       "E10+        42.689999\n",
       "T           41.950001"
      ]
     },
     "execution_count": 65,
     "metadata": {},
     "output_type": "execute_result"
    }
   ],
   "source": [
    "eu_rating_pivot_table = pd.pivot_table(eu_actual_data_games, index='rating', values='eu_sales',\n",
    "                                        aggfunc='sum').sort_values('eu_sales', ascending=False)\n",
    "eu_rating_pivot_table"
   ]
  },
  {
   "cell_type": "code",
   "execution_count": 66,
   "metadata": {},
   "outputs": [
    {
     "data": {
      "text/html": [
       "<div>\n",
       "<style scoped>\n",
       "    .dataframe tbody tr th:only-of-type {\n",
       "        vertical-align: middle;\n",
       "    }\n",
       "\n",
       "    .dataframe tbody tr th {\n",
       "        vertical-align: top;\n",
       "    }\n",
       "\n",
       "    .dataframe thead th {\n",
       "        text-align: right;\n",
       "    }\n",
       "</style>\n",
       "<table border=\"1\" class=\"dataframe\">\n",
       "  <thead>\n",
       "    <tr style=\"text-align: right;\">\n",
       "      <th></th>\n",
       "      <th>jp_sales</th>\n",
       "    </tr>\n",
       "    <tr>\n",
       "      <th>rating</th>\n",
       "      <th></th>\n",
       "    </tr>\n",
       "  </thead>\n",
       "  <tbody>\n",
       "    <tr>\n",
       "      <th>undefined</th>\n",
       "      <td>85.050003</td>\n",
       "    </tr>\n",
       "    <tr>\n",
       "      <th>T</th>\n",
       "      <td>20.590000</td>\n",
       "    </tr>\n",
       "    <tr>\n",
       "      <th>E</th>\n",
       "      <td>15.140000</td>\n",
       "    </tr>\n",
       "    <tr>\n",
       "      <th>M</th>\n",
       "      <td>14.110000</td>\n",
       "    </tr>\n",
       "    <tr>\n",
       "      <th>E10+</th>\n",
       "      <td>5.890000</td>\n",
       "    </tr>\n",
       "  </tbody>\n",
       "</table>\n",
       "</div>"
      ],
      "text/plain": [
       "            jp_sales\n",
       "rating              \n",
       "undefined  85.050003\n",
       "T          20.590000\n",
       "E          15.140000\n",
       "M          14.110000\n",
       "E10+        5.890000"
      ]
     },
     "execution_count": 66,
     "metadata": {},
     "output_type": "execute_result"
    }
   ],
   "source": [
    "jp_rating_pivot_table = pd.pivot_table(jp_actual_data_games, index='rating', values='jp_sales',\n",
    "                                        aggfunc='sum').sort_values('jp_sales', ascending=False)\n",
    "jp_rating_pivot_table"
   ]
  },
  {
   "cell_type": "markdown",
   "metadata": {},
   "source": [
    "В Америке и Европе популярны игры с возрастным рейтингом - 17+. Значит, в основном, там взрослые пользователи.\n",
    "В Японии возрастной рейтинг ниже - 13+. То есть игры создаются и для более молодого поколения"
   ]
  },
  {
   "cell_type": "markdown",
   "metadata": {},
   "source": [
    "Вывод по шагу 4.\n",
    "\n",
    "В Америке игроки - от 17 лет, у них популярны PS4 и XOne, они любят экшен и стрелялки\n",
    "В Европе - игрок от 17 лет, популярна платформа PS4, любят стрелялки и экшен.\n",
    "В Японии - игроки от 13 лет, играют в основном на 3DS или PSV, Играют в ролевые и экшен"
   ]
  },
  {
   "cell_type": "markdown",
   "metadata": {},
   "source": [
    "# Шаг 5. Проверка гипотез"
   ]
  },
  {
   "cell_type": "markdown",
   "metadata": {},
   "source": [
    "Проверим гипотезы\n",
    "Средние пользовательские рейтинги платформ Xbox One и PC одинаковые;\n",
    "Средние пользовательские рейтинги жанров Action (англ. «действие», экшен-игры) и Sports (англ. «спортивные соревнования») разные.\n",
    "Определим пороговое значение alpha = 0.05"
   ]
  },
  {
   "cell_type": "markdown",
   "metadata": {},
   "source": [
    "Гипотеза № 1:\n",
    "средние пользовательские рейтинги платформ Xbox One и PC одинаковые.\n",
    "\n",
    "Н0 (нулевая гипотеза) - средние пользовательские рейтинги платформ Xbox One и PC одинаковые.\n",
    "\n",
    "Н1 (альтернативная гипотеза) - средние пользовательские рейтинги платформ Xbox One и PC отличаются между собой."
   ]
  },
  {
   "cell_type": "code",
   "execution_count": 67,
   "metadata": {},
   "outputs": [],
   "source": [
    "user_ratings_XOne = actual_data_games[actual_data_games['platform']==\"XOne\"]['user_score'].dropna() \n",
    "user_ratings_PC  = actual_data_games[actual_data_games['platform']==\"PC\"]['user_score'].dropna()"
   ]
  },
  {
   "cell_type": "code",
   "execution_count": 68,
   "metadata": {},
   "outputs": [
    {
     "data": {
      "text/plain": [
       "0.00389754886889314"
      ]
     },
     "execution_count": 68,
     "metadata": {},
     "output_type": "execute_result"
    }
   ],
   "source": [
    "from scipy.stats import levene\n",
    "stat, p = levene(user_ratings_XOne, user_ratings_PC)\n",
    "p"
   ]
  },
  {
   "cell_type": "code",
   "execution_count": 69,
   "metadata": {},
   "outputs": [
    {
     "name": "stdout",
     "output_type": "stream",
     "text": [
      "p-значение: 0.14012765210016784\n",
      "Не получилось отвергнуть нулевую гипотезу\n"
     ]
    }
   ],
   "source": [
    "alpha = 0.05 \n",
    "\n",
    "results_1 = st.ttest_ind(\n",
    "    user_ratings_XOne, \n",
    "    user_ratings_PC,\n",
    "    equal_var = True)\n",
    "\n",
    "print('p-значение:', results_1.pvalue)\n",
    "\n",
    "if (results_1.pvalue < alpha): \n",
    "    print(\"Отвергаем нулевую гипотезу\")\n",
    "else:\n",
    "    print(\"Не получилось отвергнуть нулевую гипотезу\") "
   ]
  },
  {
   "cell_type": "markdown",
   "metadata": {},
   "source": [
    "Вывод\n",
    "\n",
    "Не получилось отвергнуть нулевую гипотезу.\n",
    "\n",
    "Верно следующее утверждение: средние пользовательские рейтинги платформ Xbox One и PC одинаковые"
   ]
  },
  {
   "cell_type": "markdown",
   "metadata": {},
   "source": [
    "Гипотеза № 2:\n",
    "средние пользовательские рейтинги жанров Action и Sports разные.\n",
    "\n",
    "Н0 (нулевая гипотеза) - средние пользовательские рейтинги жанров Action и Sports одинаковые.\n",
    "\n",
    "Н1 (альтернативная гипотеза) - средние пользовательские рейтинги жанров Action и Sports отличаются между собой."
   ]
  },
  {
   "cell_type": "code",
   "execution_count": 70,
   "metadata": {},
   "outputs": [],
   "source": [
    "genre_action_games = actual_data_games[actual_data_games['genre']==\"Action\"]['user_score'].dropna()\n",
    "genre_sports_games = actual_data_games[actual_data_games['genre']==\"Sports\"]['user_score'].dropna()"
   ]
  },
  {
   "cell_type": "code",
   "execution_count": 71,
   "metadata": {},
   "outputs": [
    {
     "name": "stdout",
     "output_type": "stream",
     "text": [
      "p-значение: 1.4459989209941613e-20\n",
      "Отвергаем нулевую гипотезу\n"
     ]
    }
   ],
   "source": [
    "alpha = 0.05 \n",
    "\n",
    "results_2 = st.ttest_ind(\n",
    "    genre_action_games, \n",
    "    genre_sports_games,\n",
    "    equal_var = False)\n",
    "\n",
    "print('p-значение:', results_2.pvalue)\n",
    "\n",
    "if (results_2.pvalue < alpha):\n",
    "    print(\"Отвергаем нулевую гипотезу\")\n",
    "else:\n",
    "    print(\"Не получилось отвергнуть нулевую гипотезу\") "
   ]
  },
  {
   "cell_type": "markdown",
   "metadata": {},
   "source": [
    "Вывод\n",
    "\n",
    "Отвергаем нулевую гипотезу. Таким образом, остается верным утверждение, что средние пользовательские рейтинги жанров Action и Sports отличаются"
   ]
  },
  {
   "cell_type": "markdown",
   "metadata": {},
   "source": [
    "Итоговый вывод\n",
    "Были загружены данные, осуществлена преодбработка таблицы, заменены столбцы, обработаны пропуски, удалены дубликаты\n",
    "Выделены актуальные данные\n",
    "Составлены портреты пользователей для разных регионов\n",
    "Проверены гипотезы\n",
    "\n",
    "Продажи зависят от того, на какой платформе она создана, региона создателя и жанра.\n",
    "\n",
    "Популярны компании, которые давно существуют на рынке, у них большое кол-во фанатов по всему миру.\n",
    "\n",
    "Влияние платформы - чем лучше техническая составляющая, тем лучше сама игра. Самые популярные платформы -  PS4, XOne и 3DS.\n",
    "\n",
    "Жанров лидирующих несколько, разные запросы потребителей, но лидирующие - экшен, стрелялки, спортивные игры и ролевые.\n",
    "\n",
    "Общий возраст, на который рассчитаны игры - от 17 лет"
   ]
  }
 ],
 "metadata": {
  "ExecuteTimeLog": [
   {
    "duration": 1675,
    "start_time": "2023-08-17T14:19:26.841Z"
   },
   {
    "duration": 116,
    "start_time": "2023-08-17T14:19:28.520Z"
   },
   {
    "duration": 19,
    "start_time": "2023-08-17T14:19:51.209Z"
   },
   {
    "duration": 28,
    "start_time": "2023-08-17T14:22:03.858Z"
   },
   {
    "duration": 16,
    "start_time": "2023-08-17T14:22:58.755Z"
   },
   {
    "duration": 127,
    "start_time": "2023-08-17T14:27:40.816Z"
   },
   {
    "duration": 4,
    "start_time": "2023-08-17T14:27:48.841Z"
   },
   {
    "duration": 5,
    "start_time": "2023-08-17T14:28:00.284Z"
   },
   {
    "duration": 4,
    "start_time": "2023-08-17T14:29:06.745Z"
   },
   {
    "duration": 17,
    "start_time": "2023-08-17T14:59:46.271Z"
   },
   {
    "duration": 4,
    "start_time": "2023-08-17T14:59:49.606Z"
   },
   {
    "duration": 4,
    "start_time": "2023-08-17T15:08:22.716Z"
   },
   {
    "duration": 15,
    "start_time": "2023-08-17T15:08:31.346Z"
   },
   {
    "duration": 7,
    "start_time": "2023-08-17T15:11:47.836Z"
   },
   {
    "duration": 19,
    "start_time": "2023-08-17T15:17:33.893Z"
   },
   {
    "duration": 14,
    "start_time": "2023-08-17T15:18:37.403Z"
   },
   {
    "duration": 14,
    "start_time": "2023-08-17T15:18:42.737Z"
   },
   {
    "duration": 11,
    "start_time": "2023-08-17T15:19:39.185Z"
   },
   {
    "duration": 15,
    "start_time": "2023-08-17T15:19:51.706Z"
   },
   {
    "duration": 6,
    "start_time": "2023-08-17T15:20:32.092Z"
   },
   {
    "duration": 10,
    "start_time": "2023-08-17T15:26:54.467Z"
   },
   {
    "duration": 4,
    "start_time": "2023-08-17T15:27:10.520Z"
   },
   {
    "duration": 6,
    "start_time": "2023-08-17T15:27:13.129Z"
   },
   {
    "duration": 14,
    "start_time": "2023-08-17T15:27:40.123Z"
   },
   {
    "duration": 15,
    "start_time": "2023-08-17T15:36:00.961Z"
   },
   {
    "duration": 12,
    "start_time": "2023-08-17T15:36:13.434Z"
   },
   {
    "duration": 6,
    "start_time": "2023-08-17T15:36:15.723Z"
   },
   {
    "duration": 15,
    "start_time": "2023-08-17T15:36:25.597Z"
   },
   {
    "duration": 14,
    "start_time": "2023-08-17T15:36:43.069Z"
   },
   {
    "duration": 10,
    "start_time": "2023-08-17T15:37:29.125Z"
   },
   {
    "duration": 21,
    "start_time": "2023-08-17T15:37:32.309Z"
   },
   {
    "duration": 10,
    "start_time": "2023-08-17T15:37:52.369Z"
   },
   {
    "duration": 14,
    "start_time": "2023-08-17T15:37:58.506Z"
   },
   {
    "duration": 12,
    "start_time": "2023-08-17T15:38:46.362Z"
   },
   {
    "duration": 10,
    "start_time": "2023-08-17T15:38:47.469Z"
   },
   {
    "duration": 14,
    "start_time": "2023-08-17T15:38:49.540Z"
   },
   {
    "duration": 14,
    "start_time": "2023-08-17T15:39:16.948Z"
   },
   {
    "duration": 14,
    "start_time": "2023-08-17T15:39:18.723Z"
   },
   {
    "duration": 996,
    "start_time": "2023-08-17T16:17:42.167Z"
   },
   {
    "duration": 16,
    "start_time": "2023-08-17T16:18:02.094Z"
   },
   {
    "duration": 9,
    "start_time": "2023-08-17T16:20:13.656Z"
   },
   {
    "duration": 17,
    "start_time": "2023-08-17T16:20:23.327Z"
   },
   {
    "duration": 18,
    "start_time": "2023-08-17T16:27:47.611Z"
   },
   {
    "duration": 18,
    "start_time": "2023-08-17T16:28:47.250Z"
   },
   {
    "duration": 12,
    "start_time": "2023-08-17T16:32:04.780Z"
   },
   {
    "duration": 1306,
    "start_time": "2023-08-17T16:32:50.790Z"
   },
   {
    "duration": 56,
    "start_time": "2023-08-17T16:32:52.098Z"
   },
   {
    "duration": 16,
    "start_time": "2023-08-17T16:32:52.156Z"
   },
   {
    "duration": 35,
    "start_time": "2023-08-17T16:32:52.174Z"
   },
   {
    "duration": 7,
    "start_time": "2023-08-17T16:32:52.211Z"
   },
   {
    "duration": 28,
    "start_time": "2023-08-17T16:32:52.220Z"
   },
   {
    "duration": 6,
    "start_time": "2023-08-17T16:32:52.249Z"
   },
   {
    "duration": 27,
    "start_time": "2023-08-17T16:32:52.256Z"
   },
   {
    "duration": 29,
    "start_time": "2023-08-17T16:32:52.285Z"
   },
   {
    "duration": 23,
    "start_time": "2023-08-17T16:32:52.316Z"
   },
   {
    "duration": 25,
    "start_time": "2023-08-17T16:32:52.341Z"
   },
   {
    "duration": 33,
    "start_time": "2023-08-17T16:32:52.368Z"
   },
   {
    "duration": 18,
    "start_time": "2023-08-17T16:32:52.403Z"
   },
   {
    "duration": 17,
    "start_time": "2023-08-17T16:32:52.423Z"
   },
   {
    "duration": 18,
    "start_time": "2023-08-17T16:32:52.441Z"
   },
   {
    "duration": 38,
    "start_time": "2023-08-17T16:32:52.461Z"
   },
   {
    "duration": 26,
    "start_time": "2023-08-17T16:48:42.624Z"
   },
   {
    "duration": 116,
    "start_time": "2023-08-17T17:01:41.259Z"
   },
   {
    "duration": 9,
    "start_time": "2023-08-17T17:01:52.803Z"
   },
   {
    "duration": 19,
    "start_time": "2023-08-17T17:02:00.080Z"
   },
   {
    "duration": 10,
    "start_time": "2023-08-17T17:32:54.242Z"
   },
   {
    "duration": 17,
    "start_time": "2023-08-17T17:33:29.970Z"
   },
   {
    "duration": 12,
    "start_time": "2023-08-17T17:34:04.693Z"
   },
   {
    "duration": 4,
    "start_time": "2023-08-17T17:34:21.540Z"
   },
   {
    "duration": 15,
    "start_time": "2023-08-17T17:34:25.205Z"
   },
   {
    "duration": 1220,
    "start_time": "2023-08-17T17:58:48.663Z"
   },
   {
    "duration": 54,
    "start_time": "2023-08-17T17:58:49.886Z"
   },
   {
    "duration": 15,
    "start_time": "2023-08-17T17:58:49.942Z"
   },
   {
    "duration": 24,
    "start_time": "2023-08-17T17:58:49.959Z"
   },
   {
    "duration": 5,
    "start_time": "2023-08-17T17:58:49.986Z"
   },
   {
    "duration": 14,
    "start_time": "2023-08-17T17:58:49.995Z"
   },
   {
    "duration": 6,
    "start_time": "2023-08-17T17:58:50.011Z"
   },
   {
    "duration": 21,
    "start_time": "2023-08-17T17:58:50.018Z"
   },
   {
    "duration": 24,
    "start_time": "2023-08-17T17:58:50.040Z"
   },
   {
    "duration": 30,
    "start_time": "2023-08-17T17:58:50.066Z"
   },
   {
    "duration": 25,
    "start_time": "2023-08-17T17:58:50.097Z"
   },
   {
    "duration": 25,
    "start_time": "2023-08-17T17:58:50.124Z"
   },
   {
    "duration": 19,
    "start_time": "2023-08-17T17:58:50.151Z"
   },
   {
    "duration": 27,
    "start_time": "2023-08-17T17:58:50.173Z"
   },
   {
    "duration": 21,
    "start_time": "2023-08-17T17:58:50.202Z"
   },
   {
    "duration": 20,
    "start_time": "2023-08-17T17:58:50.224Z"
   },
   {
    "duration": 6,
    "start_time": "2023-08-17T17:58:50.245Z"
   },
   {
    "duration": 57,
    "start_time": "2023-08-17T17:58:50.253Z"
   },
   {
    "duration": 22,
    "start_time": "2023-08-17T17:58:50.313Z"
   },
   {
    "duration": 16,
    "start_time": "2023-08-17T17:58:50.337Z"
   },
   {
    "duration": 112,
    "start_time": "2023-08-17T18:03:43.213Z"
   },
   {
    "duration": 7,
    "start_time": "2023-08-17T18:03:47.723Z"
   },
   {
    "duration": 169,
    "start_time": "2023-08-17T18:06:55.524Z"
   },
   {
    "duration": 8,
    "start_time": "2023-08-17T18:08:05.603Z"
   },
   {
    "duration": 175,
    "start_time": "2023-08-17T18:09:23.567Z"
   },
   {
    "duration": 25,
    "start_time": "2023-08-17T18:22:14.346Z"
   },
   {
    "duration": 4,
    "start_time": "2023-08-17T18:27:47.095Z"
   },
   {
    "duration": 61,
    "start_time": "2023-08-17T18:29:49.053Z"
   },
   {
    "duration": 16,
    "start_time": "2023-08-17T19:03:20.425Z"
   },
   {
    "duration": 11,
    "start_time": "2023-08-17T19:03:33.165Z"
   },
   {
    "duration": 21,
    "start_time": "2023-08-17T19:03:38.885Z"
   },
   {
    "duration": 19,
    "start_time": "2023-08-17T19:54:27.390Z"
   },
   {
    "duration": 20,
    "start_time": "2023-08-17T19:54:58.750Z"
   },
   {
    "duration": 25,
    "start_time": "2023-08-17T20:24:34.651Z"
   },
   {
    "duration": 9,
    "start_time": "2023-08-17T20:36:27.503Z"
   },
   {
    "duration": 14,
    "start_time": "2023-08-17T20:36:36.607Z"
   },
   {
    "duration": 130,
    "start_time": "2023-08-17T20:44:23.672Z"
   },
   {
    "duration": 11,
    "start_time": "2023-08-17T20:47:35.339Z"
   },
   {
    "duration": 123,
    "start_time": "2023-08-17T20:47:50.434Z"
   },
   {
    "duration": 117,
    "start_time": "2023-08-17T21:50:53.927Z"
   },
   {
    "duration": 123,
    "start_time": "2023-08-17T21:51:10.161Z"
   },
   {
    "duration": 93,
    "start_time": "2023-08-17T21:51:11.274Z"
   },
   {
    "duration": 188,
    "start_time": "2023-08-17T21:51:13.867Z"
   },
   {
    "duration": 10,
    "start_time": "2023-08-17T22:08:02.718Z"
   },
   {
    "duration": 13,
    "start_time": "2023-08-17T22:08:16.412Z"
   },
   {
    "duration": 136,
    "start_time": "2023-08-17T22:08:39.364Z"
   },
   {
    "duration": 119,
    "start_time": "2023-08-17T22:09:05.899Z"
   },
   {
    "duration": 12,
    "start_time": "2023-08-17T22:39:11.050Z"
   },
   {
    "duration": 11,
    "start_time": "2023-08-17T22:39:38.854Z"
   },
   {
    "duration": 12,
    "start_time": "2023-08-17T22:39:47.921Z"
   },
   {
    "duration": 11,
    "start_time": "2023-08-17T22:40:15.897Z"
   },
   {
    "duration": 572,
    "start_time": "2023-08-17T22:40:25.571Z"
   },
   {
    "duration": 15,
    "start_time": "2023-08-17T23:05:01.538Z"
   },
   {
    "duration": 1104,
    "start_time": "2023-08-17T23:05:35.066Z"
   },
   {
    "duration": 11,
    "start_time": "2023-08-17T23:05:37.601Z"
   },
   {
    "duration": 19,
    "start_time": "2023-08-17T23:21:19.782Z"
   },
   {
    "duration": 16,
    "start_time": "2023-08-17T23:37:26.564Z"
   },
   {
    "duration": 23,
    "start_time": "2023-08-17T23:38:00.506Z"
   },
   {
    "duration": 139,
    "start_time": "2023-08-17T23:38:02.154Z"
   },
   {
    "duration": 76,
    "start_time": "2023-08-17T23:39:09.960Z"
   },
   {
    "duration": 18,
    "start_time": "2023-08-17T23:39:19.865Z"
   },
   {
    "duration": 22,
    "start_time": "2023-08-17T23:39:46.563Z"
   },
   {
    "duration": 19,
    "start_time": "2023-08-17T23:45:56.835Z"
   },
   {
    "duration": 14,
    "start_time": "2023-08-17T23:46:18.766Z"
   },
   {
    "duration": 14,
    "start_time": "2023-08-17T23:53:55.316Z"
   },
   {
    "duration": 12,
    "start_time": "2023-08-18T00:12:00.734Z"
   },
   {
    "duration": 8,
    "start_time": "2023-08-18T00:12:12.613Z"
   },
   {
    "duration": 8,
    "start_time": "2023-08-18T00:12:14.814Z"
   },
   {
    "duration": 7,
    "start_time": "2023-08-18T00:12:59.189Z"
   },
   {
    "duration": 7,
    "start_time": "2023-08-18T00:14:54.102Z"
   },
   {
    "duration": 6,
    "start_time": "2023-08-18T00:14:56.419Z"
   },
   {
    "duration": 5,
    "start_time": "2023-08-18T00:14:58.818Z"
   },
   {
    "duration": 10,
    "start_time": "2023-08-18T00:17:24.673Z"
   },
   {
    "duration": 7,
    "start_time": "2023-08-18T00:17:28.412Z"
   },
   {
    "duration": 6,
    "start_time": "2023-08-18T00:17:31.844Z"
   },
   {
    "duration": 1494,
    "start_time": "2023-08-18T00:17:57.790Z"
   },
   {
    "duration": 80,
    "start_time": "2023-08-18T00:17:59.286Z"
   },
   {
    "duration": 16,
    "start_time": "2023-08-18T00:17:59.368Z"
   },
   {
    "duration": 34,
    "start_time": "2023-08-18T00:17:59.385Z"
   },
   {
    "duration": 8,
    "start_time": "2023-08-18T00:17:59.422Z"
   },
   {
    "duration": 18,
    "start_time": "2023-08-18T00:17:59.432Z"
   },
   {
    "duration": 4,
    "start_time": "2023-08-18T00:17:59.452Z"
   },
   {
    "duration": 26,
    "start_time": "2023-08-18T00:17:59.458Z"
   },
   {
    "duration": 8,
    "start_time": "2023-08-18T00:17:59.497Z"
   },
   {
    "duration": 40,
    "start_time": "2023-08-18T00:17:59.507Z"
   },
   {
    "duration": 12,
    "start_time": "2023-08-18T00:17:59.549Z"
   },
   {
    "duration": 14,
    "start_time": "2023-08-18T00:17:59.564Z"
   },
   {
    "duration": 24,
    "start_time": "2023-08-18T00:17:59.581Z"
   },
   {
    "duration": 34,
    "start_time": "2023-08-18T00:17:59.610Z"
   },
   {
    "duration": 16,
    "start_time": "2023-08-18T00:17:59.647Z"
   },
   {
    "duration": 19,
    "start_time": "2023-08-18T00:17:59.665Z"
   },
   {
    "duration": 12,
    "start_time": "2023-08-18T00:17:59.686Z"
   },
   {
    "duration": 57,
    "start_time": "2023-08-18T00:17:59.706Z"
   },
   {
    "duration": 19,
    "start_time": "2023-08-18T00:17:59.766Z"
   },
   {
    "duration": 28,
    "start_time": "2023-08-18T00:17:59.787Z"
   },
   {
    "duration": 32,
    "start_time": "2023-08-18T00:17:59.816Z"
   },
   {
    "duration": 269,
    "start_time": "2023-08-18T00:17:59.850Z"
   },
   {
    "duration": 23,
    "start_time": "2023-08-18T00:18:00.122Z"
   },
   {
    "duration": 14,
    "start_time": "2023-08-18T00:18:00.148Z"
   },
   {
    "duration": 149,
    "start_time": "2023-08-18T00:18:00.163Z"
   },
   {
    "duration": 21,
    "start_time": "2023-08-18T00:18:00.317Z"
   },
   {
    "duration": 55,
    "start_time": "2023-08-18T00:18:00.339Z"
   },
   {
    "duration": 52,
    "start_time": "2023-08-18T00:18:00.396Z"
   },
   {
    "duration": 96,
    "start_time": "2023-08-18T00:18:00.450Z"
   },
   {
    "duration": 38,
    "start_time": "2023-08-18T00:18:00.547Z"
   },
   {
    "duration": 163,
    "start_time": "2023-08-18T00:18:00.587Z"
   },
   {
    "duration": 136,
    "start_time": "2023-08-18T00:18:00.752Z"
   },
   {
    "duration": 126,
    "start_time": "2023-08-18T00:18:00.890Z"
   },
   {
    "duration": 135,
    "start_time": "2023-08-18T00:18:01.018Z"
   },
   {
    "duration": 120,
    "start_time": "2023-08-18T00:18:01.155Z"
   },
   {
    "duration": 168,
    "start_time": "2023-08-18T00:18:01.277Z"
   },
   {
    "duration": 9,
    "start_time": "2023-08-18T00:18:01.447Z"
   },
   {
    "duration": 51,
    "start_time": "2023-08-18T00:18:01.457Z"
   },
   {
    "duration": 867,
    "start_time": "2023-08-18T00:18:01.512Z"
   },
   {
    "duration": 11,
    "start_time": "2023-08-18T00:18:02.381Z"
   },
   {
    "duration": 128,
    "start_time": "2023-08-18T00:18:02.401Z"
   },
   {
    "duration": 794,
    "start_time": "2023-08-18T00:18:02.531Z"
   },
   {
    "duration": 13,
    "start_time": "2023-08-18T00:18:03.327Z"
   },
   {
    "duration": 38,
    "start_time": "2023-08-18T00:18:03.342Z"
   },
   {
    "duration": 952,
    "start_time": "2023-08-18T00:18:03.382Z"
   },
   {
    "duration": 13,
    "start_time": "2023-08-18T00:18:04.337Z"
   },
   {
    "duration": 17,
    "start_time": "2023-08-18T00:18:04.352Z"
   },
   {
    "duration": 714,
    "start_time": "2023-08-18T00:18:04.370Z"
   },
   {
    "duration": 24,
    "start_time": "2023-08-18T00:18:05.086Z"
   },
   {
    "duration": 58,
    "start_time": "2023-08-18T00:18:05.115Z"
   },
   {
    "duration": 755,
    "start_time": "2023-08-18T00:18:05.175Z"
   },
   {
    "duration": 14,
    "start_time": "2023-08-18T00:18:05.932Z"
   },
   {
    "duration": 41,
    "start_time": "2023-08-18T00:18:05.948Z"
   },
   {
    "duration": 45,
    "start_time": "2023-08-18T00:18:05.991Z"
   },
   {
    "duration": 32,
    "start_time": "2023-08-18T00:18:06.038Z"
   },
   {
    "duration": 47,
    "start_time": "2023-08-18T00:18:06.072Z"
   },
   {
    "duration": 24,
    "start_time": "2023-08-18T00:18:06.123Z"
   },
   {
    "duration": 41,
    "start_time": "2023-08-18T00:18:06.149Z"
   },
   {
    "duration": 55,
    "start_time": "2023-08-18T00:18:06.192Z"
   },
   {
    "duration": 20,
    "start_time": "2023-08-18T00:18:06.249Z"
   },
   {
    "duration": 17,
    "start_time": "2023-08-18T00:18:06.272Z"
   },
   {
    "duration": 54,
    "start_time": "2023-08-18T00:18:06.292Z"
   },
   {
    "duration": 14,
    "start_time": "2023-08-18T00:18:06.348Z"
   },
   {
    "duration": 48,
    "start_time": "2023-08-18T00:18:06.364Z"
   },
   {
    "duration": 45,
    "start_time": "2023-08-18T00:18:06.414Z"
   },
   {
    "duration": 19,
    "start_time": "2023-08-18T00:18:06.460Z"
   },
   {
    "duration": 43,
    "start_time": "2023-08-18T00:18:06.480Z"
   },
   {
    "duration": 19,
    "start_time": "2023-08-18T00:18:06.525Z"
   },
   {
    "duration": 28,
    "start_time": "2023-08-18T00:18:06.546Z"
   },
   {
    "duration": 1293,
    "start_time": "2023-08-18T03:49:01.443Z"
   },
   {
    "duration": 53,
    "start_time": "2023-08-18T03:49:02.738Z"
   },
   {
    "duration": 15,
    "start_time": "2023-08-18T03:49:02.792Z"
   },
   {
    "duration": 25,
    "start_time": "2023-08-18T03:49:02.808Z"
   },
   {
    "duration": 4,
    "start_time": "2023-08-18T03:49:02.835Z"
   },
   {
    "duration": 24,
    "start_time": "2023-08-18T03:49:02.840Z"
   },
   {
    "duration": 3,
    "start_time": "2023-08-18T03:49:02.865Z"
   },
   {
    "duration": 17,
    "start_time": "2023-08-18T03:49:02.870Z"
   },
   {
    "duration": 11,
    "start_time": "2023-08-18T03:49:02.889Z"
   },
   {
    "duration": 25,
    "start_time": "2023-08-18T03:49:02.901Z"
   },
   {
    "duration": 10,
    "start_time": "2023-08-18T03:49:02.928Z"
   },
   {
    "duration": 26,
    "start_time": "2023-08-18T03:49:02.940Z"
   },
   {
    "duration": 18,
    "start_time": "2023-08-18T03:49:02.968Z"
   },
   {
    "duration": 28,
    "start_time": "2023-08-18T03:49:02.989Z"
   },
   {
    "duration": 28,
    "start_time": "2023-08-18T03:49:03.019Z"
   },
   {
    "duration": 19,
    "start_time": "2023-08-18T03:49:03.050Z"
   },
   {
    "duration": 4,
    "start_time": "2023-08-18T03:49:03.071Z"
   },
   {
    "duration": 46,
    "start_time": "2023-08-18T03:49:03.077Z"
   },
   {
    "duration": 18,
    "start_time": "2023-08-18T03:49:03.125Z"
   },
   {
    "duration": 22,
    "start_time": "2023-08-18T03:49:03.145Z"
   },
   {
    "duration": 5,
    "start_time": "2023-08-18T03:49:03.168Z"
   },
   {
    "duration": 180,
    "start_time": "2023-08-18T03:49:03.174Z"
   },
   {
    "duration": 15,
    "start_time": "2023-08-18T03:49:03.358Z"
   },
   {
    "duration": 9,
    "start_time": "2023-08-18T03:49:03.375Z"
   },
   {
    "duration": 78,
    "start_time": "2023-08-18T03:49:03.386Z"
   },
   {
    "duration": 16,
    "start_time": "2023-08-18T03:49:03.467Z"
   },
   {
    "duration": 17,
    "start_time": "2023-08-18T03:49:03.484Z"
   },
   {
    "duration": 14,
    "start_time": "2023-08-18T03:49:03.502Z"
   },
   {
    "duration": 19,
    "start_time": "2023-08-18T03:49:03.517Z"
   },
   {
    "duration": 14,
    "start_time": "2023-08-18T03:49:03.559Z"
   },
   {
    "duration": 110,
    "start_time": "2023-08-18T03:49:03.575Z"
   },
   {
    "duration": 120,
    "start_time": "2023-08-18T03:49:03.686Z"
   },
   {
    "duration": 102,
    "start_time": "2023-08-18T03:49:03.808Z"
   },
   {
    "duration": 127,
    "start_time": "2023-08-18T03:49:03.911Z"
   },
   {
    "duration": 158,
    "start_time": "2023-08-18T03:49:04.041Z"
   },
   {
    "duration": 133,
    "start_time": "2023-08-18T03:49:04.202Z"
   },
   {
    "duration": 9,
    "start_time": "2023-08-18T03:49:04.336Z"
   },
   {
    "duration": 19,
    "start_time": "2023-08-18T03:49:04.347Z"
   },
   {
    "duration": 665,
    "start_time": "2023-08-18T03:49:04.368Z"
   },
   {
    "duration": 10,
    "start_time": "2023-08-18T03:49:05.034Z"
   },
   {
    "duration": 9,
    "start_time": "2023-08-18T03:49:05.047Z"
   },
   {
    "duration": 564,
    "start_time": "2023-08-18T03:49:05.057Z"
   },
   {
    "duration": 10,
    "start_time": "2023-08-18T03:49:05.622Z"
   },
   {
    "duration": 69,
    "start_time": "2023-08-18T03:49:05.634Z"
   },
   {
    "duration": 703,
    "start_time": "2023-08-18T03:49:05.705Z"
   },
   {
    "duration": 10,
    "start_time": "2023-08-18T03:49:06.410Z"
   },
   {
    "duration": 9,
    "start_time": "2023-08-18T03:49:06.422Z"
   },
   {
    "duration": 600,
    "start_time": "2023-08-18T03:49:06.432Z"
   },
   {
    "duration": 11,
    "start_time": "2023-08-18T03:49:07.034Z"
   },
   {
    "duration": 11,
    "start_time": "2023-08-18T03:49:07.058Z"
   },
   {
    "duration": 608,
    "start_time": "2023-08-18T03:49:07.071Z"
   },
   {
    "duration": 16,
    "start_time": "2023-08-18T03:49:07.681Z"
   },
   {
    "duration": 12,
    "start_time": "2023-08-18T03:49:07.698Z"
   },
   {
    "duration": 12,
    "start_time": "2023-08-18T03:49:07.711Z"
   },
   {
    "duration": 40,
    "start_time": "2023-08-18T03:49:07.725Z"
   },
   {
    "duration": 20,
    "start_time": "2023-08-18T03:49:07.767Z"
   },
   {
    "duration": 17,
    "start_time": "2023-08-18T03:49:07.789Z"
   },
   {
    "duration": 13,
    "start_time": "2023-08-18T03:49:07.807Z"
   },
   {
    "duration": 56,
    "start_time": "2023-08-18T03:49:07.821Z"
   },
   {
    "duration": 21,
    "start_time": "2023-08-18T03:49:07.879Z"
   },
   {
    "duration": 31,
    "start_time": "2023-08-18T03:49:07.902Z"
   },
   {
    "duration": 23,
    "start_time": "2023-08-18T03:49:07.935Z"
   },
   {
    "duration": 12,
    "start_time": "2023-08-18T03:49:07.960Z"
   },
   {
    "duration": 27,
    "start_time": "2023-08-18T03:49:07.973Z"
   },
   {
    "duration": 25,
    "start_time": "2023-08-18T03:49:08.002Z"
   },
   {
    "duration": 7,
    "start_time": "2023-08-18T03:49:08.029Z"
   },
   {
    "duration": 10,
    "start_time": "2023-08-18T03:49:08.038Z"
   },
   {
    "duration": 7,
    "start_time": "2023-08-18T03:49:08.050Z"
   },
   {
    "duration": 10,
    "start_time": "2023-08-18T03:49:08.059Z"
   },
   {
    "duration": 188,
    "start_time": "2023-08-18T19:37:30.862Z"
   },
   {
    "duration": 780,
    "start_time": "2023-08-18T19:42:50.671Z"
   },
   {
    "duration": 633,
    "start_time": "2023-08-18T19:43:10.737Z"
   },
   {
    "duration": 613,
    "start_time": "2023-08-18T19:46:37.370Z"
   },
   {
    "duration": 739,
    "start_time": "2023-08-18T19:46:48.730Z"
   },
   {
    "duration": 231,
    "start_time": "2023-08-18T19:59:13.418Z"
   },
   {
    "duration": 137,
    "start_time": "2023-08-18T20:02:13.444Z"
   },
   {
    "duration": 125,
    "start_time": "2023-08-18T20:02:38.027Z"
   },
   {
    "duration": 128,
    "start_time": "2023-08-18T20:03:20.184Z"
   },
   {
    "duration": 107,
    "start_time": "2023-08-18T20:03:31.064Z"
   },
   {
    "duration": 130,
    "start_time": "2023-08-18T20:03:38.766Z"
   },
   {
    "duration": 125,
    "start_time": "2023-08-18T20:04:05.733Z"
   },
   {
    "duration": 122,
    "start_time": "2023-08-18T20:04:08.909Z"
   },
   {
    "duration": 108,
    "start_time": "2023-08-18T20:04:23.447Z"
   },
   {
    "duration": 112,
    "start_time": "2023-08-18T20:04:33.007Z"
   },
   {
    "duration": 126,
    "start_time": "2023-08-18T20:04:57.661Z"
   },
   {
    "duration": 132,
    "start_time": "2023-08-18T20:05:19.904Z"
   },
   {
    "duration": 116,
    "start_time": "2023-08-18T20:05:40.012Z"
   },
   {
    "duration": 173,
    "start_time": "2023-08-18T20:05:59.079Z"
   },
   {
    "duration": 124,
    "start_time": "2023-08-18T20:06:09.903Z"
   },
   {
    "duration": 133,
    "start_time": "2023-08-18T20:14:00.401Z"
   },
   {
    "duration": 104,
    "start_time": "2023-08-18T20:24:38.617Z"
   },
   {
    "duration": 116,
    "start_time": "2023-08-18T20:26:13.349Z"
   },
   {
    "duration": 15,
    "start_time": "2023-08-18T20:33:21.835Z"
   },
   {
    "duration": 23,
    "start_time": "2023-08-18T20:33:39.511Z"
   },
   {
    "duration": 115,
    "start_time": "2023-08-18T20:36:30.350Z"
   },
   {
    "duration": 162,
    "start_time": "2023-08-18T20:38:32.462Z"
   },
   {
    "duration": 136,
    "start_time": "2023-08-18T20:38:44.861Z"
   },
   {
    "duration": 113,
    "start_time": "2023-08-18T20:41:33.827Z"
   },
   {
    "duration": 15,
    "start_time": "2023-08-18T20:44:25.603Z"
   },
   {
    "duration": 420,
    "start_time": "2023-08-18T20:47:53.961Z"
   },
   {
    "duration": 273,
    "start_time": "2023-08-18T20:52:20.426Z"
   },
   {
    "duration": 288,
    "start_time": "2023-08-18T20:52:58.358Z"
   },
   {
    "duration": 396,
    "start_time": "2023-08-18T20:53:06.410Z"
   },
   {
    "duration": 188,
    "start_time": "2023-08-18T20:53:28.608Z"
   },
   {
    "duration": 145,
    "start_time": "2023-08-18T20:53:42.826Z"
   },
   {
    "duration": 153,
    "start_time": "2023-08-18T20:54:01.825Z"
   },
   {
    "duration": 164,
    "start_time": "2023-08-18T20:54:17.144Z"
   },
   {
    "duration": 173,
    "start_time": "2023-08-18T20:54:28.514Z"
   },
   {
    "duration": 189,
    "start_time": "2023-08-18T20:54:39.974Z"
   },
   {
    "duration": 191,
    "start_time": "2023-08-18T20:54:46.413Z"
   },
   {
    "duration": 239,
    "start_time": "2023-08-18T20:54:56.781Z"
   },
   {
    "duration": 211,
    "start_time": "2023-08-18T20:55:05.922Z"
   },
   {
    "duration": 185,
    "start_time": "2023-08-18T20:55:12.681Z"
   },
   {
    "duration": 384,
    "start_time": "2023-08-18T20:55:51.125Z"
   },
   {
    "duration": 374,
    "start_time": "2023-08-18T20:56:22.981Z"
   },
   {
    "duration": 361,
    "start_time": "2023-08-18T20:56:33.913Z"
   },
   {
    "duration": 588,
    "start_time": "2023-08-18T21:04:23.823Z"
   },
   {
    "duration": 364,
    "start_time": "2023-08-18T21:04:59.010Z"
   },
   {
    "duration": 364,
    "start_time": "2023-08-18T21:06:01.296Z"
   },
   {
    "duration": 376,
    "start_time": "2023-08-18T21:08:59.650Z"
   },
   {
    "duration": 368,
    "start_time": "2023-08-18T21:09:26.063Z"
   },
   {
    "duration": 332,
    "start_time": "2023-08-18T21:09:34.554Z"
   },
   {
    "duration": 1314,
    "start_time": "2023-08-19T02:43:39.843Z"
   },
   {
    "duration": 51,
    "start_time": "2023-08-19T02:43:41.159Z"
   },
   {
    "duration": 13,
    "start_time": "2023-08-19T02:43:41.212Z"
   },
   {
    "duration": 22,
    "start_time": "2023-08-19T02:43:41.227Z"
   },
   {
    "duration": 3,
    "start_time": "2023-08-19T02:43:41.251Z"
   },
   {
    "duration": 12,
    "start_time": "2023-08-19T02:43:41.256Z"
   },
   {
    "duration": 4,
    "start_time": "2023-08-19T02:43:41.270Z"
   },
   {
    "duration": 17,
    "start_time": "2023-08-19T02:43:41.276Z"
   },
   {
    "duration": 5,
    "start_time": "2023-08-19T02:43:41.295Z"
   },
   {
    "duration": 10,
    "start_time": "2023-08-19T02:43:41.302Z"
   },
   {
    "duration": 36,
    "start_time": "2023-08-19T02:43:41.314Z"
   },
   {
    "duration": 12,
    "start_time": "2023-08-19T02:43:41.351Z"
   },
   {
    "duration": 17,
    "start_time": "2023-08-19T02:43:41.365Z"
   },
   {
    "duration": 18,
    "start_time": "2023-08-19T02:43:41.383Z"
   },
   {
    "duration": 19,
    "start_time": "2023-08-19T02:43:41.403Z"
   },
   {
    "duration": 43,
    "start_time": "2023-08-19T02:43:41.424Z"
   },
   {
    "duration": 4,
    "start_time": "2023-08-19T02:43:41.469Z"
   },
   {
    "duration": 31,
    "start_time": "2023-08-19T02:43:41.474Z"
   },
   {
    "duration": 17,
    "start_time": "2023-08-19T02:43:41.507Z"
   },
   {
    "duration": 37,
    "start_time": "2023-08-19T02:43:41.525Z"
   },
   {
    "duration": 5,
    "start_time": "2023-08-19T02:43:41.563Z"
   },
   {
    "duration": 170,
    "start_time": "2023-08-19T02:43:41.569Z"
   },
   {
    "duration": 20,
    "start_time": "2023-08-19T02:43:41.740Z"
   },
   {
    "duration": 29,
    "start_time": "2023-08-19T02:43:41.762Z"
   },
   {
    "duration": 99,
    "start_time": "2023-08-19T02:43:41.793Z"
   },
   {
    "duration": 13,
    "start_time": "2023-08-19T02:43:41.894Z"
   },
   {
    "duration": 11,
    "start_time": "2023-08-19T02:43:41.909Z"
   },
   {
    "duration": 27,
    "start_time": "2023-08-19T02:43:41.924Z"
   },
   {
    "duration": 21,
    "start_time": "2023-08-19T02:43:41.953Z"
   },
   {
    "duration": 12,
    "start_time": "2023-08-19T02:43:41.975Z"
   },
   {
    "duration": 176,
    "start_time": "2023-08-19T02:43:41.988Z"
   },
   {
    "duration": 128,
    "start_time": "2023-08-19T02:43:42.166Z"
   },
   {
    "duration": 162,
    "start_time": "2023-08-19T02:43:42.295Z"
   },
   {
    "duration": 158,
    "start_time": "2023-08-19T02:43:42.459Z"
   },
   {
    "duration": 160,
    "start_time": "2023-08-19T02:43:42.619Z"
   },
   {
    "duration": 164,
    "start_time": "2023-08-19T02:43:42.781Z"
   },
   {
    "duration": 352,
    "start_time": "2023-08-19T02:43:42.946Z"
   },
   {
    "duration": 9,
    "start_time": "2023-08-19T02:43:43.299Z"
   },
   {
    "duration": 16,
    "start_time": "2023-08-19T02:43:43.309Z"
   },
   {
    "duration": 558,
    "start_time": "2023-08-19T02:43:43.326Z"
   },
   {
    "duration": 8,
    "start_time": "2023-08-19T02:43:43.887Z"
   },
   {
    "duration": 11,
    "start_time": "2023-08-19T02:43:43.897Z"
   },
   {
    "duration": 489,
    "start_time": "2023-08-19T02:43:43.909Z"
   },
   {
    "duration": 8,
    "start_time": "2023-08-19T02:43:44.400Z"
   },
   {
    "duration": 9,
    "start_time": "2023-08-19T02:43:44.409Z"
   },
   {
    "duration": 603,
    "start_time": "2023-08-19T02:43:44.420Z"
   },
   {
    "duration": 9,
    "start_time": "2023-08-19T02:43:45.024Z"
   },
   {
    "duration": 27,
    "start_time": "2023-08-19T02:43:45.034Z"
   },
   {
    "duration": 528,
    "start_time": "2023-08-19T02:43:45.063Z"
   },
   {
    "duration": 8,
    "start_time": "2023-08-19T02:43:45.593Z"
   },
   {
    "duration": 9,
    "start_time": "2023-08-19T02:43:45.602Z"
   },
   {
    "duration": 560,
    "start_time": "2023-08-19T02:43:45.612Z"
   },
   {
    "duration": 17,
    "start_time": "2023-08-19T02:43:46.174Z"
   },
   {
    "duration": 425,
    "start_time": "2023-08-19T02:43:46.192Z"
   },
   {
    "duration": 13,
    "start_time": "2023-08-19T02:43:46.618Z"
   },
   {
    "duration": 27,
    "start_time": "2023-08-19T02:43:46.632Z"
   },
   {
    "duration": 12,
    "start_time": "2023-08-19T02:43:46.661Z"
   },
   {
    "duration": 20,
    "start_time": "2023-08-19T02:43:46.675Z"
   },
   {
    "duration": 12,
    "start_time": "2023-08-19T02:43:46.697Z"
   },
   {
    "duration": 12,
    "start_time": "2023-08-19T02:43:46.711Z"
   },
   {
    "duration": 16,
    "start_time": "2023-08-19T02:43:46.750Z"
   },
   {
    "duration": 13,
    "start_time": "2023-08-19T02:43:46.768Z"
   },
   {
    "duration": 14,
    "start_time": "2023-08-19T02:43:46.783Z"
   },
   {
    "duration": 19,
    "start_time": "2023-08-19T02:43:46.798Z"
   },
   {
    "duration": 10,
    "start_time": "2023-08-19T02:43:46.819Z"
   },
   {
    "duration": 30,
    "start_time": "2023-08-19T02:43:46.850Z"
   },
   {
    "duration": 15,
    "start_time": "2023-08-19T02:43:46.882Z"
   },
   {
    "duration": 87,
    "start_time": "2023-08-19T02:43:46.898Z"
   },
   {
    "duration": 56,
    "start_time": "2023-08-19T02:43:46.987Z"
   },
   {
    "duration": 34,
    "start_time": "2023-08-19T02:43:47.045Z"
   },
   {
    "duration": 6,
    "start_time": "2023-08-19T02:43:47.081Z"
   }
  ],
  "kernelspec": {
   "display_name": "Python 3 (ipykernel)",
   "language": "python",
   "name": "python3"
  },
  "language_info": {
   "codemirror_mode": {
    "name": "ipython",
    "version": 3
   },
   "file_extension": ".py",
   "mimetype": "text/x-python",
   "name": "python",
   "nbconvert_exporter": "python",
   "pygments_lexer": "ipython3",
   "version": "3.9.5"
  },
  "toc": {
   "base_numbering": 1,
   "nav_menu": {},
   "number_sections": true,
   "sideBar": true,
   "skip_h1_title": true,
   "title_cell": "Table of Contents",
   "title_sidebar": "Contents",
   "toc_cell": false,
   "toc_position": {},
   "toc_section_display": true,
   "toc_window_display": false
  }
 },
 "nbformat": 4,
 "nbformat_minor": 2
}
