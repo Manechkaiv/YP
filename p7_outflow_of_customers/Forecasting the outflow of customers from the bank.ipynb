{
 "cells": [
  {
   "attachments": {},
   "cell_type": "markdown",
   "metadata": {
    "toc": true
   },
   "source": [
    "<h1>Содержание<span class=\"tocSkip\"></span></h1>\n",
    "<div class=\"toc\"><ul class=\"toc-item\"><li><span><a href=\"#Подготовка-данных\" data-toc-modified-id=\"Подготовка-данных-1\"><span class=\"toc-item-num\">1&nbsp;&nbsp;</span>Подготовка данных</a></span></li><li><span><a href=\"#Исследование-задачи\" data-toc-modified-id=\"Исследование-задачи-2\"><span class=\"toc-item-num\">2&nbsp;&nbsp;</span>Исследование задачи</a></span><ul class=\"toc-item\"><li><ul class=\"toc-item\"><li><span><a href=\"#Дерево-решений\" data-toc-modified-id=\"Дерево-решений-2.0.1\"><span class=\"toc-item-num\">2.0.1&nbsp;&nbsp;</span>Дерево решений</a></span></li><li><span><a href=\"#Случайный-лес\" data-toc-modified-id=\"Случайный-лес-2.0.2\"><span class=\"toc-item-num\">2.0.2&nbsp;&nbsp;</span>Случайный лес</a></span></li><li><span><a href=\"#Логистическая-регрессия\" data-toc-modified-id=\"Логистическая-регрессия-2.0.3\"><span class=\"toc-item-num\">2.0.3&nbsp;&nbsp;</span>Логистическая регрессия</a></span></li></ul></li></ul></li><li><span><a href=\"#Борьба-с-дисбалансом\" data-toc-modified-id=\"Борьба-с-дисбалансом-3\"><span class=\"toc-item-num\">3&nbsp;&nbsp;</span>Борьба с дисбалансом</a></span><ul class=\"toc-item\"><li><span><a href=\"#Взвешивание-классов\" data-toc-modified-id=\"Взвешивание-классов-3.1\"><span class=\"toc-item-num\">3.1&nbsp;&nbsp;</span>Взвешивание классов</a></span><ul class=\"toc-item\"><li><span><a href=\"#Дерево-решений\" data-toc-modified-id=\"Дерево-решений-3.1.1\"><span class=\"toc-item-num\">3.1.1&nbsp;&nbsp;</span>Дерево решений</a></span></li><li><span><a href=\"#Случайный-лес\" data-toc-modified-id=\"Случайный-лес-3.1.2\"><span class=\"toc-item-num\">3.1.2&nbsp;&nbsp;</span>Случайный лес</a></span></li><li><span><a href=\"#Логистическая-регрессия\" data-toc-modified-id=\"Логистическая-регрессия-3.1.3\"><span class=\"toc-item-num\">3.1.3&nbsp;&nbsp;</span>Логистическая регрессия</a></span></li></ul></li><li><span><a href=\"#Уменьшение-выборки\" data-toc-modified-id=\"Уменьшение-выборки-3.2\"><span class=\"toc-item-num\">3.2&nbsp;&nbsp;</span>Уменьшение выборки</a></span><ul class=\"toc-item\"><li><span><a href=\"#Дерево-решений\" data-toc-modified-id=\"Дерево-решений-3.2.1\"><span class=\"toc-item-num\">3.2.1&nbsp;&nbsp;</span>Дерево решений</a></span></li><li><span><a href=\"#Случайный-лес\" data-toc-modified-id=\"Случайный-лес-3.2.2\"><span class=\"toc-item-num\">3.2.2&nbsp;&nbsp;</span>Случайный лес</a></span></li><li><span><a href=\"#Логистическая-регрессия\" data-toc-modified-id=\"Логистическая-регрессия-3.2.3\"><span class=\"toc-item-num\">3.2.3&nbsp;&nbsp;</span>Логистическая регрессия</a></span></li></ul></li><li><span><a href=\"#Увеличение-выборки\" data-toc-modified-id=\"Увеличение-выборки-3.3\"><span class=\"toc-item-num\">3.3&nbsp;&nbsp;</span>Увеличение выборки</a></span><ul class=\"toc-item\"><li><span><a href=\"#Дерево-решений\" data-toc-modified-id=\"Дерево-решений-3.3.1\"><span class=\"toc-item-num\">3.3.1&nbsp;&nbsp;</span>Дерево решений</a></span></li><li><span><a href=\"#Случайный-лес\" data-toc-modified-id=\"Случайный-лес-3.3.2\"><span class=\"toc-item-num\">3.3.2&nbsp;&nbsp;</span>Случайный лес</a></span></li><li><span><a href=\"#Логистическая-регрессия\" data-toc-modified-id=\"Логистическая-регрессия-3.3.3\"><span class=\"toc-item-num\">3.3.3&nbsp;&nbsp;</span>Логистическая регрессия</a></span></li></ul></li></ul></li><li><span><a href=\"#Тестирование-модели\" data-toc-modified-id=\"Тестирование-модели-4\"><span class=\"toc-item-num\">4&nbsp;&nbsp;</span>Тестирование модели</a></span></li></ul></div>"
   ]
  },
  {
   "cell_type": "markdown",
   "metadata": {},
   "source": [
    "# Отток клиентов"
   ]
  },
  {
   "cell_type": "markdown",
   "metadata": {},
   "source": [
    "Из «Бета-Банка» стали уходить клиенты. Каждый месяц. Немного, но заметно. Банковские маркетологи посчитали: сохранять текущих клиентов дешевле, чем привлекать новых.\n",
    "\n",
    "Нужно спрогнозировать, уйдёт клиент из банка в ближайшее время или нет. Вам предоставлены исторические данные о поведении клиентов и расторжении договоров с банком. \n",
    "\n",
    "Постройте модель с предельно большим значением *F1*-меры. Чтобы сдать проект успешно, нужно довести метрику до 0.59. Проверьте *F1*-меру на тестовой выборке самостоятельно.\n",
    "\n",
    "Дополнительно измеряйте *AUC-ROC*, сравнивайте её значение с *F1*-мерой.\n",
    "\n",
    "Источник данных: [https://www.kaggle.com/barelydedicated/bank-customer-churn-modeling](https://www.kaggle.com/barelydedicated/bank-customer-churn-modeling)"
   ]
  },
  {
   "cell_type": "markdown",
   "metadata": {},
   "source": [
    "## Подготовка данных"
   ]
  },
  {
   "cell_type": "markdown",
   "metadata": {},
   "source": [
    "Признаки\n",
    "\n",
    "RowNumber — индекс строки в данных\n",
    "\n",
    "CustomerId — уникальный идентификатор клиента\n",
    "\n",
    "Surname — фамилия\n",
    "\n",
    "CreditScore — кредитный рейтинг\n",
    "\n",
    "Geography — страна проживания\n",
    "\n",
    "Gender — пол\n",
    "\n",
    "Age — возраст\n",
    "\n",
    "Tenure — сколько лет человек является клиентом банка\n",
    "\n",
    "Balance — баланс на счёте\n",
    "\n",
    "NumOfProducts — количество продуктов банка, используемых клиентом\n",
    "\n",
    "HasCrCard — наличие кредитной карты\n",
    "\n",
    "IsActiveMember — активность клиента\n",
    "\n",
    "EstimatedSalary — предполагаемая зарплата\n",
    "\n",
    "\n",
    "Целевой признак\n",
    "\n",
    "Exited — факт ухода клиента"
   ]
  },
  {
   "cell_type": "code",
   "execution_count": 1,
   "metadata": {},
   "outputs": [],
   "source": [
    "import pandas as pd\n",
    "import numpy as np\n",
    "import matplotlib.pyplot as plt\n",
    "import seaborn as sns\n",
    "import statsmodels.api as sm\n",
    "import scipy\n",
    "import math\n",
    "import time\n",
    "from sklearn.linear_model import LogisticRegression\n",
    "from sklearn.tree import DecisionTreeClassifier\n",
    "from sklearn.ensemble import RandomForestClassifier\n",
    "from sklearn.tree import DecisionTreeRegressor\n",
    "from sklearn.ensemble import RandomForestRegressor\n",
    "from sklearn.linear_model import LinearRegression\n",
    "from sklearn.model_selection import train_test_split\n",
    "from sklearn.metrics import plot_confusion_matrix\n",
    "from sklearn.metrics import f1_score\n",
    "from sklearn.metrics import mean_squared_error\n",
    "from sklearn.metrics import mean_absolute_error\n",
    "from sklearn.preprocessing import StandardScaler\n",
    "from sklearn.metrics import accuracy_score\n",
    "from sklearn.metrics import recall_score\n",
    "from sklearn.metrics import precision_score\n",
    "from sklearn.utils import shuffle\n",
    "from sklearn.metrics import precision_recall_curve\n",
    "from sklearn.metrics import roc_curve\n",
    "from sklearn.metrics import roc_auc_score\n",
    "from sklearn.metrics import r2_score"
   ]
  },
  {
   "cell_type": "code",
   "execution_count": 2,
   "metadata": {},
   "outputs": [],
   "source": [
    "data = pd.read_csv('/datasets/Churn.csv')"
   ]
  },
  {
   "cell_type": "code",
   "execution_count": 3,
   "metadata": {},
   "outputs": [
    {
     "name": "stdout",
     "output_type": "stream",
     "text": [
      "<class 'pandas.core.frame.DataFrame'>\n",
      "RangeIndex: 10000 entries, 0 to 9999\n",
      "Data columns (total 14 columns):\n",
      " #   Column           Non-Null Count  Dtype  \n",
      "---  ------           --------------  -----  \n",
      " 0   RowNumber        10000 non-null  int64  \n",
      " 1   CustomerId       10000 non-null  int64  \n",
      " 2   Surname          10000 non-null  object \n",
      " 3   CreditScore      10000 non-null  int64  \n",
      " 4   Geography        10000 non-null  object \n",
      " 5   Gender           10000 non-null  object \n",
      " 6   Age              10000 non-null  int64  \n",
      " 7   Tenure           9091 non-null   float64\n",
      " 8   Balance          10000 non-null  float64\n",
      " 9   NumOfProducts    10000 non-null  int64  \n",
      " 10  HasCrCard        10000 non-null  int64  \n",
      " 11  IsActiveMember   10000 non-null  int64  \n",
      " 12  EstimatedSalary  10000 non-null  float64\n",
      " 13  Exited           10000 non-null  int64  \n",
      "dtypes: float64(3), int64(8), object(3)\n",
      "memory usage: 1.1+ MB\n"
     ]
    }
   ],
   "source": [
    "# Выведем общую информацию о датасете\n",
    "data.info()"
   ]
  },
  {
   "cell_type": "code",
   "execution_count": 4,
   "metadata": {},
   "outputs": [
    {
     "data": {
      "text/html": [
       "<div>\n",
       "<style scoped>\n",
       "    .dataframe tbody tr th:only-of-type {\n",
       "        vertical-align: middle;\n",
       "    }\n",
       "\n",
       "    .dataframe tbody tr th {\n",
       "        vertical-align: top;\n",
       "    }\n",
       "\n",
       "    .dataframe thead th {\n",
       "        text-align: right;\n",
       "    }\n",
       "</style>\n",
       "<table border=\"1\" class=\"dataframe\">\n",
       "  <thead>\n",
       "    <tr style=\"text-align: right;\">\n",
       "      <th></th>\n",
       "      <th>RowNumber</th>\n",
       "      <th>CustomerId</th>\n",
       "      <th>Surname</th>\n",
       "      <th>CreditScore</th>\n",
       "      <th>Geography</th>\n",
       "      <th>Gender</th>\n",
       "      <th>Age</th>\n",
       "      <th>Tenure</th>\n",
       "      <th>Balance</th>\n",
       "      <th>NumOfProducts</th>\n",
       "      <th>HasCrCard</th>\n",
       "      <th>IsActiveMember</th>\n",
       "      <th>EstimatedSalary</th>\n",
       "      <th>Exited</th>\n",
       "    </tr>\n",
       "  </thead>\n",
       "  <tbody>\n",
       "    <tr>\n",
       "      <th>0</th>\n",
       "      <td>1</td>\n",
       "      <td>15634602</td>\n",
       "      <td>Hargrave</td>\n",
       "      <td>619</td>\n",
       "      <td>France</td>\n",
       "      <td>Female</td>\n",
       "      <td>42</td>\n",
       "      <td>2.0</td>\n",
       "      <td>0.00</td>\n",
       "      <td>1</td>\n",
       "      <td>1</td>\n",
       "      <td>1</td>\n",
       "      <td>101348.88</td>\n",
       "      <td>1</td>\n",
       "    </tr>\n",
       "    <tr>\n",
       "      <th>1</th>\n",
       "      <td>2</td>\n",
       "      <td>15647311</td>\n",
       "      <td>Hill</td>\n",
       "      <td>608</td>\n",
       "      <td>Spain</td>\n",
       "      <td>Female</td>\n",
       "      <td>41</td>\n",
       "      <td>1.0</td>\n",
       "      <td>83807.86</td>\n",
       "      <td>1</td>\n",
       "      <td>0</td>\n",
       "      <td>1</td>\n",
       "      <td>112542.58</td>\n",
       "      <td>0</td>\n",
       "    </tr>\n",
       "    <tr>\n",
       "      <th>2</th>\n",
       "      <td>3</td>\n",
       "      <td>15619304</td>\n",
       "      <td>Onio</td>\n",
       "      <td>502</td>\n",
       "      <td>France</td>\n",
       "      <td>Female</td>\n",
       "      <td>42</td>\n",
       "      <td>8.0</td>\n",
       "      <td>159660.80</td>\n",
       "      <td>3</td>\n",
       "      <td>1</td>\n",
       "      <td>0</td>\n",
       "      <td>113931.57</td>\n",
       "      <td>1</td>\n",
       "    </tr>\n",
       "    <tr>\n",
       "      <th>3</th>\n",
       "      <td>4</td>\n",
       "      <td>15701354</td>\n",
       "      <td>Boni</td>\n",
       "      <td>699</td>\n",
       "      <td>France</td>\n",
       "      <td>Female</td>\n",
       "      <td>39</td>\n",
       "      <td>1.0</td>\n",
       "      <td>0.00</td>\n",
       "      <td>2</td>\n",
       "      <td>0</td>\n",
       "      <td>0</td>\n",
       "      <td>93826.63</td>\n",
       "      <td>0</td>\n",
       "    </tr>\n",
       "    <tr>\n",
       "      <th>4</th>\n",
       "      <td>5</td>\n",
       "      <td>15737888</td>\n",
       "      <td>Mitchell</td>\n",
       "      <td>850</td>\n",
       "      <td>Spain</td>\n",
       "      <td>Female</td>\n",
       "      <td>43</td>\n",
       "      <td>2.0</td>\n",
       "      <td>125510.82</td>\n",
       "      <td>1</td>\n",
       "      <td>1</td>\n",
       "      <td>1</td>\n",
       "      <td>79084.10</td>\n",
       "      <td>0</td>\n",
       "    </tr>\n",
       "  </tbody>\n",
       "</table>\n",
       "</div>"
      ],
      "text/plain": [
       "   RowNumber  CustomerId   Surname  CreditScore Geography  Gender  Age  \\\n",
       "0          1    15634602  Hargrave          619    France  Female   42   \n",
       "1          2    15647311      Hill          608     Spain  Female   41   \n",
       "2          3    15619304      Onio          502    France  Female   42   \n",
       "3          4    15701354      Boni          699    France  Female   39   \n",
       "4          5    15737888  Mitchell          850     Spain  Female   43   \n",
       "\n",
       "   Tenure    Balance  NumOfProducts  HasCrCard  IsActiveMember  \\\n",
       "0     2.0       0.00              1          1               1   \n",
       "1     1.0   83807.86              1          0               1   \n",
       "2     8.0  159660.80              3          1               0   \n",
       "3     1.0       0.00              2          0               0   \n",
       "4     2.0  125510.82              1          1               1   \n",
       "\n",
       "   EstimatedSalary  Exited  \n",
       "0        101348.88       1  \n",
       "1        112542.58       0  \n",
       "2        113931.57       1  \n",
       "3         93826.63       0  \n",
       "4         79084.10       0  "
      ]
     },
     "execution_count": 4,
     "metadata": {},
     "output_type": "execute_result"
    }
   ],
   "source": [
    "data.head()"
   ]
  },
  {
   "cell_type": "markdown",
   "metadata": {},
   "source": [
    "Из представленных признаков Exited является целевым признаком, а все остальные столбцы - это признаки, влияющиеся на результат классификации"
   ]
  },
  {
   "cell_type": "code",
   "execution_count": 5,
   "metadata": {},
   "outputs": [],
   "source": [
    "# Переименуем столбцы\n",
    "data = data.rename(columns={'RowNumber': 'row_number', \n",
    "                            'CustomerId': 'customer_id', \n",
    "                            'Surname': 'surname',\n",
    "                            'CreditScore': 'credit_score',\n",
    "                            'Geography': 'geography',\n",
    "                            'Gender': 'gender',\n",
    "                            'Age': 'age',\n",
    "                            'Tenure': 'tenure',\n",
    "                            'Balance': 'balance',\n",
    "                            'NumOfProducts': 'num_of_products',\n",
    "                            'HasCrCard': 'has_cr_card',\n",
    "                            'IsActiveMember': 'is_active_member',\n",
    "                            'EstimatedSalary': 'estimated_salary',\n",
    "                            'Exited': 'exited'})"
   ]
  },
  {
   "cell_type": "code",
   "execution_count": 6,
   "metadata": {},
   "outputs": [
    {
     "data": {
      "text/plain": [
       "row_number            int64\n",
       "customer_id           int64\n",
       "surname              object\n",
       "credit_score          int64\n",
       "geography            object\n",
       "gender               object\n",
       "age                   int64\n",
       "tenure              float64\n",
       "balance             float64\n",
       "num_of_products       int64\n",
       "has_cr_card           int64\n",
       "is_active_member      int64\n",
       "estimated_salary    float64\n",
       "exited                int64\n",
       "dtype: object"
      ]
     },
     "execution_count": 6,
     "metadata": {},
     "output_type": "execute_result"
    }
   ],
   "source": [
    "# Проверим типы данных\n",
    "data.dtypes"
   ]
  },
  {
   "cell_type": "markdown",
   "metadata": {},
   "source": [
    "Tenure — сколько лет человек является клиентом банка выражено не целым числом, надо поменять тип, проверим на наличие пропусков данные"
   ]
  },
  {
   "cell_type": "code",
   "execution_count": 7,
   "metadata": {
    "scrolled": true
   },
   "outputs": [
    {
     "data": {
      "text/plain": [
       "row_number            0\n",
       "customer_id           0\n",
       "surname               0\n",
       "credit_score          0\n",
       "geography             0\n",
       "gender                0\n",
       "age                   0\n",
       "tenure              909\n",
       "balance               0\n",
       "num_of_products       0\n",
       "has_cr_card           0\n",
       "is_active_member      0\n",
       "estimated_salary      0\n",
       "exited                0\n",
       "dtype: int64"
      ]
     },
     "execution_count": 7,
     "metadata": {},
     "output_type": "execute_result"
    }
   ],
   "source": [
    "data.isna().sum()"
   ]
  },
  {
   "cell_type": "markdown",
   "metadata": {},
   "source": [
    "Пока есть пропуски в колонке tenure - мы не можем изменить тип на целочисленный. Пропуски могут означать, что человек не является клиентом банка, заменим значения на 0"
   ]
  },
  {
   "cell_type": "code",
   "execution_count": 8,
   "metadata": {},
   "outputs": [],
   "source": [
    "data.tenure = data.tenure.fillna(0)"
   ]
  },
  {
   "cell_type": "markdown",
   "metadata": {},
   "source": [
    "\n",
    "<div class=\"alert alert-block alert-info\">\n",
    "<b>Совет:</b> Пропуски проанализированы и решение обработать их таким образом - допустимое . Но мне кажется, что так как природа пропусков неизвестна можно заполнить их случайными числами, чтобы не влиять на распределение или использовать медиану .\n",
    "</div>\n"
   ]
  },
  {
   "cell_type": "code",
   "execution_count": 9,
   "metadata": {},
   "outputs": [
    {
     "data": {
      "text/plain": [
       "row_number          0\n",
       "customer_id         0\n",
       "surname             0\n",
       "credit_score        0\n",
       "geography           0\n",
       "gender              0\n",
       "age                 0\n",
       "tenure              0\n",
       "balance             0\n",
       "num_of_products     0\n",
       "has_cr_card         0\n",
       "is_active_member    0\n",
       "estimated_salary    0\n",
       "exited              0\n",
       "dtype: int64"
      ]
     },
     "execution_count": 9,
     "metadata": {},
     "output_type": "execute_result"
    }
   ],
   "source": [
    "data.isna().sum()"
   ]
  },
  {
   "cell_type": "code",
   "execution_count": 10,
   "metadata": {},
   "outputs": [
    {
     "data": {
      "text/plain": [
       "row_number            int64\n",
       "customer_id           int64\n",
       "surname              object\n",
       "credit_score          int64\n",
       "geography            object\n",
       "gender               object\n",
       "age                   int64\n",
       "tenure                int64\n",
       "balance             float64\n",
       "num_of_products       int64\n",
       "has_cr_card           int64\n",
       "is_active_member      int64\n",
       "estimated_salary    float64\n",
       "exited                int64\n",
       "dtype: object"
      ]
     },
     "execution_count": 10,
     "metadata": {},
     "output_type": "execute_result"
    }
   ],
   "source": [
    "# Изменим кол-во лет на целочисленный тип\n",
    "data['tenure'] = data['tenure'].astype('int64')\n",
    "data.dtypes"
   ]
  },
  {
   "cell_type": "markdown",
   "metadata": {},
   "source": [
    "Проверим на наличие явных дубликатов"
   ]
  },
  {
   "cell_type": "code",
   "execution_count": 11,
   "metadata": {},
   "outputs": [
    {
     "data": {
      "text/plain": [
       "0"
      ]
     },
     "execution_count": 11,
     "metadata": {},
     "output_type": "execute_result"
    }
   ],
   "source": [
    "data.duplicated().sum()"
   ]
  },
  {
   "cell_type": "markdown",
   "metadata": {},
   "source": [
    "Признак gender и geography не являются количественными на данный момент, нужно перевести их в дамми с помощью метода One-Hot Encoding"
   ]
  },
  {
   "cell_type": "code",
   "execution_count": 12,
   "metadata": {},
   "outputs": [
    {
     "data": {
      "text/plain": [
       "array(['Female', 'Male'], dtype=object)"
      ]
     },
     "execution_count": 12,
     "metadata": {},
     "output_type": "execute_result"
    }
   ],
   "source": [
    "# Проверим значения на уникальность\n",
    "data.gender.unique()"
   ]
  },
  {
   "cell_type": "code",
   "execution_count": 13,
   "metadata": {},
   "outputs": [
    {
     "data": {
      "text/plain": [
       "array(['France', 'Spain', 'Germany'], dtype=object)"
      ]
     },
     "execution_count": 13,
     "metadata": {},
     "output_type": "execute_result"
    }
   ],
   "source": [
    "data.geography.unique()"
   ]
  },
  {
   "cell_type": "code",
   "execution_count": 14,
   "metadata": {},
   "outputs": [],
   "source": [
    "data = pd.get_dummies(data, drop_first=True, columns=['gender', 'geography'])"
   ]
  },
  {
   "cell_type": "code",
   "execution_count": 15,
   "metadata": {},
   "outputs": [
    {
     "data": {
      "text/html": [
       "<div>\n",
       "<style scoped>\n",
       "    .dataframe tbody tr th:only-of-type {\n",
       "        vertical-align: middle;\n",
       "    }\n",
       "\n",
       "    .dataframe tbody tr th {\n",
       "        vertical-align: top;\n",
       "    }\n",
       "\n",
       "    .dataframe thead th {\n",
       "        text-align: right;\n",
       "    }\n",
       "</style>\n",
       "<table border=\"1\" class=\"dataframe\">\n",
       "  <thead>\n",
       "    <tr style=\"text-align: right;\">\n",
       "      <th></th>\n",
       "      <th>row_number</th>\n",
       "      <th>customer_id</th>\n",
       "      <th>surname</th>\n",
       "      <th>credit_score</th>\n",
       "      <th>age</th>\n",
       "      <th>tenure</th>\n",
       "      <th>balance</th>\n",
       "      <th>num_of_products</th>\n",
       "      <th>has_cr_card</th>\n",
       "      <th>is_active_member</th>\n",
       "      <th>estimated_salary</th>\n",
       "      <th>exited</th>\n",
       "      <th>gender_Male</th>\n",
       "      <th>geography_Germany</th>\n",
       "      <th>geography_Spain</th>\n",
       "    </tr>\n",
       "  </thead>\n",
       "  <tbody>\n",
       "    <tr>\n",
       "      <th>0</th>\n",
       "      <td>1</td>\n",
       "      <td>15634602</td>\n",
       "      <td>Hargrave</td>\n",
       "      <td>619</td>\n",
       "      <td>42</td>\n",
       "      <td>2</td>\n",
       "      <td>0.00</td>\n",
       "      <td>1</td>\n",
       "      <td>1</td>\n",
       "      <td>1</td>\n",
       "      <td>101348.88</td>\n",
       "      <td>1</td>\n",
       "      <td>0</td>\n",
       "      <td>0</td>\n",
       "      <td>0</td>\n",
       "    </tr>\n",
       "    <tr>\n",
       "      <th>1</th>\n",
       "      <td>2</td>\n",
       "      <td>15647311</td>\n",
       "      <td>Hill</td>\n",
       "      <td>608</td>\n",
       "      <td>41</td>\n",
       "      <td>1</td>\n",
       "      <td>83807.86</td>\n",
       "      <td>1</td>\n",
       "      <td>0</td>\n",
       "      <td>1</td>\n",
       "      <td>112542.58</td>\n",
       "      <td>0</td>\n",
       "      <td>0</td>\n",
       "      <td>0</td>\n",
       "      <td>1</td>\n",
       "    </tr>\n",
       "    <tr>\n",
       "      <th>2</th>\n",
       "      <td>3</td>\n",
       "      <td>15619304</td>\n",
       "      <td>Onio</td>\n",
       "      <td>502</td>\n",
       "      <td>42</td>\n",
       "      <td>8</td>\n",
       "      <td>159660.80</td>\n",
       "      <td>3</td>\n",
       "      <td>1</td>\n",
       "      <td>0</td>\n",
       "      <td>113931.57</td>\n",
       "      <td>1</td>\n",
       "      <td>0</td>\n",
       "      <td>0</td>\n",
       "      <td>0</td>\n",
       "    </tr>\n",
       "    <tr>\n",
       "      <th>3</th>\n",
       "      <td>4</td>\n",
       "      <td>15701354</td>\n",
       "      <td>Boni</td>\n",
       "      <td>699</td>\n",
       "      <td>39</td>\n",
       "      <td>1</td>\n",
       "      <td>0.00</td>\n",
       "      <td>2</td>\n",
       "      <td>0</td>\n",
       "      <td>0</td>\n",
       "      <td>93826.63</td>\n",
       "      <td>0</td>\n",
       "      <td>0</td>\n",
       "      <td>0</td>\n",
       "      <td>0</td>\n",
       "    </tr>\n",
       "    <tr>\n",
       "      <th>4</th>\n",
       "      <td>5</td>\n",
       "      <td>15737888</td>\n",
       "      <td>Mitchell</td>\n",
       "      <td>850</td>\n",
       "      <td>43</td>\n",
       "      <td>2</td>\n",
       "      <td>125510.82</td>\n",
       "      <td>1</td>\n",
       "      <td>1</td>\n",
       "      <td>1</td>\n",
       "      <td>79084.10</td>\n",
       "      <td>0</td>\n",
       "      <td>0</td>\n",
       "      <td>0</td>\n",
       "      <td>1</td>\n",
       "    </tr>\n",
       "  </tbody>\n",
       "</table>\n",
       "</div>"
      ],
      "text/plain": [
       "   row_number  customer_id   surname  credit_score  age  tenure    balance  \\\n",
       "0           1     15634602  Hargrave           619   42       2       0.00   \n",
       "1           2     15647311      Hill           608   41       1   83807.86   \n",
       "2           3     15619304      Onio           502   42       8  159660.80   \n",
       "3           4     15701354      Boni           699   39       1       0.00   \n",
       "4           5     15737888  Mitchell           850   43       2  125510.82   \n",
       "\n",
       "   num_of_products  has_cr_card  is_active_member  estimated_salary  exited  \\\n",
       "0                1            1                 1         101348.88       1   \n",
       "1                1            0                 1         112542.58       0   \n",
       "2                3            1                 0         113931.57       1   \n",
       "3                2            0                 0          93826.63       0   \n",
       "4                1            1                 1          79084.10       0   \n",
       "\n",
       "   gender_Male  geography_Germany  geography_Spain  \n",
       "0            0                  0                0  \n",
       "1            0                  0                1  \n",
       "2            0                  0                0  \n",
       "3            0                  0                0  \n",
       "4            0                  0                1  "
      ]
     },
     "execution_count": 15,
     "metadata": {},
     "output_type": "execute_result"
    }
   ],
   "source": [
    "data.head()"
   ]
  },
  {
   "cell_type": "code",
   "execution_count": 16,
   "metadata": {},
   "outputs": [],
   "source": [
    "data = data.rename(columns={'gender_Male': 'gender_male', \n",
    "                            'geography_Germany': 'geography_germany', \n",
    "                            'geography_spain': 'geography_spain',\n",
    "                            })"
   ]
  },
  {
   "cell_type": "markdown",
   "metadata": {},
   "source": [
    "Также нужно будет провести масштабирование credit_score, balance и estimated_salary, чтобы избавиться от влияния выбросов и чтобы эти признаки не вносили более значимый вклад, чем другие"
   ]
  },
  {
   "cell_type": "markdown",
   "metadata": {},
   "source": [
    "Разделим датасет на обучающую, валидационную и тестовую выборки.\n",
    "Признаки surname и customer_id, row_number включать не будем, они могут негативно сказаться на обучении модели"
   ]
  },
  {
   "cell_type": "code",
   "execution_count": 17,
   "metadata": {},
   "outputs": [],
   "source": [
    "target = data['exited']\n",
    "features = data.drop(['exited', 'surname', 'customer_id', 'row_number'], axis=1)\n",
    "\n",
    "# разделяем на обучающую и тестовую выборки (80/20)\n",
    "features_train, features_test, target_train, target_test = train_test_split(features, \n",
    "                                                                            target, \n",
    "                                                                            test_size=0.2, \n",
    "                                                                            random_state=12345)\n",
    "\n",
    "# разделяем обучающую выборку на обучающую и валидационную (75/25)\n",
    "features_train, features_valid, target_train, target_valid = train_test_split(features_train, \n",
    "                                                                              target_train, \n",
    "                                                                              test_size=0.25, \n",
    "                                                                              random_state=12345)"
   ]
  },
  {
   "cell_type": "code",
   "execution_count": 18,
   "metadata": {},
   "outputs": [],
   "source": [
    "# Проведем масштабирование\n",
    "#columns_to_scale = ['credit_score', 'balance', 'estimated_salary']\n",
    "\n",
    "scaler = StandardScaler()\n",
    "scaler.fit(features_train) \n",
    "\n",
    "features_train_standard_scaled = scaler.transform(features_train)\n",
    "features_valid_standard_scaled = scaler.transform(features_valid) \n",
    "features_test_standard_scaled = scaler.transform(features_test) "
   ]
  },
  {
   "cell_type": "code",
   "execution_count": 19,
   "metadata": {},
   "outputs": [
    {
     "data": {
      "text/html": [
       "<div>\n",
       "<style scoped>\n",
       "    .dataframe tbody tr th:only-of-type {\n",
       "        vertical-align: middle;\n",
       "    }\n",
       "\n",
       "    .dataframe tbody tr th {\n",
       "        vertical-align: top;\n",
       "    }\n",
       "\n",
       "    .dataframe thead th {\n",
       "        text-align: right;\n",
       "    }\n",
       "</style>\n",
       "<table border=\"1\" class=\"dataframe\">\n",
       "  <thead>\n",
       "    <tr style=\"text-align: right;\">\n",
       "      <th></th>\n",
       "      <th>row_number</th>\n",
       "      <th>customer_id</th>\n",
       "      <th>surname</th>\n",
       "      <th>credit_score</th>\n",
       "      <th>age</th>\n",
       "      <th>tenure</th>\n",
       "      <th>balance</th>\n",
       "      <th>num_of_products</th>\n",
       "      <th>has_cr_card</th>\n",
       "      <th>is_active_member</th>\n",
       "      <th>estimated_salary</th>\n",
       "      <th>exited</th>\n",
       "      <th>gender_male</th>\n",
       "      <th>geography_germany</th>\n",
       "      <th>geography_Spain</th>\n",
       "    </tr>\n",
       "  </thead>\n",
       "  <tbody>\n",
       "    <tr>\n",
       "      <th>0</th>\n",
       "      <td>1</td>\n",
       "      <td>15634602</td>\n",
       "      <td>Hargrave</td>\n",
       "      <td>619</td>\n",
       "      <td>42</td>\n",
       "      <td>2</td>\n",
       "      <td>0.00</td>\n",
       "      <td>1</td>\n",
       "      <td>1</td>\n",
       "      <td>1</td>\n",
       "      <td>101348.88</td>\n",
       "      <td>1</td>\n",
       "      <td>0</td>\n",
       "      <td>0</td>\n",
       "      <td>0</td>\n",
       "    </tr>\n",
       "    <tr>\n",
       "      <th>1</th>\n",
       "      <td>2</td>\n",
       "      <td>15647311</td>\n",
       "      <td>Hill</td>\n",
       "      <td>608</td>\n",
       "      <td>41</td>\n",
       "      <td>1</td>\n",
       "      <td>83807.86</td>\n",
       "      <td>1</td>\n",
       "      <td>0</td>\n",
       "      <td>1</td>\n",
       "      <td>112542.58</td>\n",
       "      <td>0</td>\n",
       "      <td>0</td>\n",
       "      <td>0</td>\n",
       "      <td>1</td>\n",
       "    </tr>\n",
       "    <tr>\n",
       "      <th>2</th>\n",
       "      <td>3</td>\n",
       "      <td>15619304</td>\n",
       "      <td>Onio</td>\n",
       "      <td>502</td>\n",
       "      <td>42</td>\n",
       "      <td>8</td>\n",
       "      <td>159660.80</td>\n",
       "      <td>3</td>\n",
       "      <td>1</td>\n",
       "      <td>0</td>\n",
       "      <td>113931.57</td>\n",
       "      <td>1</td>\n",
       "      <td>0</td>\n",
       "      <td>0</td>\n",
       "      <td>0</td>\n",
       "    </tr>\n",
       "    <tr>\n",
       "      <th>3</th>\n",
       "      <td>4</td>\n",
       "      <td>15701354</td>\n",
       "      <td>Boni</td>\n",
       "      <td>699</td>\n",
       "      <td>39</td>\n",
       "      <td>1</td>\n",
       "      <td>0.00</td>\n",
       "      <td>2</td>\n",
       "      <td>0</td>\n",
       "      <td>0</td>\n",
       "      <td>93826.63</td>\n",
       "      <td>0</td>\n",
       "      <td>0</td>\n",
       "      <td>0</td>\n",
       "      <td>0</td>\n",
       "    </tr>\n",
       "    <tr>\n",
       "      <th>4</th>\n",
       "      <td>5</td>\n",
       "      <td>15737888</td>\n",
       "      <td>Mitchell</td>\n",
       "      <td>850</td>\n",
       "      <td>43</td>\n",
       "      <td>2</td>\n",
       "      <td>125510.82</td>\n",
       "      <td>1</td>\n",
       "      <td>1</td>\n",
       "      <td>1</td>\n",
       "      <td>79084.10</td>\n",
       "      <td>0</td>\n",
       "      <td>0</td>\n",
       "      <td>0</td>\n",
       "      <td>1</td>\n",
       "    </tr>\n",
       "  </tbody>\n",
       "</table>\n",
       "</div>"
      ],
      "text/plain": [
       "   row_number  customer_id   surname  credit_score  age  tenure    balance  \\\n",
       "0           1     15634602  Hargrave           619   42       2       0.00   \n",
       "1           2     15647311      Hill           608   41       1   83807.86   \n",
       "2           3     15619304      Onio           502   42       8  159660.80   \n",
       "3           4     15701354      Boni           699   39       1       0.00   \n",
       "4           5     15737888  Mitchell           850   43       2  125510.82   \n",
       "\n",
       "   num_of_products  has_cr_card  is_active_member  estimated_salary  exited  \\\n",
       "0                1            1                 1         101348.88       1   \n",
       "1                1            0                 1         112542.58       0   \n",
       "2                3            1                 0         113931.57       1   \n",
       "3                2            0                 0          93826.63       0   \n",
       "4                1            1                 1          79084.10       0   \n",
       "\n",
       "   gender_male  geography_germany  geography_Spain  \n",
       "0            0                  0                0  \n",
       "1            0                  0                1  \n",
       "2            0                  0                0  \n",
       "3            0                  0                0  \n",
       "4            0                  0                1  "
      ]
     },
     "execution_count": 19,
     "metadata": {},
     "output_type": "execute_result"
    }
   ],
   "source": [
    "data.head()"
   ]
  },
  {
   "cell_type": "markdown",
   "metadata": {},
   "source": [
    "Вывод:\n",
    "Проверили данные на наличие явных дубликатов - их нет\n",
    "\n",
    "Обработаны пропуски в столбце tenure - заменены нулями\n",
    "\n",
    "Приведены все названия столбцов к единому стилю\n",
    "\n",
    "Проведено масштабирование величин для того, чтобы признаки вносили равнозначный вклад\n",
    "\n",
    "Заменены категориальные признаки на бинарные с помощью OHE\n",
    "\n",
    "Разделили исходные данные на обучающую и тестовую выборки в отношении 80/20, а от обучающей отделено 25 % на валидационную выборку"
   ]
  },
  {
   "cell_type": "markdown",
   "metadata": {},
   "source": [
    "## Исследование задачи"
   ]
  },
  {
   "cell_type": "markdown",
   "metadata": {},
   "source": []
  },
  {
   "cell_type": "markdown",
   "metadata": {},
   "source": [
    "# Проверка на наличие дисбаланса"
   ]
  },
  {
   "cell_type": "markdown",
   "metadata": {},
   "source": [
    "Оценим модель на адекватность. Для этого проверим, как часто в целевом признаке встречается класс «1» или «0»."
   ]
  },
  {
   "cell_type": "code",
   "execution_count": 20,
   "metadata": {},
   "outputs": [
    {
     "name": "stdout",
     "output_type": "stream",
     "text": [
      "0    0.7963\n",
      "1    0.2037\n",
      "Name: exited, dtype: float64\n"
     ]
    },
    {
     "data": {
      "text/plain": [
       "<AxesSubplot:>"
      ]
     },
     "execution_count": 20,
     "metadata": {},
     "output_type": "execute_result"
    },
    {
     "data": {
      "image/png": "[encoded data removed]",
      "text/plain": [
       "<Figure size 432x288 with 1 Axes>"
      ]
     },
     "metadata": {
      "needs_background": "light"
     },
     "output_type": "display_data"
    }
   ],
   "source": [
    "class_frequency = data['exited'].value_counts(normalize=1)\n",
    "print(class_frequency)\n",
    "class_frequency.plot(kind='bar')"
   ]
  },
  {
   "cell_type": "markdown",
   "metadata": {},
   "source": [
    "В целевом признаке наблюдается достаточно сильный дисбаланс. Только по 20% можно отслеживать целевой признак. "
   ]
  },
  {
   "cell_type": "markdown",
   "metadata": {},
   "source": [
    "Сравним качество предсказаний с константной моделью. За константу примем значение 0, так как это значение встречается почти в 80% случаев."
   ]
  },
  {
   "cell_type": "code",
   "execution_count": 21,
   "metadata": {},
   "outputs": [
    {
     "name": "stdout",
     "output_type": "stream",
     "text": [
      "0.7963\n"
     ]
    }
   ],
   "source": [
    "target_pred_constant = pd.Series([0]*len(target))\n",
    "print(accuracy_score(target, target_pred_constant))"
   ]
  },
  {
   "cell_type": "markdown",
   "metadata": {},
   "source": [
    "# Проверка моделей без учета дисбаланса"
   ]
  },
  {
   "cell_type": "markdown",
   "metadata": {},
   "source": [
    "Обучим модели без учета дисбаланса. А также рассмотрим метрики - Recall(полнота), Precision(точность) и F1-score. \n",
    "Подберем оптимальные гиперпараметры для моделей на основании метрики F1-score."
   ]
  },
  {
   "cell_type": "markdown",
   "metadata": {},
   "source": [
    "#### Дерево решений"
   ]
  },
  {
   "cell_type": "code",
   "execution_count": 22,
   "metadata": {},
   "outputs": [
    {
     "name": "stdout",
     "output_type": "stream",
     "text": [
      "Оптимальная глубина дерева = 7\n",
      "Качество модели -  0.5321375186846039\n",
      "Время выполнения кода =  4.1484832763671875e-05 сек.\n"
     ]
    }
   ],
   "source": [
    "best_model = None\n",
    "best_f1 = 0\n",
    "for depth in range(1, 10):\n",
    "    model_tree = DecisionTreeClassifier(random_state=12345,\n",
    "                                        max_depth=depth)\n",
    "    model_tree.fit(features_train, target_train)\n",
    "    predictions_valid_tree = model_tree.predict(features_valid)\n",
    "    f1_tree = f1_score(target_valid, predictions_valid_tree)\n",
    "    if f1_tree > best_f1:\n",
    "        best_model = model_tree\n",
    "        best_depth = depth\n",
    "        best_f1 = f1_tree\n",
    "\n",
    "print('Оптимальная глубина дерева =', best_depth) \n",
    "print('Качество модели - ', f1_tree)\n",
    "\n",
    "start_time = time.time()\n",
    "print('Время выполнения кода = ', (time.time() - start_time), 'сек.')"
   ]
  },
  {
   "cell_type": "code",
   "execution_count": 23,
   "metadata": {},
   "outputs": [],
   "source": [
    "# обучаем модель с оптимальными значениями гиперпараметров\n",
    "model_tree = DecisionTreeClassifier(random_state=12345,\n",
    "                                    max_depth=7)\n",
    "model_tree.fit(features_train, target_train)\n",
    "predictions_valid_tree = model_tree.predict(features_valid)"
   ]
  },
  {
   "cell_type": "code",
   "execution_count": 24,
   "metadata": {},
   "outputs": [
    {
     "name": "stdout",
     "output_type": "stream",
     "text": [
      "Accuracy_tree: 0.857\n",
      "Recall_tree: 0.44501278772378516\n",
      "Precision_tree: 0.7160493827160493\n",
      "F1_tree: 0.5488958990536277\n",
      "ROC-AUC_tree: 0.8275652142122556\n"
     ]
    }
   ],
   "source": [
    "print(\"Accuracy_tree:\", accuracy_score(target_valid, predictions_valid_tree))\n",
    "print(\"Recall_tree:\", recall_score(target_valid, predictions_valid_tree))\n",
    "print(\"Precision_tree:\", precision_score(target_valid, predictions_valid_tree))\n",
    "print(\"F1_tree:\", f1_score(target_valid, predictions_valid_tree))\n",
    "\n",
    "probabilities_valid = model_tree.predict_proba(features_valid)\n",
    "probabilities_one_valid = probabilities_valid[:, 1]\n",
    "print(\"ROC-AUC_tree:\", roc_auc_score(target_valid, probabilities_one_valid))"
   ]
  },
  {
   "cell_type": "markdown",
   "metadata": {},
   "source": [
    "#### Случайный лес"
   ]
  },
  {
   "cell_type": "code",
   "execution_count": 25,
   "metadata": {},
   "outputs": [
    {
     "name": "stdout",
     "output_type": "stream",
     "text": [
      "Оптимальное количество деревьев = 60\n",
      "Оптимальная глубина дерева = 9\n",
      "Качество модели -  0.5439469320066335\n",
      "Время выполнения кода =  3.552436828613281e-05 сек.\n"
     ]
    }
   ],
   "source": [
    "# подберем лучшие гиперпараметры\n",
    "best_model = None\n",
    "for est in range(10, 101, 10):\n",
    "    for depth in range(1, 10):\n",
    "        model_forest = RandomForestClassifier(random_state=12345,\n",
    "                                              n_estimators=est, \n",
    "                                              max_depth=depth)\n",
    "        model_forest.fit(features_train, target_train)\n",
    "        predictions_valid_forest = model_forest.predict(features_valid)\n",
    "        f1_forest = f1_score(target_valid, predictions_valid_forest)\n",
    "        if f1_forest > best_f1:\n",
    "            best_model = model_forest\n",
    "            best_est = est\n",
    "            best_depth = depth\n",
    "\n",
    "print('Оптимальное количество деревьев =', best_est)\n",
    "print('Оптимальная глубина дерева =', best_depth)\n",
    "print('Качество модели - ', f1_forest)\n",
    "\n",
    "start_time = time.time()\n",
    "print('Время выполнения кода = ', (time.time() - start_time), 'сек.')"
   ]
  },
  {
   "cell_type": "code",
   "execution_count": 26,
   "metadata": {},
   "outputs": [],
   "source": [
    "# обучаем модель с оптимальными значениями гиперпараметров\n",
    "\n",
    "model_forest = RandomForestClassifier(random_state=12345, \n",
    "                                      n_estimators=60, \n",
    "                                      max_depth=9)\n",
    "model_forest.fit(features_train, target_train)\n",
    "predictions_valid_forest = model_forest.predict(features_valid)"
   ]
  },
  {
   "cell_type": "code",
   "execution_count": 27,
   "metadata": {},
   "outputs": [
    {
     "name": "stdout",
     "output_type": "stream",
     "text": [
      "Accuracy_forest: 0.8635\n",
      "Recall_forest: 0.4296675191815857\n",
      "Precision_forest: 0.7706422018348624\n",
      "F1_forest: 0.5517241379310345\n",
      "ROC-AUC_forest: 0.8497184157528226\n"
     ]
    }
   ],
   "source": [
    "print(\"Accuracy_forest:\", accuracy_score(target_valid, predictions_valid_forest))\n",
    "print(\"Recall_forest:\", recall_score(target_valid, predictions_valid_forest))\n",
    "print(\"Precision_forest:\", precision_score(target_valid, predictions_valid_forest))\n",
    "print(\"F1_forest:\", f1_score(target_valid, predictions_valid_forest))\n",
    "\n",
    "probabilities_valid = model_forest.predict_proba(features_valid)\n",
    "probabilities_one_valid = probabilities_valid[:, 1]\n",
    "print(\"ROC-AUC_forest:\", roc_auc_score(target_valid, probabilities_one_valid))"
   ]
  },
  {
   "cell_type": "markdown",
   "metadata": {},
   "source": [
    "####  Логистическая регрессия"
   ]
  },
  {
   "cell_type": "code",
   "execution_count": 28,
   "metadata": {},
   "outputs": [
    {
     "name": "stdout",
     "output_type": "stream",
     "text": [
      "Время выполнения кода =  0.00011205673217773438 сек.\n"
     ]
    }
   ],
   "source": [
    "# Подберем лучшие гиперпараметры\n",
    "model_log = LogisticRegression(random_state=12345,\n",
    "                               solver='liblinear')\n",
    "# обучаем модель на тренировочной выборке\n",
    "model_log.fit(features_train, target_train)\n",
    "# получаем предсказания на валидационной выборке\n",
    "predictions_valid_log = model_log.predict(features_valid)\n",
    "\n",
    "start_time = time.time()\n",
    "print('Время выполнения кода = ', (time.time() - start_time), 'сек.')"
   ]
  },
  {
   "cell_type": "code",
   "execution_count": 29,
   "metadata": {},
   "outputs": [
    {
     "name": "stdout",
     "output_type": "stream",
     "text": [
      "Accuracy_log: 0.7995\n",
      "Recall_log: 0.058823529411764705\n",
      "Precision_log: 0.4107142857142857\n",
      "F1_log: 0.10290827740492169\n",
      "ROC-AUC_log: 0.6812399561927076\n"
     ]
    }
   ],
   "source": [
    "print(\"Accuracy_log:\", accuracy_score(target_valid, predictions_valid_log))\n",
    "print(\"Recall_log:\", recall_score(target_valid, predictions_valid_log))\n",
    "print(\"Precision_log:\", precision_score(target_valid, predictions_valid_log))\n",
    "print(\"F1_log:\", f1_score(target_valid, predictions_valid_log))\n",
    "\n",
    "probabilities_valid = model_log.predict_proba(features_valid)\n",
    "probabilities_one_valid = probabilities_valid[:, 1]\n",
    "print(\"ROC-AUC_log:\", roc_auc_score(target_valid, probabilities_one_valid))"
   ]
  },
  {
   "cell_type": "markdown",
   "metadata": {},
   "source": [
    "Сравним модели по качеству - F1-score.\n",
    "\n",
    "Дерево решений. Качество модели - 0.56\n",
    "\n",
    "Случайный лес. Качество модели - 0.56\n",
    "\n",
    "Логистическая регрессия. Качество модели - 0.31\n",
    "\n",
    "Наилучшее значение метрики F1-score без учета дисбаланса классов у дерева решений. При этом наибольшее значение метрики accuracy наблюдается у модели случайного леса"
   ]
  },
  {
   "cell_type": "markdown",
   "metadata": {},
   "source": [
    "## Борьба с дисбалансом"
   ]
  },
  {
   "cell_type": "markdown",
   "metadata": {},
   "source": [
    "Рассмотрим 3 метода борьбы с дисбалансом классов:\n",
    "\n",
    "Взвешивание классов\n",
    "Увеличение выборки (upsampling)\n",
    "Уменьшение выборки (downsampling)"
   ]
  },
  {
   "cell_type": "markdown",
   "metadata": {},
   "source": [
    "### Взвешивание классов"
   ]
  },
  {
   "cell_type": "markdown",
   "metadata": {},
   "source": [
    "#### Дерево решений"
   ]
  },
  {
   "cell_type": "code",
   "execution_count": 30,
   "metadata": {},
   "outputs": [
    {
     "name": "stdout",
     "output_type": "stream",
     "text": [
      "Оптимальная глубина дерева = 6\n",
      "Качество модели -  0.5095669687814702\n"
     ]
    }
   ],
   "source": [
    "# Подберем лучшие гиперпараметры\n",
    "best_model = None\n",
    "best_f1 = 0\n",
    "for depth in range(1, 10):\n",
    "    model_tree = DecisionTreeClassifier(random_state=12345,\n",
    "                                        max_depth=depth,\n",
    "                                        class_weight='balanced')\n",
    "    model_tree.fit(features_train, target_train)\n",
    "    predictions_valid_tree = model_tree.predict(features_valid)\n",
    "    f1_tree = f1_score(target_valid, predictions_valid_tree)\n",
    "    if f1_tree > best_f1:\n",
    "        best_model = model_tree\n",
    "        best_depth = depth\n",
    "        best_f1 = f1_tree\n",
    "\n",
    "print('Оптимальная глубина дерева =', best_depth) \n",
    "print('Качество модели - ', f1_tree)"
   ]
  },
  {
   "cell_type": "code",
   "execution_count": 31,
   "metadata": {},
   "outputs": [],
   "source": [
    "# обучаем модель с оптимальными значениями гиперпараметров\n",
    "model_tree = DecisionTreeClassifier(random_state=12345,\n",
    "                                    max_depth=6,\n",
    "                                    class_weight='balanced')\n",
    "model_tree.fit(features_train, target_train)\n",
    "predictions_valid_tree = model_tree.predict(features_valid)"
   ]
  },
  {
   "cell_type": "code",
   "execution_count": 32,
   "metadata": {},
   "outputs": [
    {
     "name": "stdout",
     "output_type": "stream",
     "text": [
      "Recall_tree: 0.7033248081841432\n",
      "Precision_tree: 0.46140939597315433\n",
      "F1_tree: 0.5572441742654509\n",
      "ROC-AUC_tree: 0.8063601639753369\n"
     ]
    }
   ],
   "source": [
    "print(\"Recall_tree:\", recall_score(target_valid, predictions_valid_tree))\n",
    "print(\"Precision_tree:\", precision_score(target_valid, predictions_valid_tree))\n",
    "print(\"F1_tree:\", f1_score(target_valid, predictions_valid_tree))\n",
    "\n",
    "probabilities_valid = model_tree.predict_proba(features_valid)\n",
    "probabilities_one_valid = probabilities_valid[:, 1]\n",
    "print(\"ROC-AUC_tree:\", roc_auc_score(target_valid, probabilities_one_valid))"
   ]
  },
  {
   "cell_type": "markdown",
   "metadata": {},
   "source": [
    "#### Случайный лес"
   ]
  },
  {
   "cell_type": "code",
   "execution_count": 33,
   "metadata": {},
   "outputs": [
    {
     "name": "stdout",
     "output_type": "stream",
     "text": [
      "Оптимальное количество деревьев = 100\n",
      "Оптимальная глубина дерева = 9\n"
     ]
    }
   ],
   "source": [
    "# Подберем лучшие гиперпараметры\n",
    "best_model = None\n",
    "for est in range(10, 101, 10):\n",
    "    for depth in range(1, 10):\n",
    "        model_forest = RandomForestClassifier(random_state=12345,\n",
    "                                              n_estimators=est, \n",
    "                                              max_depth=depth,\n",
    "                                              class_weight='balanced')\n",
    "        model_forest.fit(features_train, target_train)\n",
    "        predictions_valid_forest = model_forest.predict(features_valid)\n",
    "        f1_forest = f1_score(target_valid, predictions_valid_forest)\n",
    "        if f1_forest > best_f1:\n",
    "            best_model = model_forest\n",
    "            best_est = est\n",
    "            best_depth = depth\n",
    "\n",
    "print('Оптимальное количество деревьев =', best_est)\n",
    "print('Оптимальная глубина дерева =', best_depth)"
   ]
  },
  {
   "cell_type": "code",
   "execution_count": 34,
   "metadata": {},
   "outputs": [],
   "source": [
    "# обучаем модель с оптимальными значениями гиперпараметров\n",
    "model_forest = RandomForestClassifier(random_state=12345, \n",
    "                                      n_estimators=100, \n",
    "                                      max_depth=9,\n",
    "                                      class_weight='balanced')\n",
    "model_forest.fit(features_train, target_train)\n",
    "predictions_valid_forest = model_forest.predict(features_valid)"
   ]
  },
  {
   "cell_type": "code",
   "execution_count": 35,
   "metadata": {},
   "outputs": [
    {
     "name": "stdout",
     "output_type": "stream",
     "text": [
      "Recall_forest: 0.618925831202046\n",
      "Precision_forest: 0.5601851851851852\n",
      "F1_forest: 0.5880923450789793\n",
      "ROC-AUC_forest: 0.8550306062922914\n"
     ]
    }
   ],
   "source": [
    "print(\"Recall_forest:\", recall_score(target_valid, predictions_valid_forest))\n",
    "print(\"Precision_forest:\", precision_score(target_valid, predictions_valid_forest))\n",
    "print(\"F1_forest:\", f1_score(target_valid, predictions_valid_forest))\n",
    "\n",
    "probabilities_valid = model_forest.predict_proba(features_valid)\n",
    "probabilities_one_valid = probabilities_valid[:, 1]\n",
    "print(\"ROC-AUC_forest:\", roc_auc_score(target_valid, probabilities_one_valid))"
   ]
  },
  {
   "cell_type": "markdown",
   "metadata": {},
   "source": [
    "#### Логистическая регрессия"
   ]
  },
  {
   "cell_type": "code",
   "execution_count": 36,
   "metadata": {},
   "outputs": [],
   "source": [
    "model_log = LogisticRegression(random_state=12345,\n",
    "                               solver='liblinear',\n",
    "                               class_weight='balanced')\n",
    "\n",
    "model_log.fit(features_train, target_train)\n",
    "predictions_valid_log = model_log.predict(features_valid)"
   ]
  },
  {
   "cell_type": "code",
   "execution_count": 37,
   "metadata": {},
   "outputs": [
    {
     "name": "stdout",
     "output_type": "stream",
     "text": [
      "Recall_log: 0.690537084398977\n",
      "Precision_log: 0.32335329341317365\n",
      "F1_log: 0.44045676998368677\n",
      "ROC-AUC_log: 0.7248104094773803\n"
     ]
    }
   ],
   "source": [
    "print(\"Recall_log:\", recall_score(target_valid, predictions_valid_log))\n",
    "print(\"Precision_log:\", precision_score(target_valid, predictions_valid_log))\n",
    "print(\"F1_log:\", f1_score(target_valid, predictions_valid_log))\n",
    "\n",
    "probabilities_valid = model_log.predict_proba(features_valid)\n",
    "probabilities_one_valid = probabilities_valid[:, 1]\n",
    "print(\"ROC-AUC_log:\", roc_auc_score(target_valid, probabilities_one_valid))"
   ]
  },
  {
   "cell_type": "markdown",
   "metadata": {},
   "source": [
    "### Уменьшение выборки"
   ]
  },
  {
   "cell_type": "code",
   "execution_count": 38,
   "metadata": {},
   "outputs": [
    {
     "name": "stdout",
     "output_type": "stream",
     "text": [
      "(2414, 11)\n",
      "(2414,)\n"
     ]
    }
   ],
   "source": [
    "# Уменьшим выборку в 4 раза, так как положительный класс больше отрицательного в 4 раза\n",
    "def downsample(features, target, fraction):\n",
    "    features_zeros = features[target == 0]\n",
    "    features_ones = features[target == 1]\n",
    "    target_zeros = target[target == 0]\n",
    "    target_ones = target[target == 1]\n",
    "\n",
    "    # fractioning samples\n",
    "    features_downsampled = pd.concat([features_zeros.sample(frac=fraction, random_state=12345)] +\n",
    "                                     [features_ones])\n",
    "    target_downsampled = pd.concat([target_zeros.sample(frac=fraction, random_state=12345)] +\n",
    "                                   [target_ones])\n",
    "    \n",
    "    features_downsampled = shuffle(features_downsampled, random_state=12345)\n",
    "    target_downsampled = shuffle(target_downsampled, random_state=12345)\n",
    "\n",
    "    return features_downsampled, target_downsampled\n",
    "\n",
    "features_downsampled, target_downsampled = downsample(features_train, target_train, 0.25)\n",
    "\n",
    "print(features_downsampled.shape)\n",
    "print(target_downsampled.shape)"
   ]
  },
  {
   "cell_type": "markdown",
   "metadata": {},
   "source": [
    "#### Дерево решений"
   ]
  },
  {
   "cell_type": "code",
   "execution_count": 39,
   "metadata": {},
   "outputs": [
    {
     "name": "stdout",
     "output_type": "stream",
     "text": [
      "Оптимальная глубина дерева = 7\n",
      "Качество модели -  0.5014031805425632\n"
     ]
    }
   ],
   "source": [
    "# Подберем лучшие гиперпараметры\n",
    "best_model = None\n",
    "best_f1 = 0\n",
    "for depth in range(1, 10):\n",
    "    model_tree = DecisionTreeClassifier(random_state=12345,\n",
    "                                        max_depth=depth)\n",
    "    model_tree.fit(features_downsampled, target_downsampled)\n",
    "    predictions_valid_tree = model_tree.predict(features_valid)\n",
    "    f1_tree = f1_score(target_valid, predictions_valid_tree)\n",
    "    if f1_tree > best_f1:\n",
    "        best_model = model_tree\n",
    "        best_depth = depth\n",
    "        best_f1 = f1_tree\n",
    "\n",
    "print('Оптимальная глубина дерева =', best_depth) \n",
    "print('Качество модели - ', f1_tree)"
   ]
  },
  {
   "cell_type": "code",
   "execution_count": 40,
   "metadata": {},
   "outputs": [
    {
     "name": "stdout",
     "output_type": "stream",
     "text": [
      "Recall_tree: 0.7519181585677749\n",
      "Precision_tree: 0.4298245614035088\n",
      "F1_tree: 0.5469767441860465\n",
      "ROC-AUC_tree: 0.8160244723176378\n"
     ]
    }
   ],
   "source": [
    "model_tree = DecisionTreeClassifier(random_state=12345,\n",
    "                                    max_depth=7)\n",
    "model_tree.fit(features_downsampled, target_downsampled)\n",
    "predictions_valid_tree = model_tree.predict(features_valid)\n",
    "\n",
    "print(\"Recall_tree:\", recall_score(target_valid, predictions_valid_tree))\n",
    "print(\"Precision_tree:\", precision_score(target_valid, predictions_valid_tree))\n",
    "print(\"F1_tree:\", f1_score(target_valid, predictions_valid_tree))\n",
    "\n",
    "probabilities_valid = model_tree.predict_proba(features_valid)\n",
    "probabilities_one_valid = probabilities_valid[:, 1]\n",
    "print(\"ROC-AUC_tree:\", roc_auc_score(target_valid, probabilities_one_valid))"
   ]
  },
  {
   "cell_type": "markdown",
   "metadata": {},
   "source": [
    "#### Случайный лес"
   ]
  },
  {
   "cell_type": "code",
   "execution_count": 41,
   "metadata": {},
   "outputs": [
    {
     "name": "stdout",
     "output_type": "stream",
     "text": [
      "Оптимальное количество деревьев = 100\n",
      "Оптимальная глубина дерева = 9\n"
     ]
    }
   ],
   "source": [
    "# Подберем лучшие гиперпараметры\n",
    "best_model = None\n",
    "for est in range(10, 101, 10):\n",
    "    for depth in range(1, 10):\n",
    "        model_forest = RandomForestClassifier(random_state=12345,\n",
    "                                              n_estimators=est, \n",
    "                                              max_depth=depth)\n",
    "        model_forest.fit(features_downsampled, target_downsampled)\n",
    "        predictions_valid_forest = model_forest.predict(features_valid)\n",
    "        f1_forest = f1_score(target_valid, predictions_valid_forest)\n",
    "        if f1_forest > best_f1:\n",
    "            best_model = model_forest\n",
    "            best_est = est\n",
    "            best_depth = depth\n",
    "\n",
    "print('Оптимальное количество деревьев =', best_est)\n",
    "print('Оптимальная глубина дерева =', best_depth)"
   ]
  },
  {
   "cell_type": "code",
   "execution_count": 42,
   "metadata": {},
   "outputs": [
    {
     "name": "stdout",
     "output_type": "stream",
     "text": [
      "Recall_forest: 0.7289002557544757\n",
      "Precision_forest: 0.45893719806763283\n",
      "F1_forest: 0.5632411067193676\n",
      "ROC-AUC_forest: 0.8369974519923893\n"
     ]
    }
   ],
   "source": [
    "model_forest = RandomForestClassifier(random_state=12345, \n",
    "                                      n_estimators=10, \n",
    "                                      max_depth=9)\n",
    "model_forest.fit(features_downsampled, target_downsampled)\n",
    "predictions_valid_forest = model_forest.predict(features_valid)\n",
    "\n",
    "print(\"Recall_forest:\", recall_score(target_valid, predictions_valid_forest))\n",
    "print(\"Precision_forest:\", precision_score(target_valid, predictions_valid_forest))\n",
    "print(\"F1_forest:\", f1_score(target_valid, predictions_valid_forest))\n",
    "\n",
    "probabilities_valid = model_forest.predict_proba(features_valid)\n",
    "probabilities_one_valid = probabilities_valid[:, 1]\n",
    "print(\"ROC-AUC_forest:\", roc_auc_score(target_valid, probabilities_one_valid))"
   ]
  },
  {
   "cell_type": "markdown",
   "metadata": {},
   "source": [
    "#### Логистическая регрессия"
   ]
  },
  {
   "cell_type": "code",
   "execution_count": 43,
   "metadata": {},
   "outputs": [
    {
     "name": "stdout",
     "output_type": "stream",
     "text": [
      "Recall_log: 0.7084398976982097\n",
      "Precision_log: 0.3169336384439359\n",
      "F1_log: 0.4379446640316205\n",
      "ROC-AUC_log: 0.7180406250645744\n"
     ]
    }
   ],
   "source": [
    "model_log = LogisticRegression(random_state=12345,\n",
    "                               solver='liblinear')\n",
    "\n",
    "model_log.fit(features_downsampled, target_downsampled)\n",
    "predictions_valid_log = model_log.predict(features_valid)\n",
    "\n",
    "print(\"Recall_log:\", recall_score(target_valid, predictions_valid_log))\n",
    "print(\"Precision_log:\", precision_score(target_valid, predictions_valid_log))\n",
    "print(\"F1_log:\", f1_score(target_valid, predictions_valid_log))\n",
    "\n",
    "probabilities_valid = model_log.predict_proba(features_valid)\n",
    "probabilities_one_valid = probabilities_valid[:, 1]\n",
    "print(\"ROC-AUC_log:\", roc_auc_score(target_valid, probabilities_one_valid))"
   ]
  },
  {
   "cell_type": "markdown",
   "metadata": {},
   "source": [
    "Вывод: уменьшение выборки не помогло увеличить качество модели, попробуем увеличить выборку"
   ]
  },
  {
   "cell_type": "markdown",
   "metadata": {},
   "source": [
    "### Увеличение выборки"
   ]
  },
  {
   "cell_type": "code",
   "execution_count": 44,
   "metadata": {},
   "outputs": [
    {
     "name": "stdout",
     "output_type": "stream",
     "text": [
      "(9657, 11)\n",
      "(9657,)\n"
     ]
    }
   ],
   "source": [
    "# увеличим выборку в 4 раза, так чтобы отрицательный класс был больше положительного в 4 раза\n",
    "def upsample(features, target, repeat):\n",
    "    features_zeros = features[target == 0]\n",
    "    features_ones = features[target == 1]\n",
    "    target_zeros = target[target == 0]\n",
    "    target_ones = target[target == 1]\n",
    "    \n",
    "    # сцепляем выборки\n",
    "    features_upsampled = pd.concat([features_zeros] + [features_ones] * repeat)\n",
    "    target_upsampled = pd.concat([target_zeros] + [target_ones] * repeat)\n",
    "    \n",
    "    # перемешиваем значения, чтобы они не шли друг за другом \n",
    "    features_upsampled = shuffle(features_upsampled, random_state=12345)\n",
    "    target_upsampled = shuffle(target_upsampled, random_state=12345)\n",
    "    return features_upsampled, target_upsampled\n",
    "\n",
    "features_upsampled, target_upsampled = upsample(features_train, target_train, 4)\n",
    "\n",
    "print(features_upsampled.shape)\n",
    "print(target_upsampled.shape)"
   ]
  },
  {
   "cell_type": "markdown",
   "metadata": {},
   "source": [
    "#### Дерево решений"
   ]
  },
  {
   "cell_type": "code",
   "execution_count": 45,
   "metadata": {},
   "outputs": [
    {
     "name": "stdout",
     "output_type": "stream",
     "text": [
      "Оптимальная глубина дерева = 6\n",
      "Качество модели -  0.5060483870967742\n"
     ]
    }
   ],
   "source": [
    "# Подберем лучшие гиперпараметры\n",
    "best_model = None\n",
    "best_f1 = 0\n",
    "for depth in range(1, 10):\n",
    "    model_tree = DecisionTreeClassifier(random_state=12345,\n",
    "                                        max_depth=depth)\n",
    "    model_tree.fit(features_upsampled, target_upsampled)\n",
    "    predictions_valid_tree = model_tree.predict(features_valid)\n",
    "    f1_tree = f1_score(target_valid, predictions_valid_tree)\n",
    "    if f1_tree > best_f1:\n",
    "        best_model = model_tree\n",
    "        best_depth = depth\n",
    "        best_f1 = f1_tree\n",
    "\n",
    "print('Оптимальная глубина дерева =', best_depth) \n",
    "print('Качество модели - ', f1_tree)"
   ]
  },
  {
   "cell_type": "code",
   "execution_count": 46,
   "metadata": {},
   "outputs": [
    {
     "name": "stdout",
     "output_type": "stream",
     "text": [
      "Recall_tree: 0.6956521739130435\n",
      "Precision_tree: 0.45714285714285713\n",
      "F1_tree: 0.5517241379310345\n",
      "ROC-AUC_tree: 0.7980111870727161\n"
     ]
    }
   ],
   "source": [
    "model_tree = DecisionTreeClassifier(random_state=12345,\n",
    "                                    max_depth=7)\n",
    "model_tree.fit(features_upsampled, target_upsampled)\n",
    "predictions_valid_tree = model_tree.predict(features_valid)\n",
    "\n",
    "print(\"Recall_tree:\", recall_score(target_valid, predictions_valid_tree))\n",
    "print(\"Precision_tree:\", precision_score(target_valid, predictions_valid_tree))\n",
    "print(\"F1_tree:\", f1_score(target_valid, predictions_valid_tree))\n",
    "\n",
    "probabilities_valid = model_tree.predict_proba(features_valid)\n",
    "probabilities_one_valid = probabilities_valid[:, 1]\n",
    "print(\"ROC-AUC_tree:\", roc_auc_score(target_valid, probabilities_one_valid))"
   ]
  },
  {
   "cell_type": "markdown",
   "metadata": {},
   "source": [
    "#### Случайный лес "
   ]
  },
  {
   "cell_type": "code",
   "execution_count": 47,
   "metadata": {},
   "outputs": [
    {
     "name": "stdout",
     "output_type": "stream",
     "text": [
      "Оптимальное количество деревьев = 100\n",
      "Оптимальная глубина дерева = 9\n"
     ]
    }
   ],
   "source": [
    "# Подберем лучшие гиперпараметры\n",
    "best_model = None\n",
    "for est in range(10, 101, 10):\n",
    "    for depth in range(1, 10):\n",
    "        model_forest = RandomForestClassifier(random_state=12345,\n",
    "                                              n_estimators=est, \n",
    "                                              max_depth=depth)\n",
    "        model_forest.fit(features_upsampled, target_upsampled)\n",
    "        predictions_valid_forest = model_forest.predict(features_valid)\n",
    "        f1_forest = f1_score(target_valid, predictions_valid_forest)\n",
    "        if f1_forest > best_f1:\n",
    "            best_model = model_forest\n",
    "            best_est = est\n",
    "            best_depth = depth\n",
    "\n",
    "print('Оптимальное количество деревьев =', best_est)\n",
    "print('Оптимальная глубина дерева =', best_depth)"
   ]
  },
  {
   "cell_type": "code",
   "execution_count": 48,
   "metadata": {},
   "outputs": [
    {
     "name": "stdout",
     "output_type": "stream",
     "text": [
      "Recall_forest: 0.6649616368286445\n",
      "Precision_forest: 0.4914933837429111\n",
      "F1_forest: 0.5652173913043478\n",
      "ROC-AUC_forest: 0.8427268926864393\n"
     ]
    }
   ],
   "source": [
    "model_forest = RandomForestClassifier(random_state=12345, \n",
    "                                      n_estimators=10, \n",
    "                                      max_depth=9)\n",
    "model_forest.fit(features_upsampled, target_upsampled)\n",
    "predictions_valid_forest = model_forest.predict(features_valid)\n",
    "\n",
    "print(\"Recall_forest:\", recall_score(target_valid, predictions_valid_forest))\n",
    "print(\"Precision_forest:\", precision_score(target_valid, predictions_valid_forest))\n",
    "print(\"F1_forest:\", f1_score(target_valid, predictions_valid_forest))\n",
    "\n",
    "probabilities_valid = model_forest.predict_proba(features_valid)\n",
    "probabilities_one_valid = probabilities_valid[:, 1]\n",
    "print(\"ROC-AUC_forest:\", roc_auc_score(target_valid, probabilities_one_valid))"
   ]
  },
  {
   "cell_type": "markdown",
   "metadata": {},
   "source": [
    "#### Логистическая регрессия"
   ]
  },
  {
   "cell_type": "code",
   "execution_count": 49,
   "metadata": {},
   "outputs": [
    {
     "name": "stdout",
     "output_type": "stream",
     "text": [
      "Recall_log: 0.7007672634271099\n",
      "Precision_log: 0.3145809414466131\n",
      "F1_log: 0.43423137876386686\n",
      "ROC-AUC_log: 0.7170344561203843\n"
     ]
    }
   ],
   "source": [
    "model_log = LogisticRegression(random_state=12345,\n",
    "                               solver='liblinear')\n",
    "model_log.fit(features_upsampled, target_upsampled)\n",
    "predictions_valid_log = model_log.predict(features_valid)\n",
    "\n",
    "print(\"Recall_log:\", recall_score(target_valid, predictions_valid_log))\n",
    "print(\"Precision_log:\", precision_score(target_valid, predictions_valid_log))\n",
    "print(\"F1_log:\", f1_score(target_valid, predictions_valid_log))\n",
    "\n",
    "probabilities_valid = model_log.predict_proba(features_valid)\n",
    "probabilities_one_valid = probabilities_valid[:, 1]\n",
    "print(\"ROC-AUC_log:\", roc_auc_score(target_valid, probabilities_one_valid))"
   ]
  },
  {
   "cell_type": "code",
   "execution_count": 50,
   "metadata": {},
   "outputs": [
    {
     "data": {
      "text/html": [
       "<div>\n",
       "<style scoped>\n",
       "    .dataframe tbody tr th:only-of-type {\n",
       "        vertical-align: middle;\n",
       "    }\n",
       "\n",
       "    .dataframe tbody tr th {\n",
       "        vertical-align: top;\n",
       "    }\n",
       "\n",
       "    .dataframe thead th {\n",
       "        text-align: right;\n",
       "    }\n",
       "</style>\n",
       "<table border=\"1\" class=\"dataframe\">\n",
       "  <thead>\n",
       "    <tr style=\"text-align: right;\">\n",
       "      <th></th>\n",
       "      <th>Model Name</th>\n",
       "      <th>Initial</th>\n",
       "      <th>Weighing</th>\n",
       "      <th>Downsampling</th>\n",
       "      <th>Upsampling</th>\n",
       "    </tr>\n",
       "  </thead>\n",
       "  <tbody>\n",
       "    <tr>\n",
       "      <th>0</th>\n",
       "      <td>Tree</td>\n",
       "      <td>0.55</td>\n",
       "      <td>0.56</td>\n",
       "      <td>0.55</td>\n",
       "      <td>0.55</td>\n",
       "    </tr>\n",
       "    <tr>\n",
       "      <th>1</th>\n",
       "      <td>Forest</td>\n",
       "      <td>0.55</td>\n",
       "      <td>0.58</td>\n",
       "      <td>0.56</td>\n",
       "      <td>0.57</td>\n",
       "    </tr>\n",
       "    <tr>\n",
       "      <th>2</th>\n",
       "      <td>Log</td>\n",
       "      <td>0.10</td>\n",
       "      <td>0.47</td>\n",
       "      <td>0.44</td>\n",
       "      <td>0.43</td>\n",
       "    </tr>\n",
       "  </tbody>\n",
       "</table>\n",
       "</div>"
      ],
      "text/plain": [
       "  Model Name  Initial  Weighing  Downsampling  Upsampling\n",
       "0       Tree     0.55      0.56          0.55        0.55\n",
       "1     Forest     0.55      0.58          0.56        0.57\n",
       "2        Log     0.10      0.47          0.44        0.43"
      ]
     },
     "execution_count": 50,
     "metadata": {},
     "output_type": "execute_result"
    }
   ],
   "source": [
    "# для удобства соберем все полученные значения метрики F1-score в один датафрейм\n",
    "\n",
    "model_name = ['Tree', 'Forest', 'Log']\n",
    "initial_values = [0.55, 0.55, 0.10]\n",
    "weighting_values = [0.56, 0.58, 0.47]\n",
    "down_values = [0.55, 0.56, 0.44]\n",
    "up_values = [0.55, 0.57, 0.43]\n",
    "\n",
    "data_metrics = pd.DataFrame({'Model Name': model_name,\n",
    "                           'Initial': initial_values,\n",
    "                           'Weighing': weighting_values,\n",
    "                           'Downsampling': down_values,\n",
    "                           'Upsampling': up_values })\n",
    "\n",
    "data_metrics"
   ]
  },
  {
   "cell_type": "markdown",
   "metadata": {},
   "source": [
    "Вывод:\n",
    "\n",
    "При уменьшении и увеличении выборки получается примерно одинаковое значение F1-score. Наибольшее значение метрики F1-score получено при помощи взвешивания классов у модели случайного леса.\n",
    "Значение метрики AUC-ROC для всех случае выше F1-score, принимает значения в районе 80%."
   ]
  },
  {
   "cell_type": "markdown",
   "metadata": {},
   "source": [
    "## Тестирование модели"
   ]
  },
  {
   "cell_type": "markdown",
   "metadata": {},
   "source": [
    "Тестирование будет проводить на модели случайного леса, так как она показала наилучшее значение метрики F1-score."
   ]
  },
  {
   "cell_type": "code",
   "execution_count": 51,
   "metadata": {},
   "outputs": [
    {
     "name": "stdout",
     "output_type": "stream",
     "text": [
      "Оптимальное количество деревьев = 100\n",
      "Оптимальная глубина дерева = 9\n"
     ]
    }
   ],
   "source": [
    "# подберем лучшие гиперпараметры\n",
    "best_model = None\n",
    "for est in range(10, 101, 10):\n",
    "    for depth in range(1, 10):\n",
    "        model_forest = RandomForestClassifier(random_state=12345,\n",
    "                                              n_estimators=est, \n",
    "                                              max_depth=depth,\n",
    "                                              class_weight='balanced')\n",
    "        model_forest.fit(features_train, target_train)\n",
    "        predictions_valid_forest = model_forest.predict(features_valid)\n",
    "        f1_forest = f1_score(target_valid, predictions_valid_forest)\n",
    "        if f1_forest > best_f1:\n",
    "            best_model = model_forest\n",
    "            best_est = est\n",
    "            best_depth = depth\n",
    "\n",
    "print('Оптимальное количество деревьев =', best_est)\n",
    "print('Оптимальная глубина дерева =', best_depth)"
   ]
  },
  {
   "cell_type": "code",
   "execution_count": 52,
   "metadata": {},
   "outputs": [
    {
     "data": {
      "text/plain": [
       "array([0.07606459, 0.32415182, 0.0407001 , 0.11735635, 0.20402943,\n",
       "       0.01109916, 0.06215366, 0.07617113, 0.02400684, 0.05551799,\n",
       "       0.00874894])"
      ]
     },
     "execution_count": 52,
     "metadata": {},
     "output_type": "execute_result"
    }
   ],
   "source": [
    "# проверяем модель с наилучшим значением f1-score\n",
    "model_forest = RandomForestClassifier(random_state=12345, \n",
    "                                      n_estimators=100, \n",
    "                                      max_depth=9,\n",
    "                                      class_weight='balanced')\n",
    "model_forest.fit(features_train, target_train)\n",
    "predictions_test_forest = model_forest.predict(features_test)\n",
    "\n",
    "model_forest.feature_importances_"
   ]
  },
  {
   "cell_type": "code",
   "execution_count": 53,
   "metadata": {},
   "outputs": [
    {
     "data": {
      "text/plain": [
       "Text(0.5, 1.0, 'Global Feature Importance - Built-in Method')"
      ]
     },
     "execution_count": 53,
     "metadata": {},
     "output_type": "execute_result"
    },
    {
     "data": {
      "image/png": "[encoded data removed]",
      "text/plain": [
       "<Figure size 432x288 with 1 Axes>"
      ]
     },
     "metadata": {
      "needs_background": "light"
     },
     "output_type": "display_data"
    }
   ],
   "source": [
    "global_importances = pd.Series(model_forest.feature_importances_, index=features_train.columns)\n",
    "global_importances.sort_values(ascending=True, inplace=True)\n",
    "global_importances.plot.barh(color='green')\n",
    "plt.xlabel(\"Importance\")\n",
    "plt.ylabel(\"Feature\")\n",
    "plt.title(\"Global Feature Importance - Built-in Method\")"
   ]
  },
  {
   "cell_type": "code",
   "execution_count": 57,
   "metadata": {},
   "outputs": [
    {
     "data": {
      "text/plain": [
       "0    2000\n",
       "dtype: int64"
      ]
     },
     "execution_count": 57,
     "metadata": {},
     "output_type": "execute_result"
    }
   ],
   "source": [
    "#Создаем константную модель\n",
    "target_predict_constant = pd.Series([0]*len(target_test))\n",
    "target_predict_constant.value_counts()"
   ]
  },
  {
   "cell_type": "code",
   "execution_count": 58,
   "metadata": {},
   "outputs": [
    {
     "name": "stdout",
     "output_type": "stream",
     "text": [
      "Recall_forest: 0.6533957845433255\n",
      "Precision_forest: 0.6186252771618626\n",
      "F1_tree: 0.6355353075170842\n",
      "ROC-AUC_forest: 0.8673293919195559\n",
      "accuracy_score константой модели: 0.8045\n",
      "accuracy_score финальной модели: 0.84\n",
      "AUC-ROC константой модели: 0.5\n",
      "AUC-ROC финальной модели: 0.8673293919195559\n"
     ]
    }
   ],
   "source": [
    "print(\"Recall_forest:\", recall_score(target_test, predictions_test_forest))\n",
    "print(\"Precision_forest:\", precision_score(target_test, predictions_test_forest))\n",
    "print(\"F1_tree:\", f1_score(target_test, predictions_test_forest))\n",
    "\n",
    "probabilities_test = model_forest.predict_proba(features_test)\n",
    "probabilities_one_test = probabilities_test[:, 1]\n",
    "print(\"ROC-AUC_forest:\", roc_auc_score(target_test, probabilities_one_test))\n",
    "\n",
    "#Сравним показатель точности (accuracy_score) константной модели и финальной\n",
    "print('accuracy_score константой модели:', accuracy_score(target_valid, target_predict_constant))\n",
    "print('accuracy_score финальной модели:', accuracy_score(target_test, predictions_test_forest))\n",
    "#Дополнительно сравним AUC-ROC \n",
    "print('AUC-ROC константой модели:', roc_auc_score(target_valid, target_predict_constant))\n",
    "print('AUC-ROC финальной модели:', roc_auc_score(target_test, probabilities_one_test))"
   ]
  },
  {
   "cell_type": "code",
   "execution_count": 55,
   "metadata": {
    "scrolled": true
   },
   "outputs": [
    {
     "data": {
      "image/png": "[encoded data removed]",
      "text/plain": [
       "<Figure size 432x288 with 1 Axes>"
      ]
     },
     "metadata": {
      "needs_background": "light"
     },
     "output_type": "display_data"
    }
   ],
   "source": [
    "fpr, tpr, thresholds = roc_curve(target_test, probabilities_one_test) \n",
    "\n",
    "plt.figure()\n",
    "plt.plot(fpr, tpr, linestyle='solid')\n",
    "plt.plot([0, 1], [0, 1], linestyle='--')\n",
    "plt.xlim([0.0, 1.0])\n",
    "plt.ylim([0.0, 1.0])\n",
    "plt.xlabel('False Positive Rate')\n",
    "plt.ylabel('True Positive Rate')\n",
    "plt.title('ROC-кривая')\n",
    "plt.show()"
   ]
  },
  {
   "cell_type": "markdown",
   "metadata": {},
   "source": [
    "Вывод: \n",
    "\n",
    "Перед разделением на выборки была проведена предобработка данных. Проверили данные на наличие явных дубликатов - их нет\n",
    "Обработаны пропуски в столбце tenure - заменены нулями\n",
    "Приведены все названия столбцов к единому стилю\n",
    "Проведено масштабирование величин estimated_salary, credit_score, balance для того, чтобы признаки вносили равнозначный вклад\n",
    "Заменены категориальные признаки genre и geography на количественные с помощью OHE.\n",
    "\n",
    "Разделили исходные данные на обучающую и тестовую выборки в отношении 80/20, а от обучающей отделено 25 % на валидационную выборку, не включая customer_id и surname, row_number, так как их влияние может сыграть в негативную сторону. \n",
    "\n",
    "Проверили датасет на наличие дисбаланса - достаточно сильный дисбаланс классов - только 20% отражают факт ухода клиента.\n",
    "\n",
    "Для борьбы с дисбалансом классов были использованы 3 метода: Взвешивание классов, Увеличение выборки (upsampling), Уменьшение выборки (downsampling)\n",
    "\n",
    "В результате борьбы с дисбалансов классов можно сделать следующие выводы:\n",
    "\n",
    "При уменьшении и увеличении выборки получается примерно одинаковое значение F1-score. Наибольшее значение метрики F1-score получено при помощи взвешивания классов у модели случайного леса.\n",
    "Значение метрики AUC-ROC для всех случае выше F1-score, принимает значения в районе 80%.\n",
    "\n",
    "Проведено тестирование на модели случайный лес, которая показала лучшее значение F1-score. \n",
    "В результате тестирование получили следующие значения для ключевых метрик:\n",
    "\n",
    "F1-score = 0.64 - выше 0.59\n",
    "AUC-ROC = 0.87 - близко к единице"
   ]
  }
 ],
 "metadata": {
  "ExecuteTimeLog": [
   {
    "duration": 486,
    "start_time": "2023-09-04T16:23:11.263Z"
   },
   {
    "duration": 207,
    "start_time": "2023-09-04T16:23:12.017Z"
   },
   {
    "duration": 24,
    "start_time": "2023-09-04T16:23:31.188Z"
   },
   {
    "duration": 66,
    "start_time": "2023-09-04T16:31:49.088Z"
   },
   {
    "duration": 5,
    "start_time": "2023-09-04T16:31:55.516Z"
   },
   {
    "duration": 5,
    "start_time": "2023-09-04T16:35:18.438Z"
   },
   {
    "duration": 410,
    "start_time": "2023-09-04T16:42:17.164Z"
   },
   {
    "duration": 46,
    "start_time": "2023-09-04T16:42:17.576Z"
   },
   {
    "duration": 18,
    "start_time": "2023-09-04T16:42:17.624Z"
   },
   {
    "duration": 24,
    "start_time": "2023-09-04T16:42:17.650Z"
   },
   {
    "duration": 6,
    "start_time": "2023-09-04T16:42:17.675Z"
   },
   {
    "duration": 77,
    "start_time": "2023-09-04T16:42:17.682Z"
   },
   {
    "duration": 0,
    "start_time": "2023-09-04T16:42:17.761Z"
   },
   {
    "duration": 9,
    "start_time": "2023-09-04T16:43:09.104Z"
   },
   {
    "duration": 8,
    "start_time": "2023-09-04T16:49:43.922Z"
   },
   {
    "duration": 6,
    "start_time": "2023-09-04T16:59:05.193Z"
   },
   {
    "duration": 5,
    "start_time": "2023-09-04T16:59:07.629Z"
   },
   {
    "duration": 12,
    "start_time": "2023-09-04T17:03:06.129Z"
   },
   {
    "duration": 7,
    "start_time": "2023-09-04T17:14:36.334Z"
   },
   {
    "duration": 7,
    "start_time": "2023-09-04T17:14:46.706Z"
   },
   {
    "duration": 4,
    "start_time": "2023-09-04T17:14:53.909Z"
   },
   {
    "duration": 10,
    "start_time": "2023-09-04T17:15:01.370Z"
   },
   {
    "duration": 5,
    "start_time": "2023-09-04T17:16:06.000Z"
   },
   {
    "duration": 4,
    "start_time": "2023-09-04T17:17:29.036Z"
   },
   {
    "duration": 7,
    "start_time": "2023-09-04T17:17:53.431Z"
   },
   {
    "duration": 1995,
    "start_time": "2023-09-04T17:18:45.214Z"
   },
   {
    "duration": 7,
    "start_time": "2023-09-04T17:18:53.997Z"
   },
   {
    "duration": 11,
    "start_time": "2023-09-04T17:29:40.233Z"
   },
   {
    "duration": 5,
    "start_time": "2023-09-04T17:29:50.502Z"
   },
   {
    "duration": 10,
    "start_time": "2023-09-04T17:36:14.370Z"
   },
   {
    "duration": 13,
    "start_time": "2023-09-04T17:37:00.320Z"
   },
   {
    "duration": 12,
    "start_time": "2023-09-04T17:37:53.671Z"
   },
   {
    "duration": 2771,
    "start_time": "2023-09-04T17:38:43.787Z"
   },
   {
    "duration": 53,
    "start_time": "2023-09-04T17:38:46.561Z"
   },
   {
    "duration": 12,
    "start_time": "2023-09-04T17:38:46.616Z"
   },
   {
    "duration": 24,
    "start_time": "2023-09-04T17:38:46.630Z"
   },
   {
    "duration": 5,
    "start_time": "2023-09-04T17:38:46.657Z"
   },
   {
    "duration": 9,
    "start_time": "2023-09-04T17:38:46.664Z"
   },
   {
    "duration": 15,
    "start_time": "2023-09-04T17:38:46.675Z"
   },
   {
    "duration": 3,
    "start_time": "2023-09-04T17:38:46.692Z"
   },
   {
    "duration": 8,
    "start_time": "2023-09-04T17:38:46.696Z"
   },
   {
    "duration": 6,
    "start_time": "2023-09-04T17:38:46.705Z"
   },
   {
    "duration": 36,
    "start_time": "2023-09-04T17:38:46.712Z"
   },
   {
    "duration": 5,
    "start_time": "2023-09-04T17:38:46.750Z"
   },
   {
    "duration": 12,
    "start_time": "2023-09-04T17:38:46.757Z"
   },
   {
    "duration": 16,
    "start_time": "2023-09-04T17:38:46.772Z"
   },
   {
    "duration": 10,
    "start_time": "2023-09-04T17:38:46.790Z"
   },
   {
    "duration": 1970,
    "start_time": "2023-09-04T18:21:24.831Z"
   },
   {
    "duration": 49,
    "start_time": "2023-09-04T18:21:26.802Z"
   },
   {
    "duration": 24,
    "start_time": "2023-09-04T18:21:26.853Z"
   },
   {
    "duration": 23,
    "start_time": "2023-09-04T18:21:26.879Z"
   },
   {
    "duration": 5,
    "start_time": "2023-09-04T18:21:26.903Z"
   },
   {
    "duration": 8,
    "start_time": "2023-09-04T18:21:26.909Z"
   },
   {
    "duration": 33,
    "start_time": "2023-09-04T18:21:26.918Z"
   },
   {
    "duration": 11,
    "start_time": "2023-09-04T18:21:26.953Z"
   },
   {
    "duration": 11,
    "start_time": "2023-09-04T18:21:26.966Z"
   },
   {
    "duration": 7,
    "start_time": "2023-09-04T18:21:26.979Z"
   },
   {
    "duration": 25,
    "start_time": "2023-09-04T18:21:26.990Z"
   },
   {
    "duration": 6,
    "start_time": "2023-09-04T18:21:27.017Z"
   },
   {
    "duration": 24,
    "start_time": "2023-09-04T18:21:27.025Z"
   },
   {
    "duration": 24,
    "start_time": "2023-09-04T18:21:27.051Z"
   },
   {
    "duration": 40,
    "start_time": "2023-09-04T18:21:27.077Z"
   },
   {
    "duration": 4,
    "start_time": "2023-09-04T18:21:27.120Z"
   },
   {
    "duration": 17,
    "start_time": "2023-09-04T18:21:27.126Z"
   },
   {
    "duration": 37,
    "start_time": "2023-09-04T18:21:27.150Z"
   },
   {
    "duration": 12,
    "start_time": "2023-09-04T18:21:27.193Z"
   },
   {
    "duration": 156,
    "start_time": "2023-09-04T18:27:53.475Z"
   },
   {
    "duration": 134,
    "start_time": "2023-09-04T18:28:50.969Z"
   },
   {
    "duration": 141,
    "start_time": "2023-09-04T18:29:02.630Z"
   },
   {
    "duration": 9,
    "start_time": "2023-09-04T18:36:53.009Z"
   },
   {
    "duration": 158,
    "start_time": "2023-09-04T19:00:13.602Z"
   },
   {
    "duration": 2308,
    "start_time": "2023-09-05T12:14:12.853Z"
   },
   {
    "duration": 149,
    "start_time": "2023-09-05T12:14:15.163Z"
   },
   {
    "duration": 13,
    "start_time": "2023-09-05T12:14:15.314Z"
   },
   {
    "duration": 16,
    "start_time": "2023-09-05T12:14:15.329Z"
   },
   {
    "duration": 5,
    "start_time": "2023-09-05T12:14:15.346Z"
   },
   {
    "duration": 8,
    "start_time": "2023-09-05T12:14:15.352Z"
   },
   {
    "duration": 13,
    "start_time": "2023-09-05T12:14:15.361Z"
   },
   {
    "duration": 16,
    "start_time": "2023-09-05T12:14:15.375Z"
   },
   {
    "duration": 19,
    "start_time": "2023-09-05T12:14:15.393Z"
   },
   {
    "duration": 5,
    "start_time": "2023-09-05T12:14:15.415Z"
   },
   {
    "duration": 14,
    "start_time": "2023-09-05T12:14:15.422Z"
   },
   {
    "duration": 8,
    "start_time": "2023-09-05T12:14:15.438Z"
   },
   {
    "duration": 13,
    "start_time": "2023-09-05T12:14:15.448Z"
   },
   {
    "duration": 12,
    "start_time": "2023-09-05T12:14:15.463Z"
   },
   {
    "duration": 12,
    "start_time": "2023-09-05T12:14:15.476Z"
   },
   {
    "duration": 10,
    "start_time": "2023-09-05T12:14:15.489Z"
   },
   {
    "duration": 9,
    "start_time": "2023-09-05T12:14:15.501Z"
   },
   {
    "duration": 38,
    "start_time": "2023-09-05T12:14:15.512Z"
   },
   {
    "duration": 12,
    "start_time": "2023-09-05T12:14:15.551Z"
   },
   {
    "duration": 132,
    "start_time": "2023-09-05T12:14:15.564Z"
   },
   {
    "duration": 6,
    "start_time": "2023-09-05T12:14:15.698Z"
   },
   {
    "duration": 150,
    "start_time": "2023-09-05T12:14:15.706Z"
   },
   {
    "duration": 22,
    "start_time": "2023-09-05T12:14:15.858Z"
   },
   {
    "duration": 9,
    "start_time": "2023-09-05T12:14:15.881Z"
   },
   {
    "duration": 20499,
    "start_time": "2023-09-05T12:14:15.892Z"
   },
   {
    "duration": 337,
    "start_time": "2023-09-05T12:14:36.392Z"
   },
   {
    "duration": 14,
    "start_time": "2023-09-05T12:14:36.730Z"
   },
   {
    "duration": 33,
    "start_time": "2023-09-05T12:14:36.747Z"
   },
   {
    "duration": 103,
    "start_time": "2023-09-05T12:14:36.847Z"
   },
   {
    "duration": 165,
    "start_time": "2023-09-05T12:14:36.952Z"
   },
   {
    "duration": 29,
    "start_time": "2023-09-05T12:14:37.119Z"
   },
   {
    "duration": 17,
    "start_time": "2023-09-05T12:14:37.149Z"
   },
   {
    "duration": 19135,
    "start_time": "2023-09-05T12:14:37.168Z"
   },
   {
    "duration": 550,
    "start_time": "2023-09-05T12:14:56.305Z"
   },
   {
    "duration": 55,
    "start_time": "2023-09-05T12:14:56.857Z"
   },
   {
    "duration": 54,
    "start_time": "2023-09-05T12:14:56.914Z"
   },
   {
    "duration": 182,
    "start_time": "2023-09-05T12:14:56.970Z"
   },
   {
    "duration": 191,
    "start_time": "2023-09-05T12:14:57.154Z"
   },
   {
    "duration": 114,
    "start_time": "2023-09-05T12:14:57.347Z"
   },
   {
    "duration": 27,
    "start_time": "2023-09-05T12:14:57.463Z"
   },
   {
    "duration": 12781,
    "start_time": "2023-09-05T12:14:57.491Z"
   },
   {
    "duration": 54,
    "start_time": "2023-09-05T12:15:10.274Z"
   },
   {
    "duration": 120,
    "start_time": "2023-09-05T12:15:10.330Z"
   },
   {
    "duration": 100,
    "start_time": "2023-09-05T12:15:10.451Z"
   },
   {
    "duration": 202,
    "start_time": "2023-09-05T12:15:10.644Z"
   },
   {
    "duration": 38,
    "start_time": "2023-09-05T12:15:10.848Z"
   },
   {
    "duration": 26054,
    "start_time": "2023-09-05T12:15:10.887Z"
   },
   {
    "duration": 109,
    "start_time": "2023-09-05T12:15:36.944Z"
   },
   {
    "duration": 101,
    "start_time": "2023-09-05T12:15:37.056Z"
   },
   {
    "duration": 188,
    "start_time": "2023-09-05T12:15:37.158Z"
   },
   {
    "duration": 6,
    "start_time": "2023-09-05T12:15:37.347Z"
   },
   {
    "duration": 6,
    "start_time": "2023-09-05T12:15:37.354Z"
   },
   {
    "duration": 152,
    "start_time": "2023-09-05T12:15:37.362Z"
   },
   {
    "duration": 0,
    "start_time": "2023-09-05T12:15:37.516Z"
   },
   {
    "duration": 0,
    "start_time": "2023-09-05T12:15:37.517Z"
   },
   {
    "duration": 0,
    "start_time": "2023-09-05T12:15:37.519Z"
   },
   {
    "duration": 0,
    "start_time": "2023-09-05T12:15:37.520Z"
   },
   {
    "duration": 0,
    "start_time": "2023-09-05T12:15:37.521Z"
   },
   {
    "duration": 1812,
    "start_time": "2023-09-05T12:19:04.871Z"
   },
   {
    "duration": 44,
    "start_time": "2023-09-05T12:19:06.685Z"
   },
   {
    "duration": 13,
    "start_time": "2023-09-05T12:19:06.731Z"
   },
   {
    "duration": 17,
    "start_time": "2023-09-05T12:19:06.746Z"
   },
   {
    "duration": 4,
    "start_time": "2023-09-05T12:19:06.764Z"
   },
   {
    "duration": 12,
    "start_time": "2023-09-05T12:19:06.770Z"
   },
   {
    "duration": 10,
    "start_time": "2023-09-05T12:19:06.784Z"
   },
   {
    "duration": 10,
    "start_time": "2023-09-05T12:19:06.795Z"
   },
   {
    "duration": 22,
    "start_time": "2023-09-05T12:19:06.806Z"
   },
   {
    "duration": 13,
    "start_time": "2023-09-05T12:19:06.831Z"
   },
   {
    "duration": 12,
    "start_time": "2023-09-05T12:19:06.845Z"
   },
   {
    "duration": 3,
    "start_time": "2023-09-05T12:19:06.859Z"
   },
   {
    "duration": 7,
    "start_time": "2023-09-05T12:19:06.864Z"
   },
   {
    "duration": 11,
    "start_time": "2023-09-05T12:19:06.872Z"
   },
   {
    "duration": 12,
    "start_time": "2023-09-05T12:19:06.884Z"
   },
   {
    "duration": 4,
    "start_time": "2023-09-05T12:19:06.898Z"
   },
   {
    "duration": 46,
    "start_time": "2023-09-05T12:19:06.904Z"
   },
   {
    "duration": 14,
    "start_time": "2023-09-05T12:19:06.952Z"
   },
   {
    "duration": 12,
    "start_time": "2023-09-05T12:19:06.968Z"
   },
   {
    "duration": 153,
    "start_time": "2023-09-05T12:19:06.981Z"
   },
   {
    "duration": 12,
    "start_time": "2023-09-05T12:19:07.136Z"
   },
   {
    "duration": 152,
    "start_time": "2023-09-05T12:19:07.149Z"
   },
   {
    "duration": 21,
    "start_time": "2023-09-05T12:19:07.303Z"
   },
   {
    "duration": 23,
    "start_time": "2023-09-05T12:19:07.325Z"
   },
   {
    "duration": 18762,
    "start_time": "2023-09-05T12:19:07.349Z"
   },
   {
    "duration": 358,
    "start_time": "2023-09-05T12:19:26.113Z"
   },
   {
    "duration": 10,
    "start_time": "2023-09-05T12:19:26.473Z"
   },
   {
    "duration": 61,
    "start_time": "2023-09-05T12:19:26.487Z"
   },
   {
    "duration": 95,
    "start_time": "2023-09-05T12:19:26.555Z"
   },
   {
    "duration": 173,
    "start_time": "2023-09-05T12:19:26.652Z"
   },
   {
    "duration": 27,
    "start_time": "2023-09-05T12:19:26.827Z"
   },
   {
    "duration": 13,
    "start_time": "2023-09-05T12:19:26.856Z"
   },
   {
    "duration": 20784,
    "start_time": "2023-09-05T12:19:26.870Z"
   },
   {
    "duration": 608,
    "start_time": "2023-09-05T12:19:47.656Z"
   },
   {
    "duration": 55,
    "start_time": "2023-09-05T12:19:48.266Z"
   },
   {
    "duration": 61,
    "start_time": "2023-09-05T12:19:48.323Z"
   },
   {
    "duration": 111,
    "start_time": "2023-09-05T12:19:48.447Z"
   },
   {
    "duration": 190,
    "start_time": "2023-09-05T12:19:48.560Z"
   },
   {
    "duration": 111,
    "start_time": "2023-09-05T12:19:48.752Z"
   },
   {
    "duration": 27,
    "start_time": "2023-09-05T12:19:48.865Z"
   },
   {
    "duration": 13503,
    "start_time": "2023-09-05T12:19:48.894Z"
   },
   {
    "duration": 66,
    "start_time": "2023-09-05T12:20:02.400Z"
   },
   {
    "duration": 278,
    "start_time": "2023-09-05T12:20:02.468Z"
   },
   {
    "duration": 99,
    "start_time": "2023-09-05T12:20:02.749Z"
   },
   {
    "duration": 257,
    "start_time": "2023-09-05T12:20:02.850Z"
   },
   {
    "duration": 48,
    "start_time": "2023-09-05T12:20:03.109Z"
   },
   {
    "duration": 26301,
    "start_time": "2023-09-05T12:20:03.159Z"
   },
   {
    "duration": 104,
    "start_time": "2023-09-05T12:20:29.462Z"
   },
   {
    "duration": 179,
    "start_time": "2023-09-05T12:20:29.567Z"
   },
   {
    "duration": 103,
    "start_time": "2023-09-05T12:20:29.748Z"
   },
   {
    "duration": 12,
    "start_time": "2023-09-05T12:20:29.853Z"
   },
   {
    "duration": 16,
    "start_time": "2023-09-05T12:20:29.867Z"
   },
   {
    "duration": 136,
    "start_time": "2023-09-05T12:20:29.884Z"
   },
   {
    "duration": 0,
    "start_time": "2023-09-05T12:20:30.022Z"
   },
   {
    "duration": 0,
    "start_time": "2023-09-05T12:20:30.023Z"
   },
   {
    "duration": 0,
    "start_time": "2023-09-05T12:20:30.024Z"
   },
   {
    "duration": 0,
    "start_time": "2023-09-05T12:20:30.026Z"
   },
   {
    "duration": 0,
    "start_time": "2023-09-05T12:20:30.027Z"
   },
   {
    "duration": 1769,
    "start_time": "2023-09-05T12:20:57.904Z"
   },
   {
    "duration": 44,
    "start_time": "2023-09-05T12:20:59.675Z"
   },
   {
    "duration": 14,
    "start_time": "2023-09-05T12:20:59.721Z"
   },
   {
    "duration": 19,
    "start_time": "2023-09-05T12:20:59.737Z"
   },
   {
    "duration": 15,
    "start_time": "2023-09-05T12:20:59.757Z"
   },
   {
    "duration": 14,
    "start_time": "2023-09-05T12:20:59.774Z"
   },
   {
    "duration": 23,
    "start_time": "2023-09-05T12:20:59.790Z"
   },
   {
    "duration": 4,
    "start_time": "2023-09-05T12:20:59.815Z"
   },
   {
    "duration": 11,
    "start_time": "2023-09-05T12:20:59.821Z"
   },
   {
    "duration": 8,
    "start_time": "2023-09-05T12:20:59.835Z"
   },
   {
    "duration": 22,
    "start_time": "2023-09-05T12:20:59.845Z"
   },
   {
    "duration": 11,
    "start_time": "2023-09-05T12:20:59.870Z"
   },
   {
    "duration": 7,
    "start_time": "2023-09-05T12:20:59.883Z"
   },
   {
    "duration": 12,
    "start_time": "2023-09-05T12:20:59.892Z"
   },
   {
    "duration": 14,
    "start_time": "2023-09-05T12:20:59.906Z"
   },
   {
    "duration": 5,
    "start_time": "2023-09-05T12:20:59.945Z"
   },
   {
    "duration": 16,
    "start_time": "2023-09-05T12:20:59.951Z"
   },
   {
    "duration": 30,
    "start_time": "2023-09-05T12:20:59.969Z"
   },
   {
    "duration": 13,
    "start_time": "2023-09-05T12:21:00.001Z"
   },
   {
    "duration": 165,
    "start_time": "2023-09-05T12:21:00.016Z"
   },
   {
    "duration": 7,
    "start_time": "2023-09-05T12:21:00.183Z"
   },
   {
    "duration": 181,
    "start_time": "2023-09-05T12:21:00.192Z"
   },
   {
    "duration": 26,
    "start_time": "2023-09-05T12:21:00.375Z"
   },
   {
    "duration": 10,
    "start_time": "2023-09-05T12:21:00.403Z"
   },
   {
    "duration": 19673,
    "start_time": "2023-09-05T12:21:00.415Z"
   },
   {
    "duration": 325,
    "start_time": "2023-09-05T12:21:20.089Z"
   },
   {
    "duration": 12,
    "start_time": "2023-09-05T12:21:20.415Z"
   },
   {
    "duration": 43,
    "start_time": "2023-09-05T12:21:20.431Z"
   },
   {
    "duration": 168,
    "start_time": "2023-09-05T12:21:20.476Z"
   },
   {
    "duration": 169,
    "start_time": "2023-09-05T12:21:20.647Z"
   },
   {
    "duration": 27,
    "start_time": "2023-09-05T12:21:20.818Z"
   },
   {
    "duration": 14,
    "start_time": "2023-09-05T12:21:20.847Z"
   },
   {
    "duration": 19521,
    "start_time": "2023-09-05T12:21:20.862Z"
   },
   {
    "duration": 563,
    "start_time": "2023-09-05T12:21:40.385Z"
   },
   {
    "duration": 52,
    "start_time": "2023-09-05T12:21:40.950Z"
   },
   {
    "duration": 50,
    "start_time": "2023-09-05T12:21:41.005Z"
   },
   {
    "duration": 189,
    "start_time": "2023-09-05T12:21:41.057Z"
   },
   {
    "duration": 101,
    "start_time": "2023-09-05T12:21:41.248Z"
   },
   {
    "duration": 104,
    "start_time": "2023-09-05T12:21:41.350Z"
   },
   {
    "duration": 25,
    "start_time": "2023-09-05T12:21:41.456Z"
   },
   {
    "duration": 12509,
    "start_time": "2023-09-05T12:21:41.483Z"
   },
   {
    "duration": 63,
    "start_time": "2023-09-05T12:21:53.993Z"
   },
   {
    "duration": 188,
    "start_time": "2023-09-05T12:21:54.058Z"
   },
   {
    "duration": 110,
    "start_time": "2023-09-05T12:21:54.248Z"
   },
   {
    "duration": 203,
    "start_time": "2023-09-05T12:21:54.360Z"
   },
   {
    "duration": 38,
    "start_time": "2023-09-05T12:21:54.564Z"
   },
   {
    "duration": 25924,
    "start_time": "2023-09-05T12:21:54.604Z"
   },
   {
    "duration": 106,
    "start_time": "2023-09-05T12:22:20.530Z"
   },
   {
    "duration": 208,
    "start_time": "2023-09-05T12:22:20.638Z"
   },
   {
    "duration": 103,
    "start_time": "2023-09-05T12:22:20.849Z"
   },
   {
    "duration": 17,
    "start_time": "2023-09-05T12:22:20.954Z"
   },
   {
    "duration": 14,
    "start_time": "2023-09-05T12:22:20.973Z"
   },
   {
    "duration": 19,
    "start_time": "2023-09-05T12:22:20.988Z"
   },
   {
    "duration": 10,
    "start_time": "2023-09-05T12:22:21.009Z"
   },
   {
    "duration": 7,
    "start_time": "2023-09-05T12:22:21.021Z"
   },
   {
    "duration": 19616,
    "start_time": "2023-09-05T12:22:21.030Z"
   },
   {
    "duration": 654,
    "start_time": "2023-09-05T12:22:40.649Z"
   },
   {
    "duration": 123,
    "start_time": "2023-09-05T12:22:41.305Z"
   },
   {
    "duration": 51,
    "start_time": "2023-09-06T10:05:57.420Z"
   },
   {
    "duration": 1986,
    "start_time": "2023-09-06T10:06:04.037Z"
   },
   {
    "duration": 85,
    "start_time": "2023-09-06T10:06:06.025Z"
   },
   {
    "duration": 14,
    "start_time": "2023-09-06T10:06:06.112Z"
   },
   {
    "duration": 17,
    "start_time": "2023-09-06T10:06:06.128Z"
   },
   {
    "duration": 18,
    "start_time": "2023-09-06T10:06:06.147Z"
   },
   {
    "duration": 38,
    "start_time": "2023-09-06T10:06:06.166Z"
   },
   {
    "duration": 48,
    "start_time": "2023-09-06T10:06:06.206Z"
   },
   {
    "duration": 16,
    "start_time": "2023-09-06T10:06:06.256Z"
   },
   {
    "duration": 20,
    "start_time": "2023-09-06T10:06:06.273Z"
   },
   {
    "duration": 13,
    "start_time": "2023-09-06T10:06:06.297Z"
   },
   {
    "duration": 23,
    "start_time": "2023-09-06T10:06:06.312Z"
   },
   {
    "duration": 4,
    "start_time": "2023-09-06T10:06:06.337Z"
   },
   {
    "duration": 14,
    "start_time": "2023-09-06T10:06:06.342Z"
   },
   {
    "duration": 51,
    "start_time": "2023-09-06T10:06:06.358Z"
   },
   {
    "duration": 39,
    "start_time": "2023-09-06T10:06:06.411Z"
   },
   {
    "duration": 27,
    "start_time": "2023-09-06T10:06:06.452Z"
   },
   {
    "duration": 11,
    "start_time": "2023-09-06T10:06:06.480Z"
   },
   {
    "duration": 30,
    "start_time": "2023-09-06T10:06:06.493Z"
   },
   {
    "duration": 22,
    "start_time": "2023-09-06T10:06:06.524Z"
   },
   {
    "duration": 138,
    "start_time": "2023-09-06T10:06:06.548Z"
   },
   {
    "duration": 7,
    "start_time": "2023-09-06T10:06:06.688Z"
   },
   {
    "duration": 296,
    "start_time": "2023-09-06T10:06:06.696Z"
   },
   {
    "duration": 22,
    "start_time": "2023-09-06T10:06:06.994Z"
   },
   {
    "duration": 19,
    "start_time": "2023-09-06T10:06:07.018Z"
   },
   {
    "duration": 20163,
    "start_time": "2023-09-06T10:06:07.039Z"
   },
   {
    "duration": 313,
    "start_time": "2023-09-06T10:06:27.204Z"
   },
   {
    "duration": 16,
    "start_time": "2023-09-06T10:06:27.518Z"
   },
   {
    "duration": 30,
    "start_time": "2023-09-06T10:06:27.537Z"
   },
   {
    "duration": 166,
    "start_time": "2023-09-06T10:06:27.569Z"
   },
   {
    "duration": 171,
    "start_time": "2023-09-06T10:06:27.737Z"
   },
   {
    "duration": 31,
    "start_time": "2023-09-06T10:06:27.910Z"
   },
   {
    "duration": 13,
    "start_time": "2023-09-06T10:06:27.943Z"
   },
   {
    "duration": 19355,
    "start_time": "2023-09-06T10:06:27.958Z"
   },
   {
    "duration": 540,
    "start_time": "2023-09-06T10:06:47.315Z"
   },
   {
    "duration": 49,
    "start_time": "2023-09-06T10:06:47.857Z"
   },
   {
    "duration": 47,
    "start_time": "2023-09-06T10:06:47.908Z"
   },
   {
    "duration": 187,
    "start_time": "2023-09-06T10:06:47.957Z"
   },
   {
    "duration": 189,
    "start_time": "2023-09-06T10:06:48.146Z"
   },
   {
    "duration": 90,
    "start_time": "2023-09-06T10:06:48.336Z"
   },
   {
    "duration": 23,
    "start_time": "2023-09-06T10:06:48.428Z"
   },
   {
    "duration": 12147,
    "start_time": "2023-09-06T10:06:48.452Z"
   },
   {
    "duration": 56,
    "start_time": "2023-09-06T10:07:00.601Z"
   },
   {
    "duration": 183,
    "start_time": "2023-09-06T10:07:00.659Z"
   },
   {
    "duration": 101,
    "start_time": "2023-09-06T10:07:00.846Z"
   },
   {
    "duration": 216,
    "start_time": "2023-09-06T10:07:01.035Z"
   },
   {
    "duration": 39,
    "start_time": "2023-09-06T10:07:01.253Z"
   },
   {
    "duration": 25926,
    "start_time": "2023-09-06T10:07:01.295Z"
   },
   {
    "duration": 102,
    "start_time": "2023-09-06T10:07:27.222Z"
   },
   {
    "duration": 207,
    "start_time": "2023-09-06T10:07:27.333Z"
   },
   {
    "duration": 100,
    "start_time": "2023-09-06T10:07:27.542Z"
   },
   {
    "duration": 95,
    "start_time": "2023-09-06T10:07:27.644Z"
   },
   {
    "duration": 38,
    "start_time": "2023-09-06T10:07:27.740Z"
   },
   {
    "duration": 21,
    "start_time": "2023-09-06T10:07:27.780Z"
   },
   {
    "duration": 25,
    "start_time": "2023-09-06T10:07:27.802Z"
   },
   {
    "duration": 37,
    "start_time": "2023-09-06T10:07:27.829Z"
   },
   {
    "duration": 19728,
    "start_time": "2023-09-06T10:07:27.867Z"
   },
   {
    "duration": 643,
    "start_time": "2023-09-06T10:07:47.597Z"
   },
   {
    "duration": 129,
    "start_time": "2023-09-06T10:07:48.242Z"
   },
   {
    "duration": 1686,
    "start_time": "2023-09-06T10:14:24.812Z"
   },
   {
    "duration": 43,
    "start_time": "2023-09-06T10:14:26.500Z"
   },
   {
    "duration": 13,
    "start_time": "2023-09-06T10:14:26.544Z"
   },
   {
    "duration": 28,
    "start_time": "2023-09-06T10:14:26.558Z"
   },
   {
    "duration": 9,
    "start_time": "2023-09-06T10:14:26.587Z"
   },
   {
    "duration": 92,
    "start_time": "2023-09-06T10:14:26.598Z"
   },
   {
    "duration": 128,
    "start_time": "2023-09-06T10:14:26.691Z"
   },
   {
    "duration": 15,
    "start_time": "2023-09-06T10:14:26.821Z"
   },
   {
    "duration": 17,
    "start_time": "2023-09-06T10:14:26.838Z"
   },
   {
    "duration": 23,
    "start_time": "2023-09-06T10:14:26.857Z"
   },
   {
    "duration": 31,
    "start_time": "2023-09-06T10:14:26.882Z"
   },
   {
    "duration": 13,
    "start_time": "2023-09-06T10:14:26.915Z"
   },
   {
    "duration": 25,
    "start_time": "2023-09-06T10:14:26.930Z"
   },
   {
    "duration": 30,
    "start_time": "2023-09-06T10:14:26.956Z"
   },
   {
    "duration": 32,
    "start_time": "2023-09-06T10:14:26.987Z"
   },
   {
    "duration": 7,
    "start_time": "2023-09-06T10:14:27.021Z"
   },
   {
    "duration": 14,
    "start_time": "2023-09-06T10:14:27.030Z"
   },
   {
    "duration": 34,
    "start_time": "2023-09-06T10:14:27.046Z"
   },
   {
    "duration": 40,
    "start_time": "2023-09-06T10:14:27.081Z"
   },
   {
    "duration": 212,
    "start_time": "2023-09-06T10:14:27.123Z"
   },
   {
    "duration": 7,
    "start_time": "2023-09-06T10:14:27.337Z"
   },
   {
    "duration": 152,
    "start_time": "2023-09-06T10:14:27.345Z"
   },
   {
    "duration": 21,
    "start_time": "2023-09-06T10:14:27.499Z"
   },
   {
    "duration": 17,
    "start_time": "2023-09-06T10:14:27.522Z"
   },
   {
    "duration": 18433,
    "start_time": "2023-09-06T10:14:27.541Z"
   },
   {
    "duration": 331,
    "start_time": "2023-09-06T10:14:45.975Z"
   },
   {
    "duration": 10,
    "start_time": "2023-09-06T10:14:46.307Z"
   },
   {
    "duration": 44,
    "start_time": "2023-09-06T10:14:46.320Z"
   },
   {
    "duration": 100,
    "start_time": "2023-09-06T10:14:46.441Z"
   },
   {
    "duration": 177,
    "start_time": "2023-09-06T10:14:46.543Z"
   },
   {
    "duration": 35,
    "start_time": "2023-09-06T10:14:46.721Z"
   },
   {
    "duration": 15,
    "start_time": "2023-09-06T10:14:46.759Z"
   },
   {
    "duration": 18785,
    "start_time": "2023-09-06T10:14:46.775Z"
   },
   {
    "duration": 535,
    "start_time": "2023-09-06T10:15:05.562Z"
   },
   {
    "duration": 59,
    "start_time": "2023-09-06T10:15:06.099Z"
   },
   {
    "duration": 34,
    "start_time": "2023-09-06T10:15:06.159Z"
   },
   {
    "duration": 108,
    "start_time": "2023-09-06T10:15:06.237Z"
   },
   {
    "duration": 187,
    "start_time": "2023-09-06T10:15:06.348Z"
   },
   {
    "duration": 85,
    "start_time": "2023-09-06T10:15:06.537Z"
   },
   {
    "duration": 24,
    "start_time": "2023-09-06T10:15:06.633Z"
   },
   {
    "duration": 11956,
    "start_time": "2023-09-06T10:15:06.658Z"
   },
   {
    "duration": 56,
    "start_time": "2023-09-06T10:15:18.615Z"
   },
   {
    "duration": 161,
    "start_time": "2023-09-06T10:15:18.673Z"
   },
   {
    "duration": 106,
    "start_time": "2023-09-06T10:15:18.837Z"
   },
   {
    "duration": 198,
    "start_time": "2023-09-06T10:15:18.945Z"
   },
   {
    "duration": 36,
    "start_time": "2023-09-06T10:15:19.145Z"
   },
   {
    "duration": 24821,
    "start_time": "2023-09-06T10:15:19.183Z"
   },
   {
    "duration": 98,
    "start_time": "2023-09-06T10:15:44.006Z"
   },
   {
    "duration": 135,
    "start_time": "2023-09-06T10:15:44.106Z"
   },
   {
    "duration": 102,
    "start_time": "2023-09-06T10:15:44.333Z"
   },
   {
    "duration": 22,
    "start_time": "2023-09-06T10:15:44.436Z"
   },
   {
    "duration": 16,
    "start_time": "2023-09-06T10:15:44.459Z"
   },
   {
    "duration": 33,
    "start_time": "2023-09-06T10:15:44.477Z"
   },
   {
    "duration": 29,
    "start_time": "2023-09-06T10:15:44.512Z"
   },
   {
    "duration": 20,
    "start_time": "2023-09-06T10:15:44.544Z"
   },
   {
    "duration": 18618,
    "start_time": "2023-09-06T10:15:44.566Z"
   },
   {
    "duration": 630,
    "start_time": "2023-09-06T10:16:03.186Z"
   },
   {
    "duration": 124,
    "start_time": "2023-09-06T10:16:03.817Z"
   },
   {
    "duration": 66,
    "start_time": "2023-09-06T10:21:57.771Z"
   },
   {
    "duration": 1676,
    "start_time": "2023-09-06T10:26:02.382Z"
   },
   {
    "duration": 41,
    "start_time": "2023-09-06T10:26:04.060Z"
   },
   {
    "duration": 13,
    "start_time": "2023-09-06T10:26:04.102Z"
   },
   {
    "duration": 82,
    "start_time": "2023-09-06T10:26:04.117Z"
   },
   {
    "duration": 16,
    "start_time": "2023-09-06T10:26:04.200Z"
   },
   {
    "duration": 45,
    "start_time": "2023-09-06T10:26:04.218Z"
   },
   {
    "duration": 45,
    "start_time": "2023-09-06T10:26:04.265Z"
   },
   {
    "duration": 14,
    "start_time": "2023-09-06T10:26:04.312Z"
   },
   {
    "duration": 27,
    "start_time": "2023-09-06T10:26:04.328Z"
   },
   {
    "duration": 11,
    "start_time": "2023-09-06T10:26:04.359Z"
   },
   {
    "duration": 32,
    "start_time": "2023-09-06T10:26:04.372Z"
   },
   {
    "duration": 5,
    "start_time": "2023-09-06T10:26:04.406Z"
   },
   {
    "duration": 6,
    "start_time": "2023-09-06T10:26:04.414Z"
   },
   {
    "duration": 16,
    "start_time": "2023-09-06T10:26:04.422Z"
   },
   {
    "duration": 26,
    "start_time": "2023-09-06T10:26:04.440Z"
   },
   {
    "duration": 20,
    "start_time": "2023-09-06T10:26:04.468Z"
   },
   {
    "duration": 15,
    "start_time": "2023-09-06T10:26:04.489Z"
   },
   {
    "duration": 18,
    "start_time": "2023-09-06T10:26:04.506Z"
   },
   {
    "duration": 29,
    "start_time": "2023-09-06T10:26:04.525Z"
   },
   {
    "duration": 165,
    "start_time": "2023-09-06T10:26:04.557Z"
   },
   {
    "duration": 11,
    "start_time": "2023-09-06T10:26:04.723Z"
   },
   {
    "duration": 213,
    "start_time": "2023-09-06T10:26:04.737Z"
   },
   {
    "duration": 24,
    "start_time": "2023-09-06T10:26:04.952Z"
   },
   {
    "duration": 66,
    "start_time": "2023-09-06T10:26:04.978Z"
   },
   {
    "duration": 18713,
    "start_time": "2023-09-06T10:26:05.046Z"
   },
   {
    "duration": 340,
    "start_time": "2023-09-06T10:26:23.761Z"
   },
   {
    "duration": 55,
    "start_time": "2023-09-06T10:26:24.103Z"
   },
   {
    "duration": 73,
    "start_time": "2023-09-06T10:26:24.163Z"
   },
   {
    "duration": 110,
    "start_time": "2023-09-06T10:26:24.239Z"
   },
   {
    "duration": 298,
    "start_time": "2023-09-06T10:26:24.435Z"
   },
   {
    "duration": 26,
    "start_time": "2023-09-06T10:26:24.735Z"
   },
   {
    "duration": 16,
    "start_time": "2023-09-06T10:26:24.764Z"
   },
   {
    "duration": 19373,
    "start_time": "2023-09-06T10:26:24.782Z"
   },
   {
    "duration": 556,
    "start_time": "2023-09-06T10:26:44.156Z"
   },
   {
    "duration": 61,
    "start_time": "2023-09-06T10:26:44.714Z"
   },
   {
    "duration": 62,
    "start_time": "2023-09-06T10:26:44.777Z"
   },
   {
    "duration": 101,
    "start_time": "2023-09-06T10:26:44.844Z"
   },
   {
    "duration": 102,
    "start_time": "2023-09-06T10:26:44.947Z"
   },
   {
    "duration": 166,
    "start_time": "2023-09-06T10:26:45.052Z"
   },
   {
    "duration": 33,
    "start_time": "2023-09-06T10:26:45.219Z"
   },
   {
    "duration": 12500,
    "start_time": "2023-09-06T10:26:45.253Z"
   },
   {
    "duration": 50,
    "start_time": "2023-09-06T10:26:57.754Z"
   },
   {
    "duration": 45,
    "start_time": "2023-09-06T10:26:57.805Z"
   },
   {
    "duration": 100,
    "start_time": "2023-09-06T10:26:57.937Z"
   },
   {
    "duration": 208,
    "start_time": "2023-09-06T10:26:58.039Z"
   },
   {
    "duration": 40,
    "start_time": "2023-09-06T10:26:58.249Z"
   },
   {
    "duration": 26274,
    "start_time": "2023-09-06T10:26:58.291Z"
   },
   {
    "duration": 103,
    "start_time": "2023-09-06T10:27:24.567Z"
   },
   {
    "duration": 164,
    "start_time": "2023-09-06T10:27:24.671Z"
   },
   {
    "duration": 18,
    "start_time": "2023-09-06T10:27:24.837Z"
   },
   {
    "duration": 25,
    "start_time": "2023-09-06T10:27:24.935Z"
   },
   {
    "duration": 26,
    "start_time": "2023-09-06T10:27:24.962Z"
   },
   {
    "duration": 30,
    "start_time": "2023-09-06T10:27:24.990Z"
   },
   {
    "duration": 33,
    "start_time": "2023-09-06T10:27:25.022Z"
   },
   {
    "duration": 68,
    "start_time": "2023-09-06T10:27:25.057Z"
   },
   {
    "duration": 19205,
    "start_time": "2023-09-06T10:27:25.126Z"
   },
   {
    "duration": 772,
    "start_time": "2023-09-06T10:27:44.336Z"
   },
   {
    "duration": 124,
    "start_time": "2023-09-06T10:27:45.110Z"
   },
   {
    "duration": 597,
    "start_time": "2023-09-06T10:48:45.084Z"
   },
   {
    "duration": 129,
    "start_time": "2023-09-06T10:49:11.128Z"
   },
   {
    "duration": 163,
    "start_time": "2023-09-06T11:05:31.663Z"
   },
   {
    "duration": 1851,
    "start_time": "2023-09-06T11:06:13.103Z"
   },
   {
    "duration": 43,
    "start_time": "2023-09-06T11:06:14.956Z"
   },
   {
    "duration": 16,
    "start_time": "2023-09-06T11:06:15.001Z"
   },
   {
    "duration": 74,
    "start_time": "2023-09-06T11:06:15.020Z"
   },
   {
    "duration": 8,
    "start_time": "2023-09-06T11:06:15.097Z"
   },
   {
    "duration": 25,
    "start_time": "2023-09-06T11:06:15.106Z"
   },
   {
    "duration": 32,
    "start_time": "2023-09-06T11:06:15.133Z"
   },
   {
    "duration": 16,
    "start_time": "2023-09-06T11:06:15.167Z"
   },
   {
    "duration": 21,
    "start_time": "2023-09-06T11:06:15.185Z"
   },
   {
    "duration": 26,
    "start_time": "2023-09-06T11:06:15.208Z"
   },
   {
    "duration": 36,
    "start_time": "2023-09-06T11:06:15.236Z"
   },
   {
    "duration": 10,
    "start_time": "2023-09-06T11:06:15.273Z"
   },
   {
    "duration": 25,
    "start_time": "2023-09-06T11:06:15.285Z"
   },
   {
    "duration": 28,
    "start_time": "2023-09-06T11:06:15.312Z"
   },
   {
    "duration": 33,
    "start_time": "2023-09-06T11:06:15.342Z"
   },
   {
    "duration": 23,
    "start_time": "2023-09-06T11:06:15.376Z"
   },
   {
    "duration": 224,
    "start_time": "2023-09-06T11:06:15.400Z"
   },
   {
    "duration": 25,
    "start_time": "2023-09-06T11:06:15.626Z"
   },
   {
    "duration": 20,
    "start_time": "2023-09-06T11:06:15.653Z"
   },
   {
    "duration": 145,
    "start_time": "2023-09-06T11:06:15.676Z"
   },
   {
    "duration": 16,
    "start_time": "2023-09-06T11:06:15.823Z"
   },
   {
    "duration": 177,
    "start_time": "2023-09-06T11:06:15.840Z"
   },
   {
    "duration": 34,
    "start_time": "2023-09-06T11:06:16.018Z"
   },
   {
    "duration": 16,
    "start_time": "2023-09-06T11:06:16.054Z"
   },
   {
    "duration": 17962,
    "start_time": "2023-09-06T11:06:16.072Z"
   },
   {
    "duration": 316,
    "start_time": "2023-09-06T11:06:34.036Z"
   },
   {
    "duration": 34,
    "start_time": "2023-09-06T11:06:34.353Z"
   },
   {
    "duration": 48,
    "start_time": "2023-09-06T11:06:34.391Z"
   },
   {
    "duration": 99,
    "start_time": "2023-09-06T11:06:34.441Z"
   },
   {
    "duration": 336,
    "start_time": "2023-09-06T11:06:34.542Z"
   },
   {
    "duration": 20,
    "start_time": "2023-09-06T11:06:34.880Z"
   },
   {
    "duration": 32,
    "start_time": "2023-09-06T11:06:34.901Z"
   },
   {
    "duration": 17928,
    "start_time": "2023-09-06T11:06:34.934Z"
   },
   {
    "duration": 526,
    "start_time": "2023-09-06T11:06:52.864Z"
   },
   {
    "duration": 55,
    "start_time": "2023-09-06T11:06:53.392Z"
   },
   {
    "duration": 34,
    "start_time": "2023-09-06T11:06:53.449Z"
   },
   {
    "duration": 200,
    "start_time": "2023-09-06T11:06:53.535Z"
   },
   {
    "duration": 104,
    "start_time": "2023-09-06T11:06:53.737Z"
   },
   {
    "duration": 94,
    "start_time": "2023-09-06T11:06:53.842Z"
   },
   {
    "duration": 22,
    "start_time": "2023-09-06T11:06:53.938Z"
   },
   {
    "duration": 11653,
    "start_time": "2023-09-06T11:06:53.962Z"
   },
   {
    "duration": 56,
    "start_time": "2023-09-06T11:07:05.616Z"
   },
   {
    "duration": 164,
    "start_time": "2023-09-06T11:07:05.674Z"
   },
   {
    "duration": 103,
    "start_time": "2023-09-06T11:07:05.841Z"
   },
   {
    "duration": 203,
    "start_time": "2023-09-06T11:07:05.946Z"
   },
   {
    "duration": 35,
    "start_time": "2023-09-06T11:07:06.150Z"
   },
   {
    "duration": 24183,
    "start_time": "2023-09-06T11:07:06.186Z"
   },
   {
    "duration": 97,
    "start_time": "2023-09-06T11:07:30.371Z"
   },
   {
    "duration": 165,
    "start_time": "2023-09-06T11:07:30.469Z"
   },
   {
    "duration": 103,
    "start_time": "2023-09-06T11:07:30.638Z"
   },
   {
    "duration": 15,
    "start_time": "2023-09-06T11:07:30.743Z"
   },
   {
    "duration": 87,
    "start_time": "2023-09-06T11:07:30.759Z"
   },
   {
    "duration": 39,
    "start_time": "2023-09-06T11:07:30.848Z"
   },
   {
    "duration": 33,
    "start_time": "2023-09-06T11:07:30.888Z"
   },
   {
    "duration": 39,
    "start_time": "2023-09-06T11:07:30.923Z"
   },
   {
    "duration": 17854,
    "start_time": "2023-09-06T11:07:30.964Z"
   },
   {
    "duration": 603,
    "start_time": "2023-09-06T11:07:48.821Z"
   },
   {
    "duration": 174,
    "start_time": "2023-09-06T11:07:49.425Z"
   },
   {
    "duration": 119,
    "start_time": "2023-09-06T11:07:49.601Z"
   },
   {
    "duration": 110,
    "start_time": "2023-09-06T11:07:49.722Z"
   },
   {
    "duration": 2105,
    "start_time": "2023-09-10T22:02:59.475Z"
   },
   {
    "duration": 85,
    "start_time": "2023-09-10T22:03:01.582Z"
   },
   {
    "duration": 284,
    "start_time": "2023-09-10T22:03:01.669Z"
   },
   {
    "duration": 71,
    "start_time": "2023-09-10T22:03:01.955Z"
   },
   {
    "duration": 72,
    "start_time": "2023-09-10T22:03:02.031Z"
   },
   {
    "duration": 30,
    "start_time": "2023-09-10T22:03:02.106Z"
   },
   {
    "duration": 36,
    "start_time": "2023-09-10T22:03:02.138Z"
   },
   {
    "duration": 40,
    "start_time": "2023-09-10T22:03:02.176Z"
   },
   {
    "duration": 37,
    "start_time": "2023-09-10T22:03:02.219Z"
   },
   {
    "duration": 24,
    "start_time": "2023-09-10T22:03:02.258Z"
   },
   {
    "duration": 51,
    "start_time": "2023-09-10T22:03:02.283Z"
   },
   {
    "duration": 17,
    "start_time": "2023-09-10T22:03:02.337Z"
   },
   {
    "duration": 42,
    "start_time": "2023-09-10T22:03:02.356Z"
   },
   {
    "duration": 48,
    "start_time": "2023-09-10T22:03:02.402Z"
   },
   {
    "duration": 46,
    "start_time": "2023-09-10T22:03:02.452Z"
   },
   {
    "duration": 50,
    "start_time": "2023-09-10T22:03:02.501Z"
   },
   {
    "duration": 38,
    "start_time": "2023-09-10T22:03:02.553Z"
   },
   {
    "duration": 54,
    "start_time": "2023-09-10T22:03:02.593Z"
   },
   {
    "duration": 39,
    "start_time": "2023-09-10T22:03:02.649Z"
   },
   {
    "duration": 173,
    "start_time": "2023-09-10T22:03:02.690Z"
   },
   {
    "duration": 8,
    "start_time": "2023-09-10T22:03:02.865Z"
   },
   {
    "duration": 169,
    "start_time": "2023-09-10T22:03:02.875Z"
   },
   {
    "duration": 24,
    "start_time": "2023-09-10T22:03:03.045Z"
   },
   {
    "duration": 38,
    "start_time": "2023-09-10T22:03:03.071Z"
   },
   {
    "duration": 21026,
    "start_time": "2023-09-10T22:03:03.112Z"
   },
   {
    "duration": 367,
    "start_time": "2023-09-10T22:03:24.139Z"
   },
   {
    "duration": 51,
    "start_time": "2023-09-10T22:03:24.510Z"
   },
   {
    "duration": 150,
    "start_time": "2023-09-10T22:03:24.563Z"
   },
   {
    "duration": 112,
    "start_time": "2023-09-10T22:03:24.715Z"
   },
   {
    "duration": 353,
    "start_time": "2023-09-10T22:03:24.830Z"
   },
   {
    "duration": 35,
    "start_time": "2023-09-10T22:03:25.185Z"
   },
   {
    "duration": 60,
    "start_time": "2023-09-10T22:03:25.223Z"
   },
   {
    "duration": 20618,
    "start_time": "2023-09-10T22:03:25.285Z"
   },
   {
    "duration": 627,
    "start_time": "2023-09-10T22:03:45.906Z"
   },
   {
    "duration": 53,
    "start_time": "2023-09-10T22:03:46.535Z"
   },
   {
    "duration": 50,
    "start_time": "2023-09-10T22:03:46.606Z"
   },
   {
    "duration": 112,
    "start_time": "2023-09-10T22:03:46.703Z"
   },
   {
    "duration": 108,
    "start_time": "2023-09-10T22:03:46.900Z"
   },
   {
    "duration": 104,
    "start_time": "2023-09-10T22:03:47.010Z"
   },
   {
    "duration": 25,
    "start_time": "2023-09-10T22:03:47.116Z"
   },
   {
    "duration": 13066,
    "start_time": "2023-09-10T22:03:47.145Z"
   },
   {
    "duration": 56,
    "start_time": "2023-09-10T22:04:00.213Z"
   },
   {
    "duration": 154,
    "start_time": "2023-09-10T22:04:00.271Z"
   },
   {
    "duration": 108,
    "start_time": "2023-09-10T22:04:00.507Z"
   },
   {
    "duration": 227,
    "start_time": "2023-09-10T22:04:00.617Z"
   },
   {
    "duration": 40,
    "start_time": "2023-09-10T22:04:00.845Z"
   },
   {
    "duration": 28072,
    "start_time": "2023-09-10T22:04:00.887Z"
   },
   {
    "duration": 108,
    "start_time": "2023-09-10T22:04:28.961Z"
   },
   {
    "duration": 244,
    "start_time": "2023-09-10T22:04:29.070Z"
   },
   {
    "duration": 101,
    "start_time": "2023-09-10T22:04:29.321Z"
   },
   {
    "duration": 36,
    "start_time": "2023-09-10T22:04:29.425Z"
   },
   {
    "duration": 25,
    "start_time": "2023-09-10T22:04:29.463Z"
   },
   {
    "duration": 19,
    "start_time": "2023-09-10T22:04:29.489Z"
   },
   {
    "duration": 16,
    "start_time": "2023-09-10T22:04:29.511Z"
   },
   {
    "duration": 20,
    "start_time": "2023-09-10T22:04:29.529Z"
   },
   {
    "duration": 13,
    "start_time": "2023-09-10T22:04:29.551Z"
   },
   {
    "duration": 21108,
    "start_time": "2023-09-10T22:04:29.565Z"
   },
   {
    "duration": 630,
    "start_time": "2023-09-10T22:04:50.675Z"
   },
   {
    "duration": 231,
    "start_time": "2023-09-10T22:04:51.308Z"
   },
   {
    "duration": 95,
    "start_time": "2023-09-10T22:04:51.541Z"
   },
   {
    "duration": 135,
    "start_time": "2023-09-10T22:04:51.638Z"
   },
   {
    "duration": 2248,
    "start_time": "2023-09-10T22:30:00.631Z"
   },
   {
    "duration": 43,
    "start_time": "2023-09-10T22:30:02.881Z"
   },
   {
    "duration": 503,
    "start_time": "2023-09-10T22:30:02.926Z"
   },
   {
    "duration": 120,
    "start_time": "2023-09-10T22:30:03.431Z"
   },
   {
    "duration": 29,
    "start_time": "2023-09-10T22:30:03.553Z"
   },
   {
    "duration": 90,
    "start_time": "2023-09-10T22:30:03.584Z"
   },
   {
    "duration": 60,
    "start_time": "2023-09-10T22:30:03.676Z"
   },
   {
    "duration": 32,
    "start_time": "2023-09-10T22:30:03.738Z"
   },
   {
    "duration": 199,
    "start_time": "2023-09-10T22:30:03.772Z"
   },
   {
    "duration": 100,
    "start_time": "2023-09-10T22:30:03.975Z"
   },
   {
    "duration": 41,
    "start_time": "2023-09-10T22:30:04.077Z"
   },
   {
    "duration": 56,
    "start_time": "2023-09-10T22:30:04.120Z"
   },
   {
    "duration": 40,
    "start_time": "2023-09-10T22:30:04.177Z"
   },
   {
    "duration": 36,
    "start_time": "2023-09-10T22:30:04.219Z"
   },
   {
    "duration": 27,
    "start_time": "2023-09-10T22:30:04.257Z"
   },
   {
    "duration": 23,
    "start_time": "2023-09-10T22:30:04.287Z"
   },
   {
    "duration": 26,
    "start_time": "2023-09-10T22:30:04.312Z"
   },
   {
    "duration": 43,
    "start_time": "2023-09-10T22:30:04.340Z"
   },
   {
    "duration": 24,
    "start_time": "2023-09-10T22:30:04.385Z"
   },
   {
    "duration": 316,
    "start_time": "2023-09-10T22:30:04.411Z"
   },
   {
    "duration": 7,
    "start_time": "2023-09-10T22:30:04.729Z"
   },
   {
    "duration": 176,
    "start_time": "2023-09-10T22:30:04.737Z"
   },
   {
    "duration": 24,
    "start_time": "2023-09-10T22:30:04.915Z"
   },
   {
    "duration": 14,
    "start_time": "2023-09-10T22:30:04.941Z"
   },
   {
    "duration": 19545,
    "start_time": "2023-09-10T22:30:04.957Z"
   },
   {
    "duration": 387,
    "start_time": "2023-09-10T22:30:24.504Z"
   },
   {
    "duration": 42,
    "start_time": "2023-09-10T22:30:24.892Z"
   },
   {
    "duration": 65,
    "start_time": "2023-09-10T22:30:24.938Z"
   },
   {
    "duration": 108,
    "start_time": "2023-09-10T22:30:25.006Z"
   },
   {
    "duration": 336,
    "start_time": "2023-09-10T22:30:25.117Z"
   },
   {
    "duration": 26,
    "start_time": "2023-09-10T22:30:25.455Z"
   },
   {
    "duration": 46,
    "start_time": "2023-09-10T22:30:25.483Z"
   },
   {
    "duration": 19827,
    "start_time": "2023-09-10T22:30:25.531Z"
   },
   {
    "duration": 578,
    "start_time": "2023-09-10T22:30:45.360Z"
   },
   {
    "duration": 62,
    "start_time": "2023-09-10T22:30:45.939Z"
   },
   {
    "duration": 35,
    "start_time": "2023-09-10T22:30:46.003Z"
   },
   {
    "duration": 171,
    "start_time": "2023-09-10T22:30:46.041Z"
   },
   {
    "duration": 188,
    "start_time": "2023-09-10T22:30:46.214Z"
   },
   {
    "duration": 96,
    "start_time": "2023-09-10T22:30:46.405Z"
   },
   {
    "duration": 27,
    "start_time": "2023-09-10T22:30:46.503Z"
   },
   {
    "duration": 12673,
    "start_time": "2023-09-10T22:30:46.533Z"
   },
   {
    "duration": 54,
    "start_time": "2023-09-10T22:30:59.208Z"
   },
   {
    "duration": 137,
    "start_time": "2023-09-10T22:30:59.264Z"
   },
   {
    "duration": 107,
    "start_time": "2023-09-10T22:30:59.405Z"
   },
   {
    "duration": 231,
    "start_time": "2023-09-10T22:30:59.513Z"
   },
   {
    "duration": 42,
    "start_time": "2023-09-10T22:30:59.746Z"
   },
   {
    "duration": 26507,
    "start_time": "2023-09-10T22:30:59.802Z"
   },
   {
    "duration": 101,
    "start_time": "2023-09-10T22:31:26.311Z"
   },
   {
    "duration": 291,
    "start_time": "2023-09-10T22:31:26.414Z"
   },
   {
    "duration": 102,
    "start_time": "2023-09-10T22:31:26.709Z"
   },
   {
    "duration": 7,
    "start_time": "2023-09-10T22:31:26.813Z"
   },
   {
    "duration": 19884,
    "start_time": "2023-09-10T22:31:26.821Z"
   },
   {
    "duration": 575,
    "start_time": "2023-09-10T22:31:46.707Z"
   },
   {
    "duration": 188,
    "start_time": "2023-09-10T22:31:47.284Z"
   },
   {
    "duration": 148,
    "start_time": "2023-09-10T22:31:47.474Z"
   },
   {
    "duration": 0,
    "start_time": "2023-09-10T22:31:47.624Z"
   },
   {
    "duration": 1765,
    "start_time": "2023-09-10T22:32:26.907Z"
   },
   {
    "duration": 44,
    "start_time": "2023-09-10T22:32:28.674Z"
   },
   {
    "duration": 15,
    "start_time": "2023-09-10T22:32:28.720Z"
   },
   {
    "duration": 42,
    "start_time": "2023-09-10T22:32:28.738Z"
   },
   {
    "duration": 9,
    "start_time": "2023-09-10T22:32:28.782Z"
   },
   {
    "duration": 17,
    "start_time": "2023-09-10T22:32:28.792Z"
   },
   {
    "duration": 39,
    "start_time": "2023-09-10T22:32:28.811Z"
   },
   {
    "duration": 20,
    "start_time": "2023-09-10T22:32:28.852Z"
   },
   {
    "duration": 43,
    "start_time": "2023-09-10T22:32:28.874Z"
   },
   {
    "duration": 18,
    "start_time": "2023-09-10T22:32:28.920Z"
   },
   {
    "duration": 31,
    "start_time": "2023-09-10T22:32:28.940Z"
   },
   {
    "duration": 21,
    "start_time": "2023-09-10T22:32:28.973Z"
   },
   {
    "duration": 19,
    "start_time": "2023-09-10T22:32:28.996Z"
   },
   {
    "duration": 38,
    "start_time": "2023-09-10T22:32:29.017Z"
   },
   {
    "duration": 42,
    "start_time": "2023-09-10T22:32:29.057Z"
   },
   {
    "duration": 19,
    "start_time": "2023-09-10T22:32:29.100Z"
   },
   {
    "duration": 41,
    "start_time": "2023-09-10T22:32:29.120Z"
   },
   {
    "duration": 26,
    "start_time": "2023-09-10T22:32:29.163Z"
   },
   {
    "duration": 21,
    "start_time": "2023-09-10T22:32:29.190Z"
   },
   {
    "duration": 161,
    "start_time": "2023-09-10T22:32:29.214Z"
   },
   {
    "duration": 8,
    "start_time": "2023-09-10T22:32:29.377Z"
   },
   {
    "duration": 191,
    "start_time": "2023-09-10T22:32:29.386Z"
   },
   {
    "duration": 29,
    "start_time": "2023-09-10T22:32:29.579Z"
   },
   {
    "duration": 15,
    "start_time": "2023-09-10T22:32:29.610Z"
   },
   {
    "duration": 19869,
    "start_time": "2023-09-10T22:32:29.627Z"
   },
   {
    "duration": 335,
    "start_time": "2023-09-10T22:32:49.502Z"
   },
   {
    "duration": 36,
    "start_time": "2023-09-10T22:32:49.839Z"
   },
   {
    "duration": 48,
    "start_time": "2023-09-10T22:32:49.878Z"
   },
   {
    "duration": 112,
    "start_time": "2023-09-10T22:32:50.000Z"
   },
   {
    "duration": 342,
    "start_time": "2023-09-10T22:32:50.114Z"
   },
   {
    "duration": 22,
    "start_time": "2023-09-10T22:32:50.457Z"
   },
   {
    "duration": 27,
    "start_time": "2023-09-10T22:32:50.481Z"
   },
   {
    "duration": 19746,
    "start_time": "2023-09-10T22:32:50.510Z"
   },
   {
    "duration": 551,
    "start_time": "2023-09-10T22:33:10.258Z"
   },
   {
    "duration": 51,
    "start_time": "2023-09-10T22:33:10.811Z"
   },
   {
    "duration": 49,
    "start_time": "2023-09-10T22:33:10.864Z"
   },
   {
    "duration": 186,
    "start_time": "2023-09-10T22:33:10.916Z"
   },
   {
    "duration": 103,
    "start_time": "2023-09-10T22:33:11.105Z"
   },
   {
    "duration": 96,
    "start_time": "2023-09-10T22:33:11.210Z"
   },
   {
    "duration": 26,
    "start_time": "2023-09-10T22:33:11.307Z"
   },
   {
    "duration": 12517,
    "start_time": "2023-09-10T22:33:11.335Z"
   },
   {
    "duration": 60,
    "start_time": "2023-09-10T22:33:23.854Z"
   },
   {
    "duration": 186,
    "start_time": "2023-09-10T22:33:23.916Z"
   },
   {
    "duration": 106,
    "start_time": "2023-09-10T22:33:24.104Z"
   },
   {
    "duration": 230,
    "start_time": "2023-09-10T22:33:24.211Z"
   },
   {
    "duration": 38,
    "start_time": "2023-09-10T22:33:24.443Z"
   },
   {
    "duration": 26610,
    "start_time": "2023-09-10T22:33:24.483Z"
   },
   {
    "duration": 110,
    "start_time": "2023-09-10T22:33:51.095Z"
   },
   {
    "duration": 106,
    "start_time": "2023-09-10T22:33:51.207Z"
   },
   {
    "duration": 187,
    "start_time": "2023-09-10T22:33:51.315Z"
   },
   {
    "duration": 19559,
    "start_time": "2023-09-10T22:33:51.504Z"
   },
   {
    "duration": 563,
    "start_time": "2023-09-10T22:34:11.064Z"
   },
   {
    "duration": 194,
    "start_time": "2023-09-10T22:34:11.629Z"
   },
   {
    "duration": 54,
    "start_time": "2023-09-10T22:34:11.825Z"
   },
   {
    "duration": 162,
    "start_time": "2023-09-10T22:34:11.881Z"
   },
   {
    "duration": 1737,
    "start_time": "2023-09-10T22:34:27.508Z"
   },
   {
    "duration": 44,
    "start_time": "2023-09-10T22:34:29.248Z"
   },
   {
    "duration": 15,
    "start_time": "2023-09-10T22:34:29.293Z"
   },
   {
    "duration": 62,
    "start_time": "2023-09-10T22:34:29.310Z"
   },
   {
    "duration": 26,
    "start_time": "2023-09-10T22:34:29.374Z"
   },
   {
    "duration": 27,
    "start_time": "2023-09-10T22:34:29.401Z"
   },
   {
    "duration": 23,
    "start_time": "2023-09-10T22:34:29.430Z"
   },
   {
    "duration": 9,
    "start_time": "2023-09-10T22:34:29.455Z"
   },
   {
    "duration": 16,
    "start_time": "2023-09-10T22:34:29.465Z"
   },
   {
    "duration": 18,
    "start_time": "2023-09-10T22:34:29.484Z"
   },
   {
    "duration": 33,
    "start_time": "2023-09-10T22:34:29.504Z"
   },
   {
    "duration": 6,
    "start_time": "2023-09-10T22:34:29.539Z"
   },
   {
    "duration": 23,
    "start_time": "2023-09-10T22:34:29.547Z"
   },
   {
    "duration": 16,
    "start_time": "2023-09-10T22:34:29.572Z"
   },
   {
    "duration": 17,
    "start_time": "2023-09-10T22:34:29.590Z"
   },
   {
    "duration": 8,
    "start_time": "2023-09-10T22:34:29.609Z"
   },
   {
    "duration": 22,
    "start_time": "2023-09-10T22:34:29.618Z"
   },
   {
    "duration": 17,
    "start_time": "2023-09-10T22:34:29.641Z"
   },
   {
    "duration": 13,
    "start_time": "2023-09-10T22:34:29.660Z"
   },
   {
    "duration": 149,
    "start_time": "2023-09-10T22:34:29.674Z"
   },
   {
    "duration": 9,
    "start_time": "2023-09-10T22:34:29.825Z"
   },
   {
    "duration": 166,
    "start_time": "2023-09-10T22:34:29.835Z"
   },
   {
    "duration": 23,
    "start_time": "2023-09-10T22:34:30.003Z"
   },
   {
    "duration": 36,
    "start_time": "2023-09-10T22:34:30.028Z"
   },
   {
    "duration": 19707,
    "start_time": "2023-09-10T22:34:30.066Z"
   },
   {
    "duration": 343,
    "start_time": "2023-09-10T22:34:49.775Z"
   },
   {
    "duration": 37,
    "start_time": "2023-09-10T22:34:50.119Z"
   },
   {
    "duration": 45,
    "start_time": "2023-09-10T22:34:50.160Z"
   },
   {
    "duration": 115,
    "start_time": "2023-09-10T22:34:50.300Z"
   },
   {
    "duration": 336,
    "start_time": "2023-09-10T22:34:50.417Z"
   },
   {
    "duration": 22,
    "start_time": "2023-09-10T22:34:50.755Z"
   },
   {
    "duration": 50,
    "start_time": "2023-09-10T22:34:50.779Z"
   },
   {
    "duration": 19978,
    "start_time": "2023-09-10T22:34:50.831Z"
   },
   {
    "duration": 551,
    "start_time": "2023-09-10T22:35:10.811Z"
   },
   {
    "duration": 63,
    "start_time": "2023-09-10T22:35:11.364Z"
   },
   {
    "duration": 31,
    "start_time": "2023-09-10T22:35:11.429Z"
   },
   {
    "duration": 149,
    "start_time": "2023-09-10T22:35:11.463Z"
   },
   {
    "duration": 190,
    "start_time": "2023-09-10T22:35:11.614Z"
   },
   {
    "duration": 99,
    "start_time": "2023-09-10T22:35:11.805Z"
   },
   {
    "duration": 26,
    "start_time": "2023-09-10T22:35:11.906Z"
   },
   {
    "duration": 12620,
    "start_time": "2023-09-10T22:35:11.934Z"
   },
   {
    "duration": 79,
    "start_time": "2023-09-10T22:35:24.556Z"
   },
   {
    "duration": 167,
    "start_time": "2023-09-10T22:35:24.637Z"
   },
   {
    "duration": 103,
    "start_time": "2023-09-10T22:35:24.807Z"
   },
   {
    "duration": 202,
    "start_time": "2023-09-10T22:35:24.911Z"
   },
   {
    "duration": 47,
    "start_time": "2023-09-10T22:35:25.115Z"
   },
   {
    "duration": 26442,
    "start_time": "2023-09-10T22:35:25.164Z"
   },
   {
    "duration": 110,
    "start_time": "2023-09-10T22:35:51.607Z"
   },
   {
    "duration": 181,
    "start_time": "2023-09-10T22:35:51.719Z"
   },
   {
    "duration": 99,
    "start_time": "2023-09-10T22:35:51.908Z"
   },
   {
    "duration": 145,
    "start_time": "2023-09-10T22:35:52.009Z"
   },
   {
    "duration": 0,
    "start_time": "2023-09-10T22:35:52.155Z"
   },
   {
    "duration": 0,
    "start_time": "2023-09-10T22:35:52.157Z"
   },
   {
    "duration": 0,
    "start_time": "2023-09-10T22:35:52.157Z"
   },
   {
    "duration": 0,
    "start_time": "2023-09-10T22:35:52.159Z"
   },
   {
    "duration": 0,
    "start_time": "2023-09-10T22:35:52.160Z"
   },
   {
    "duration": 601,
    "start_time": "2023-09-10T22:36:54.881Z"
   },
   {
    "duration": 203,
    "start_time": "2023-09-10T22:36:55.483Z"
   },
   {
    "duration": 76,
    "start_time": "2023-09-10T22:36:55.689Z"
   },
   {
    "duration": 150,
    "start_time": "2023-09-10T22:36:55.767Z"
   },
   {
    "duration": 1787,
    "start_time": "2023-09-10T22:37:10.499Z"
   },
   {
    "duration": 43,
    "start_time": "2023-09-10T22:37:12.287Z"
   },
   {
    "duration": 13,
    "start_time": "2023-09-10T22:37:12.333Z"
   },
   {
    "duration": 17,
    "start_time": "2023-09-10T22:37:12.349Z"
   },
   {
    "duration": 11,
    "start_time": "2023-09-10T22:37:12.368Z"
   },
   {
    "duration": 7,
    "start_time": "2023-09-10T22:37:12.381Z"
   },
   {
    "duration": 14,
    "start_time": "2023-09-10T22:37:12.401Z"
   },
   {
    "duration": 5,
    "start_time": "2023-09-10T22:37:12.417Z"
   },
   {
    "duration": 15,
    "start_time": "2023-09-10T22:37:12.424Z"
   },
   {
    "duration": 17,
    "start_time": "2023-09-10T22:37:12.441Z"
   },
   {
    "duration": 15,
    "start_time": "2023-09-10T22:37:12.459Z"
   },
   {
    "duration": 5,
    "start_time": "2023-09-10T22:37:12.475Z"
   },
   {
    "duration": 21,
    "start_time": "2023-09-10T22:37:12.481Z"
   },
   {
    "duration": 21,
    "start_time": "2023-09-10T22:37:12.504Z"
   },
   {
    "duration": 16,
    "start_time": "2023-09-10T22:37:12.526Z"
   },
   {
    "duration": 15,
    "start_time": "2023-09-10T22:37:12.544Z"
   },
   {
    "duration": 14,
    "start_time": "2023-09-10T22:37:12.561Z"
   },
   {
    "duration": 29,
    "start_time": "2023-09-10T22:37:12.577Z"
   },
   {
    "duration": 11,
    "start_time": "2023-09-10T22:37:12.607Z"
   },
   {
    "duration": 139,
    "start_time": "2023-09-10T22:37:12.620Z"
   },
   {
    "duration": 7,
    "start_time": "2023-09-10T22:37:12.761Z"
   },
   {
    "duration": 176,
    "start_time": "2023-09-10T22:37:12.769Z"
   },
   {
    "duration": 24,
    "start_time": "2023-09-10T22:37:12.947Z"
   },
   {
    "duration": 32,
    "start_time": "2023-09-10T22:37:12.973Z"
   },
   {
    "duration": 19652,
    "start_time": "2023-09-10T22:37:13.007Z"
   },
   {
    "duration": 331,
    "start_time": "2023-09-10T22:37:32.661Z"
   },
   {
    "duration": 39,
    "start_time": "2023-09-10T22:37:32.994Z"
   },
   {
    "duration": 74,
    "start_time": "2023-09-10T22:37:33.037Z"
   },
   {
    "duration": 187,
    "start_time": "2023-09-10T22:37:33.114Z"
   },
   {
    "duration": 257,
    "start_time": "2023-09-10T22:37:33.303Z"
   },
   {
    "duration": 22,
    "start_time": "2023-09-10T22:37:33.562Z"
   },
   {
    "duration": 26,
    "start_time": "2023-09-10T22:37:33.586Z"
   },
   {
    "duration": 20194,
    "start_time": "2023-09-10T22:37:33.614Z"
   },
   {
    "duration": 569,
    "start_time": "2023-09-10T22:37:53.809Z"
   },
   {
    "duration": 54,
    "start_time": "2023-09-10T22:37:54.380Z"
   },
   {
    "duration": 72,
    "start_time": "2023-09-10T22:37:54.436Z"
   },
   {
    "duration": 110,
    "start_time": "2023-09-10T22:37:54.510Z"
   },
   {
    "duration": 87,
    "start_time": "2023-09-10T22:37:54.623Z"
   },
   {
    "duration": 90,
    "start_time": "2023-09-10T22:37:54.801Z"
   },
   {
    "duration": 24,
    "start_time": "2023-09-10T22:37:54.902Z"
   },
   {
    "duration": 12530,
    "start_time": "2023-09-10T22:37:54.928Z"
   },
   {
    "duration": 66,
    "start_time": "2023-09-10T22:38:07.460Z"
   },
   {
    "duration": 84,
    "start_time": "2023-09-10T22:38:07.527Z"
   },
   {
    "duration": 190,
    "start_time": "2023-09-10T22:38:07.614Z"
   },
   {
    "duration": 201,
    "start_time": "2023-09-10T22:38:07.806Z"
   },
   {
    "duration": 39,
    "start_time": "2023-09-10T22:38:08.009Z"
   },
   {
    "duration": 26410,
    "start_time": "2023-09-10T22:38:08.050Z"
   },
   {
    "duration": 125,
    "start_time": "2023-09-10T22:38:34.462Z"
   },
   {
    "duration": 123,
    "start_time": "2023-09-10T22:38:34.590Z"
   },
   {
    "duration": 188,
    "start_time": "2023-09-10T22:38:34.716Z"
   },
   {
    "duration": 19733,
    "start_time": "2023-09-10T22:38:34.906Z"
   },
   {
    "duration": 588,
    "start_time": "2023-09-10T22:38:54.641Z"
   },
   {
    "duration": 196,
    "start_time": "2023-09-10T22:38:55.231Z"
   },
   {
    "duration": 71,
    "start_time": "2023-09-10T22:38:55.430Z"
   },
   {
    "duration": 138,
    "start_time": "2023-09-10T22:38:55.503Z"
   },
   {
    "duration": 188,
    "start_time": "2023-09-10T22:42:51.524Z"
   },
   {
    "duration": 7,
    "start_time": "2023-09-10T22:42:59.202Z"
   },
   {
    "duration": 57,
    "start_time": "2023-09-10T22:43:00.226Z"
   }
  ],
  "kernelspec": {
   "display_name": "Python 3 (ipykernel)",
   "language": "python",
   "name": "python3"
  },
  "language_info": {
   "codemirror_mode": {
    "name": "ipython",
    "version": 3
   },
   "file_extension": ".py",
   "mimetype": "text/x-python",
   "name": "python",
   "nbconvert_exporter": "python",
   "pygments_lexer": "ipython3",
   "version": "3.9.5"
  },
  "toc": {
   "base_numbering": 1,
   "nav_menu": {},
   "number_sections": true,
   "sideBar": true,
   "skip_h1_title": true,
   "title_cell": "Содержание",
   "title_sidebar": "Contents",
   "toc_cell": true,
   "toc_position": {
    "height": "calc(100% - 180px)",
    "left": "10px",
    "top": "150px",
    "width": "165px"
   },
   "toc_section_display": true,
   "toc_window_display": true
  }
 },
 "nbformat": 4,
 "nbformat_minor": 2
}
