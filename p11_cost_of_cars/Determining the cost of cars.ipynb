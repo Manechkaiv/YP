{
 "cells": [
  {
   "cell_type": "markdown",
   "metadata": {},
   "source": [
    "# Определение стоимости автомобилей"
   ]
  },
  {
   "cell_type": "markdown",
   "metadata": {},
   "source": [
    "Сервис по продаже автомобилей с пробегом «Не бит, не крашен» разрабатывает приложение для привлечения новых клиентов. В нём можно быстро узнать рыночную стоимость своего автомобиля. В вашем распоряжении исторические данные: технические характеристики, комплектации и цены автомобилей. Вам нужно построить модель для определения стоимости. \n",
    "\n",
    "Заказчику важны:\n",
    "\n",
    "- качество предсказания;\n",
    "- скорость предсказания;\n",
    "- время обучения."
   ]
  },
  {
   "cell_type": "markdown",
   "metadata": {},
   "source": [
    "Признаки:\n",
    "\n",
    "DateCrawled — дата скачивания анкеты из базы\n",
    "\n",
    "VehicleType — тип автомобильного кузова\n",
    "\n",
    "RegistrationYear — год регистрации автомобиля\n",
    "\n",
    "Gearbox — тип коробки передач\n",
    "\n",
    "Power — мощность (л. с.)\n",
    "\n",
    "Model — модель автомобиля\n",
    "\n",
    "Kilometer — пробег (км)\n",
    "\n",
    "RegistrationMonth — месяц регистрации автомобиля\n",
    "\n",
    "FuelType — тип топлива\n",
    "\n",
    "Brand — марка автомобиля\n",
    "\n",
    "Repaired — была машина в ремонте или нет\n",
    "\n",
    "DateCreated — дата создания анкеты\n",
    "\n",
    "NumberOfPictures — количество фотографий автомобиля\n",
    "\n",
    "PostalCode — почтовый индекс владельца анкеты (пользователя)\n",
    "\n",
    "LastSeen — дата последней активности пользователя\n",
    "\n",
    "Целевой признак:\n",
    "\n",
    "Price — цена (евро)"
   ]
  },
  {
   "cell_type": "markdown",
   "metadata": {},
   "source": [
    "## Подготовка данных"
   ]
  },
  {
   "cell_type": "code",
   "execution_count": null,
   "metadata": {},
   "outputs": [],
   "source": [
    "#!pip install pandas\n",
    "#!pip install matplotlib\n",
    "#!pip install seaborn\n",
    "#!pip install statsmodels\n",
    "#!pip install sklearn\n",
    "#!pip install time\n",
    "!pip install scikit-learn==1.1.3"
   ]
  },
  {
   "cell_type": "code",
   "execution_count": null,
   "metadata": {},
   "outputs": [],
   "source": [
    "import pandas as pd\n",
    "import numpy as np\n",
    "import matplotlib.pyplot as plt\n",
    "import seaborn as sns\n",
    "import statsmodels.api as sm\n",
    "import scipy\n",
    "import math\n",
    "import time\n",
    "import warnings\n",
    "warnings.filterwarnings(\"ignore\")\n",
    "\n",
    "from sklearn.metrics import mean_squared_error\n",
    "from sklearn.linear_model import LinearRegression\n",
    "from sklearn.linear_model import Ridge\n",
    "from sklearn.tree import DecisionTreeRegressor\n",
    "from sklearn.ensemble import RandomForestRegressor\n",
    "from sklearn.ensemble import ExtraTreesRegressor\n",
    "from sklearn.compose import make_column_transformer\n",
    "from catboost import Pool, CatBoostRegressor, cv\n",
    "from lightgbm import LGBMRegressor\n",
    "\n",
    "\n",
    "from sklearn.model_selection import (\n",
    "    GridSearchCV,\n",
    "    RandomizedSearchCV,\n",
    "    train_test_split,\n",
    "    cross_val_score\n",
    ")\n",
    "\n",
    "from sklearn.pipeline import make_pipeline\n",
    "from sklearn.preprocessing import (\n",
    "    OneHotEncoder,\n",
    "    OrdinalEncoder,\n",
    "    StandardScaler,\n",
    "    PolynomialFeatures\n",
    ")\n",
    "\n",
    "RANDOM_STATE = 42"
   ]
  },
  {
   "cell_type": "code",
   "execution_count": null,
   "metadata": {},
   "outputs": [],
   "source": [
    "data = pd.read_csv('/datasets/autos.csv')"
   ]
  },
  {
   "cell_type": "code",
   "execution_count": null,
   "metadata": {},
   "outputs": [],
   "source": [
    "data.info()"
   ]
  },
  {
   "cell_type": "code",
   "execution_count": null,
   "metadata": {},
   "outputs": [],
   "source": [
    "data.head()"
   ]
  },
  {
   "cell_type": "code",
   "execution_count": null,
   "metadata": {},
   "outputs": [],
   "source": [
    "# Посчитаем сколько пропусков в столбцах и оценим их кол-во\n",
    "print(data.isna().sum())\n",
    "data.isna().mean()"
   ]
  },
  {
   "cell_type": "markdown",
   "metadata": {},
   "source": [
    "Пропуски есть в столбцах VehicleType, Gearbox, Model, FuelType и Repaired. "
   ]
  },
  {
   "cell_type": "code",
   "execution_count": null,
   "metadata": {},
   "outputs": [],
   "source": [
    "# Создадим функцию, которая выведет для каждого столбца уникальные значения\n",
    "def unique_data(data_frame):\n",
    "    for column in data_frame.columns:\n",
    "        print('Уникальные значения столбца:', column)\n",
    "        print(data_frame[column].unique())"
   ]
  },
  {
   "cell_type": "code",
   "execution_count": null,
   "metadata": {},
   "outputs": [],
   "source": [
    "# Вызовем функции для наших данных\n",
    "unique_data(data)"
   ]
  },
  {
   "cell_type": "markdown",
   "metadata": {},
   "source": [
    "В столбце RegistrationYear присутствуют некорректные значения наподобие 5300-го года.\n",
    "\n",
    "В столбце Power есть некорректные значения мощности по типу 10к л.с. или слишком маленькие значения.\n",
    "\n",
    "В столбце RegistrationMonth есть нулевой месяц регистрации, то есть отсутствует месяц регистрации.\n",
    "\n",
    "Признаки/столбцы, которые влияют на стоимость машины:\n",
    "\n",
    "VehicleType. Тип автомобильного кузова. Чем лучше кузов, тем выше цена. \n",
    "\n",
    "Gearbox. Тип коробки передач. Наличие автоматической коробки передач повышает стоимость - чем более сложная конструкция, тем выше цена. \n",
    "\n",
    "Power. Мощность в лошадиных силах влияет на стоимость.\n",
    "\n",
    "Model. Модель машины. Влияет на востребованность и на стоимость. \n",
    "\n",
    "Kilometer. Чем больше пробег, тем меньше цена. Связь обратно пропорциональная.\n",
    "\n",
    "FuelType. Тип топлива. Из этого можно сделать вывод какой двигатель, что тоже влияет на стоимость.\n",
    "\n",
    "Brand. Марка автомобиля. Говорит о качестве, надежности, а также статусе, что влияет на стоимость.\n",
    "\n",
    "Repaired. Машины, которые побывали в ремонте, то есть они подвергались изменениям. Надежность ниже, неизвестно, что заменяли.\n",
    "\n",
    "RegistrationYear. Год регистрации. Чем больше возраст авто, тем меньше цена.\n",
    "\n",
    "Столбцы: DateCrawled — дата скачивания анкеты из базы, DateCreated — дата создания анкеты, NumberOfPictures — количество фотографий автомобиля, PostalCode — почтовый индекс владельца анкеты (пользователя), LastSeen — дата последней активности пользователя"
   ]
  },
  {
   "cell_type": "markdown",
   "metadata": {},
   "source": [
    "Предобработка данных"
   ]
  },
  {
   "cell_type": "code",
   "execution_count": null,
   "metadata": {},
   "outputs": [],
   "source": [
    "# Ограничимся столбцами, которые влияют на стоимость\n",
    "new_data = data[['VehicleType', \n",
    "                         'Gearbox', \n",
    "                         'Power',\n",
    "                         'Kilometer',\n",
    "                         'FuelType',\n",
    "                         'Brand',\n",
    "                         'Repaired',\n",
    "                         'RegistrationYear',\n",
    "                         'Model',\n",
    "                         'Price']]\n",
    "new_data.info()"
   ]
  },
  {
   "cell_type": "markdown",
   "metadata": {},
   "source": [
    "Столбцы, требующие обработки:\n",
    "\n",
    "VehicleType - Восстановим тип автомобильного кузова по типу из столбца Brand. \n",
    "\n",
    "Gearbox - Для всех NaN установим ручную коробку передач - 'manual'.\n",
    "\n",
    "Power - Значения около 1 л.с. или 10к л.с. для машины некорректны. Скорректируем значения на основе реальных. \n",
    "\n",
    "FuelType - Восстановим пропущенные значения по популярному типу из столбца Brand.\n",
    "\n",
    "Repaired - Все NaN заменим на 'no'.\n",
    "\n",
    "RegistrationYear. Скоректируем на основе реальных значений в машинах.\n",
    "\n",
    "Model. Для всех NaN установим значение 'unknown'."
   ]
  },
  {
   "cell_type": "code",
   "execution_count": null,
   "metadata": {},
   "outputs": [],
   "source": [
    "# Изучим значения столбца Price\n",
    "new_data['Price'].value_counts()"
   ]
  },
  {
   "cell_type": "markdown",
   "metadata": {},
   "source": [
    "Видим, что пропущено 10772 значений. Удалим их и представим распределение цен на гистограмме."
   ]
  },
  {
   "cell_type": "code",
   "execution_count": null,
   "metadata": {},
   "outputs": [],
   "source": [
    "new_data = new_data.query('Price > 0')\n",
    "new_data['Price'].hist(bins=100, figsize=(12,9))\n",
    "new_data['Price'].describe()"
   ]
  },
  {
   "cell_type": "markdown",
   "metadata": {},
   "source": [
    "500 евро - это 50000 рублей, вполне можно купить поддержанный авто за эти деньги. "
   ]
  },
  {
   "cell_type": "code",
   "execution_count": null,
   "metadata": {},
   "outputs": [],
   "source": [
    "new_data = new_data.query('500 <= Price')\n",
    "new_data.info()"
   ]
  },
  {
   "cell_type": "code",
   "execution_count": null,
   "metadata": {},
   "outputs": [],
   "source": [
    "# Представим значения RegistrationYear на гистограмме.\n",
    "new_data['RegistrationYear'].hist(bins=100, figsize=(12,9))\n",
    "new_data['RegistrationYear'].describe()"
   ]
  },
  {
   "cell_type": "markdown",
   "metadata": {},
   "source": [
    "Гистограмма не слишком наглядна, но присутствуют выбросы в годах регистрации. Отсечем значения, исходя из максимальной даты скачивания анкеты автомобиля."
   ]
  },
  {
   "cell_type": "code",
   "execution_count": null,
   "metadata": {},
   "outputs": [],
   "source": [
    "date = pd.to_datetime(data['DateCrawled'])\n",
    "date.max()"
   ]
  },
  {
   "cell_type": "markdown",
   "metadata": {},
   "source": [
    "Таким образом, отсекаем все значения после 2016, а также, машины появились не раньше 1900 года. "
   ]
  },
  {
   "cell_type": "code",
   "execution_count": null,
   "metadata": {},
   "outputs": [],
   "source": [
    "new_data = new_data.query('1899 < RegistrationYear < 2017')\n",
    "new_data['RegistrationYear'].hist(bins=100, figsize=(12,9))\n",
    "new_data['RegistrationYear'].describe()"
   ]
  },
  {
   "cell_type": "markdown",
   "metadata": {},
   "source": [
    "Исходя из гистограммы видно, что можно ограничиться левой границей в 1960 год. "
   ]
  },
  {
   "cell_type": "code",
   "execution_count": null,
   "metadata": {},
   "outputs": [],
   "source": [
    "new_data = new_data.query('1959 < RegistrationYear < 2017')\n",
    "new_data['RegistrationYear'].hist(bins=100, figsize=(12,9))\n",
    "new_data['RegistrationYear'].describe()"
   ]
  },
  {
   "cell_type": "code",
   "execution_count": null,
   "metadata": {},
   "outputs": [],
   "source": [
    "# Заменим значения NaN в Gearbox, Repaired и Model.\n",
    "new_data.fillna({'Gearbox':'manual', \n",
    "                           'Repaired':'no',\n",
    "                           'Model':'unknown'},\n",
    "                          inplace=True)\n",
    "new_data.isna().mean()"
   ]
  },
  {
   "cell_type": "code",
   "execution_count": null,
   "metadata": {},
   "outputs": [],
   "source": [
    "# В столбце VehicleType оценим количество пропущенных значений относительно всех значений в этом столбце\n",
    "display(new_data['VehicleType'].value_counts())\n",
    "display(new_data['VehicleType'].isna().sum())"
   ]
  },
  {
   "cell_type": "code",
   "execution_count": null,
   "metadata": {},
   "outputs": [],
   "source": [
    "# Построим сводную таблицу, чтобы увидеть у каких брендов какие модели, кузов и сколько их.\n",
    "vehicle_type_pivot = new_data.pivot_table(index=['VehicleType'], \n",
    "                                                    columns=['Brand'],\n",
    "                                                    values=['Price'],\n",
    "                                                    aggfunc=['count'])\n",
    "display(vehicle_type_pivot)"
   ]
  },
  {
   "cell_type": "code",
   "execution_count": null,
   "metadata": {},
   "outputs": [],
   "source": [
    "vehicle_type_pivot = vehicle_type_pivot['count']['Price']\n",
    "vehicle_type_pivot"
   ]
  },
  {
   "cell_type": "code",
   "execution_count": null,
   "metadata": {},
   "outputs": [],
   "source": [
    "new_data.info()"
   ]
  },
  {
   "cell_type": "code",
   "execution_count": null,
   "metadata": {},
   "outputs": [],
   "source": [
    "# Заполним пустые ячейки нулями. И напишем функцию, которая будет пропущенные значения заменять на наиболее популярный тип \n",
    "# кузова для конкретной марки авто \n",
    "new_data.fillna({'VehicleType':0},inplace=True)\n",
    "\n",
    "def fillna_by_brand(row, row_number, vehicle_type_pivot):\n",
    "    brand = row[5]\n",
    "    fill_value = row[row_number]\n",
    "    if row[row_number] == 0:\n",
    "        fill_value = vehicle_type_pivot[brand].idxmax()\n",
    "    return fill_value\n",
    "\n",
    "new_data['VehicleType'] = new_data.apply(\n",
    "                                fillna_by_brand, \n",
    "                                args=[0, vehicle_type_pivot],\n",
    "                                axis=1)\n",
    "display(new_data['VehicleType'].isna().sum())\n",
    "new_data['VehicleType'].value_counts()"
   ]
  },
  {
   "cell_type": "code",
   "execution_count": null,
   "metadata": {},
   "outputs": [],
   "source": [
    "# Аналогично заполним пропуски для столбца FuelType\n",
    "new_data['FuelType'].value_counts()\n",
    "fuel_type_pivot = new_data.pivot_table(index=['FuelType'], \n",
    "                                                          columns=['Brand'],\n",
    "                                                          values=['Price'],\n",
    "                                                          aggfunc=['count'])\n",
    "fuel_type_pivot = fuel_type_pivot['count']['Price']\n",
    "display(fuel_type_pivot)\n",
    "\n",
    "new_data.fillna({'FuelType':0},inplace=True)\n",
    "\n",
    "new_data['FuelType'] = new_data.apply(\n",
    "                                fillna_by_brand, \n",
    "                                args=[4, vehicle_type_pivot],\n",
    "                                axis=1)\n",
    "display(new_data['FuelType'].isna().sum())\n",
    "new_data['FuelType'].value_counts()"
   ]
  },
  {
   "cell_type": "code",
   "execution_count": null,
   "metadata": {
    "scrolled": true
   },
   "outputs": [],
   "source": [
    "new_data.isna().mean()"
   ]
  },
  {
   "cell_type": "code",
   "execution_count": null,
   "metadata": {},
   "outputs": [],
   "source": [
    "# Теперь обработаем некорректные значения в столбце Power. Рассмотрим распределение значений на гистограмме\n",
    "new_data['Power'].hist(bins=100, figsize=(12,9))\n",
    "new_data['Power'].describe()"
   ]
  },
  {
   "cell_type": "markdown",
   "metadata": {},
   "source": [
    "Очень сильный разброс. Уберем выбросы больше 1000 л.с."
   ]
  },
  {
   "cell_type": "code",
   "execution_count": null,
   "metadata": {},
   "outputs": [],
   "source": [
    "new_data = new_data.query('Power < 1001')\n",
    "new_data['Power'].hist(bins=100, figsize=(12,9))\n",
    "new_data['Power'].describe()"
   ]
  },
  {
   "cell_type": "markdown",
   "metadata": {},
   "source": [
    "Исходя из графика, мы видим, что у многих машин мощность равна 0. Удалим эти строки. А в качестве верхней границы выберем 400 л.с. "
   ]
  },
  {
   "cell_type": "code",
   "execution_count": null,
   "metadata": {},
   "outputs": [],
   "source": [
    "new_data = new_data.query('0 < Power < 401')\n",
    "new_data['Power'].hist(bins=100, figsize=(12,9))\n",
    "new_data['Power'].describe()"
   ]
  },
  {
   "cell_type": "markdown",
   "metadata": {},
   "source": [
    "Исходя из малого кол-ва или отсутствия строк, ограничим еще - слева отсечем по 25 и справа по 350 л.с."
   ]
  },
  {
   "cell_type": "code",
   "execution_count": null,
   "metadata": {
    "scrolled": true
   },
   "outputs": [],
   "source": [
    "good_new_data = new_data.query('24 < Power < 401')\n",
    "good_new_data['Power'].hist(bins=100, figsize=(12,9))\n",
    "good_new_data['Power'].describe()"
   ]
  },
  {
   "cell_type": "code",
   "execution_count": null,
   "metadata": {},
   "outputs": [],
   "source": [
    "good_new_data.info()"
   ]
  },
  {
   "cell_type": "markdown",
   "metadata": {},
   "source": [
    "Заменем тип значений в столбцах Gearbox и Repaired на булев тип.\n",
    "\n",
    "IsGearbox. 1(manual) - механическая коробка передач. 0(auto) - автоматическая.\n",
    "IsRepaired. 1(yes) - машина с ремонтом, 0(no) - без ремонта."
   ]
  },
  {
   "cell_type": "code",
   "execution_count": null,
   "metadata": {},
   "outputs": [],
   "source": [
    "good_new_data['IsManualGearbox'] = 0\n",
    "good_new_data.loc[good_new_data['Gearbox'] == 'manual', 'IsManualGearbox'] = 1\n",
    "display(good_new_data['IsManualGearbox'].value_counts())\n",
    "good_new_data['Gearbox'].value_counts()"
   ]
  },
  {
   "cell_type": "code",
   "execution_count": null,
   "metadata": {},
   "outputs": [],
   "source": [
    "good_new_data['IsRepaired'] = 1\n",
    "good_new_data.loc[good_new_data['Repaired'] == 'yes', 'IsRepaired'] = 0\n",
    "display(good_new_data['IsRepaired'].value_counts())\n",
    "good_new_data['Repaired'].value_counts()"
   ]
  },
  {
   "cell_type": "markdown",
   "metadata": {},
   "source": [
    "Удалим столбцы, которые не влияют на стоимость и поменяем тип для того, чтобы было быстрее работать с данными"
   ]
  },
  {
   "cell_type": "code",
   "execution_count": null,
   "metadata": {},
   "outputs": [],
   "source": [
    "good_new_data.drop(['Repaired','Gearbox'], inplace=True, axis=1)\n",
    "good_new_data['IsRepaired'] = pd.to_numeric(good_new_data['IsRepaired'], downcast='integer')\n",
    "good_new_data['IsManualGearbox'] = pd.to_numeric(good_new_data['IsManualGearbox'], downcast='integer')\n",
    "good_new_data['RegistrationYear'] = pd.to_numeric(good_new_data['RegistrationYear'], downcast='integer')\n",
    "good_new_data['Power'] = pd.to_numeric(good_new_data['Power'], downcast='integer')\n",
    "good_new_data['Kilometer'] = pd.to_numeric(good_new_data['Kilometer'], downcast='integer')\n",
    "good_new_data['Price'] = pd.to_numeric(good_new_data['Price'], downcast='integer')\n",
    "good_new_data.info()"
   ]
  },
  {
   "cell_type": "markdown",
   "metadata": {},
   "source": [
    "Вывод:\n",
    "\n",
    "    Изучили данные, выделили столбцы, влияющие на стоимость, которые будем использовать для обучения модели.\n",
    "    \n",
    "    Обработали пропущенные и некорректные значения.\n",
    "    \n",
    "    Заменили два категориальных признака на численные."
   ]
  },
  {
   "cell_type": "markdown",
   "metadata": {},
   "source": [
    "## Обучение моделей"
   ]
  },
  {
   "cell_type": "markdown",
   "metadata": {},
   "source": [
    "Разделим датасет на тренировочную и тестовую выборки."
   ]
  },
  {
   "cell_type": "code",
   "execution_count": null,
   "metadata": {},
   "outputs": [],
   "source": [
    "features = good_new_data.drop(['Price'], axis=1)\n",
    "target = good_new_data['Price']\n",
    "\n",
    "X_train, X_test, y_train, y_test = train_test_split(\n",
    "    features, target, test_size=0.25, random_state=RANDOM_STATE\n",
    ")"
   ]
  },
  {
   "cell_type": "markdown",
   "metadata": {},
   "source": [
    "Перейдем к кодированию и масштабированию данных. \n",
    "\n",
    "Для модели Ridge - будем использовать OHE кодирование категориальных признаков  и StandardScaler для численных признаков.\n",
    "\n",
    "Для модели RandomForestRegressor, буде использовать порядковое кодирование признака model, имеющего большое количество уникальных значений, и OHE кодирование остальных категориальных признаков.\n",
    "\n",
    "А также, рассмотрим модель LightGBM. Подберем гиперпараметры для нее с помощью GridSearchCV"
   ]
  },
  {
   "cell_type": "code",
   "execution_count": null,
   "metadata": {},
   "outputs": [],
   "source": [
    "#категориальные признаки для OHE Ridge\n",
    "ohe_features_ridge = X_train.select_dtypes(include='object').columns.to_list()\n",
    "print(ohe_features_ridge)\n",
    "\n",
    "#категориальные признаки для OHE RandomForestRegressor\n",
    "ohe_features_rf = ohe_features_ridge.copy()\n",
    "ohe_features_rf.remove('Model')\n",
    "\n",
    "#категориальные признаки для OHE LGBM\n",
    "ohe_features_LGBM = ohe_features_ridge.copy()\n",
    "ohe_features_LGBM.remove('Model')"
   ]
  },
  {
   "cell_type": "code",
   "execution_count": null,
   "metadata": {},
   "outputs": [],
   "source": [
    "#численные признаки\n",
    "# Исключаем repaired, так как это категориальный бинарный признак.\n",
    "num_features = X_train.select_dtypes(exclude='object').columns.to_list()\n",
    "num_features.remove('IsRepaired')\n",
    "num_features"
   ]
  },
  {
   "cell_type": "markdown",
   "metadata": {},
   "source": [
    "### Ridge"
   ]
  },
  {
   "cell_type": "code",
   "execution_count": null,
   "metadata": {},
   "outputs": [],
   "source": [
    "X_train_ridge = X_train.copy()\n",
    "X_test_ridge = X_test.copy()"
   ]
  },
  {
   "cell_type": "code",
   "execution_count": null,
   "metadata": {
    "scrolled": true
   },
   "outputs": [],
   "source": [
    "# признак repaired уже бинарный, его не будем кодировать/масштабировать\n",
    "# добавляем remainder='passthrough, чтобы он не пропал\n",
    "col_transformer_ridge = make_column_transformer(\n",
    "    (\n",
    "        OneHotEncoder(drop='first', handle_unknown='ignore'),\n",
    "        ohe_features_ridge\n",
    "    ),\n",
    "    (\n",
    "        StandardScaler(),\n",
    "        num_features\n",
    "    ),\n",
    "    remainder='passthrough',\n",
    "    #verbose_feature_names_out=False\n",
    ")\n",
    "\n",
    "# всё готово в пару строк кода\n",
    "X_train_ridge = pd.DataFrame.sparse.from_spmatrix(\n",
    "    col_transformer_ridge.fit_transform(X_train_ridge),\n",
    "    columns=col_transformer_ridge.get_feature_names_out()\n",
    ")\n",
    "\n",
    "# смотрим на результат\n",
    "X_train_ridge.head()"
   ]
  },
  {
   "cell_type": "code",
   "execution_count": null,
   "metadata": {},
   "outputs": [],
   "source": [
    "# трансформируем тестовую выборку\n",
    "X_test_ridge = pd.DataFrame.sparse.from_spmatrix(\n",
    "    col_transformer_ridge.transform(X_test_ridge),\n",
    "    columns=col_transformer_ridge.get_feature_names_out()\n",
    ")\n",
    "\n",
    "# смотрим на результат\n",
    "X_test_ridge.head()"
   ]
  },
  {
   "cell_type": "markdown",
   "metadata": {},
   "source": [
    "Подберем гиперпараметры с помощью GridSearchCV, который имеет встроенную кросс-валидацию для модели Ridge"
   ]
  },
  {
   "cell_type": "code",
   "execution_count": null,
   "metadata": {},
   "outputs": [],
   "source": [
    "X_train_ridge = X_train.copy()"
   ]
  },
  {
   "cell_type": "code",
   "execution_count": null,
   "metadata": {},
   "outputs": [],
   "source": [
    "# random_state не перебирается, задаём его прямо в модели\n",
    "model_ridge = Ridge(random_state=RANDOM_STATE)\n",
    "\n",
    "pipeline_ridge = make_pipeline(col_transformer_ridge, model_ridge)\n",
    "\n",
    "# словарь с гиперпараметрами и значениями, которые хотим перебрать\n",
    "param_grid_ridge = {\n",
    "    'ridge__alpha': np.arange(0, 0.21, 0.01),\n",
    "}\n",
    "\n",
    "gs_ridge_pl = GridSearchCV(\n",
    "    pipeline_ridge,\n",
    "    param_grid=param_grid_ridge,\n",
    "    scoring='neg_root_mean_squared_error',\n",
    "    n_jobs=-1\n",
    ")\n"
   ]
  },
  {
   "cell_type": "code",
   "execution_count": null,
   "metadata": {},
   "outputs": [],
   "source": [
    "%%time\n",
    "gs_ridge_pl.fit(X_train_ridge, y_train)"
   ]
  },
  {
   "cell_type": "code",
   "execution_count": null,
   "metadata": {},
   "outputs": [],
   "source": [
    "gs_ridge_best_score = gs_ridge_pl.best_score_ * -1\n",
    "gs_ridge_best_params = gs_ridge_pl.best_params_\n",
    "\n",
    "# лучшее значение RMSE на кросс-валидации\n",
    "print(f'best_score: {gs_ridge_best_score}')\n",
    "# лучшие гиперпараметры\n",
    "print(f'best_params: {gs_ridge_best_params}')"
   ]
  },
  {
   "cell_type": "markdown",
   "metadata": {},
   "source": [
    "### RandomForestRegressor"
   ]
  },
  {
   "cell_type": "code",
   "execution_count": null,
   "metadata": {},
   "outputs": [],
   "source": [
    "X_train_rf = X_train.copy()\n",
    "X_test_rf = X_test.copy()"
   ]
  },
  {
   "cell_type": "code",
   "execution_count": null,
   "metadata": {},
   "outputs": [],
   "source": [
    "col_transformer_rf= make_column_transformer(\n",
    "    (\n",
    "        OneHotEncoder(drop='first', handle_unknown='ignore'),\n",
    "        ohe_features_rf\n",
    "    ),\n",
    "    (\n",
    "        OrdinalEncoder(handle_unknown='use_encoded_value', unknown_value=-1),\n",
    "        ['Model']\n",
    "    ),\n",
    "    (\n",
    "        StandardScaler(),\n",
    "        num_features\n",
    "    ),\n",
    "    remainder='passthrough'\n",
    ")\n",
    "\n",
    "model_rf = RandomForestRegressor(random_state=RANDOM_STATE)\n",
    "\n",
    "pipline_rf = make_pipeline(col_transformer_rf, model_rf)\n",
    "\n",
    "param_grid_rf = {\n",
    "    'randomforestregressor__n_estimators': range(50, 251, 50),\n",
    "    'randomforestregressor__max_depth': range(2, 15),\n",
    "    'randomforestregressor__min_samples_split': (2, 3, 4),\n",
    "    'randomforestregressor__min_samples_leaf': (1, 2, 3, 4)\n",
    "}\n",
    "\n",
    "# получается достаточно много комбинаций гиперпараметров при переборе\n",
    "# будем использовать RandomizedSearchCV, он работает на много быстрее\n",
    "gs_rf = RandomizedSearchCV(\n",
    "    pipline_rf,\n",
    "    param_distributions=param_grid_rf,\n",
    "    scoring='neg_root_mean_squared_error',\n",
    "    n_jobs=-1,\n",
    "    random_state=RANDOM_STATE\n",
    ")"
   ]
  },
  {
   "cell_type": "code",
   "execution_count": null,
   "metadata": {},
   "outputs": [],
   "source": [
    "%%time\n",
    "gs_rf.fit(X_train_rf, y_train)"
   ]
  },
  {
   "cell_type": "code",
   "execution_count": null,
   "metadata": {},
   "outputs": [],
   "source": [
    "gs_rf_best_score = gs_rf.best_score_ * -1\n",
    "gs_rf_best_params = gs_rf.best_params_\n",
    "print(f'best_score: {gs_rf_best_score}')\n",
    "print(f'best_params: {gs_rf_best_params}')"
   ]
  },
  {
   "cell_type": "code",
   "execution_count": null,
   "metadata": {},
   "outputs": [],
   "source": [
    "result = pd.DataFrame(\n",
    "    [gs_ridge_best_score, gs_rf_best_score],\n",
    "    index=['Ridge', 'RandomForestRegressor'],\n",
    "    columns=['RMSE']\n",
    ")\n",
    "result"
   ]
  },
  {
   "cell_type": "markdown",
   "metadata": {},
   "source": [
    "LGBMRegressor"
   ]
  },
  {
   "cell_type": "markdown",
   "metadata": {},
   "source": [
    "Обучение модели"
   ]
  },
  {
   "cell_type": "code",
   "execution_count": null,
   "metadata": {},
   "outputs": [],
   "source": [
    "X_train_LGBM = X_train.copy()\n",
    "X_test_LGBM = X_test.copy()"
   ]
  },
  {
   "cell_type": "code",
   "execution_count": null,
   "metadata": {},
   "outputs": [],
   "source": [
    "col_transformer_LGBM = make_column_transformer(\n",
    "    (\n",
    "        OneHotEncoder(drop='first', handle_unknown='ignore'),\n",
    "        ohe_features_LGBM\n",
    "    ),\n",
    "    (\n",
    "        OrdinalEncoder(handle_unknown='use_encoded_value', unknown_value=-1),\n",
    "        ['Model']\n",
    "    ),\n",
    "    (\n",
    "        StandardScaler(),\n",
    "        num_features\n",
    "    ),\n",
    "    remainder='passthrough'\n",
    ")\n",
    "\n",
    "model_LGBM = LGBMRegressor() \n",
    "\n",
    "pipline_LGBM = make_pipeline(col_transformer_LGBM, model_LGBM)\n",
    "\n",
    "param_grid_LGBM = {\n",
    "    'lgbmregressor__num_leaves': (31,100,200),\n",
    "    'lgbmregressor__learning_rate': (0.1, 0.3, 0.5)\n",
    "}\n",
    "\n",
    "\n",
    "gs_LGBM = RandomizedSearchCV(\n",
    "    pipline_LGBM,\n",
    "    param_distributions=param_grid_LGBM,\n",
    "    scoring='neg_root_mean_squared_error',\n",
    "    n_jobs=-1,\n",
    "    random_state=RANDOM_STATE\n",
    ")"
   ]
  },
  {
   "cell_type": "code",
   "execution_count": null,
   "metadata": {},
   "outputs": [],
   "source": [
    "%%time\n",
    "gs_LGBM.fit(X_train_LGBM, y_train)"
   ]
  },
  {
   "cell_type": "code",
   "execution_count": null,
   "metadata": {},
   "outputs": [],
   "source": [
    "gs_LGBM_best_score = gs_LGBM.best_score_ * -1\n",
    "gs_LGBM_best_params = gs_LGBM.best_params_\n",
    "print(f'best_score: {gs_LGBM_best_score}')\n",
    "print(f'best_params: {gs_LGBM_best_params}')"
   ]
  },
  {
   "cell_type": "code",
   "execution_count": null,
   "metadata": {},
   "outputs": [],
   "source": [
    "result = pd.DataFrame(\n",
    "    [gs_ridge_best_score, gs_rf_best_score, gs_LGBM_best_score],\n",
    "    index=['Ridge', 'RandomForestRegressor', 'LGBM'],\n",
    "    columns=['RMSE']\n",
    ")\n",
    "result"
   ]
  },
  {
   "cell_type": "markdown",
   "metadata": {},
   "source": [
    "Вывод:\n",
    "Были изучены 3 регрессионные модели. \n",
    "Найдены лучшие гиперпараметры и время выполнения"
   ]
  },
  {
   "cell_type": "markdown",
   "metadata": {},
   "source": [
    "## Анализ моделей"
   ]
  },
  {
   "cell_type": "markdown",
   "metadata": {},
   "source": [
    "Проверим качество LGBMRegressor на тестовой выборке:"
   ]
  },
  {
   "cell_type": "code",
   "execution_count": null,
   "metadata": {},
   "outputs": [],
   "source": [
    "%%time\n",
    "# Сделаем предсказание на тестовой выборке\n",
    "y_pred = gs_LGBM.predict(X_test_LGBM)"
   ]
  },
  {
   "cell_type": "code",
   "execution_count": null,
   "metadata": {},
   "outputs": [],
   "source": [
    "# Вычислим RMSE\n",
    "rmse = np.sqrt(mean_squared_error(y_test, y_pred))\n",
    "print('RMSE:', rmse)"
   ]
  },
  {
   "cell_type": "markdown",
   "metadata": {},
   "source": [
    "Итоговый вывод:\n",
    "\n",
    "Загружены данные. Выполнена предобработка пропущенных значений и некорректных значений.\n",
    "\n",
    "Сравнили модели с различными наборами гиперпараметров.\n",
    "\n",
    "Выбрана лучшая модель по результатам метрики RMSE и времени обучения.\n",
    "\n",
    "Если нужна точность и не так важно время, LGBMRegressor показала лучшие результаты RMSE - 1525.7480449456173"
   ]
  }
 ],
 "metadata": {
  "ExecuteTimeLog": [
   {
    "duration": 1696,
    "start_time": "2023-10-15T04:53:24.619Z"
   },
   {
    "duration": 5,
    "start_time": "2023-10-15T04:53:32.800Z"
   },
   {
    "duration": 108,
    "start_time": "2023-10-15T04:55:16.583Z"
   },
   {
    "duration": 4,
    "start_time": "2023-10-15T04:55:19.331Z"
   },
   {
    "duration": 1221,
    "start_time": "2023-10-15T04:55:20.029Z"
   },
   {
    "duration": 156,
    "start_time": "2023-10-15T04:55:21.252Z"
   },
   {
    "duration": 18,
    "start_time": "2023-10-15T04:55:32.819Z"
   },
   {
    "duration": 280,
    "start_time": "2023-10-15T05:22:03.816Z"
   },
   {
    "duration": 278,
    "start_time": "2023-10-15T05:22:16.185Z"
   },
   {
    "duration": 3,
    "start_time": "2023-10-15T05:32:07.853Z"
   },
   {
    "duration": 10,
    "start_time": "2023-10-15T05:32:26.815Z"
   },
   {
    "duration": 364,
    "start_time": "2023-10-15T05:32:38.488Z"
   },
   {
    "duration": 342,
    "start_time": "2023-10-15T05:32:54.995Z"
   },
   {
    "duration": 3,
    "start_time": "2023-10-15T05:32:58.166Z"
   },
   {
    "duration": 352,
    "start_time": "2023-10-15T05:32:59.184Z"
   },
   {
    "duration": 133,
    "start_time": "2023-10-15T06:43:17.914Z"
   },
   {
    "duration": 12,
    "start_time": "2023-10-15T07:22:34.777Z"
   },
   {
    "duration": 11,
    "start_time": "2023-10-15T07:26:58.021Z"
   },
   {
    "duration": 398,
    "start_time": "2023-10-15T07:27:04.986Z"
   },
   {
    "duration": 49,
    "start_time": "2023-10-15T12:37:43.459Z"
   },
   {
    "duration": 6,
    "start_time": "2023-10-15T12:38:11.225Z"
   },
   {
    "duration": 1599,
    "start_time": "2023-10-15T12:38:17.658Z"
   },
   {
    "duration": 1135,
    "start_time": "2023-10-15T12:38:19.259Z"
   },
   {
    "duration": 145,
    "start_time": "2023-10-15T12:38:20.395Z"
   },
   {
    "duration": 283,
    "start_time": "2023-10-15T12:38:30.795Z"
   },
   {
    "duration": 119,
    "start_time": "2023-10-15T12:38:38.508Z"
   },
   {
    "duration": 15,
    "start_time": "2023-10-15T12:40:17.199Z"
   },
   {
    "duration": 13,
    "start_time": "2023-10-15T12:40:32.105Z"
   },
   {
    "duration": 12,
    "start_time": "2023-10-15T12:40:36.726Z"
   },
   {
    "duration": 12,
    "start_time": "2023-10-15T12:41:07.486Z"
   },
   {
    "duration": 12,
    "start_time": "2023-10-15T12:41:11.453Z"
   },
   {
    "duration": 12,
    "start_time": "2023-10-15T12:41:18.618Z"
   },
   {
    "duration": 15,
    "start_time": "2023-10-15T12:41:26.116Z"
   },
   {
    "duration": 12,
    "start_time": "2023-10-15T12:41:38.466Z"
   },
   {
    "duration": 12,
    "start_time": "2023-10-15T12:41:49.013Z"
   },
   {
    "duration": 12,
    "start_time": "2023-10-15T12:41:59.102Z"
   },
   {
    "duration": 13,
    "start_time": "2023-10-15T12:47:49.886Z"
   },
   {
    "duration": 98,
    "start_time": "2023-10-15T12:48:13.328Z"
   },
   {
    "duration": 269,
    "start_time": "2023-10-15T12:49:41.787Z"
   },
   {
    "duration": 73,
    "start_time": "2023-10-15T12:52:42.005Z"
   },
   {
    "duration": 65,
    "start_time": "2023-10-15T12:53:13.442Z"
   },
   {
    "duration": 285,
    "start_time": "2023-10-15T12:57:27.491Z"
   },
   {
    "duration": 307,
    "start_time": "2023-10-15T12:58:52.416Z"
   },
   {
    "duration": 50,
    "start_time": "2023-10-22T12:30:41.471Z"
   },
   {
    "duration": 1739,
    "start_time": "2023-10-22T12:30:47.346Z"
   },
   {
    "duration": 1426,
    "start_time": "2023-10-22T12:30:49.087Z"
   },
   {
    "duration": 159,
    "start_time": "2023-10-22T12:30:50.515Z"
   },
   {
    "duration": 16,
    "start_time": "2023-10-22T12:30:50.676Z"
   },
   {
    "duration": 342,
    "start_time": "2023-10-22T12:30:50.694Z"
   },
   {
    "duration": 5,
    "start_time": "2023-10-22T12:30:51.037Z"
   },
   {
    "duration": 358,
    "start_time": "2023-10-22T12:30:51.044Z"
   },
   {
    "duration": 150,
    "start_time": "2023-10-22T12:30:51.404Z"
   },
   {
    "duration": 11,
    "start_time": "2023-10-22T12:30:51.557Z"
   },
   {
    "duration": 387,
    "start_time": "2023-10-22T12:30:51.570Z"
   },
   {
    "duration": 14,
    "start_time": "2023-10-22T12:30:51.959Z"
   },
   {
    "duration": 119,
    "start_time": "2023-10-22T12:30:51.975Z"
   },
   {
    "duration": 381,
    "start_time": "2023-10-22T12:30:52.096Z"
   },
   {
    "duration": 77,
    "start_time": "2023-10-22T12:30:52.480Z"
   },
   {
    "duration": 332,
    "start_time": "2023-10-22T12:30:52.558Z"
   },
   {
    "duration": 356,
    "start_time": "2023-10-22T12:30:52.893Z"
   },
   {
    "duration": 128,
    "start_time": "2023-10-22T12:30:53.251Z"
   },
   {
    "duration": 0,
    "start_time": "2023-10-22T12:30:53.381Z"
   },
   {
    "duration": 0,
    "start_time": "2023-10-22T12:30:53.382Z"
   },
   {
    "duration": 0,
    "start_time": "2023-10-22T12:30:53.383Z"
   },
   {
    "duration": 107,
    "start_time": "2023-10-22T12:31:27.044Z"
   },
   {
    "duration": 49,
    "start_time": "2023-10-22T12:35:55.030Z"
   },
   {
    "duration": 68,
    "start_time": "2023-10-22T12:38:02.702Z"
   },
   {
    "duration": 94,
    "start_time": "2023-10-22T12:38:58.851Z"
   },
   {
    "duration": 44,
    "start_time": "2023-10-22T12:39:35.202Z"
   },
   {
    "duration": 76,
    "start_time": "2023-10-22T12:40:35.199Z"
   },
   {
    "duration": 30,
    "start_time": "2023-10-22T12:46:05.013Z"
   },
   {
    "duration": 11,
    "start_time": "2023-10-22T12:51:19.687Z"
   },
   {
    "duration": 1734,
    "start_time": "2023-10-22T12:51:28.911Z"
   },
   {
    "duration": 1539,
    "start_time": "2023-10-22T12:52:26.440Z"
   },
   {
    "duration": 956,
    "start_time": "2023-10-22T12:52:27.981Z"
   },
   {
    "duration": 151,
    "start_time": "2023-10-22T12:52:28.939Z"
   },
   {
    "duration": 16,
    "start_time": "2023-10-22T12:52:29.092Z"
   },
   {
    "duration": 307,
    "start_time": "2023-10-22T12:52:29.110Z"
   },
   {
    "duration": 7,
    "start_time": "2023-10-22T12:52:29.423Z"
   },
   {
    "duration": 361,
    "start_time": "2023-10-22T12:52:29.434Z"
   },
   {
    "duration": 137,
    "start_time": "2023-10-22T12:52:29.797Z"
   },
   {
    "duration": 13,
    "start_time": "2023-10-22T12:52:29.936Z"
   },
   {
    "duration": 393,
    "start_time": "2023-10-22T12:52:29.950Z"
   },
   {
    "duration": 16,
    "start_time": "2023-10-22T12:52:30.346Z"
   },
   {
    "duration": 143,
    "start_time": "2023-10-22T12:52:30.364Z"
   },
   {
    "duration": 376,
    "start_time": "2023-10-22T12:52:30.509Z"
   },
   {
    "duration": 85,
    "start_time": "2023-10-22T12:52:30.889Z"
   },
   {
    "duration": 332,
    "start_time": "2023-10-22T12:52:30.976Z"
   },
   {
    "duration": 340,
    "start_time": "2023-10-22T12:52:31.310Z"
   },
   {
    "duration": 125,
    "start_time": "2023-10-22T12:52:31.652Z"
   },
   {
    "duration": 50,
    "start_time": "2023-10-22T12:52:31.779Z"
   },
   {
    "duration": 112,
    "start_time": "2023-10-22T12:52:31.835Z"
   },
   {
    "duration": 32,
    "start_time": "2023-10-22T12:52:31.950Z"
   },
   {
    "duration": 123,
    "start_time": "2023-10-22T12:52:31.984Z"
   },
   {
    "duration": 1563,
    "start_time": "2023-10-22T12:52:32.109Z"
   },
   {
    "duration": 32,
    "start_time": "2023-10-22T12:55:16.514Z"
   },
   {
    "duration": 3110,
    "start_time": "2023-10-22T12:55:20.589Z"
   },
   {
    "duration": 3310,
    "start_time": "2023-10-22T13:04:26.242Z"
   },
   {
    "duration": 83,
    "start_time": "2023-10-22T13:05:05.068Z"
   },
   {
    "duration": 376,
    "start_time": "2023-10-22T13:06:30.290Z"
   },
   {
    "duration": 308,
    "start_time": "2023-10-22T13:08:47.483Z"
   },
   {
    "duration": 341,
    "start_time": "2023-10-22T13:10:10.438Z"
   },
   {
    "duration": 451,
    "start_time": "2023-10-22T13:12:51.891Z"
   },
   {
    "duration": 61,
    "start_time": "2023-10-22T13:13:07.253Z"
   },
   {
    "duration": 68,
    "start_time": "2023-10-22T13:17:50.067Z"
   },
   {
    "duration": 61,
    "start_time": "2023-10-22T13:17:53.285Z"
   },
   {
    "duration": 1557,
    "start_time": "2023-10-22T13:18:03.265Z"
   },
   {
    "duration": 1127,
    "start_time": "2023-10-22T13:18:04.824Z"
   },
   {
    "duration": 212,
    "start_time": "2023-10-22T13:18:05.953Z"
   },
   {
    "duration": 17,
    "start_time": "2023-10-22T13:18:06.167Z"
   },
   {
    "duration": 325,
    "start_time": "2023-10-22T13:18:06.185Z"
   },
   {
    "duration": 3,
    "start_time": "2023-10-22T13:18:06.512Z"
   },
   {
    "duration": 401,
    "start_time": "2023-10-22T13:18:06.526Z"
   },
   {
    "duration": 152,
    "start_time": "2023-10-22T13:18:06.937Z"
   },
   {
    "duration": 18,
    "start_time": "2023-10-22T13:18:07.092Z"
   },
   {
    "duration": 437,
    "start_time": "2023-10-22T13:18:07.124Z"
   },
   {
    "duration": 15,
    "start_time": "2023-10-22T13:18:07.564Z"
   },
   {
    "duration": 123,
    "start_time": "2023-10-22T13:18:07.580Z"
   },
   {
    "duration": 402,
    "start_time": "2023-10-22T13:18:07.706Z"
   },
   {
    "duration": 80,
    "start_time": "2023-10-22T13:18:08.109Z"
   },
   {
    "duration": 363,
    "start_time": "2023-10-22T13:18:08.191Z"
   },
   {
    "duration": 323,
    "start_time": "2023-10-22T13:18:08.556Z"
   },
   {
    "duration": 115,
    "start_time": "2023-10-22T13:18:08.881Z"
   },
   {
    "duration": 49,
    "start_time": "2023-10-22T13:18:08.998Z"
   },
   {
    "duration": 98,
    "start_time": "2023-10-22T13:18:09.049Z"
   },
   {
    "duration": 28,
    "start_time": "2023-10-22T13:18:09.149Z"
   },
   {
    "duration": 86,
    "start_time": "2023-10-22T13:18:09.178Z"
   },
   {
    "duration": 3046,
    "start_time": "2023-10-22T13:18:09.266Z"
   },
   {
    "duration": 3381,
    "start_time": "2023-10-22T13:18:12.314Z"
   },
   {
    "duration": 78,
    "start_time": "2023-10-22T13:18:15.698Z"
   },
   {
    "duration": 330,
    "start_time": "2023-10-22T13:18:15.778Z"
   },
   {
    "duration": 353,
    "start_time": "2023-10-22T13:18:16.110Z"
   },
   {
    "duration": 418,
    "start_time": "2023-10-22T13:18:16.465Z"
   },
   {
    "duration": 459,
    "start_time": "2023-10-22T13:18:16.889Z"
   },
   {
    "duration": 60,
    "start_time": "2023-10-22T13:18:17.350Z"
   },
   {
    "duration": 71,
    "start_time": "2023-10-22T13:18:17.411Z"
   },
   {
    "duration": 72,
    "start_time": "2023-10-22T13:18:17.485Z"
   },
   {
    "duration": 51,
    "start_time": "2023-10-22T13:18:30.702Z"
   },
   {
    "duration": 111,
    "start_time": "2023-10-22T13:21:12.962Z"
   },
   {
    "duration": 610,
    "start_time": "2023-10-22T13:34:54.378Z"
   },
   {
    "duration": 319,
    "start_time": "2023-10-22T13:35:12.438Z"
   },
   {
    "duration": 383338,
    "start_time": "2023-10-22T13:51:53.946Z"
   },
   {
    "duration": 1603,
    "start_time": "2023-10-22T14:09:57.205Z"
   },
   {
    "duration": 975,
    "start_time": "2023-10-22T14:09:58.810Z"
   },
   {
    "duration": 160,
    "start_time": "2023-10-22T14:09:59.787Z"
   },
   {
    "duration": 15,
    "start_time": "2023-10-22T14:09:59.950Z"
   },
   {
    "duration": 316,
    "start_time": "2023-10-22T14:09:59.966Z"
   },
   {
    "duration": 4,
    "start_time": "2023-10-22T14:10:00.284Z"
   },
   {
    "duration": 477,
    "start_time": "2023-10-22T14:10:00.290Z"
   },
   {
    "duration": 146,
    "start_time": "2023-10-22T14:10:00.770Z"
   },
   {
    "duration": 230,
    "start_time": "2023-10-22T14:10:00.918Z"
   },
   {
    "duration": 567,
    "start_time": "2023-10-22T14:10:01.151Z"
   },
   {
    "duration": 16,
    "start_time": "2023-10-22T14:10:01.724Z"
   },
   {
    "duration": 294,
    "start_time": "2023-10-22T14:10:01.742Z"
   },
   {
    "duration": 385,
    "start_time": "2023-10-22T14:10:02.040Z"
   },
   {
    "duration": 75,
    "start_time": "2023-10-22T14:10:02.428Z"
   },
   {
    "duration": 370,
    "start_time": "2023-10-22T14:10:02.505Z"
   },
   {
    "duration": 379,
    "start_time": "2023-10-22T14:10:02.878Z"
   },
   {
    "duration": 181,
    "start_time": "2023-10-22T14:10:03.259Z"
   },
   {
    "duration": 45,
    "start_time": "2023-10-22T14:10:03.442Z"
   },
   {
    "duration": 153,
    "start_time": "2023-10-22T14:10:03.489Z"
   },
   {
    "duration": 31,
    "start_time": "2023-10-22T14:10:03.644Z"
   },
   {
    "duration": 129,
    "start_time": "2023-10-22T14:10:03.677Z"
   },
   {
    "duration": 3367,
    "start_time": "2023-10-22T14:10:03.808Z"
   },
   {
    "duration": 3436,
    "start_time": "2023-10-22T14:10:07.176Z"
   },
   {
    "duration": 79,
    "start_time": "2023-10-22T14:10:10.614Z"
   },
   {
    "duration": 346,
    "start_time": "2023-10-22T14:10:10.695Z"
   },
   {
    "duration": 327,
    "start_time": "2023-10-22T14:10:11.043Z"
   },
   {
    "duration": 348,
    "start_time": "2023-10-22T14:10:11.372Z"
   },
   {
    "duration": 443,
    "start_time": "2023-10-22T14:10:11.726Z"
   },
   {
    "duration": 74,
    "start_time": "2023-10-22T14:10:12.172Z"
   },
   {
    "duration": 51,
    "start_time": "2023-10-22T14:10:12.248Z"
   },
   {
    "duration": 62,
    "start_time": "2023-10-22T14:10:12.301Z"
   },
   {
    "duration": 120,
    "start_time": "2023-10-22T14:10:12.365Z"
   },
   {
    "duration": 379,
    "start_time": "2023-10-22T14:10:12.487Z"
   },
   {
    "duration": 0,
    "start_time": "2023-10-22T14:10:12.868Z"
   },
   {
    "duration": 0,
    "start_time": "2023-10-22T14:10:12.869Z"
   },
   {
    "duration": 0,
    "start_time": "2023-10-22T14:10:12.870Z"
   },
   {
    "duration": 0,
    "start_time": "2023-10-22T14:10:12.872Z"
   },
   {
    "duration": 0,
    "start_time": "2023-10-22T14:10:12.873Z"
   },
   {
    "duration": 0,
    "start_time": "2023-10-22T14:10:12.874Z"
   },
   {
    "duration": 0,
    "start_time": "2023-10-22T14:10:12.875Z"
   },
   {
    "duration": 0,
    "start_time": "2023-10-22T14:10:12.877Z"
   },
   {
    "duration": 0,
    "start_time": "2023-10-22T14:10:12.878Z"
   },
   {
    "duration": 0,
    "start_time": "2023-10-22T14:10:12.880Z"
   },
   {
    "duration": 0,
    "start_time": "2023-10-22T14:10:12.881Z"
   },
   {
    "duration": 0,
    "start_time": "2023-10-22T14:10:12.882Z"
   },
   {
    "duration": 0,
    "start_time": "2023-10-22T14:10:12.884Z"
   },
   {
    "duration": 0,
    "start_time": "2023-10-22T14:10:12.886Z"
   },
   {
    "duration": 0,
    "start_time": "2023-10-22T14:10:12.887Z"
   },
   {
    "duration": 0,
    "start_time": "2023-10-22T14:10:12.888Z"
   },
   {
    "duration": 0,
    "start_time": "2023-10-22T14:10:12.889Z"
   },
   {
    "duration": 0,
    "start_time": "2023-10-22T14:10:12.890Z"
   },
   {
    "duration": 0,
    "start_time": "2023-10-22T14:10:12.891Z"
   },
   {
    "duration": 0,
    "start_time": "2023-10-22T14:10:12.891Z"
   },
   {
    "duration": 0,
    "start_time": "2023-10-22T14:10:12.892Z"
   },
   {
    "duration": 0,
    "start_time": "2023-10-22T14:10:12.895Z"
   },
   {
    "duration": 0,
    "start_time": "2023-10-22T14:10:12.896Z"
   },
   {
    "duration": 0,
    "start_time": "2023-10-22T14:10:12.902Z"
   },
   {
    "duration": 0,
    "start_time": "2023-10-22T14:10:12.905Z"
   },
   {
    "duration": 0,
    "start_time": "2023-10-22T14:10:12.907Z"
   },
   {
    "duration": 0,
    "start_time": "2023-10-22T14:10:12.908Z"
   },
   {
    "duration": 0,
    "start_time": "2023-10-22T14:10:12.910Z"
   },
   {
    "duration": 0,
    "start_time": "2023-10-22T14:10:12.923Z"
   },
   {
    "duration": 1556,
    "start_time": "2023-10-22T14:11:26.181Z"
   },
   {
    "duration": 930,
    "start_time": "2023-10-22T14:11:27.741Z"
   },
   {
    "duration": 165,
    "start_time": "2023-10-22T14:11:28.673Z"
   },
   {
    "duration": 17,
    "start_time": "2023-10-22T14:11:28.840Z"
   },
   {
    "duration": 314,
    "start_time": "2023-10-22T14:11:28.858Z"
   },
   {
    "duration": 3,
    "start_time": "2023-10-22T14:11:29.174Z"
   },
   {
    "duration": 348,
    "start_time": "2023-10-22T14:11:29.178Z"
   },
   {
    "duration": 126,
    "start_time": "2023-10-22T14:11:29.536Z"
   },
   {
    "duration": 23,
    "start_time": "2023-10-22T14:11:29.664Z"
   },
   {
    "duration": 381,
    "start_time": "2023-10-22T14:11:29.691Z"
   },
   {
    "duration": 13,
    "start_time": "2023-10-22T14:11:30.074Z"
   },
   {
    "duration": 218,
    "start_time": "2023-10-22T14:11:30.089Z"
   },
   {
    "duration": 392,
    "start_time": "2023-10-22T14:11:30.309Z"
   },
   {
    "duration": 73,
    "start_time": "2023-10-22T14:11:30.702Z"
   },
   {
    "duration": 397,
    "start_time": "2023-10-22T14:11:30.777Z"
   },
   {
    "duration": 327,
    "start_time": "2023-10-22T14:11:31.176Z"
   },
   {
    "duration": 112,
    "start_time": "2023-10-22T14:11:31.504Z"
   },
   {
    "duration": 47,
    "start_time": "2023-10-22T14:11:31.623Z"
   },
   {
    "duration": 98,
    "start_time": "2023-10-22T14:11:31.672Z"
   },
   {
    "duration": 30,
    "start_time": "2023-10-22T14:11:31.772Z"
   },
   {
    "duration": 163,
    "start_time": "2023-10-22T14:11:31.804Z"
   },
   {
    "duration": 3144,
    "start_time": "2023-10-22T14:11:31.968Z"
   },
   {
    "duration": 3354,
    "start_time": "2023-10-22T14:11:35.113Z"
   },
   {
    "duration": 76,
    "start_time": "2023-10-22T14:11:38.468Z"
   },
   {
    "duration": 302,
    "start_time": "2023-10-22T14:11:38.546Z"
   },
   {
    "duration": 319,
    "start_time": "2023-10-22T14:11:38.850Z"
   },
   {
    "duration": 337,
    "start_time": "2023-10-22T14:11:39.171Z"
   },
   {
    "duration": 462,
    "start_time": "2023-10-22T14:11:39.513Z"
   },
   {
    "duration": 78,
    "start_time": "2023-10-22T14:11:39.977Z"
   },
   {
    "duration": 52,
    "start_time": "2023-10-22T14:11:40.057Z"
   },
   {
    "duration": 61,
    "start_time": "2023-10-22T14:11:40.110Z"
   },
   {
    "duration": 121,
    "start_time": "2023-10-22T14:11:40.173Z"
   },
   {
    "duration": 673,
    "start_time": "2023-10-22T14:11:40.296Z"
   },
   {
    "duration": 331,
    "start_time": "2023-10-22T14:11:40.971Z"
   },
   {
    "duration": 140429,
    "start_time": "2023-10-22T14:11:41.303Z"
   },
   {
    "duration": 93,
    "start_time": "2023-10-22T14:14:01.734Z"
   },
   {
    "duration": 0,
    "start_time": "2023-10-22T14:14:01.835Z"
   },
   {
    "duration": 0,
    "start_time": "2023-10-22T14:14:01.838Z"
   },
   {
    "duration": 0,
    "start_time": "2023-10-22T14:14:01.839Z"
   },
   {
    "duration": 0,
    "start_time": "2023-10-22T14:14:01.841Z"
   },
   {
    "duration": 0,
    "start_time": "2023-10-22T14:14:01.842Z"
   },
   {
    "duration": 0,
    "start_time": "2023-10-22T14:14:01.843Z"
   },
   {
    "duration": 0,
    "start_time": "2023-10-22T14:14:01.845Z"
   },
   {
    "duration": 0,
    "start_time": "2023-10-22T14:14:01.847Z"
   },
   {
    "duration": 0,
    "start_time": "2023-10-22T14:14:01.848Z"
   },
   {
    "duration": 0,
    "start_time": "2023-10-22T14:14:01.850Z"
   },
   {
    "duration": 0,
    "start_time": "2023-10-22T14:14:01.852Z"
   },
   {
    "duration": 0,
    "start_time": "2023-10-22T14:14:01.853Z"
   },
   {
    "duration": 0,
    "start_time": "2023-10-22T14:14:01.855Z"
   },
   {
    "duration": 0,
    "start_time": "2023-10-22T14:14:01.856Z"
   },
   {
    "duration": 0,
    "start_time": "2023-10-22T14:14:01.858Z"
   },
   {
    "duration": 0,
    "start_time": "2023-10-22T14:14:01.860Z"
   },
   {
    "duration": 0,
    "start_time": "2023-10-22T14:14:01.862Z"
   },
   {
    "duration": 0,
    "start_time": "2023-10-22T14:14:01.863Z"
   },
   {
    "duration": 0,
    "start_time": "2023-10-22T14:14:01.865Z"
   },
   {
    "duration": 0,
    "start_time": "2023-10-22T14:14:01.866Z"
   },
   {
    "duration": 0,
    "start_time": "2023-10-22T14:14:01.868Z"
   },
   {
    "duration": 0,
    "start_time": "2023-10-22T14:14:01.869Z"
   },
   {
    "duration": 0,
    "start_time": "2023-10-22T14:14:01.870Z"
   },
   {
    "duration": 0,
    "start_time": "2023-10-22T14:14:01.871Z"
   },
   {
    "duration": 0,
    "start_time": "2023-10-22T14:14:01.873Z"
   },
   {
    "duration": 1595,
    "start_time": "2023-10-22T14:20:27.514Z"
   },
   {
    "duration": 954,
    "start_time": "2023-10-22T14:20:29.111Z"
   },
   {
    "duration": 173,
    "start_time": "2023-10-22T14:20:30.067Z"
   },
   {
    "duration": 17,
    "start_time": "2023-10-22T14:20:30.242Z"
   },
   {
    "duration": 413,
    "start_time": "2023-10-22T14:20:30.261Z"
   },
   {
    "duration": 4,
    "start_time": "2023-10-22T14:20:30.675Z"
   },
   {
    "duration": 429,
    "start_time": "2023-10-22T14:20:30.681Z"
   },
   {
    "duration": 216,
    "start_time": "2023-10-22T14:20:31.112Z"
   },
   {
    "duration": 14,
    "start_time": "2023-10-22T14:20:31.329Z"
   },
   {
    "duration": 455,
    "start_time": "2023-10-22T14:20:31.346Z"
   },
   {
    "duration": 36,
    "start_time": "2023-10-22T14:20:31.803Z"
   },
   {
    "duration": 214,
    "start_time": "2023-10-22T14:20:31.841Z"
   },
   {
    "duration": 386,
    "start_time": "2023-10-22T14:20:32.058Z"
   },
   {
    "duration": 79,
    "start_time": "2023-10-22T14:20:32.446Z"
   },
   {
    "duration": 386,
    "start_time": "2023-10-22T14:20:32.527Z"
   },
   {
    "duration": 378,
    "start_time": "2023-10-22T14:20:32.915Z"
   },
   {
    "duration": 140,
    "start_time": "2023-10-22T14:20:33.295Z"
   },
   {
    "duration": 51,
    "start_time": "2023-10-22T14:20:33.439Z"
   },
   {
    "duration": 100,
    "start_time": "2023-10-22T14:20:33.492Z"
   },
   {
    "duration": 44,
    "start_time": "2023-10-22T14:20:33.594Z"
   },
   {
    "duration": 70,
    "start_time": "2023-10-22T14:20:33.640Z"
   },
   {
    "duration": 3187,
    "start_time": "2023-10-22T14:20:33.713Z"
   },
   {
    "duration": 3379,
    "start_time": "2023-10-22T14:20:36.902Z"
   },
   {
    "duration": 99,
    "start_time": "2023-10-22T14:20:40.284Z"
   },
   {
    "duration": 306,
    "start_time": "2023-10-22T14:20:40.385Z"
   },
   {
    "duration": 326,
    "start_time": "2023-10-22T14:20:40.692Z"
   },
   {
    "duration": 342,
    "start_time": "2023-10-22T14:20:41.028Z"
   },
   {
    "duration": 466,
    "start_time": "2023-10-22T14:20:41.375Z"
   },
   {
    "duration": 64,
    "start_time": "2023-10-22T14:20:41.843Z"
   },
   {
    "duration": 70,
    "start_time": "2023-10-22T14:20:41.910Z"
   },
   {
    "duration": 74,
    "start_time": "2023-10-22T14:20:41.982Z"
   },
   {
    "duration": 128,
    "start_time": "2023-10-22T14:20:42.057Z"
   },
   {
    "duration": 680,
    "start_time": "2023-10-22T14:20:42.187Z"
   },
   {
    "duration": 339,
    "start_time": "2023-10-22T14:20:42.869Z"
   },
   {
    "duration": 134540,
    "start_time": "2023-10-22T14:20:43.210Z"
   },
   {
    "duration": 326,
    "start_time": "2023-10-22T14:22:57.752Z"
   },
   {
    "duration": 382074,
    "start_time": "2023-10-22T14:22:58.080Z"
   },
   {
    "duration": 44290,
    "start_time": "2023-10-22T14:29:20.155Z"
   },
   {
    "duration": 313117,
    "start_time": "2023-10-22T14:30:04.447Z"
   },
   {
    "duration": 99294,
    "start_time": "2023-10-22T14:35:17.566Z"
   },
   {
    "duration": 95,
    "start_time": "2023-10-24T17:59:57.588Z"
   },
   {
    "duration": 3058,
    "start_time": "2023-10-24T18:00:05.038Z"
   },
   {
    "duration": 5334,
    "start_time": "2023-10-24T18:00:08.101Z"
   },
   {
    "duration": 308,
    "start_time": "2023-10-24T18:00:13.437Z"
   },
   {
    "duration": 41,
    "start_time": "2023-10-24T18:00:13.748Z"
   },
   {
    "duration": 596,
    "start_time": "2023-10-24T18:00:13.791Z"
   },
   {
    "duration": 8,
    "start_time": "2023-10-24T18:00:14.395Z"
   },
   {
    "duration": 570,
    "start_time": "2023-10-24T18:00:14.412Z"
   },
   {
    "duration": 228,
    "start_time": "2023-10-24T18:00:14.985Z"
   },
   {
    "duration": 15,
    "start_time": "2023-10-24T18:00:15.215Z"
   },
   {
    "duration": 530,
    "start_time": "2023-10-24T18:00:15.233Z"
   },
   {
    "duration": 37,
    "start_time": "2023-10-24T18:00:15.788Z"
   },
   {
    "duration": 222,
    "start_time": "2023-10-24T18:00:15.826Z"
   },
   {
    "duration": 689,
    "start_time": "2023-10-24T18:00:16.050Z"
   },
   {
    "duration": 128,
    "start_time": "2023-10-24T18:00:16.741Z"
   },
   {
    "duration": 597,
    "start_time": "2023-10-24T18:00:16.877Z"
   },
   {
    "duration": 459,
    "start_time": "2023-10-24T18:00:17.491Z"
   },
   {
    "duration": 286,
    "start_time": "2023-10-24T18:00:17.952Z"
   },
   {
    "duration": 95,
    "start_time": "2023-10-24T18:00:18.240Z"
   },
   {
    "duration": 196,
    "start_time": "2023-10-24T18:00:18.338Z"
   },
   {
    "duration": 80,
    "start_time": "2023-10-24T18:00:18.537Z"
   },
   {
    "duration": 182,
    "start_time": "2023-10-24T18:00:18.620Z"
   },
   {
    "duration": 5734,
    "start_time": "2023-10-24T18:00:18.808Z"
   },
   {
    "duration": 6165,
    "start_time": "2023-10-24T18:00:24.545Z"
   },
   {
    "duration": 128,
    "start_time": "2023-10-24T18:00:30.712Z"
   },
   {
    "duration": 488,
    "start_time": "2023-10-24T18:00:30.842Z"
   },
   {
    "duration": 435,
    "start_time": "2023-10-24T18:00:31.332Z"
   },
   {
    "duration": 442,
    "start_time": "2023-10-24T18:00:31.769Z"
   },
   {
    "duration": 629,
    "start_time": "2023-10-24T18:00:32.216Z"
   },
   {
    "duration": 142,
    "start_time": "2023-10-24T18:00:32.847Z"
   },
   {
    "duration": 126,
    "start_time": "2023-10-24T18:00:32.996Z"
   },
   {
    "duration": 108,
    "start_time": "2023-10-24T18:00:33.124Z"
   },
   {
    "duration": 348,
    "start_time": "2023-10-24T18:00:33.234Z"
   },
   {
    "duration": 1580,
    "start_time": "2023-10-24T18:00:33.585Z"
   },
   {
    "duration": 631,
    "start_time": "2023-10-24T18:00:35.166Z"
   },
   {
    "duration": 131803,
    "start_time": "2023-10-24T18:00:35.799Z"
   },
   {
    "duration": 323,
    "start_time": "2023-10-24T18:02:47.604Z"
   },
   {
    "duration": 745911,
    "start_time": "2023-10-24T18:02:47.930Z"
   },
   {
    "duration": 85326,
    "start_time": "2023-10-24T18:15:13.843Z"
   },
   {
    "duration": 505197,
    "start_time": "2023-10-24T18:16:39.175Z"
   },
   {
    "duration": 170143,
    "start_time": "2023-10-24T18:25:04.378Z"
   },
   {
    "duration": 20199448,
    "start_time": "2023-10-24T18:27:54.524Z"
   },
   {
    "duration": 22391,
    "start_time": "2023-10-25T00:04:33.974Z"
   },
   {
    "duration": 389,
    "start_time": "2023-10-25T00:04:56.368Z"
   },
   {
    "duration": 4,
    "start_time": "2023-10-25T00:04:56.759Z"
   },
   {
    "duration": 5495,
    "start_time": "2023-10-25T00:04:56.765Z"
   },
   {
    "duration": 118,
    "start_time": "2023-10-25T00:05:02.262Z"
   },
   {
    "duration": 4,
    "start_time": "2023-10-25T00:05:02.383Z"
   },
   {
    "duration": 568,
    "start_time": "2023-10-25T00:05:02.390Z"
   },
   {
    "duration": 18,
    "start_time": "2023-10-25T00:05:02.960Z"
   },
   {
    "duration": 25,
    "start_time": "2023-10-25T00:05:02.980Z"
   },
   {
    "duration": 32129,
    "start_time": "2023-10-25T00:05:03.007Z"
   },
   {
    "duration": 70,
    "start_time": "2023-10-25T00:05:35.138Z"
   },
   {
    "duration": 4,
    "start_time": "2023-10-25T00:05:35.210Z"
   },
   {
    "duration": 33442,
    "start_time": "2023-10-25T00:05:35.216Z"
   },
   {
    "duration": 176,
    "start_time": "2023-10-25T00:06:08.660Z"
   },
   {
    "duration": 5,
    "start_time": "2023-10-25T00:06:08.839Z"
   },
   {
    "duration": 10619,
    "start_time": "2023-10-25T00:06:08.845Z"
   },
   {
    "duration": 797,
    "start_time": "2023-10-25T00:06:19.465Z"
   },
   {
    "duration": 4,
    "start_time": "2023-10-25T00:06:20.264Z"
   },
   {
    "duration": 33,
    "start_time": "2023-10-25T00:06:20.270Z"
   },
   {
    "duration": 0,
    "start_time": "2023-10-25T00:06:20.361Z"
   },
   {
    "duration": 0,
    "start_time": "2023-10-25T00:06:20.362Z"
   },
   {
    "duration": 27,
    "start_time": "2023-10-25T09:44:09.698Z"
   },
   {
    "duration": 2,
    "start_time": "2023-10-25T09:44:17.622Z"
   },
   {
    "duration": 326,
    "start_time": "2023-10-25T09:44:18.461Z"
   },
   {
    "duration": 5,
    "start_time": "2023-10-25T09:44:49.455Z"
   },
   {
    "duration": 49,
    "start_time": "2023-10-25T09:45:05.266Z"
   },
   {
    "duration": 22,
    "start_time": "2023-10-25T09:45:08.082Z"
   },
   {
    "duration": 11,
    "start_time": "2023-10-25T09:45:36.375Z"
   },
   {
    "duration": 14,
    "start_time": "2023-10-25T09:45:44.832Z"
   },
   {
    "duration": 13,
    "start_time": "2023-10-25T09:45:47.991Z"
   },
   {
    "duration": 7,
    "start_time": "2023-10-25T09:46:07.238Z"
   },
   {
    "duration": 8,
    "start_time": "2023-10-25T09:46:09.407Z"
   },
   {
    "duration": 11,
    "start_time": "2023-10-25T09:46:16.993Z"
   },
   {
    "duration": 17,
    "start_time": "2023-10-25T09:46:18.361Z"
   },
   {
    "duration": 18,
    "start_time": "2023-10-25T09:59:40.906Z"
   },
   {
    "duration": 15,
    "start_time": "2023-10-25T10:01:33.629Z"
   },
   {
    "duration": 13,
    "start_time": "2023-10-25T10:01:41.994Z"
   },
   {
    "duration": 13,
    "start_time": "2023-10-25T10:02:17.460Z"
   },
   {
    "duration": 14,
    "start_time": "2023-10-25T10:02:26.741Z"
   },
   {
    "duration": 6,
    "start_time": "2023-10-25T10:04:08.183Z"
   },
   {
    "duration": 15,
    "start_time": "2023-10-25T10:05:31.267Z"
   },
   {
    "duration": 41,
    "start_time": "2023-10-25T10:06:49.742Z"
   },
   {
    "duration": 18,
    "start_time": "2023-10-25T10:07:03.858Z"
   },
   {
    "duration": 28,
    "start_time": "2023-10-25T10:17:39.686Z"
   },
   {
    "duration": 8,
    "start_time": "2023-10-25T10:26:08.102Z"
   },
   {
    "duration": 15360,
    "start_time": "2023-10-25T10:26:09.473Z"
   },
   {
    "duration": 910,
    "start_time": "2023-10-25T10:28:19.163Z"
   },
   {
    "duration": 5,
    "start_time": "2023-10-25T10:34:09.506Z"
   },
   {
    "duration": 21,
    "start_time": "2023-10-25T10:54:15.381Z"
   },
   {
    "duration": 5,
    "start_time": "2023-10-25T10:54:21.068Z"
   },
   {
    "duration": 1914,
    "start_time": "2023-10-25T10:54:21.075Z"
   },
   {
    "duration": 1005,
    "start_time": "2023-10-25T10:54:22.990Z"
   },
   {
    "duration": 178,
    "start_time": "2023-10-25T10:54:23.996Z"
   },
   {
    "duration": 16,
    "start_time": "2023-10-25T10:54:24.177Z"
   },
   {
    "duration": 331,
    "start_time": "2023-10-25T10:54:24.195Z"
   },
   {
    "duration": 4,
    "start_time": "2023-10-25T10:54:24.527Z"
   },
   {
    "duration": 348,
    "start_time": "2023-10-25T10:54:24.552Z"
   },
   {
    "duration": 164,
    "start_time": "2023-10-25T10:54:24.902Z"
   },
   {
    "duration": 77,
    "start_time": "2023-10-25T10:54:25.069Z"
   },
   {
    "duration": 446,
    "start_time": "2023-10-25T10:54:25.148Z"
   },
   {
    "duration": 137,
    "start_time": "2023-10-25T10:54:25.596Z"
   },
   {
    "duration": 343,
    "start_time": "2023-10-25T10:54:25.734Z"
   },
   {
    "duration": 74,
    "start_time": "2023-10-25T10:54:26.080Z"
   },
   {
    "duration": 331,
    "start_time": "2023-10-25T10:54:26.156Z"
   },
   {
    "duration": 363,
    "start_time": "2023-10-25T10:54:26.488Z"
   },
   {
    "duration": 157,
    "start_time": "2023-10-25T10:54:26.854Z"
   },
   {
    "duration": 67,
    "start_time": "2023-10-25T10:54:27.013Z"
   },
   {
    "duration": 220,
    "start_time": "2023-10-25T10:54:27.082Z"
   },
   {
    "duration": 28,
    "start_time": "2023-10-25T10:54:27.304Z"
   },
   {
    "duration": 99,
    "start_time": "2023-10-25T10:54:27.346Z"
   },
   {
    "duration": 4126,
    "start_time": "2023-10-25T10:54:27.447Z"
   },
   {
    "duration": 4349,
    "start_time": "2023-10-25T10:54:31.575Z"
   },
   {
    "duration": 125,
    "start_time": "2023-10-25T10:54:35.927Z"
   },
   {
    "duration": 334,
    "start_time": "2023-10-25T10:54:36.057Z"
   },
   {
    "duration": 346,
    "start_time": "2023-10-25T10:54:36.392Z"
   },
   {
    "duration": 375,
    "start_time": "2023-10-25T10:54:36.740Z"
   },
   {
    "duration": 319,
    "start_time": "2023-10-25T10:54:37.117Z"
   },
   {
    "duration": 81,
    "start_time": "2023-10-25T10:54:37.438Z"
   },
   {
    "duration": 72,
    "start_time": "2023-10-25T10:54:37.521Z"
   },
   {
    "duration": 62,
    "start_time": "2023-10-25T10:54:37.595Z"
   },
   {
    "duration": 130,
    "start_time": "2023-10-25T10:54:37.659Z"
   },
   {
    "duration": 53,
    "start_time": "2023-10-25T10:54:37.791Z"
   },
   {
    "duration": 14,
    "start_time": "2023-10-25T10:54:37.846Z"
   },
   {
    "duration": 17,
    "start_time": "2023-10-25T10:54:37.862Z"
   },
   {
    "duration": 28,
    "start_time": "2023-10-25T10:54:37.881Z"
   },
   {
    "duration": 202,
    "start_time": "2023-10-25T10:54:37.910Z"
   },
   {
    "duration": 0,
    "start_time": "2023-10-25T10:54:38.113Z"
   },
   {
    "duration": 0,
    "start_time": "2023-10-25T10:54:38.115Z"
   },
   {
    "duration": 0,
    "start_time": "2023-10-25T10:54:38.116Z"
   },
   {
    "duration": 0,
    "start_time": "2023-10-25T10:54:38.117Z"
   },
   {
    "duration": 0,
    "start_time": "2023-10-25T10:54:38.119Z"
   },
   {
    "duration": 0,
    "start_time": "2023-10-25T10:54:38.120Z"
   },
   {
    "duration": 0,
    "start_time": "2023-10-25T10:54:38.121Z"
   },
   {
    "duration": 0,
    "start_time": "2023-10-25T10:54:38.122Z"
   },
   {
    "duration": 7429,
    "start_time": "2023-10-25T19:26:19.502Z"
   },
   {
    "duration": 43,
    "start_time": "2023-10-25T20:43:26.721Z"
   },
   {
    "duration": 1601,
    "start_time": "2023-10-25T20:43:38.785Z"
   },
   {
    "duration": 183,
    "start_time": "2023-10-25T20:43:58.214Z"
   },
   {
    "duration": 2475,
    "start_time": "2023-10-25T20:45:13.594Z"
   },
   {
    "duration": 1550,
    "start_time": "2023-10-25T20:45:16.071Z"
   },
   {
    "duration": 3356,
    "start_time": "2023-10-25T20:45:17.623Z"
   },
   {
    "duration": 151,
    "start_time": "2023-10-25T20:45:20.981Z"
   },
   {
    "duration": 25,
    "start_time": "2023-10-25T20:45:21.134Z"
   },
   {
    "duration": 309,
    "start_time": "2023-10-25T20:45:21.161Z"
   },
   {
    "duration": 3,
    "start_time": "2023-10-25T20:45:21.472Z"
   },
   {
    "duration": 368,
    "start_time": "2023-10-25T20:45:21.476Z"
   },
   {
    "duration": 125,
    "start_time": "2023-10-25T20:45:21.846Z"
   },
   {
    "duration": 25,
    "start_time": "2023-10-25T20:45:21.975Z"
   },
   {
    "duration": 382,
    "start_time": "2023-10-25T20:45:22.001Z"
   },
   {
    "duration": 127,
    "start_time": "2023-10-25T20:45:22.386Z"
   },
   {
    "duration": 307,
    "start_time": "2023-10-25T20:45:22.515Z"
   },
   {
    "duration": 69,
    "start_time": "2023-10-25T20:45:22.824Z"
   },
   {
    "duration": 355,
    "start_time": "2023-10-25T20:45:22.895Z"
   },
   {
    "duration": 369,
    "start_time": "2023-10-25T20:45:23.252Z"
   },
   {
    "duration": 131,
    "start_time": "2023-10-25T20:45:23.623Z"
   },
   {
    "duration": 46,
    "start_time": "2023-10-25T20:45:23.756Z"
   },
   {
    "duration": 161,
    "start_time": "2023-10-25T20:45:23.804Z"
   },
   {
    "duration": 30,
    "start_time": "2023-10-25T20:45:23.966Z"
   },
   {
    "duration": 157,
    "start_time": "2023-10-25T20:45:23.998Z"
   },
   {
    "duration": 3711,
    "start_time": "2023-10-25T20:45:24.157Z"
   },
   {
    "duration": 4264,
    "start_time": "2023-10-25T20:45:27.870Z"
   },
   {
    "duration": 94,
    "start_time": "2023-10-25T20:45:32.136Z"
   },
   {
    "duration": 336,
    "start_time": "2023-10-25T20:45:32.243Z"
   },
   {
    "duration": 478,
    "start_time": "2023-10-25T20:45:32.581Z"
   },
   {
    "duration": 406,
    "start_time": "2023-10-25T20:45:33.061Z"
   },
   {
    "duration": 350,
    "start_time": "2023-10-25T20:45:33.472Z"
   },
   {
    "duration": 99,
    "start_time": "2023-10-25T20:45:33.824Z"
   },
   {
    "duration": 133,
    "start_time": "2023-10-25T20:45:33.925Z"
   },
   {
    "duration": 92,
    "start_time": "2023-10-25T20:45:34.060Z"
   },
   {
    "duration": 166,
    "start_time": "2023-10-25T20:45:34.154Z"
   },
   {
    "duration": 67,
    "start_time": "2023-10-25T20:45:34.323Z"
   },
   {
    "duration": 12,
    "start_time": "2023-10-25T20:45:34.392Z"
   },
   {
    "duration": 13,
    "start_time": "2023-10-25T20:45:34.406Z"
   },
   {
    "duration": 23,
    "start_time": "2023-10-25T20:45:34.421Z"
   },
   {
    "duration": 530,
    "start_time": "2023-10-25T20:45:34.446Z"
   },
   {
    "duration": 219,
    "start_time": "2023-10-25T20:45:34.978Z"
   },
   {
    "duration": 6,
    "start_time": "2023-10-25T20:45:35.199Z"
   },
   {
    "duration": 157,
    "start_time": "2023-10-25T20:45:35.207Z"
   },
   {
    "duration": 0,
    "start_time": "2023-10-25T20:45:35.366Z"
   },
   {
    "duration": 0,
    "start_time": "2023-10-25T20:45:35.368Z"
   },
   {
    "duration": 0,
    "start_time": "2023-10-25T20:45:35.370Z"
   },
   {
    "duration": 0,
    "start_time": "2023-10-25T20:45:35.371Z"
   },
   {
    "duration": 0,
    "start_time": "2023-10-25T20:45:35.373Z"
   },
   {
    "duration": 2495,
    "start_time": "2023-10-25T20:54:51.305Z"
   },
   {
    "duration": 1664,
    "start_time": "2023-10-25T20:54:53.802Z"
   },
   {
    "duration": 1078,
    "start_time": "2023-10-25T20:54:55.467Z"
   },
   {
    "duration": 175,
    "start_time": "2023-10-25T20:54:56.548Z"
   },
   {
    "duration": 30,
    "start_time": "2023-10-25T20:54:56.726Z"
   },
   {
    "duration": 331,
    "start_time": "2023-10-25T20:54:56.758Z"
   },
   {
    "duration": 3,
    "start_time": "2023-10-25T20:54:57.091Z"
   },
   {
    "duration": 398,
    "start_time": "2023-10-25T20:54:57.096Z"
   },
   {
    "duration": 166,
    "start_time": "2023-10-25T20:54:57.496Z"
   },
   {
    "duration": 12,
    "start_time": "2023-10-25T20:54:57.666Z"
   },
   {
    "duration": 415,
    "start_time": "2023-10-25T20:54:57.679Z"
   },
   {
    "duration": 137,
    "start_time": "2023-10-25T20:54:58.096Z"
   },
   {
    "duration": 309,
    "start_time": "2023-10-25T20:54:58.235Z"
   },
   {
    "duration": 78,
    "start_time": "2023-10-25T20:54:58.547Z"
   },
   {
    "duration": 365,
    "start_time": "2023-10-25T20:54:58.627Z"
   },
   {
    "duration": 364,
    "start_time": "2023-10-25T20:54:58.995Z"
   },
   {
    "duration": 190,
    "start_time": "2023-10-25T20:54:59.362Z"
   },
   {
    "duration": 53,
    "start_time": "2023-10-25T20:54:59.553Z"
   },
   {
    "duration": 121,
    "start_time": "2023-10-25T20:54:59.608Z"
   },
   {
    "duration": 46,
    "start_time": "2023-10-25T20:54:59.731Z"
   },
   {
    "duration": 110,
    "start_time": "2023-10-25T20:54:59.778Z"
   },
   {
    "duration": 4048,
    "start_time": "2023-10-25T20:54:59.889Z"
   },
   {
    "duration": 4184,
    "start_time": "2023-10-25T20:55:03.938Z"
   },
   {
    "duration": 85,
    "start_time": "2023-10-25T20:55:08.123Z"
   },
   {
    "duration": 304,
    "start_time": "2023-10-25T20:55:08.210Z"
   },
   {
    "duration": 417,
    "start_time": "2023-10-25T20:55:08.516Z"
   },
   {
    "duration": 320,
    "start_time": "2023-10-25T20:55:08.935Z"
   },
   {
    "duration": 327,
    "start_time": "2023-10-25T20:55:09.259Z"
   },
   {
    "duration": 82,
    "start_time": "2023-10-25T20:55:09.587Z"
   },
   {
    "duration": 55,
    "start_time": "2023-10-25T20:55:09.670Z"
   },
   {
    "duration": 59,
    "start_time": "2023-10-25T20:55:09.744Z"
   },
   {
    "duration": 149,
    "start_time": "2023-10-25T20:55:09.805Z"
   },
   {
    "duration": 55,
    "start_time": "2023-10-25T20:55:09.956Z"
   },
   {
    "duration": 32,
    "start_time": "2023-10-25T20:55:10.013Z"
   },
   {
    "duration": 21,
    "start_time": "2023-10-25T20:55:10.047Z"
   },
   {
    "duration": 10,
    "start_time": "2023-10-25T20:55:10.070Z"
   },
   {
    "duration": 543,
    "start_time": "2023-10-25T20:55:10.082Z"
   },
   {
    "duration": 201,
    "start_time": "2023-10-25T20:55:10.628Z"
   },
   {
    "duration": 14,
    "start_time": "2023-10-25T20:55:10.830Z"
   },
   {
    "duration": 190,
    "start_time": "2023-10-25T20:55:10.846Z"
   },
   {
    "duration": 0,
    "start_time": "2023-10-25T20:55:11.039Z"
   },
   {
    "duration": 0,
    "start_time": "2023-10-25T20:55:11.041Z"
   },
   {
    "duration": 0,
    "start_time": "2023-10-25T20:55:11.045Z"
   },
   {
    "duration": 0,
    "start_time": "2023-10-25T20:55:11.047Z"
   },
   {
    "duration": 0,
    "start_time": "2023-10-25T20:55:11.048Z"
   },
   {
    "duration": 2380,
    "start_time": "2023-10-25T21:02:45.780Z"
   },
   {
    "duration": 1546,
    "start_time": "2023-10-25T21:02:48.163Z"
   },
   {
    "duration": 1062,
    "start_time": "2023-10-25T21:02:49.711Z"
   },
   {
    "duration": 155,
    "start_time": "2023-10-25T21:02:50.775Z"
   },
   {
    "duration": 25,
    "start_time": "2023-10-25T21:02:50.932Z"
   },
   {
    "duration": 306,
    "start_time": "2023-10-25T21:02:50.959Z"
   },
   {
    "duration": 4,
    "start_time": "2023-10-25T21:02:51.266Z"
   },
   {
    "duration": 445,
    "start_time": "2023-10-25T21:02:51.272Z"
   },
   {
    "duration": 137,
    "start_time": "2023-10-25T21:02:51.719Z"
   },
   {
    "duration": 28,
    "start_time": "2023-10-25T21:02:51.858Z"
   },
   {
    "duration": 386,
    "start_time": "2023-10-25T21:02:51.888Z"
   },
   {
    "duration": 138,
    "start_time": "2023-10-25T21:02:52.276Z"
   },
   {
    "duration": 302,
    "start_time": "2023-10-25T21:02:52.416Z"
   },
   {
    "duration": 76,
    "start_time": "2023-10-25T21:02:52.721Z"
   },
   {
    "duration": 353,
    "start_time": "2023-10-25T21:02:52.799Z"
   },
   {
    "duration": 344,
    "start_time": "2023-10-25T21:02:53.154Z"
   },
   {
    "duration": 138,
    "start_time": "2023-10-25T21:02:53.501Z"
   },
   {
    "duration": 50,
    "start_time": "2023-10-25T21:02:53.643Z"
   },
   {
    "duration": 119,
    "start_time": "2023-10-25T21:02:53.695Z"
   },
   {
    "duration": 45,
    "start_time": "2023-10-25T21:02:53.815Z"
   },
   {
    "duration": 94,
    "start_time": "2023-10-25T21:02:53.862Z"
   },
   {
    "duration": 3873,
    "start_time": "2023-10-25T21:02:53.958Z"
   },
   {
    "duration": 4044,
    "start_time": "2023-10-25T21:02:57.834Z"
   },
   {
    "duration": 93,
    "start_time": "2023-10-25T21:03:01.879Z"
   },
   {
    "duration": 357,
    "start_time": "2023-10-25T21:03:01.973Z"
   },
   {
    "duration": 440,
    "start_time": "2023-10-25T21:03:02.332Z"
   },
   {
    "duration": 340,
    "start_time": "2023-10-25T21:03:02.773Z"
   },
   {
    "duration": 350,
    "start_time": "2023-10-25T21:03:03.115Z"
   },
   {
    "duration": 89,
    "start_time": "2023-10-25T21:03:03.467Z"
   },
   {
    "duration": 62,
    "start_time": "2023-10-25T21:03:03.558Z"
   },
   {
    "duration": 80,
    "start_time": "2023-10-25T21:03:03.622Z"
   },
   {
    "duration": 144,
    "start_time": "2023-10-25T21:03:03.704Z"
   },
   {
    "duration": 51,
    "start_time": "2023-10-25T21:03:03.850Z"
   },
   {
    "duration": 12,
    "start_time": "2023-10-25T21:03:03.903Z"
   },
   {
    "duration": 29,
    "start_time": "2023-10-25T21:03:03.917Z"
   },
   {
    "duration": 17,
    "start_time": "2023-10-25T21:03:03.948Z"
   },
   {
    "duration": 594,
    "start_time": "2023-10-25T21:03:03.967Z"
   },
   {
    "duration": 193,
    "start_time": "2023-10-25T21:03:04.562Z"
   },
   {
    "duration": 6,
    "start_time": "2023-10-25T21:03:04.757Z"
   },
   {
    "duration": 537688,
    "start_time": "2023-10-25T21:03:04.765Z"
   },
   {
    "duration": 93,
    "start_time": "2023-10-25T21:12:02.458Z"
   },
   {
    "duration": 2182,
    "start_time": "2023-10-25T21:55:19.985Z"
   },
   {
    "duration": 1474,
    "start_time": "2023-10-25T21:55:22.170Z"
   },
   {
    "duration": 1009,
    "start_time": "2023-10-25T21:55:23.646Z"
   },
   {
    "duration": 188,
    "start_time": "2023-10-25T21:55:24.657Z"
   },
   {
    "duration": 21,
    "start_time": "2023-10-25T21:55:24.849Z"
   },
   {
    "duration": 297,
    "start_time": "2023-10-25T21:55:24.871Z"
   },
   {
    "duration": 3,
    "start_time": "2023-10-25T21:55:25.170Z"
   },
   {
    "duration": 320,
    "start_time": "2023-10-25T21:55:25.174Z"
   },
   {
    "duration": 126,
    "start_time": "2023-10-25T21:55:25.496Z"
   },
   {
    "duration": 26,
    "start_time": "2023-10-25T21:55:25.624Z"
   },
   {
    "duration": 368,
    "start_time": "2023-10-25T21:55:25.652Z"
   },
   {
    "duration": 118,
    "start_time": "2023-10-25T21:55:26.022Z"
   },
   {
    "duration": 288,
    "start_time": "2023-10-25T21:55:26.144Z"
   },
   {
    "duration": 115,
    "start_time": "2023-10-25T21:55:26.437Z"
   },
   {
    "duration": 316,
    "start_time": "2023-10-25T21:55:26.554Z"
   },
   {
    "duration": 320,
    "start_time": "2023-10-25T21:55:26.872Z"
   },
   {
    "duration": 154,
    "start_time": "2023-10-25T21:55:27.193Z"
   },
   {
    "duration": 64,
    "start_time": "2023-10-25T21:55:27.349Z"
   },
   {
    "duration": 116,
    "start_time": "2023-10-25T21:55:27.415Z"
   },
   {
    "duration": 37,
    "start_time": "2023-10-25T21:55:27.533Z"
   },
   {
    "duration": 88,
    "start_time": "2023-10-25T21:55:27.572Z"
   },
   {
    "duration": 3535,
    "start_time": "2023-10-25T21:55:27.662Z"
   },
   {
    "duration": 3967,
    "start_time": "2023-10-25T21:55:31.199Z"
   },
   {
    "duration": 84,
    "start_time": "2023-10-25T21:55:35.168Z"
   },
   {
    "duration": 506,
    "start_time": "2023-10-25T21:55:35.254Z"
   },
   {
    "duration": 405,
    "start_time": "2023-10-25T21:55:35.761Z"
   },
   {
    "duration": 343,
    "start_time": "2023-10-25T21:55:36.168Z"
   },
   {
    "duration": 327,
    "start_time": "2023-10-25T21:55:36.513Z"
   },
   {
    "duration": 77,
    "start_time": "2023-10-25T21:55:36.844Z"
   },
   {
    "duration": 99,
    "start_time": "2023-10-25T21:55:36.923Z"
   },
   {
    "duration": 70,
    "start_time": "2023-10-25T21:55:37.024Z"
   },
   {
    "duration": 127,
    "start_time": "2023-10-25T21:55:37.096Z"
   },
   {
    "duration": 60,
    "start_time": "2023-10-25T21:55:37.225Z"
   },
   {
    "duration": 10,
    "start_time": "2023-10-25T21:55:37.287Z"
   },
   {
    "duration": 41,
    "start_time": "2023-10-25T21:55:37.299Z"
   },
   {
    "duration": 53,
    "start_time": "2023-10-25T21:55:37.342Z"
   },
   {
    "duration": 500,
    "start_time": "2023-10-25T21:55:37.396Z"
   },
   {
    "duration": 177,
    "start_time": "2023-10-25T21:55:37.898Z"
   },
   {
    "duration": 5,
    "start_time": "2023-10-25T21:55:38.076Z"
   },
   {
    "duration": 455165,
    "start_time": "2023-10-25T21:55:38.083Z"
   },
   {
    "duration": 7,
    "start_time": "2023-10-25T22:03:13.343Z"
   },
   {
    "duration": 13612953,
    "start_time": "2023-10-25T22:03:13.352Z"
   },
   {
    "duration": 7,
    "start_time": "2023-10-26T01:50:06.307Z"
   },
   {
    "duration": 275,
    "start_time": "2023-10-26T01:50:06.316Z"
   },
   {
    "duration": 1624,
    "start_time": "2023-10-26T01:50:06.593Z"
   },
   {
    "duration": 793,
    "start_time": "2023-10-26T08:42:47.964Z"
   },
   {
    "duration": 44,
    "start_time": "2023-10-26T08:55:44.662Z"
   },
   {
    "duration": 1385,
    "start_time": "2023-10-26T08:55:58.283Z"
   },
   {
    "duration": 1435,
    "start_time": "2023-10-26T08:56:11.865Z"
   },
   {
    "duration": 1040,
    "start_time": "2023-10-26T08:56:15.045Z"
   },
   {
    "duration": 4020447,
    "start_time": "2023-10-26T08:56:36.701Z"
   },
   {
    "duration": 294193,
    "start_time": "2023-10-26T10:15:25.276Z"
   },
   {
    "duration": 90119,
    "start_time": "2023-10-26T10:26:41.144Z"
   },
   {
    "duration": 181,
    "start_time": "2023-10-28T22:11:59.997Z"
   },
   {
    "duration": 8316,
    "start_time": "2023-10-28T22:12:14.086Z"
   },
   {
    "duration": 2709,
    "start_time": "2023-10-28T22:12:22.406Z"
   },
   {
    "duration": 982,
    "start_time": "2023-10-28T22:12:25.116Z"
   },
   {
    "duration": 117,
    "start_time": "2023-10-28T22:12:26.099Z"
   },
   {
    "duration": 13,
    "start_time": "2023-10-28T22:12:26.218Z"
   },
   {
    "duration": 234,
    "start_time": "2023-10-28T22:12:26.239Z"
   },
   {
    "duration": 3,
    "start_time": "2023-10-28T22:12:26.475Z"
   },
   {
    "duration": 282,
    "start_time": "2023-10-28T22:12:26.479Z"
   },
   {
    "duration": 100,
    "start_time": "2023-10-28T22:12:26.762Z"
   },
   {
    "duration": 8,
    "start_time": "2023-10-28T22:12:26.864Z"
   },
   {
    "duration": 317,
    "start_time": "2023-10-28T22:12:26.873Z"
   },
   {
    "duration": 99,
    "start_time": "2023-10-28T22:12:27.191Z"
   },
   {
    "duration": 250,
    "start_time": "2023-10-28T22:12:27.291Z"
   },
   {
    "duration": 60,
    "start_time": "2023-10-28T22:12:27.542Z"
   },
   {
    "duration": 272,
    "start_time": "2023-10-28T22:12:27.604Z"
   },
   {
    "duration": 279,
    "start_time": "2023-10-28T22:12:27.877Z"
   },
   {
    "duration": 97,
    "start_time": "2023-10-28T22:12:28.157Z"
   },
   {
    "duration": 48,
    "start_time": "2023-10-28T22:12:28.255Z"
   },
   {
    "duration": 95,
    "start_time": "2023-10-28T22:12:28.304Z"
   },
   {
    "duration": 24,
    "start_time": "2023-10-28T22:12:28.401Z"
   },
   {
    "duration": 72,
    "start_time": "2023-10-28T22:12:28.426Z"
   },
   {
    "duration": 3141,
    "start_time": "2023-10-28T22:12:28.499Z"
   },
   {
    "duration": 3389,
    "start_time": "2023-10-28T22:12:31.642Z"
   },
   {
    "duration": 59,
    "start_time": "2023-10-28T22:12:35.033Z"
   },
   {
    "duration": 322,
    "start_time": "2023-10-28T22:12:35.093Z"
   },
   {
    "duration": 266,
    "start_time": "2023-10-28T22:12:35.417Z"
   },
   {
    "duration": 266,
    "start_time": "2023-10-28T22:12:35.685Z"
   },
   {
    "duration": 263,
    "start_time": "2023-10-28T22:12:35.954Z"
   },
   {
    "duration": 59,
    "start_time": "2023-10-28T22:12:36.219Z"
   },
   {
    "duration": 62,
    "start_time": "2023-10-28T22:12:36.279Z"
   },
   {
    "duration": 49,
    "start_time": "2023-10-28T22:12:36.343Z"
   },
   {
    "duration": 109,
    "start_time": "2023-10-28T22:12:36.393Z"
   },
   {
    "duration": 42,
    "start_time": "2023-10-28T22:12:36.504Z"
   },
   {
    "duration": 9,
    "start_time": "2023-10-28T22:12:36.548Z"
   },
   {
    "duration": 6,
    "start_time": "2023-10-28T22:12:36.558Z"
   },
   {
    "duration": 8,
    "start_time": "2023-10-28T22:12:36.566Z"
   },
   {
    "duration": 427,
    "start_time": "2023-10-28T22:12:36.575Z"
   },
   {
    "duration": 163,
    "start_time": "2023-10-28T22:12:37.003Z"
   },
   {
    "duration": 5,
    "start_time": "2023-10-28T22:12:37.168Z"
   },
   {
    "duration": 109010,
    "start_time": "2023-10-28T22:12:37.175Z"
   },
   {
    "duration": 0,
    "start_time": "2023-10-28T22:14:26.187Z"
   },
   {
    "duration": 0,
    "start_time": "2023-10-28T22:14:26.188Z"
   },
   {
    "duration": 0,
    "start_time": "2023-10-28T22:14:26.189Z"
   },
   {
    "duration": 0,
    "start_time": "2023-10-28T22:14:26.190Z"
   },
   {
    "duration": 0,
    "start_time": "2023-10-28T22:14:26.191Z"
   },
   {
    "duration": 0,
    "start_time": "2023-10-28T22:14:26.192Z"
   },
   {
    "duration": 91,
    "start_time": "2023-10-28T22:14:43.379Z"
   },
   {
    "duration": 453,
    "start_time": "2023-10-28T22:15:03.374Z"
   },
   {
    "duration": 156,
    "start_time": "2023-10-28T22:15:09.586Z"
   },
   {
    "duration": 11,
    "start_time": "2023-10-28T22:38:50.423Z"
   },
   {
    "duration": 7,
    "start_time": "2023-10-28T22:51:53.394Z"
   },
   {
    "duration": 11,
    "start_time": "2023-10-28T22:51:54.696Z"
   },
   {
    "duration": 14,
    "start_time": "2023-10-28T22:52:05.413Z"
   },
   {
    "duration": 23,
    "start_time": "2023-10-28T22:53:05.135Z"
   },
   {
    "duration": 238,
    "start_time": "2023-10-28T22:58:46.514Z"
   },
   {
    "duration": 241,
    "start_time": "2023-10-28T23:01:07.208Z"
   },
   {
    "duration": 226,
    "start_time": "2023-10-28T23:04:28.414Z"
   },
   {
    "duration": 223,
    "start_time": "2023-10-28T23:04:44.760Z"
   },
   {
    "duration": 4,
    "start_time": "2023-10-28T23:05:27.264Z"
   },
   {
    "duration": 215,
    "start_time": "2023-10-28T23:05:45.306Z"
   },
   {
    "duration": 9,
    "start_time": "2023-10-28T23:07:14.780Z"
   },
   {
    "duration": 16,
    "start_time": "2023-10-28T23:08:10.457Z"
   },
   {
    "duration": 364,
    "start_time": "2023-10-28T23:08:31.124Z"
   },
   {
    "duration": 1186,
    "start_time": "2023-10-28T23:08:38.628Z"
   },
   {
    "duration": 6,
    "start_time": "2023-10-28T23:09:17.526Z"
   },
   {
    "duration": 363,
    "start_time": "2023-10-28T23:09:19.472Z"
   },
   {
    "duration": 2806,
    "start_time": "2023-10-28T23:09:39.337Z"
   },
   {
    "duration": 47,
    "start_time": "2023-10-28T23:10:18.632Z"
   },
   {
    "duration": 14,
    "start_time": "2023-10-28T23:10:21.364Z"
   },
   {
    "duration": 7,
    "start_time": "2023-10-28T23:10:23.585Z"
   },
   {
    "duration": 6,
    "start_time": "2023-10-28T23:10:31.083Z"
   },
   {
    "duration": 343,
    "start_time": "2023-10-28T23:10:33.715Z"
   },
   {
    "duration": 114,
    "start_time": "2023-10-28T23:11:36.163Z"
   },
   {
    "duration": 22,
    "start_time": "2023-10-28T23:11:41.998Z"
   },
   {
    "duration": 23,
    "start_time": "2023-10-28T23:12:02.513Z"
   },
   {
    "duration": 2070,
    "start_time": "2023-10-28T23:13:13.239Z"
   },
   {
    "duration": 1394,
    "start_time": "2023-10-28T23:13:15.311Z"
   },
   {
    "duration": 836,
    "start_time": "2023-10-28T23:13:16.707Z"
   },
   {
    "duration": 135,
    "start_time": "2023-10-28T23:13:17.546Z"
   },
   {
    "duration": 14,
    "start_time": "2023-10-28T23:13:17.682Z"
   },
   {
    "duration": 237,
    "start_time": "2023-10-28T23:13:17.697Z"
   },
   {
    "duration": 4,
    "start_time": "2023-10-28T23:13:17.940Z"
   },
   {
    "duration": 295,
    "start_time": "2023-10-28T23:13:17.946Z"
   },
   {
    "duration": 104,
    "start_time": "2023-10-28T23:13:18.242Z"
   },
   {
    "duration": 14,
    "start_time": "2023-10-28T23:13:18.350Z"
   },
   {
    "duration": 333,
    "start_time": "2023-10-28T23:13:18.366Z"
   },
   {
    "duration": 110,
    "start_time": "2023-10-28T23:13:18.700Z"
   },
   {
    "duration": 269,
    "start_time": "2023-10-28T23:13:18.812Z"
   },
   {
    "duration": 61,
    "start_time": "2023-10-28T23:13:19.083Z"
   },
   {
    "duration": 288,
    "start_time": "2023-10-28T23:13:19.146Z"
   },
   {
    "duration": 299,
    "start_time": "2023-10-28T23:13:19.436Z"
   },
   {
    "duration": 105,
    "start_time": "2023-10-28T23:13:19.739Z"
   },
   {
    "duration": 44,
    "start_time": "2023-10-28T23:13:19.846Z"
   },
   {
    "duration": 110,
    "start_time": "2023-10-28T23:13:19.891Z"
   },
   {
    "duration": 27,
    "start_time": "2023-10-28T23:13:20.002Z"
   },
   {
    "duration": 85,
    "start_time": "2023-10-28T23:13:20.030Z"
   },
   {
    "duration": 3379,
    "start_time": "2023-10-28T23:13:20.117Z"
   },
   {
    "duration": 3504,
    "start_time": "2023-10-28T23:13:23.498Z"
   },
   {
    "duration": 65,
    "start_time": "2023-10-28T23:13:27.004Z"
   },
   {
    "duration": 274,
    "start_time": "2023-10-28T23:13:27.070Z"
   },
   {
    "duration": 366,
    "start_time": "2023-10-28T23:13:27.346Z"
   },
   {
    "duration": 287,
    "start_time": "2023-10-28T23:13:27.713Z"
   },
   {
    "duration": 286,
    "start_time": "2023-10-28T23:13:28.003Z"
   },
   {
    "duration": 63,
    "start_time": "2023-10-28T23:13:28.290Z"
   },
   {
    "duration": 46,
    "start_time": "2023-10-28T23:13:28.355Z"
   },
   {
    "duration": 75,
    "start_time": "2023-10-28T23:13:28.403Z"
   },
   {
    "duration": 115,
    "start_time": "2023-10-28T23:13:28.480Z"
   },
   {
    "duration": 43,
    "start_time": "2023-10-28T23:13:28.596Z"
   },
   {
    "duration": 15,
    "start_time": "2023-10-28T23:13:28.641Z"
   },
   {
    "duration": 14,
    "start_time": "2023-10-28T23:13:28.657Z"
   },
   {
    "duration": 6,
    "start_time": "2023-10-28T23:13:28.672Z"
   },
   {
    "duration": 461,
    "start_time": "2023-10-28T23:13:28.679Z"
   },
   {
    "duration": 179,
    "start_time": "2023-10-28T23:13:29.142Z"
   },
   {
    "duration": 6,
    "start_time": "2023-10-28T23:13:29.323Z"
   },
   {
    "duration": 27534,
    "start_time": "2023-10-28T23:13:29.339Z"
   },
   {
    "duration": 0,
    "start_time": "2023-10-28T23:13:56.874Z"
   },
   {
    "duration": 1,
    "start_time": "2023-10-28T23:13:56.875Z"
   },
   {
    "duration": 0,
    "start_time": "2023-10-28T23:13:56.877Z"
   },
   {
    "duration": 0,
    "start_time": "2023-10-28T23:13:56.878Z"
   },
   {
    "duration": 0,
    "start_time": "2023-10-28T23:13:56.879Z"
   },
   {
    "duration": 0,
    "start_time": "2023-10-28T23:13:56.880Z"
   },
   {
    "duration": 0,
    "start_time": "2023-10-28T23:13:56.881Z"
   },
   {
    "duration": 0,
    "start_time": "2023-10-28T23:13:56.883Z"
   },
   {
    "duration": 0,
    "start_time": "2023-10-28T23:13:56.884Z"
   },
   {
    "duration": 0,
    "start_time": "2023-10-28T23:13:56.885Z"
   },
   {
    "duration": 7,
    "start_time": "2023-10-28T23:14:04.658Z"
   },
   {
    "duration": 374,
    "start_time": "2023-10-28T23:14:06.521Z"
   },
   {
    "duration": 111,
    "start_time": "2023-10-28T23:14:10.160Z"
   },
   {
    "duration": 7,
    "start_time": "2023-10-28T23:14:14.493Z"
   },
   {
    "duration": 32,
    "start_time": "2023-10-28T23:14:16.779Z"
   },
   {
    "duration": 10,
    "start_time": "2023-10-28T23:16:25.066Z"
   },
   {
    "duration": 12,
    "start_time": "2023-10-28T23:16:37.922Z"
   },
   {
    "duration": 15,
    "start_time": "2023-10-28T23:17:14.130Z"
   },
   {
    "duration": 12,
    "start_time": "2023-10-28T23:17:21.176Z"
   },
   {
    "duration": 34,
    "start_time": "2023-10-28T23:17:22.694Z"
   },
   {
    "duration": 6,
    "start_time": "2023-10-28T23:18:18.400Z"
   },
   {
    "duration": 30,
    "start_time": "2023-10-28T23:18:20.217Z"
   },
   {
    "duration": 6,
    "start_time": "2023-10-28T23:19:23.774Z"
   },
   {
    "duration": 28,
    "start_time": "2023-10-28T23:19:27.986Z"
   },
   {
    "duration": 5,
    "start_time": "2023-10-28T23:20:18.172Z"
   },
   {
    "duration": 30,
    "start_time": "2023-10-28T23:20:19.076Z"
   },
   {
    "duration": 8,
    "start_time": "2023-10-28T23:20:52.844Z"
   },
   {
    "duration": 35,
    "start_time": "2023-10-28T23:20:55.216Z"
   },
   {
    "duration": 11,
    "start_time": "2023-10-28T23:22:12.268Z"
   },
   {
    "duration": 6,
    "start_time": "2023-10-28T23:22:22.890Z"
   },
   {
    "duration": 33,
    "start_time": "2023-10-28T23:22:25.745Z"
   },
   {
    "duration": 357,
    "start_time": "2023-10-28T23:22:48.876Z"
   },
   {
    "duration": 1300,
    "start_time": "2023-10-28T23:22:58.965Z"
   },
   {
    "duration": 1225,
    "start_time": "2023-10-28T23:23:09.057Z"
   },
   {
    "duration": 2030,
    "start_time": "2023-10-28T23:23:22.423Z"
   },
   {
    "duration": 1390,
    "start_time": "2023-10-28T23:23:24.455Z"
   },
   {
    "duration": 794,
    "start_time": "2023-10-28T23:23:25.849Z"
   },
   {
    "duration": 120,
    "start_time": "2023-10-28T23:23:26.645Z"
   },
   {
    "duration": 14,
    "start_time": "2023-10-28T23:23:26.766Z"
   },
   {
    "duration": 218,
    "start_time": "2023-10-28T23:23:26.781Z"
   },
   {
    "duration": 2,
    "start_time": "2023-10-28T23:23:27.001Z"
   },
   {
    "duration": 308,
    "start_time": "2023-10-28T23:23:27.004Z"
   },
   {
    "duration": 112,
    "start_time": "2023-10-28T23:23:27.314Z"
   },
   {
    "duration": 22,
    "start_time": "2023-10-28T23:23:27.427Z"
   },
   {
    "duration": 344,
    "start_time": "2023-10-28T23:23:27.451Z"
   },
   {
    "duration": 113,
    "start_time": "2023-10-28T23:23:27.796Z"
   },
   {
    "duration": 264,
    "start_time": "2023-10-28T23:23:27.910Z"
   },
   {
    "duration": 67,
    "start_time": "2023-10-28T23:23:28.175Z"
   },
   {
    "duration": 289,
    "start_time": "2023-10-28T23:23:28.244Z"
   },
   {
    "duration": 284,
    "start_time": "2023-10-28T23:23:28.539Z"
   },
   {
    "duration": 105,
    "start_time": "2023-10-28T23:23:28.825Z"
   },
   {
    "duration": 57,
    "start_time": "2023-10-28T23:23:28.931Z"
   },
   {
    "duration": 100,
    "start_time": "2023-10-28T23:23:28.989Z"
   },
   {
    "duration": 23,
    "start_time": "2023-10-28T23:23:29.090Z"
   },
   {
    "duration": 82,
    "start_time": "2023-10-28T23:23:29.114Z"
   },
   {
    "duration": 3307,
    "start_time": "2023-10-28T23:23:29.197Z"
   },
   {
    "duration": 3645,
    "start_time": "2023-10-28T23:23:32.506Z"
   },
   {
    "duration": 70,
    "start_time": "2023-10-28T23:23:36.153Z"
   },
   {
    "duration": 286,
    "start_time": "2023-10-28T23:23:36.225Z"
   },
   {
    "duration": 363,
    "start_time": "2023-10-28T23:23:36.513Z"
   },
   {
    "duration": 298,
    "start_time": "2023-10-28T23:23:36.879Z"
   },
   {
    "duration": 287,
    "start_time": "2023-10-28T23:23:37.178Z"
   },
   {
    "duration": 57,
    "start_time": "2023-10-28T23:23:37.467Z"
   },
   {
    "duration": 65,
    "start_time": "2023-10-28T23:23:37.525Z"
   },
   {
    "duration": 72,
    "start_time": "2023-10-28T23:23:37.591Z"
   },
   {
    "duration": 111,
    "start_time": "2023-10-28T23:23:37.665Z"
   },
   {
    "duration": 37,
    "start_time": "2023-10-28T23:23:37.777Z"
   },
   {
    "duration": 26,
    "start_time": "2023-10-28T23:23:37.815Z"
   },
   {
    "duration": 9,
    "start_time": "2023-10-28T23:23:37.843Z"
   },
   {
    "duration": 8,
    "start_time": "2023-10-28T23:23:37.854Z"
   },
   {
    "duration": 469,
    "start_time": "2023-10-28T23:23:37.864Z"
   },
   {
    "duration": 179,
    "start_time": "2023-10-28T23:23:38.334Z"
   },
   {
    "duration": 6,
    "start_time": "2023-10-28T23:23:38.514Z"
   },
   {
    "duration": 6285,
    "start_time": "2023-10-28T23:23:38.521Z"
   },
   {
    "duration": 0,
    "start_time": "2023-10-28T23:23:44.808Z"
   },
   {
    "duration": 0,
    "start_time": "2023-10-28T23:23:44.809Z"
   },
   {
    "duration": 0,
    "start_time": "2023-10-28T23:23:44.810Z"
   },
   {
    "duration": 0,
    "start_time": "2023-10-28T23:23:44.811Z"
   },
   {
    "duration": 0,
    "start_time": "2023-10-28T23:23:44.813Z"
   },
   {
    "duration": 0,
    "start_time": "2023-10-28T23:23:44.814Z"
   },
   {
    "duration": 0,
    "start_time": "2023-10-28T23:23:44.815Z"
   },
   {
    "duration": 0,
    "start_time": "2023-10-28T23:23:44.816Z"
   },
   {
    "duration": 0,
    "start_time": "2023-10-28T23:23:44.818Z"
   },
   {
    "duration": 0,
    "start_time": "2023-10-28T23:23:44.839Z"
   },
   {
    "duration": 13,
    "start_time": "2023-10-28T23:23:48.653Z"
   },
   {
    "duration": 344,
    "start_time": "2023-10-28T23:23:49.659Z"
   },
   {
    "duration": 115,
    "start_time": "2023-10-28T23:23:50.963Z"
   },
   {
    "duration": 6,
    "start_time": "2023-10-28T23:23:52.268Z"
   },
   {
    "duration": 33,
    "start_time": "2023-10-28T23:23:53.454Z"
   },
   {
    "duration": 29,
    "start_time": "2023-10-28T23:24:41.706Z"
   },
   {
    "duration": 6,
    "start_time": "2023-10-28T23:25:11.823Z"
   },
   {
    "duration": 35,
    "start_time": "2023-10-28T23:25:15.750Z"
   },
   {
    "duration": 13287,
    "start_time": "2023-10-29T06:22:24.635Z"
   },
   {
    "duration": 2258,
    "start_time": "2023-10-29T06:22:37.924Z"
   },
   {
    "duration": 938,
    "start_time": "2023-10-29T06:22:40.183Z"
   },
   {
    "duration": 151,
    "start_time": "2023-10-29T06:22:41.123Z"
   },
   {
    "duration": 16,
    "start_time": "2023-10-29T06:22:41.276Z"
   },
   {
    "duration": 282,
    "start_time": "2023-10-29T06:22:41.294Z"
   },
   {
    "duration": 3,
    "start_time": "2023-10-29T06:22:41.577Z"
   },
   {
    "duration": 338,
    "start_time": "2023-10-29T06:22:41.582Z"
   },
   {
    "duration": 125,
    "start_time": "2023-10-29T06:22:41.922Z"
   },
   {
    "duration": 9,
    "start_time": "2023-10-29T06:22:42.051Z"
   },
   {
    "duration": 347,
    "start_time": "2023-10-29T06:22:42.062Z"
   },
   {
    "duration": 122,
    "start_time": "2023-10-29T06:22:42.410Z"
   },
   {
    "duration": 269,
    "start_time": "2023-10-29T06:22:42.534Z"
   },
   {
    "duration": 62,
    "start_time": "2023-10-29T06:22:42.804Z"
   },
   {
    "duration": 330,
    "start_time": "2023-10-29T06:22:42.868Z"
   },
   {
    "duration": 308,
    "start_time": "2023-10-29T06:22:43.199Z"
   },
   {
    "duration": 125,
    "start_time": "2023-10-29T06:22:43.509Z"
   },
   {
    "duration": 45,
    "start_time": "2023-10-29T06:22:43.636Z"
   },
   {
    "duration": 106,
    "start_time": "2023-10-29T06:22:43.683Z"
   },
   {
    "duration": 33,
    "start_time": "2023-10-29T06:22:43.791Z"
   },
   {
    "duration": 103,
    "start_time": "2023-10-29T06:22:43.826Z"
   },
   {
    "duration": 3535,
    "start_time": "2023-10-29T06:22:43.930Z"
   },
   {
    "duration": 3635,
    "start_time": "2023-10-29T06:22:47.467Z"
   },
   {
    "duration": 77,
    "start_time": "2023-10-29T06:22:51.107Z"
   },
   {
    "duration": 280,
    "start_time": "2023-10-29T06:22:51.186Z"
   },
   {
    "duration": 371,
    "start_time": "2023-10-29T06:22:51.468Z"
   },
   {
    "duration": 312,
    "start_time": "2023-10-29T06:22:51.840Z"
   },
   {
    "duration": 306,
    "start_time": "2023-10-29T06:22:52.155Z"
   },
   {
    "duration": 81,
    "start_time": "2023-10-29T06:22:52.462Z"
   },
   {
    "duration": 69,
    "start_time": "2023-10-29T06:22:52.544Z"
   },
   {
    "duration": 51,
    "start_time": "2023-10-29T06:22:52.614Z"
   },
   {
    "duration": 129,
    "start_time": "2023-10-29T06:22:52.667Z"
   },
   {
    "duration": 52,
    "start_time": "2023-10-29T06:22:52.797Z"
   },
   {
    "duration": 16,
    "start_time": "2023-10-29T06:22:52.851Z"
   },
   {
    "duration": 92,
    "start_time": "2023-10-29T06:22:52.869Z"
   },
   {
    "duration": 33,
    "start_time": "2023-10-29T06:22:52.962Z"
   },
   {
    "duration": 446,
    "start_time": "2023-10-29T06:22:52.997Z"
   },
   {
    "duration": 142,
    "start_time": "2023-10-29T06:26:24.571Z"
   },
   {
    "duration": 7,
    "start_time": "2023-10-29T06:26:27.048Z"
   },
   {
    "duration": 361,
    "start_time": "2023-10-29T06:26:27.916Z"
   },
   {
    "duration": 105,
    "start_time": "2023-10-29T06:26:28.876Z"
   },
   {
    "duration": 6,
    "start_time": "2023-10-29T06:26:29.460Z"
   },
   {
    "duration": 171885,
    "start_time": "2023-10-29T06:26:30.021Z"
   },
   {
    "duration": 6,
    "start_time": "2023-10-29T06:29:24.746Z"
   },
   {
    "duration": 111,
    "start_time": "2023-10-29T06:29:25.023Z"
   },
   {
    "duration": 7358,
    "start_time": "2023-11-14T10:22:10.103Z"
   },
   {
    "duration": 1690,
    "start_time": "2023-11-14T10:22:17.464Z"
   },
   {
    "duration": 1237,
    "start_time": "2023-11-14T10:22:19.156Z"
   },
   {
    "duration": 145,
    "start_time": "2023-11-14T10:22:20.395Z"
   },
   {
    "duration": 25,
    "start_time": "2023-11-14T10:22:20.542Z"
   },
   {
    "duration": 286,
    "start_time": "2023-11-14T10:22:20.568Z"
   },
   {
    "duration": 3,
    "start_time": "2023-11-14T10:22:20.856Z"
   },
   {
    "duration": 360,
    "start_time": "2023-11-14T10:22:20.860Z"
   },
   {
    "duration": 122,
    "start_time": "2023-11-14T10:22:21.222Z"
   },
   {
    "duration": 14,
    "start_time": "2023-11-14T10:22:21.347Z"
   },
   {
    "duration": 377,
    "start_time": "2023-11-14T10:22:21.363Z"
   },
   {
    "duration": 129,
    "start_time": "2023-11-14T10:22:21.741Z"
   },
   {
    "duration": 304,
    "start_time": "2023-11-14T10:22:21.872Z"
   },
   {
    "duration": 70,
    "start_time": "2023-11-14T10:22:22.178Z"
   },
   {
    "duration": 324,
    "start_time": "2023-11-14T10:22:22.249Z"
   },
   {
    "duration": 328,
    "start_time": "2023-11-14T10:22:22.575Z"
   },
   {
    "duration": 131,
    "start_time": "2023-11-14T10:22:22.905Z"
   },
   {
    "duration": 48,
    "start_time": "2023-11-14T10:22:23.037Z"
   },
   {
    "duration": 104,
    "start_time": "2023-11-14T10:22:23.087Z"
   },
   {
    "duration": 44,
    "start_time": "2023-11-14T10:22:23.192Z"
   },
   {
    "duration": 92,
    "start_time": "2023-11-14T10:22:23.237Z"
   },
   {
    "duration": 3718,
    "start_time": "2023-11-14T10:22:23.331Z"
   },
   {
    "duration": 4074,
    "start_time": "2023-11-14T10:22:27.050Z"
   },
   {
    "duration": 90,
    "start_time": "2023-11-14T10:22:31.126Z"
   },
   {
    "duration": 305,
    "start_time": "2023-11-14T10:22:31.217Z"
   },
   {
    "duration": 447,
    "start_time": "2023-11-14T10:22:31.523Z"
   },
   {
    "duration": 342,
    "start_time": "2023-11-14T10:22:31.971Z"
   },
   {
    "duration": 316,
    "start_time": "2023-11-14T10:22:32.316Z"
   },
   {
    "duration": 88,
    "start_time": "2023-11-14T10:22:32.634Z"
   },
   {
    "duration": 59,
    "start_time": "2023-11-14T10:22:32.724Z"
   },
   {
    "duration": 77,
    "start_time": "2023-11-14T10:22:32.784Z"
   },
   {
    "duration": 134,
    "start_time": "2023-11-14T10:22:32.863Z"
   },
   {
    "duration": 59,
    "start_time": "2023-11-14T10:22:32.999Z"
   },
   {
    "duration": 17,
    "start_time": "2023-11-14T10:22:33.060Z"
   },
   {
    "duration": 9,
    "start_time": "2023-11-14T10:22:33.078Z"
   },
   {
    "duration": 23,
    "start_time": "2023-11-14T10:22:33.089Z"
   },
   {
    "duration": 497,
    "start_time": "2023-11-14T10:22:33.113Z"
   },
   {
    "duration": 183,
    "start_time": "2023-11-14T10:22:33.612Z"
   },
   {
    "duration": 15,
    "start_time": "2023-11-14T10:22:33.796Z"
   },
   {
    "duration": 396300,
    "start_time": "2023-11-14T10:22:33.812Z"
   },
   {
    "duration": 96,
    "start_time": "2023-11-14T10:29:10.115Z"
   },
   {
    "duration": 2567,
    "start_time": "2023-11-14T13:07:25.255Z"
   },
   {
    "duration": 1541,
    "start_time": "2023-11-14T13:07:27.825Z"
   },
   {
    "duration": 1009,
    "start_time": "2023-11-14T13:07:29.368Z"
   },
   {
    "duration": 162,
    "start_time": "2023-11-14T13:07:30.379Z"
   },
   {
    "duration": 36,
    "start_time": "2023-11-14T13:07:30.543Z"
   },
   {
    "duration": 297,
    "start_time": "2023-11-14T13:07:30.581Z"
   },
   {
    "duration": 3,
    "start_time": "2023-11-14T13:07:30.879Z"
   },
   {
    "duration": 352,
    "start_time": "2023-11-14T13:07:30.884Z"
   },
   {
    "duration": 127,
    "start_time": "2023-11-14T13:07:31.238Z"
   },
   {
    "duration": 12,
    "start_time": "2023-11-14T13:07:31.368Z"
   },
   {
    "duration": 392,
    "start_time": "2023-11-14T13:07:31.381Z"
   },
   {
    "duration": 123,
    "start_time": "2023-11-14T13:07:31.775Z"
   },
   {
    "duration": 304,
    "start_time": "2023-11-14T13:07:31.900Z"
   },
   {
    "duration": 72,
    "start_time": "2023-11-14T13:07:32.205Z"
   },
   {
    "duration": 334,
    "start_time": "2023-11-14T13:07:32.279Z"
   },
   {
    "duration": 341,
    "start_time": "2023-11-14T13:07:32.614Z"
   },
   {
    "duration": 135,
    "start_time": "2023-11-14T13:07:32.957Z"
   },
   {
    "duration": 53,
    "start_time": "2023-11-14T13:07:33.094Z"
   },
   {
    "duration": 107,
    "start_time": "2023-11-14T13:07:33.149Z"
   },
   {
    "duration": 29,
    "start_time": "2023-11-14T13:07:33.258Z"
   },
   {
    "duration": 98,
    "start_time": "2023-11-14T13:07:33.289Z"
   },
   {
    "duration": 3894,
    "start_time": "2023-11-14T13:07:33.388Z"
   },
   {
    "duration": 4259,
    "start_time": "2023-11-14T13:07:37.284Z"
   },
   {
    "duration": 88,
    "start_time": "2023-11-14T13:07:41.545Z"
   },
   {
    "duration": 320,
    "start_time": "2023-11-14T13:07:41.634Z"
   },
   {
    "duration": 428,
    "start_time": "2023-11-14T13:07:41.956Z"
   },
   {
    "duration": 347,
    "start_time": "2023-11-14T13:07:42.386Z"
   },
   {
    "duration": 327,
    "start_time": "2023-11-14T13:07:42.736Z"
   },
   {
    "duration": 84,
    "start_time": "2023-11-14T13:07:43.065Z"
   },
   {
    "duration": 73,
    "start_time": "2023-11-14T13:07:43.150Z"
   },
   {
    "duration": 57,
    "start_time": "2023-11-14T13:07:43.225Z"
   },
   {
    "duration": 134,
    "start_time": "2023-11-14T13:07:43.284Z"
   },
   {
    "duration": 50,
    "start_time": "2023-11-14T13:07:43.419Z"
   },
   {
    "duration": 9,
    "start_time": "2023-11-14T13:07:43.471Z"
   },
   {
    "duration": 7,
    "start_time": "2023-11-14T13:07:43.482Z"
   },
   {
    "duration": 6,
    "start_time": "2023-11-14T13:07:43.511Z"
   },
   {
    "duration": 481,
    "start_time": "2023-11-14T13:07:43.519Z"
   },
   {
    "duration": 183,
    "start_time": "2023-11-14T13:07:44.002Z"
   },
   {
    "duration": 6,
    "start_time": "2023-11-14T13:07:44.186Z"
   },
   {
    "duration": 16,
    "start_time": "2023-11-14T13:07:44.194Z"
   },
   {
    "duration": 3,
    "start_time": "2023-11-14T13:07:44.212Z"
   },
   {
    "duration": 0,
    "start_time": "2023-11-14T13:07:44.216Z"
   },
   {
    "duration": 0,
    "start_time": "2023-11-14T13:07:44.217Z"
   },
   {
    "duration": 0,
    "start_time": "2023-11-14T13:07:44.218Z"
   },
   {
    "duration": 0,
    "start_time": "2023-11-14T13:07:44.219Z"
   },
   {
    "duration": 0,
    "start_time": "2023-11-14T13:07:44.221Z"
   },
   {
    "duration": 0,
    "start_time": "2023-11-14T13:07:44.221Z"
   },
   {
    "duration": 0,
    "start_time": "2023-11-14T13:07:44.223Z"
   },
   {
    "duration": 0,
    "start_time": "2023-11-14T13:07:44.224Z"
   },
   {
    "duration": 0,
    "start_time": "2023-11-14T13:07:44.225Z"
   },
   {
    "duration": 0,
    "start_time": "2023-11-14T13:07:44.226Z"
   },
   {
    "duration": 0,
    "start_time": "2023-11-14T13:07:44.227Z"
   },
   {
    "duration": 0,
    "start_time": "2023-11-14T13:07:44.228Z"
   },
   {
    "duration": 0,
    "start_time": "2023-11-14T13:07:44.229Z"
   },
   {
    "duration": 2645,
    "start_time": "2023-11-14T13:21:55.972Z"
   },
   {
    "duration": 1541,
    "start_time": "2023-11-14T13:21:58.619Z"
   },
   {
    "duration": 1033,
    "start_time": "2023-11-14T13:22:00.162Z"
   },
   {
    "duration": 166,
    "start_time": "2023-11-14T13:22:01.197Z"
   },
   {
    "duration": 37,
    "start_time": "2023-11-14T13:22:01.365Z"
   },
   {
    "duration": 327,
    "start_time": "2023-11-14T13:22:01.404Z"
   },
   {
    "duration": 3,
    "start_time": "2023-11-14T13:22:01.733Z"
   },
   {
    "duration": 386,
    "start_time": "2023-11-14T13:22:01.737Z"
   },
   {
    "duration": 125,
    "start_time": "2023-11-14T13:22:02.124Z"
   },
   {
    "duration": 12,
    "start_time": "2023-11-14T13:22:02.252Z"
   },
   {
    "duration": 403,
    "start_time": "2023-11-14T13:22:02.265Z"
   },
   {
    "duration": 124,
    "start_time": "2023-11-14T13:22:02.670Z"
   },
   {
    "duration": 298,
    "start_time": "2023-11-14T13:22:02.796Z"
   },
   {
    "duration": 76,
    "start_time": "2023-11-14T13:22:03.096Z"
   },
   {
    "duration": 344,
    "start_time": "2023-11-14T13:22:03.174Z"
   },
   {
    "duration": 352,
    "start_time": "2023-11-14T13:22:03.520Z"
   },
   {
    "duration": 145,
    "start_time": "2023-11-14T13:22:03.874Z"
   },
   {
    "duration": 50,
    "start_time": "2023-11-14T13:22:04.020Z"
   },
   {
    "duration": 121,
    "start_time": "2023-11-14T13:22:04.072Z"
   },
   {
    "duration": 39,
    "start_time": "2023-11-14T13:22:04.195Z"
   },
   {
    "duration": 93,
    "start_time": "2023-11-14T13:22:04.236Z"
   },
   {
    "duration": 3908,
    "start_time": "2023-11-14T13:22:04.331Z"
   },
   {
    "duration": 4072,
    "start_time": "2023-11-14T13:22:08.240Z"
   },
   {
    "duration": 99,
    "start_time": "2023-11-14T13:22:12.313Z"
   },
   {
    "duration": 308,
    "start_time": "2023-11-14T13:22:12.413Z"
   },
   {
    "duration": 425,
    "start_time": "2023-11-14T13:22:12.723Z"
   },
   {
    "duration": 345,
    "start_time": "2023-11-14T13:22:13.150Z"
   },
   {
    "duration": 342,
    "start_time": "2023-11-14T13:22:13.498Z"
   },
   {
    "duration": 90,
    "start_time": "2023-11-14T13:22:13.842Z"
   },
   {
    "duration": 60,
    "start_time": "2023-11-14T13:22:13.933Z"
   },
   {
    "duration": 56,
    "start_time": "2023-11-14T13:22:14.011Z"
   },
   {
    "duration": 142,
    "start_time": "2023-11-14T13:22:14.069Z"
   },
   {
    "duration": 51,
    "start_time": "2023-11-14T13:22:14.213Z"
   },
   {
    "duration": 10,
    "start_time": "2023-11-14T13:22:14.266Z"
   },
   {
    "duration": 25,
    "start_time": "2023-11-14T13:22:14.277Z"
   },
   {
    "duration": 10,
    "start_time": "2023-11-14T13:22:14.304Z"
   },
   {
    "duration": 508,
    "start_time": "2023-11-14T13:22:14.316Z"
   },
   {
    "duration": 194,
    "start_time": "2023-11-14T13:22:14.825Z"
   },
   {
    "duration": 7,
    "start_time": "2023-11-14T13:22:15.020Z"
   },
   {
    "duration": 64,
    "start_time": "2023-11-14T13:22:15.029Z"
   },
   {
    "duration": 392018,
    "start_time": "2023-11-14T13:22:15.095Z"
   },
   {
    "duration": 4,
    "start_time": "2023-11-14T13:28:47.115Z"
   },
   {
    "duration": 18,
    "start_time": "2023-11-14T13:28:47.121Z"
   },
   {
    "duration": 6,
    "start_time": "2023-11-14T13:28:47.141Z"
   },
   {
    "duration": 2696,
    "start_time": "2023-11-14T15:36:12.463Z"
   },
   {
    "duration": 1522,
    "start_time": "2023-11-14T15:36:15.161Z"
   },
   {
    "duration": 1040,
    "start_time": "2023-11-14T15:36:16.685Z"
   },
   {
    "duration": 170,
    "start_time": "2023-11-14T15:36:17.727Z"
   },
   {
    "duration": 22,
    "start_time": "2023-11-14T15:36:17.898Z"
   },
   {
    "duration": 305,
    "start_time": "2023-11-14T15:36:17.921Z"
   },
   {
    "duration": 3,
    "start_time": "2023-11-14T15:36:18.228Z"
   },
   {
    "duration": 384,
    "start_time": "2023-11-14T15:36:18.232Z"
   },
   {
    "duration": 138,
    "start_time": "2023-11-14T15:36:18.618Z"
   },
   {
    "duration": 10,
    "start_time": "2023-11-14T15:36:18.759Z"
   },
   {
    "duration": 388,
    "start_time": "2023-11-14T15:36:18.771Z"
   },
   {
    "duration": 135,
    "start_time": "2023-11-14T15:36:19.160Z"
   },
   {
    "duration": 295,
    "start_time": "2023-11-14T15:36:19.297Z"
   },
   {
    "duration": 80,
    "start_time": "2023-11-14T15:36:19.594Z"
   },
   {
    "duration": 335,
    "start_time": "2023-11-14T15:36:19.676Z"
   },
   {
    "duration": 341,
    "start_time": "2023-11-14T15:36:20.013Z"
   },
   {
    "duration": 139,
    "start_time": "2023-11-14T15:36:20.356Z"
   },
   {
    "duration": 57,
    "start_time": "2023-11-14T15:36:20.497Z"
   },
   {
    "duration": 112,
    "start_time": "2023-11-14T15:36:20.555Z"
   },
   {
    "duration": 32,
    "start_time": "2023-11-14T15:36:20.668Z"
   },
   {
    "duration": 120,
    "start_time": "2023-11-14T15:36:20.702Z"
   },
   {
    "duration": 3825,
    "start_time": "2023-11-14T15:36:20.824Z"
   },
   {
    "duration": 4261,
    "start_time": "2023-11-14T15:36:24.651Z"
   },
   {
    "duration": 103,
    "start_time": "2023-11-14T15:36:28.913Z"
   },
   {
    "duration": 326,
    "start_time": "2023-11-14T15:36:29.018Z"
   },
   {
    "duration": 467,
    "start_time": "2023-11-14T15:36:29.346Z"
   },
   {
    "duration": 343,
    "start_time": "2023-11-14T15:36:29.814Z"
   },
   {
    "duration": 338,
    "start_time": "2023-11-14T15:36:30.161Z"
   },
   {
    "duration": 119,
    "start_time": "2023-11-14T15:36:30.502Z"
   },
   {
    "duration": 141,
    "start_time": "2023-11-14T15:36:30.624Z"
   },
   {
    "duration": 60,
    "start_time": "2023-11-14T15:36:30.767Z"
   },
   {
    "duration": 136,
    "start_time": "2023-11-14T15:36:30.829Z"
   },
   {
    "duration": 59,
    "start_time": "2023-11-14T15:36:30.967Z"
   },
   {
    "duration": 10,
    "start_time": "2023-11-14T15:36:31.028Z"
   },
   {
    "duration": 30,
    "start_time": "2023-11-14T15:36:31.040Z"
   },
   {
    "duration": 22,
    "start_time": "2023-11-14T15:36:31.071Z"
   },
   {
    "duration": 521,
    "start_time": "2023-11-14T15:36:31.095Z"
   },
   {
    "duration": 216,
    "start_time": "2023-11-14T15:36:31.617Z"
   },
   {
    "duration": 6,
    "start_time": "2023-11-14T15:36:31.834Z"
   },
   {
    "duration": 16,
    "start_time": "2023-11-14T15:36:31.842Z"
   },
   {
    "duration": 400956,
    "start_time": "2023-11-14T15:36:31.860Z"
   },
   {
    "duration": 5,
    "start_time": "2023-11-14T15:43:12.817Z"
   },
   {
    "duration": 25,
    "start_time": "2023-11-14T15:43:12.824Z"
   },
   {
    "duration": 16,
    "start_time": "2023-11-14T15:43:12.851Z"
   },
   {
    "duration": 8338,
    "start_time": "2023-11-14T19:46:28.286Z"
   },
   {
    "duration": 1840,
    "start_time": "2023-11-14T19:46:36.627Z"
   },
   {
    "duration": 1253,
    "start_time": "2023-11-14T19:46:38.469Z"
   },
   {
    "duration": 164,
    "start_time": "2023-11-14T19:46:39.725Z"
   },
   {
    "duration": 34,
    "start_time": "2023-11-14T19:46:39.892Z"
   },
   {
    "duration": 319,
    "start_time": "2023-11-14T19:46:39.928Z"
   },
   {
    "duration": 4,
    "start_time": "2023-11-14T19:46:40.248Z"
   },
   {
    "duration": 382,
    "start_time": "2023-11-14T19:46:40.254Z"
   },
   {
    "duration": 132,
    "start_time": "2023-11-14T19:46:40.638Z"
   },
   {
    "duration": 14,
    "start_time": "2023-11-14T19:46:40.773Z"
   },
   {
    "duration": 410,
    "start_time": "2023-11-14T19:46:40.789Z"
   },
   {
    "duration": 135,
    "start_time": "2023-11-14T19:46:41.200Z"
   },
   {
    "duration": 323,
    "start_time": "2023-11-14T19:46:41.337Z"
   },
   {
    "duration": 84,
    "start_time": "2023-11-14T19:46:41.662Z"
   },
   {
    "duration": 367,
    "start_time": "2023-11-14T19:46:41.748Z"
   },
   {
    "duration": 352,
    "start_time": "2023-11-14T19:46:42.118Z"
   },
   {
    "duration": 157,
    "start_time": "2023-11-14T19:46:42.472Z"
   },
   {
    "duration": 59,
    "start_time": "2023-11-14T19:46:42.632Z"
   },
   {
    "duration": 136,
    "start_time": "2023-11-14T19:46:42.693Z"
   },
   {
    "duration": 29,
    "start_time": "2023-11-14T19:46:42.830Z"
   },
   {
    "duration": 107,
    "start_time": "2023-11-14T19:46:42.861Z"
   },
   {
    "duration": 3966,
    "start_time": "2023-11-14T19:46:42.969Z"
   },
   {
    "duration": 4397,
    "start_time": "2023-11-14T19:46:46.936Z"
   },
   {
    "duration": 95,
    "start_time": "2023-11-14T19:46:51.335Z"
   },
   {
    "duration": 455,
    "start_time": "2023-11-14T19:46:51.432Z"
   },
   {
    "duration": 372,
    "start_time": "2023-11-14T19:46:51.889Z"
   },
   {
    "duration": 358,
    "start_time": "2023-11-14T19:46:52.264Z"
   },
   {
    "duration": 345,
    "start_time": "2023-11-14T19:46:52.628Z"
   },
   {
    "duration": 89,
    "start_time": "2023-11-14T19:46:52.974Z"
   },
   {
    "duration": 80,
    "start_time": "2023-11-14T19:46:53.065Z"
   },
   {
    "duration": 76,
    "start_time": "2023-11-14T19:46:53.146Z"
   },
   {
    "duration": 135,
    "start_time": "2023-11-14T19:46:53.225Z"
   },
   {
    "duration": 57,
    "start_time": "2023-11-14T19:46:53.362Z"
   },
   {
    "duration": 12,
    "start_time": "2023-11-14T19:46:53.421Z"
   },
   {
    "duration": 8,
    "start_time": "2023-11-14T19:46:53.435Z"
   },
   {
    "duration": 7,
    "start_time": "2023-11-14T19:46:53.444Z"
   },
   {
    "duration": 579,
    "start_time": "2023-11-14T19:46:53.453Z"
   },
   {
    "duration": 206,
    "start_time": "2023-11-14T19:46:54.034Z"
   },
   {
    "duration": 6,
    "start_time": "2023-11-14T19:46:54.242Z"
   },
   {
    "duration": 10,
    "start_time": "2023-11-14T19:46:54.250Z"
   },
   {
    "duration": 355121,
    "start_time": "2023-11-14T19:46:54.261Z"
   },
   {
    "duration": 0,
    "start_time": "2023-11-14T19:52:49.384Z"
   },
   {
    "duration": 0,
    "start_time": "2023-11-14T19:52:49.385Z"
   },
   {
    "duration": 0,
    "start_time": "2023-11-14T19:52:49.387Z"
   },
   {
    "duration": 0,
    "start_time": "2023-11-14T19:52:49.388Z"
   },
   {
    "duration": 0,
    "start_time": "2023-11-14T19:52:49.389Z"
   },
   {
    "duration": 0,
    "start_time": "2023-11-14T19:52:49.390Z"
   },
   {
    "duration": 0,
    "start_time": "2023-11-14T19:52:49.391Z"
   },
   {
    "duration": 0,
    "start_time": "2023-11-14T19:52:49.392Z"
   },
   {
    "duration": 0,
    "start_time": "2023-11-14T19:52:49.393Z"
   },
   {
    "duration": 0,
    "start_time": "2023-11-14T19:52:49.395Z"
   },
   {
    "duration": 0,
    "start_time": "2023-11-14T19:52:49.396Z"
   },
   {
    "duration": 0,
    "start_time": "2023-11-14T19:52:49.397Z"
   },
   {
    "duration": 0,
    "start_time": "2023-11-14T19:52:49.398Z"
   },
   {
    "duration": 3,
    "start_time": "2023-11-14T19:53:07.777Z"
   },
   {
    "duration": 2752,
    "start_time": "2023-11-14T19:53:09.855Z"
   },
   {
    "duration": 10,
    "start_time": "2023-11-14T19:53:12.610Z"
   },
   {
    "duration": 970,
    "start_time": "2023-11-14T19:53:12.622Z"
   },
   {
    "duration": 3,
    "start_time": "2023-11-14T19:53:13.594Z"
   },
   {
    "duration": 28,
    "start_time": "2023-11-14T19:53:13.599Z"
   },
   {
    "duration": 15,
    "start_time": "2023-11-14T19:53:13.631Z"
   },
   {
    "duration": 18,
    "start_time": "2023-11-14T19:53:13.648Z"
   },
   {
    "duration": 4,
    "start_time": "2023-11-14T19:53:13.668Z"
   },
   {
    "duration": 12,
    "start_time": "2023-11-14T19:53:13.673Z"
   },
   {
    "duration": 20,
    "start_time": "2023-11-14T19:53:13.710Z"
   },
   {
    "duration": 12,
    "start_time": "2023-11-14T19:53:13.732Z"
   },
   {
    "duration": 346,
    "start_time": "2023-11-14T19:53:13.746Z"
   },
   {
    "duration": 13,
    "start_time": "2023-11-14T19:53:14.094Z"
   },
   {
    "duration": 442,
    "start_time": "2023-11-14T19:53:14.111Z"
   },
   {
    "duration": 6,
    "start_time": "2023-11-14T19:53:14.555Z"
   },
   {
    "duration": 312,
    "start_time": "2023-11-14T19:53:14.563Z"
   },
   {
    "duration": 320,
    "start_time": "2023-11-14T19:53:14.877Z"
   },
   {
    "duration": 8,
    "start_time": "2023-11-14T19:53:15.199Z"
   },
   {
    "duration": 8,
    "start_time": "2023-11-14T19:53:15.224Z"
   },
   {
    "duration": 47,
    "start_time": "2023-11-14T19:53:15.234Z"
   },
   {
    "duration": 42,
    "start_time": "2023-11-14T19:53:15.283Z"
   },
   {
    "duration": 12,
    "start_time": "2023-11-14T19:53:15.326Z"
   },
   {
    "duration": 1474,
    "start_time": "2023-11-14T19:53:15.339Z"
   },
   {
    "duration": 0,
    "start_time": "2023-11-14T19:53:16.816Z"
   },
   {
    "duration": 0,
    "start_time": "2023-11-14T19:53:16.817Z"
   },
   {
    "duration": 0,
    "start_time": "2023-11-14T19:53:16.820Z"
   },
   {
    "duration": 0,
    "start_time": "2023-11-14T19:53:16.821Z"
   },
   {
    "duration": 0,
    "start_time": "2023-11-14T19:53:16.823Z"
   },
   {
    "duration": 0,
    "start_time": "2023-11-14T19:53:16.826Z"
   },
   {
    "duration": 0,
    "start_time": "2023-11-14T19:53:16.827Z"
   },
   {
    "duration": 0,
    "start_time": "2023-11-14T19:53:16.829Z"
   },
   {
    "duration": 0,
    "start_time": "2023-11-14T19:53:16.831Z"
   },
   {
    "duration": 0,
    "start_time": "2023-11-14T19:53:16.833Z"
   },
   {
    "duration": 0,
    "start_time": "2023-11-14T19:53:16.835Z"
   },
   {
    "duration": 0,
    "start_time": "2023-11-14T19:53:16.836Z"
   },
   {
    "duration": 0,
    "start_time": "2023-11-14T19:53:16.837Z"
   },
   {
    "duration": 0,
    "start_time": "2023-11-14T19:53:16.837Z"
   },
   {
    "duration": 0,
    "start_time": "2023-11-14T19:53:16.839Z"
   },
   {
    "duration": 0,
    "start_time": "2023-11-14T19:53:16.840Z"
   },
   {
    "duration": 0,
    "start_time": "2023-11-14T19:53:16.841Z"
   },
   {
    "duration": 0,
    "start_time": "2023-11-14T19:53:16.843Z"
   },
   {
    "duration": 0,
    "start_time": "2023-11-14T19:53:16.844Z"
   },
   {
    "duration": 0,
    "start_time": "2023-11-14T19:53:16.846Z"
   },
   {
    "duration": 0,
    "start_time": "2023-11-14T19:53:16.847Z"
   },
   {
    "duration": 0,
    "start_time": "2023-11-14T19:53:16.849Z"
   },
   {
    "duration": 0,
    "start_time": "2023-11-14T19:53:16.850Z"
   },
   {
    "duration": 0,
    "start_time": "2023-11-14T19:53:16.852Z"
   },
   {
    "duration": 1,
    "start_time": "2023-11-14T19:53:16.853Z"
   },
   {
    "duration": 0,
    "start_time": "2023-11-14T19:53:16.855Z"
   },
   {
    "duration": 0,
    "start_time": "2023-11-14T19:53:16.911Z"
   },
   {
    "duration": 0,
    "start_time": "2023-11-14T19:53:16.913Z"
   },
   {
    "duration": 0,
    "start_time": "2023-11-14T19:53:16.914Z"
   },
   {
    "duration": 0,
    "start_time": "2023-11-14T19:53:16.916Z"
   },
   {
    "duration": 0,
    "start_time": "2023-11-14T19:53:16.917Z"
   },
   {
    "duration": 0,
    "start_time": "2023-11-14T19:53:16.918Z"
   },
   {
    "duration": 1190,
    "start_time": "2023-11-14T19:53:36.719Z"
   },
   {
    "duration": 0,
    "start_time": "2023-11-14T19:53:37.915Z"
   },
   {
    "duration": 318,
    "start_time": "2023-11-14T19:53:38.323Z"
   },
   {
    "duration": 334,
    "start_time": "2023-11-14T19:53:39.309Z"
   },
   {
    "duration": 446,
    "start_time": "2023-11-14T19:53:39.899Z"
   },
   {
    "duration": 330,
    "start_time": "2023-11-14T19:53:40.346Z"
   },
   {
    "duration": 11,
    "start_time": "2023-11-14T19:53:40.678Z"
   },
   {
    "duration": 10,
    "start_time": "2023-11-14T19:53:41.043Z"
   },
   {
    "duration": 10,
    "start_time": "2023-11-14T19:53:41.243Z"
   },
   {
    "duration": 19,
    "start_time": "2023-11-14T19:53:42.397Z"
   },
   {
    "duration": 12,
    "start_time": "2023-11-14T19:53:43.464Z"
   },
   {
    "duration": 7,
    "start_time": "2023-11-14T19:53:43.923Z"
   },
   {
    "duration": 7,
    "start_time": "2023-11-14T19:53:44.126Z"
   },
   {
    "duration": 4,
    "start_time": "2023-11-14T19:53:44.552Z"
   },
   {
    "duration": 29,
    "start_time": "2023-11-14T19:53:45.095Z"
   },
   {
    "duration": 13,
    "start_time": "2023-11-14T19:54:07.788Z"
   },
   {
    "duration": 12,
    "start_time": "2023-11-14T19:54:11.407Z"
   },
   {
    "duration": 6,
    "start_time": "2023-11-14T19:54:13.051Z"
   },
   {
    "duration": 6,
    "start_time": "2023-11-14T19:54:13.391Z"
   },
   {
    "duration": 6,
    "start_time": "2023-11-14T19:54:13.553Z"
   },
   {
    "duration": 3,
    "start_time": "2023-11-14T19:54:13.924Z"
   },
   {
    "duration": 37,
    "start_time": "2023-11-14T19:54:14.293Z"
   },
   {
    "duration": 948,
    "start_time": "2023-11-14T19:54:28.349Z"
   },
   {
    "duration": 3,
    "start_time": "2023-11-14T19:54:29.299Z"
   },
   {
    "duration": 21,
    "start_time": "2023-11-14T19:54:29.304Z"
   },
   {
    "duration": 13,
    "start_time": "2023-11-14T19:54:29.327Z"
   },
   {
    "duration": 9,
    "start_time": "2023-11-14T19:54:29.379Z"
   },
   {
    "duration": 4,
    "start_time": "2023-11-14T19:54:29.958Z"
   },
   {
    "duration": 20,
    "start_time": "2023-11-14T19:54:30.042Z"
   },
   {
    "duration": 13,
    "start_time": "2023-11-14T19:54:30.391Z"
   },
   {
    "duration": 6,
    "start_time": "2023-11-14T19:54:30.553Z"
   },
   {
    "duration": 336,
    "start_time": "2023-11-14T19:54:30.711Z"
   },
   {
    "duration": 13,
    "start_time": "2023-11-14T19:54:31.525Z"
   },
   {
    "duration": 299,
    "start_time": "2023-11-14T19:54:32.153Z"
   },
   {
    "duration": 6,
    "start_time": "2023-11-14T19:54:32.660Z"
   },
   {
    "duration": 292,
    "start_time": "2023-11-14T19:54:33.059Z"
   },
   {
    "duration": 303,
    "start_time": "2023-11-14T19:54:33.461Z"
   },
   {
    "duration": 9,
    "start_time": "2023-11-14T19:54:34.029Z"
   },
   {
    "duration": 7,
    "start_time": "2023-11-14T19:54:34.257Z"
   },
   {
    "duration": 56,
    "start_time": "2023-11-14T19:54:34.469Z"
   },
   {
    "duration": 40,
    "start_time": "2023-11-14T19:54:34.701Z"
   },
   {
    "duration": 10,
    "start_time": "2023-11-14T19:54:34.957Z"
   },
   {
    "duration": 148,
    "start_time": "2023-11-14T19:54:35.650Z"
   },
   {
    "duration": 70,
    "start_time": "2023-11-14T19:54:36.153Z"
   },
   {
    "duration": 9,
    "start_time": "2023-11-14T19:54:36.890Z"
   },
   {
    "duration": 324,
    "start_time": "2023-11-14T19:54:37.625Z"
   },
   {
    "duration": 326,
    "start_time": "2023-11-14T19:54:38.109Z"
   },
   {
    "duration": 315,
    "start_time": "2023-11-14T19:54:38.762Z"
   },
   {
    "duration": 307,
    "start_time": "2023-11-14T19:54:39.184Z"
   },
   {
    "duration": 12,
    "start_time": "2023-11-14T19:54:39.667Z"
   },
   {
    "duration": 10,
    "start_time": "2023-11-14T19:54:40.133Z"
   },
   {
    "duration": 10,
    "start_time": "2023-11-14T19:54:40.481Z"
   },
   {
    "duration": 20,
    "start_time": "2023-11-14T19:54:41.664Z"
   },
   {
    "duration": 7,
    "start_time": "2023-11-14T19:54:41.866Z"
   },
   {
    "duration": 6,
    "start_time": "2023-11-14T19:54:42.428Z"
   },
   {
    "duration": 11,
    "start_time": "2023-11-14T19:54:42.618Z"
   },
   {
    "duration": 4,
    "start_time": "2023-11-14T19:54:43.298Z"
   },
   {
    "duration": 76,
    "start_time": "2023-11-14T19:54:43.557Z"
   },
   {
    "duration": 64,
    "start_time": "2023-11-14T19:54:45.043Z"
   },
   {
    "duration": 3,
    "start_time": "2023-11-14T19:54:45.586Z"
   },
   {
    "duration": 6,
    "start_time": "2023-11-14T19:54:46.158Z"
   },
   {
    "duration": 3131,
    "start_time": "2023-11-14T19:54:46.597Z"
   },
   {
    "duration": 4,
    "start_time": "2023-11-14T19:54:49.732Z"
   },
   {
    "duration": 3,
    "start_time": "2023-11-14T19:54:50.791Z"
   },
   {
    "duration": 7,
    "start_time": "2023-11-14T19:54:51.139Z"
   },
   {
    "duration": 28493,
    "start_time": "2023-11-14T19:54:51.489Z"
   },
   {
    "duration": 4,
    "start_time": "2023-11-14T19:55:19.983Z"
   },
   {
    "duration": 27,
    "start_time": "2023-11-14T19:55:19.989Z"
   },
   {
    "duration": 9,
    "start_time": "2023-11-14T19:55:20.019Z"
   },
   {
    "duration": 24,
    "start_time": "2023-11-14T19:55:20.029Z"
   },
   {
    "duration": 129,
    "start_time": "2023-11-14T19:55:20.055Z"
   },
   {
    "duration": 10,
    "start_time": "2023-11-14T19:55:20.186Z"
   },
   {
    "duration": 0,
    "start_time": "2023-11-14T19:55:20.197Z"
   },
   {
    "duration": 4,
    "start_time": "2023-11-14T19:55:58.724Z"
   },
   {
    "duration": 138,
    "start_time": "2023-11-14T19:55:59.595Z"
   },
   {
    "duration": 8257,
    "start_time": "2023-11-15T00:13:40.999Z"
   },
   {
    "duration": 1732,
    "start_time": "2023-11-15T00:13:49.259Z"
   },
   {
    "duration": 1171,
    "start_time": "2023-11-15T00:13:50.992Z"
   },
   {
    "duration": 163,
    "start_time": "2023-11-15T00:13:52.166Z"
   },
   {
    "duration": 22,
    "start_time": "2023-11-15T00:13:52.330Z"
   },
   {
    "duration": 265,
    "start_time": "2023-11-15T00:13:52.354Z"
   },
   {
    "duration": 3,
    "start_time": "2023-11-15T00:13:52.620Z"
   },
   {
    "duration": 311,
    "start_time": "2023-11-15T00:13:52.625Z"
   },
   {
    "duration": 126,
    "start_time": "2023-11-15T00:13:52.938Z"
   },
   {
    "duration": 7,
    "start_time": "2023-11-15T00:13:53.067Z"
   },
   {
    "duration": 370,
    "start_time": "2023-11-15T00:13:53.076Z"
   },
   {
    "duration": 117,
    "start_time": "2023-11-15T00:13:53.447Z"
   },
   {
    "duration": 254,
    "start_time": "2023-11-15T00:13:53.566Z"
   },
   {
    "duration": 63,
    "start_time": "2023-11-15T00:13:53.821Z"
   },
   {
    "duration": 290,
    "start_time": "2023-11-15T00:13:53.885Z"
   },
   {
    "duration": 314,
    "start_time": "2023-11-15T00:13:54.176Z"
   },
   {
    "duration": 119,
    "start_time": "2023-11-15T00:13:54.492Z"
   },
   {
    "duration": 53,
    "start_time": "2023-11-15T00:13:54.613Z"
   },
   {
    "duration": 94,
    "start_time": "2023-11-15T00:13:54.668Z"
   },
   {
    "duration": 26,
    "start_time": "2023-11-15T00:13:54.764Z"
   },
   {
    "duration": 96,
    "start_time": "2023-11-15T00:13:54.792Z"
   },
   {
    "duration": 3598,
    "start_time": "2023-11-15T00:13:54.890Z"
   },
   {
    "duration": 3653,
    "start_time": "2023-11-15T00:13:58.490Z"
   },
   {
    "duration": 76,
    "start_time": "2023-11-15T00:14:02.145Z"
   },
   {
    "duration": 269,
    "start_time": "2023-11-15T00:14:02.222Z"
   },
   {
    "duration": 386,
    "start_time": "2023-11-15T00:14:02.493Z"
   },
   {
    "duration": 329,
    "start_time": "2023-11-15T00:14:02.881Z"
   },
   {
    "duration": 293,
    "start_time": "2023-11-15T00:14:03.213Z"
   },
   {
    "duration": 76,
    "start_time": "2023-11-15T00:14:03.508Z"
   },
   {
    "duration": 70,
    "start_time": "2023-11-15T00:14:03.585Z"
   },
   {
    "duration": 59,
    "start_time": "2023-11-15T00:14:03.656Z"
   },
   {
    "duration": 122,
    "start_time": "2023-11-15T00:14:03.716Z"
   },
   {
    "duration": 47,
    "start_time": "2023-11-15T00:14:03.839Z"
   },
   {
    "duration": 8,
    "start_time": "2023-11-15T00:14:03.888Z"
   },
   {
    "duration": 9,
    "start_time": "2023-11-15T00:14:03.897Z"
   },
   {
    "duration": 13,
    "start_time": "2023-11-15T00:14:03.907Z"
   },
   {
    "duration": 447,
    "start_time": "2023-11-15T00:14:03.922Z"
   },
   {
    "duration": 187,
    "start_time": "2023-11-15T00:14:04.371Z"
   },
   {
    "duration": 7,
    "start_time": "2023-11-15T00:14:04.560Z"
   },
   {
    "duration": 4,
    "start_time": "2023-11-15T00:14:04.568Z"
   },
   {
    "duration": 158731,
    "start_time": "2023-11-15T00:14:04.573Z"
   },
   {
    "duration": 16,
    "start_time": "2023-11-15T00:16:43.306Z"
   },
   {
    "duration": 0,
    "start_time": "2023-11-15T00:16:43.324Z"
   },
   {
    "duration": 0,
    "start_time": "2023-11-15T00:16:43.325Z"
   },
   {
    "duration": 0,
    "start_time": "2023-11-15T00:16:43.326Z"
   },
   {
    "duration": 0,
    "start_time": "2023-11-15T00:16:43.326Z"
   },
   {
    "duration": 0,
    "start_time": "2023-11-15T00:16:43.328Z"
   },
   {
    "duration": 0,
    "start_time": "2023-11-15T00:16:43.328Z"
   },
   {
    "duration": 0,
    "start_time": "2023-11-15T00:16:43.329Z"
   },
   {
    "duration": 0,
    "start_time": "2023-11-15T00:16:43.331Z"
   },
   {
    "duration": 0,
    "start_time": "2023-11-15T00:16:43.332Z"
   },
   {
    "duration": 0,
    "start_time": "2023-11-15T00:16:43.333Z"
   },
   {
    "duration": 0,
    "start_time": "2023-11-15T00:16:43.334Z"
   },
   {
    "duration": 0,
    "start_time": "2023-11-15T00:16:43.335Z"
   },
   {
    "duration": 6,
    "start_time": "2023-11-15T00:17:07.779Z"
   },
   {
    "duration": 7,
    "start_time": "2023-11-15T00:17:09.832Z"
   },
   {
    "duration": 131,
    "start_time": "2023-11-15T00:17:14.435Z"
   },
   {
    "duration": 4,
    "start_time": "2023-11-15T00:18:08.007Z"
   },
   {
    "duration": 148,
    "start_time": "2023-11-15T00:18:09.271Z"
   },
   {
    "duration": 7,
    "start_time": "2023-11-15T00:18:17.307Z"
   },
   {
    "duration": 3,
    "start_time": "2023-11-15T00:18:18.671Z"
   },
   {
    "duration": 338,
    "start_time": "2023-11-15T00:18:20.355Z"
   },
   {
    "duration": 4,
    "start_time": "2023-11-15T00:19:28.523Z"
   },
   {
    "duration": 140,
    "start_time": "2023-11-15T00:19:30.044Z"
   },
   {
    "duration": 4,
    "start_time": "2023-11-15T00:19:46.022Z"
   },
   {
    "duration": 112,
    "start_time": "2023-11-15T00:19:48.430Z"
   },
   {
    "duration": 4,
    "start_time": "2023-11-15T00:20:28.944Z"
   },
   {
    "duration": 130,
    "start_time": "2023-11-15T00:20:30.329Z"
   },
   {
    "duration": 4,
    "start_time": "2023-11-15T00:23:00.166Z"
   },
   {
    "duration": 417925,
    "start_time": "2023-11-15T00:23:01.672Z"
   },
   {
    "duration": 3,
    "start_time": "2023-11-15T00:31:12.791Z"
   },
   {
    "duration": 11,
    "start_time": "2023-11-15T00:31:17.243Z"
   },
   {
    "duration": 83,
    "start_time": "2023-11-15T00:32:11.374Z"
   },
   {
    "duration": 79,
    "start_time": "2023-11-15T00:32:39.006Z"
   },
   {
    "duration": 685,
    "start_time": "2023-11-15T00:34:09.171Z"
   },
   {
    "duration": 4,
    "start_time": "2023-11-15T00:34:14.611Z"
   },
   {
    "duration": 7478,
    "start_time": "2023-11-15T09:55:03.611Z"
   },
   {
    "duration": 1724,
    "start_time": "2023-11-15T09:55:11.092Z"
   },
   {
    "duration": 3140,
    "start_time": "2023-11-15T09:55:12.819Z"
   },
   {
    "duration": 155,
    "start_time": "2023-11-15T09:55:15.961Z"
   },
   {
    "duration": 33,
    "start_time": "2023-11-15T09:55:16.117Z"
   },
   {
    "duration": 306,
    "start_time": "2023-11-15T09:55:16.152Z"
   },
   {
    "duration": 3,
    "start_time": "2023-11-15T09:55:16.459Z"
   },
   {
    "duration": 339,
    "start_time": "2023-11-15T09:55:16.464Z"
   },
   {
    "duration": 127,
    "start_time": "2023-11-15T09:55:16.805Z"
   },
   {
    "duration": 24,
    "start_time": "2023-11-15T09:55:16.934Z"
   },
   {
    "duration": 403,
    "start_time": "2023-11-15T09:55:16.960Z"
   },
   {
    "duration": 127,
    "start_time": "2023-11-15T09:55:17.364Z"
   },
   {
    "duration": 297,
    "start_time": "2023-11-15T09:55:17.493Z"
   },
   {
    "duration": 79,
    "start_time": "2023-11-15T09:55:17.792Z"
   },
   {
    "duration": 347,
    "start_time": "2023-11-15T09:55:17.873Z"
   },
   {
    "duration": 338,
    "start_time": "2023-11-15T09:55:18.222Z"
   },
   {
    "duration": 142,
    "start_time": "2023-11-15T09:55:18.562Z"
   },
   {
    "duration": 60,
    "start_time": "2023-11-15T09:55:18.706Z"
   },
   {
    "duration": 114,
    "start_time": "2023-11-15T09:55:18.768Z"
   },
   {
    "duration": 33,
    "start_time": "2023-11-15T09:55:18.884Z"
   },
   {
    "duration": 129,
    "start_time": "2023-11-15T09:55:18.919Z"
   },
   {
    "duration": 3921,
    "start_time": "2023-11-15T09:55:19.050Z"
   },
   {
    "duration": 4347,
    "start_time": "2023-11-15T09:55:22.973Z"
   },
   {
    "duration": 93,
    "start_time": "2023-11-15T09:55:27.321Z"
   },
   {
    "duration": 379,
    "start_time": "2023-11-15T09:55:27.415Z"
   },
   {
    "duration": 438,
    "start_time": "2023-11-15T09:55:27.796Z"
   },
   {
    "duration": 325,
    "start_time": "2023-11-15T09:55:28.236Z"
   },
   {
    "duration": 342,
    "start_time": "2023-11-15T09:55:28.565Z"
   },
   {
    "duration": 96,
    "start_time": "2023-11-15T09:55:28.909Z"
   },
   {
    "duration": 78,
    "start_time": "2023-11-15T09:55:29.008Z"
   },
   {
    "duration": 75,
    "start_time": "2023-11-15T09:55:29.087Z"
   },
   {
    "duration": 133,
    "start_time": "2023-11-15T09:55:29.164Z"
   },
   {
    "duration": 53,
    "start_time": "2023-11-15T09:55:29.298Z"
   },
   {
    "duration": 9,
    "start_time": "2023-11-15T09:55:29.352Z"
   },
   {
    "duration": 9,
    "start_time": "2023-11-15T09:55:29.363Z"
   },
   {
    "duration": 17,
    "start_time": "2023-11-15T09:55:29.373Z"
   },
   {
    "duration": 517,
    "start_time": "2023-11-15T09:55:29.391Z"
   },
   {
    "duration": 237,
    "start_time": "2023-11-15T09:55:29.910Z"
   },
   {
    "duration": 8,
    "start_time": "2023-11-15T09:55:30.148Z"
   },
   {
    "duration": 33,
    "start_time": "2023-11-15T09:55:30.157Z"
   },
   {
    "duration": 21685,
    "start_time": "2023-11-15T09:55:30.192Z"
   },
   {
    "duration": 15,
    "start_time": "2023-11-15T09:55:51.879Z"
   },
   {
    "duration": 0,
    "start_time": "2023-11-15T09:55:51.896Z"
   },
   {
    "duration": 0,
    "start_time": "2023-11-15T09:55:51.897Z"
   },
   {
    "duration": 0,
    "start_time": "2023-11-15T09:55:51.899Z"
   },
   {
    "duration": 0,
    "start_time": "2023-11-15T09:55:51.900Z"
   },
   {
    "duration": 0,
    "start_time": "2023-11-15T09:55:51.902Z"
   },
   {
    "duration": 0,
    "start_time": "2023-11-15T09:55:51.903Z"
   },
   {
    "duration": 0,
    "start_time": "2023-11-15T09:55:51.904Z"
   },
   {
    "duration": 0,
    "start_time": "2023-11-15T09:55:51.905Z"
   },
   {
    "duration": 0,
    "start_time": "2023-11-15T09:55:51.906Z"
   },
   {
    "duration": 0,
    "start_time": "2023-11-15T09:55:51.907Z"
   },
   {
    "duration": 0,
    "start_time": "2023-11-15T09:55:51.908Z"
   },
   {
    "duration": 0,
    "start_time": "2023-11-15T09:55:51.909Z"
   },
   {
    "duration": 2612,
    "start_time": "2023-11-15T09:56:08.644Z"
   },
   {
    "duration": 7,
    "start_time": "2023-11-15T09:56:11.258Z"
   },
   {
    "duration": 975,
    "start_time": "2023-11-15T09:56:11.267Z"
   },
   {
    "duration": 3,
    "start_time": "2023-11-15T09:56:12.250Z"
   },
   {
    "duration": 35,
    "start_time": "2023-11-15T09:56:12.254Z"
   },
   {
    "duration": 25,
    "start_time": "2023-11-15T09:56:12.291Z"
   },
   {
    "duration": 23,
    "start_time": "2023-11-15T09:56:12.318Z"
   },
   {
    "duration": 4,
    "start_time": "2023-11-15T09:56:12.347Z"
   },
   {
    "duration": 30,
    "start_time": "2023-11-15T09:56:12.353Z"
   },
   {
    "duration": 16,
    "start_time": "2023-11-15T09:56:12.385Z"
   },
   {
    "duration": 22,
    "start_time": "2023-11-15T09:56:12.403Z"
   },
   {
    "duration": 288,
    "start_time": "2023-11-15T09:56:12.426Z"
   },
   {
    "duration": 28,
    "start_time": "2023-11-15T09:56:12.716Z"
   },
   {
    "duration": 303,
    "start_time": "2023-11-15T09:56:12.746Z"
   },
   {
    "duration": 5,
    "start_time": "2023-11-15T09:56:13.051Z"
   },
   {
    "duration": 431,
    "start_time": "2023-11-15T09:56:13.058Z"
   },
   {
    "duration": 286,
    "start_time": "2023-11-15T09:56:13.491Z"
   },
   {
    "duration": 9,
    "start_time": "2023-11-15T09:56:13.779Z"
   },
   {
    "duration": 10,
    "start_time": "2023-11-15T09:56:13.789Z"
   },
   {
    "duration": 71,
    "start_time": "2023-11-15T09:56:13.800Z"
   },
   {
    "duration": 28,
    "start_time": "2023-11-15T09:56:13.872Z"
   },
   {
    "duration": 11,
    "start_time": "2023-11-15T09:56:13.902Z"
   },
   {
    "duration": 43,
    "start_time": "2023-11-15T09:56:13.915Z"
   },
   {
    "duration": 60,
    "start_time": "2023-11-15T09:56:13.960Z"
   },
   {
    "duration": 11,
    "start_time": "2023-11-15T09:56:14.043Z"
   },
   {
    "duration": 307,
    "start_time": "2023-11-15T09:56:14.056Z"
   },
   {
    "duration": 318,
    "start_time": "2023-11-15T09:56:14.365Z"
   },
   {
    "duration": 301,
    "start_time": "2023-11-15T09:56:14.688Z"
   },
   {
    "duration": 411,
    "start_time": "2023-11-15T09:56:14.991Z"
   },
   {
    "duration": 12,
    "start_time": "2023-11-15T09:56:15.404Z"
   },
   {
    "duration": 34,
    "start_time": "2023-11-15T09:56:15.418Z"
   },
   {
    "duration": 12,
    "start_time": "2023-11-15T09:56:15.454Z"
   },
   {
    "duration": 39,
    "start_time": "2023-11-15T09:56:15.469Z"
   },
   {
    "duration": 10,
    "start_time": "2023-11-15T09:56:15.510Z"
   },
   {
    "duration": 23,
    "start_time": "2023-11-15T09:56:15.521Z"
   },
   {
    "duration": 8,
    "start_time": "2023-11-15T09:56:15.546Z"
   },
   {
    "duration": 8,
    "start_time": "2023-11-15T09:56:15.556Z"
   },
   {
    "duration": 81,
    "start_time": "2023-11-15T09:56:15.566Z"
   },
   {
    "duration": 64,
    "start_time": "2023-11-15T09:56:15.651Z"
   },
   {
    "duration": 3,
    "start_time": "2023-11-15T09:56:15.717Z"
   },
   {
    "duration": 34,
    "start_time": "2023-11-15T09:56:15.722Z"
   },
   {
    "duration": 2942,
    "start_time": "2023-11-15T09:56:15.758Z"
   },
   {
    "duration": 4,
    "start_time": "2023-11-15T09:56:18.701Z"
   },
   {
    "duration": 7,
    "start_time": "2023-11-15T09:56:18.707Z"
   },
   {
    "duration": 33,
    "start_time": "2023-11-15T09:56:18.716Z"
   },
   {
    "duration": 27034,
    "start_time": "2023-11-15T09:56:18.751Z"
   },
   {
    "duration": 3,
    "start_time": "2023-11-15T09:56:45.787Z"
   },
   {
    "duration": 15,
    "start_time": "2023-11-15T09:56:45.792Z"
   },
   {
    "duration": 6,
    "start_time": "2023-11-15T09:56:45.808Z"
   },
   {
    "duration": 23,
    "start_time": "2023-11-15T09:56:45.815Z"
   },
   {
    "duration": 421820,
    "start_time": "2023-11-15T09:56:45.848Z"
   },
   {
    "duration": 4,
    "start_time": "2023-11-15T10:03:47.669Z"
   },
   {
    "duration": 51,
    "start_time": "2023-11-15T10:03:47.674Z"
   },
   {
    "duration": 0,
    "start_time": "2023-11-15T10:03:47.726Z"
   },
   {
    "duration": 0,
    "start_time": "2023-11-15T10:03:47.728Z"
   },
   {
    "duration": 9,
    "start_time": "2023-11-15T12:10:55.082Z"
   },
   {
    "duration": 29,
    "start_time": "2023-11-15T12:10:58.720Z"
   },
   {
    "duration": 5,
    "start_time": "2023-11-15T12:10:59.096Z"
   }
  ],
  "kernelspec": {
   "display_name": "Python 3 (ipykernel)",
   "language": "python",
   "name": "python3"
  },
  "language_info": {
   "codemirror_mode": {
    "name": "ipython",
    "version": 3
   },
   "file_extension": ".py",
   "mimetype": "text/x-python",
   "name": "python",
   "nbconvert_exporter": "python",
   "pygments_lexer": "ipython3",
   "version": "3.9.5"
  },
  "toc": {
   "base_numbering": 1,
   "nav_menu": {},
   "number_sections": true,
   "sideBar": true,
   "skip_h1_title": true,
   "title_cell": "Table of Contents",
   "title_sidebar": "Contents",
   "toc_cell": false,
   "toc_position": {},
   "toc_section_display": true,
   "toc_window_display": false
  }
 },
 "nbformat": 4,
 "nbformat_minor": 2
}
