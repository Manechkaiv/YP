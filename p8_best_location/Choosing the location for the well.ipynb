{
 "cells": [
  {
   "cell_type": "markdown",
   "metadata": {},
   "source": [
    "# Выбор локации для скважины"
   ]
  },
  {
   "cell_type": "markdown",
   "metadata": {},
   "source": [
    "Допустим, вы работаете в добывающей компании «ГлавРосГосНефть». Нужно решить, где бурить новую скважину.\n",
    "\n",
    "Вам предоставлены пробы нефти в трёх регионах: в каждом 10 000 месторождений, где измерили качество нефти и объём её запасов. Постройте модель машинного обучения, которая поможет определить регион, где добыча принесёт наибольшую прибыль. Проанализируйте возможную прибыль и риски техникой *Bootstrap.*\n",
    "\n",
    "Шаги для выбора локации:\n",
    "\n",
    "- В избранном регионе ищут месторождения, для каждого определяют значения признаков;\n",
    "- Строят модель и оценивают объём запасов;\n",
    "- Выбирают месторождения с самым высокими оценками значений. Количество месторождений зависит от бюджета компании и стоимости разработки одной скважины;\n",
    "- Прибыль равна суммарной прибыли отобранных месторождений."
   ]
  },
  {
   "cell_type": "markdown",
   "metadata": {},
   "source": [
    "Описание данных\n",
    "\n",
    "Данные геологоразведки трёх регионов: \n",
    "\n",
    "geo_data_0\n",
    "\n",
    "geo_data_1\n",
    "\n",
    "geo_data_2\n",
    "\n",
    "id — уникальный идентификатор скважины;\n",
    "\n",
    "f0, f1, f2 — три признака точек;\n",
    "\n",
    "product — объём запасов в скважине (тыс. баррелей).\n",
    "\n",
    "Цель:\n",
    "\n",
    "Выяснить, в каких регионах вероятность убытков меньше 2,5%. "
   ]
  },
  {
   "cell_type": "markdown",
   "metadata": {},
   "source": [
    "## Загрузка и подготовка данных"
   ]
  },
  {
   "cell_type": "code",
   "execution_count": 1,
   "metadata": {},
   "outputs": [],
   "source": [
    "import pandas as pd\n",
    "import numpy as np\n",
    "import matplotlib.pyplot as plt\n",
    "import seaborn as sns\n",
    "from scipy import stats as st\n",
    "from numpy.random import RandomState\n",
    "from tqdm.auto import tqdm\n",
    "from sklearn.model_selection import train_test_split\n",
    "from sklearn.linear_model import LinearRegression \n",
    "from sklearn.metrics import mean_squared_error\n",
    "\n",
    "pd.set_option('display.max_columns', None) \n",
    "pd.set_option('display.float_format', '{:.3f}'.format) \n"
   ]
  },
  {
   "cell_type": "code",
   "execution_count": 2,
   "metadata": {},
   "outputs": [],
   "source": [
    "data_0 = pd.read_csv('/datasets/geo_data_0.csv')"
   ]
  },
  {
   "cell_type": "code",
   "execution_count": 3,
   "metadata": {},
   "outputs": [],
   "source": [
    "data_1 = pd.read_csv('/datasets/geo_data_1.csv')"
   ]
  },
  {
   "cell_type": "code",
   "execution_count": 4,
   "metadata": {},
   "outputs": [],
   "source": [
    "data_2 = pd.read_csv('/datasets/geo_data_2.csv')"
   ]
  },
  {
   "cell_type": "code",
   "execution_count": 5,
   "metadata": {},
   "outputs": [
    {
     "name": "stdout",
     "output_type": "stream",
     "text": [
      "<class 'pandas.core.frame.DataFrame'>\n",
      "RangeIndex: 100000 entries, 0 to 99999\n",
      "Data columns (total 5 columns):\n",
      " #   Column   Non-Null Count   Dtype  \n",
      "---  ------   --------------   -----  \n",
      " 0   id       100000 non-null  object \n",
      " 1   f0       100000 non-null  float64\n",
      " 2   f1       100000 non-null  float64\n",
      " 3   f2       100000 non-null  float64\n",
      " 4   product  100000 non-null  float64\n",
      "dtypes: float64(4), object(1)\n",
      "memory usage: 3.8+ MB\n"
     ]
    }
   ],
   "source": [
    "# Выведем общую информацию о датасете\n",
    "data_0.info()"
   ]
  },
  {
   "cell_type": "code",
   "execution_count": 6,
   "metadata": {},
   "outputs": [
    {
     "data": {
      "text/html": [
       "<div>\n",
       "<style scoped>\n",
       "    .dataframe tbody tr th:only-of-type {\n",
       "        vertical-align: middle;\n",
       "    }\n",
       "\n",
       "    .dataframe tbody tr th {\n",
       "        vertical-align: top;\n",
       "    }\n",
       "\n",
       "    .dataframe thead th {\n",
       "        text-align: right;\n",
       "    }\n",
       "</style>\n",
       "<table border=\"1\" class=\"dataframe\">\n",
       "  <thead>\n",
       "    <tr style=\"text-align: right;\">\n",
       "      <th></th>\n",
       "      <th>id</th>\n",
       "      <th>f0</th>\n",
       "      <th>f1</th>\n",
       "      <th>f2</th>\n",
       "      <th>product</th>\n",
       "    </tr>\n",
       "  </thead>\n",
       "  <tbody>\n",
       "    <tr>\n",
       "      <th>0</th>\n",
       "      <td>txEyH</td>\n",
       "      <td>0.706</td>\n",
       "      <td>-0.498</td>\n",
       "      <td>1.221</td>\n",
       "      <td>105.280</td>\n",
       "    </tr>\n",
       "    <tr>\n",
       "      <th>1</th>\n",
       "      <td>2acmU</td>\n",
       "      <td>1.335</td>\n",
       "      <td>-0.340</td>\n",
       "      <td>4.365</td>\n",
       "      <td>73.038</td>\n",
       "    </tr>\n",
       "    <tr>\n",
       "      <th>2</th>\n",
       "      <td>409Wp</td>\n",
       "      <td>1.023</td>\n",
       "      <td>0.152</td>\n",
       "      <td>1.420</td>\n",
       "      <td>85.266</td>\n",
       "    </tr>\n",
       "    <tr>\n",
       "      <th>3</th>\n",
       "      <td>iJLyR</td>\n",
       "      <td>-0.032</td>\n",
       "      <td>0.139</td>\n",
       "      <td>2.979</td>\n",
       "      <td>168.621</td>\n",
       "    </tr>\n",
       "    <tr>\n",
       "      <th>4</th>\n",
       "      <td>Xdl7t</td>\n",
       "      <td>1.988</td>\n",
       "      <td>0.155</td>\n",
       "      <td>4.752</td>\n",
       "      <td>154.037</td>\n",
       "    </tr>\n",
       "  </tbody>\n",
       "</table>\n",
       "</div>"
      ],
      "text/plain": [
       "      id     f0     f1    f2  product\n",
       "0  txEyH  0.706 -0.498 1.221  105.280\n",
       "1  2acmU  1.335 -0.340 4.365   73.038\n",
       "2  409Wp  1.023  0.152 1.420   85.266\n",
       "3  iJLyR -0.032  0.139 2.979  168.621\n",
       "4  Xdl7t  1.988  0.155 4.752  154.037"
      ]
     },
     "execution_count": 6,
     "metadata": {},
     "output_type": "execute_result"
    }
   ],
   "source": [
    "data_0.head()"
   ]
  },
  {
   "cell_type": "code",
   "execution_count": 7,
   "metadata": {},
   "outputs": [
    {
     "name": "stdout",
     "output_type": "stream",
     "text": [
      "<class 'pandas.core.frame.DataFrame'>\n",
      "RangeIndex: 100000 entries, 0 to 99999\n",
      "Data columns (total 5 columns):\n",
      " #   Column   Non-Null Count   Dtype  \n",
      "---  ------   --------------   -----  \n",
      " 0   id       100000 non-null  object \n",
      " 1   f0       100000 non-null  float64\n",
      " 2   f1       100000 non-null  float64\n",
      " 3   f2       100000 non-null  float64\n",
      " 4   product  100000 non-null  float64\n",
      "dtypes: float64(4), object(1)\n",
      "memory usage: 3.8+ MB\n"
     ]
    }
   ],
   "source": [
    "# Выведем общую информацию о датасете\n",
    "data_1.info()"
   ]
  },
  {
   "cell_type": "code",
   "execution_count": 8,
   "metadata": {},
   "outputs": [
    {
     "data": {
      "text/html": [
       "<div>\n",
       "<style scoped>\n",
       "    .dataframe tbody tr th:only-of-type {\n",
       "        vertical-align: middle;\n",
       "    }\n",
       "\n",
       "    .dataframe tbody tr th {\n",
       "        vertical-align: top;\n",
       "    }\n",
       "\n",
       "    .dataframe thead th {\n",
       "        text-align: right;\n",
       "    }\n",
       "</style>\n",
       "<table border=\"1\" class=\"dataframe\">\n",
       "  <thead>\n",
       "    <tr style=\"text-align: right;\">\n",
       "      <th></th>\n",
       "      <th>id</th>\n",
       "      <th>f0</th>\n",
       "      <th>f1</th>\n",
       "      <th>f2</th>\n",
       "      <th>product</th>\n",
       "    </tr>\n",
       "  </thead>\n",
       "  <tbody>\n",
       "    <tr>\n",
       "      <th>0</th>\n",
       "      <td>kBEdx</td>\n",
       "      <td>-15.001</td>\n",
       "      <td>-8.276</td>\n",
       "      <td>-0.006</td>\n",
       "      <td>3.179</td>\n",
       "    </tr>\n",
       "    <tr>\n",
       "      <th>1</th>\n",
       "      <td>62mP7</td>\n",
       "      <td>14.272</td>\n",
       "      <td>-3.475</td>\n",
       "      <td>0.999</td>\n",
       "      <td>26.953</td>\n",
       "    </tr>\n",
       "    <tr>\n",
       "      <th>2</th>\n",
       "      <td>vyE1P</td>\n",
       "      <td>6.263</td>\n",
       "      <td>-5.948</td>\n",
       "      <td>5.001</td>\n",
       "      <td>134.766</td>\n",
       "    </tr>\n",
       "    <tr>\n",
       "      <th>3</th>\n",
       "      <td>KcrkZ</td>\n",
       "      <td>-13.081</td>\n",
       "      <td>-11.506</td>\n",
       "      <td>4.999</td>\n",
       "      <td>137.945</td>\n",
       "    </tr>\n",
       "    <tr>\n",
       "      <th>4</th>\n",
       "      <td>AHL4O</td>\n",
       "      <td>12.702</td>\n",
       "      <td>-8.147</td>\n",
       "      <td>5.004</td>\n",
       "      <td>134.766</td>\n",
       "    </tr>\n",
       "  </tbody>\n",
       "</table>\n",
       "</div>"
      ],
      "text/plain": [
       "      id      f0      f1     f2  product\n",
       "0  kBEdx -15.001  -8.276 -0.006    3.179\n",
       "1  62mP7  14.272  -3.475  0.999   26.953\n",
       "2  vyE1P   6.263  -5.948  5.001  134.766\n",
       "3  KcrkZ -13.081 -11.506  4.999  137.945\n",
       "4  AHL4O  12.702  -8.147  5.004  134.766"
      ]
     },
     "execution_count": 8,
     "metadata": {},
     "output_type": "execute_result"
    }
   ],
   "source": [
    "data_1.head()"
   ]
  },
  {
   "cell_type": "code",
   "execution_count": 9,
   "metadata": {},
   "outputs": [
    {
     "name": "stdout",
     "output_type": "stream",
     "text": [
      "<class 'pandas.core.frame.DataFrame'>\n",
      "RangeIndex: 100000 entries, 0 to 99999\n",
      "Data columns (total 5 columns):\n",
      " #   Column   Non-Null Count   Dtype  \n",
      "---  ------   --------------   -----  \n",
      " 0   id       100000 non-null  object \n",
      " 1   f0       100000 non-null  float64\n",
      " 2   f1       100000 non-null  float64\n",
      " 3   f2       100000 non-null  float64\n",
      " 4   product  100000 non-null  float64\n",
      "dtypes: float64(4), object(1)\n",
      "memory usage: 3.8+ MB\n"
     ]
    }
   ],
   "source": [
    "# Выведем общую информацию о датасете\n",
    "data_2.info()"
   ]
  },
  {
   "cell_type": "code",
   "execution_count": 10,
   "metadata": {},
   "outputs": [
    {
     "data": {
      "text/html": [
       "<div>\n",
       "<style scoped>\n",
       "    .dataframe tbody tr th:only-of-type {\n",
       "        vertical-align: middle;\n",
       "    }\n",
       "\n",
       "    .dataframe tbody tr th {\n",
       "        vertical-align: top;\n",
       "    }\n",
       "\n",
       "    .dataframe thead th {\n",
       "        text-align: right;\n",
       "    }\n",
       "</style>\n",
       "<table border=\"1\" class=\"dataframe\">\n",
       "  <thead>\n",
       "    <tr style=\"text-align: right;\">\n",
       "      <th></th>\n",
       "      <th>id</th>\n",
       "      <th>f0</th>\n",
       "      <th>f1</th>\n",
       "      <th>f2</th>\n",
       "      <th>product</th>\n",
       "    </tr>\n",
       "  </thead>\n",
       "  <tbody>\n",
       "    <tr>\n",
       "      <th>0</th>\n",
       "      <td>fwXo0</td>\n",
       "      <td>-1.147</td>\n",
       "      <td>0.963</td>\n",
       "      <td>-0.829</td>\n",
       "      <td>27.759</td>\n",
       "    </tr>\n",
       "    <tr>\n",
       "      <th>1</th>\n",
       "      <td>WJtFt</td>\n",
       "      <td>0.263</td>\n",
       "      <td>0.270</td>\n",
       "      <td>-2.530</td>\n",
       "      <td>56.070</td>\n",
       "    </tr>\n",
       "    <tr>\n",
       "      <th>2</th>\n",
       "      <td>ovLUW</td>\n",
       "      <td>0.195</td>\n",
       "      <td>0.289</td>\n",
       "      <td>-5.586</td>\n",
       "      <td>62.872</td>\n",
       "    </tr>\n",
       "    <tr>\n",
       "      <th>3</th>\n",
       "      <td>q6cA6</td>\n",
       "      <td>2.236</td>\n",
       "      <td>-0.554</td>\n",
       "      <td>0.930</td>\n",
       "      <td>114.573</td>\n",
       "    </tr>\n",
       "    <tr>\n",
       "      <th>4</th>\n",
       "      <td>WPMUX</td>\n",
       "      <td>-0.516</td>\n",
       "      <td>1.716</td>\n",
       "      <td>5.899</td>\n",
       "      <td>149.601</td>\n",
       "    </tr>\n",
       "  </tbody>\n",
       "</table>\n",
       "</div>"
      ],
      "text/plain": [
       "      id     f0     f1     f2  product\n",
       "0  fwXo0 -1.147  0.963 -0.829   27.759\n",
       "1  WJtFt  0.263  0.270 -2.530   56.070\n",
       "2  ovLUW  0.195  0.289 -5.586   62.872\n",
       "3  q6cA6  2.236 -0.554  0.930  114.573\n",
       "4  WPMUX -0.516  1.716  5.899  149.601"
      ]
     },
     "execution_count": 10,
     "metadata": {},
     "output_type": "execute_result"
    }
   ],
   "source": [
    "data_2.head()"
   ]
  },
  {
   "cell_type": "code",
   "execution_count": 11,
   "metadata": {},
   "outputs": [
    {
     "name": "stdout",
     "output_type": "stream",
     "text": [
      "id         0\n",
      "f0         0\n",
      "f1         0\n",
      "f2         0\n",
      "product    0\n",
      "dtype: int64\n",
      "id         0\n",
      "f0         0\n",
      "f1         0\n",
      "f2         0\n",
      "product    0\n",
      "dtype: int64\n"
     ]
    },
    {
     "data": {
      "text/plain": [
       "id         0\n",
       "f0         0\n",
       "f1         0\n",
       "f2         0\n",
       "product    0\n",
       "dtype: int64"
      ]
     },
     "execution_count": 11,
     "metadata": {},
     "output_type": "execute_result"
    }
   ],
   "source": [
    "# Проверим пропуски\n",
    "print(data_0.isna().sum())\n",
    "print(data_1.isna().sum())\n",
    "data_2.isna().sum()"
   ]
  },
  {
   "cell_type": "code",
   "execution_count": 12,
   "metadata": {},
   "outputs": [
    {
     "name": "stdout",
     "output_type": "stream",
     "text": [
      "0\n",
      "0\n"
     ]
    },
    {
     "data": {
      "text/plain": [
       "0"
      ]
     },
     "execution_count": 12,
     "metadata": {},
     "output_type": "execute_result"
    }
   ],
   "source": [
    "print(data_0.duplicated().sum())\n",
    "print(data_1.duplicated().sum())\n",
    "data_2.duplicated().sum()"
   ]
  },
  {
   "cell_type": "markdown",
   "metadata": {},
   "source": [
    "Исследуем корреляцию между признаками"
   ]
  },
  {
   "cell_type": "code",
   "execution_count": 13,
   "metadata": {},
   "outputs": [
    {
     "data": {
      "text/html": [
       "<style  type=\"text/css\" >\n",
       "#T_c9b58_row0_col0,#T_c9b58_row1_col1,#T_c9b58_row2_col2,#T_c9b58_row3_col3{\n",
       "            background-color:  #ffc0cb;\n",
       "            color:  #000000;\n",
       "        }#T_c9b58_row0_col1,#T_c9b58_row0_col2,#T_c9b58_row1_col0,#T_c9b58_row1_col2,#T_c9b58_row1_col3{\n",
       "            background-color:  #f3f0f0;\n",
       "            color:  #000000;\n",
       "        }#T_c9b58_row0_col3{\n",
       "            background-color:  #f6e2e6;\n",
       "            color:  #000000;\n",
       "        }#T_c9b58_row2_col0{\n",
       "            background-color:  #f6e1e5;\n",
       "            color:  #000000;\n",
       "        }#T_c9b58_row2_col1{\n",
       "            background-color:  #f7e1e5;\n",
       "            color:  #000000;\n",
       "        }#T_c9b58_row2_col3{\n",
       "            background-color:  #fad5db;\n",
       "            color:  #000000;\n",
       "        }#T_c9b58_row3_col0{\n",
       "            background-color:  #f8dde1;\n",
       "            color:  #000000;\n",
       "        }#T_c9b58_row3_col1{\n",
       "            background-color:  #f5e8ea;\n",
       "            color:  #000000;\n",
       "        }#T_c9b58_row3_col2{\n",
       "            background-color:  #f9d9de;\n",
       "            color:  #000000;\n",
       "        }</style><table id=\"T_c9b58_\" ><thead>    <tr>        <th class=\"blank level0\" ></th>        <th class=\"col_heading level0 col0\" >f0</th>        <th class=\"col_heading level0 col1\" >f1</th>        <th class=\"col_heading level0 col2\" >f2</th>        <th class=\"col_heading level0 col3\" >product</th>    </tr></thead><tbody>\n",
       "                <tr>\n",
       "                        <th id=\"T_c9b58_level0_row0\" class=\"row_heading level0 row0\" >f0</th>\n",
       "                        <td id=\"T_c9b58_row0_col0\" class=\"data row0 col0\" >1.000000</td>\n",
       "                        <td id=\"T_c9b58_row0_col1\" class=\"data row0 col1\" >-0.440723</td>\n",
       "                        <td id=\"T_c9b58_row0_col2\" class=\"data row0 col2\" >-0.003153</td>\n",
       "                        <td id=\"T_c9b58_row0_col3\" class=\"data row0 col3\" >0.143536</td>\n",
       "            </tr>\n",
       "            <tr>\n",
       "                        <th id=\"T_c9b58_level0_row1\" class=\"row_heading level0 row1\" >f1</th>\n",
       "                        <td id=\"T_c9b58_row1_col0\" class=\"data row1 col0\" >-0.440723</td>\n",
       "                        <td id=\"T_c9b58_row1_col1\" class=\"data row1 col1\" >1.000000</td>\n",
       "                        <td id=\"T_c9b58_row1_col2\" class=\"data row1 col2\" >0.001724</td>\n",
       "                        <td id=\"T_c9b58_row1_col3\" class=\"data row1 col3\" >-0.192356</td>\n",
       "            </tr>\n",
       "            <tr>\n",
       "                        <th id=\"T_c9b58_level0_row2\" class=\"row_heading level0 row2\" >f2</th>\n",
       "                        <td id=\"T_c9b58_row2_col0\" class=\"data row2 col0\" >-0.003153</td>\n",
       "                        <td id=\"T_c9b58_row2_col1\" class=\"data row2 col1\" >0.001724</td>\n",
       "                        <td id=\"T_c9b58_row2_col2\" class=\"data row2 col2\" >1.000000</td>\n",
       "                        <td id=\"T_c9b58_row2_col3\" class=\"data row2 col3\" >0.483663</td>\n",
       "            </tr>\n",
       "            <tr>\n",
       "                        <th id=\"T_c9b58_level0_row3\" class=\"row_heading level0 row3\" >product</th>\n",
       "                        <td id=\"T_c9b58_row3_col0\" class=\"data row3 col0\" >0.143536</td>\n",
       "                        <td id=\"T_c9b58_row3_col1\" class=\"data row3 col1\" >-0.192356</td>\n",
       "                        <td id=\"T_c9b58_row3_col2\" class=\"data row3 col2\" >0.483663</td>\n",
       "                        <td id=\"T_c9b58_row3_col3\" class=\"data row3 col3\" >1.000000</td>\n",
       "            </tr>\n",
       "    </tbody></table>"
      ],
      "text/plain": [
       "<pandas.io.formats.style.Styler at 0x7f04ae89e6a0>"
      ]
     },
     "execution_count": 13,
     "metadata": {},
     "output_type": "execute_result"
    }
   ],
   "source": [
    "cm = sns.light_palette(\"pink\", as_cmap=True)\n",
    "\n",
    "data_0.corr().style.background_gradient(cmap=cm)"
   ]
  },
  {
   "cell_type": "code",
   "execution_count": 28,
   "metadata": {},
   "outputs": [
    {
     "data": {
      "text/html": [
       "<style  type=\"text/css\" >\n",
       "#T_cb6ef_row0_col0,#T_cb6ef_row1_col1,#T_cb6ef_row2_col2,#T_cb6ef_row2_col3,#T_cb6ef_row3_col2,#T_cb6ef_row3_col3{\n",
       "            background-color:  #ffc0cb;\n",
       "            color:  #000000;\n",
       "        }#T_cb6ef_row0_col1{\n",
       "            background-color:  #f5e7e9;\n",
       "            color:  #000000;\n",
       "        }#T_cb6ef_row0_col2,#T_cb6ef_row0_col3,#T_cb6ef_row1_col2,#T_cb6ef_row2_col1,#T_cb6ef_row3_col0,#T_cb6ef_row3_col1{\n",
       "            background-color:  #f3f0f0;\n",
       "            color:  #000000;\n",
       "        }#T_cb6ef_row1_col0{\n",
       "            background-color:  #f5e6e9;\n",
       "            color:  #000000;\n",
       "        }#T_cb6ef_row1_col3{\n",
       "            background-color:  #f3eff0;\n",
       "            color:  #000000;\n",
       "        }#T_cb6ef_row2_col0{\n",
       "            background-color:  #f3efef;\n",
       "            color:  #000000;\n",
       "        }</style><table id=\"T_cb6ef_\" ><thead>    <tr>        <th class=\"blank level0\" ></th>        <th class=\"col_heading level0 col0\" >f0</th>        <th class=\"col_heading level0 col1\" >f1</th>        <th class=\"col_heading level0 col2\" >f2</th>        <th class=\"col_heading level0 col3\" >product</th>    </tr></thead><tbody>\n",
       "                <tr>\n",
       "                        <th id=\"T_cb6ef_level0_row0\" class=\"row_heading level0 row0\" >f0</th>\n",
       "                        <td id=\"T_cb6ef_row0_col0\" class=\"data row0 col0\" >1.000000</td>\n",
       "                        <td id=\"T_cb6ef_row0_col1\" class=\"data row0 col1\" >0.182287</td>\n",
       "                        <td id=\"T_cb6ef_row0_col2\" class=\"data row0 col2\" >-0.001777</td>\n",
       "                        <td id=\"T_cb6ef_row0_col3\" class=\"data row0 col3\" >-0.030491</td>\n",
       "            </tr>\n",
       "            <tr>\n",
       "                        <th id=\"T_cb6ef_level0_row1\" class=\"row_heading level0 row1\" >f1</th>\n",
       "                        <td id=\"T_cb6ef_row1_col0\" class=\"data row1 col0\" >0.182287</td>\n",
       "                        <td id=\"T_cb6ef_row1_col1\" class=\"data row1 col1\" >1.000000</td>\n",
       "                        <td id=\"T_cb6ef_row1_col2\" class=\"data row1 col2\" >-0.002595</td>\n",
       "                        <td id=\"T_cb6ef_row1_col3\" class=\"data row1 col3\" >-0.010155</td>\n",
       "            </tr>\n",
       "            <tr>\n",
       "                        <th id=\"T_cb6ef_level0_row2\" class=\"row_heading level0 row2\" >f2</th>\n",
       "                        <td id=\"T_cb6ef_row2_col0\" class=\"data row2 col0\" >-0.001777</td>\n",
       "                        <td id=\"T_cb6ef_row2_col1\" class=\"data row2 col1\" >-0.002595</td>\n",
       "                        <td id=\"T_cb6ef_row2_col2\" class=\"data row2 col2\" >1.000000</td>\n",
       "                        <td id=\"T_cb6ef_row2_col3\" class=\"data row2 col3\" >0.999397</td>\n",
       "            </tr>\n",
       "            <tr>\n",
       "                        <th id=\"T_cb6ef_level0_row3\" class=\"row_heading level0 row3\" >product</th>\n",
       "                        <td id=\"T_cb6ef_row3_col0\" class=\"data row3 col0\" >-0.030491</td>\n",
       "                        <td id=\"T_cb6ef_row3_col1\" class=\"data row3 col1\" >-0.010155</td>\n",
       "                        <td id=\"T_cb6ef_row3_col2\" class=\"data row3 col2\" >0.999397</td>\n",
       "                        <td id=\"T_cb6ef_row3_col3\" class=\"data row3 col3\" >1.000000</td>\n",
       "            </tr>\n",
       "    </tbody></table>"
      ],
      "text/plain": [
       "<pandas.io.formats.style.Styler at 0x7f04ae777ee0>"
      ]
     },
     "execution_count": 28,
     "metadata": {},
     "output_type": "execute_result"
    }
   ],
   "source": [
    "data_1.corr().style.background_gradient(cmap=cm)"
   ]
  },
  {
   "cell_type": "markdown",
   "metadata": {},
   "source": [
    "Очень сильная корреляция между f1 и product в 1 регионе"
   ]
  },
  {
   "cell_type": "code",
   "execution_count": 29,
   "metadata": {},
   "outputs": [
    {
     "data": {
      "text/html": [
       "<style  type=\"text/css\" >\n",
       "#T_3a6c3_row0_col0,#T_3a6c3_row1_col1,#T_3a6c3_row2_col2,#T_3a6c3_row3_col3{\n",
       "            background-color:  #ffc0cb;\n",
       "            color:  #000000;\n",
       "        }#T_3a6c3_row0_col1,#T_3a6c3_row0_col2,#T_3a6c3_row0_col3,#T_3a6c3_row1_col0,#T_3a6c3_row1_col2,#T_3a6c3_row1_col3,#T_3a6c3_row2_col0,#T_3a6c3_row2_col1,#T_3a6c3_row3_col0,#T_3a6c3_row3_col1{\n",
       "            background-color:  #f3f0f0;\n",
       "            color:  #000000;\n",
       "        }#T_3a6c3_row2_col3,#T_3a6c3_row3_col2{\n",
       "            background-color:  #f8dbe0;\n",
       "            color:  #000000;\n",
       "        }</style><table id=\"T_3a6c3_\" ><thead>    <tr>        <th class=\"blank level0\" ></th>        <th class=\"col_heading level0 col0\" >f0</th>        <th class=\"col_heading level0 col1\" >f1</th>        <th class=\"col_heading level0 col2\" >f2</th>        <th class=\"col_heading level0 col3\" >product</th>    </tr></thead><tbody>\n",
       "                <tr>\n",
       "                        <th id=\"T_3a6c3_level0_row0\" class=\"row_heading level0 row0\" >f0</th>\n",
       "                        <td id=\"T_3a6c3_row0_col0\" class=\"data row0 col0\" >1.000000</td>\n",
       "                        <td id=\"T_3a6c3_row0_col1\" class=\"data row0 col1\" >0.000528</td>\n",
       "                        <td id=\"T_3a6c3_row0_col2\" class=\"data row0 col2\" >-0.000448</td>\n",
       "                        <td id=\"T_3a6c3_row0_col3\" class=\"data row0 col3\" >-0.001987</td>\n",
       "            </tr>\n",
       "            <tr>\n",
       "                        <th id=\"T_3a6c3_level0_row1\" class=\"row_heading level0 row1\" >f1</th>\n",
       "                        <td id=\"T_3a6c3_row1_col0\" class=\"data row1 col0\" >0.000528</td>\n",
       "                        <td id=\"T_3a6c3_row1_col1\" class=\"data row1 col1\" >1.000000</td>\n",
       "                        <td id=\"T_3a6c3_row1_col2\" class=\"data row1 col2\" >0.000779</td>\n",
       "                        <td id=\"T_3a6c3_row1_col3\" class=\"data row1 col3\" >-0.001012</td>\n",
       "            </tr>\n",
       "            <tr>\n",
       "                        <th id=\"T_3a6c3_level0_row2\" class=\"row_heading level0 row2\" >f2</th>\n",
       "                        <td id=\"T_3a6c3_row2_col0\" class=\"data row2 col0\" >-0.000448</td>\n",
       "                        <td id=\"T_3a6c3_row2_col1\" class=\"data row2 col1\" >0.000779</td>\n",
       "                        <td id=\"T_3a6c3_row2_col2\" class=\"data row2 col2\" >1.000000</td>\n",
       "                        <td id=\"T_3a6c3_row2_col3\" class=\"data row2 col3\" >0.445871</td>\n",
       "            </tr>\n",
       "            <tr>\n",
       "                        <th id=\"T_3a6c3_level0_row3\" class=\"row_heading level0 row3\" >product</th>\n",
       "                        <td id=\"T_3a6c3_row3_col0\" class=\"data row3 col0\" >-0.001987</td>\n",
       "                        <td id=\"T_3a6c3_row3_col1\" class=\"data row3 col1\" >-0.001012</td>\n",
       "                        <td id=\"T_3a6c3_row3_col2\" class=\"data row3 col2\" >0.445871</td>\n",
       "                        <td id=\"T_3a6c3_row3_col3\" class=\"data row3 col3\" >1.000000</td>\n",
       "            </tr>\n",
       "    </tbody></table>"
      ],
      "text/plain": [
       "<pandas.io.formats.style.Styler at 0x7f04b30bf520>"
      ]
     },
     "execution_count": 29,
     "metadata": {},
     "output_type": "execute_result"
    }
   ],
   "source": [
    "data_2.corr().style.background_gradient(cmap=cm)"
   ]
  },
  {
   "cell_type": "code",
   "execution_count": 30,
   "metadata": {},
   "outputs": [
    {
     "data": {
      "image/png": "[encoded data removed]",
      "text/plain": [
       "<Figure size 864x504 with 1 Axes>"
      ]
     },
     "metadata": {
      "needs_background": "light"
     },
     "output_type": "display_data"
    }
   ],
   "source": [
    "pr0 = data_0['product'].plot(kind='hist',\n",
    "                             figsize=(12,7),\n",
    "                             grid=True,\n",
    "                             legend=True,\n",
    "                             alpha=0.5,\n",
    "                             label='1 регион');\n",
    "pr1 = data_1['product'].plot(kind='hist',\n",
    "                             figsize=(12,7),\n",
    "                             grid=True,\n",
    "                             legend=True,\n",
    "                             alpha=0.5,\n",
    "                             label='2 регион');\n",
    "pr2 = data_2['product'].plot(kind='hist',\n",
    "                             figsize=(12,7),\n",
    "                             grid=True,\n",
    "                             legend=True,\n",
    "                             alpha=0.5,\n",
    "                             label='3 регион');\n",
    "plt.xlabel('Распределение скважин по запасам нефти, 1');\n",
    "plt.ylabel('Запасы нефти в скважине, тыс. баррелей');"
   ]
  },
  {
   "cell_type": "markdown",
   "metadata": {},
   "source": [
    "Вывод:\n",
    "\n",
    "Данные загружены и проверены на наличие дубликатов и пропусков. Дубликаты и пропуски отсутствуют.\n",
    "\n",
    "Все признаки в датасетах численные, категориальных признаков нет.\n",
    "\n",
    "Столбец id не должен участвовать в обучении модели, в дальнейшем в выборке участвовать не будет. \n",
    "\n",
    "В датасетах по 100 к объектов - достаточно для исследования.\n",
    "\n",
    "Исходя из исследований корреляции - в первом регионе прямая зависимость, сильная корреляция между f2 и product.\n",
    "Для двух других датасетов эта зависимость на уровне 0.4 и 0.5 - умеренная линейная зависимость. "
   ]
  },
  {
   "cell_type": "markdown",
   "metadata": {},
   "source": [
    "## Обучение и проверка модели"
   ]
  },
  {
   "cell_type": "code",
   "execution_count": 14,
   "metadata": {},
   "outputs": [],
   "source": [
    "target_0 = data_0['product']\n",
    "features_0 = data_0.drop(['id','product'], axis=1)\n",
    "\n",
    "# разделяем обучающую выборку на обучающую и валидационную (75/25)\n",
    "features_train_0, features_valid_0, target_train_0, target_valid_0 = train_test_split(features_0, \n",
    "                                                                              target_0, \n",
    "                                                                              test_size=0.25, \n",
    "                                                                              random_state=12345)"
   ]
  },
  {
   "cell_type": "code",
   "execution_count": 15,
   "metadata": {},
   "outputs": [
    {
     "name": "stdout",
     "output_type": "stream",
     "text": [
      "RMSE модели линейной регрессии на валидационной выборке: 37.5794217150813\n",
      "Средний запас предсказанного сырья: 92.59 тыс. баррелей.\n"
     ]
    }
   ],
   "source": [
    "model = LinearRegression()\n",
    "model.fit(features_train_0, target_train_0)\n",
    "predictions_valid_0 = model.predict(features_valid_0)\n",
    "\n",
    "result_0 = mean_squared_error(target_valid_0, predictions_valid_0)**0.5 \n",
    "print(\"RMSE модели линейной регрессии на валидационной выборке:\", result_0)\n",
    "\n",
    "predictions_mean_0 = round(predictions_valid_0.mean(),0)\n",
    "print(\"Средний запас предсказанного сырья: {0:.2f} тыс. баррелей.\". \\\n",
    "          format(predictions_valid_0.mean()))"
   ]
  },
  {
   "cell_type": "markdown",
   "metadata": {},
   "source": []
  },
  {
   "cell_type": "code",
   "execution_count": 16,
   "metadata": {},
   "outputs": [],
   "source": [
    "target_1 = data_1['product']\n",
    "features_1 = data_1.drop(['id','product'], axis=1)\n",
    "\n",
    "# разделяем обучающую выборку на обучающую и валидационную (75/25)\n",
    "features_train_1, features_valid_1, target_train_1, target_valid_1 = train_test_split(features_1, \n",
    "                                                                              target_1, \n",
    "                                                                              test_size=0.25, \n",
    "                                                                              random_state=12345)"
   ]
  },
  {
   "cell_type": "code",
   "execution_count": 17,
   "metadata": {},
   "outputs": [
    {
     "name": "stdout",
     "output_type": "stream",
     "text": [
      "RMSE модели линейной регрессии на валидационной выборке: 0.893099286775617\n",
      "Средний запас предсказанного сырья: 68.73 тыс. баррелей.\n"
     ]
    }
   ],
   "source": [
    "model = LinearRegression()\n",
    "model.fit(features_train_1, target_train_1)\n",
    "predictions_valid_1 = model.predict(features_valid_1)\n",
    "\n",
    "result_1 = mean_squared_error(target_valid_1, predictions_valid_1)**0.5 \n",
    "print(\"RMSE модели линейной регрессии на валидационной выборке:\", result_1)\n",
    "\n",
    "predictions_mean_1 = round(predictions_valid_1.mean(),0)\n",
    "print(\"Средний запас предсказанного сырья: {0:.2f} тыс. баррелей.\". \\\n",
    "          format(predictions_valid_1.mean()))"
   ]
  },
  {
   "cell_type": "code",
   "execution_count": 18,
   "metadata": {},
   "outputs": [],
   "source": [
    "target_2 = data_2['product']\n",
    "features_2 = data_2.drop(['id','product'], axis=1)\n",
    "\n",
    "# разделяем обучающую выборку на обучающую и валидационную (75/25)\n",
    "features_train_2, features_valid_2, target_train_2, target_valid_2 = train_test_split(features_2, \n",
    "                                                                              target_2, \n",
    "                                                                              test_size=0.25, \n",
    "                                                                              random_state=12345)"
   ]
  },
  {
   "cell_type": "code",
   "execution_count": 19,
   "metadata": {},
   "outputs": [
    {
     "name": "stdout",
     "output_type": "stream",
     "text": [
      "RMSE модели линейной регрессии на валидационной выборке: 40.02970873393434\n",
      "Средний запас предсказанного сырья: 94.97 тыс. баррелей.\n"
     ]
    }
   ],
   "source": [
    "model = LinearRegression()\n",
    "model.fit(features_train_2, target_train_2)\n",
    "predictions_valid_2 = model.predict(features_valid_2)\n",
    "\n",
    "result_2 = mean_squared_error(target_valid_2, predictions_valid_2)**0.5 \n",
    "print(\"RMSE модели линейной регрессии на валидационной выборке:\", result_2)\n",
    "\n",
    "predictions_mean_2 = round(predictions_valid_2.mean(),0)\n",
    "print(\"Средний запас предсказанного сырья: {0:.2f} тыс. баррелей.\". \\\n",
    "          format(predictions_valid_2.mean()))"
   ]
  },
  {
   "cell_type": "markdown",
   "metadata": {},
   "source": [
    "Промежуточный вывод:\n",
    "\n",
    "Разделены все данные на обучающую и валидационную выборки в соотношении 75:25.\n",
    "\n",
    "Созданы и обучены модели с помощью Линейной регрессии.\n",
    "\n",
    "Выполнены предсказания на валидационной выборке\n",
    "\n",
    "Сделаны предсказания по объёму сырья в скважинах.\n",
    "\n",
    "Рассчитаны значения среднего запаса предсказанного сырья и RMSE моделей:\n",
    "\n",
    "Для нулевого региона и второго региона RMSE модели = 37.58 и RMSE = 39.96. Значения очень большие по сравнению с средним запасом предсказанного сырья. Это говорит о том, что присутствует сильный разброс данных в валидационных выборках датасетов.\n",
    "Для первого региона RMSE модели = 0.89. Такие низкие значения могут быть связаны с переобучением модели. \n",
    "В первом регионе самые низкие запасы предсказанного сырья - 69 тыс баррелей, когда в двух других регионах - 93 - 95 баррелей"
   ]
  },
  {
   "cell_type": "markdown",
   "metadata": {},
   "source": [
    "## Подготовка к расчёту прибыли"
   ]
  },
  {
   "cell_type": "code",
   "execution_count": 20,
   "metadata": {},
   "outputs": [],
   "source": [
    "# При разведке региона исследуют 500 точек, из которых с помощью машинного обучения выбирают 200 лучших для разработки.\n",
    "NUMBER_POINTS = 500  \n",
    "NUMBER_BEST_POINTS = 200    \n",
    "# Бюджет на разработку скважин в регионе — 10 млрд рублей. Обозначим константу в тыс. рублей\n",
    "BUDGET = 1e07 \n",
    "# Доход с каждой единицы продукта\n",
    "COST_1_BARREL = 450  \n",
    "# Количество выборок для метода Bootstrap\n",
    "NUMBER_SAMPLE_BOOTSTRAP = 1000 "
   ]
  },
  {
   "cell_type": "markdown",
   "metadata": {},
   "source": [
    "Рассчитаем достаточный объём сырья для безубыточной разработки новой скважины. Сравним полученный объём сырья со средним запасом в каждом регионе. "
   ]
  },
  {
   "cell_type": "code",
   "execution_count": 21,
   "metadata": {},
   "outputs": [
    {
     "name": "stdout",
     "output_type": "stream",
     "text": [
      "Точка безубыточности: 22222 тыс. баррелей на каждый регион.\n",
      "\n",
      "Средний объем нефти в скважине, требуемый для безубыточной работы: 111 тыс. баррелей.\n"
     ]
    }
   ],
   "source": [
    "print(\"Точка безубыточности: {0:.0f} тыс. баррелей на каждый регион.\\n\". \\\n",
    "      format(BUDGET / COST_1_BARREL))\n",
    "print(\"Средний объем нефти в скважине, требуемый для безубыточной работы: {0:.0f} тыс. баррелей.\". \\\n",
    "      format(BUDGET / COST_1_BARREL / NUMBER_BEST_POINTS))"
   ]
  },
  {
   "cell_type": "markdown",
   "metadata": {},
   "source": [
    "Промежуточный вывод:\n",
    "\n",
    "Среднее значение запаса сырья по всем скважинам для каждого из регионов меньше, чем объем для сырья для безубыточной разработки новой скважины: 111 тыс. баррелей. Все скважины бурить нерентабельно, нужно выбрать 200 лучших из них.\n"
   ]
  },
  {
   "cell_type": "markdown",
   "metadata": {},
   "source": [
    "## Расчёт прибыли и рисков "
   ]
  },
  {
   "cell_type": "code",
   "execution_count": 22,
   "metadata": {},
   "outputs": [
    {
     "name": "stdout",
     "output_type": "stream",
     "text": [
      "Объем нефти в 0 регионе равен 18260 тыс. баррелей\n",
      "Объем нефти в 1 регионе равен 13346 тыс. баррелей\n",
      "Объем нефти в 2 регионе равен 19644 тыс. баррелей\n"
     ]
    }
   ],
   "source": [
    "def profit(target_valid, predictions_valid):\n",
    "    target = target_valid.reset_index(drop = True)\n",
    "    predictions = pd.Series(predictions_valid, index = target.index)\n",
    "    best_points = target[predictions.sort_values(ascending = False).index][:NUMBER_BEST_POINTS]\n",
    "\n",
    "    return (best_points.sum() * COST_1_BARREL - BUDGET) / 1000\n",
    "\n",
    "sum_bar_0 = predictions_valid_0[:200].sum()\n",
    "sum_bar_1 = predictions_valid_1[:200].sum()\n",
    "sum_bar_2 = predictions_valid_2[:200].sum()\n",
    "\n",
    "print('Объем нефти в 0 регионе равен %.0f' % sum_bar_0, 'тыс. баррелей')\n",
    "print('Объем нефти в 1 регионе равен %.0f' % sum_bar_1, 'тыс. баррелей')\n",
    "print('Объем нефти в 2 регионе равен %.0f' % sum_bar_2, 'тыс. баррелей')\n"
   ]
  },
  {
   "cell_type": "code",
   "execution_count": 23,
   "metadata": {},
   "outputs": [
    {
     "name": "stdout",
     "output_type": "stream",
     "text": [
      "Прибыль с 0 региона равна 3320.83 млн. руб.\n",
      "Прибыль с 1 региона равна 2415.09 млн. руб.\n",
      "Прибыль с 2 региона равна 2710.35 млн. руб.\n"
     ]
    }
   ],
   "source": [
    "profit_0 = profit(target_valid_0, predictions_valid_0)\n",
    "profit_1 = profit(target_valid_1, predictions_valid_1)\n",
    "profit_2 = profit(target_valid_2, predictions_valid_2)\n",
    "print('Прибыль с 0 региона равна %.2f' % profit_0, 'млн. руб.')\n",
    "print('Прибыль с 1 региона равна %.2f' % profit_1, 'млн. руб.')\n",
    "print('Прибыль с 2 региона равна %.2f' % profit_2, 'млн. руб.')"
   ]
  },
  {
   "cell_type": "markdown",
   "metadata": {},
   "source": [
    "Промежуточные результаты:\n",
    "\n",
    "Все три региона потенциально прибыльные.\n",
    "Для определения наиболее выгодного с точки зрения окупаемости вложений и рисков убытка проведём расчёт вероятности."
   ]
  },
  {
   "cell_type": "code",
   "execution_count": 24,
   "metadata": {},
   "outputs": [],
   "source": [
    "def bootstrap1000(target, predict):\n",
    "    state = np.random.RandomState(12345)\n",
    "    n = 500\n",
    "    profits = []\n",
    "    count = 0\n",
    "\n",
    "    for i in range(1000):\n",
    "        target_subsample = target.reset_index(drop= True).sample(n, random_state=state, replace=True)\n",
    "        probs_subsample = predict[target_subsample.index]\n",
    "        \n",
    "        profits.append(profit(target_subsample,\n",
    "                              probs_subsample))\n",
    "    profits = pd.Series(profits)\n",
    "    \n",
    "    count = profits[profits<0].count()/1000\n",
    "\n",
    "    lower = profits.quantile(0.025)\n",
    "    upper = profits.quantile(.975)\n",
    "\n",
    "    print('Средняя прибыль в регионе равна: %.2f' % (profits.mean()), 'млн. руб.')\n",
    "    print('95% доверительный интервал лежит в диапазоне: {:.2f}'.format(lower),\n",
    "          '- {:.2f}'.format(upper))\n",
    "    print('Вероятность убытка равна: {:.2%}'.format(count))"
   ]
  },
  {
   "cell_type": "code",
   "execution_count": 25,
   "metadata": {},
   "outputs": [
    {
     "name": "stdout",
     "output_type": "stream",
     "text": [
      "Средняя прибыль в регионе равна: 396.16 млн. руб.\n",
      "95% доверительный интервал лежит в диапазоне: -111.22 - 909.77\n",
      "Вероятность убытка равна: 6.90%\n"
     ]
    }
   ],
   "source": [
    "# нулевой регион\n",
    "bootstrap1000(target_valid_0, predictions_valid_0)"
   ]
  },
  {
   "cell_type": "code",
   "execution_count": 26,
   "metadata": {},
   "outputs": [
    {
     "name": "stdout",
     "output_type": "stream",
     "text": [
      "Средняя прибыль в регионе равна: 456.05 млн. руб.\n",
      "95% доверительный интервал лежит в диапазоне: 33.82 - 852.29\n",
      "Вероятность убытка равна: 1.50%\n"
     ]
    }
   ],
   "source": [
    "# первый регион\n",
    "bootstrap1000(target_valid_1, predictions_valid_1)"
   ]
  },
  {
   "cell_type": "code",
   "execution_count": 27,
   "metadata": {},
   "outputs": [
    {
     "name": "stdout",
     "output_type": "stream",
     "text": [
      "Средняя прибыль в регионе равна: 404.40 млн. руб.\n",
      "95% доверительный интервал лежит в диапазоне: -163.35 - 950.36\n",
      "Вероятность убытка равна: 7.60%\n"
     ]
    }
   ],
   "source": [
    "# второй регион\n",
    "bootstrap1000(target_valid_2, predictions_valid_2)"
   ]
  },
  {
   "cell_type": "markdown",
   "metadata": {},
   "source": [
    "Вывод:\n",
    "Были подготовлены данные. Проверены на наличие дубликатов, пропусков.\n",
    "Разбили данные на обучающую и валидационную выборку в отношении 75/25. Обучены с помощью линейной регрессии.\n",
    "Рассчитано среднеквадратичное отклонение предсказаний от валидационной выборки.\n",
    "Сравнили средний объем нефти в регионе с достаточным объёмом сырья для безубыточной разработки новой скважины. Оказалось, что средний объем нефти в каждом регионе ниже достаточного объема - 111 тыс. баррелей.\n",
    "Процедурой Bootstrap разбили выборки по 500 значений, взяли 200 с наибольшим показателем объема в скважине с помощью сортировки. Расчитали прибыль/убыток.\n",
    "Расчитали среднюю прибыль в регионе, доверительный интервал и вероятность убытка.\n",
    "Наиболее рентабельно вложить бюджет в развитие добычи нефти в 1 регионе, так как там самая низкая вероятность убытки и самая высокая средняя прибыль."
   ]
  }
 ],
 "metadata": {
  "ExecuteTimeLog": [
   {
    "duration": 2215,
    "start_time": "2023-09-19T16:13:59.007Z"
   },
   {
    "duration": 432,
    "start_time": "2023-09-19T16:14:01.224Z"
   },
   {
    "duration": 219,
    "start_time": "2023-09-19T16:14:01.658Z"
   },
   {
    "duration": 221,
    "start_time": "2023-09-19T16:14:01.879Z"
   },
   {
    "duration": 17,
    "start_time": "2023-09-19T16:14:02.102Z"
   },
   {
    "duration": 71,
    "start_time": "2023-09-19T16:14:02.121Z"
   },
   {
    "duration": 62,
    "start_time": "2023-09-19T16:14:02.195Z"
   },
   {
    "duration": 16,
    "start_time": "2023-09-19T16:15:03.854Z"
   },
   {
    "duration": 11,
    "start_time": "2023-09-19T16:15:06.452Z"
   },
   {
    "duration": 9,
    "start_time": "2023-09-19T16:15:08.119Z"
   },
   {
    "duration": 12,
    "start_time": "2023-09-19T16:21:02.462Z"
   },
   {
    "duration": 12,
    "start_time": "2023-09-19T16:21:05.966Z"
   },
   {
    "duration": 19,
    "start_time": "2023-09-19T16:21:08.979Z"
   },
   {
    "duration": 27,
    "start_time": "2023-09-19T16:21:46.444Z"
   },
   {
    "duration": 51,
    "start_time": "2023-09-19T16:47:30.792Z"
   },
   {
    "duration": 41,
    "start_time": "2023-09-19T16:47:32.684Z"
   },
   {
    "duration": 47,
    "start_time": "2023-09-19T16:47:34.548Z"
   },
   {
    "duration": 128,
    "start_time": "2023-09-19T16:49:12.947Z"
   },
   {
    "duration": 134,
    "start_time": "2023-09-19T17:18:58.578Z"
   },
   {
    "duration": 23,
    "start_time": "2023-09-19T17:19:18.078Z"
   },
   {
    "duration": 1823,
    "start_time": "2023-09-19T18:44:11.116Z"
   },
   {
    "duration": 207,
    "start_time": "2023-09-19T18:44:12.941Z"
   },
   {
    "duration": 149,
    "start_time": "2023-09-19T18:44:13.149Z"
   },
   {
    "duration": 144,
    "start_time": "2023-09-19T18:44:13.300Z"
   },
   {
    "duration": 18,
    "start_time": "2023-09-19T18:44:13.445Z"
   },
   {
    "duration": 24,
    "start_time": "2023-09-19T18:44:13.464Z"
   },
   {
    "duration": 16,
    "start_time": "2023-09-19T18:44:13.490Z"
   },
   {
    "duration": 11,
    "start_time": "2023-09-19T18:44:13.508Z"
   },
   {
    "duration": 42,
    "start_time": "2023-09-19T18:44:13.521Z"
   },
   {
    "duration": 31,
    "start_time": "2023-09-19T18:44:13.567Z"
   },
   {
    "duration": 27,
    "start_time": "2023-09-19T18:44:13.601Z"
   },
   {
    "duration": 185,
    "start_time": "2023-09-19T18:44:13.630Z"
   },
   {
    "duration": 16,
    "start_time": "2023-09-19T18:44:13.817Z"
   },
   {
    "duration": 64,
    "start_time": "2023-09-19T18:44:13.834Z"
   },
   {
    "duration": 1819,
    "start_time": "2023-09-19T19:02:40.884Z"
   },
   {
    "duration": 157,
    "start_time": "2023-09-19T19:02:42.706Z"
   },
   {
    "duration": 134,
    "start_time": "2023-09-19T19:02:42.867Z"
   },
   {
    "duration": 135,
    "start_time": "2023-09-19T19:02:43.003Z"
   },
   {
    "duration": 18,
    "start_time": "2023-09-19T19:02:43.140Z"
   },
   {
    "duration": 28,
    "start_time": "2023-09-19T19:02:43.160Z"
   },
   {
    "duration": 16,
    "start_time": "2023-09-19T19:02:43.190Z"
   },
   {
    "duration": 10,
    "start_time": "2023-09-19T19:02:43.208Z"
   },
   {
    "duration": 21,
    "start_time": "2023-09-19T19:02:43.222Z"
   },
   {
    "duration": 37,
    "start_time": "2023-09-19T19:02:43.245Z"
   },
   {
    "duration": 27,
    "start_time": "2023-09-19T19:02:43.284Z"
   },
   {
    "duration": 178,
    "start_time": "2023-09-19T19:02:43.313Z"
   },
   {
    "duration": 17,
    "start_time": "2023-09-19T19:02:43.492Z"
   },
   {
    "duration": 23,
    "start_time": "2023-09-19T19:02:43.511Z"
   },
   {
    "duration": 149,
    "start_time": "2023-09-19T19:02:43.536Z"
   },
   {
    "duration": 21,
    "start_time": "2023-09-19T19:02:43.687Z"
   },
   {
    "duration": 178,
    "start_time": "2023-09-19T19:02:43.711Z"
   },
   {
    "duration": 22,
    "start_time": "2023-09-19T19:02:43.891Z"
   },
   {
    "duration": 1474,
    "start_time": "2023-09-19T19:05:39.265Z"
   },
   {
    "duration": 154,
    "start_time": "2023-09-19T19:05:40.741Z"
   },
   {
    "duration": 135,
    "start_time": "2023-09-19T19:05:40.897Z"
   },
   {
    "duration": 136,
    "start_time": "2023-09-19T19:05:41.034Z"
   },
   {
    "duration": 19,
    "start_time": "2023-09-19T19:05:41.172Z"
   },
   {
    "duration": 12,
    "start_time": "2023-09-19T19:05:41.193Z"
   },
   {
    "duration": 28,
    "start_time": "2023-09-19T19:05:41.207Z"
   },
   {
    "duration": 26,
    "start_time": "2023-09-19T19:05:41.237Z"
   },
   {
    "duration": 25,
    "start_time": "2023-09-19T19:05:41.265Z"
   },
   {
    "duration": 30,
    "start_time": "2023-09-19T19:05:41.293Z"
   },
   {
    "duration": 43,
    "start_time": "2023-09-19T19:05:41.325Z"
   },
   {
    "duration": 125,
    "start_time": "2023-09-19T19:05:41.370Z"
   },
   {
    "duration": 18,
    "start_time": "2023-09-19T19:05:41.496Z"
   },
   {
    "duration": 69,
    "start_time": "2023-09-19T19:05:41.515Z"
   },
   {
    "duration": 103,
    "start_time": "2023-09-19T19:05:41.590Z"
   },
   {
    "duration": 26,
    "start_time": "2023-09-19T19:05:41.695Z"
   },
   {
    "duration": 165,
    "start_time": "2023-09-19T19:05:41.723Z"
   },
   {
    "duration": 24,
    "start_time": "2023-09-19T19:05:41.890Z"
   },
   {
    "duration": 340,
    "start_time": "2023-09-19T19:14:43.260Z"
   },
   {
    "duration": 32,
    "start_time": "2023-09-19T19:14:54.665Z"
   },
   {
    "duration": 32,
    "start_time": "2023-09-19T19:15:09.869Z"
   },
   {
    "duration": 1532,
    "start_time": "2023-09-19T19:19:48.179Z"
   },
   {
    "duration": 158,
    "start_time": "2023-09-19T19:19:49.713Z"
   },
   {
    "duration": 151,
    "start_time": "2023-09-19T19:19:49.872Z"
   },
   {
    "duration": 147,
    "start_time": "2023-09-19T19:19:50.025Z"
   },
   {
    "duration": 26,
    "start_time": "2023-09-19T19:19:50.174Z"
   },
   {
    "duration": 13,
    "start_time": "2023-09-19T19:19:50.201Z"
   },
   {
    "duration": 20,
    "start_time": "2023-09-19T19:19:50.216Z"
   },
   {
    "duration": 8,
    "start_time": "2023-09-19T19:19:50.238Z"
   },
   {
    "duration": 42,
    "start_time": "2023-09-19T19:19:50.248Z"
   },
   {
    "duration": 12,
    "start_time": "2023-09-19T19:19:50.293Z"
   },
   {
    "duration": 25,
    "start_time": "2023-09-19T19:19:50.307Z"
   },
   {
    "duration": 169,
    "start_time": "2023-09-19T19:19:50.333Z"
   },
   {
    "duration": 14,
    "start_time": "2023-09-19T19:19:50.503Z"
   },
   {
    "duration": 75,
    "start_time": "2023-09-19T19:19:50.519Z"
   },
   {
    "duration": 102,
    "start_time": "2023-09-19T19:19:50.597Z"
   },
   {
    "duration": 81,
    "start_time": "2023-09-19T19:19:50.702Z"
   },
   {
    "duration": 106,
    "start_time": "2023-09-19T19:19:50.785Z"
   },
   {
    "duration": 19,
    "start_time": "2023-09-19T19:19:50.893Z"
   },
   {
    "duration": 1496,
    "start_time": "2023-09-19T19:35:38.655Z"
   },
   {
    "duration": 153,
    "start_time": "2023-09-19T19:35:40.153Z"
   },
   {
    "duration": 139,
    "start_time": "2023-09-19T19:35:40.308Z"
   },
   {
    "duration": 143,
    "start_time": "2023-09-19T19:35:40.449Z"
   },
   {
    "duration": 17,
    "start_time": "2023-09-19T19:35:40.594Z"
   },
   {
    "duration": 13,
    "start_time": "2023-09-19T19:35:40.613Z"
   },
   {
    "duration": 16,
    "start_time": "2023-09-19T19:35:40.627Z"
   },
   {
    "duration": 37,
    "start_time": "2023-09-19T19:35:40.645Z"
   },
   {
    "duration": 15,
    "start_time": "2023-09-19T19:35:40.685Z"
   },
   {
    "duration": 14,
    "start_time": "2023-09-19T19:35:40.703Z"
   },
   {
    "duration": 26,
    "start_time": "2023-09-19T19:35:40.718Z"
   },
   {
    "duration": 151,
    "start_time": "2023-09-19T19:35:40.745Z"
   },
   {
    "duration": 12,
    "start_time": "2023-09-19T19:35:40.898Z"
   },
   {
    "duration": 73,
    "start_time": "2023-09-19T19:35:40.912Z"
   },
   {
    "duration": 110,
    "start_time": "2023-09-19T19:35:40.987Z"
   },
   {
    "duration": 20,
    "start_time": "2023-09-19T19:35:41.099Z"
   },
   {
    "duration": 109,
    "start_time": "2023-09-19T19:35:41.186Z"
   },
   {
    "duration": 85,
    "start_time": "2023-09-19T19:35:41.297Z"
   },
   {
    "duration": 136,
    "start_time": "2023-09-19T19:56:57.237Z"
   },
   {
    "duration": 4,
    "start_time": "2023-09-19T19:57:00.968Z"
   },
   {
    "duration": 21,
    "start_time": "2023-09-19T19:57:01.987Z"
   },
   {
    "duration": 6,
    "start_time": "2023-09-19T19:59:19.206Z"
   },
   {
    "duration": 5,
    "start_time": "2023-09-19T19:59:32.433Z"
   },
   {
    "duration": 4,
    "start_time": "2023-09-19T20:02:16.720Z"
   },
   {
    "duration": 4,
    "start_time": "2023-09-19T20:02:19.219Z"
   },
   {
    "duration": 4,
    "start_time": "2023-09-19T20:02:24.994Z"
   },
   {
    "duration": 6,
    "start_time": "2023-09-19T20:51:35.504Z"
   },
   {
    "duration": 6,
    "start_time": "2023-09-19T20:52:09.197Z"
   },
   {
    "duration": 11,
    "start_time": "2023-09-19T20:52:31.016Z"
   },
   {
    "duration": 11,
    "start_time": "2023-09-19T20:52:51.557Z"
   },
   {
    "duration": 11,
    "start_time": "2023-09-19T20:53:07.792Z"
   },
   {
    "duration": 6,
    "start_time": "2023-09-19T20:53:31.833Z"
   },
   {
    "duration": 10,
    "start_time": "2023-09-19T20:53:33.294Z"
   },
   {
    "duration": 7,
    "start_time": "2023-09-19T20:53:48.807Z"
   },
   {
    "duration": 6,
    "start_time": "2023-09-19T20:53:53.232Z"
   },
   {
    "duration": 15,
    "start_time": "2023-09-19T20:53:54.218Z"
   },
   {
    "duration": 6,
    "start_time": "2023-09-19T20:54:30.261Z"
   },
   {
    "duration": 13,
    "start_time": "2023-09-19T20:54:31.637Z"
   },
   {
    "duration": 8,
    "start_time": "2023-09-19T20:56:00.102Z"
   },
   {
    "duration": 16,
    "start_time": "2023-09-19T20:56:06.972Z"
   },
   {
    "duration": 5,
    "start_time": "2023-09-19T20:56:16.150Z"
   },
   {
    "duration": 14,
    "start_time": "2023-09-19T20:56:18.867Z"
   },
   {
    "duration": 5,
    "start_time": "2023-09-19T20:56:42.100Z"
   },
   {
    "duration": 14,
    "start_time": "2023-09-19T20:56:44.294Z"
   },
   {
    "duration": 6,
    "start_time": "2023-09-19T20:57:28.299Z"
   },
   {
    "duration": 19,
    "start_time": "2023-09-19T20:57:29.898Z"
   },
   {
    "duration": 5,
    "start_time": "2023-09-19T20:58:12.193Z"
   },
   {
    "duration": 22,
    "start_time": "2023-09-19T20:58:14.363Z"
   },
   {
    "duration": 6,
    "start_time": "2023-09-19T21:00:08.007Z"
   },
   {
    "duration": 18,
    "start_time": "2023-09-19T21:00:10.949Z"
   },
   {
    "duration": 5,
    "start_time": "2023-09-19T21:00:40.673Z"
   },
   {
    "duration": 20,
    "start_time": "2023-09-19T21:00:43.278Z"
   },
   {
    "duration": 6,
    "start_time": "2023-09-19T21:01:04.244Z"
   },
   {
    "duration": 19,
    "start_time": "2023-09-19T21:01:05.556Z"
   },
   {
    "duration": 5,
    "start_time": "2023-09-19T21:01:24.234Z"
   },
   {
    "duration": 17,
    "start_time": "2023-09-19T21:01:25.741Z"
   },
   {
    "duration": 6,
    "start_time": "2023-09-19T21:16:01.244Z"
   },
   {
    "duration": 9,
    "start_time": "2023-09-19T21:16:03.441Z"
   },
   {
    "duration": 14,
    "start_time": "2023-09-19T21:16:53.140Z"
   },
   {
    "duration": 6,
    "start_time": "2023-09-19T21:17:46.248Z"
   },
   {
    "duration": 1085,
    "start_time": "2023-09-19T21:17:50.319Z"
   },
   {
    "duration": 11,
    "start_time": "2023-09-19T21:17:51.548Z"
   },
   {
    "duration": 1131,
    "start_time": "2023-09-19T21:17:56.220Z"
   },
   {
    "duration": 1084,
    "start_time": "2023-09-19T21:18:00.699Z"
   },
   {
    "duration": 6,
    "start_time": "2023-09-19T21:18:28.703Z"
   },
   {
    "duration": 1039,
    "start_time": "2023-09-19T21:18:29.661Z"
   },
   {
    "duration": 1589,
    "start_time": "2023-09-19T21:28:13.757Z"
   },
   {
    "duration": 187,
    "start_time": "2023-09-19T21:28:15.348Z"
   },
   {
    "duration": 144,
    "start_time": "2023-09-19T21:28:15.537Z"
   },
   {
    "duration": 158,
    "start_time": "2023-09-19T21:28:15.684Z"
   },
   {
    "duration": 23,
    "start_time": "2023-09-19T21:28:15.844Z"
   },
   {
    "duration": 23,
    "start_time": "2023-09-19T21:28:15.869Z"
   },
   {
    "duration": 21,
    "start_time": "2023-09-19T21:28:15.893Z"
   },
   {
    "duration": 13,
    "start_time": "2023-09-19T21:28:15.917Z"
   },
   {
    "duration": 56,
    "start_time": "2023-09-19T21:28:15.932Z"
   },
   {
    "duration": 12,
    "start_time": "2023-09-19T21:28:15.991Z"
   },
   {
    "duration": 48,
    "start_time": "2023-09-19T21:28:16.006Z"
   },
   {
    "duration": 189,
    "start_time": "2023-09-19T21:28:16.056Z"
   },
   {
    "duration": 33,
    "start_time": "2023-09-19T21:28:16.248Z"
   },
   {
    "duration": 31,
    "start_time": "2023-09-19T21:28:16.283Z"
   },
   {
    "duration": 165,
    "start_time": "2023-09-19T21:28:16.317Z"
   },
   {
    "duration": 25,
    "start_time": "2023-09-19T21:28:16.485Z"
   },
   {
    "duration": 83,
    "start_time": "2023-09-19T21:28:16.515Z"
   },
   {
    "duration": 106,
    "start_time": "2023-09-19T21:28:16.601Z"
   },
   {
    "duration": 72,
    "start_time": "2023-09-19T21:28:16.710Z"
   },
   {
    "duration": 16,
    "start_time": "2023-09-19T21:28:16.785Z"
   },
   {
    "duration": 83,
    "start_time": "2023-09-19T21:28:16.803Z"
   },
   {
    "duration": 29,
    "start_time": "2023-09-19T21:28:16.889Z"
   },
   {
    "duration": 7,
    "start_time": "2023-09-19T21:28:16.921Z"
   },
   {
    "duration": 1227,
    "start_time": "2023-09-19T21:28:16.931Z"
   },
   {
    "duration": 1118,
    "start_time": "2023-09-19T21:28:18.160Z"
   },
   {
    "duration": 1052,
    "start_time": "2023-09-19T21:28:19.280Z"
   },
   {
    "duration": 106,
    "start_time": "2023-09-20T08:23:14.510Z"
   },
   {
    "duration": 86,
    "start_time": "2023-09-20T18:55:20.244Z"
   },
   {
    "duration": 78,
    "start_time": "2023-09-20T18:55:34.569Z"
   },
   {
    "duration": 48,
    "start_time": "2023-09-20T18:56:01.981Z"
   },
   {
    "duration": 1735,
    "start_time": "2023-09-20T18:56:20.745Z"
   },
   {
    "duration": 80,
    "start_time": "2023-09-20T18:56:26.579Z"
   },
   {
    "duration": 1509,
    "start_time": "2023-09-20T18:56:36.110Z"
   },
   {
    "duration": 405,
    "start_time": "2023-09-20T18:56:37.621Z"
   },
   {
    "duration": 277,
    "start_time": "2023-09-20T18:56:38.027Z"
   },
   {
    "duration": 231,
    "start_time": "2023-09-20T18:56:38.306Z"
   },
   {
    "duration": 25,
    "start_time": "2023-09-20T18:56:38.539Z"
   },
   {
    "duration": 51,
    "start_time": "2023-09-20T18:56:38.565Z"
   },
   {
    "duration": 19,
    "start_time": "2023-09-20T18:56:38.617Z"
   },
   {
    "duration": 9,
    "start_time": "2023-09-20T18:56:38.637Z"
   },
   {
    "duration": 28,
    "start_time": "2023-09-20T18:56:38.648Z"
   },
   {
    "duration": 9,
    "start_time": "2023-09-20T18:56:38.680Z"
   },
   {
    "duration": 44,
    "start_time": "2023-09-20T18:56:38.691Z"
   },
   {
    "duration": 160,
    "start_time": "2023-09-20T18:56:38.736Z"
   },
   {
    "duration": 81,
    "start_time": "2023-09-20T18:56:38.898Z"
   },
   {
    "duration": 15,
    "start_time": "2023-09-20T18:56:38.981Z"
   },
   {
    "duration": 52,
    "start_time": "2023-09-20T18:56:38.997Z"
   },
   {
    "duration": 200,
    "start_time": "2023-09-20T18:56:39.051Z"
   },
   {
    "duration": 35,
    "start_time": "2023-09-20T18:56:39.254Z"
   },
   {
    "duration": 174,
    "start_time": "2023-09-20T18:56:39.291Z"
   },
   {
    "duration": 21,
    "start_time": "2023-09-20T18:56:39.467Z"
   },
   {
    "duration": 5,
    "start_time": "2023-09-20T18:56:39.548Z"
   },
   {
    "duration": 91,
    "start_time": "2023-09-20T18:56:39.557Z"
   },
   {
    "duration": 30,
    "start_time": "2023-09-20T18:56:39.650Z"
   },
   {
    "duration": 45,
    "start_time": "2023-09-20T18:56:39.681Z"
   },
   {
    "duration": 32,
    "start_time": "2023-09-20T18:56:39.728Z"
   },
   {
    "duration": 1192,
    "start_time": "2023-09-20T18:56:39.762Z"
   },
   {
    "duration": 1123,
    "start_time": "2023-09-20T18:56:40.956Z"
   },
   {
    "duration": 1120,
    "start_time": "2023-09-20T18:56:42.081Z"
   },
   {
    "duration": 23,
    "start_time": "2023-09-20T18:58:23.613Z"
   },
   {
    "duration": 20,
    "start_time": "2023-09-20T18:58:25.799Z"
   },
   {
    "duration": 372,
    "start_time": "2023-09-20T18:58:58.863Z"
   }
  ],
  "kernelspec": {
   "display_name": "Python 3 (ipykernel)",
   "language": "python",
   "name": "python3"
  },
  "language_info": {
   "codemirror_mode": {
    "name": "ipython",
    "version": 3
   },
   "file_extension": ".py",
   "mimetype": "text/x-python",
   "name": "python",
   "nbconvert_exporter": "python",
   "pygments_lexer": "ipython3",
   "version": "3.9.5"
  },
  "toc": {
   "base_numbering": 1,
   "nav_menu": {},
   "number_sections": true,
   "sideBar": true,
   "skip_h1_title": true,
   "title_cell": "Table of Contents",
   "title_sidebar": "Contents",
   "toc_cell": false,
   "toc_position": {},
   "toc_section_display": true,
   "toc_window_display": false
  }
 },
 "nbformat": 4,
 "nbformat_minor": 2
}
