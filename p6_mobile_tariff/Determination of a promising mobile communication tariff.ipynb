{
 "cells": [
  {
   "cell_type": "markdown",
   "metadata": {},
   "source": [
    "# Рекомендация тарифов"
   ]
  },
  {
   "cell_type": "markdown",
   "metadata": {},
   "source": [
    "В вашем распоряжении данные о поведении клиентов, которые уже перешли на эти тарифы (из проекта курса «Статистический анализ данных»). Нужно построить модель для задачи классификации, которая выберет подходящий тариф. Предобработка данных не понадобится — вы её уже сделали.\n",
    "\n",
    "Постройте модель с максимально большим значением *accuracy*. Чтобы сдать проект успешно, нужно довести долю правильных ответов по крайней мере до 0.75. Проверьте *accuracy* на тестовой выборке самостоятельно."
   ]
  },
  {
   "cell_type": "markdown",
   "metadata": {},
   "source": [
    "Описание данных:\n",
    "Каждый объект в наборе данных — это информация о поведении одного пользователя за месяц. Известно:\n",
    "сalls — количество звонков,\n",
    "minutes — суммарная длительность звонков в минутах,\n",
    "messages — количество sms-сообщений,\n",
    "mb_used — израсходованный интернет-трафик в Мб,\n",
    "is_ultra — каким тарифом пользовался в течение месяца («Ультра» — 1, «Смарт» — 0)."
   ]
  },
  {
   "cell_type": "markdown",
   "metadata": {},
   "source": [
    "## Откройте и изучите файл"
   ]
  },
  {
   "cell_type": "code",
   "execution_count": 1,
   "metadata": {},
   "outputs": [],
   "source": [
    "import pandas as pd\n",
    "import numpy as np\n",
    "from sklearn.metrics import accuracy_score\n",
    "from sklearn.model_selection import train_test_split\n",
    "from sklearn.tree import DecisionTreeClassifier\n",
    "from sklearn.ensemble import RandomForestClassifier\n",
    "from sklearn.linear_model import LogisticRegression"
   ]
  },
  {
   "cell_type": "code",
   "execution_count": 2,
   "metadata": {},
   "outputs": [],
   "source": [
    "data = pd.read_csv('/datasets/users_behavior.csv')"
   ]
  },
  {
   "cell_type": "code",
   "execution_count": 3,
   "metadata": {},
   "outputs": [
    {
     "name": "stdout",
     "output_type": "stream",
     "text": [
      "<class 'pandas.core.frame.DataFrame'>\n",
      "RangeIndex: 3214 entries, 0 to 3213\n",
      "Data columns (total 5 columns):\n",
      " #   Column    Non-Null Count  Dtype  \n",
      "---  ------    --------------  -----  \n",
      " 0   calls     3214 non-null   float64\n",
      " 1   minutes   3214 non-null   float64\n",
      " 2   messages  3214 non-null   float64\n",
      " 3   mb_used   3214 non-null   float64\n",
      " 4   is_ultra  3214 non-null   int64  \n",
      "dtypes: float64(4), int64(1)\n",
      "memory usage: 125.7 KB\n"
     ]
    },
    {
     "data": {
      "text/html": [
       "<div>\n",
       "<style scoped>\n",
       "    .dataframe tbody tr th:only-of-type {\n",
       "        vertical-align: middle;\n",
       "    }\n",
       "\n",
       "    .dataframe tbody tr th {\n",
       "        vertical-align: top;\n",
       "    }\n",
       "\n",
       "    .dataframe thead th {\n",
       "        text-align: right;\n",
       "    }\n",
       "</style>\n",
       "<table border=\"1\" class=\"dataframe\">\n",
       "  <thead>\n",
       "    <tr style=\"text-align: right;\">\n",
       "      <th></th>\n",
       "      <th>calls</th>\n",
       "      <th>minutes</th>\n",
       "      <th>messages</th>\n",
       "      <th>mb_used</th>\n",
       "      <th>is_ultra</th>\n",
       "    </tr>\n",
       "  </thead>\n",
       "  <tbody>\n",
       "    <tr>\n",
       "      <th>0</th>\n",
       "      <td>40.0</td>\n",
       "      <td>311.90</td>\n",
       "      <td>83.0</td>\n",
       "      <td>19915.42</td>\n",
       "      <td>0</td>\n",
       "    </tr>\n",
       "    <tr>\n",
       "      <th>1</th>\n",
       "      <td>85.0</td>\n",
       "      <td>516.75</td>\n",
       "      <td>56.0</td>\n",
       "      <td>22696.96</td>\n",
       "      <td>0</td>\n",
       "    </tr>\n",
       "    <tr>\n",
       "      <th>2</th>\n",
       "      <td>77.0</td>\n",
       "      <td>467.66</td>\n",
       "      <td>86.0</td>\n",
       "      <td>21060.45</td>\n",
       "      <td>0</td>\n",
       "    </tr>\n",
       "    <tr>\n",
       "      <th>3</th>\n",
       "      <td>106.0</td>\n",
       "      <td>745.53</td>\n",
       "      <td>81.0</td>\n",
       "      <td>8437.39</td>\n",
       "      <td>1</td>\n",
       "    </tr>\n",
       "    <tr>\n",
       "      <th>4</th>\n",
       "      <td>66.0</td>\n",
       "      <td>418.74</td>\n",
       "      <td>1.0</td>\n",
       "      <td>14502.75</td>\n",
       "      <td>0</td>\n",
       "    </tr>\n",
       "  </tbody>\n",
       "</table>\n",
       "</div>"
      ],
      "text/plain": [
       "   calls  minutes  messages   mb_used  is_ultra\n",
       "0   40.0   311.90      83.0  19915.42         0\n",
       "1   85.0   516.75      56.0  22696.96         0\n",
       "2   77.0   467.66      86.0  21060.45         0\n",
       "3  106.0   745.53      81.0   8437.39         1\n",
       "4   66.0   418.74       1.0  14502.75         0"
      ]
     },
     "execution_count": 3,
     "metadata": {},
     "output_type": "execute_result"
    }
   ],
   "source": [
    "# Проверим типы и выведем первые 5 строк\n",
    "data.info()\n",
    "data.head()"
   ]
  },
  {
   "cell_type": "code",
   "execution_count": 4,
   "metadata": {},
   "outputs": [],
   "source": [
    "# поменяем тип сообщений на целочисленный, так как сообщения не могут быть дробными\n",
    "data['messages']=data['messages'].astype(\"int\")"
   ]
  },
  {
   "cell_type": "code",
   "execution_count": 5,
   "metadata": {},
   "outputs": [
    {
     "data": {
      "text/plain": [
       "0"
      ]
     },
     "execution_count": 5,
     "metadata": {},
     "output_type": "execute_result"
    }
   ],
   "source": [
    "# проверим наличие дубликатов\n",
    "data.duplicated().sum()"
   ]
  },
  {
   "cell_type": "code",
   "execution_count": 6,
   "metadata": {},
   "outputs": [
    {
     "data": {
      "text/plain": [
       "calls       0\n",
       "minutes     0\n",
       "messages    0\n",
       "mb_used     0\n",
       "is_ultra    0\n",
       "dtype: int64"
      ]
     },
     "execution_count": 6,
     "metadata": {},
     "output_type": "execute_result"
    }
   ],
   "source": [
    "data.isna().sum()"
   ]
  },
  {
   "cell_type": "markdown",
   "metadata": {},
   "source": [
    "Вывод:\n",
    "Дубликатов не обнаружено\n",
    "Пропущенных значений нет\n",
    "Поменяли тип сообщений на целочисленный"
   ]
  },
  {
   "cell_type": "markdown",
   "metadata": {},
   "source": [
    "## Разбейте данные на выборки"
   ]
  },
  {
   "cell_type": "code",
   "execution_count": 7,
   "metadata": {},
   "outputs": [],
   "source": [
    "features = data.drop(['is_ultra'], axis=1)\n",
    "target = data['is_ultra'] "
   ]
  },
  {
   "cell_type": "markdown",
   "metadata": {},
   "source": [
    "Так как спрятанной нет, то от основной для валидационной отделим 20%, 20% для тестовой, соотношение получается 3/1/1\n",
    "\n",
    "(обучающая 60%, валидационная 20%, тестовая 20%)"
   ]
  },
  {
   "cell_type": "code",
   "execution_count": 8,
   "metadata": {},
   "outputs": [],
   "source": [
    "# отделим 60% для обучающей выборки\n",
    "features_train, features_test, target_train, target_test = train_test_split(\n",
    "    features, target, test_size=0.33, random_state=12345) "
   ]
  },
  {
   "cell_type": "code",
   "execution_count": 9,
   "metadata": {},
   "outputs": [],
   "source": [
    "# Разделим тестовую выборку пополам - на тестовую и валидационную\n",
    "features_test, features_valid, target_test, target_valid = train_test_split(\n",
    "    features_test, target_test, test_size=0.5, random_state=12345) "
   ]
  },
  {
   "cell_type": "markdown",
   "metadata": {},
   "source": [
    "## Исследуйте модели"
   ]
  },
  {
   "cell_type": "markdown",
   "metadata": {},
   "source": [
    "Используем в качестве первой модели дерево решений и проверим наиболее эффективную глубину дерева"
   ]
  },
  {
   "cell_type": "code",
   "execution_count": 10,
   "metadata": {
    "scrolled": true
   },
   "outputs": [
    {
     "name": "stdout",
     "output_type": "stream",
     "text": [
      "max_depth = 1 : 0.7591785936527692\n",
      "max_depth = 2 : 0.7846919726197884\n",
      "max_depth = 3 : 0.7896701929060361\n",
      "max_depth = 4 : 0.7865588052271313\n",
      "max_depth = 5 : 0.790914747977598\n",
      "max_depth = 6 : 0.8014934660858744\n",
      "max_depth = 7 : 0.8027380211574362\n",
      "max_depth = 8 : 0.8070939639079029\n",
      "max_depth = 9 : 0.8046048537647791\n",
      "max_depth = 10 : 0.8102053515868077\n",
      "max_depth = 11 : 0.8083385189794648\n",
      "max_depth = 12 : 0.8170504044803982\n",
      "max_depth = 13 : 0.8189172370877411\n",
      "max_depth = 14 : 0.8158058494088364\n",
      "max_depth = 15 : 0.8133167392657125\n",
      "max_depth = 16 : 0.8170504044803982\n",
      "max_depth = 17 : 0.8139390168014935\n",
      "max_depth = 18 : 0.8133167392657125\n",
      "max_depth = 19 : 0.8077162414436839\n",
      "max_depth = 20 : 0.8139390168014935\n",
      "max_depth = 21 : 0.8126944617299315\n",
      "max_depth = 22 : 0.8139390168014935\n",
      "max_depth = 23 : 0.8139390168014935\n",
      "max_depth = 24 : 0.8139390168014935\n",
      "max_depth = 25 : 0.8139390168014935\n",
      "max_depth = 26 : 0.8139390168014935\n",
      "max_depth = 27 : 0.8139390168014935\n",
      "max_depth = 28 : 0.8139390168014935\n",
      "max_depth = 29 : 0.8139390168014935\n"
     ]
    }
   ],
   "source": [
    "for depth in range(1,30):\n",
    "    DT = DecisionTreeClassifier(random_state=12345, max_depth=depth) \n",
    "    DT.fit(features_train, target_train)\n",
    "    predictions_valid = DT.predict(features_valid)\n",
    "    print(\"max_depth =\", depth, \": \", end='')\n",
    "    print(accuracy_score(target_valid, predictions_valid)) "
   ]
  },
  {
   "cell_type": "markdown",
   "metadata": {},
   "source": [
    "С увеличением глубины результат улучшается и доходит до 0.81"
   ]
  },
  {
   "cell_type": "code",
   "execution_count": 11,
   "metadata": {},
   "outputs": [
    {
     "name": "stdout",
     "output_type": "stream",
     "text": [
      "0.8139390168014935\n"
     ]
    }
   ],
   "source": [
    "best_DT = DecisionTreeClassifier(random_state=12345, max_depth=22) \n",
    "best_DT.fit(features_train, target_train)\n",
    "predictions_valid = best_DT.predict(features_valid)\n",
    "print(accuracy_score(target_valid, predictions_valid)) "
   ]
  },
  {
   "cell_type": "markdown",
   "metadata": {},
   "source": [
    "Используем в качестве модели случайный лес"
   ]
  },
  {
   "cell_type": "code",
   "execution_count": 12,
   "metadata": {},
   "outputs": [
    {
     "name": "stdout",
     "output_type": "stream",
     "text": [
      "Accuracy наилучшей модели на валидационной выборке: 0.8500311138767891\n"
     ]
    }
   ],
   "source": [
    "best_model = None\n",
    "best_result = 0\n",
    "for est in range(1, 11):\n",
    "    RF = RandomForestClassifier(random_state=12345, n_estimators=est) # обучим модель с заданным количеством деревьев\n",
    "    RF.fit(features_train, target_train) # обучим модель на тренировочной выборке\n",
    "    result = RF.score(features_valid, target_valid) # посчитаем качество модели на валидационной выборке\n",
    "    if result > best_result:\n",
    "        best_RF = RF # сохраним наилучшую модель\n",
    "        best_result = result #  сохраним наилучшее значение метрики accuracy на валидационных данных\n",
    "        \n",
    "        \n",
    "print(\"Accuracy наилучшей модели на валидационной выборке:\", best_result)"
   ]
  },
  {
   "cell_type": "markdown",
   "metadata": {},
   "source": [
    "Accuracy больше, чем 7.5 - 0.85"
   ]
  },
  {
   "cell_type": "markdown",
   "metadata": {},
   "source": [
    "Проверим логистическую регрессию"
   ]
  },
  {
   "cell_type": "code",
   "execution_count": 13,
   "metadata": {},
   "outputs": [
    {
     "data": {
      "text/plain": [
       "0.7554449284380834"
      ]
     },
     "execution_count": 13,
     "metadata": {},
     "output_type": "execute_result"
    }
   ],
   "source": [
    "LR = LogisticRegression(random_state=12345, solver='lbfgs', max_iter=1000) \n",
    "\n",
    "LR.fit(features_train, target_train) \n",
    "\n",
    "LR.score(features_valid, target_valid) "
   ]
  },
  {
   "cell_type": "markdown",
   "metadata": {},
   "source": [
    "Accuracy равен 0.76"
   ]
  },
  {
   "cell_type": "markdown",
   "metadata": {},
   "source": [
    "Вывод - Лучший показатель accuracy у случайного леса - 0.85"
   ]
  },
  {
   "cell_type": "markdown",
   "metadata": {},
   "source": [
    "## Проверьте модель на тестовой выборке"
   ]
  },
  {
   "cell_type": "code",
   "execution_count": 14,
   "metadata": {},
   "outputs": [],
   "source": [
    "prediction_LR = LR.predict(features_test)\n",
    "prediction_RF = best_RF.predict(features_test)\n",
    "prediction_DT = best_DT.predict(features_test)"
   ]
  },
  {
   "cell_type": "code",
   "execution_count": 15,
   "metadata": {},
   "outputs": [],
   "source": [
    "accuracy_LR = accuracy_score(prediction_LR, target_test)\n",
    "accuracy_RF = accuracy_score(prediction_RF, target_test)\n",
    "accuracy_DT = accuracy_score(prediction_DT, target_test)"
   ]
  },
  {
   "cell_type": "code",
   "execution_count": 16,
   "metadata": {},
   "outputs": [
    {
     "name": "stdout",
     "output_type": "stream",
     "text": [
      "Logistic Regression: 0.7373988799004356\n",
      "Random Forest: 0.9738643434971997\n",
      "Decision Tree: 1.0\n"
     ]
    }
   ],
   "source": [
    "print(f\"Logistic Regression: {accuracy_LR}\")\n",
    "print(f\"Random Forest: {accuracy_RF}\")\n",
    "print(f\"Decision Tree: {accuracy_DT}\")"
   ]
  },
  {
   "cell_type": "markdown",
   "metadata": {},
   "source": [
    "Вывод:\n",
    "Наиболее высокая accuracy вышла на дереве решений. "
   ]
  },
  {
   "cell_type": "markdown",
   "metadata": {},
   "source": [
    "## (бонус) Проверьте модели на адекватность"
   ]
  },
  {
   "cell_type": "markdown",
   "metadata": {},
   "source": [
    "Наиболее адекватные предсказания делает Random Forest, это видно по точности предсказания на валидационной и на тестовой выборке"
   ]
  },
  {
   "cell_type": "markdown",
   "metadata": {},
   "source": [
    "На валидационной выборке показала лучший результат модель случайный лес. Далее дерево решений и на последнем месте - логистическая регрессия. \n",
    "Удалось достичь Accuracy не меньше 0.75\n",
    "\n",
    "Результаты на тестовой выборке: \n",
    "\n",
    "Logistic Regression: 0.7373988799004356\n",
    "\n",
    "Random Forest: 0.9738643434971997\n",
    "\n",
    "Decision Tree: 1.0\n",
    "\n",
    "Результаты на валидационной выборке:\n",
    "\n",
    "Logistic Regression: 0.7554449284380834\n",
    "\n",
    "Random Forest: 0.8500311138767891\n",
    "\n",
    "Decision Tree: 0.8139390168014935\n",
    "\n"
   ]
  }
 ],
 "metadata": {
  "ExecuteTimeLog": [
   {
    "duration": 51,
    "start_time": "2023-08-28T15:54:37.644Z"
   },
   {
    "duration": 416,
    "start_time": "2023-08-28T15:54:40.119Z"
   },
   {
    "duration": 115,
    "start_time": "2023-08-28T15:54:41.031Z"
   },
   {
    "duration": 12,
    "start_time": "2023-08-28T15:54:41.626Z"
   },
   {
    "duration": 25,
    "start_time": "2023-08-28T15:54:51.434Z"
   },
   {
    "duration": 33,
    "start_time": "2023-08-28T16:14:41.410Z"
   },
   {
    "duration": 25,
    "start_time": "2023-08-28T16:15:00.601Z"
   },
   {
    "duration": 868,
    "start_time": "2023-08-28T16:15:04.308Z"
   },
   {
    "duration": 59,
    "start_time": "2023-08-28T16:15:06.873Z"
   },
   {
    "duration": 9,
    "start_time": "2023-08-28T16:15:12.284Z"
   },
   {
    "duration": 10,
    "start_time": "2023-08-28T16:15:13.126Z"
   },
   {
    "duration": 1224,
    "start_time": "2023-08-28T16:15:38.356Z"
   },
   {
    "duration": 35,
    "start_time": "2023-08-28T16:15:39.582Z"
   },
   {
    "duration": 35,
    "start_time": "2023-08-28T16:15:39.618Z"
   },
   {
    "duration": 33,
    "start_time": "2023-08-28T16:15:39.655Z"
   },
   {
    "duration": 26,
    "start_time": "2023-08-28T16:15:39.690Z"
   },
   {
    "duration": 98,
    "start_time": "2023-08-28T16:15:39.718Z"
   },
   {
    "duration": 108,
    "start_time": "2023-08-28T16:32:19.462Z"
   },
   {
    "duration": 12,
    "start_time": "2023-08-28T16:32:58.709Z"
   },
   {
    "duration": 347,
    "start_time": "2023-08-28T16:33:01.603Z"
   },
   {
    "duration": 14,
    "start_time": "2023-08-28T16:59:06.077Z"
   },
   {
    "duration": 1256,
    "start_time": "2023-08-28T16:59:15.231Z"
   },
   {
    "duration": 34,
    "start_time": "2023-08-28T16:59:16.489Z"
   },
   {
    "duration": 43,
    "start_time": "2023-08-28T16:59:16.526Z"
   },
   {
    "duration": 5,
    "start_time": "2023-08-28T16:59:16.572Z"
   },
   {
    "duration": 14,
    "start_time": "2023-08-28T16:59:16.581Z"
   },
   {
    "duration": 50,
    "start_time": "2023-08-28T16:59:16.603Z"
   },
   {
    "duration": 521,
    "start_time": "2023-08-28T16:59:16.656Z"
   },
   {
    "duration": 845,
    "start_time": "2023-08-28T16:59:17.179Z"
   },
   {
    "duration": 843,
    "start_time": "2023-08-28T17:00:02.013Z"
   },
   {
    "duration": 4,
    "start_time": "2023-08-28T17:00:25.253Z"
   },
   {
    "duration": 1032,
    "start_time": "2023-08-28T17:00:56.804Z"
   },
   {
    "duration": 450,
    "start_time": "2023-08-28T17:02:00.006Z"
   },
   {
    "duration": 1273,
    "start_time": "2023-08-28T17:02:20.474Z"
   },
   {
    "duration": 3149,
    "start_time": "2023-08-28T17:02:21.902Z"
   },
   {
    "duration": 414,
    "start_time": "2023-08-28T17:02:51.396Z"
   },
   {
    "duration": 820,
    "start_time": "2023-08-28T17:03:38.530Z"
   },
   {
    "duration": 129,
    "start_time": "2023-08-28T17:09:32.145Z"
   },
   {
    "duration": 11,
    "start_time": "2023-08-28T17:10:26.225Z"
   },
   {
    "duration": 1321,
    "start_time": "2023-08-28T17:10:32.627Z"
   },
   {
    "duration": 33,
    "start_time": "2023-08-28T17:10:33.951Z"
   },
   {
    "duration": 40,
    "start_time": "2023-08-28T17:10:33.986Z"
   },
   {
    "duration": 6,
    "start_time": "2023-08-28T17:10:34.027Z"
   },
   {
    "duration": 21,
    "start_time": "2023-08-28T17:10:34.035Z"
   },
   {
    "duration": 40,
    "start_time": "2023-08-28T17:10:34.058Z"
   },
   {
    "duration": 369,
    "start_time": "2023-08-28T17:10:34.100Z"
   },
   {
    "duration": 346,
    "start_time": "2023-08-28T17:10:34.470Z"
   },
   {
    "duration": 0,
    "start_time": "2023-08-28T17:10:34.819Z"
   },
   {
    "duration": 1230,
    "start_time": "2023-08-28T17:10:50.463Z"
   },
   {
    "duration": 45,
    "start_time": "2023-08-28T17:10:51.695Z"
   },
   {
    "duration": 26,
    "start_time": "2023-08-28T17:10:51.742Z"
   },
   {
    "duration": 4,
    "start_time": "2023-08-28T17:10:51.770Z"
   },
   {
    "duration": 10,
    "start_time": "2023-08-28T17:10:51.776Z"
   },
   {
    "duration": 62,
    "start_time": "2023-08-28T17:10:51.787Z"
   },
   {
    "duration": 354,
    "start_time": "2023-08-28T17:10:51.851Z"
   },
   {
    "duration": 18513,
    "start_time": "2023-08-28T17:10:52.214Z"
   },
   {
    "duration": 1287,
    "start_time": "2023-08-28T17:11:10.729Z"
   },
   {
    "duration": 7,
    "start_time": "2023-08-28T17:24:25.041Z"
   },
   {
    "duration": 5,
    "start_time": "2023-08-28T17:24:26.439Z"
   },
   {
    "duration": 76,
    "start_time": "2023-08-28T17:29:03.190Z"
   },
   {
    "duration": 33,
    "start_time": "2023-08-28T17:31:57.047Z"
   },
   {
    "duration": 1585,
    "start_time": "2023-08-28T18:04:42.024Z"
   },
   {
    "duration": 32,
    "start_time": "2023-08-28T18:04:43.611Z"
   },
   {
    "duration": 30,
    "start_time": "2023-08-28T18:04:43.645Z"
   },
   {
    "duration": 20,
    "start_time": "2023-08-28T18:04:43.677Z"
   },
   {
    "duration": 22,
    "start_time": "2023-08-28T18:04:43.698Z"
   },
   {
    "duration": 35,
    "start_time": "2023-08-28T18:04:43.722Z"
   },
   {
    "duration": 58,
    "start_time": "2023-08-28T18:04:43.758Z"
   },
   {
    "duration": 38,
    "start_time": "2023-08-28T18:04:43.819Z"
   },
   {
    "duration": 165,
    "start_time": "2023-08-28T18:04:43.860Z"
   },
   {
    "duration": 0,
    "start_time": "2023-08-28T18:04:44.027Z"
   },
   {
    "duration": 0,
    "start_time": "2023-08-28T18:04:44.028Z"
   },
   {
    "duration": 0,
    "start_time": "2023-08-28T18:04:44.029Z"
   },
   {
    "duration": 0,
    "start_time": "2023-08-28T18:04:44.030Z"
   },
   {
    "duration": 0,
    "start_time": "2023-08-28T18:04:44.032Z"
   },
   {
    "duration": 46,
    "start_time": "2023-08-28T18:06:01.825Z"
   },
   {
    "duration": 65,
    "start_time": "2023-08-28T18:15:05.939Z"
   },
   {
    "duration": 7,
    "start_time": "2023-08-28T18:15:59.321Z"
   },
   {
    "duration": 84,
    "start_time": "2023-08-28T18:24:09.582Z"
   },
   {
    "duration": 107,
    "start_time": "2023-08-28T18:24:24.677Z"
   },
   {
    "duration": 6,
    "start_time": "2023-08-28T18:25:24.457Z"
   },
   {
    "duration": 6,
    "start_time": "2023-08-28T18:30:05.498Z"
   },
   {
    "duration": 5,
    "start_time": "2023-08-28T18:30:06.099Z"
   },
   {
    "duration": 1447,
    "start_time": "2023-08-28T18:30:19.815Z"
   },
   {
    "duration": 31,
    "start_time": "2023-08-28T18:30:21.264Z"
   },
   {
    "duration": 53,
    "start_time": "2023-08-28T18:30:21.296Z"
   },
   {
    "duration": 85,
    "start_time": "2023-08-28T18:30:21.351Z"
   },
   {
    "duration": 27,
    "start_time": "2023-08-28T18:30:21.438Z"
   },
   {
    "duration": 22,
    "start_time": "2023-08-28T18:30:21.467Z"
   },
   {
    "duration": 14,
    "start_time": "2023-08-28T18:30:21.490Z"
   },
   {
    "duration": 6,
    "start_time": "2023-08-28T18:30:21.506Z"
   },
   {
    "duration": 5,
    "start_time": "2023-08-28T18:30:21.514Z"
   },
   {
    "duration": 46,
    "start_time": "2023-08-28T18:30:21.521Z"
   },
   {
    "duration": 292,
    "start_time": "2023-08-28T18:30:21.569Z"
   },
   {
    "duration": 136,
    "start_time": "2023-08-28T18:30:21.862Z"
   },
   {
    "duration": 0,
    "start_time": "2023-08-28T18:30:22.001Z"
   },
   {
    "duration": 0,
    "start_time": "2023-08-28T18:30:22.002Z"
   },
   {
    "duration": 167,
    "start_time": "2023-08-28T18:30:35.454Z"
   },
   {
    "duration": 586,
    "start_time": "2023-08-28T18:30:53.917Z"
   },
   {
    "duration": 254,
    "start_time": "2023-08-28T18:31:05.075Z"
   },
   {
    "duration": 6,
    "start_time": "2023-08-28T18:31:25.455Z"
   },
   {
    "duration": 5,
    "start_time": "2023-08-28T18:31:27.348Z"
   },
   {
    "duration": 1365,
    "start_time": "2023-08-28T18:31:33.128Z"
   },
   {
    "duration": 30,
    "start_time": "2023-08-28T18:31:34.495Z"
   },
   {
    "duration": 25,
    "start_time": "2023-08-28T18:31:34.527Z"
   },
   {
    "duration": 7,
    "start_time": "2023-08-28T18:31:34.554Z"
   },
   {
    "duration": 17,
    "start_time": "2023-08-28T18:31:34.562Z"
   },
   {
    "duration": 11,
    "start_time": "2023-08-28T18:31:34.580Z"
   },
   {
    "duration": 6,
    "start_time": "2023-08-28T18:31:34.593Z"
   },
   {
    "duration": 40,
    "start_time": "2023-08-28T18:31:34.600Z"
   },
   {
    "duration": 22,
    "start_time": "2023-08-28T18:31:34.642Z"
   },
   {
    "duration": 291,
    "start_time": "2023-08-28T18:31:34.666Z"
   },
   {
    "duration": 296,
    "start_time": "2023-08-28T18:31:34.959Z"
   },
   {
    "duration": 145,
    "start_time": "2023-08-28T18:31:35.257Z"
   },
   {
    "duration": 0,
    "start_time": "2023-08-28T18:31:35.404Z"
   },
   {
    "duration": 0,
    "start_time": "2023-08-28T18:31:35.405Z"
   },
   {
    "duration": 1500,
    "start_time": "2023-08-28T18:36:37.634Z"
   },
   {
    "duration": 30,
    "start_time": "2023-08-28T18:36:39.136Z"
   },
   {
    "duration": 23,
    "start_time": "2023-08-28T18:36:39.168Z"
   },
   {
    "duration": 40,
    "start_time": "2023-08-28T18:36:39.193Z"
   },
   {
    "duration": 31,
    "start_time": "2023-08-28T18:36:39.235Z"
   },
   {
    "duration": 8,
    "start_time": "2023-08-28T18:36:39.267Z"
   },
   {
    "duration": 14,
    "start_time": "2023-08-28T18:36:39.277Z"
   },
   {
    "duration": 20,
    "start_time": "2023-08-28T18:36:39.293Z"
   },
   {
    "duration": 24,
    "start_time": "2023-08-28T18:36:39.315Z"
   },
   {
    "duration": 259,
    "start_time": "2023-08-28T18:36:39.342Z"
   },
   {
    "duration": 300,
    "start_time": "2023-08-28T18:36:39.604Z"
   },
   {
    "duration": 151,
    "start_time": "2023-08-28T18:36:39.906Z"
   },
   {
    "duration": 0,
    "start_time": "2023-08-28T18:36:40.058Z"
   },
   {
    "duration": 0,
    "start_time": "2023-08-28T18:36:40.060Z"
   },
   {
    "duration": 290,
    "start_time": "2023-08-28T18:37:00.714Z"
   },
   {
    "duration": 338,
    "start_time": "2023-08-28T18:37:10.808Z"
   },
   {
    "duration": 45,
    "start_time": "2023-08-28T18:38:55.738Z"
   },
   {
    "duration": 320,
    "start_time": "2023-08-28T18:51:48.929Z"
   },
   {
    "duration": 11,
    "start_time": "2023-08-28T18:54:35.295Z"
   },
   {
    "duration": 19,
    "start_time": "2023-08-28T18:54:43.681Z"
   },
   {
    "duration": 1506,
    "start_time": "2023-08-28T18:55:42.038Z"
   },
   {
    "duration": 31,
    "start_time": "2023-08-28T18:55:43.546Z"
   },
   {
    "duration": 24,
    "start_time": "2023-08-28T18:55:43.579Z"
   },
   {
    "duration": 4,
    "start_time": "2023-08-28T18:55:43.605Z"
   },
   {
    "duration": 10,
    "start_time": "2023-08-28T18:55:43.612Z"
   },
   {
    "duration": 10,
    "start_time": "2023-08-28T18:55:43.624Z"
   },
   {
    "duration": 5,
    "start_time": "2023-08-28T18:55:43.635Z"
   },
   {
    "duration": 5,
    "start_time": "2023-08-28T18:55:43.642Z"
   },
   {
    "duration": 6,
    "start_time": "2023-08-28T18:55:43.649Z"
   },
   {
    "duration": 389,
    "start_time": "2023-08-28T18:55:43.656Z"
   },
   {
    "duration": 19,
    "start_time": "2023-08-28T18:55:44.047Z"
   },
   {
    "duration": 338,
    "start_time": "2023-08-28T18:55:44.067Z"
   },
   {
    "duration": 37,
    "start_time": "2023-08-28T18:55:44.407Z"
   },
   {
    "duration": 113,
    "start_time": "2023-08-28T18:55:44.447Z"
   },
   {
    "duration": 0,
    "start_time": "2023-08-28T18:55:44.562Z"
   },
   {
    "duration": 0,
    "start_time": "2023-08-28T18:55:44.563Z"
   },
   {
    "duration": 0,
    "start_time": "2023-08-28T18:55:44.564Z"
   },
   {
    "duration": 1586,
    "start_time": "2023-08-28T18:56:08.071Z"
   },
   {
    "duration": 32,
    "start_time": "2023-08-28T18:56:09.660Z"
   },
   {
    "duration": 39,
    "start_time": "2023-08-28T18:56:09.694Z"
   },
   {
    "duration": 4,
    "start_time": "2023-08-28T18:56:09.736Z"
   },
   {
    "duration": 39,
    "start_time": "2023-08-28T18:56:09.742Z"
   },
   {
    "duration": 9,
    "start_time": "2023-08-28T18:56:09.784Z"
   },
   {
    "duration": 12,
    "start_time": "2023-08-28T18:56:09.796Z"
   },
   {
    "duration": 11,
    "start_time": "2023-08-28T18:56:09.810Z"
   },
   {
    "duration": 11,
    "start_time": "2023-08-28T18:56:09.823Z"
   },
   {
    "duration": 380,
    "start_time": "2023-08-28T18:56:09.838Z"
   },
   {
    "duration": 19,
    "start_time": "2023-08-28T18:56:10.220Z"
   },
   {
    "duration": 338,
    "start_time": "2023-08-28T18:56:10.241Z"
   },
   {
    "duration": 53,
    "start_time": "2023-08-28T18:56:10.581Z"
   },
   {
    "duration": 14,
    "start_time": "2023-08-28T18:56:10.635Z"
   },
   {
    "duration": 21,
    "start_time": "2023-08-28T18:56:10.650Z"
   },
   {
    "duration": 119,
    "start_time": "2023-08-28T18:56:10.673Z"
   },
   {
    "duration": 4,
    "start_time": "2023-08-28T18:56:31.465Z"
   },
   {
    "duration": 1526,
    "start_time": "2023-08-28T19:03:55.261Z"
   },
   {
    "duration": 32,
    "start_time": "2023-08-28T19:03:56.789Z"
   },
   {
    "duration": 80,
    "start_time": "2023-08-28T19:03:56.823Z"
   },
   {
    "duration": 4,
    "start_time": "2023-08-28T19:03:56.906Z"
   },
   {
    "duration": 18,
    "start_time": "2023-08-28T19:03:56.913Z"
   },
   {
    "duration": 8,
    "start_time": "2023-08-28T19:03:56.933Z"
   },
   {
    "duration": 22,
    "start_time": "2023-08-28T19:03:56.942Z"
   },
   {
    "duration": 14,
    "start_time": "2023-08-28T19:03:56.965Z"
   },
   {
    "duration": 12,
    "start_time": "2023-08-28T19:03:56.980Z"
   },
   {
    "duration": 430,
    "start_time": "2023-08-28T19:03:56.995Z"
   },
   {
    "duration": 19,
    "start_time": "2023-08-28T19:03:57.427Z"
   },
   {
    "duration": 331,
    "start_time": "2023-08-28T19:03:57.448Z"
   },
   {
    "duration": 63,
    "start_time": "2023-08-28T19:03:57.781Z"
   },
   {
    "duration": 13,
    "start_time": "2023-08-28T19:03:57.845Z"
   },
   {
    "duration": 6,
    "start_time": "2023-08-28T19:03:57.860Z"
   },
   {
    "duration": 7,
    "start_time": "2023-08-28T19:03:57.867Z"
   },
   {
    "duration": 1464,
    "start_time": "2023-08-28T19:07:27.695Z"
   },
   {
    "duration": 30,
    "start_time": "2023-08-28T19:07:29.161Z"
   },
   {
    "duration": 22,
    "start_time": "2023-08-28T19:07:29.193Z"
   },
   {
    "duration": 5,
    "start_time": "2023-08-28T19:07:29.216Z"
   },
   {
    "duration": 15,
    "start_time": "2023-08-28T19:07:29.223Z"
   },
   {
    "duration": 18,
    "start_time": "2023-08-28T19:07:29.239Z"
   },
   {
    "duration": 31,
    "start_time": "2023-08-28T19:07:29.259Z"
   },
   {
    "duration": 29,
    "start_time": "2023-08-28T19:07:29.291Z"
   },
   {
    "duration": 8,
    "start_time": "2023-08-28T19:07:29.322Z"
   },
   {
    "duration": 315,
    "start_time": "2023-08-28T19:07:29.332Z"
   },
   {
    "duration": 16,
    "start_time": "2023-08-28T19:07:29.648Z"
   },
   {
    "duration": 305,
    "start_time": "2023-08-28T19:07:29.666Z"
   },
   {
    "duration": 49,
    "start_time": "2023-08-28T19:07:29.973Z"
   },
   {
    "duration": 13,
    "start_time": "2023-08-28T19:07:30.024Z"
   },
   {
    "duration": 56,
    "start_time": "2023-08-28T19:07:30.039Z"
   },
   {
    "duration": 44,
    "start_time": "2023-08-28T19:07:30.097Z"
   },
   {
    "duration": 1418,
    "start_time": "2023-08-28T19:07:44.892Z"
   },
   {
    "duration": 32,
    "start_time": "2023-08-28T19:07:46.312Z"
   },
   {
    "duration": 25,
    "start_time": "2023-08-28T19:07:46.346Z"
   },
   {
    "duration": 15,
    "start_time": "2023-08-28T19:07:46.372Z"
   },
   {
    "duration": 29,
    "start_time": "2023-08-28T19:07:46.390Z"
   },
   {
    "duration": 17,
    "start_time": "2023-08-28T19:07:46.421Z"
   },
   {
    "duration": 16,
    "start_time": "2023-08-28T19:07:46.440Z"
   },
   {
    "duration": 20,
    "start_time": "2023-08-28T19:07:46.458Z"
   },
   {
    "duration": 12,
    "start_time": "2023-08-28T19:07:46.480Z"
   },
   {
    "duration": 378,
    "start_time": "2023-08-28T19:07:46.494Z"
   },
   {
    "duration": 30,
    "start_time": "2023-08-28T19:07:46.873Z"
   },
   {
    "duration": 306,
    "start_time": "2023-08-28T19:07:46.905Z"
   },
   {
    "duration": 41,
    "start_time": "2023-08-28T19:07:47.212Z"
   },
   {
    "duration": 13,
    "start_time": "2023-08-28T19:07:47.255Z"
   },
   {
    "duration": 6,
    "start_time": "2023-08-28T19:07:47.269Z"
   },
   {
    "duration": 26,
    "start_time": "2023-08-28T19:07:47.276Z"
   }
  ],
  "kernelspec": {
   "display_name": "Python 3 (ipykernel)",
   "language": "python",
   "name": "python3"
  },
  "language_info": {
   "codemirror_mode": {
    "name": "ipython",
    "version": 3
   },
   "file_extension": ".py",
   "mimetype": "text/x-python",
   "name": "python",
   "nbconvert_exporter": "python",
   "pygments_lexer": "ipython3",
   "version": "3.9.5"
  },
  "toc": {
   "base_numbering": 1,
   "nav_menu": {},
   "number_sections": true,
   "sideBar": true,
   "skip_h1_title": true,
   "title_cell": "Table of Contents",
   "title_sidebar": "Contents",
   "toc_cell": false,
   "toc_position": {},
   "toc_section_display": true,
   "toc_window_display": false
  }
 },
 "nbformat": 4,
 "nbformat_minor": 2
}
