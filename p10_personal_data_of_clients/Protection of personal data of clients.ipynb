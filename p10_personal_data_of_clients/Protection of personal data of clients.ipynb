{
 "cells": [
  {
   "cell_type": "markdown",
   "metadata": {
    "toc": true
   },
   "source": [
    "<h1>Содержание<span class=\"tocSkip\"></span></h1>\n",
    "<div class=\"toc\"><ul class=\"toc-item\"><li><span><a href=\"#Загрузка-данных\" data-toc-modified-id=\"Загрузка-данных-1\"><span class=\"toc-item-num\">1&nbsp;&nbsp;</span>Загрузка данных</a></span></li><li><span><a href=\"#Умножение-матриц\" data-toc-modified-id=\"Умножение-матриц-2\"><span class=\"toc-item-num\">2&nbsp;&nbsp;</span>Умножение матриц</a></span></li><li><span><a href=\"#Алгоритм-преобразования\" data-toc-modified-id=\"Алгоритм-преобразования-3\"><span class=\"toc-item-num\">3&nbsp;&nbsp;</span>Алгоритм преобразования</a></span></li><li><span><a href=\"#Проверка-алгоритма\" data-toc-modified-id=\"Проверка-алгоритма-4\"><span class=\"toc-item-num\">4&nbsp;&nbsp;</span>Проверка алгоритма</a></span></li><li><span><a href=\"#Чек-лист-проверки\" data-toc-modified-id=\"Чек-лист-проверки-5\"><span class=\"toc-item-num\">5&nbsp;&nbsp;</span>Чек-лист проверки</a></span></li></ul></div>"
   ]
  },
  {
   "cell_type": "markdown",
   "metadata": {},
   "source": [
    "# Защита персональных данных клиентов"
   ]
  },
  {
   "cell_type": "markdown",
   "metadata": {},
   "source": [
    "Вам нужно защитить данные клиентов страховой компании «Хоть потоп». Разработайте такой метод преобразования данных, чтобы по ним было сложно восстановить персональную информацию. Обоснуйте корректность его работы.\n",
    "\n",
    "Нужно защитить данные, чтобы при преобразовании качество моделей машинного обучения не ухудшилось. Подбирать наилучшую модель не требуется."
   ]
  },
  {
   "cell_type": "markdown",
   "metadata": {},
   "source": [
    "## Загрузка данных"
   ]
  },
  {
   "cell_type": "code",
   "execution_count": 1,
   "metadata": {},
   "outputs": [],
   "source": [
    "import pandas as pd\n",
    "import numpy as np\n",
    "from sklearn.model_selection import train_test_split\n",
    "from sklearn.preprocessing import StandardScaler\n",
    "from sklearn.pipeline import Pipeline\n",
    "from sklearn.linear_model import LinearRegression\n",
    "from sklearn.metrics import r2_score"
   ]
  },
  {
   "cell_type": "code",
   "execution_count": 2,
   "metadata": {},
   "outputs": [],
   "source": [
    "data = pd.read_csv('/datasets/insurance.csv')"
   ]
  },
  {
   "cell_type": "code",
   "execution_count": 3,
   "metadata": {},
   "outputs": [
    {
     "name": "stdout",
     "output_type": "stream",
     "text": [
      "<class 'pandas.core.frame.DataFrame'>\n",
      "RangeIndex: 5000 entries, 0 to 4999\n",
      "Data columns (total 5 columns):\n",
      " #   Column             Non-Null Count  Dtype  \n",
      "---  ------             --------------  -----  \n",
      " 0   Пол                5000 non-null   int64  \n",
      " 1   Возраст            5000 non-null   float64\n",
      " 2   Зарплата           5000 non-null   float64\n",
      " 3   Члены семьи        5000 non-null   int64  \n",
      " 4   Страховые выплаты  5000 non-null   int64  \n",
      "dtypes: float64(2), int64(3)\n",
      "memory usage: 195.4 KB\n"
     ]
    }
   ],
   "source": [
    "data.info()"
   ]
  },
  {
   "cell_type": "code",
   "execution_count": 4,
   "metadata": {},
   "outputs": [
    {
     "data": {
      "text/html": [
       "<div>\n",
       "<style scoped>\n",
       "    .dataframe tbody tr th:only-of-type {\n",
       "        vertical-align: middle;\n",
       "    }\n",
       "\n",
       "    .dataframe tbody tr th {\n",
       "        vertical-align: top;\n",
       "    }\n",
       "\n",
       "    .dataframe thead th {\n",
       "        text-align: right;\n",
       "    }\n",
       "</style>\n",
       "<table border=\"1\" class=\"dataframe\">\n",
       "  <thead>\n",
       "    <tr style=\"text-align: right;\">\n",
       "      <th></th>\n",
       "      <th>Пол</th>\n",
       "      <th>Возраст</th>\n",
       "      <th>Зарплата</th>\n",
       "      <th>Члены семьи</th>\n",
       "      <th>Страховые выплаты</th>\n",
       "    </tr>\n",
       "  </thead>\n",
       "  <tbody>\n",
       "    <tr>\n",
       "      <th>0</th>\n",
       "      <td>1</td>\n",
       "      <td>41.0</td>\n",
       "      <td>49600.0</td>\n",
       "      <td>1</td>\n",
       "      <td>0</td>\n",
       "    </tr>\n",
       "    <tr>\n",
       "      <th>1</th>\n",
       "      <td>0</td>\n",
       "      <td>46.0</td>\n",
       "      <td>38000.0</td>\n",
       "      <td>1</td>\n",
       "      <td>1</td>\n",
       "    </tr>\n",
       "    <tr>\n",
       "      <th>2</th>\n",
       "      <td>0</td>\n",
       "      <td>29.0</td>\n",
       "      <td>21000.0</td>\n",
       "      <td>0</td>\n",
       "      <td>0</td>\n",
       "    </tr>\n",
       "    <tr>\n",
       "      <th>3</th>\n",
       "      <td>0</td>\n",
       "      <td>21.0</td>\n",
       "      <td>41700.0</td>\n",
       "      <td>2</td>\n",
       "      <td>0</td>\n",
       "    </tr>\n",
       "    <tr>\n",
       "      <th>4</th>\n",
       "      <td>1</td>\n",
       "      <td>28.0</td>\n",
       "      <td>26100.0</td>\n",
       "      <td>0</td>\n",
       "      <td>0</td>\n",
       "    </tr>\n",
       "  </tbody>\n",
       "</table>\n",
       "</div>"
      ],
      "text/plain": [
       "   Пол  Возраст  Зарплата  Члены семьи  Страховые выплаты\n",
       "0    1     41.0   49600.0            1                  0\n",
       "1    0     46.0   38000.0            1                  1\n",
       "2    0     29.0   21000.0            0                  0\n",
       "3    0     21.0   41700.0            2                  0\n",
       "4    1     28.0   26100.0            0                  0"
      ]
     },
     "execution_count": 4,
     "metadata": {},
     "output_type": "execute_result"
    }
   ],
   "source": [
    "data.head()"
   ]
  },
  {
   "cell_type": "code",
   "execution_count": 5,
   "metadata": {},
   "outputs": [
    {
     "data": {
      "text/plain": [
       "Пол                  0\n",
       "Возраст              0\n",
       "Зарплата             0\n",
       "Члены семьи          0\n",
       "Страховые выплаты    0\n",
       "dtype: int64"
      ]
     },
     "execution_count": 5,
     "metadata": {},
     "output_type": "execute_result"
    }
   ],
   "source": [
    "# Проверим наличие пропусков\n",
    "data.isna().sum()"
   ]
  },
  {
   "cell_type": "code",
   "execution_count": 6,
   "metadata": {},
   "outputs": [
    {
     "name": "stdout",
     "output_type": "stream",
     "text": [
      "<class 'pandas.core.frame.DataFrame'>\n",
      "RangeIndex: 5000 entries, 0 to 4999\n",
      "Data columns (total 5 columns):\n",
      " #   Column             Non-Null Count  Dtype  \n",
      "---  ------             --------------  -----  \n",
      " 0   Пол                5000 non-null   int64  \n",
      " 1   Возраст            5000 non-null   int8   \n",
      " 2   Зарплата           5000 non-null   float64\n",
      " 3   Члены семьи        5000 non-null   int64  \n",
      " 4   Страховые выплаты  5000 non-null   int64  \n",
      "dtypes: float64(1), int64(3), int8(1)\n",
      "memory usage: 161.3 KB\n"
     ]
    }
   ],
   "source": [
    "# Поменяем тип данных в столбцах Возраст и Зарплата на целочисленный.\n",
    "data['Возраст'] = pd.to_numeric(data['Возраст'], downcast='integer')\n",
    "data['Зарплата'] = pd.to_numeric(data['Зарплата'], downcast='integer')\n",
    "data.info()"
   ]
  },
  {
   "cell_type": "markdown",
   "metadata": {},
   "source": [
    "Вывод:\n",
    "Загрузили данные, поправили типы данных на целочисленные, где это необходимо. Пропусков нет"
   ]
  },
  {
   "cell_type": "markdown",
   "metadata": {},
   "source": [
    "## Умножение матриц"
   ]
  },
  {
   "cell_type": "markdown",
   "metadata": {},
   "source": [
    "Проверим, что вычисление линейной регрессии из Scikit-learn соответствует формуле."
   ]
  },
  {
   "cell_type": "code",
   "execution_count": 7,
   "metadata": {},
   "outputs": [],
   "source": [
    "features = data.drop('Страховые выплаты',axis=1)\n",
    "target = data['Страховые выплаты']"
   ]
  },
  {
   "cell_type": "code",
   "execution_count": 8,
   "metadata": {},
   "outputs": [
    {
     "data": {
      "text/plain": [
       "array([ 7.92580543e-03,  3.57083050e-02, -1.70080492e-07, -1.35676623e-02])"
      ]
     },
     "metadata": {},
     "output_type": "display_data"
    },
    {
     "data": {
      "text/plain": [
       "array([ 7.92580543e-03,  3.57083050e-02, -1.70080492e-07, -1.35676623e-02])"
      ]
     },
     "execution_count": 8,
     "metadata": {},
     "output_type": "execute_result"
    }
   ],
   "source": [
    "X = np.concatenate((np.ones((features.shape[0], 1)), features), axis=1)\n",
    "y = target\n",
    "w = np.linalg.inv(X.T @ X) @ X.T @ y\n",
    "display(w[1:])\n",
    "model = LinearRegression()\n",
    "model.fit(features, target)\n",
    "model.coef_"
   ]
  },
  {
   "cell_type": "markdown",
   "metadata": {},
   "source": [
    "Коэффициенты регрессии полностью совпадают"
   ]
  },
  {
   "cell_type": "markdown",
   "metadata": {},
   "source": [
    "Обозначения:\n",
    "\n",
    "- $X$ — матрица признаков (нулевой столбец состоит из единиц)\n",
    "\n",
    "- $y$ — вектор целевого признака\n",
    "\n",
    "- $P$ — матрица, на которую умножаются признаки\n",
    "\n",
    "- $w$ — вектор весов линейной регрессии (нулевой элемент равен сдвигу)"
   ]
  },
  {
   "cell_type": "markdown",
   "metadata": {},
   "source": [
    "Предсказания:\n",
    "\n",
    "$$\n",
    "a = Xw\n",
    "$$\n",
    "\n",
    "Задача обучения:\n",
    "\n",
    "$$\n",
    "w = \\arg\\min_w MSE(Xw, y)\n",
    "$$\n",
    "\n",
    "Формула обучения:\n",
    "\n",
    "$$\n",
    "w = (X^T X)^{-1} X^T y\n",
    "$$"
   ]
  },
  {
   "cell_type": "markdown",
   "metadata": {},
   "source": [
    "**Вопрос:** Признаки умножают на обратимую матрицу. Изменится ли качество линейной регрессии?"
   ]
  },
  {
   "cell_type": "markdown",
   "metadata": {},
   "source": [
    "**Ответ:** Не изменится\n",
    "\n",
    "**Обоснование:** "
   ]
  },
  {
   "cell_type": "markdown",
   "metadata": {},
   "source": [
    "$$\n",
    "a = Xw = X(X^T X)^{-1} X^T y = X X^{-1} (X^T)^{-1} X^T y = X X^{-1} y\n",
    "$$\n",
    "\n",
    "Заменим матрицу X на матрицу Z: \n",
    "\n",
    "$$\n",
    "Z = XP (2.1)\n",
    "$$\n",
    "\n",
    "Пусть P при этом обратимая матрица, подходящей размерности для умножения.\n",
    "\n",
    "Вычислим, чему будет равно предсказание и вектор весов.\n",
    "\n",
    "$$\n",
    "a1 = Zw1 (2.2)\n",
    "$$\n",
    "\n",
    "$$\n",
    "w1 = (Z^T Z)^{-1} Z^T y\n",
    "$$\n",
    "\n",
    "Подставим значение w1 в уравнение 2.2, получим:\n",
    "\n",
    "$$\n",
    "a1 = Z (Z^T Z)^{-1} Z^T y\n",
    "$$\n",
    "\n",
    "Подставим вместо Z значение из 2.1:\n",
    "\n",
    "$$\n",
    "a1 = XP ((XP)^T (XP))^{-1} (XP)^T y\n",
    "$$\n",
    "\n",
    "$$\n",
    "a1 = XP ((XP)^T (XP))^{-1} (XP)^T y = XP ( P^T X^T X P)^{-1} P^T X^T y = XP (P^T X^T X P)^{-1}  P^T X^T y\n",
    "$$\n",
    "\n",
    "$$\n",
    "a1 = XP (P^T (X^T X) P)^{-1} P^T X^T y = XP P^{-1} (P^T (X^T X))^{-1} P^T X^T y = X (X^T X)^{-1} (P^T)^{-1} P^T X^T y\n",
    "$$\n",
    "\n",
    "$$\n",
    "a1 = X (X^T X)^{-1} X^T y = X w = a\n",
    "$$\n"
   ]
  },
  {
   "cell_type": "code",
   "execution_count": 9,
   "metadata": {},
   "outputs": [],
   "source": [
    "\n",
    "# w_P = P^{-1} w - это замена НУЖНАЯ"
   ]
  },
  {
   "cell_type": "markdown",
   "metadata": {},
   "source": [
    "## Алгоритм преобразования"
   ]
  },
  {
   "cell_type": "markdown",
   "metadata": {},
   "source": [
    "**Алгоритм**\n",
    "\n",
    "Для защиты персональной информации на этапе поиска коэффициентов регрессии и предсказаний будем умножать матрицу признаков на обратимую матрицу, которую будет генерироваться случайным образом.\n",
    "\n",
    "Этапы алгоритма:\n",
    "\n",
    "Составление матрицы Y\n",
    "\n",
    "Проверка матрицы на обратимость. Вычисление определителя матрицы Y\n",
    "\n",
    "Получение матрицы преобразованных признаков Z = XY\n",
    "\n",
    "Применение алгоритма на преобразованных признаках Z\n"
   ]
  },
  {
   "cell_type": "markdown",
   "metadata": {},
   "source": [
    "**Обоснование:**\n",
    "\n",
    "Матрица Y должна иметь необходимую размерность nxn, где n - количество признаков для регрессии. Таким образом, матрица Z будет иметь ту же размерность, что и матрица X. Обратная матрица существует, когда определитель не равен нулю."
   ]
  },
  {
   "cell_type": "markdown",
   "metadata": {},
   "source": [
    "## Проверка алгоритма"
   ]
  },
  {
   "cell_type": "markdown",
   "metadata": {},
   "source": [
    "Проведем исследование модели по двум направлениям:\n",
    "\n",
    "Исследуем качество модели без преобразования. \n",
    "\n",
    "1.1 С исходными признаками \n",
    "\n",
    "1.2 С отмасштабированными признаками\n",
    "\n",
    "Исследуем качество модели с преобразованием. \n",
    "\n",
    "2.1 С исходными признаками \n",
    "\n",
    "2.2 С отмасштабированными признаками\n",
    "\n",
    "Разделим данные на обучающие и тестовые."
   ]
  },
  {
   "cell_type": "code",
   "execution_count": 10,
   "metadata": {},
   "outputs": [],
   "source": [
    "features_train, features_test, target_train, target_test = train_test_split(\n",
    "    features, target, test_size=0.25, random_state=12345)"
   ]
  },
  {
   "cell_type": "code",
   "execution_count": 11,
   "metadata": {},
   "outputs": [
    {
     "name": "stdout",
     "output_type": "stream",
     "text": [
      "w-vector coef [ 1.79258369e-02  3.57228278e-02 -5.46000708e-07 -1.26186590e-02]\n",
      "R2 = 0.43522757127026546\n"
     ]
    }
   ],
   "source": [
    "model = LinearRegression()\n",
    "model.fit(features_train, target_train)\n",
    "prediction = model.predict(features_test)\n",
    "R2_LR_origin_data = r2_score(target_test, prediction)\n",
    "print(\"w-vector coef\", model.coef_)\n",
    "print(\"R2 =\", R2_LR_origin_data)"
   ]
  },
  {
   "cell_type": "code",
   "execution_count": 12,
   "metadata": {},
   "outputs": [
    {
     "name": "stdout",
     "output_type": "stream",
     "text": [
      "R2 = 0.4352275712702668\n"
     ]
    }
   ],
   "source": [
    "regressor = LinearRegression()\n",
    "scaller = StandardScaler()\n",
    "pipeline = Pipeline([(\"standard_scaller\", scaller),(\"linear_regression\", regressor)])\n",
    "pipeline.fit(features_train, target_train)\n",
    "R2_LR_origin_data_scaled = r2_score(target_test, pipeline.predict(features_test))\n",
    "print(\"R2 =\", R2_LR_origin_data_scaled)"
   ]
  },
  {
   "cell_type": "markdown",
   "metadata": {},
   "source": [
    "Модель ведет себя одинаково как на исходных данных, так и на отмасштабированных. "
   ]
  },
  {
   "cell_type": "markdown",
   "metadata": {},
   "source": [
    "Создадим функцию преобразования матрицы признаков."
   ]
  },
  {
   "cell_type": "code",
   "execution_count": 13,
   "metadata": {},
   "outputs": [],
   "source": [
    "def cipher_features(features):\n",
    "    crypted_features = features\n",
    "    n = features.shape[1]\n",
    "    np.random.seed(12345)\n",
    "    cipher_matrix = np.random.randint(1, 10, (n,n))\n",
    "    det = np.linalg.det(cipher_matrix)\n",
    "    while det == 0:\n",
    "        cipher_matrix = np.random.randint(1, 10, (n,n))\n",
    "        det = np.linalg.det(cipher_matrix)\n",
    "    crypted_features = crypted_features @ cipher_matrix\n",
    "    return crypted_features, cipher_matrix"
   ]
  },
  {
   "cell_type": "markdown",
   "metadata": {},
   "source": [
    "Присваивается переменной значения признаков, сохраняется размер для того, чтобы потом при генерации матрицы дать такой размер, чтобы можно было адекватно соразмерно умножить, далее генерируется случайная последовательность, создается случайная матрица, проверяется на обратимость, и пока она не будет обратима, повторяется генерация случайной последовательности и создается матрица, потом когда она все-таки получилась обратимой, преобразуем данные."
   ]
  },
  {
   "cell_type": "markdown",
   "metadata": {},
   "source": [
    "Выведем данные до преобразования и после."
   ]
  },
  {
   "cell_type": "code",
   "execution_count": 14,
   "metadata": {},
   "outputs": [],
   "source": [
    "old_features = features"
   ]
  },
  {
   "cell_type": "code",
   "execution_count": 15,
   "metadata": {},
   "outputs": [
    {
     "data": {
      "text/html": [
       "<div>\n",
       "<style scoped>\n",
       "    .dataframe tbody tr th:only-of-type {\n",
       "        vertical-align: middle;\n",
       "    }\n",
       "\n",
       "    .dataframe tbody tr th {\n",
       "        vertical-align: top;\n",
       "    }\n",
       "\n",
       "    .dataframe thead th {\n",
       "        text-align: right;\n",
       "    }\n",
       "</style>\n",
       "<table border=\"1\" class=\"dataframe\">\n",
       "  <thead>\n",
       "    <tr style=\"text-align: right;\">\n",
       "      <th></th>\n",
       "      <th>Пол</th>\n",
       "      <th>Возраст</th>\n",
       "      <th>Зарплата</th>\n",
       "      <th>Члены семьи</th>\n",
       "    </tr>\n",
       "  </thead>\n",
       "  <tbody>\n",
       "    <tr>\n",
       "      <th>0</th>\n",
       "      <td>1</td>\n",
       "      <td>41</td>\n",
       "      <td>49600.0</td>\n",
       "      <td>1</td>\n",
       "    </tr>\n",
       "    <tr>\n",
       "      <th>1</th>\n",
       "      <td>0</td>\n",
       "      <td>46</td>\n",
       "      <td>38000.0</td>\n",
       "      <td>1</td>\n",
       "    </tr>\n",
       "    <tr>\n",
       "      <th>2</th>\n",
       "      <td>0</td>\n",
       "      <td>29</td>\n",
       "      <td>21000.0</td>\n",
       "      <td>0</td>\n",
       "    </tr>\n",
       "    <tr>\n",
       "      <th>3</th>\n",
       "      <td>0</td>\n",
       "      <td>21</td>\n",
       "      <td>41700.0</td>\n",
       "      <td>2</td>\n",
       "    </tr>\n",
       "    <tr>\n",
       "      <th>4</th>\n",
       "      <td>1</td>\n",
       "      <td>28</td>\n",
       "      <td>26100.0</td>\n",
       "      <td>0</td>\n",
       "    </tr>\n",
       "  </tbody>\n",
       "</table>\n",
       "</div>"
      ],
      "text/plain": [
       "   Пол  Возраст  Зарплата  Члены семьи\n",
       "0    1       41   49600.0            1\n",
       "1    0       46   38000.0            1\n",
       "2    0       29   21000.0            0\n",
       "3    0       21   41700.0            2\n",
       "4    1       28   26100.0            0"
      ]
     },
     "metadata": {},
     "output_type": "display_data"
    },
    {
     "data": {
      "text/html": [
       "<div>\n",
       "<style scoped>\n",
       "    .dataframe tbody tr th:only-of-type {\n",
       "        vertical-align: middle;\n",
       "    }\n",
       "\n",
       "    .dataframe tbody tr th {\n",
       "        vertical-align: top;\n",
       "    }\n",
       "\n",
       "    .dataframe thead th {\n",
       "        text-align: right;\n",
       "    }\n",
       "</style>\n",
       "<table border=\"1\" class=\"dataframe\">\n",
       "  <thead>\n",
       "    <tr style=\"text-align: right;\">\n",
       "      <th></th>\n",
       "      <th>0</th>\n",
       "      <th>1</th>\n",
       "      <th>2</th>\n",
       "      <th>3</th>\n",
       "    </tr>\n",
       "  </thead>\n",
       "  <tbody>\n",
       "    <tr>\n",
       "      <th>0</th>\n",
       "      <td>99452.0</td>\n",
       "      <td>396931.0</td>\n",
       "      <td>347287.0</td>\n",
       "      <td>49899.0</td>\n",
       "    </tr>\n",
       "    <tr>\n",
       "      <th>1</th>\n",
       "      <td>76279.0</td>\n",
       "      <td>304140.0</td>\n",
       "      <td>266095.0</td>\n",
       "      <td>38329.0</td>\n",
       "    </tr>\n",
       "    <tr>\n",
       "      <th>2</th>\n",
       "      <td>42174.0</td>\n",
       "      <td>168087.0</td>\n",
       "      <td>147058.0</td>\n",
       "      <td>21203.0</td>\n",
       "    </tr>\n",
       "    <tr>\n",
       "      <th>3</th>\n",
       "      <td>83532.0</td>\n",
       "      <td>333667.0</td>\n",
       "      <td>291948.0</td>\n",
       "      <td>41861.0</td>\n",
       "    </tr>\n",
       "    <tr>\n",
       "      <th>4</th>\n",
       "      <td>52371.0</td>\n",
       "      <td>208890.0</td>\n",
       "      <td>182758.0</td>\n",
       "      <td>26301.0</td>\n",
       "    </tr>\n",
       "  </tbody>\n",
       "</table>\n",
       "</div>"
      ],
      "text/plain": [
       "         0         1         2        3\n",
       "0  99452.0  396931.0  347287.0  49899.0\n",
       "1  76279.0  304140.0  266095.0  38329.0\n",
       "2  42174.0  168087.0  147058.0  21203.0\n",
       "3  83532.0  333667.0  291948.0  41861.0\n",
       "4  52371.0  208890.0  182758.0  26301.0"
      ]
     },
     "metadata": {},
     "output_type": "display_data"
    },
    {
     "data": {
      "text/plain": [
       "array([[3, 6, 2, 5],\n",
       "       [6, 3, 2, 7],\n",
       "       [2, 8, 7, 1],\n",
       "       [3, 2, 3, 7]])"
      ]
     },
     "execution_count": 15,
     "metadata": {},
     "output_type": "execute_result"
    }
   ],
   "source": [
    "display(features.head())\n",
    "features, cipher_matrix = cipher_features(features)\n",
    "display(features.head())\n",
    "cipher_matrix"
   ]
  },
  {
   "cell_type": "code",
   "execution_count": 16,
   "metadata": {},
   "outputs": [],
   "source": [
    "# Для восстановления нужно закодированные данные умножить на обратную матрицу\n",
    "new_old_features =  features @ np.linalg.inv(cipher_matrix) "
   ]
  },
  {
   "cell_type": "markdown",
   "metadata": {},
   "source": [
    "Данные потеряли свои начальные значения. \n",
    "Разобьем данные на тренировочную и обучающую выборку и проверим зачение R2"
   ]
  },
  {
   "cell_type": "code",
   "execution_count": 17,
   "metadata": {},
   "outputs": [],
   "source": [
    "features_train, features_test, target_train, target_test = train_test_split(\n",
    "    features, target, test_size=0.25, random_state=12345)"
   ]
  },
  {
   "cell_type": "code",
   "execution_count": 18,
   "metadata": {},
   "outputs": [
    {
     "name": "stdout",
     "output_type": "stream",
     "text": [
      "w-vector coef [ 0.01280453  0.00328449 -0.00664342 -0.00538157]\n",
      "R2 = 0.43522757127030764\n"
     ]
    }
   ],
   "source": [
    "model = LinearRegression()\n",
    "model.fit(features_train, target_train)\n",
    "R2_LR_cipher_data = r2_score(target_test, model.predict(features_test))\n",
    "print(\"w-vector coef\",model.coef_)\n",
    "print(\"R2 =\", R2_LR_cipher_data)"
   ]
  },
  {
   "cell_type": "code",
   "execution_count": 19,
   "metadata": {},
   "outputs": [
    {
     "name": "stdout",
     "output_type": "stream",
     "text": [
      "R2 = 0.43522757127026535\n"
     ]
    }
   ],
   "source": [
    "regressor = LinearRegression()\n",
    "scaller = StandardScaler()\n",
    "pipeline = Pipeline([(\"standard_scaller\", scaller),(\"linear_regression\", regressor)])\n",
    "pipeline.fit(features_train, target_train)\n",
    "R2_LR_cipher_data_scaled = r2_score(target_test, pipeline.predict(features_test))\n",
    "print(\"R2 =\", R2_LR_cipher_data_scaled)"
   ]
  },
  {
   "cell_type": "markdown",
   "metadata": {},
   "source": [
    "Сравним показатели качества моделей:"
   ]
  },
  {
   "cell_type": "code",
   "execution_count": 20,
   "metadata": {},
   "outputs": [
    {
     "data": {
      "text/html": [
       "<div>\n",
       "<style scoped>\n",
       "    .dataframe tbody tr th:only-of-type {\n",
       "        vertical-align: middle;\n",
       "    }\n",
       "\n",
       "    .dataframe tbody tr th {\n",
       "        vertical-align: top;\n",
       "    }\n",
       "\n",
       "    .dataframe thead th {\n",
       "        text-align: right;\n",
       "    }\n",
       "</style>\n",
       "<table border=\"1\" class=\"dataframe\">\n",
       "  <thead>\n",
       "    <tr style=\"text-align: right;\">\n",
       "      <th></th>\n",
       "      <th>R2</th>\n",
       "    </tr>\n",
       "  </thead>\n",
       "  <tbody>\n",
       "    <tr>\n",
       "      <th>Линейная регрессия</th>\n",
       "      <td>0.435228</td>\n",
       "    </tr>\n",
       "    <tr>\n",
       "      <th>Линейная регрессия c масштабом</th>\n",
       "      <td>0.435228</td>\n",
       "    </tr>\n",
       "    <tr>\n",
       "      <th>Линейная регрессия на преобразованных признаках</th>\n",
       "      <td>0.435228</td>\n",
       "    </tr>\n",
       "    <tr>\n",
       "      <th>Линейная регрессия на преобразованных признаках c масштабом</th>\n",
       "      <td>0.435228</td>\n",
       "    </tr>\n",
       "  </tbody>\n",
       "</table>\n",
       "</div>"
      ],
      "text/plain": [
       "                                                          R2\n",
       "Линейная регрессия                                  0.435228\n",
       "Линейная регрессия c масштабом                      0.435228\n",
       "Линейная регрессия на преобразованных признаках     0.435228\n",
       "Линейная регрессия на преобразованных признаках...  0.435228"
      ]
     },
     "execution_count": 20,
     "metadata": {},
     "output_type": "execute_result"
    }
   ],
   "source": [
    "result = pd.DataFrame(data= [R2_LR_origin_data_scaled,\n",
    "                      R2_LR_origin_data,\n",
    "                      R2_LR_cipher_data,\n",
    "                      R2_LR_cipher_data_scaled], \n",
    "                     columns=['R2'], \n",
    "                     index=['Линейная регрессия',\n",
    "                            'Линейная регрессия c масштабом',\n",
    "                            'Линейная регрессия на преобразованных признаках',\n",
    "                            'Линейная регрессия на преобразованных признаках c масштабом',])\n",
    "result"
   ]
  },
  {
   "cell_type": "markdown",
   "metadata": {},
   "source": [
    "Вывод:\n",
    "\n",
    "Были загружены и изучены данные\n",
    "\n",
    "Качество линейной регресии не меняется при замене исходной матрицы на исходную матрицу, умноженную на обратимую.\n",
    "\n",
    "Создан алгоритм преобразования данных с защитой персональных данных\n",
    "\n",
    "Исследован алгоритм преобразования данных и проверена метрика R2 для данных без преобразования и с преобразованием\n",
    "\n",
    "Можно сделать вывод, что данные очень просто зашифровать от распознавания, имея правильную матрицу."
   ]
  }
 ],
 "metadata": {
  "ExecuteTimeLog": [
   {
    "duration": 47,
    "start_time": "2023-10-03T01:05:07.423Z"
   },
   {
    "duration": 1178,
    "start_time": "2023-10-03T01:05:10.029Z"
   },
   {
    "duration": 75,
    "start_time": "2023-10-03T01:05:11.210Z"
   },
   {
    "duration": 12,
    "start_time": "2023-10-03T01:05:11.418Z"
   },
   {
    "duration": 16,
    "start_time": "2023-10-03T01:05:20.800Z"
   },
   {
    "duration": 13,
    "start_time": "2023-10-03T01:06:12.334Z"
   },
   {
    "duration": 6,
    "start_time": "2023-10-03T01:06:19.846Z"
   },
   {
    "duration": 87,
    "start_time": "2023-10-03T01:06:27.859Z"
   },
   {
    "duration": 6,
    "start_time": "2023-10-03T01:09:16.756Z"
   },
   {
    "duration": 9,
    "start_time": "2023-10-03T01:13:25.571Z"
   },
   {
    "duration": 13,
    "start_time": "2023-10-03T01:13:55.216Z"
   },
   {
    "duration": 5,
    "start_time": "2023-10-03T02:14:22.996Z"
   },
   {
    "duration": 16,
    "start_time": "2023-10-03T02:14:24.408Z"
   },
   {
    "duration": 1256,
    "start_time": "2023-10-03T03:47:35.783Z"
   },
   {
    "duration": 29,
    "start_time": "2023-10-03T03:47:37.041Z"
   },
   {
    "duration": 16,
    "start_time": "2023-10-03T03:47:37.072Z"
   },
   {
    "duration": 23,
    "start_time": "2023-10-03T03:47:37.091Z"
   },
   {
    "duration": 25,
    "start_time": "2023-10-03T03:47:37.115Z"
   },
   {
    "duration": 33,
    "start_time": "2023-10-03T03:47:37.142Z"
   },
   {
    "duration": 47,
    "start_time": "2023-10-03T03:47:37.177Z"
   },
   {
    "duration": 59,
    "start_time": "2023-10-03T03:47:37.226Z"
   },
   {
    "duration": 29,
    "start_time": "2023-10-03T03:47:37.286Z"
   },
   {
    "duration": 200,
    "start_time": "2023-10-03T03:47:37.318Z"
   },
   {
    "duration": 83,
    "start_time": "2023-10-03T03:47:37.519Z"
   },
   {
    "duration": 20,
    "start_time": "2023-10-03T03:47:37.604Z"
   },
   {
    "duration": 43,
    "start_time": "2023-10-03T03:47:37.626Z"
   },
   {
    "duration": 64,
    "start_time": "2023-10-03T03:47:37.671Z"
   },
   {
    "duration": 89,
    "start_time": "2023-10-03T03:47:37.737Z"
   },
   {
    "duration": 88,
    "start_time": "2023-10-03T03:47:37.828Z"
   },
   {
    "duration": 96,
    "start_time": "2023-10-03T03:47:37.919Z"
   },
   {
    "duration": 0,
    "start_time": "2023-10-03T03:47:38.017Z"
   },
   {
    "duration": 1095,
    "start_time": "2023-10-03T03:47:57.951Z"
   },
   {
    "duration": 30,
    "start_time": "2023-10-03T03:47:59.048Z"
   },
   {
    "duration": 12,
    "start_time": "2023-10-03T03:47:59.079Z"
   },
   {
    "duration": 26,
    "start_time": "2023-10-03T03:47:59.093Z"
   },
   {
    "duration": 16,
    "start_time": "2023-10-03T03:47:59.121Z"
   },
   {
    "duration": 34,
    "start_time": "2023-10-03T03:47:59.138Z"
   },
   {
    "duration": 37,
    "start_time": "2023-10-03T03:47:59.174Z"
   },
   {
    "duration": 35,
    "start_time": "2023-10-03T03:47:59.212Z"
   },
   {
    "duration": 62,
    "start_time": "2023-10-03T03:47:59.249Z"
   },
   {
    "duration": 95,
    "start_time": "2023-10-03T03:47:59.315Z"
   },
   {
    "duration": 11,
    "start_time": "2023-10-03T03:47:59.412Z"
   },
   {
    "duration": 4,
    "start_time": "2023-10-03T03:47:59.425Z"
   },
   {
    "duration": 20,
    "start_time": "2023-10-03T03:47:59.430Z"
   },
   {
    "duration": 5,
    "start_time": "2023-10-03T03:47:59.451Z"
   },
   {
    "duration": 46,
    "start_time": "2023-10-03T03:47:59.457Z"
   },
   {
    "duration": 13,
    "start_time": "2023-10-03T03:47:59.504Z"
   },
   {
    "duration": 12,
    "start_time": "2023-10-03T03:47:59.518Z"
   },
   {
    "duration": 1127,
    "start_time": "2023-10-05T10:30:54.251Z"
   },
   {
    "duration": 87,
    "start_time": "2023-10-05T10:30:55.380Z"
   },
   {
    "duration": 14,
    "start_time": "2023-10-05T10:30:55.469Z"
   },
   {
    "duration": 32,
    "start_time": "2023-10-05T10:30:55.485Z"
   },
   {
    "duration": 16,
    "start_time": "2023-10-05T10:30:55.519Z"
   },
   {
    "duration": 18,
    "start_time": "2023-10-05T10:30:55.537Z"
   },
   {
    "duration": 9,
    "start_time": "2023-10-05T10:30:55.557Z"
   },
   {
    "duration": 49,
    "start_time": "2023-10-05T10:30:55.568Z"
   },
   {
    "duration": 8,
    "start_time": "2023-10-05T10:30:55.704Z"
   },
   {
    "duration": 135,
    "start_time": "2023-10-05T10:30:55.716Z"
   },
   {
    "duration": 38,
    "start_time": "2023-10-05T10:30:55.852Z"
   },
   {
    "duration": 4,
    "start_time": "2023-10-05T10:30:55.892Z"
   },
   {
    "duration": 48,
    "start_time": "2023-10-05T10:30:55.898Z"
   },
   {
    "duration": 6,
    "start_time": "2023-10-05T10:30:55.948Z"
   },
   {
    "duration": 71,
    "start_time": "2023-10-05T10:30:55.957Z"
   },
   {
    "duration": 25,
    "start_time": "2023-10-05T10:30:56.030Z"
   },
   {
    "duration": 19,
    "start_time": "2023-10-05T10:30:56.057Z"
   },
   {
    "duration": 100,
    "start_time": "2023-10-05T10:36:05.052Z"
   },
   {
    "duration": 169,
    "start_time": "2023-10-05T10:36:10.548Z"
   },
   {
    "duration": 136,
    "start_time": "2023-10-05T10:36:26.446Z"
   },
   {
    "duration": 80,
    "start_time": "2023-10-05T10:36:47.916Z"
   },
   {
    "duration": 1183,
    "start_time": "2023-10-05T10:37:05.163Z"
   },
   {
    "duration": 30,
    "start_time": "2023-10-05T10:37:06.348Z"
   },
   {
    "duration": 46,
    "start_time": "2023-10-05T10:37:06.380Z"
   },
   {
    "duration": 26,
    "start_time": "2023-10-05T10:37:06.428Z"
   },
   {
    "duration": 10,
    "start_time": "2023-10-05T10:37:06.457Z"
   },
   {
    "duration": 30,
    "start_time": "2023-10-05T10:37:06.469Z"
   },
   {
    "duration": 11,
    "start_time": "2023-10-05T10:37:06.502Z"
   },
   {
    "duration": 37,
    "start_time": "2023-10-05T10:37:06.516Z"
   },
   {
    "duration": 99,
    "start_time": "2023-10-05T10:37:06.603Z"
   },
   {
    "duration": 12,
    "start_time": "2023-10-05T10:37:06.705Z"
   },
   {
    "duration": 19,
    "start_time": "2023-10-05T10:37:06.719Z"
   },
   {
    "duration": 5,
    "start_time": "2023-10-05T10:37:06.740Z"
   },
   {
    "duration": 77,
    "start_time": "2023-10-05T10:37:06.746Z"
   },
   {
    "duration": 10,
    "start_time": "2023-10-05T10:37:06.825Z"
   },
   {
    "duration": 39,
    "start_time": "2023-10-05T10:37:06.837Z"
   },
   {
    "duration": 30,
    "start_time": "2023-10-05T10:37:06.878Z"
   },
   {
    "duration": 14,
    "start_time": "2023-10-05T10:37:06.911Z"
   },
   {
    "duration": 126,
    "start_time": "2023-10-05T10:41:21.447Z"
   },
   {
    "duration": 137,
    "start_time": "2023-10-05T10:43:17.316Z"
   },
   {
    "duration": 116,
    "start_time": "2023-10-05T10:43:25.271Z"
   },
   {
    "duration": 112,
    "start_time": "2023-10-05T10:43:29.430Z"
   },
   {
    "duration": 300,
    "start_time": "2023-10-05T10:48:38.812Z"
   },
   {
    "duration": 3,
    "start_time": "2023-10-05T10:57:44.695Z"
   },
   {
    "duration": 122,
    "start_time": "2023-10-05T11:12:18.157Z"
   },
   {
    "duration": 1238,
    "start_time": "2023-10-05T11:12:27.960Z"
   },
   {
    "duration": 33,
    "start_time": "2023-10-05T11:12:29.200Z"
   },
   {
    "duration": 23,
    "start_time": "2023-10-05T11:12:29.235Z"
   },
   {
    "duration": 18,
    "start_time": "2023-10-05T11:12:29.261Z"
   },
   {
    "duration": 11,
    "start_time": "2023-10-05T11:12:29.281Z"
   },
   {
    "duration": 25,
    "start_time": "2023-10-05T11:12:29.294Z"
   },
   {
    "duration": 17,
    "start_time": "2023-10-05T11:12:29.321Z"
   },
   {
    "duration": 65,
    "start_time": "2023-10-05T11:12:29.340Z"
   },
   {
    "duration": 2,
    "start_time": "2023-10-05T11:12:29.414Z"
   },
   {
    "duration": 96,
    "start_time": "2023-10-05T11:12:29.419Z"
   },
   {
    "duration": 12,
    "start_time": "2023-10-05T11:12:29.517Z"
   },
   {
    "duration": 67,
    "start_time": "2023-10-05T11:12:29.532Z"
   },
   {
    "duration": 22,
    "start_time": "2023-10-05T11:12:29.601Z"
   },
   {
    "duration": 35,
    "start_time": "2023-10-05T11:12:29.625Z"
   },
   {
    "duration": 48,
    "start_time": "2023-10-05T11:12:29.663Z"
   },
   {
    "duration": 305,
    "start_time": "2023-10-05T11:12:29.717Z"
   },
   {
    "duration": 0,
    "start_time": "2023-10-05T11:12:30.024Z"
   },
   {
    "duration": 0,
    "start_time": "2023-10-05T11:12:30.026Z"
   },
   {
    "duration": 0,
    "start_time": "2023-10-05T11:12:30.027Z"
   },
   {
    "duration": 0,
    "start_time": "2023-10-05T11:12:30.029Z"
   },
   {
    "duration": 0,
    "start_time": "2023-10-05T11:12:30.031Z"
   },
   {
    "duration": 18,
    "start_time": "2023-10-05T11:12:57.894Z"
   },
   {
    "duration": 804,
    "start_time": "2023-10-05T11:13:28.548Z"
   },
   {
    "duration": 8,
    "start_time": "2023-10-05T11:14:19.095Z"
   },
   {
    "duration": 17,
    "start_time": "2023-10-05T11:14:27.360Z"
   },
   {
    "duration": 5,
    "start_time": "2023-10-05T11:14:46.835Z"
   },
   {
    "duration": 4,
    "start_time": "2023-10-05T11:15:46.992Z"
   },
   {
    "duration": 14,
    "start_time": "2023-10-05T11:15:51.542Z"
   },
   {
    "duration": 578,
    "start_time": "2023-10-05T11:16:45.119Z"
   },
   {
    "duration": 5,
    "start_time": "2023-10-05T11:18:22.250Z"
   },
   {
    "duration": 11,
    "start_time": "2023-10-05T11:19:26.044Z"
   },
   {
    "duration": 4,
    "start_time": "2023-10-05T13:37:58.169Z"
   },
   {
    "duration": 52,
    "start_time": "2023-10-05T13:41:47.935Z"
   },
   {
    "duration": 2671,
    "start_time": "2023-10-05T13:41:54.417Z"
   },
   {
    "duration": 92,
    "start_time": "2023-10-05T13:41:57.090Z"
   },
   {
    "duration": 10,
    "start_time": "2023-10-05T13:41:57.184Z"
   },
   {
    "duration": 14,
    "start_time": "2023-10-05T13:41:57.197Z"
   },
   {
    "duration": 35,
    "start_time": "2023-10-05T13:41:57.213Z"
   },
   {
    "duration": 25,
    "start_time": "2023-10-05T13:41:57.249Z"
   },
   {
    "duration": 14,
    "start_time": "2023-10-05T13:41:57.276Z"
   },
   {
    "duration": 42,
    "start_time": "2023-10-05T13:41:57.291Z"
   },
   {
    "duration": 100,
    "start_time": "2023-10-05T13:41:57.350Z"
   },
   {
    "duration": 291,
    "start_time": "2023-10-05T13:41:57.454Z"
   },
   {
    "duration": 35,
    "start_time": "2023-10-05T13:41:57.746Z"
   },
   {
    "duration": 186,
    "start_time": "2023-10-05T13:41:57.783Z"
   },
   {
    "duration": 26,
    "start_time": "2023-10-05T13:41:57.970Z"
   },
   {
    "duration": 34,
    "start_time": "2023-10-05T13:41:57.997Z"
   },
   {
    "duration": 45,
    "start_time": "2023-10-05T13:41:58.033Z"
   },
   {
    "duration": 11,
    "start_time": "2023-10-05T13:41:58.080Z"
   },
   {
    "duration": 59,
    "start_time": "2023-10-05T13:41:58.093Z"
   },
   {
    "duration": 98,
    "start_time": "2023-10-05T13:41:58.153Z"
   },
   {
    "duration": 14,
    "start_time": "2023-10-05T13:41:58.254Z"
   },
   {
    "duration": 34,
    "start_time": "2023-10-05T13:41:58.270Z"
   },
   {
    "duration": 12,
    "start_time": "2023-10-05T13:42:37.355Z"
   }
  ],
  "kernelspec": {
   "display_name": "Python 3 (ipykernel)",
   "language": "python",
   "name": "python3"
  },
  "language_info": {
   "codemirror_mode": {
    "name": "ipython",
    "version": 3
   },
   "file_extension": ".py",
   "mimetype": "text/x-python",
   "name": "python",
   "nbconvert_exporter": "python",
   "pygments_lexer": "ipython3",
   "version": "3.9.5"
  },
  "toc": {
   "base_numbering": 1,
   "nav_menu": {},
   "number_sections": true,
   "sideBar": true,
   "skip_h1_title": true,
   "title_cell": "Содержание",
   "title_sidebar": "Contents",
   "toc_cell": true,
   "toc_position": {},
   "toc_section_display": true,
   "toc_window_display": true
  }
 },
 "nbformat": 4,
 "nbformat_minor": 2
}
