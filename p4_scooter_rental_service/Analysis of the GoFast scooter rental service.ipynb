{
 "cells": [
  {
   "cell_type": "markdown",
   "id": "d424de89",
   "metadata": {},
   "source": [
    "Анализ сервиса аренды самокатов GoFast\n",
    "\n",
    "Вы аналитик популярного сервиса аренды самокатов GoFast. Вам передали данные о некоторых пользователях из нескольких городов, а также об их поездках. Проанализируйте данные и проверьте некоторые гипотезы, которые могут помочь бизнесу вырасти.\n",
    "\n",
    "Чтобы совершать поездки по городу, пользователи сервиса GoFast пользуются мобильным приложением. Сервисом можно пользоваться:\n",
    "\n",
    "без подписки\n",
    "абонентская плата отсутствует;\n",
    "стоимость одной минуты поездки — 8 рублей;\n",
    "стоимость старта (начала поездки) — 50 рублей;\n",
    "с подпиской Ultra\n",
    "абонентская плата — 199 рублей в месяц;\n",
    "стоимость одной минуты поездки — 6 рублей;\n",
    "стоимость старта — бесплатно.\n",
    "Описание данных\n",
    "\n",
    "Пользователи — users_go.csv\n",
    "\n",
    "user_id — уникальный идентификатор пользователя\n",
    "name — имя пользователя\n",
    "age — возраст\n",
    "city — город\n",
    "subscription_type — тип подписки (free, ultra)\n",
    "Поeздки — rides_go.csv\n",
    "\n",
    "user_id — уникальный идентификатор пользователя\n",
    "distance — расстояние, которое пользователь проехал в текущей сессии (в метрах)\n",
    "duration — продолжительность сессии (в минутах) — время с того момента, как пользователь нажал кнопку «Начать поездку» до момента, как он нажал кнопку «Завершить поездку»\n",
    "date — дата совершения поездки\n",
    "Подписки — subscriptions_go.csv\n",
    "\n",
    "subscription_type — тип подписки\n",
    "minute_price — стоимость одной минуты поездки по данной подписке\n",
    "start_ride_price — стоимость начала поездки\n",
    "subscription_fee — стоимость ежемесячного платежа"
   ]
  },
  {
   "cell_type": "code",
   "execution_count": 1,
   "id": "b30279da",
   "metadata": {},
   "outputs": [],
   "source": [
    "import pandas as pd\n",
    "import matplotlib.pyplot as plt\n",
    "import seaborn as sns\n",
    "import plotly.express as px\n",
    "import numpy as np\n",
    "from scipy import stats as st"
   ]
  },
  {
   "cell_type": "markdown",
   "id": "c42cbe00",
   "metadata": {},
   "source": [
    "#### Шаг 1. Загрузка данных"
   ]
  },
  {
   "cell_type": "code",
   "execution_count": 2,
   "id": "eff9f206",
   "metadata": {},
   "outputs": [
    {
     "name": "stdout",
     "output_type": "stream",
     "text": [
      "<class 'pandas.core.frame.DataFrame'>\n",
      "RangeIndex: 1565 entries, 0 to 1564\n",
      "Data columns (total 5 columns):\n",
      " #   Column             Non-Null Count  Dtype \n",
      "---  ------             --------------  ----- \n",
      " 0   user_id            1565 non-null   int64 \n",
      " 1   name               1565 non-null   object\n",
      " 2   age                1565 non-null   int64 \n",
      " 3   city               1565 non-null   object\n",
      " 4   subscription_type  1565 non-null   object\n",
      "dtypes: int64(2), object(3)\n",
      "memory usage: 61.3+ KB\n"
     ]
    },
    {
     "data": {
      "text/html": [
       "<div>\n",
       "<style scoped>\n",
       "    .dataframe tbody tr th:only-of-type {\n",
       "        vertical-align: middle;\n",
       "    }\n",
       "\n",
       "    .dataframe tbody tr th {\n",
       "        vertical-align: top;\n",
       "    }\n",
       "\n",
       "    .dataframe thead th {\n",
       "        text-align: right;\n",
       "    }\n",
       "</style>\n",
       "<table border=\"1\" class=\"dataframe\">\n",
       "  <thead>\n",
       "    <tr style=\"text-align: right;\">\n",
       "      <th></th>\n",
       "      <th>user_id</th>\n",
       "      <th>name</th>\n",
       "      <th>age</th>\n",
       "      <th>city</th>\n",
       "      <th>subscription_type</th>\n",
       "    </tr>\n",
       "  </thead>\n",
       "  <tbody>\n",
       "    <tr>\n",
       "      <th>0</th>\n",
       "      <td>1</td>\n",
       "      <td>Кира</td>\n",
       "      <td>22</td>\n",
       "      <td>Тюмень</td>\n",
       "      <td>ultra</td>\n",
       "    </tr>\n",
       "    <tr>\n",
       "      <th>1</th>\n",
       "      <td>2</td>\n",
       "      <td>Станислав</td>\n",
       "      <td>31</td>\n",
       "      <td>Омск</td>\n",
       "      <td>ultra</td>\n",
       "    </tr>\n",
       "    <tr>\n",
       "      <th>2</th>\n",
       "      <td>3</td>\n",
       "      <td>Алексей</td>\n",
       "      <td>20</td>\n",
       "      <td>Москва</td>\n",
       "      <td>ultra</td>\n",
       "    </tr>\n",
       "    <tr>\n",
       "      <th>3</th>\n",
       "      <td>4</td>\n",
       "      <td>Константин</td>\n",
       "      <td>26</td>\n",
       "      <td>Ростов-на-Дону</td>\n",
       "      <td>ultra</td>\n",
       "    </tr>\n",
       "    <tr>\n",
       "      <th>4</th>\n",
       "      <td>5</td>\n",
       "      <td>Адель</td>\n",
       "      <td>28</td>\n",
       "      <td>Омск</td>\n",
       "      <td>ultra</td>\n",
       "    </tr>\n",
       "    <tr>\n",
       "      <th>5</th>\n",
       "      <td>6</td>\n",
       "      <td>Регина</td>\n",
       "      <td>25</td>\n",
       "      <td>Краснодар</td>\n",
       "      <td>ultra</td>\n",
       "    </tr>\n",
       "    <tr>\n",
       "      <th>6</th>\n",
       "      <td>7</td>\n",
       "      <td>Игорь</td>\n",
       "      <td>23</td>\n",
       "      <td>Омск</td>\n",
       "      <td>ultra</td>\n",
       "    </tr>\n",
       "    <tr>\n",
       "      <th>7</th>\n",
       "      <td>8</td>\n",
       "      <td>Юрий</td>\n",
       "      <td>23</td>\n",
       "      <td>Краснодар</td>\n",
       "      <td>ultra</td>\n",
       "    </tr>\n",
       "    <tr>\n",
       "      <th>8</th>\n",
       "      <td>9</td>\n",
       "      <td>Ян</td>\n",
       "      <td>21</td>\n",
       "      <td>Пятигорск</td>\n",
       "      <td>ultra</td>\n",
       "    </tr>\n",
       "    <tr>\n",
       "      <th>9</th>\n",
       "      <td>10</td>\n",
       "      <td>Валерий</td>\n",
       "      <td>18</td>\n",
       "      <td>Екатеринбург</td>\n",
       "      <td>ultra</td>\n",
       "    </tr>\n",
       "    <tr>\n",
       "      <th>10</th>\n",
       "      <td>11</td>\n",
       "      <td>Агата</td>\n",
       "      <td>31</td>\n",
       "      <td>Краснодар</td>\n",
       "      <td>ultra</td>\n",
       "    </tr>\n",
       "    <tr>\n",
       "      <th>11</th>\n",
       "      <td>12</td>\n",
       "      <td>Марк</td>\n",
       "      <td>27</td>\n",
       "      <td>Тюмень</td>\n",
       "      <td>ultra</td>\n",
       "    </tr>\n",
       "    <tr>\n",
       "      <th>12</th>\n",
       "      <td>13</td>\n",
       "      <td>Ева</td>\n",
       "      <td>24</td>\n",
       "      <td>Краснодар</td>\n",
       "      <td>ultra</td>\n",
       "    </tr>\n",
       "    <tr>\n",
       "      <th>13</th>\n",
       "      <td>14</td>\n",
       "      <td>Антонина</td>\n",
       "      <td>18</td>\n",
       "      <td>Пятигорск</td>\n",
       "      <td>ultra</td>\n",
       "    </tr>\n",
       "    <tr>\n",
       "      <th>14</th>\n",
       "      <td>15</td>\n",
       "      <td>Валерия</td>\n",
       "      <td>24</td>\n",
       "      <td>Тюмень</td>\n",
       "      <td>ultra</td>\n",
       "    </tr>\n",
       "    <tr>\n",
       "      <th>15</th>\n",
       "      <td>16</td>\n",
       "      <td>Амалия</td>\n",
       "      <td>27</td>\n",
       "      <td>Краснодар</td>\n",
       "      <td>ultra</td>\n",
       "    </tr>\n",
       "    <tr>\n",
       "      <th>16</th>\n",
       "      <td>17</td>\n",
       "      <td>Даниил</td>\n",
       "      <td>29</td>\n",
       "      <td>Москва</td>\n",
       "      <td>ultra</td>\n",
       "    </tr>\n",
       "    <tr>\n",
       "      <th>17</th>\n",
       "      <td>18</td>\n",
       "      <td>Аделина</td>\n",
       "      <td>24</td>\n",
       "      <td>Сочи</td>\n",
       "      <td>ultra</td>\n",
       "    </tr>\n",
       "    <tr>\n",
       "      <th>18</th>\n",
       "      <td>19</td>\n",
       "      <td>Регина</td>\n",
       "      <td>32</td>\n",
       "      <td>Тюмень</td>\n",
       "      <td>ultra</td>\n",
       "    </tr>\n",
       "    <tr>\n",
       "      <th>19</th>\n",
       "      <td>20</td>\n",
       "      <td>Игорь</td>\n",
       "      <td>23</td>\n",
       "      <td>Омск</td>\n",
       "      <td>ultra</td>\n",
       "    </tr>\n",
       "  </tbody>\n",
       "</table>\n",
       "</div>"
      ],
      "text/plain": [
       "    user_id        name  age            city subscription_type\n",
       "0         1        Кира   22          Тюмень             ultra\n",
       "1         2   Станислав   31            Омск             ultra\n",
       "2         3     Алексей   20          Москва             ultra\n",
       "3         4  Константин   26  Ростов-на-Дону             ultra\n",
       "4         5       Адель   28            Омск             ultra\n",
       "5         6      Регина   25       Краснодар             ultra\n",
       "6         7       Игорь   23            Омск             ultra\n",
       "7         8        Юрий   23       Краснодар             ultra\n",
       "8         9          Ян   21       Пятигорск             ultra\n",
       "9        10     Валерий   18    Екатеринбург             ultra\n",
       "10       11       Агата   31       Краснодар             ultra\n",
       "11       12        Марк   27          Тюмень             ultra\n",
       "12       13         Ева   24       Краснодар             ultra\n",
       "13       14    Антонина   18       Пятигорск             ultra\n",
       "14       15     Валерия   24          Тюмень             ultra\n",
       "15       16      Амалия   27       Краснодар             ultra\n",
       "16       17      Даниил   29          Москва             ultra\n",
       "17       18     Аделина   24            Сочи             ultra\n",
       "18       19      Регина   32          Тюмень             ultra\n",
       "19       20       Игорь   23            Омск             ultra"
      ]
     },
     "execution_count": 2,
     "metadata": {},
     "output_type": "execute_result"
    }
   ],
   "source": [
    "users_go = pd.read_csv('/datasets/users_go.csv')\n",
    "users_go.info()\n",
    "users_go.head(20)"
   ]
  },
  {
   "cell_type": "code",
   "execution_count": 3,
   "id": "1b10d2af",
   "metadata": {},
   "outputs": [
    {
     "name": "stdout",
     "output_type": "stream",
     "text": [
      "<class 'pandas.core.frame.DataFrame'>\n",
      "RangeIndex: 18068 entries, 0 to 18067\n",
      "Data columns (total 4 columns):\n",
      " #   Column    Non-Null Count  Dtype  \n",
      "---  ------    --------------  -----  \n",
      " 0   user_id   18068 non-null  int64  \n",
      " 1   distance  18068 non-null  float64\n",
      " 2   duration  18068 non-null  float64\n",
      " 3   date      18068 non-null  object \n",
      "dtypes: float64(2), int64(1), object(1)\n",
      "memory usage: 564.8+ KB\n"
     ]
    },
    {
     "data": {
      "text/html": [
       "<div>\n",
       "<style scoped>\n",
       "    .dataframe tbody tr th:only-of-type {\n",
       "        vertical-align: middle;\n",
       "    }\n",
       "\n",
       "    .dataframe tbody tr th {\n",
       "        vertical-align: top;\n",
       "    }\n",
       "\n",
       "    .dataframe thead th {\n",
       "        text-align: right;\n",
       "    }\n",
       "</style>\n",
       "<table border=\"1\" class=\"dataframe\">\n",
       "  <thead>\n",
       "    <tr style=\"text-align: right;\">\n",
       "      <th></th>\n",
       "      <th>user_id</th>\n",
       "      <th>distance</th>\n",
       "      <th>duration</th>\n",
       "      <th>date</th>\n",
       "    </tr>\n",
       "  </thead>\n",
       "  <tbody>\n",
       "    <tr>\n",
       "      <th>0</th>\n",
       "      <td>1</td>\n",
       "      <td>4409.919140</td>\n",
       "      <td>25.599769</td>\n",
       "      <td>2021-01-01</td>\n",
       "    </tr>\n",
       "    <tr>\n",
       "      <th>1</th>\n",
       "      <td>1</td>\n",
       "      <td>2617.592153</td>\n",
       "      <td>15.816871</td>\n",
       "      <td>2021-01-18</td>\n",
       "    </tr>\n",
       "    <tr>\n",
       "      <th>2</th>\n",
       "      <td>1</td>\n",
       "      <td>754.159807</td>\n",
       "      <td>6.232113</td>\n",
       "      <td>2021-04-20</td>\n",
       "    </tr>\n",
       "    <tr>\n",
       "      <th>3</th>\n",
       "      <td>1</td>\n",
       "      <td>2694.783254</td>\n",
       "      <td>18.511000</td>\n",
       "      <td>2021-08-11</td>\n",
       "    </tr>\n",
       "    <tr>\n",
       "      <th>4</th>\n",
       "      <td>1</td>\n",
       "      <td>4028.687306</td>\n",
       "      <td>26.265803</td>\n",
       "      <td>2021-08-28</td>\n",
       "    </tr>\n",
       "    <tr>\n",
       "      <th>5</th>\n",
       "      <td>1</td>\n",
       "      <td>2770.890808</td>\n",
       "      <td>16.650138</td>\n",
       "      <td>2021-10-09</td>\n",
       "    </tr>\n",
       "    <tr>\n",
       "      <th>6</th>\n",
       "      <td>1</td>\n",
       "      <td>3039.020292</td>\n",
       "      <td>14.927879</td>\n",
       "      <td>2021-10-19</td>\n",
       "    </tr>\n",
       "    <tr>\n",
       "      <th>7</th>\n",
       "      <td>1</td>\n",
       "      <td>2842.118050</td>\n",
       "      <td>23.117468</td>\n",
       "      <td>2021-11-06</td>\n",
       "    </tr>\n",
       "    <tr>\n",
       "      <th>8</th>\n",
       "      <td>1</td>\n",
       "      <td>3412.690668</td>\n",
       "      <td>15.238072</td>\n",
       "      <td>2021-11-14</td>\n",
       "    </tr>\n",
       "    <tr>\n",
       "      <th>9</th>\n",
       "      <td>1</td>\n",
       "      <td>748.690645</td>\n",
       "      <td>15.041884</td>\n",
       "      <td>2021-11-22</td>\n",
       "    </tr>\n",
       "    <tr>\n",
       "      <th>10</th>\n",
       "      <td>1</td>\n",
       "      <td>4031.020195</td>\n",
       "      <td>17.674448</td>\n",
       "      <td>2021-12-14</td>\n",
       "    </tr>\n",
       "    <tr>\n",
       "      <th>11</th>\n",
       "      <td>1</td>\n",
       "      <td>2720.609748</td>\n",
       "      <td>9.529463</td>\n",
       "      <td>2021-12-22</td>\n",
       "    </tr>\n",
       "    <tr>\n",
       "      <th>12</th>\n",
       "      <td>2</td>\n",
       "      <td>3105.086678</td>\n",
       "      <td>24.307514</td>\n",
       "      <td>2021-03-15</td>\n",
       "    </tr>\n",
       "    <tr>\n",
       "      <th>13</th>\n",
       "      <td>2</td>\n",
       "      <td>3053.519401</td>\n",
       "      <td>11.543256</td>\n",
       "      <td>2021-03-18</td>\n",
       "    </tr>\n",
       "    <tr>\n",
       "      <th>14</th>\n",
       "      <td>2</td>\n",
       "      <td>4029.116927</td>\n",
       "      <td>25.109188</td>\n",
       "      <td>2021-03-23</td>\n",
       "    </tr>\n",
       "    <tr>\n",
       "      <th>15</th>\n",
       "      <td>2</td>\n",
       "      <td>2805.786329</td>\n",
       "      <td>20.652145</td>\n",
       "      <td>2021-04-08</td>\n",
       "    </tr>\n",
       "    <tr>\n",
       "      <th>16</th>\n",
       "      <td>2</td>\n",
       "      <td>3358.595495</td>\n",
       "      <td>18.396489</td>\n",
       "      <td>2021-04-13</td>\n",
       "    </tr>\n",
       "    <tr>\n",
       "      <th>17</th>\n",
       "      <td>2</td>\n",
       "      <td>3255.338202</td>\n",
       "      <td>13.851127</td>\n",
       "      <td>2021-06-20</td>\n",
       "    </tr>\n",
       "    <tr>\n",
       "      <th>18</th>\n",
       "      <td>2</td>\n",
       "      <td>3942.817648</td>\n",
       "      <td>20.142725</td>\n",
       "      <td>2021-07-02</td>\n",
       "    </tr>\n",
       "    <tr>\n",
       "      <th>19</th>\n",
       "      <td>2</td>\n",
       "      <td>2837.905316</td>\n",
       "      <td>26.027432</td>\n",
       "      <td>2021-07-18</td>\n",
       "    </tr>\n",
       "  </tbody>\n",
       "</table>\n",
       "</div>"
      ],
      "text/plain": [
       "    user_id     distance   duration        date\n",
       "0         1  4409.919140  25.599769  2021-01-01\n",
       "1         1  2617.592153  15.816871  2021-01-18\n",
       "2         1   754.159807   6.232113  2021-04-20\n",
       "3         1  2694.783254  18.511000  2021-08-11\n",
       "4         1  4028.687306  26.265803  2021-08-28\n",
       "5         1  2770.890808  16.650138  2021-10-09\n",
       "6         1  3039.020292  14.927879  2021-10-19\n",
       "7         1  2842.118050  23.117468  2021-11-06\n",
       "8         1  3412.690668  15.238072  2021-11-14\n",
       "9         1   748.690645  15.041884  2021-11-22\n",
       "10        1  4031.020195  17.674448  2021-12-14\n",
       "11        1  2720.609748   9.529463  2021-12-22\n",
       "12        2  3105.086678  24.307514  2021-03-15\n",
       "13        2  3053.519401  11.543256  2021-03-18\n",
       "14        2  4029.116927  25.109188  2021-03-23\n",
       "15        2  2805.786329  20.652145  2021-04-08\n",
       "16        2  3358.595495  18.396489  2021-04-13\n",
       "17        2  3255.338202  13.851127  2021-06-20\n",
       "18        2  3942.817648  20.142725  2021-07-02\n",
       "19        2  2837.905316  26.027432  2021-07-18"
      ]
     },
     "execution_count": 3,
     "metadata": {},
     "output_type": "execute_result"
    }
   ],
   "source": [
    "riders_go = pd.read_csv('/datasets/rides_go.csv')\n",
    "riders_go.info()\n",
    "riders_go.head(20)"
   ]
  },
  {
   "cell_type": "code",
   "execution_count": 4,
   "id": "2691fff6",
   "metadata": {},
   "outputs": [
    {
     "name": "stdout",
     "output_type": "stream",
     "text": [
      "<class 'pandas.core.frame.DataFrame'>\n",
      "RangeIndex: 2 entries, 0 to 1\n",
      "Data columns (total 4 columns):\n",
      " #   Column             Non-Null Count  Dtype \n",
      "---  ------             --------------  ----- \n",
      " 0   subscription_type  2 non-null      object\n",
      " 1   minute_price       2 non-null      int64 \n",
      " 2   start_ride_price   2 non-null      int64 \n",
      " 3   subscription_fee   2 non-null      int64 \n",
      "dtypes: int64(3), object(1)\n",
      "memory usage: 192.0+ bytes\n"
     ]
    },
    {
     "data": {
      "text/html": [
       "<div>\n",
       "<style scoped>\n",
       "    .dataframe tbody tr th:only-of-type {\n",
       "        vertical-align: middle;\n",
       "    }\n",
       "\n",
       "    .dataframe tbody tr th {\n",
       "        vertical-align: top;\n",
       "    }\n",
       "\n",
       "    .dataframe thead th {\n",
       "        text-align: right;\n",
       "    }\n",
       "</style>\n",
       "<table border=\"1\" class=\"dataframe\">\n",
       "  <thead>\n",
       "    <tr style=\"text-align: right;\">\n",
       "      <th></th>\n",
       "      <th>subscription_type</th>\n",
       "      <th>minute_price</th>\n",
       "      <th>start_ride_price</th>\n",
       "      <th>subscription_fee</th>\n",
       "    </tr>\n",
       "  </thead>\n",
       "  <tbody>\n",
       "    <tr>\n",
       "      <th>0</th>\n",
       "      <td>free</td>\n",
       "      <td>8</td>\n",
       "      <td>50</td>\n",
       "      <td>0</td>\n",
       "    </tr>\n",
       "    <tr>\n",
       "      <th>1</th>\n",
       "      <td>ultra</td>\n",
       "      <td>6</td>\n",
       "      <td>0</td>\n",
       "      <td>199</td>\n",
       "    </tr>\n",
       "  </tbody>\n",
       "</table>\n",
       "</div>"
      ],
      "text/plain": [
       "  subscription_type  minute_price  start_ride_price  subscription_fee\n",
       "0              free             8                50                 0\n",
       "1             ultra             6                 0               199"
      ]
     },
     "execution_count": 4,
     "metadata": {},
     "output_type": "execute_result"
    }
   ],
   "source": [
    "subscriptions_go = pd.read_csv('/datasets/subscriptions_go.csv')\n",
    "subscriptions_go.info()\n",
    "subscriptions_go.head()"
   ]
  },
  {
   "cell_type": "markdown",
   "id": "f5572234",
   "metadata": {},
   "source": [
    "Вывод:\n",
    "\n",
    "Загрузили и рассмотрели данные о пользователях, поездках и тарифах. Содержится информация о возрасте и городе пользователя, а также о длительности и протяженности поездок, дате поездки.\n",
    "\n",
    "Существует два типа подписок - ultra и free. То есть бесплатная и платная. Содержится информация о стартовой цене"
   ]
  },
  {
   "cell_type": "markdown",
   "id": "e95ebca7",
   "metadata": {},
   "source": [
    "#### Шаг 2. Предобработка данных"
   ]
  },
  {
   "cell_type": "code",
   "execution_count": 5,
   "id": "af6d202c",
   "metadata": {},
   "outputs": [
    {
     "data": {
      "text/plain": [
       "user_id              int64\n",
       "distance           float64\n",
       "duration           float64\n",
       "date        datetime64[ns]\n",
       "dtype: object"
      ]
     },
     "execution_count": 5,
     "metadata": {},
     "output_type": "execute_result"
    }
   ],
   "source": [
    "riders_go['date'] = pd.to_datetime(riders_go['date'], format='%Y-%m-%dT%H:%M:%S')\n",
    "riders_go.dtypes"
   ]
  },
  {
   "cell_type": "code",
   "execution_count": 6,
   "id": "1e33d094",
   "metadata": {},
   "outputs": [
    {
     "data": {
      "text/html": [
       "<div>\n",
       "<style scoped>\n",
       "    .dataframe tbody tr th:only-of-type {\n",
       "        vertical-align: middle;\n",
       "    }\n",
       "\n",
       "    .dataframe tbody tr th {\n",
       "        vertical-align: top;\n",
       "    }\n",
       "\n",
       "    .dataframe thead th {\n",
       "        text-align: right;\n",
       "    }\n",
       "</style>\n",
       "<table border=\"1\" class=\"dataframe\">\n",
       "  <thead>\n",
       "    <tr style=\"text-align: right;\">\n",
       "      <th></th>\n",
       "      <th>user_id</th>\n",
       "      <th>distance</th>\n",
       "      <th>duration</th>\n",
       "      <th>date</th>\n",
       "      <th>month</th>\n",
       "    </tr>\n",
       "  </thead>\n",
       "  <tbody>\n",
       "    <tr>\n",
       "      <th>0</th>\n",
       "      <td>1</td>\n",
       "      <td>4409.919140</td>\n",
       "      <td>25.599769</td>\n",
       "      <td>2021-01-01</td>\n",
       "      <td>1</td>\n",
       "    </tr>\n",
       "    <tr>\n",
       "      <th>1</th>\n",
       "      <td>1</td>\n",
       "      <td>2617.592153</td>\n",
       "      <td>15.816871</td>\n",
       "      <td>2021-01-18</td>\n",
       "      <td>1</td>\n",
       "    </tr>\n",
       "    <tr>\n",
       "      <th>2</th>\n",
       "      <td>1</td>\n",
       "      <td>754.159807</td>\n",
       "      <td>6.232113</td>\n",
       "      <td>2021-04-20</td>\n",
       "      <td>4</td>\n",
       "    </tr>\n",
       "    <tr>\n",
       "      <th>3</th>\n",
       "      <td>1</td>\n",
       "      <td>2694.783254</td>\n",
       "      <td>18.511000</td>\n",
       "      <td>2021-08-11</td>\n",
       "      <td>8</td>\n",
       "    </tr>\n",
       "    <tr>\n",
       "      <th>4</th>\n",
       "      <td>1</td>\n",
       "      <td>4028.687306</td>\n",
       "      <td>26.265803</td>\n",
       "      <td>2021-08-28</td>\n",
       "      <td>8</td>\n",
       "    </tr>\n",
       "  </tbody>\n",
       "</table>\n",
       "</div>"
      ],
      "text/plain": [
       "   user_id     distance   duration       date  month\n",
       "0        1  4409.919140  25.599769 2021-01-01      1\n",
       "1        1  2617.592153  15.816871 2021-01-18      1\n",
       "2        1   754.159807   6.232113 2021-04-20      4\n",
       "3        1  2694.783254  18.511000 2021-08-11      8\n",
       "4        1  4028.687306  26.265803 2021-08-28      8"
      ]
     },
     "execution_count": 6,
     "metadata": {},
     "output_type": "execute_result"
    }
   ],
   "source": [
    "riders_go['month'] = riders_go['date'].dt.month\n",
    "riders_go.head()"
   ]
  },
  {
   "cell_type": "code",
   "execution_count": 7,
   "id": "0c2759d1",
   "metadata": {},
   "outputs": [
    {
     "data": {
      "text/plain": [
       "user_id              0\n",
       "name                 0\n",
       "age                  0\n",
       "city                 0\n",
       "subscription_type    0\n",
       "dtype: int64"
      ]
     },
     "execution_count": 7,
     "metadata": {},
     "output_type": "execute_result"
    }
   ],
   "source": [
    "users_go.isna().sum()"
   ]
  },
  {
   "cell_type": "code",
   "execution_count": 8,
   "id": "a5755583",
   "metadata": {},
   "outputs": [
    {
     "data": {
      "text/plain": [
       "user_id     0\n",
       "distance    0\n",
       "duration    0\n",
       "date        0\n",
       "month       0\n",
       "dtype: int64"
      ]
     },
     "execution_count": 8,
     "metadata": {},
     "output_type": "execute_result"
    }
   ],
   "source": [
    "riders_go.isna().sum()"
   ]
  },
  {
   "cell_type": "code",
   "execution_count": 9,
   "id": "55abfcdd",
   "metadata": {},
   "outputs": [
    {
     "data": {
      "text/plain": [
       "subscription_type    0\n",
       "minute_price         0\n",
       "start_ride_price     0\n",
       "subscription_fee     0\n",
       "dtype: int64"
      ]
     },
     "execution_count": 9,
     "metadata": {},
     "output_type": "execute_result"
    }
   ],
   "source": [
    "subscriptions_go.isna().sum()"
   ]
  },
  {
   "cell_type": "code",
   "execution_count": 10,
   "id": "f54eb516",
   "metadata": {},
   "outputs": [
    {
     "data": {
      "text/plain": [
       "31"
      ]
     },
     "execution_count": 10,
     "metadata": {},
     "output_type": "execute_result"
    }
   ],
   "source": [
    "users_go.duplicated().sum()"
   ]
  },
  {
   "cell_type": "code",
   "execution_count": 11,
   "id": "cf29496a",
   "metadata": {},
   "outputs": [],
   "source": [
    "users_go.drop_duplicates(inplace=True)"
   ]
  },
  {
   "cell_type": "code",
   "execution_count": 12,
   "id": "17983c5d",
   "metadata": {},
   "outputs": [
    {
     "data": {
      "text/plain": [
       "0"
      ]
     },
     "execution_count": 12,
     "metadata": {},
     "output_type": "execute_result"
    }
   ],
   "source": [
    "riders_go.duplicated().sum()"
   ]
  },
  {
   "cell_type": "code",
   "execution_count": 13,
   "id": "6203fb7a",
   "metadata": {},
   "outputs": [
    {
     "data": {
      "text/plain": [
       "0"
      ]
     },
     "execution_count": 13,
     "metadata": {},
     "output_type": "execute_result"
    }
   ],
   "source": [
    "subscriptions_go.duplicated().sum()"
   ]
  },
  {
   "cell_type": "markdown",
   "id": "2e706406",
   "metadata": {},
   "source": [
    "Вывод: \n",
    "Добавлен столбец month с номер месяца\n",
    "\n",
    "Пропущенных данных в таблицах нет\n",
    "\n",
    "Обнаружены и удалены строки-дубликаты среди пользователей"
   ]
  },
  {
   "cell_type": "markdown",
   "id": "212593c7",
   "metadata": {},
   "source": [
    "#### Шаг 3. Исследовательский анализ данных"
   ]
  },
  {
   "cell_type": "code",
   "execution_count": 14,
   "id": "e3a4274c",
   "metadata": {},
   "outputs": [
    {
     "data": {
      "text/plain": [
       "Пятигорск         219\n",
       "Екатеринбург      204\n",
       "Ростов-на-Дону    198\n",
       "Краснодар         193\n",
       "Сочи              189\n",
       "Омск              183\n",
       "Тюмень            180\n",
       "Москва            168\n",
       "Name: city, dtype: int64"
      ]
     },
     "execution_count": 14,
     "metadata": {},
     "output_type": "execute_result"
    }
   ],
   "source": [
    "count_of_users_by_city = users_go['city'].value_counts()\n",
    "count_of_users_by_city"
   ]
  },
  {
   "cell_type": "code",
   "execution_count": 15,
   "id": "b42d9950",
   "metadata": {},
   "outputs": [
    {
     "data": {
      "image/png": "[encoded data removed]",
      "text/plain": [
       "<Figure size 432x288 with 1 Axes>"
      ]
     },
     "metadata": {
      "needs_background": "light"
     },
     "output_type": "display_data"
    }
   ],
   "source": [
    "plt.hist(users_go['city'], bins = 50)\n",
    "plt.title('Распределение пользователей по городам')\n",
    "plt.xlabel('Город')\n",
    "plt.xticks(rotation=90)\n",
    "plt.ylabel('Количество пользователей')\n",
    "plt.grid()\n",
    "plt.show()"
   ]
  },
  {
   "cell_type": "code",
   "execution_count": 16,
   "id": "d6bd6399",
   "metadata": {},
   "outputs": [
    {
     "data": {
      "image/png": "[encoded data removed]",
      "text/plain": [
       "<Figure size 864x360 with 1 Axes>"
      ]
     },
     "metadata": {
      "needs_background": "light"
     },
     "output_type": "display_data"
    }
   ],
   "source": [
    "# Код ревьюера\n",
    "plt.figure(figsize = (12, 5))\n",
    "users_go['city'].value_counts(ascending = True).plot(\n",
    "    kind = 'barh',\n",
    "    title = 'Частотность городов')\n",
    "plt.xlabel('Количество пользователей')\n",
    "plt.ylabel('Город')\n",
    "plt.show()"
   ]
  },
  {
   "cell_type": "markdown",
   "id": "6ed7dc2a",
   "metadata": {},
   "source": [
    "Пользователи распределены примерно одинаково по всем городам. Больше всего пользователей в Пятигорске. Меньше всего в Москве"
   ]
  },
  {
   "cell_type": "code",
   "execution_count": 17,
   "id": "4e56b037",
   "metadata": {},
   "outputs": [
    {
     "data": {
      "text/plain": [
       "free     835\n",
       "ultra    699\n",
       "Name: subscription_type, dtype: int64"
      ]
     },
     "execution_count": 17,
     "metadata": {},
     "output_type": "execute_result"
    }
   ],
   "source": [
    "count_of_users_by_sub = users_go['subscription_type'].value_counts()\n",
    "count_of_users_by_sub"
   ]
  },
  {
   "cell_type": "code",
   "execution_count": 18,
   "id": "b74915ab",
   "metadata": {},
   "outputs": [
    {
     "data": {
      "image/png": "[encoded data removed]",
      "text/plain": [
       "<Figure size 648x648 with 1 Axes>"
      ]
     },
     "metadata": {},
     "output_type": "display_data"
    }
   ],
   "source": [
    "users_go['subscription_type'].value_counts().plot(\n",
    "    kind = 'pie', \n",
    "    y = count_of_users_by_sub,\n",
    "    autopct = '%1.0f%%',\n",
    "    figsize=(9,9), \n",
    "    title = 'Распределение пользователей по типу подписки');"
   ]
  },
  {
   "cell_type": "markdown",
   "id": "f2e4bbb7",
   "metadata": {},
   "source": [
    "Пользователей на бесплатном тарифе оказалось больше, чем пользователей с подпиской"
   ]
  },
  {
   "cell_type": "code",
   "execution_count": 19,
   "id": "bc13cb31",
   "metadata": {},
   "outputs": [
    {
     "data": {
      "text/plain": [
       "25    145\n",
       "24    132\n",
       "26    131\n",
       "23    129\n",
       "27    119\n",
       "22    119\n",
       "28    112\n",
       "21     93\n",
       "20     71\n",
       "30     68\n",
       "29     68\n",
       "31     48\n",
       "19     47\n",
       "18     46\n",
       "32     41\n",
       "33     39\n",
       "17     26\n",
       "34     19\n",
       "16     19\n",
       "35     15\n",
       "15     13\n",
       "14      9\n",
       "13      8\n",
       "36      6\n",
       "12      4\n",
       "38      3\n",
       "37      2\n",
       "39      1\n",
       "43      1\n",
       "Name: age, dtype: int64"
      ]
     },
     "execution_count": 19,
     "metadata": {},
     "output_type": "execute_result"
    }
   ],
   "source": [
    "users_go['age'].value_counts()"
   ]
  },
  {
   "cell_type": "code",
   "execution_count": 20,
   "id": "3583baca",
   "metadata": {},
   "outputs": [
    {
     "data": {
      "image/png": "[encoded data removed]",
      "text/plain": [
       "<Figure size 432x288 with 1 Axes>"
      ]
     },
     "metadata": {
      "needs_background": "light"
     },
     "output_type": "display_data"
    }
   ],
   "source": [
    "plt.hist(users_go['age'], bins = 50)\n",
    "plt.title('Возраст пользователей')\n",
    "plt.xlabel('Возраст')\n",
    "plt.ylabel('Количество пользователей')\n",
    "plt.grid()\n",
    "plt.show()"
   ]
  },
  {
   "cell_type": "code",
   "execution_count": 21,
   "id": "44461ae3",
   "metadata": {},
   "outputs": [
    {
     "data": {
      "image/png": "[encoded data removed]",
      "text/plain": [
       "<Figure size 432x288 with 1 Axes>"
      ]
     },
     "metadata": {
      "needs_background": "light"
     },
     "output_type": "display_data"
    }
   ],
   "source": [
    "riders_go\n",
    "plt.hist(riders_go['distance'], bins = 10)\n",
    "plt.title('Преодоленное расстояние')\n",
    "plt.xlabel('Расстояние')\n",
    "plt.ylabel('Количество пользователей')\n",
    "plt.grid()\n",
    "plt.show()"
   ]
  },
  {
   "cell_type": "markdown",
   "id": "91f39de4",
   "metadata": {},
   "source": [
    "В основном, дистанция находится в промежутке от 2500 до 4000 м. Но есть и пройденные расстояния до 6,5 км"
   ]
  },
  {
   "cell_type": "code",
   "execution_count": 22,
   "id": "3689541f",
   "metadata": {},
   "outputs": [
    {
     "data": {
      "image/png": "[encoded data removed]",
      "text/plain": [
       "<Figure size 864x360 with 1 Axes>"
      ]
     },
     "metadata": {
      "needs_background": "light"
     },
     "output_type": "display_data"
    }
   ],
   "source": [
    "# Код ревьюера\n",
    "riders_go['distance'].hist(bins = 150, figsize = (12, 5))\n",
    "plt.title('Распределение расстояний поездок')\n",
    "plt.xlabel('Расстояние, м')\n",
    "plt.ylabel('Количество')\n",
    "plt.show()"
   ]
  },
  {
   "cell_type": "code",
   "execution_count": 23,
   "id": "1bef5a82",
   "metadata": {},
   "outputs": [
    {
     "data": {
      "text/plain": [
       "11555     0.855683\n",
       "9541      2.570787\n",
       "13690     4.329506\n",
       "8658      6.784447\n",
       "7841      7.097072\n",
       "8906     11.283615\n",
       "8324     12.233115\n",
       "13940    15.000606\n",
       "15626    15.366168\n",
       "11862    15.630873\n",
       "Name: distance, dtype: float64"
      ]
     },
     "execution_count": 23,
     "metadata": {},
     "output_type": "execute_result"
    }
   ],
   "source": [
    "#Самые короткие поездки\n",
    "riders_go['distance'].sort_values().head(10)"
   ]
  },
  {
   "cell_type": "code",
   "execution_count": 24,
   "id": "14d1334c",
   "metadata": {},
   "outputs": [
    {
     "data": {
      "text/plain": [
       "16309    7211.007745\n",
       "16484    7066.003772\n",
       "15580    6908.491343\n",
       "17171    6760.940067\n",
       "17242    6724.932981\n",
       "10341    6671.969833\n",
       "11385    6601.197575\n",
       "12086    6538.937375\n",
       "10915    6535.386520\n",
       "11319    6503.600402\n",
       "Name: distance, dtype: float64"
      ]
     },
     "execution_count": 24,
     "metadata": {},
     "output_type": "execute_result"
    }
   ],
   "source": [
    "#Самые длинные поездки\n",
    "riders_go['distance'].sort_values(ascending=False).head(10)"
   ]
  },
  {
   "cell_type": "code",
   "execution_count": 25,
   "id": "a0d2c926",
   "metadata": {},
   "outputs": [
    {
     "data": {
      "text/plain": [
       "12013    0.5\n",
       "17314    0.5\n",
       "15029    0.5\n",
       "7437     0.5\n",
       "12967    0.5\n",
       "15015    0.5\n",
       "13012    0.5\n",
       "7508     0.5\n",
       "16589    0.5\n",
       "9049     0.5\n",
       "Name: duration, dtype: float64"
      ]
     },
     "execution_count": 25,
     "metadata": {},
     "output_type": "execute_result"
    }
   ],
   "source": [
    "riders_go['duration'].sort_values().head(10)"
   ]
  },
  {
   "cell_type": "code",
   "execution_count": 26,
   "id": "d0dcaa30",
   "metadata": {},
   "outputs": [
    {
     "data": {
      "text/plain": [
       "4215    40.823963\n",
       "4709    39.873856\n",
       "2623    39.526602\n",
       "1998    38.352763\n",
       "6453    38.265229\n",
       "143     38.125729\n",
       "3729    37.014141\n",
       "499     36.906491\n",
       "6348    36.809310\n",
       "4653    36.622595\n",
       "Name: duration, dtype: float64"
      ]
     },
     "execution_count": 26,
     "metadata": {},
     "output_type": "execute_result"
    }
   ],
   "source": [
    "riders_go['duration'].sort_values(ascending=False).head(10)"
   ]
  },
  {
   "cell_type": "code",
   "execution_count": 27,
   "id": "b5818c06",
   "metadata": {},
   "outputs": [
    {
     "data": {
      "text/html": [
       "<div>\n",
       "<style scoped>\n",
       "    .dataframe tbody tr th:only-of-type {\n",
       "        vertical-align: middle;\n",
       "    }\n",
       "\n",
       "    .dataframe tbody tr th {\n",
       "        vertical-align: top;\n",
       "    }\n",
       "\n",
       "    .dataframe thead th {\n",
       "        text-align: right;\n",
       "    }\n",
       "</style>\n",
       "<table border=\"1\" class=\"dataframe\">\n",
       "  <thead>\n",
       "    <tr style=\"text-align: right;\">\n",
       "      <th></th>\n",
       "      <th>distance</th>\n",
       "      <th>duration</th>\n",
       "      <th>month</th>\n",
       "    </tr>\n",
       "    <tr>\n",
       "      <th>user_id</th>\n",
       "      <th></th>\n",
       "      <th></th>\n",
       "      <th></th>\n",
       "    </tr>\n",
       "  </thead>\n",
       "  <tbody>\n",
       "    <tr>\n",
       "      <th>1</th>\n",
       "      <td>34070.182066</td>\n",
       "      <td>204.604909</td>\n",
       "      <td>99</td>\n",
       "    </tr>\n",
       "    <tr>\n",
       "      <th>2</th>\n",
       "      <td>33964.058614</td>\n",
       "      <td>197.644279</td>\n",
       "      <td>67</td>\n",
       "    </tr>\n",
       "    <tr>\n",
       "      <th>3</th>\n",
       "      <td>36907.597866</td>\n",
       "      <td>233.193513</td>\n",
       "      <td>66</td>\n",
       "    </tr>\n",
       "    <tr>\n",
       "      <th>4</th>\n",
       "      <td>44837.189916</td>\n",
       "      <td>288.563581</td>\n",
       "      <td>107</td>\n",
       "    </tr>\n",
       "    <tr>\n",
       "      <th>5</th>\n",
       "      <td>35556.949649</td>\n",
       "      <td>174.073932</td>\n",
       "      <td>51</td>\n",
       "    </tr>\n",
       "    <tr>\n",
       "      <th>...</th>\n",
       "      <td>...</td>\n",
       "      <td>...</td>\n",
       "      <td>...</td>\n",
       "    </tr>\n",
       "    <tr>\n",
       "      <th>1530</th>\n",
       "      <td>46758.469822</td>\n",
       "      <td>292.366839</td>\n",
       "      <td>104</td>\n",
       "    </tr>\n",
       "    <tr>\n",
       "      <th>1531</th>\n",
       "      <td>67054.794222</td>\n",
       "      <td>408.192206</td>\n",
       "      <td>142</td>\n",
       "    </tr>\n",
       "    <tr>\n",
       "      <th>1532</th>\n",
       "      <td>33902.203192</td>\n",
       "      <td>212.160144</td>\n",
       "      <td>111</td>\n",
       "    </tr>\n",
       "    <tr>\n",
       "      <th>1533</th>\n",
       "      <td>36890.192211</td>\n",
       "      <td>240.580297</td>\n",
       "      <td>65</td>\n",
       "    </tr>\n",
       "    <tr>\n",
       "      <th>1534</th>\n",
       "      <td>41898.442847</td>\n",
       "      <td>229.835127</td>\n",
       "      <td>100</td>\n",
       "    </tr>\n",
       "  </tbody>\n",
       "</table>\n",
       "<p>1534 rows × 3 columns</p>\n",
       "</div>"
      ],
      "text/plain": [
       "             distance    duration  month\n",
       "user_id                                 \n",
       "1        34070.182066  204.604909     99\n",
       "2        33964.058614  197.644279     67\n",
       "3        36907.597866  233.193513     66\n",
       "4        44837.189916  288.563581    107\n",
       "5        35556.949649  174.073932     51\n",
       "...               ...         ...    ...\n",
       "1530     46758.469822  292.366839    104\n",
       "1531     67054.794222  408.192206    142\n",
       "1532     33902.203192  212.160144    111\n",
       "1533     36890.192211  240.580297     65\n",
       "1534     41898.442847  229.835127    100\n",
       "\n",
       "[1534 rows x 3 columns]"
      ]
     },
     "execution_count": 27,
     "metadata": {},
     "output_type": "execute_result"
    }
   ],
   "source": [
    "# Общее время поездок и дистанция для каждого пользователя:\n",
    "riders_go.groupby(['user_id']).sum(numeric_only = True)"
   ]
  },
  {
   "cell_type": "code",
   "execution_count": 28,
   "id": "11b0f939",
   "metadata": {},
   "outputs": [
    {
     "data": {
      "image/png": "[encoded data removed]",
      "text/plain": [
       "<Figure size 432x288 with 1 Axes>"
      ]
     },
     "metadata": {
      "needs_background": "light"
     },
     "output_type": "display_data"
    }
   ],
   "source": [
    "sns.boxplot(x = riders_go['duration'])\n",
    "plt.title('Время, проведенное в поездке')\n",
    "plt.xlabel('Время, минуты')\n",
    "_ = plt.xlim(0, 45)"
   ]
  },
  {
   "cell_type": "markdown",
   "id": "eaf875f4",
   "metadata": {},
   "source": [
    "Вывод:\n",
    "Частота встречаемости городов\n",
    "Примерно одинаковое распределение пользователей по городам. Лидером по кол-ву пользователей является Пятигорск - 219 пользователей. Меньше всего пользователей в Москве - 168 пользователей. Возможно это связано с тем, что в маленьком городе небольшие расстояния, для которых отлично подходит самокат. \n",
    "\n",
    "Соотношение пользователей с подпиской и без подписки\n",
    "\n",
    "Пользователей, использующих бесплатную подписку - 835 человек - примерно 54% от общего кол-ва пользователей. \n",
    "Пользователей, использующих платную подписку больше - 699 человек - ~46%\n",
    "Пользователей, использующих бесплатную подписку больше, чем пользователей, использующих платную подписку.\n",
    "\n",
    "Возраст пользователей\n",
    "\n",
    "Возраст пользователей начинается с 12 лет и заканчивается возрастом 43 года.\n",
    "Больше всего пользователей в возрасте от 20 до 30 лет.\n",
    "\n",
    "Расстояние, которое пользователь преодолел за одну поездку\n",
    "\n",
    "Самая короткая дистанция - 0.86 км\n",
    "Самая длинная дистанция - 7.2 км\n",
    "В основном пользователи проезжают от 2.5 км до 4 км.\n",
    "\n",
    "Продолжительность поездок\n",
    "\n",
    "Самые короткие поездки - 0.5 минуты. Скорее всего, пользователь просто передумал брать самокат или самокат неисправен.\n",
    "Самая длинная поездка - 40 минут.\n",
    "В основном длительность поездки около 13 - 22 минут."
   ]
  },
  {
   "cell_type": "markdown",
   "id": "4ef51331",
   "metadata": {},
   "source": [
    "#### Шаг 4. Объединение данных"
   ]
  },
  {
   "cell_type": "code",
   "execution_count": 29,
   "id": "6bf288b5",
   "metadata": {},
   "outputs": [],
   "source": [
    "riders_go['duration'] = np.ceil(riders_go['duration']) "
   ]
  },
  {
   "cell_type": "code",
   "execution_count": 30,
   "id": "ca47e059",
   "metadata": {},
   "outputs": [
    {
     "data": {
      "text/html": [
       "<div>\n",
       "<style scoped>\n",
       "    .dataframe tbody tr th:only-of-type {\n",
       "        vertical-align: middle;\n",
       "    }\n",
       "\n",
       "    .dataframe tbody tr th {\n",
       "        vertical-align: top;\n",
       "    }\n",
       "\n",
       "    .dataframe thead th {\n",
       "        text-align: right;\n",
       "    }\n",
       "</style>\n",
       "<table border=\"1\" class=\"dataframe\">\n",
       "  <thead>\n",
       "    <tr style=\"text-align: right;\">\n",
       "      <th></th>\n",
       "      <th>user_id</th>\n",
       "      <th>name</th>\n",
       "      <th>age</th>\n",
       "      <th>city</th>\n",
       "      <th>subscription_type</th>\n",
       "      <th>distance</th>\n",
       "      <th>duration</th>\n",
       "      <th>date</th>\n",
       "      <th>month</th>\n",
       "      <th>minute_price</th>\n",
       "      <th>start_ride_price</th>\n",
       "      <th>subscription_fee</th>\n",
       "    </tr>\n",
       "  </thead>\n",
       "  <tbody>\n",
       "    <tr>\n",
       "      <th>0</th>\n",
       "      <td>1</td>\n",
       "      <td>Кира</td>\n",
       "      <td>22</td>\n",
       "      <td>Тюмень</td>\n",
       "      <td>ultra</td>\n",
       "      <td>4409.919140</td>\n",
       "      <td>26.0</td>\n",
       "      <td>2021-01-01</td>\n",
       "      <td>1</td>\n",
       "      <td>6</td>\n",
       "      <td>0</td>\n",
       "      <td>199</td>\n",
       "    </tr>\n",
       "    <tr>\n",
       "      <th>1</th>\n",
       "      <td>1</td>\n",
       "      <td>Кира</td>\n",
       "      <td>22</td>\n",
       "      <td>Тюмень</td>\n",
       "      <td>ultra</td>\n",
       "      <td>2617.592153</td>\n",
       "      <td>16.0</td>\n",
       "      <td>2021-01-18</td>\n",
       "      <td>1</td>\n",
       "      <td>6</td>\n",
       "      <td>0</td>\n",
       "      <td>199</td>\n",
       "    </tr>\n",
       "    <tr>\n",
       "      <th>2</th>\n",
       "      <td>1</td>\n",
       "      <td>Кира</td>\n",
       "      <td>22</td>\n",
       "      <td>Тюмень</td>\n",
       "      <td>ultra</td>\n",
       "      <td>754.159807</td>\n",
       "      <td>7.0</td>\n",
       "      <td>2021-04-20</td>\n",
       "      <td>4</td>\n",
       "      <td>6</td>\n",
       "      <td>0</td>\n",
       "      <td>199</td>\n",
       "    </tr>\n",
       "    <tr>\n",
       "      <th>3</th>\n",
       "      <td>1</td>\n",
       "      <td>Кира</td>\n",
       "      <td>22</td>\n",
       "      <td>Тюмень</td>\n",
       "      <td>ultra</td>\n",
       "      <td>2694.783254</td>\n",
       "      <td>19.0</td>\n",
       "      <td>2021-08-11</td>\n",
       "      <td>8</td>\n",
       "      <td>6</td>\n",
       "      <td>0</td>\n",
       "      <td>199</td>\n",
       "    </tr>\n",
       "    <tr>\n",
       "      <th>4</th>\n",
       "      <td>1</td>\n",
       "      <td>Кира</td>\n",
       "      <td>22</td>\n",
       "      <td>Тюмень</td>\n",
       "      <td>ultra</td>\n",
       "      <td>4028.687306</td>\n",
       "      <td>27.0</td>\n",
       "      <td>2021-08-28</td>\n",
       "      <td>8</td>\n",
       "      <td>6</td>\n",
       "      <td>0</td>\n",
       "      <td>199</td>\n",
       "    </tr>\n",
       "    <tr>\n",
       "      <th>...</th>\n",
       "      <td>...</td>\n",
       "      <td>...</td>\n",
       "      <td>...</td>\n",
       "      <td>...</td>\n",
       "      <td>...</td>\n",
       "      <td>...</td>\n",
       "      <td>...</td>\n",
       "      <td>...</td>\n",
       "      <td>...</td>\n",
       "      <td>...</td>\n",
       "      <td>...</td>\n",
       "      <td>...</td>\n",
       "    </tr>\n",
       "    <tr>\n",
       "      <th>18063</th>\n",
       "      <td>1534</td>\n",
       "      <td>Альберт</td>\n",
       "      <td>25</td>\n",
       "      <td>Краснодар</td>\n",
       "      <td>free</td>\n",
       "      <td>3781.098080</td>\n",
       "      <td>20.0</td>\n",
       "      <td>2021-11-04</td>\n",
       "      <td>11</td>\n",
       "      <td>8</td>\n",
       "      <td>50</td>\n",
       "      <td>0</td>\n",
       "    </tr>\n",
       "    <tr>\n",
       "      <th>18064</th>\n",
       "      <td>1534</td>\n",
       "      <td>Альберт</td>\n",
       "      <td>25</td>\n",
       "      <td>Краснодар</td>\n",
       "      <td>free</td>\n",
       "      <td>2840.423057</td>\n",
       "      <td>22.0</td>\n",
       "      <td>2021-11-16</td>\n",
       "      <td>11</td>\n",
       "      <td>8</td>\n",
       "      <td>50</td>\n",
       "      <td>0</td>\n",
       "    </tr>\n",
       "    <tr>\n",
       "      <th>18065</th>\n",
       "      <td>1534</td>\n",
       "      <td>Альберт</td>\n",
       "      <td>25</td>\n",
       "      <td>Краснодар</td>\n",
       "      <td>free</td>\n",
       "      <td>3826.185507</td>\n",
       "      <td>19.0</td>\n",
       "      <td>2021-11-18</td>\n",
       "      <td>11</td>\n",
       "      <td>8</td>\n",
       "      <td>50</td>\n",
       "      <td>0</td>\n",
       "    </tr>\n",
       "    <tr>\n",
       "      <th>18066</th>\n",
       "      <td>1534</td>\n",
       "      <td>Альберт</td>\n",
       "      <td>25</td>\n",
       "      <td>Краснодар</td>\n",
       "      <td>free</td>\n",
       "      <td>2902.308661</td>\n",
       "      <td>17.0</td>\n",
       "      <td>2021-11-27</td>\n",
       "      <td>11</td>\n",
       "      <td>8</td>\n",
       "      <td>50</td>\n",
       "      <td>0</td>\n",
       "    </tr>\n",
       "    <tr>\n",
       "      <th>18067</th>\n",
       "      <td>1534</td>\n",
       "      <td>Альберт</td>\n",
       "      <td>25</td>\n",
       "      <td>Краснодар</td>\n",
       "      <td>free</td>\n",
       "      <td>2371.711192</td>\n",
       "      <td>16.0</td>\n",
       "      <td>2021-12-29</td>\n",
       "      <td>12</td>\n",
       "      <td>8</td>\n",
       "      <td>50</td>\n",
       "      <td>0</td>\n",
       "    </tr>\n",
       "  </tbody>\n",
       "</table>\n",
       "<p>18068 rows × 12 columns</p>\n",
       "</div>"
      ],
      "text/plain": [
       "       user_id     name  age       city subscription_type     distance  \\\n",
       "0            1     Кира   22     Тюмень             ultra  4409.919140   \n",
       "1            1     Кира   22     Тюмень             ultra  2617.592153   \n",
       "2            1     Кира   22     Тюмень             ultra   754.159807   \n",
       "3            1     Кира   22     Тюмень             ultra  2694.783254   \n",
       "4            1     Кира   22     Тюмень             ultra  4028.687306   \n",
       "...        ...      ...  ...        ...               ...          ...   \n",
       "18063     1534  Альберт   25  Краснодар              free  3781.098080   \n",
       "18064     1534  Альберт   25  Краснодар              free  2840.423057   \n",
       "18065     1534  Альберт   25  Краснодар              free  3826.185507   \n",
       "18066     1534  Альберт   25  Краснодар              free  2902.308661   \n",
       "18067     1534  Альберт   25  Краснодар              free  2371.711192   \n",
       "\n",
       "       duration       date  month  minute_price  start_ride_price  \\\n",
       "0          26.0 2021-01-01      1             6                 0   \n",
       "1          16.0 2021-01-18      1             6                 0   \n",
       "2           7.0 2021-04-20      4             6                 0   \n",
       "3          19.0 2021-08-11      8             6                 0   \n",
       "4          27.0 2021-08-28      8             6                 0   \n",
       "...         ...        ...    ...           ...               ...   \n",
       "18063      20.0 2021-11-04     11             8                50   \n",
       "18064      22.0 2021-11-16     11             8                50   \n",
       "18065      19.0 2021-11-18     11             8                50   \n",
       "18066      17.0 2021-11-27     11             8                50   \n",
       "18067      16.0 2021-12-29     12             8                50   \n",
       "\n",
       "       subscription_fee  \n",
       "0                   199  \n",
       "1                   199  \n",
       "2                   199  \n",
       "3                   199  \n",
       "4                   199  \n",
       "...                 ...  \n",
       "18063                 0  \n",
       "18064                 0  \n",
       "18065                 0  \n",
       "18066                 0  \n",
       "18067                 0  \n",
       "\n",
       "[18068 rows x 12 columns]"
      ]
     },
     "execution_count": 30,
     "metadata": {},
     "output_type": "execute_result"
    }
   ],
   "source": [
    "full_data = users_go.merge(riders_go)\n",
    "full_data = full_data.merge(subscriptions_go)\n",
    "full_data"
   ]
  },
  {
   "cell_type": "code",
   "execution_count": 31,
   "id": "c48f2761",
   "metadata": {},
   "outputs": [
    {
     "data": {
      "text/plain": [
       "user_id              0\n",
       "name                 0\n",
       "age                  0\n",
       "city                 0\n",
       "subscription_type    0\n",
       "distance             0\n",
       "duration             0\n",
       "date                 0\n",
       "month                0\n",
       "minute_price         0\n",
       "start_ride_price     0\n",
       "subscription_fee     0\n",
       "dtype: int64"
      ]
     },
     "execution_count": 31,
     "metadata": {},
     "output_type": "execute_result"
    }
   ],
   "source": [
    "full_data.isna().sum()"
   ]
  },
  {
   "cell_type": "code",
   "execution_count": 32,
   "id": "d380827a",
   "metadata": {},
   "outputs": [
    {
     "data": {
      "text/html": [
       "<div>\n",
       "<style scoped>\n",
       "    .dataframe tbody tr th:only-of-type {\n",
       "        vertical-align: middle;\n",
       "    }\n",
       "\n",
       "    .dataframe tbody tr th {\n",
       "        vertical-align: top;\n",
       "    }\n",
       "\n",
       "    .dataframe thead th {\n",
       "        text-align: right;\n",
       "    }\n",
       "</style>\n",
       "<table border=\"1\" class=\"dataframe\">\n",
       "  <thead>\n",
       "    <tr style=\"text-align: right;\">\n",
       "      <th></th>\n",
       "      <th>user_id</th>\n",
       "      <th>name</th>\n",
       "      <th>age</th>\n",
       "      <th>city</th>\n",
       "      <th>subscription_type</th>\n",
       "      <th>distance</th>\n",
       "      <th>duration</th>\n",
       "      <th>date</th>\n",
       "      <th>month</th>\n",
       "      <th>minute_price</th>\n",
       "      <th>start_ride_price</th>\n",
       "      <th>subscription_fee</th>\n",
       "    </tr>\n",
       "  </thead>\n",
       "  <tbody>\n",
       "    <tr>\n",
       "      <th>6500</th>\n",
       "      <td>700</td>\n",
       "      <td>Айдар</td>\n",
       "      <td>22</td>\n",
       "      <td>Омск</td>\n",
       "      <td>free</td>\n",
       "      <td>2515.690719</td>\n",
       "      <td>15.0</td>\n",
       "      <td>2021-01-02</td>\n",
       "      <td>1</td>\n",
       "      <td>8</td>\n",
       "      <td>50</td>\n",
       "      <td>0</td>\n",
       "    </tr>\n",
       "    <tr>\n",
       "      <th>6501</th>\n",
       "      <td>700</td>\n",
       "      <td>Айдар</td>\n",
       "      <td>22</td>\n",
       "      <td>Омск</td>\n",
       "      <td>free</td>\n",
       "      <td>846.932642</td>\n",
       "      <td>17.0</td>\n",
       "      <td>2021-02-01</td>\n",
       "      <td>2</td>\n",
       "      <td>8</td>\n",
       "      <td>50</td>\n",
       "      <td>0</td>\n",
       "    </tr>\n",
       "    <tr>\n",
       "      <th>6502</th>\n",
       "      <td>700</td>\n",
       "      <td>Айдар</td>\n",
       "      <td>22</td>\n",
       "      <td>Омск</td>\n",
       "      <td>free</td>\n",
       "      <td>4004.434142</td>\n",
       "      <td>21.0</td>\n",
       "      <td>2021-02-04</td>\n",
       "      <td>2</td>\n",
       "      <td>8</td>\n",
       "      <td>50</td>\n",
       "      <td>0</td>\n",
       "    </tr>\n",
       "    <tr>\n",
       "      <th>6503</th>\n",
       "      <td>700</td>\n",
       "      <td>Айдар</td>\n",
       "      <td>22</td>\n",
       "      <td>Омск</td>\n",
       "      <td>free</td>\n",
       "      <td>1205.911290</td>\n",
       "      <td>10.0</td>\n",
       "      <td>2021-02-10</td>\n",
       "      <td>2</td>\n",
       "      <td>8</td>\n",
       "      <td>50</td>\n",
       "      <td>0</td>\n",
       "    </tr>\n",
       "    <tr>\n",
       "      <th>6504</th>\n",
       "      <td>700</td>\n",
       "      <td>Айдар</td>\n",
       "      <td>22</td>\n",
       "      <td>Омск</td>\n",
       "      <td>free</td>\n",
       "      <td>3047.379435</td>\n",
       "      <td>18.0</td>\n",
       "      <td>2021-02-14</td>\n",
       "      <td>2</td>\n",
       "      <td>8</td>\n",
       "      <td>50</td>\n",
       "      <td>0</td>\n",
       "    </tr>\n",
       "    <tr>\n",
       "      <th>...</th>\n",
       "      <td>...</td>\n",
       "      <td>...</td>\n",
       "      <td>...</td>\n",
       "      <td>...</td>\n",
       "      <td>...</td>\n",
       "      <td>...</td>\n",
       "      <td>...</td>\n",
       "      <td>...</td>\n",
       "      <td>...</td>\n",
       "      <td>...</td>\n",
       "      <td>...</td>\n",
       "      <td>...</td>\n",
       "    </tr>\n",
       "    <tr>\n",
       "      <th>18063</th>\n",
       "      <td>1534</td>\n",
       "      <td>Альберт</td>\n",
       "      <td>25</td>\n",
       "      <td>Краснодар</td>\n",
       "      <td>free</td>\n",
       "      <td>3781.098080</td>\n",
       "      <td>20.0</td>\n",
       "      <td>2021-11-04</td>\n",
       "      <td>11</td>\n",
       "      <td>8</td>\n",
       "      <td>50</td>\n",
       "      <td>0</td>\n",
       "    </tr>\n",
       "    <tr>\n",
       "      <th>18064</th>\n",
       "      <td>1534</td>\n",
       "      <td>Альберт</td>\n",
       "      <td>25</td>\n",
       "      <td>Краснодар</td>\n",
       "      <td>free</td>\n",
       "      <td>2840.423057</td>\n",
       "      <td>22.0</td>\n",
       "      <td>2021-11-16</td>\n",
       "      <td>11</td>\n",
       "      <td>8</td>\n",
       "      <td>50</td>\n",
       "      <td>0</td>\n",
       "    </tr>\n",
       "    <tr>\n",
       "      <th>18065</th>\n",
       "      <td>1534</td>\n",
       "      <td>Альберт</td>\n",
       "      <td>25</td>\n",
       "      <td>Краснодар</td>\n",
       "      <td>free</td>\n",
       "      <td>3826.185507</td>\n",
       "      <td>19.0</td>\n",
       "      <td>2021-11-18</td>\n",
       "      <td>11</td>\n",
       "      <td>8</td>\n",
       "      <td>50</td>\n",
       "      <td>0</td>\n",
       "    </tr>\n",
       "    <tr>\n",
       "      <th>18066</th>\n",
       "      <td>1534</td>\n",
       "      <td>Альберт</td>\n",
       "      <td>25</td>\n",
       "      <td>Краснодар</td>\n",
       "      <td>free</td>\n",
       "      <td>2902.308661</td>\n",
       "      <td>17.0</td>\n",
       "      <td>2021-11-27</td>\n",
       "      <td>11</td>\n",
       "      <td>8</td>\n",
       "      <td>50</td>\n",
       "      <td>0</td>\n",
       "    </tr>\n",
       "    <tr>\n",
       "      <th>18067</th>\n",
       "      <td>1534</td>\n",
       "      <td>Альберт</td>\n",
       "      <td>25</td>\n",
       "      <td>Краснодар</td>\n",
       "      <td>free</td>\n",
       "      <td>2371.711192</td>\n",
       "      <td>16.0</td>\n",
       "      <td>2021-12-29</td>\n",
       "      <td>12</td>\n",
       "      <td>8</td>\n",
       "      <td>50</td>\n",
       "      <td>0</td>\n",
       "    </tr>\n",
       "  </tbody>\n",
       "</table>\n",
       "<p>11568 rows × 12 columns</p>\n",
       "</div>"
      ],
      "text/plain": [
       "       user_id     name  age       city subscription_type     distance  \\\n",
       "6500       700    Айдар   22       Омск              free  2515.690719   \n",
       "6501       700    Айдар   22       Омск              free   846.932642   \n",
       "6502       700    Айдар   22       Омск              free  4004.434142   \n",
       "6503       700    Айдар   22       Омск              free  1205.911290   \n",
       "6504       700    Айдар   22       Омск              free  3047.379435   \n",
       "...        ...      ...  ...        ...               ...          ...   \n",
       "18063     1534  Альберт   25  Краснодар              free  3781.098080   \n",
       "18064     1534  Альберт   25  Краснодар              free  2840.423057   \n",
       "18065     1534  Альберт   25  Краснодар              free  3826.185507   \n",
       "18066     1534  Альберт   25  Краснодар              free  2902.308661   \n",
       "18067     1534  Альберт   25  Краснодар              free  2371.711192   \n",
       "\n",
       "       duration       date  month  minute_price  start_ride_price  \\\n",
       "6500       15.0 2021-01-02      1             8                50   \n",
       "6501       17.0 2021-02-01      2             8                50   \n",
       "6502       21.0 2021-02-04      2             8                50   \n",
       "6503       10.0 2021-02-10      2             8                50   \n",
       "6504       18.0 2021-02-14      2             8                50   \n",
       "...         ...        ...    ...           ...               ...   \n",
       "18063      20.0 2021-11-04     11             8                50   \n",
       "18064      22.0 2021-11-16     11             8                50   \n",
       "18065      19.0 2021-11-18     11             8                50   \n",
       "18066      17.0 2021-11-27     11             8                50   \n",
       "18067      16.0 2021-12-29     12             8                50   \n",
       "\n",
       "       subscription_fee  \n",
       "6500                  0  \n",
       "6501                  0  \n",
       "6502                  0  \n",
       "6503                  0  \n",
       "6504                  0  \n",
       "...                 ...  \n",
       "18063                 0  \n",
       "18064                 0  \n",
       "18065                 0  \n",
       "18066                 0  \n",
       "18067                 0  \n",
       "\n",
       "[11568 rows x 12 columns]"
      ]
     },
     "execution_count": 32,
     "metadata": {},
     "output_type": "execute_result"
    }
   ],
   "source": [
    "free_subscription = full_data.query(\"`subscription_type` == 'free'\")\n",
    "free_subscription"
   ]
  },
  {
   "cell_type": "code",
   "execution_count": 33,
   "id": "28bf5242",
   "metadata": {},
   "outputs": [
    {
     "data": {
      "image/png": "[encoded data removed]",
      "text/plain": [
       "<Figure size 432x288 with 1 Axes>"
      ]
     },
     "metadata": {
      "needs_background": "light"
     },
     "output_type": "display_data"
    },
    {
     "data": {
      "text/plain": [
       "<Figure size 1440x1440 with 0 Axes>"
      ]
     },
     "metadata": {},
     "output_type": "display_data"
    }
   ],
   "source": [
    "plt.hist(free_subscription['distance'], bins=50, range = (0, 7000))\n",
    "plt.title('Расстояние, бесплатный тариф')\n",
    "plt.xlabel('Расстояние, м')\n",
    "plt.ylabel('Количество поездок')\n",
    "plt.figure(figsize=(20,20))\n",
    "plt.show()"
   ]
  },
  {
   "cell_type": "markdown",
   "id": "05534737",
   "metadata": {},
   "source": [
    "Расстояние в основном находится в промежутке от 2 до 4 км"
   ]
  },
  {
   "cell_type": "code",
   "execution_count": 34,
   "id": "9c5b4c61",
   "metadata": {},
   "outputs": [
    {
     "data": {
      "image/png": "[encoded data removed]",
      "text/plain": [
       "<Figure size 432x288 with 1 Axes>"
      ]
     },
     "metadata": {
      "needs_background": "light"
     },
     "output_type": "display_data"
    },
    {
     "data": {
      "text/plain": [
       "<Figure size 1440x1440 with 0 Axes>"
      ]
     },
     "metadata": {},
     "output_type": "display_data"
    }
   ],
   "source": [
    "plt.hist(free_subscription['duration'], bins=30, range = (0, 35))\n",
    "plt.title('Время, бесплатный тариф')\n",
    "plt.xlabel('Время поездки, минуты')\n",
    "plt.ylabel('Количество поездок')\n",
    "plt.figure(figsize=(20,20))\n",
    "plt.show()"
   ]
  },
  {
   "cell_type": "markdown",
   "id": "935fc413",
   "metadata": {},
   "source": [
    "Время в основном примерно находится в промежутке от 10 до 25 минут"
   ]
  },
  {
   "cell_type": "code",
   "execution_count": 35,
   "id": "ddbc01d2",
   "metadata": {},
   "outputs": [
    {
     "data": {
      "text/html": [
       "<div>\n",
       "<style scoped>\n",
       "    .dataframe tbody tr th:only-of-type {\n",
       "        vertical-align: middle;\n",
       "    }\n",
       "\n",
       "    .dataframe tbody tr th {\n",
       "        vertical-align: top;\n",
       "    }\n",
       "\n",
       "    .dataframe thead th {\n",
       "        text-align: right;\n",
       "    }\n",
       "</style>\n",
       "<table border=\"1\" class=\"dataframe\">\n",
       "  <thead>\n",
       "    <tr style=\"text-align: right;\">\n",
       "      <th></th>\n",
       "      <th>user_id</th>\n",
       "      <th>name</th>\n",
       "      <th>age</th>\n",
       "      <th>city</th>\n",
       "      <th>subscription_type</th>\n",
       "      <th>distance</th>\n",
       "      <th>duration</th>\n",
       "      <th>date</th>\n",
       "      <th>month</th>\n",
       "      <th>minute_price</th>\n",
       "      <th>start_ride_price</th>\n",
       "      <th>subscription_fee</th>\n",
       "    </tr>\n",
       "  </thead>\n",
       "  <tbody>\n",
       "    <tr>\n",
       "      <th>0</th>\n",
       "      <td>1</td>\n",
       "      <td>Кира</td>\n",
       "      <td>22</td>\n",
       "      <td>Тюмень</td>\n",
       "      <td>ultra</td>\n",
       "      <td>4409.919140</td>\n",
       "      <td>26.0</td>\n",
       "      <td>2021-01-01</td>\n",
       "      <td>1</td>\n",
       "      <td>6</td>\n",
       "      <td>0</td>\n",
       "      <td>199</td>\n",
       "    </tr>\n",
       "    <tr>\n",
       "      <th>1</th>\n",
       "      <td>1</td>\n",
       "      <td>Кира</td>\n",
       "      <td>22</td>\n",
       "      <td>Тюмень</td>\n",
       "      <td>ultra</td>\n",
       "      <td>2617.592153</td>\n",
       "      <td>16.0</td>\n",
       "      <td>2021-01-18</td>\n",
       "      <td>1</td>\n",
       "      <td>6</td>\n",
       "      <td>0</td>\n",
       "      <td>199</td>\n",
       "    </tr>\n",
       "    <tr>\n",
       "      <th>2</th>\n",
       "      <td>1</td>\n",
       "      <td>Кира</td>\n",
       "      <td>22</td>\n",
       "      <td>Тюмень</td>\n",
       "      <td>ultra</td>\n",
       "      <td>754.159807</td>\n",
       "      <td>7.0</td>\n",
       "      <td>2021-04-20</td>\n",
       "      <td>4</td>\n",
       "      <td>6</td>\n",
       "      <td>0</td>\n",
       "      <td>199</td>\n",
       "    </tr>\n",
       "    <tr>\n",
       "      <th>3</th>\n",
       "      <td>1</td>\n",
       "      <td>Кира</td>\n",
       "      <td>22</td>\n",
       "      <td>Тюмень</td>\n",
       "      <td>ultra</td>\n",
       "      <td>2694.783254</td>\n",
       "      <td>19.0</td>\n",
       "      <td>2021-08-11</td>\n",
       "      <td>8</td>\n",
       "      <td>6</td>\n",
       "      <td>0</td>\n",
       "      <td>199</td>\n",
       "    </tr>\n",
       "    <tr>\n",
       "      <th>4</th>\n",
       "      <td>1</td>\n",
       "      <td>Кира</td>\n",
       "      <td>22</td>\n",
       "      <td>Тюмень</td>\n",
       "      <td>ultra</td>\n",
       "      <td>4028.687306</td>\n",
       "      <td>27.0</td>\n",
       "      <td>2021-08-28</td>\n",
       "      <td>8</td>\n",
       "      <td>6</td>\n",
       "      <td>0</td>\n",
       "      <td>199</td>\n",
       "    </tr>\n",
       "    <tr>\n",
       "      <th>...</th>\n",
       "      <td>...</td>\n",
       "      <td>...</td>\n",
       "      <td>...</td>\n",
       "      <td>...</td>\n",
       "      <td>...</td>\n",
       "      <td>...</td>\n",
       "      <td>...</td>\n",
       "      <td>...</td>\n",
       "      <td>...</td>\n",
       "      <td>...</td>\n",
       "      <td>...</td>\n",
       "      <td>...</td>\n",
       "    </tr>\n",
       "    <tr>\n",
       "      <th>6495</th>\n",
       "      <td>699</td>\n",
       "      <td>Оксана</td>\n",
       "      <td>22</td>\n",
       "      <td>Москва</td>\n",
       "      <td>ultra</td>\n",
       "      <td>3973.046497</td>\n",
       "      <td>25.0</td>\n",
       "      <td>2021-08-29</td>\n",
       "      <td>8</td>\n",
       "      <td>6</td>\n",
       "      <td>0</td>\n",
       "      <td>199</td>\n",
       "    </tr>\n",
       "    <tr>\n",
       "      <th>6496</th>\n",
       "      <td>699</td>\n",
       "      <td>Оксана</td>\n",
       "      <td>22</td>\n",
       "      <td>Москва</td>\n",
       "      <td>ultra</td>\n",
       "      <td>3288.702563</td>\n",
       "      <td>16.0</td>\n",
       "      <td>2021-09-12</td>\n",
       "      <td>9</td>\n",
       "      <td>6</td>\n",
       "      <td>0</td>\n",
       "      <td>199</td>\n",
       "    </tr>\n",
       "    <tr>\n",
       "      <th>6497</th>\n",
       "      <td>699</td>\n",
       "      <td>Оксана</td>\n",
       "      <td>22</td>\n",
       "      <td>Москва</td>\n",
       "      <td>ultra</td>\n",
       "      <td>3076.159348</td>\n",
       "      <td>15.0</td>\n",
       "      <td>2021-09-26</td>\n",
       "      <td>9</td>\n",
       "      <td>6</td>\n",
       "      <td>0</td>\n",
       "      <td>199</td>\n",
       "    </tr>\n",
       "    <tr>\n",
       "      <th>6498</th>\n",
       "      <td>699</td>\n",
       "      <td>Оксана</td>\n",
       "      <td>22</td>\n",
       "      <td>Москва</td>\n",
       "      <td>ultra</td>\n",
       "      <td>4707.845501</td>\n",
       "      <td>16.0</td>\n",
       "      <td>2021-10-17</td>\n",
       "      <td>10</td>\n",
       "      <td>6</td>\n",
       "      <td>0</td>\n",
       "      <td>199</td>\n",
       "    </tr>\n",
       "    <tr>\n",
       "      <th>6499</th>\n",
       "      <td>699</td>\n",
       "      <td>Оксана</td>\n",
       "      <td>22</td>\n",
       "      <td>Москва</td>\n",
       "      <td>ultra</td>\n",
       "      <td>3202.890770</td>\n",
       "      <td>26.0</td>\n",
       "      <td>2021-12-03</td>\n",
       "      <td>12</td>\n",
       "      <td>6</td>\n",
       "      <td>0</td>\n",
       "      <td>199</td>\n",
       "    </tr>\n",
       "  </tbody>\n",
       "</table>\n",
       "<p>6500 rows × 12 columns</p>\n",
       "</div>"
      ],
      "text/plain": [
       "      user_id    name  age    city subscription_type     distance  duration  \\\n",
       "0           1    Кира   22  Тюмень             ultra  4409.919140      26.0   \n",
       "1           1    Кира   22  Тюмень             ultra  2617.592153      16.0   \n",
       "2           1    Кира   22  Тюмень             ultra   754.159807       7.0   \n",
       "3           1    Кира   22  Тюмень             ultra  2694.783254      19.0   \n",
       "4           1    Кира   22  Тюмень             ultra  4028.687306      27.0   \n",
       "...       ...     ...  ...     ...               ...          ...       ...   \n",
       "6495      699  Оксана   22  Москва             ultra  3973.046497      25.0   \n",
       "6496      699  Оксана   22  Москва             ultra  3288.702563      16.0   \n",
       "6497      699  Оксана   22  Москва             ultra  3076.159348      15.0   \n",
       "6498      699  Оксана   22  Москва             ultra  4707.845501      16.0   \n",
       "6499      699  Оксана   22  Москва             ultra  3202.890770      26.0   \n",
       "\n",
       "           date  month  minute_price  start_ride_price  subscription_fee  \n",
       "0    2021-01-01      1             6                 0               199  \n",
       "1    2021-01-18      1             6                 0               199  \n",
       "2    2021-04-20      4             6                 0               199  \n",
       "3    2021-08-11      8             6                 0               199  \n",
       "4    2021-08-28      8             6                 0               199  \n",
       "...         ...    ...           ...               ...               ...  \n",
       "6495 2021-08-29      8             6                 0               199  \n",
       "6496 2021-09-12      9             6                 0               199  \n",
       "6497 2021-09-26      9             6                 0               199  \n",
       "6498 2021-10-17     10             6                 0               199  \n",
       "6499 2021-12-03     12             6                 0               199  \n",
       "\n",
       "[6500 rows x 12 columns]"
      ]
     },
     "execution_count": 35,
     "metadata": {},
     "output_type": "execute_result"
    }
   ],
   "source": [
    "ultra_subscription = full_data.query(\"`subscription_type` == 'ultra'\")\n",
    "ultra_subscription"
   ]
  },
  {
   "cell_type": "code",
   "execution_count": 36,
   "id": "8e212495",
   "metadata": {},
   "outputs": [
    {
     "data": {
      "image/png": "[encoded data removed]",
      "text/plain": [
       "<Figure size 432x288 with 1 Axes>"
      ]
     },
     "metadata": {
      "needs_background": "light"
     },
     "output_type": "display_data"
    },
    {
     "data": {
      "text/plain": [
       "<Figure size 1440x1440 with 0 Axes>"
      ]
     },
     "metadata": {},
     "output_type": "display_data"
    }
   ],
   "source": [
    "plt.hist(ultra_subscription['distance'], bins=50, range = (0, 7000))\n",
    "plt.title('Расстояние, платный тариф')\n",
    "plt.xlabel('Расстояние, м')\n",
    "plt.ylabel('Количество поездок')\n",
    "plt.figure(figsize=(20,20))\n",
    "plt.show()"
   ]
  },
  {
   "cell_type": "markdown",
   "id": "2970abb0",
   "metadata": {},
   "source": [
    "Расстояние в основном находится в промежутке от 2 до 4 км. Пик около 3 км"
   ]
  },
  {
   "cell_type": "code",
   "execution_count": 37,
   "id": "9322af3f",
   "metadata": {},
   "outputs": [
    {
     "data": {
      "image/png": "[encoded data removed]",
      "text/plain": [
       "<Figure size 432x288 with 1 Axes>"
      ]
     },
     "metadata": {
      "needs_background": "light"
     },
     "output_type": "display_data"
    },
    {
     "data": {
      "text/plain": [
       "<Figure size 1440x1440 with 0 Axes>"
      ]
     },
     "metadata": {},
     "output_type": "display_data"
    }
   ],
   "source": [
    "plt.hist(ultra_subscription['duration'], bins=30, range = (0, 35))\n",
    "plt.title('Время, платный тариф')\n",
    "plt.xlabel('Время поездки, минуты')\n",
    "plt.ylabel('Количество поездок')\n",
    "plt.figure(figsize=(20,20))\n",
    "plt.show()"
   ]
  },
  {
   "cell_type": "markdown",
   "id": "134303b3",
   "metadata": {},
   "source": [
    "Время в основном примерно находится в промежутке от 15 до 25 минут"
   ]
  },
  {
   "cell_type": "markdown",
   "id": "dd48f6f6",
   "metadata": {},
   "source": [
    "Вывод\n",
    "Объединили данные о пользователях, поездках и тарифах в один датафрейм - full_data.\n",
    "\n",
    "Было создано два отдельных датафрейма:\n",
    "\n",
    "free_subscription - информация о пользователях с бесплатным тарифом\n",
    "ultra_subscription - информация о пользователях с платным тарифом\n",
    "\n",
    "Пользователи с бесплатным тарифом проезжают в среднем от 2 до 5 км, но расстояние может дохоить до 6-6,5 км. Время поездки в основном от 10 до 30 минут.\n",
    "\n",
    "Поездки для пользователей с платным тарифом в среднем длятся от 15 до 25 минут. В среднем проезжают около 3 км\n",
    "\n",
    "Исходя из данных, можно сделать вывод пользователи с бесплатным тарифом совершают более более долгие поездки, а также проезжают большее расстояние, чем пользователи на платном тарифе."
   ]
  },
  {
   "cell_type": "markdown",
   "id": "402d620f",
   "metadata": {},
   "source": [
    "#### Шаг 5. Подсчёт выручки"
   ]
  },
  {
   "cell_type": "code",
   "execution_count": 38,
   "id": "3d825dfd",
   "metadata": {},
   "outputs": [],
   "source": [
    "total_data = pd.pivot_table(full_data,\n",
    "                           index=['month', 'user_id'],\n",
    "                           values = ['distance', 'duration', 'name', 'subscription_type'],\n",
    "                           aggfunc = {'distance': sum, \n",
    "                                      'duration' : sum, \n",
    "                                      'name' : len, \n",
    "                                      'subscription_type' : min})"
   ]
  },
  {
   "cell_type": "code",
   "execution_count": 39,
   "id": "5516c5bf",
   "metadata": {},
   "outputs": [],
   "source": [
    "#total_data['duration'] = np.ceil(total_data['duration'])"
   ]
  },
  {
   "cell_type": "code",
   "execution_count": 40,
   "id": "e4be426b",
   "metadata": {},
   "outputs": [
    {
     "data": {
      "text/html": [
       "<div>\n",
       "<style scoped>\n",
       "    .dataframe tbody tr th:only-of-type {\n",
       "        vertical-align: middle;\n",
       "    }\n",
       "\n",
       "    .dataframe tbody tr th {\n",
       "        vertical-align: top;\n",
       "    }\n",
       "\n",
       "    .dataframe thead th {\n",
       "        text-align: right;\n",
       "    }\n",
       "</style>\n",
       "<table border=\"1\" class=\"dataframe\">\n",
       "  <thead>\n",
       "    <tr style=\"text-align: right;\">\n",
       "      <th></th>\n",
       "      <th></th>\n",
       "      <th>distance</th>\n",
       "      <th>duration</th>\n",
       "      <th>name</th>\n",
       "      <th>subscription_type</th>\n",
       "    </tr>\n",
       "    <tr>\n",
       "      <th>month</th>\n",
       "      <th>user_id</th>\n",
       "      <th></th>\n",
       "      <th></th>\n",
       "      <th></th>\n",
       "      <th></th>\n",
       "    </tr>\n",
       "  </thead>\n",
       "  <tbody>\n",
       "    <tr>\n",
       "      <th rowspan=\"20\" valign=\"top\">1</th>\n",
       "      <th>1</th>\n",
       "      <td>7027.511294</td>\n",
       "      <td>42.0</td>\n",
       "      <td>2</td>\n",
       "      <td>ultra</td>\n",
       "    </tr>\n",
       "    <tr>\n",
       "      <th>1061</th>\n",
       "      <td>12637.249630</td>\n",
       "      <td>43.0</td>\n",
       "      <td>3</td>\n",
       "      <td>free</td>\n",
       "    </tr>\n",
       "    <tr>\n",
       "      <th>1063</th>\n",
       "      <td>3276.362299</td>\n",
       "      <td>10.0</td>\n",
       "      <td>1</td>\n",
       "      <td>free</td>\n",
       "    </tr>\n",
       "    <tr>\n",
       "      <th>1064</th>\n",
       "      <td>5297.324649</td>\n",
       "      <td>15.0</td>\n",
       "      <td>1</td>\n",
       "      <td>free</td>\n",
       "    </tr>\n",
       "    <tr>\n",
       "      <th>1065</th>\n",
       "      <td>14547.099333</td>\n",
       "      <td>99.0</td>\n",
       "      <td>4</td>\n",
       "      <td>free</td>\n",
       "    </tr>\n",
       "    <tr>\n",
       "      <th>1066</th>\n",
       "      <td>2809.064949</td>\n",
       "      <td>19.0</td>\n",
       "      <td>1</td>\n",
       "      <td>free</td>\n",
       "    </tr>\n",
       "    <tr>\n",
       "      <th>1067</th>\n",
       "      <td>3864.900780</td>\n",
       "      <td>22.0</td>\n",
       "      <td>1</td>\n",
       "      <td>free</td>\n",
       "    </tr>\n",
       "    <tr>\n",
       "      <th>1069</th>\n",
       "      <td>7007.076943</td>\n",
       "      <td>53.0</td>\n",
       "      <td>3</td>\n",
       "      <td>free</td>\n",
       "    </tr>\n",
       "    <tr>\n",
       "      <th>1071</th>\n",
       "      <td>3635.094136</td>\n",
       "      <td>15.0</td>\n",
       "      <td>1</td>\n",
       "      <td>free</td>\n",
       "    </tr>\n",
       "    <tr>\n",
       "      <th>1072</th>\n",
       "      <td>2498.615999</td>\n",
       "      <td>11.0</td>\n",
       "      <td>1</td>\n",
       "      <td>free</td>\n",
       "    </tr>\n",
       "    <tr>\n",
       "      <th>1073</th>\n",
       "      <td>2945.802455</td>\n",
       "      <td>16.0</td>\n",
       "      <td>1</td>\n",
       "      <td>free</td>\n",
       "    </tr>\n",
       "    <tr>\n",
       "      <th>1074</th>\n",
       "      <td>2814.793386</td>\n",
       "      <td>22.0</td>\n",
       "      <td>1</td>\n",
       "      <td>free</td>\n",
       "    </tr>\n",
       "    <tr>\n",
       "      <th>1075</th>\n",
       "      <td>5746.745124</td>\n",
       "      <td>29.0</td>\n",
       "      <td>3</td>\n",
       "      <td>free</td>\n",
       "    </tr>\n",
       "    <tr>\n",
       "      <th>1077</th>\n",
       "      <td>114.036199</td>\n",
       "      <td>13.0</td>\n",
       "      <td>1</td>\n",
       "      <td>free</td>\n",
       "    </tr>\n",
       "    <tr>\n",
       "      <th>1078</th>\n",
       "      <td>3748.219563</td>\n",
       "      <td>19.0</td>\n",
       "      <td>1</td>\n",
       "      <td>free</td>\n",
       "    </tr>\n",
       "    <tr>\n",
       "      <th>1082</th>\n",
       "      <td>7250.124895</td>\n",
       "      <td>30.0</td>\n",
       "      <td>2</td>\n",
       "      <td>free</td>\n",
       "    </tr>\n",
       "    <tr>\n",
       "      <th>1083</th>\n",
       "      <td>5848.881463</td>\n",
       "      <td>31.0</td>\n",
       "      <td>2</td>\n",
       "      <td>free</td>\n",
       "    </tr>\n",
       "    <tr>\n",
       "      <th>1084</th>\n",
       "      <td>4615.097141</td>\n",
       "      <td>25.0</td>\n",
       "      <td>1</td>\n",
       "      <td>free</td>\n",
       "    </tr>\n",
       "    <tr>\n",
       "      <th>1085</th>\n",
       "      <td>11410.546346</td>\n",
       "      <td>63.0</td>\n",
       "      <td>3</td>\n",
       "      <td>free</td>\n",
       "    </tr>\n",
       "    <tr>\n",
       "      <th>1086</th>\n",
       "      <td>4044.280322</td>\n",
       "      <td>18.0</td>\n",
       "      <td>1</td>\n",
       "      <td>free</td>\n",
       "    </tr>\n",
       "  </tbody>\n",
       "</table>\n",
       "</div>"
      ],
      "text/plain": [
       "                   distance  duration  name subscription_type\n",
       "month user_id                                                \n",
       "1     1         7027.511294      42.0     2             ultra\n",
       "      1061     12637.249630      43.0     3              free\n",
       "      1063      3276.362299      10.0     1              free\n",
       "      1064      5297.324649      15.0     1              free\n",
       "      1065     14547.099333      99.0     4              free\n",
       "      1066      2809.064949      19.0     1              free\n",
       "      1067      3864.900780      22.0     1              free\n",
       "      1069      7007.076943      53.0     3              free\n",
       "      1071      3635.094136      15.0     1              free\n",
       "      1072      2498.615999      11.0     1              free\n",
       "      1073      2945.802455      16.0     1              free\n",
       "      1074      2814.793386      22.0     1              free\n",
       "      1075      5746.745124      29.0     3              free\n",
       "      1077       114.036199      13.0     1              free\n",
       "      1078      3748.219563      19.0     1              free\n",
       "      1082      7250.124895      30.0     2              free\n",
       "      1083      5848.881463      31.0     2              free\n",
       "      1084      4615.097141      25.0     1              free\n",
       "      1085     11410.546346      63.0     3              free\n",
       "      1086      4044.280322      18.0     1              free"
      ]
     },
     "execution_count": 40,
     "metadata": {},
     "output_type": "execute_result"
    }
   ],
   "source": [
    "total_data.sort_values(by='month').head(20)"
   ]
  },
  {
   "cell_type": "code",
   "execution_count": 41,
   "id": "f6b9a545",
   "metadata": {},
   "outputs": [
    {
     "data": {
      "text/html": [
       "<div>\n",
       "<style scoped>\n",
       "    .dataframe tbody tr th:only-of-type {\n",
       "        vertical-align: middle;\n",
       "    }\n",
       "\n",
       "    .dataframe tbody tr th {\n",
       "        vertical-align: top;\n",
       "    }\n",
       "\n",
       "    .dataframe thead th {\n",
       "        text-align: right;\n",
       "    }\n",
       "</style>\n",
       "<table border=\"1\" class=\"dataframe\">\n",
       "  <thead>\n",
       "    <tr style=\"text-align: right;\">\n",
       "      <th></th>\n",
       "      <th></th>\n",
       "      <th>distance</th>\n",
       "      <th>duration</th>\n",
       "      <th>name</th>\n",
       "      <th>subscription_type</th>\n",
       "    </tr>\n",
       "    <tr>\n",
       "      <th>month</th>\n",
       "      <th>user_id</th>\n",
       "      <th></th>\n",
       "      <th></th>\n",
       "      <th></th>\n",
       "      <th></th>\n",
       "    </tr>\n",
       "  </thead>\n",
       "  <tbody>\n",
       "    <tr>\n",
       "      <th>1</th>\n",
       "      <th>1</th>\n",
       "      <td>7027.511294</td>\n",
       "      <td>42.0</td>\n",
       "      <td>2</td>\n",
       "      <td>ultra</td>\n",
       "    </tr>\n",
       "    <tr>\n",
       "      <th>4</th>\n",
       "      <th>1</th>\n",
       "      <td>754.159807</td>\n",
       "      <td>7.0</td>\n",
       "      <td>1</td>\n",
       "      <td>ultra</td>\n",
       "    </tr>\n",
       "    <tr>\n",
       "      <th>8</th>\n",
       "      <th>1</th>\n",
       "      <td>6723.470560</td>\n",
       "      <td>46.0</td>\n",
       "      <td>2</td>\n",
       "      <td>ultra</td>\n",
       "    </tr>\n",
       "    <tr>\n",
       "      <th>10</th>\n",
       "      <th>1</th>\n",
       "      <td>5809.911100</td>\n",
       "      <td>32.0</td>\n",
       "      <td>2</td>\n",
       "      <td>ultra</td>\n",
       "    </tr>\n",
       "    <tr>\n",
       "      <th>11</th>\n",
       "      <th>1</th>\n",
       "      <td>7003.499363</td>\n",
       "      <td>56.0</td>\n",
       "      <td>3</td>\n",
       "      <td>ultra</td>\n",
       "    </tr>\n",
       "    <tr>\n",
       "      <th>12</th>\n",
       "      <th>1</th>\n",
       "      <td>6751.629942</td>\n",
       "      <td>28.0</td>\n",
       "      <td>2</td>\n",
       "      <td>ultra</td>\n",
       "    </tr>\n",
       "  </tbody>\n",
       "</table>\n",
       "</div>"
      ],
      "text/plain": [
       "                  distance  duration  name subscription_type\n",
       "month user_id                                               \n",
       "1     1        7027.511294      42.0     2             ultra\n",
       "4     1         754.159807       7.0     1             ultra\n",
       "8     1        6723.470560      46.0     2             ultra\n",
       "10    1        5809.911100      32.0     2             ultra\n",
       "11    1        7003.499363      56.0     3             ultra\n",
       "12    1        6751.629942      28.0     2             ultra"
      ]
     },
     "execution_count": 41,
     "metadata": {},
     "output_type": "execute_result"
    }
   ],
   "source": [
    "total_data.query('user_id == 1')"
   ]
  },
  {
   "cell_type": "markdown",
   "id": "bb83bd49",
   "metadata": {},
   "source": [
    "Добавим столбец с помесячной выручкой"
   ]
  },
  {
   "cell_type": "code",
   "execution_count": 42,
   "id": "2b90998f",
   "metadata": {},
   "outputs": [],
   "source": [
    "def income(row):\n",
    "    if row['subscription_type'] == 'ultra':\n",
    "        return 6 * row['duration'] + 199\n",
    "    elif row['subscription_type'] == 'free':\n",
    "        return 8 * row['duration'] + 50 * row['name']\n",
    "    else:\n",
    "        return 'Другая подписка'"
   ]
  },
  {
   "cell_type": "code",
   "execution_count": 43,
   "id": "4b1137db",
   "metadata": {},
   "outputs": [],
   "source": [
    "total_data['income_per_month'] = total_data.apply(income, axis=1)"
   ]
  },
  {
   "cell_type": "code",
   "execution_count": 44,
   "id": "0c4ef97e",
   "metadata": {},
   "outputs": [
    {
     "data": {
      "text/plain": [
       "month  user_id\n",
       "1      1          451.0\n",
       "       3          277.0\n",
       "       5          277.0\n",
       "       7          367.0\n",
       "       12         397.0\n",
       "       13         451.0\n",
       "       14         409.0\n",
       "       15         433.0\n",
       "       20         373.0\n",
       "       22         277.0\n",
       "       25         301.0\n",
       "       26         367.0\n",
       "       30         349.0\n",
       "       32         349.0\n",
       "       35         541.0\n",
       "       42         337.0\n",
       "       43         487.0\n",
       "       44         313.0\n",
       "       45         361.0\n",
       "       46         319.0\n",
       "Name: income_per_month, dtype: float64"
      ]
     },
     "execution_count": 44,
     "metadata": {},
     "output_type": "execute_result"
    }
   ],
   "source": [
    "total_data['income_per_month'].head(20)"
   ]
  },
  {
   "cell_type": "code",
   "execution_count": 45,
   "id": "a8169e1b",
   "metadata": {},
   "outputs": [
    {
     "data": {
      "text/html": [
       "<div>\n",
       "<style scoped>\n",
       "    .dataframe tbody tr th:only-of-type {\n",
       "        vertical-align: middle;\n",
       "    }\n",
       "\n",
       "    .dataframe tbody tr th {\n",
       "        vertical-align: top;\n",
       "    }\n",
       "\n",
       "    .dataframe thead th {\n",
       "        text-align: right;\n",
       "    }\n",
       "</style>\n",
       "<table border=\"1\" class=\"dataframe\">\n",
       "  <thead>\n",
       "    <tr style=\"text-align: right;\">\n",
       "      <th></th>\n",
       "      <th></th>\n",
       "      <th>distance</th>\n",
       "      <th>duration</th>\n",
       "      <th>name</th>\n",
       "      <th>subscription_type</th>\n",
       "      <th>income_per_month</th>\n",
       "    </tr>\n",
       "    <tr>\n",
       "      <th>month</th>\n",
       "      <th>user_id</th>\n",
       "      <th></th>\n",
       "      <th></th>\n",
       "      <th></th>\n",
       "      <th></th>\n",
       "      <th></th>\n",
       "    </tr>\n",
       "  </thead>\n",
       "  <tbody>\n",
       "    <tr>\n",
       "      <th>1</th>\n",
       "      <th>1</th>\n",
       "      <td>7027.511294</td>\n",
       "      <td>42.0</td>\n",
       "      <td>2</td>\n",
       "      <td>ultra</td>\n",
       "      <td>451.0</td>\n",
       "    </tr>\n",
       "    <tr>\n",
       "      <th>4</th>\n",
       "      <th>1</th>\n",
       "      <td>754.159807</td>\n",
       "      <td>7.0</td>\n",
       "      <td>1</td>\n",
       "      <td>ultra</td>\n",
       "      <td>241.0</td>\n",
       "    </tr>\n",
       "    <tr>\n",
       "      <th>8</th>\n",
       "      <th>1</th>\n",
       "      <td>6723.470560</td>\n",
       "      <td>46.0</td>\n",
       "      <td>2</td>\n",
       "      <td>ultra</td>\n",
       "      <td>475.0</td>\n",
       "    </tr>\n",
       "    <tr>\n",
       "      <th>10</th>\n",
       "      <th>1</th>\n",
       "      <td>5809.911100</td>\n",
       "      <td>32.0</td>\n",
       "      <td>2</td>\n",
       "      <td>ultra</td>\n",
       "      <td>391.0</td>\n",
       "    </tr>\n",
       "    <tr>\n",
       "      <th>11</th>\n",
       "      <th>1</th>\n",
       "      <td>7003.499363</td>\n",
       "      <td>56.0</td>\n",
       "      <td>3</td>\n",
       "      <td>ultra</td>\n",
       "      <td>535.0</td>\n",
       "    </tr>\n",
       "    <tr>\n",
       "      <th>12</th>\n",
       "      <th>1</th>\n",
       "      <td>6751.629942</td>\n",
       "      <td>28.0</td>\n",
       "      <td>2</td>\n",
       "      <td>ultra</td>\n",
       "      <td>367.0</td>\n",
       "    </tr>\n",
       "  </tbody>\n",
       "</table>\n",
       "</div>"
      ],
      "text/plain": [
       "                  distance  duration  name subscription_type  income_per_month\n",
       "month user_id                                                                 \n",
       "1     1        7027.511294      42.0     2             ultra             451.0\n",
       "4     1         754.159807       7.0     1             ultra             241.0\n",
       "8     1        6723.470560      46.0     2             ultra             475.0\n",
       "10    1        5809.911100      32.0     2             ultra             391.0\n",
       "11    1        7003.499363      56.0     3             ultra             535.0\n",
       "12    1        6751.629942      28.0     2             ultra             367.0"
      ]
     },
     "execution_count": 45,
     "metadata": {},
     "output_type": "execute_result"
    }
   ],
   "source": [
    "total_data.query('user_id == 1')"
   ]
  },
  {
   "cell_type": "code",
   "execution_count": 46,
   "id": "fbcd55b6",
   "metadata": {},
   "outputs": [
    {
     "data": {
      "text/plain": [
       "subscription_type\n",
       "free     328.641365\n",
       "ultra    362.792191\n",
       "Name: income_per_month, dtype: float64"
      ]
     },
     "execution_count": 46,
     "metadata": {},
     "output_type": "execute_result"
    }
   ],
   "source": [
    "\n",
    "total_data.groupby('subscription_type')['income_per_month'].mean()"
   ]
  },
  {
   "cell_type": "markdown",
   "id": "40be3db2",
   "metadata": {},
   "source": [
    "Вывод:\n",
    "\n",
    "Создали новый датафрейм с агрегированными данными (total_data) на основе датафрейма с объединенными данными (full_data).\n",
    "\n",
    "Нашли суммарное расстояние, количество поездок и суммарное время для каждого пользователя за каждый месяц. \n",
    "Добавили столбец с помесячной выручкой для каждого пользователя"
   ]
  },
  {
   "cell_type": "markdown",
   "id": "41545ac0",
   "metadata": {},
   "source": [
    "#### Шаг 6. Проверка гипотез"
   ]
  },
  {
   "cell_type": "markdown",
   "id": "2e67e66b",
   "metadata": {},
   "source": [
    "6.1 Проверим гипотезу, что пользователи с подпиской тратят в среднем больше времени на поездки, чем пользователи на бесплатной тарифе\n",
    "\n",
    "H0: Время пользователей на подписке ultra = время пользователей на подписке free\n",
    "\n",
    "H1: Время пользователей на подписке ultra > время пользователей на подписке free\n",
    "\n",
    "alpha = 0.05 - уровень статистической значимости"
   ]
  },
  {
   "cell_type": "code",
   "execution_count": 47,
   "id": "dfa8722f",
   "metadata": {},
   "outputs": [
    {
     "name": "stdout",
     "output_type": "stream",
     "text": [
      "2.4959453720736625e-34\n",
      "Отвергаем нулевую гипотезу\n"
     ]
    }
   ],
   "source": [
    "ultra = ultra_subscription['duration'] \n",
    "\n",
    "free = free_subscription['duration']\n",
    "\n",
    "results = st.ttest_ind(ultra, \n",
    "                       free,\n",
    "                       alternative = 'greater')\n",
    "\n",
    "alpha = 0.05\n",
    "\n",
    "print(results.pvalue)\n",
    "\n",
    "if results.pvalue < alpha:\n",
    "    print('Отвергаем нулевую гипотезу')\n",
    "else:\n",
    "    print('Не удалось отвергнуть нулевую гипотезу')"
   ]
  },
  {
   "cell_type": "markdown",
   "id": "6d81f5ce",
   "metadata": {},
   "source": [
    "Вывод:\n",
    "\n",
    "Проверили и отвергли гипотезу о том, что время поездки пользователей на тарифе ultra равно времени поездки пользователей на тарифе free"
   ]
  },
  {
   "cell_type": "markdown",
   "id": "ef351ee8",
   "metadata": {},
   "source": [
    "6.2 Гипотеза - пользователи с подпиской проезжают расстояние, превышающее 3130 метров за одну поездку.\n",
    "\n",
    "H0: Расстояние пользователей на подписке ultra = 3130 метров\n",
    "\n",
    "H1: Расстояние пользователей на подписке ultra > 3130 метров"
   ]
  },
  {
   "cell_type": "code",
   "execution_count": 48,
   "id": "583f0103",
   "metadata": {},
   "outputs": [
    {
     "name": "stdout",
     "output_type": "stream",
     "text": [
      "0.9195368847849785\n",
      "Не удалось отвергнуть нулевую гипотезу\n"
     ]
    }
   ],
   "source": [
    "ultra_dist = ultra_subscription['distance']\n",
    "\n",
    "interested_value = 3130\n",
    "\n",
    "alpha = 0.05\n",
    "\n",
    "results = st.ttest_1samp(\n",
    "    ultra_dist, \n",
    "    interested_value,\n",
    "    alternative='greater')\n",
    "    \n",
    "print(results.pvalue)\n",
    "\n",
    "if (results.pvalue < alpha):\n",
    "    print('Отвергаем нулевую гипотезу')\n",
    "else:\n",
    "    print('Не удалось отвергнуть нулевую гипотезу')"
   ]
  },
  {
   "cell_type": "markdown",
   "id": "27bebde9",
   "metadata": {},
   "source": [
    "Вывод:\n",
    "\n",
    "Мы не можем утверждать, что пользователи с подпиской проезжают расстояние меньшее, чем расстояние, приводящее к износу самоката."
   ]
  },
  {
   "cell_type": "markdown",
   "id": "75bbeb6f",
   "metadata": {},
   "source": [
    "6.3. Проверим гипотезу о том, будет ли помесячная выручка от пользователей с подпиской по месяцам выше, чем выручка от пользователей без подписки. \n",
    "\n",
    "H0: Выручка пользователей на подписке ultra = выручка пользователей на подписке free\n",
    "\n",
    "H1: Выручка пользователей на подписке ultra > выручка пользователей на подписке free"
   ]
  },
  {
   "cell_type": "code",
   "execution_count": 49,
   "id": "a7a7859e",
   "metadata": {},
   "outputs": [
    {
     "name": "stdout",
     "output_type": "stream",
     "text": [
      "1.8850394384715216e-31\n",
      "Отвергаем нулевую гипотезу\n"
     ]
    }
   ],
   "source": [
    "ultra_per_month = total_data.loc[total_data.subscription_type == 'ultra', 'income_per_month'] \n",
    "\n",
    "free_per_month = total_data.loc[total_data.subscription_type == 'free', 'income_per_month'] \n",
    "\n",
    "results = st.ttest_ind(ultra_per_month, \n",
    "                       free_per_month,\n",
    "                       alternative = 'greater')\n",
    "\n",
    "alpha = 0.05\n",
    "\n",
    "print(results.pvalue)\n",
    "\n",
    "if results.pvalue < alpha:\n",
    "    print('Отвергаем нулевую гипотезу')\n",
    "else:\n",
    "    print('Не удалось отвергнуть нулевую гипотезу')"
   ]
  },
  {
   "cell_type": "markdown",
   "id": "807673bf",
   "metadata": {},
   "source": [
    "Вывод:\n",
    "\n",
    "Проверили гипотезу - можно утверждать, что на пользователях с подпиской ultra выручка больше, чем выручка с пользователей на подписке free"
   ]
  },
  {
   "cell_type": "markdown",
   "id": "2d878501",
   "metadata": {},
   "source": [
    "6.4. Снизилось ли кол-во обращений в техподдержку. Используем для проверки гипотезу о равенстве средних для зависимых (парных) выборок.\n",
    "\n",
    "μ1 и μ2 - средние значения количество обращений в техподдержку до и после изменения.\n",
    "\n",
    "H0 : μ1 = μ2\n",
    "H1 : μ1 != μ2\n",
    "\n",
    "Метод, который нужно использовать при сравнении: scipy.stats.ttest_rel()"
   ]
  },
  {
   "cell_type": "markdown",
   "id": "9b537fb4",
   "metadata": {},
   "source": [
    "Общий вывод:\n",
    "Загружены данные о пользователях, информации о поездках и информации о подписках.\n",
    "\n",
    "Осуществлена предобработка данных. Пропусков не обнаружено. Поменяли тип данных у столбца date из датафрейма riders_go  к типу даты pandas. Добавили столбец month  с номером месяца. Удалены дубликаты из датафрейма с пользователями.\n",
    "\n",
    "Провели исследовательский анализ данных:\n",
    "\n",
    "Определили, что количество пользователей по городам распределено примерно одинаково. Лидером по количеству пользователей является Пятигорск - 219 пользователей. Меньше всего пользователей в Москве - 168 пользователей.\n",
    "Пользователей с бесплатной подпиской - 835 человек - ~54% от общего числа пользователей. \n",
    "Пользователей с платной подпиской - 699 пользователей - ~46%. \n",
    "Возраст пользователей в основном находится в пределах от 20 до 30 лет.\n",
    "В основном пользователи проезжают от 2.5 км до 4 км.\n",
    "Чаще всего длительность поездки находится в промежутке от 13 до 22 минут\n",
    "\n",
    "Объединили данные о пользователях, поездках и подписках в один датафрейм. Создали на его основе 2 датафрейма:\n",
    "\n",
    "Для пользователей с платной подпиской\n",
    "Для пользователей с бесплатной подпиской\n",
    "\n",
    "Визуализировали информацию о расстоянии и времени поездки для пользователей каждого тарифа.\n",
    "\n",
    "Для бесплатного тарифа время поездки составляет от 10 до 30 минут, и проезжают от 2 до 5 км. \n",
    "Для платного тарифа время поездки составляет от 15 до 25 минут. Пик расстояния около 3 км.\n",
    "Нашли суммарное расстояние, количество поездок и суммарное время для каждого пользователя за каждый месяц - вывели все данные в отдельный датафрейм total_data. Добавили в датафрейм total_data столбец с помесячной выручкой income_per_month.\n",
    "\n",
    "Проверили гипотезы:\n",
    "\n",
    "Пользователи с подпиской тратят больше времени на поездки, чем пользователи на бесплатном тарифе\n",
    "\n",
    "Отвергли нулевую гипотезу\n",
    "\n",
    "Пользователи с подпиской проезжают расстояние, превышающее 3130 метров за одну поездку\n",
    "\n",
    "Не удалось отвергнуть нулевую гипотезу\n",
    "\n",
    "Помесячная выручка от пользователей с подпиской выше, чем выручка от пользователей без подписки\n",
    "\n",
    "Отвергли нулевую гипотезу"
   ]
  },
  {
   "cell_type": "code",
   "execution_count": null,
   "id": "83dec200",
   "metadata": {},
   "outputs": [],
   "source": []
  }
 ],
 "metadata": {
  "ExecuteTimeLog": [
   {
    "duration": 78,
    "start_time": "2023-08-14T06:51:25.259Z"
   },
   {
    "duration": 444,
    "start_time": "2023-08-14T06:51:30.455Z"
   },
   {
    "duration": 118,
    "start_time": "2023-08-14T06:51:32.716Z"
   },
   {
    "duration": 61,
    "start_time": "2023-08-14T06:51:45.378Z"
   },
   {
    "duration": 121,
    "start_time": "2023-08-14T06:52:22.475Z"
   },
   {
    "duration": 50,
    "start_time": "2023-08-14T06:52:34.431Z"
   },
   {
    "duration": 59,
    "start_time": "2023-08-14T06:52:38.779Z"
   },
   {
    "duration": 54,
    "start_time": "2023-08-14T06:52:48.997Z"
   },
   {
    "duration": 74,
    "start_time": "2023-08-14T06:53:10.700Z"
   },
   {
    "duration": 93,
    "start_time": "2023-08-14T06:53:32.595Z"
   },
   {
    "duration": 40,
    "start_time": "2023-08-14T06:53:53.488Z"
   },
   {
    "duration": 72,
    "start_time": "2023-08-14T06:54:06.647Z"
   },
   {
    "duration": 64,
    "start_time": "2023-08-14T06:54:14.538Z"
   },
   {
    "duration": 20,
    "start_time": "2023-08-14T07:01:04.782Z"
   },
   {
    "duration": 62,
    "start_time": "2023-08-14T07:02:09.652Z"
   },
   {
    "duration": 14,
    "start_time": "2023-08-14T07:05:33.670Z"
   },
   {
    "duration": 8,
    "start_time": "2023-08-14T07:16:35.156Z"
   },
   {
    "duration": 7,
    "start_time": "2023-08-14T07:16:55.634Z"
   },
   {
    "duration": 9,
    "start_time": "2023-08-14T07:17:14.274Z"
   },
   {
    "duration": 6,
    "start_time": "2023-08-14T07:22:41.030Z"
   },
   {
    "duration": 5,
    "start_time": "2023-08-14T07:23:02.867Z"
   },
   {
    "duration": 9,
    "start_time": "2023-08-14T07:23:33.104Z"
   },
   {
    "duration": 5,
    "start_time": "2023-08-14T07:23:35.031Z"
   },
   {
    "duration": 12,
    "start_time": "2023-08-14T07:27:04.978Z"
   },
   {
    "duration": 10,
    "start_time": "2023-08-14T07:29:43.277Z"
   },
   {
    "duration": 16,
    "start_time": "2023-08-14T07:29:50.471Z"
   },
   {
    "duration": 1039,
    "start_time": "2023-08-14T07:31:03.280Z"
   },
   {
    "duration": 7,
    "start_time": "2023-08-14T07:35:21.303Z"
   },
   {
    "duration": 83,
    "start_time": "2023-08-14T07:36:07.695Z"
   },
   {
    "duration": 13,
    "start_time": "2023-08-14T07:36:15.494Z"
   },
   {
    "duration": 139,
    "start_time": "2023-08-14T07:36:27.581Z"
   },
   {
    "duration": 144,
    "start_time": "2023-08-14T07:36:36.982Z"
   },
   {
    "duration": 175,
    "start_time": "2023-08-14T07:37:00.504Z"
   },
   {
    "duration": 5,
    "start_time": "2023-08-14T07:40:28.826Z"
   },
   {
    "duration": 8,
    "start_time": "2023-08-14T07:40:38.682Z"
   },
   {
    "duration": 104,
    "start_time": "2023-08-14T07:41:24.006Z"
   },
   {
    "duration": 7,
    "start_time": "2023-08-14T07:43:34.260Z"
   },
   {
    "duration": 157,
    "start_time": "2023-08-14T07:43:50.737Z"
   },
   {
    "duration": 225,
    "start_time": "2023-08-14T07:44:43.441Z"
   },
   {
    "duration": 164,
    "start_time": "2023-08-14T07:45:08.480Z"
   },
   {
    "duration": 160,
    "start_time": "2023-08-14T07:49:09.013Z"
   },
   {
    "duration": 5,
    "start_time": "2023-08-14T07:52:36.137Z"
   },
   {
    "duration": 8,
    "start_time": "2023-08-14T07:52:44.758Z"
   },
   {
    "duration": 8,
    "start_time": "2023-08-14T07:52:48.109Z"
   },
   {
    "duration": 8,
    "start_time": "2023-08-14T07:54:35.813Z"
   },
   {
    "duration": 9,
    "start_time": "2023-08-14T07:54:37.799Z"
   },
   {
    "duration": 21,
    "start_time": "2023-08-14T07:57:03.479Z"
   },
   {
    "duration": 116,
    "start_time": "2023-08-14T07:59:32.631Z"
   },
   {
    "duration": 7,
    "start_time": "2023-08-14T08:09:35.594Z"
   },
   {
    "duration": 36,
    "start_time": "2023-08-14T08:19:53.941Z"
   },
   {
    "duration": 11,
    "start_time": "2023-08-14T08:20:37.525Z"
   },
   {
    "duration": 24,
    "start_time": "2023-08-14T08:20:46.978Z"
   },
   {
    "duration": 7,
    "start_time": "2023-08-14T08:21:20.555Z"
   },
   {
    "duration": 34,
    "start_time": "2023-08-14T08:21:26.899Z"
   },
   {
    "duration": 23,
    "start_time": "2023-08-14T08:23:12.578Z"
   },
   {
    "duration": 222,
    "start_time": "2023-08-14T08:25:13.559Z"
   },
   {
    "duration": 216,
    "start_time": "2023-08-14T08:25:34.591Z"
   },
   {
    "duration": 196,
    "start_time": "2023-08-14T08:25:43.678Z"
   },
   {
    "duration": 207,
    "start_time": "2023-08-14T08:25:51.271Z"
   },
   {
    "duration": 229,
    "start_time": "2023-08-14T08:25:59.186Z"
   },
   {
    "duration": 218,
    "start_time": "2023-08-14T08:26:07.552Z"
   },
   {
    "duration": 290,
    "start_time": "2023-08-14T08:26:14.479Z"
   },
   {
    "duration": 17,
    "start_time": "2023-08-14T08:27:01.115Z"
   },
   {
    "duration": 32,
    "start_time": "2023-08-14T08:27:10.626Z"
   },
   {
    "duration": 12,
    "start_time": "2023-08-14T08:27:13.618Z"
   },
   {
    "duration": 34,
    "start_time": "2023-08-14T08:27:22.773Z"
   },
   {
    "duration": 24,
    "start_time": "2023-08-14T08:27:27.726Z"
   },
   {
    "duration": 245,
    "start_time": "2023-08-14T08:27:42.557Z"
   },
   {
    "duration": 211,
    "start_time": "2023-08-14T08:28:31.320Z"
   },
   {
    "duration": 12,
    "start_time": "2023-08-14T08:29:33.308Z"
   },
   {
    "duration": 179,
    "start_time": "2023-08-14T08:29:48.682Z"
   },
   {
    "duration": 908,
    "start_time": "2023-08-14T08:45:14.013Z"
   },
   {
    "duration": 4,
    "start_time": "2023-08-14T08:46:19.643Z"
   },
   {
    "duration": 14,
    "start_time": "2023-08-14T08:46:28.970Z"
   },
   {
    "duration": 20,
    "start_time": "2023-08-14T08:47:31.214Z"
   },
   {
    "duration": 4,
    "start_time": "2023-08-14T08:51:13.083Z"
   },
   {
    "duration": 152,
    "start_time": "2023-08-14T08:51:37.150Z"
   },
   {
    "duration": 7,
    "start_time": "2023-08-14T08:51:54.751Z"
   },
   {
    "duration": 16,
    "start_time": "2023-08-14T08:52:06.949Z"
   },
   {
    "duration": 11,
    "start_time": "2023-08-14T09:05:20.823Z"
   },
   {
    "duration": 1263,
    "start_time": "2023-08-14T09:05:42.208Z"
   },
   {
    "duration": 48,
    "start_time": "2023-08-14T09:05:43.473Z"
   },
   {
    "duration": 48,
    "start_time": "2023-08-14T09:05:43.522Z"
   },
   {
    "duration": 30,
    "start_time": "2023-08-14T09:05:43.572Z"
   },
   {
    "duration": 10,
    "start_time": "2023-08-14T09:05:43.604Z"
   },
   {
    "duration": 41,
    "start_time": "2023-08-14T09:05:43.616Z"
   },
   {
    "duration": 6,
    "start_time": "2023-08-14T09:05:43.659Z"
   },
   {
    "duration": 18,
    "start_time": "2023-08-14T09:05:43.666Z"
   },
   {
    "duration": 12,
    "start_time": "2023-08-14T09:05:43.685Z"
   },
   {
    "duration": 12,
    "start_time": "2023-08-14T09:05:43.699Z"
   },
   {
    "duration": 8,
    "start_time": "2023-08-14T09:05:43.712Z"
   },
   {
    "duration": 15,
    "start_time": "2023-08-14T09:05:43.722Z"
   },
   {
    "duration": 10,
    "start_time": "2023-08-14T09:05:43.739Z"
   },
   {
    "duration": 67,
    "start_time": "2023-08-14T09:05:43.759Z"
   },
   {
    "duration": 0,
    "start_time": "2023-08-14T09:05:43.829Z"
   },
   {
    "duration": 0,
    "start_time": "2023-08-14T09:05:43.830Z"
   },
   {
    "duration": 0,
    "start_time": "2023-08-14T09:05:43.831Z"
   },
   {
    "duration": 0,
    "start_time": "2023-08-14T09:05:43.832Z"
   },
   {
    "duration": 0,
    "start_time": "2023-08-14T09:05:43.833Z"
   },
   {
    "duration": 0,
    "start_time": "2023-08-14T09:05:43.835Z"
   },
   {
    "duration": 0,
    "start_time": "2023-08-14T09:05:43.836Z"
   },
   {
    "duration": 0,
    "start_time": "2023-08-14T09:05:43.837Z"
   },
   {
    "duration": 0,
    "start_time": "2023-08-14T09:05:43.838Z"
   },
   {
    "duration": 0,
    "start_time": "2023-08-14T09:05:43.839Z"
   },
   {
    "duration": 0,
    "start_time": "2023-08-14T09:05:43.840Z"
   },
   {
    "duration": 0,
    "start_time": "2023-08-14T09:05:43.841Z"
   },
   {
    "duration": 0,
    "start_time": "2023-08-14T09:05:43.843Z"
   },
   {
    "duration": 0,
    "start_time": "2023-08-14T09:05:43.844Z"
   },
   {
    "duration": 0,
    "start_time": "2023-08-14T09:05:43.845Z"
   },
   {
    "duration": 0,
    "start_time": "2023-08-14T09:05:43.846Z"
   },
   {
    "duration": 0,
    "start_time": "2023-08-14T09:05:43.848Z"
   },
   {
    "duration": 0,
    "start_time": "2023-08-14T09:05:43.849Z"
   },
   {
    "duration": 0,
    "start_time": "2023-08-14T09:05:43.850Z"
   },
   {
    "duration": 0,
    "start_time": "2023-08-14T09:05:43.851Z"
   },
   {
    "duration": 0,
    "start_time": "2023-08-14T09:05:43.852Z"
   },
   {
    "duration": 0,
    "start_time": "2023-08-14T09:05:43.853Z"
   },
   {
    "duration": 0,
    "start_time": "2023-08-14T09:05:43.854Z"
   },
   {
    "duration": 0,
    "start_time": "2023-08-14T09:05:43.855Z"
   },
   {
    "duration": 0,
    "start_time": "2023-08-14T09:05:43.856Z"
   },
   {
    "duration": 0,
    "start_time": "2023-08-14T09:05:43.857Z"
   },
   {
    "duration": 0,
    "start_time": "2023-08-14T09:05:43.858Z"
   },
   {
    "duration": 0,
    "start_time": "2023-08-14T09:05:43.859Z"
   },
   {
    "duration": 0,
    "start_time": "2023-08-14T09:05:43.860Z"
   },
   {
    "duration": 1368,
    "start_time": "2023-08-14T09:06:03.739Z"
   },
   {
    "duration": 52,
    "start_time": "2023-08-14T09:06:05.109Z"
   },
   {
    "duration": 45,
    "start_time": "2023-08-14T09:06:05.162Z"
   },
   {
    "duration": 28,
    "start_time": "2023-08-14T09:06:05.209Z"
   },
   {
    "duration": 19,
    "start_time": "2023-08-14T09:06:05.240Z"
   },
   {
    "duration": 29,
    "start_time": "2023-08-14T09:06:05.261Z"
   },
   {
    "duration": 17,
    "start_time": "2023-08-14T09:06:05.292Z"
   },
   {
    "duration": 43,
    "start_time": "2023-08-14T09:06:05.312Z"
   },
   {
    "duration": 9,
    "start_time": "2023-08-14T09:06:05.357Z"
   },
   {
    "duration": 37,
    "start_time": "2023-08-14T09:06:05.368Z"
   },
   {
    "duration": 8,
    "start_time": "2023-08-14T09:06:05.407Z"
   },
   {
    "duration": 39,
    "start_time": "2023-08-14T09:06:05.416Z"
   },
   {
    "duration": 17,
    "start_time": "2023-08-14T09:06:05.456Z"
   },
   {
    "duration": 20,
    "start_time": "2023-08-14T09:06:05.476Z"
   },
   {
    "duration": 201,
    "start_time": "2023-08-14T09:06:05.498Z"
   },
   {
    "duration": 7,
    "start_time": "2023-08-14T09:06:05.701Z"
   },
   {
    "duration": 133,
    "start_time": "2023-08-14T09:06:05.710Z"
   },
   {
    "duration": 15,
    "start_time": "2023-08-14T09:06:05.845Z"
   },
   {
    "duration": 181,
    "start_time": "2023-08-14T09:06:05.862Z"
   },
   {
    "duration": 164,
    "start_time": "2023-08-14T09:06:06.045Z"
   },
   {
    "duration": 8,
    "start_time": "2023-08-14T09:06:06.211Z"
   },
   {
    "duration": 20,
    "start_time": "2023-08-14T09:06:06.220Z"
   },
   {
    "duration": 27,
    "start_time": "2023-08-14T09:06:06.242Z"
   },
   {
    "duration": 25,
    "start_time": "2023-08-14T09:06:06.271Z"
   },
   {
    "duration": 28,
    "start_time": "2023-08-14T09:06:06.298Z"
   },
   {
    "duration": 134,
    "start_time": "2023-08-14T09:06:06.328Z"
   },
   {
    "duration": 35,
    "start_time": "2023-08-14T09:06:06.464Z"
   },
   {
    "duration": 24,
    "start_time": "2023-08-14T09:06:06.501Z"
   },
   {
    "duration": 233,
    "start_time": "2023-08-14T09:06:06.526Z"
   },
   {
    "duration": 304,
    "start_time": "2023-08-14T09:06:06.760Z"
   },
   {
    "duration": 24,
    "start_time": "2023-08-14T09:06:07.065Z"
   },
   {
    "duration": 225,
    "start_time": "2023-08-14T09:06:07.091Z"
   },
   {
    "duration": 193,
    "start_time": "2023-08-14T09:06:07.317Z"
   },
   {
    "duration": 968,
    "start_time": "2023-08-14T09:06:07.511Z"
   },
   {
    "duration": 6,
    "start_time": "2023-08-14T09:06:08.481Z"
   },
   {
    "duration": 24,
    "start_time": "2023-08-14T09:06:08.489Z"
   },
   {
    "duration": 21,
    "start_time": "2023-08-14T09:06:08.515Z"
   },
   {
    "duration": 11,
    "start_time": "2023-08-14T09:06:08.537Z"
   },
   {
    "duration": 154,
    "start_time": "2023-08-14T09:06:08.559Z"
   },
   {
    "duration": 7,
    "start_time": "2023-08-14T09:06:08.715Z"
   },
   {
    "duration": 58,
    "start_time": "2023-08-14T09:06:08.725Z"
   },
   {
    "duration": 118,
    "start_time": "2023-08-14T09:06:08.785Z"
   },
   {
    "duration": 1343,
    "start_time": "2023-08-14T09:06:46.351Z"
   },
   {
    "duration": 49,
    "start_time": "2023-08-14T09:06:47.696Z"
   },
   {
    "duration": 45,
    "start_time": "2023-08-14T09:06:47.749Z"
   },
   {
    "duration": 28,
    "start_time": "2023-08-14T09:06:47.797Z"
   },
   {
    "duration": 10,
    "start_time": "2023-08-14T09:06:47.827Z"
   },
   {
    "duration": 21,
    "start_time": "2023-08-14T09:06:47.839Z"
   },
   {
    "duration": 6,
    "start_time": "2023-08-14T09:06:47.862Z"
   },
   {
    "duration": 13,
    "start_time": "2023-08-14T09:06:47.870Z"
   },
   {
    "duration": 7,
    "start_time": "2023-08-14T09:06:47.885Z"
   },
   {
    "duration": 18,
    "start_time": "2023-08-14T09:06:47.894Z"
   },
   {
    "duration": 12,
    "start_time": "2023-08-14T09:06:47.914Z"
   },
   {
    "duration": 14,
    "start_time": "2023-08-14T09:06:47.928Z"
   },
   {
    "duration": 18,
    "start_time": "2023-08-14T09:06:47.945Z"
   },
   {
    "duration": 14,
    "start_time": "2023-08-14T09:06:47.964Z"
   },
   {
    "duration": 189,
    "start_time": "2023-08-14T09:06:47.980Z"
   },
   {
    "duration": 7,
    "start_time": "2023-08-14T09:06:48.170Z"
   },
   {
    "duration": 147,
    "start_time": "2023-08-14T09:06:48.178Z"
   },
   {
    "duration": 7,
    "start_time": "2023-08-14T09:06:48.327Z"
   },
   {
    "duration": 212,
    "start_time": "2023-08-14T09:06:48.337Z"
   },
   {
    "duration": 169,
    "start_time": "2023-08-14T09:06:48.551Z"
   },
   {
    "duration": 8,
    "start_time": "2023-08-14T09:06:48.722Z"
   },
   {
    "duration": 11,
    "start_time": "2023-08-14T09:06:48.732Z"
   },
   {
    "duration": 21,
    "start_time": "2023-08-14T09:06:48.744Z"
   },
   {
    "duration": 7,
    "start_time": "2023-08-14T09:06:48.767Z"
   },
   {
    "duration": 14,
    "start_time": "2023-08-14T09:06:48.776Z"
   },
   {
    "duration": 143,
    "start_time": "2023-08-14T09:06:48.792Z"
   },
   {
    "duration": 47,
    "start_time": "2023-08-14T09:06:48.937Z"
   },
   {
    "duration": 26,
    "start_time": "2023-08-14T09:06:48.986Z"
   },
   {
    "duration": 226,
    "start_time": "2023-08-14T09:06:49.014Z"
   },
   {
    "duration": 303,
    "start_time": "2023-08-14T09:06:49.242Z"
   },
   {
    "duration": 28,
    "start_time": "2023-08-14T09:06:49.547Z"
   },
   {
    "duration": 221,
    "start_time": "2023-08-14T09:06:49.577Z"
   },
   {
    "duration": 191,
    "start_time": "2023-08-14T09:06:49.800Z"
   },
   {
    "duration": 989,
    "start_time": "2023-08-14T09:06:49.993Z"
   },
   {
    "duration": 4,
    "start_time": "2023-08-14T09:06:50.984Z"
   },
   {
    "duration": 24,
    "start_time": "2023-08-14T09:06:50.989Z"
   },
   {
    "duration": 11,
    "start_time": "2023-08-14T09:06:51.015Z"
   },
   {
    "duration": 4,
    "start_time": "2023-08-14T09:06:51.028Z"
   },
   {
    "duration": 167,
    "start_time": "2023-08-14T09:06:51.033Z"
   },
   {
    "duration": 7,
    "start_time": "2023-08-14T09:06:51.204Z"
   },
   {
    "duration": 53,
    "start_time": "2023-08-14T09:06:51.213Z"
   },
   {
    "duration": 5,
    "start_time": "2023-08-14T09:06:51.268Z"
   },
   {
    "duration": 6,
    "start_time": "2023-08-14T09:16:26.872Z"
   },
   {
    "duration": 1474,
    "start_time": "2023-08-14T09:22:25.582Z"
   },
   {
    "duration": 1355,
    "start_time": "2023-08-14T09:23:27.996Z"
   },
   {
    "duration": 1308,
    "start_time": "2023-08-14T09:24:08.266Z"
   },
   {
    "duration": 11,
    "start_time": "2023-08-14T09:24:19.032Z"
   },
   {
    "duration": 1323,
    "start_time": "2023-08-14T09:52:46.566Z"
   },
   {
    "duration": 52,
    "start_time": "2023-08-14T09:52:47.892Z"
   },
   {
    "duration": 44,
    "start_time": "2023-08-14T09:52:47.945Z"
   },
   {
    "duration": 27,
    "start_time": "2023-08-14T09:52:47.992Z"
   },
   {
    "duration": 11,
    "start_time": "2023-08-14T09:52:48.021Z"
   },
   {
    "duration": 26,
    "start_time": "2023-08-14T09:52:48.033Z"
   },
   {
    "duration": 7,
    "start_time": "2023-08-14T09:52:48.061Z"
   },
   {
    "duration": 15,
    "start_time": "2023-08-14T09:52:48.070Z"
   },
   {
    "duration": 9,
    "start_time": "2023-08-14T09:52:48.087Z"
   },
   {
    "duration": 16,
    "start_time": "2023-08-14T09:52:48.099Z"
   },
   {
    "duration": 16,
    "start_time": "2023-08-14T09:52:48.117Z"
   },
   {
    "duration": 16,
    "start_time": "2023-08-14T09:52:48.135Z"
   },
   {
    "duration": 8,
    "start_time": "2023-08-14T09:52:48.158Z"
   },
   {
    "duration": 20,
    "start_time": "2023-08-14T09:52:48.167Z"
   },
   {
    "duration": 216,
    "start_time": "2023-08-14T09:52:48.189Z"
   },
   {
    "duration": 9,
    "start_time": "2023-08-14T09:52:48.407Z"
   },
   {
    "duration": 169,
    "start_time": "2023-08-14T09:52:48.418Z"
   },
   {
    "duration": 7,
    "start_time": "2023-08-14T09:52:48.589Z"
   },
   {
    "duration": 190,
    "start_time": "2023-08-14T09:52:48.598Z"
   },
   {
    "duration": 168,
    "start_time": "2023-08-14T09:52:48.790Z"
   },
   {
    "duration": 8,
    "start_time": "2023-08-14T09:52:48.960Z"
   },
   {
    "duration": 11,
    "start_time": "2023-08-14T09:52:48.969Z"
   },
   {
    "duration": 10,
    "start_time": "2023-08-14T09:52:48.981Z"
   },
   {
    "duration": 29,
    "start_time": "2023-08-14T09:52:48.993Z"
   },
   {
    "duration": 18,
    "start_time": "2023-08-14T09:52:49.024Z"
   },
   {
    "duration": 124,
    "start_time": "2023-08-14T09:52:49.043Z"
   },
   {
    "duration": 38,
    "start_time": "2023-08-14T09:52:49.168Z"
   },
   {
    "duration": 26,
    "start_time": "2023-08-14T09:52:49.209Z"
   },
   {
    "duration": 254,
    "start_time": "2023-08-14T09:52:49.237Z"
   },
   {
    "duration": 279,
    "start_time": "2023-08-14T09:52:49.493Z"
   },
   {
    "duration": 23,
    "start_time": "2023-08-14T09:52:49.774Z"
   },
   {
    "duration": 217,
    "start_time": "2023-08-14T09:52:49.799Z"
   },
   {
    "duration": 193,
    "start_time": "2023-08-14T09:52:50.017Z"
   },
   {
    "duration": 962,
    "start_time": "2023-08-14T09:52:50.211Z"
   },
   {
    "duration": 5,
    "start_time": "2023-08-14T09:52:51.175Z"
   },
   {
    "duration": 28,
    "start_time": "2023-08-14T09:52:51.182Z"
   },
   {
    "duration": 27,
    "start_time": "2023-08-14T09:52:51.212Z"
   },
   {
    "duration": 261,
    "start_time": "2023-08-14T09:52:51.241Z"
   },
   {
    "duration": 166,
    "start_time": "2023-08-14T09:52:51.504Z"
   },
   {
    "duration": 8,
    "start_time": "2023-08-14T09:52:51.672Z"
   },
   {
    "duration": 37,
    "start_time": "2023-08-14T09:52:51.682Z"
   },
   {
    "duration": 7,
    "start_time": "2023-08-14T09:52:51.721Z"
   },
   {
    "duration": 20,
    "start_time": "2023-08-14T09:52:51.730Z"
   },
   {
    "duration": 43,
    "start_time": "2023-08-14T09:52:51.751Z"
   },
   {
    "duration": 1330,
    "start_time": "2023-08-14T16:48:00.718Z"
   },
   {
    "duration": 92,
    "start_time": "2023-08-14T16:48:02.050Z"
   },
   {
    "duration": 78,
    "start_time": "2023-08-14T16:48:02.143Z"
   },
   {
    "duration": 83,
    "start_time": "2023-08-14T16:48:02.223Z"
   },
   {
    "duration": 9,
    "start_time": "2023-08-14T16:48:02.309Z"
   },
   {
    "duration": 70,
    "start_time": "2023-08-14T16:48:02.320Z"
   },
   {
    "duration": 15,
    "start_time": "2023-08-14T16:48:02.392Z"
   },
   {
    "duration": 68,
    "start_time": "2023-08-14T16:48:02.409Z"
   },
   {
    "duration": 30,
    "start_time": "2023-08-14T16:48:02.479Z"
   },
   {
    "duration": 64,
    "start_time": "2023-08-14T16:48:02.512Z"
   },
   {
    "duration": 33,
    "start_time": "2023-08-14T16:48:02.578Z"
   },
   {
    "duration": 31,
    "start_time": "2023-08-14T16:48:02.613Z"
   },
   {
    "duration": 20,
    "start_time": "2023-08-14T16:48:02.645Z"
   },
   {
    "duration": 29,
    "start_time": "2023-08-14T16:48:02.667Z"
   },
   {
    "duration": 177,
    "start_time": "2023-08-14T16:48:02.698Z"
   },
   {
    "duration": 5,
    "start_time": "2023-08-14T16:48:02.877Z"
   },
   {
    "duration": 108,
    "start_time": "2023-08-14T16:48:02.884Z"
   },
   {
    "duration": 6,
    "start_time": "2023-08-14T16:48:02.994Z"
   },
   {
    "duration": 138,
    "start_time": "2023-08-14T16:48:03.001Z"
   },
   {
    "duration": 126,
    "start_time": "2023-08-14T16:48:03.141Z"
   },
   {
    "duration": 6,
    "start_time": "2023-08-14T16:48:03.269Z"
   },
   {
    "duration": 19,
    "start_time": "2023-08-14T16:48:03.277Z"
   },
   {
    "duration": 9,
    "start_time": "2023-08-14T16:48:03.297Z"
   },
   {
    "duration": 9,
    "start_time": "2023-08-14T16:48:03.307Z"
   },
   {
    "duration": 11,
    "start_time": "2023-08-14T16:48:03.318Z"
   },
   {
    "duration": 105,
    "start_time": "2023-08-14T16:48:03.331Z"
   },
   {
    "duration": 27,
    "start_time": "2023-08-14T16:48:03.438Z"
   },
   {
    "duration": 17,
    "start_time": "2023-08-14T16:48:03.468Z"
   },
   {
    "duration": 160,
    "start_time": "2023-08-14T16:48:03.499Z"
   },
   {
    "duration": 203,
    "start_time": "2023-08-14T16:48:03.660Z"
   },
   {
    "duration": 17,
    "start_time": "2023-08-14T16:48:03.864Z"
   },
   {
    "duration": 169,
    "start_time": "2023-08-14T16:48:03.882Z"
   },
   {
    "duration": 147,
    "start_time": "2023-08-14T16:48:04.052Z"
   },
   {
    "duration": 817,
    "start_time": "2023-08-14T16:48:04.201Z"
   },
   {
    "duration": 3,
    "start_time": "2023-08-14T16:48:05.020Z"
   },
   {
    "duration": 30,
    "start_time": "2023-08-14T16:48:05.024Z"
   },
   {
    "duration": 10,
    "start_time": "2023-08-14T16:48:05.055Z"
   },
   {
    "duration": 11,
    "start_time": "2023-08-14T16:48:05.066Z"
   },
   {
    "duration": 151,
    "start_time": "2023-08-14T16:48:05.078Z"
   },
   {
    "duration": 5,
    "start_time": "2023-08-14T16:48:05.231Z"
   },
   {
    "duration": 39,
    "start_time": "2023-08-14T16:48:05.237Z"
   },
   {
    "duration": 5,
    "start_time": "2023-08-14T16:48:05.277Z"
   },
   {
    "duration": 10,
    "start_time": "2023-08-14T16:48:05.283Z"
   },
   {
    "duration": 17,
    "start_time": "2023-08-14T16:48:05.294Z"
   },
   {
    "duration": 6,
    "start_time": "2023-08-14T16:55:31.643Z"
   },
   {
    "duration": 48,
    "start_time": "2023-08-14T17:22:48.910Z"
   },
   {
    "duration": 1452,
    "start_time": "2023-08-14T17:22:55.972Z"
   },
   {
    "duration": 95,
    "start_time": "2023-08-14T17:22:57.426Z"
   },
   {
    "duration": 84,
    "start_time": "2023-08-14T17:22:57.522Z"
   },
   {
    "duration": 65,
    "start_time": "2023-08-14T17:22:57.608Z"
   },
   {
    "duration": 8,
    "start_time": "2023-08-14T17:22:57.676Z"
   },
   {
    "duration": 29,
    "start_time": "2023-08-14T17:22:57.686Z"
   },
   {
    "duration": 18,
    "start_time": "2023-08-14T17:22:57.717Z"
   },
   {
    "duration": 30,
    "start_time": "2023-08-14T17:22:57.736Z"
   },
   {
    "duration": 27,
    "start_time": "2023-08-14T17:22:57.767Z"
   },
   {
    "duration": 19,
    "start_time": "2023-08-14T17:22:57.797Z"
   },
   {
    "duration": 34,
    "start_time": "2023-08-14T17:22:57.818Z"
   },
   {
    "duration": 21,
    "start_time": "2023-08-14T17:22:57.854Z"
   },
   {
    "duration": 11,
    "start_time": "2023-08-14T17:22:57.877Z"
   },
   {
    "duration": 20,
    "start_time": "2023-08-14T17:22:57.890Z"
   },
   {
    "duration": 186,
    "start_time": "2023-08-14T17:22:57.912Z"
   },
   {
    "duration": 8,
    "start_time": "2023-08-14T17:22:58.100Z"
   },
   {
    "duration": 122,
    "start_time": "2023-08-14T17:22:58.109Z"
   },
   {
    "duration": 6,
    "start_time": "2023-08-14T17:22:58.233Z"
   },
   {
    "duration": 200,
    "start_time": "2023-08-14T17:22:58.241Z"
   },
   {
    "duration": 149,
    "start_time": "2023-08-14T17:22:58.442Z"
   },
   {
    "duration": 8,
    "start_time": "2023-08-14T17:22:58.593Z"
   },
   {
    "duration": 39,
    "start_time": "2023-08-14T17:22:58.603Z"
   },
   {
    "duration": 18,
    "start_time": "2023-08-14T17:22:58.643Z"
   },
   {
    "duration": 21,
    "start_time": "2023-08-14T17:22:58.663Z"
   },
   {
    "duration": 64,
    "start_time": "2023-08-14T17:22:58.686Z"
   },
   {
    "duration": 162,
    "start_time": "2023-08-14T17:22:58.752Z"
   },
   {
    "duration": 38,
    "start_time": "2023-08-14T17:22:58.915Z"
   },
   {
    "duration": 35,
    "start_time": "2023-08-14T17:22:58.956Z"
   },
   {
    "duration": 258,
    "start_time": "2023-08-14T17:22:58.992Z"
   },
   {
    "duration": 169,
    "start_time": "2023-08-14T17:22:59.251Z"
   },
   {
    "duration": 18,
    "start_time": "2023-08-14T17:22:59.422Z"
   },
   {
    "duration": 248,
    "start_time": "2023-08-14T17:22:59.441Z"
   },
   {
    "duration": 197,
    "start_time": "2023-08-14T17:22:59.691Z"
   },
   {
    "duration": 881,
    "start_time": "2023-08-14T17:22:59.891Z"
   },
   {
    "duration": 3,
    "start_time": "2023-08-14T17:23:00.774Z"
   },
   {
    "duration": 45,
    "start_time": "2023-08-14T17:23:00.778Z"
   },
   {
    "duration": 26,
    "start_time": "2023-08-14T17:23:00.825Z"
   },
   {
    "duration": 34,
    "start_time": "2023-08-14T17:23:00.853Z"
   },
   {
    "duration": 168,
    "start_time": "2023-08-14T17:23:00.889Z"
   },
   {
    "duration": 6,
    "start_time": "2023-08-14T17:23:01.059Z"
   },
   {
    "duration": 54,
    "start_time": "2023-08-14T17:23:01.066Z"
   },
   {
    "duration": 26,
    "start_time": "2023-08-14T17:23:01.122Z"
   },
   {
    "duration": 35,
    "start_time": "2023-08-14T17:23:01.150Z"
   },
   {
    "duration": 40,
    "start_time": "2023-08-14T17:23:01.187Z"
   },
   {
    "duration": 71,
    "start_time": "2023-08-14T17:23:01.229Z"
   },
   {
    "duration": 183,
    "start_time": "2023-08-14T17:26:00.010Z"
   },
   {
    "duration": 145,
    "start_time": "2023-08-14T17:26:20.472Z"
   },
   {
    "duration": 235,
    "start_time": "2023-08-14T17:26:25.417Z"
   },
   {
    "duration": 177,
    "start_time": "2023-08-14T17:26:33.260Z"
   },
   {
    "duration": 1405,
    "start_time": "2023-08-14T17:30:25.217Z"
   },
   {
    "duration": 183,
    "start_time": "2023-08-14T17:30:35.015Z"
   },
   {
    "duration": 178,
    "start_time": "2023-08-14T17:41:48.403Z"
   },
   {
    "duration": 191,
    "start_time": "2023-08-14T17:42:28.945Z"
   },
   {
    "duration": 8,
    "start_time": "2023-08-14T17:44:42.359Z"
   },
   {
    "duration": 5,
    "start_time": "2023-08-14T17:53:43.285Z"
   },
   {
    "duration": 95,
    "start_time": "2023-08-14T18:00:18.662Z"
   },
   {
    "duration": 1213,
    "start_time": "2023-08-14T18:00:29.211Z"
   },
   {
    "duration": 48,
    "start_time": "2023-08-14T18:00:30.426Z"
   },
   {
    "duration": 41,
    "start_time": "2023-08-14T18:00:30.475Z"
   },
   {
    "duration": 79,
    "start_time": "2023-08-14T18:00:30.519Z"
   },
   {
    "duration": 202,
    "start_time": "2023-08-14T18:00:30.600Z"
   },
   {
    "duration": 86,
    "start_time": "2023-08-14T18:00:30.804Z"
   },
   {
    "duration": 41,
    "start_time": "2023-08-14T18:00:30.892Z"
   },
   {
    "duration": 45,
    "start_time": "2023-08-14T18:00:30.935Z"
   },
   {
    "duration": 134,
    "start_time": "2023-08-14T18:00:30.982Z"
   },
   {
    "duration": 81,
    "start_time": "2023-08-14T18:00:31.119Z"
   },
   {
    "duration": 43,
    "start_time": "2023-08-14T18:00:31.202Z"
   },
   {
    "duration": 81,
    "start_time": "2023-08-14T18:00:31.247Z"
   },
   {
    "duration": 31,
    "start_time": "2023-08-14T18:00:31.330Z"
   },
   {
    "duration": 31,
    "start_time": "2023-08-14T18:00:31.363Z"
   },
   {
    "duration": 252,
    "start_time": "2023-08-14T18:00:31.396Z"
   },
   {
    "duration": 5,
    "start_time": "2023-08-14T18:00:31.650Z"
   },
   {
    "duration": 233,
    "start_time": "2023-08-14T18:00:31.657Z"
   },
   {
    "duration": 59,
    "start_time": "2023-08-14T18:00:31.892Z"
   },
   {
    "duration": 272,
    "start_time": "2023-08-14T18:00:31.952Z"
   },
   {
    "duration": 145,
    "start_time": "2023-08-14T18:00:32.225Z"
   },
   {
    "duration": 7,
    "start_time": "2023-08-14T18:00:32.371Z"
   },
   {
    "duration": 33,
    "start_time": "2023-08-14T18:00:32.387Z"
   },
   {
    "duration": 42,
    "start_time": "2023-08-14T18:00:32.422Z"
   },
   {
    "duration": 88,
    "start_time": "2023-08-14T18:00:32.466Z"
   },
   {
    "duration": 62,
    "start_time": "2023-08-14T18:00:32.555Z"
   },
   {
    "duration": 147,
    "start_time": "2023-08-14T18:00:32.619Z"
   },
   {
    "duration": 46,
    "start_time": "2023-08-14T18:00:32.768Z"
   },
   {
    "duration": 130,
    "start_time": "2023-08-14T18:00:32.817Z"
   },
   {
    "duration": 81,
    "start_time": "2023-08-14T18:00:32.948Z"
   },
   {
    "duration": 216,
    "start_time": "2023-08-14T18:00:33.031Z"
   },
   {
    "duration": 242,
    "start_time": "2023-08-14T18:00:33.248Z"
   },
   {
    "duration": 19,
    "start_time": "2023-08-14T18:00:33.491Z"
   },
   {
    "duration": 190,
    "start_time": "2023-08-14T18:00:33.511Z"
   },
   {
    "duration": 153,
    "start_time": "2023-08-14T18:00:33.702Z"
   },
   {
    "duration": 104,
    "start_time": "2023-08-14T18:00:33.857Z"
   },
   {
    "duration": 0,
    "start_time": "2023-08-14T18:00:33.962Z"
   },
   {
    "duration": 0,
    "start_time": "2023-08-14T18:00:33.964Z"
   },
   {
    "duration": 0,
    "start_time": "2023-08-14T18:00:33.964Z"
   },
   {
    "duration": 0,
    "start_time": "2023-08-14T18:00:33.965Z"
   },
   {
    "duration": 0,
    "start_time": "2023-08-14T18:00:33.967Z"
   },
   {
    "duration": 0,
    "start_time": "2023-08-14T18:00:33.968Z"
   },
   {
    "duration": 0,
    "start_time": "2023-08-14T18:00:33.969Z"
   },
   {
    "duration": 0,
    "start_time": "2023-08-14T18:00:33.970Z"
   },
   {
    "duration": 0,
    "start_time": "2023-08-14T18:00:33.971Z"
   },
   {
    "duration": 0,
    "start_time": "2023-08-14T18:00:33.972Z"
   },
   {
    "duration": 0,
    "start_time": "2023-08-14T18:00:33.987Z"
   },
   {
    "duration": 0,
    "start_time": "2023-08-14T18:00:33.988Z"
   },
   {
    "duration": 0,
    "start_time": "2023-08-14T18:00:33.989Z"
   },
   {
    "duration": 4,
    "start_time": "2023-08-14T18:00:56.935Z"
   },
   {
    "duration": 9,
    "start_time": "2023-08-14T18:01:27.352Z"
   },
   {
    "duration": 67,
    "start_time": "2023-08-14T18:13:48.000Z"
   },
   {
    "duration": 1238,
    "start_time": "2023-08-14T18:17:30.228Z"
   },
   {
    "duration": 47,
    "start_time": "2023-08-14T18:17:31.468Z"
   },
   {
    "duration": 41,
    "start_time": "2023-08-14T18:17:31.516Z"
   },
   {
    "duration": 95,
    "start_time": "2023-08-14T18:17:31.559Z"
   },
   {
    "duration": 42,
    "start_time": "2023-08-14T18:17:31.655Z"
   },
   {
    "duration": 36,
    "start_time": "2023-08-14T18:17:31.699Z"
   },
   {
    "duration": 25,
    "start_time": "2023-08-14T18:17:31.737Z"
   },
   {
    "duration": 34,
    "start_time": "2023-08-14T18:17:31.764Z"
   },
   {
    "duration": 30,
    "start_time": "2023-08-14T18:17:31.800Z"
   },
   {
    "duration": 62,
    "start_time": "2023-08-14T18:17:31.832Z"
   },
   {
    "duration": 27,
    "start_time": "2023-08-14T18:17:31.896Z"
   },
   {
    "duration": 30,
    "start_time": "2023-08-14T18:17:31.924Z"
   },
   {
    "duration": 28,
    "start_time": "2023-08-14T18:17:31.956Z"
   },
   {
    "duration": 46,
    "start_time": "2023-08-14T18:17:31.986Z"
   },
   {
    "duration": 229,
    "start_time": "2023-08-14T18:17:32.034Z"
   },
   {
    "duration": 6,
    "start_time": "2023-08-14T18:17:32.265Z"
   },
   {
    "duration": 137,
    "start_time": "2023-08-14T18:17:32.272Z"
   },
   {
    "duration": 6,
    "start_time": "2023-08-14T18:17:32.411Z"
   },
   {
    "duration": 195,
    "start_time": "2023-08-14T18:17:32.418Z"
   },
   {
    "duration": 145,
    "start_time": "2023-08-14T18:17:32.615Z"
   },
   {
    "duration": 7,
    "start_time": "2023-08-14T18:17:32.762Z"
   },
   {
    "duration": 43,
    "start_time": "2023-08-14T18:17:32.770Z"
   },
   {
    "duration": 41,
    "start_time": "2023-08-14T18:17:32.814Z"
   },
   {
    "duration": 42,
    "start_time": "2023-08-14T18:17:32.857Z"
   },
   {
    "duration": 71,
    "start_time": "2023-08-14T18:17:32.901Z"
   },
   {
    "duration": 152,
    "start_time": "2023-08-14T18:17:32.974Z"
   },
   {
    "duration": 29,
    "start_time": "2023-08-14T18:17:33.128Z"
   },
   {
    "duration": 94,
    "start_time": "2023-08-14T18:17:33.160Z"
   },
   {
    "duration": 192,
    "start_time": "2023-08-14T18:17:33.256Z"
   },
   {
    "duration": 186,
    "start_time": "2023-08-14T18:17:33.450Z"
   },
   {
    "duration": 233,
    "start_time": "2023-08-14T18:17:33.638Z"
   },
   {
    "duration": 24,
    "start_time": "2023-08-14T18:17:33.872Z"
   },
   {
    "duration": 303,
    "start_time": "2023-08-14T18:17:33.897Z"
   },
   {
    "duration": 167,
    "start_time": "2023-08-14T18:17:34.202Z"
   },
   {
    "duration": 4,
    "start_time": "2023-08-14T18:17:34.370Z"
   },
   {
    "duration": 928,
    "start_time": "2023-08-14T18:17:34.376Z"
   },
   {
    "duration": 3,
    "start_time": "2023-08-14T18:17:35.306Z"
   },
   {
    "duration": 73,
    "start_time": "2023-08-14T18:17:35.310Z"
   },
   {
    "duration": 78,
    "start_time": "2023-08-14T18:17:35.385Z"
   },
   {
    "duration": 154,
    "start_time": "2023-08-14T18:17:35.464Z"
   },
   {
    "duration": 235,
    "start_time": "2023-08-14T18:17:35.620Z"
   },
   {
    "duration": 6,
    "start_time": "2023-08-14T18:17:35.856Z"
   },
   {
    "duration": 55,
    "start_time": "2023-08-14T18:17:35.863Z"
   },
   {
    "duration": 134,
    "start_time": "2023-08-14T18:17:35.920Z"
   },
   {
    "duration": 220,
    "start_time": "2023-08-14T18:17:36.055Z"
   },
   {
    "duration": 47,
    "start_time": "2023-08-14T18:17:36.277Z"
   },
   {
    "duration": 52,
    "start_time": "2023-08-14T18:17:36.325Z"
   },
   {
    "duration": 93,
    "start_time": "2023-08-14T18:17:36.378Z"
   },
   {
    "duration": 1228,
    "start_time": "2023-08-14T18:18:34.171Z"
   },
   {
    "duration": 46,
    "start_time": "2023-08-14T18:18:35.401Z"
   },
   {
    "duration": 41,
    "start_time": "2023-08-14T18:18:35.448Z"
   },
   {
    "duration": 30,
    "start_time": "2023-08-14T18:18:35.491Z"
   },
   {
    "duration": 15,
    "start_time": "2023-08-14T18:18:35.523Z"
   },
   {
    "duration": 29,
    "start_time": "2023-08-14T18:18:35.540Z"
   },
   {
    "duration": 11,
    "start_time": "2023-08-14T18:18:35.570Z"
   },
   {
    "duration": 60,
    "start_time": "2023-08-14T18:18:35.582Z"
   },
   {
    "duration": 24,
    "start_time": "2023-08-14T18:18:35.644Z"
   },
   {
    "duration": 16,
    "start_time": "2023-08-14T18:18:35.671Z"
   },
   {
    "duration": 40,
    "start_time": "2023-08-14T18:18:35.688Z"
   },
   {
    "duration": 75,
    "start_time": "2023-08-14T18:18:35.729Z"
   },
   {
    "duration": 42,
    "start_time": "2023-08-14T18:18:35.806Z"
   },
   {
    "duration": 46,
    "start_time": "2023-08-14T18:18:35.850Z"
   },
   {
    "duration": 231,
    "start_time": "2023-08-14T18:18:35.898Z"
   },
   {
    "duration": 5,
    "start_time": "2023-08-14T18:18:36.132Z"
   },
   {
    "duration": 116,
    "start_time": "2023-08-14T18:18:36.139Z"
   },
   {
    "duration": 7,
    "start_time": "2023-08-14T18:18:36.257Z"
   },
   {
    "duration": 209,
    "start_time": "2023-08-14T18:18:36.265Z"
   },
   {
    "duration": 145,
    "start_time": "2023-08-14T18:18:36.475Z"
   },
   {
    "duration": 8,
    "start_time": "2023-08-14T18:18:36.621Z"
   },
   {
    "duration": 10,
    "start_time": "2023-08-14T18:18:36.630Z"
   },
   {
    "duration": 15,
    "start_time": "2023-08-14T18:18:36.642Z"
   },
   {
    "duration": 32,
    "start_time": "2023-08-14T18:18:36.658Z"
   },
   {
    "duration": 28,
    "start_time": "2023-08-14T18:18:36.692Z"
   },
   {
    "duration": 108,
    "start_time": "2023-08-14T18:18:36.722Z"
   },
   {
    "duration": 30,
    "start_time": "2023-08-14T18:18:36.832Z"
   },
   {
    "duration": 26,
    "start_time": "2023-08-14T18:18:36.865Z"
   },
   {
    "duration": 73,
    "start_time": "2023-08-14T18:18:36.893Z"
   },
   {
    "duration": 190,
    "start_time": "2023-08-14T18:18:36.968Z"
   },
   {
    "duration": 243,
    "start_time": "2023-08-14T18:18:37.159Z"
   },
   {
    "duration": 19,
    "start_time": "2023-08-14T18:18:37.403Z"
   },
   {
    "duration": 188,
    "start_time": "2023-08-14T18:18:37.424Z"
   },
   {
    "duration": 165,
    "start_time": "2023-08-14T18:18:37.613Z"
   },
   {
    "duration": 4,
    "start_time": "2023-08-14T18:18:37.787Z"
   },
   {
    "duration": 801,
    "start_time": "2023-08-14T18:18:37.793Z"
   },
   {
    "duration": 2,
    "start_time": "2023-08-14T18:18:38.596Z"
   },
   {
    "duration": 29,
    "start_time": "2023-08-14T18:18:38.600Z"
   },
   {
    "duration": 11,
    "start_time": "2023-08-14T18:18:38.631Z"
   },
   {
    "duration": 3,
    "start_time": "2023-08-14T18:18:38.643Z"
   },
   {
    "duration": 137,
    "start_time": "2023-08-14T18:18:38.648Z"
   },
   {
    "duration": 6,
    "start_time": "2023-08-14T18:18:38.787Z"
   },
   {
    "duration": 29,
    "start_time": "2023-08-14T18:18:38.794Z"
   },
   {
    "duration": 7,
    "start_time": "2023-08-14T18:18:38.825Z"
   },
   {
    "duration": 16,
    "start_time": "2023-08-14T18:18:38.833Z"
   },
   {
    "duration": 16,
    "start_time": "2023-08-14T18:18:38.851Z"
   },
   {
    "duration": 20,
    "start_time": "2023-08-14T18:18:38.868Z"
   },
   {
    "duration": 1350,
    "start_time": "2023-08-15T05:55:26.320Z"
   },
   {
    "duration": 95,
    "start_time": "2023-08-15T05:55:27.672Z"
   },
   {
    "duration": 85,
    "start_time": "2023-08-15T05:55:27.768Z"
   },
   {
    "duration": 63,
    "start_time": "2023-08-15T05:55:27.855Z"
   },
   {
    "duration": 8,
    "start_time": "2023-08-15T05:55:27.919Z"
   },
   {
    "duration": 44,
    "start_time": "2023-08-15T05:55:27.928Z"
   },
   {
    "duration": 5,
    "start_time": "2023-08-15T05:55:27.974Z"
   },
   {
    "duration": 16,
    "start_time": "2023-08-15T05:55:27.980Z"
   },
   {
    "duration": 14,
    "start_time": "2023-08-15T05:55:27.997Z"
   },
   {
    "duration": 13,
    "start_time": "2023-08-15T05:55:28.013Z"
   },
   {
    "duration": 7,
    "start_time": "2023-08-15T05:55:28.028Z"
   },
   {
    "duration": 20,
    "start_time": "2023-08-15T05:55:28.036Z"
   },
   {
    "duration": 5,
    "start_time": "2023-08-15T05:55:28.058Z"
   },
   {
    "duration": 20,
    "start_time": "2023-08-15T05:55:28.064Z"
   },
   {
    "duration": 200,
    "start_time": "2023-08-15T05:55:28.085Z"
   },
   {
    "duration": 5,
    "start_time": "2023-08-15T05:55:28.287Z"
   },
   {
    "duration": 110,
    "start_time": "2023-08-15T05:55:28.293Z"
   },
   {
    "duration": 5,
    "start_time": "2023-08-15T05:55:28.404Z"
   },
   {
    "duration": 187,
    "start_time": "2023-08-15T05:55:28.410Z"
   },
   {
    "duration": 130,
    "start_time": "2023-08-15T05:55:28.599Z"
   },
   {
    "duration": 7,
    "start_time": "2023-08-15T05:55:28.730Z"
   },
   {
    "duration": 7,
    "start_time": "2023-08-15T05:55:28.738Z"
   },
   {
    "duration": 8,
    "start_time": "2023-08-15T05:55:28.746Z"
   },
   {
    "duration": 6,
    "start_time": "2023-08-15T05:55:28.756Z"
   },
   {
    "duration": 43,
    "start_time": "2023-08-15T05:55:28.763Z"
   },
   {
    "duration": 103,
    "start_time": "2023-08-15T05:55:28.807Z"
   },
   {
    "duration": 27,
    "start_time": "2023-08-15T05:55:28.911Z"
   },
   {
    "duration": 7,
    "start_time": "2023-08-15T05:55:28.942Z"
   },
   {
    "duration": 24,
    "start_time": "2023-08-15T05:55:28.950Z"
   },
   {
    "duration": 178,
    "start_time": "2023-08-15T05:55:28.976Z"
   },
   {
    "duration": 208,
    "start_time": "2023-08-15T05:55:29.156Z"
   },
   {
    "duration": 18,
    "start_time": "2023-08-15T05:55:29.365Z"
   },
   {
    "duration": 175,
    "start_time": "2023-08-15T05:55:29.384Z"
   },
   {
    "duration": 146,
    "start_time": "2023-08-15T05:55:29.561Z"
   },
   {
    "duration": 3,
    "start_time": "2023-08-15T05:55:29.708Z"
   },
   {
    "duration": 859,
    "start_time": "2023-08-15T05:55:29.712Z"
   },
   {
    "duration": 2,
    "start_time": "2023-08-15T05:55:30.573Z"
   },
   {
    "duration": 60,
    "start_time": "2023-08-15T05:55:30.577Z"
   },
   {
    "duration": 75,
    "start_time": "2023-08-15T05:55:30.639Z"
   },
   {
    "duration": 53,
    "start_time": "2023-08-15T05:55:30.716Z"
   },
   {
    "duration": 191,
    "start_time": "2023-08-15T05:55:30.771Z"
   },
   {
    "duration": 6,
    "start_time": "2023-08-15T05:55:30.963Z"
   },
   {
    "duration": 43,
    "start_time": "2023-08-15T05:55:30.971Z"
   },
   {
    "duration": 37,
    "start_time": "2023-08-15T05:55:31.015Z"
   },
   {
    "duration": 56,
    "start_time": "2023-08-15T05:55:31.055Z"
   },
   {
    "duration": 68,
    "start_time": "2023-08-15T05:55:31.113Z"
   },
   {
    "duration": 42,
    "start_time": "2023-08-15T05:55:31.183Z"
   },
   {
    "duration": 210,
    "start_time": "2023-08-15T05:59:00.010Z"
   },
   {
    "duration": 117,
    "start_time": "2023-08-15T05:59:26.313Z"
   },
   {
    "duration": 132,
    "start_time": "2023-08-15T05:59:50.069Z"
   },
   {
    "duration": 124,
    "start_time": "2023-08-15T06:00:00.150Z"
   },
   {
    "duration": 142,
    "start_time": "2023-08-15T06:00:34.899Z"
   },
   {
    "duration": 281,
    "start_time": "2023-08-15T06:02:50.323Z"
   },
   {
    "duration": 5,
    "start_time": "2023-08-15T06:09:27.430Z"
   },
   {
    "duration": 53,
    "start_time": "2023-08-15T14:36:05.519Z"
   },
   {
    "duration": 1400,
    "start_time": "2023-08-15T14:36:11.926Z"
   },
   {
    "duration": 123,
    "start_time": "2023-08-15T14:36:13.328Z"
   },
   {
    "duration": 81,
    "start_time": "2023-08-15T14:36:13.453Z"
   },
   {
    "duration": 70,
    "start_time": "2023-08-15T14:36:13.536Z"
   },
   {
    "duration": 8,
    "start_time": "2023-08-15T14:36:13.608Z"
   },
   {
    "duration": 12,
    "start_time": "2023-08-15T14:36:13.617Z"
   },
   {
    "duration": 13,
    "start_time": "2023-08-15T14:36:13.631Z"
   },
   {
    "duration": 17,
    "start_time": "2023-08-15T14:36:13.649Z"
   },
   {
    "duration": 13,
    "start_time": "2023-08-15T14:36:13.667Z"
   },
   {
    "duration": 8,
    "start_time": "2023-08-15T14:36:13.683Z"
   },
   {
    "duration": 5,
    "start_time": "2023-08-15T14:36:13.693Z"
   },
   {
    "duration": 8,
    "start_time": "2023-08-15T14:36:13.699Z"
   },
   {
    "duration": 5,
    "start_time": "2023-08-15T14:36:13.709Z"
   },
   {
    "duration": 7,
    "start_time": "2023-08-15T14:36:13.715Z"
   },
   {
    "duration": 213,
    "start_time": "2023-08-15T14:36:13.724Z"
   },
   {
    "duration": 155,
    "start_time": "2023-08-15T14:36:13.939Z"
   },
   {
    "duration": 5,
    "start_time": "2023-08-15T14:36:14.096Z"
   },
   {
    "duration": 118,
    "start_time": "2023-08-15T14:36:14.103Z"
   },
   {
    "duration": 6,
    "start_time": "2023-08-15T14:36:14.223Z"
   },
   {
    "duration": 201,
    "start_time": "2023-08-15T14:36:14.230Z"
   },
   {
    "duration": 170,
    "start_time": "2023-08-15T14:36:14.433Z"
   },
   {
    "duration": 340,
    "start_time": "2023-08-15T14:36:14.605Z"
   },
   {
    "duration": 9,
    "start_time": "2023-08-15T14:36:14.952Z"
   },
   {
    "duration": 8,
    "start_time": "2023-08-15T14:36:14.963Z"
   },
   {
    "duration": 8,
    "start_time": "2023-08-15T14:36:14.972Z"
   },
   {
    "duration": 7,
    "start_time": "2023-08-15T14:36:14.981Z"
   },
   {
    "duration": 14,
    "start_time": "2023-08-15T14:36:14.989Z"
   },
   {
    "duration": 218,
    "start_time": "2023-08-15T14:36:15.007Z"
   },
   {
    "duration": 40,
    "start_time": "2023-08-15T14:36:15.227Z"
   },
   {
    "duration": 7,
    "start_time": "2023-08-15T14:36:15.268Z"
   },
   {
    "duration": 27,
    "start_time": "2023-08-15T14:36:15.276Z"
   },
   {
    "duration": 189,
    "start_time": "2023-08-15T14:36:15.305Z"
   },
   {
    "duration": 179,
    "start_time": "2023-08-15T14:36:15.495Z"
   },
   {
    "duration": 18,
    "start_time": "2023-08-15T14:36:15.676Z"
   },
   {
    "duration": 201,
    "start_time": "2023-08-15T14:36:15.696Z"
   },
   {
    "duration": 168,
    "start_time": "2023-08-15T14:36:15.899Z"
   },
   {
    "duration": 3,
    "start_time": "2023-08-15T14:36:16.069Z"
   },
   {
    "duration": 979,
    "start_time": "2023-08-15T14:36:16.074Z"
   },
   {
    "duration": 3,
    "start_time": "2023-08-15T14:36:17.054Z"
   },
   {
    "duration": 14,
    "start_time": "2023-08-15T14:36:17.059Z"
   },
   {
    "duration": 25,
    "start_time": "2023-08-15T14:36:17.074Z"
   },
   {
    "duration": 2,
    "start_time": "2023-08-15T14:36:17.101Z"
   },
   {
    "duration": 167,
    "start_time": "2023-08-15T14:36:17.105Z"
   },
   {
    "duration": 5,
    "start_time": "2023-08-15T14:36:17.273Z"
   },
   {
    "duration": 16,
    "start_time": "2023-08-15T14:36:17.279Z"
   },
   {
    "duration": 5,
    "start_time": "2023-08-15T14:36:17.297Z"
   },
   {
    "duration": 6,
    "start_time": "2023-08-15T14:36:17.303Z"
   },
   {
    "duration": 34,
    "start_time": "2023-08-15T14:36:17.310Z"
   },
   {
    "duration": 22,
    "start_time": "2023-08-15T14:36:17.345Z"
   },
   {
    "duration": 4,
    "start_time": "2023-08-15T14:58:06.417Z"
   },
   {
    "duration": 30,
    "start_time": "2023-08-15T14:58:07.688Z"
   },
   {
    "duration": 5,
    "start_time": "2023-08-15T15:02:41.361Z"
   },
   {
    "duration": 1202,
    "start_time": "2023-08-16T04:50:17.758Z"
   },
   {
    "duration": 45,
    "start_time": "2023-08-16T04:50:18.962Z"
   },
   {
    "duration": 54,
    "start_time": "2023-08-16T04:50:19.009Z"
   },
   {
    "duration": 29,
    "start_time": "2023-08-16T04:50:19.065Z"
   },
   {
    "duration": 10,
    "start_time": "2023-08-16T04:50:19.097Z"
   },
   {
    "duration": 13,
    "start_time": "2023-08-16T04:50:19.109Z"
   },
   {
    "duration": 6,
    "start_time": "2023-08-16T04:50:19.138Z"
   },
   {
    "duration": 11,
    "start_time": "2023-08-16T04:50:19.146Z"
   },
   {
    "duration": 7,
    "start_time": "2023-08-16T04:50:19.159Z"
   },
   {
    "duration": 9,
    "start_time": "2023-08-16T04:50:19.168Z"
   },
   {
    "duration": 6,
    "start_time": "2023-08-16T04:50:19.179Z"
   },
   {
    "duration": 13,
    "start_time": "2023-08-16T04:50:19.186Z"
   },
   {
    "duration": 8,
    "start_time": "2023-08-16T04:50:19.201Z"
   },
   {
    "duration": 27,
    "start_time": "2023-08-16T04:50:19.212Z"
   },
   {
    "duration": 192,
    "start_time": "2023-08-16T04:50:19.240Z"
   },
   {
    "duration": 152,
    "start_time": "2023-08-16T04:50:19.433Z"
   },
   {
    "duration": 6,
    "start_time": "2023-08-16T04:50:19.587Z"
   },
   {
    "duration": 151,
    "start_time": "2023-08-16T04:50:19.595Z"
   },
   {
    "duration": 6,
    "start_time": "2023-08-16T04:50:19.748Z"
   },
   {
    "duration": 244,
    "start_time": "2023-08-16T04:50:19.755Z"
   },
   {
    "duration": 144,
    "start_time": "2023-08-16T04:50:20.000Z"
   },
   {
    "duration": 291,
    "start_time": "2023-08-16T04:50:20.146Z"
   },
   {
    "duration": 8,
    "start_time": "2023-08-16T04:50:20.439Z"
   },
   {
    "duration": 16,
    "start_time": "2023-08-16T04:50:20.449Z"
   },
   {
    "duration": 16,
    "start_time": "2023-08-16T04:50:20.466Z"
   },
   {
    "duration": 8,
    "start_time": "2023-08-16T04:50:20.484Z"
   },
   {
    "duration": 15,
    "start_time": "2023-08-16T04:50:20.494Z"
   },
   {
    "duration": 193,
    "start_time": "2023-08-16T04:50:20.511Z"
   },
   {
    "duration": 4,
    "start_time": "2023-08-16T04:50:20.706Z"
   },
   {
    "duration": 51,
    "start_time": "2023-08-16T04:50:20.711Z"
   },
   {
    "duration": 8,
    "start_time": "2023-08-16T04:50:20.763Z"
   },
   {
    "duration": 29,
    "start_time": "2023-08-16T04:50:20.773Z"
   },
   {
    "duration": 199,
    "start_time": "2023-08-16T04:50:20.804Z"
   },
   {
    "duration": 166,
    "start_time": "2023-08-16T04:50:21.005Z"
   },
   {
    "duration": 20,
    "start_time": "2023-08-16T04:50:21.172Z"
   },
   {
    "duration": 186,
    "start_time": "2023-08-16T04:50:21.194Z"
   },
   {
    "duration": 161,
    "start_time": "2023-08-16T04:50:21.381Z"
   },
   {
    "duration": 918,
    "start_time": "2023-08-16T04:50:21.544Z"
   },
   {
    "duration": 3,
    "start_time": "2023-08-16T04:50:22.464Z"
   },
   {
    "duration": 17,
    "start_time": "2023-08-16T04:50:22.469Z"
   },
   {
    "duration": 11,
    "start_time": "2023-08-16T04:50:22.489Z"
   },
   {
    "duration": 4,
    "start_time": "2023-08-16T04:50:22.501Z"
   },
   {
    "duration": 152,
    "start_time": "2023-08-16T04:50:22.506Z"
   },
   {
    "duration": 6,
    "start_time": "2023-08-16T04:50:22.659Z"
   },
   {
    "duration": 17,
    "start_time": "2023-08-16T04:50:22.667Z"
   },
   {
    "duration": 6,
    "start_time": "2023-08-16T04:50:22.686Z"
   },
   {
    "duration": 7,
    "start_time": "2023-08-16T04:50:22.693Z"
   },
   {
    "duration": 36,
    "start_time": "2023-08-16T04:50:22.702Z"
   },
   {
    "duration": 9,
    "start_time": "2023-08-16T04:50:22.739Z"
   }
  ],
  "kernelspec": {
   "display_name": "Python 3 (ipykernel)",
   "language": "python",
   "name": "python3"
  },
  "language_info": {
   "codemirror_mode": {
    "name": "ipython",
    "version": 3
   },
   "file_extension": ".py",
   "mimetype": "text/x-python",
   "name": "python",
   "nbconvert_exporter": "python",
   "pygments_lexer": "ipython3",
   "version": "3.9.5"
  },
  "toc": {
   "base_numbering": 1,
   "nav_menu": {},
   "number_sections": true,
   "sideBar": true,
   "skip_h1_title": true,
   "title_cell": "Table of Contents",
   "title_sidebar": "Contents",
   "toc_cell": false,
   "toc_position": {
    "height": "calc(100% - 180px)",
    "left": "10px",
    "top": "150px",
    "width": "165px"
   },
   "toc_section_display": true,
   "toc_window_display": true
  }
 },
 "nbformat": 4,
 "nbformat_minor": 5
}
