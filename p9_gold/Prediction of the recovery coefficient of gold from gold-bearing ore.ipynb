{
 "cells": [
  {
   "cell_type": "markdown",
   "metadata": {
    "toc": true
   },
   "source": [
    "<h1>Содержание<span class=\"tocSkip\"></span></h1>\n",
    "<div class=\"toc\"><ul class=\"toc-item\"><li><span><a href=\"#Подготовка-данных\" data-toc-modified-id=\"Подготовка-данных-1\"><span class=\"toc-item-num\">1&nbsp;&nbsp;</span>Подготовка данных</a></span></li><li><span><a href=\"#Анализ-данных\" data-toc-modified-id=\"Анализ-данных-2\"><span class=\"toc-item-num\">2&nbsp;&nbsp;</span>Анализ данных</a></span></li><li><span><a href=\"#Модель\" data-toc-modified-id=\"Модель-3\"><span class=\"toc-item-num\">3&nbsp;&nbsp;</span>Модель</a></span></li><li><span><a href=\"#Чек-лист-готовности-проекта\" data-toc-modified-id=\"Чек-лист-готовности-проекта-4\"><span class=\"toc-item-num\">4&nbsp;&nbsp;</span>Чек-лист готовности проекта</a></span></li></ul></div>"
   ]
  },
  {
   "cell_type": "markdown",
   "metadata": {},
   "source": [
    "# Восстановление золота из руды"
   ]
  },
  {
   "cell_type": "markdown",
   "metadata": {},
   "source": [
    "Подготовьте прототип модели машинного обучения для «Цифры». Компания разрабатывает решения для эффективной работы промышленных предприятий.\n",
    "\n",
    "Модель должна предсказать коэффициент восстановления золота из золотосодержащей руды. Используйте данные с параметрами добычи и очистки. \n",
    "\n",
    "Модель поможет оптимизировать производство, чтобы не запускать предприятие с убыточными характеристиками.\n",
    "\n",
    "Вам нужно:\n",
    "\n",
    "1. Подготовить данные;\n",
    "2. Провести исследовательский анализ данных;\n",
    "3. Построить и обучить модель.\n",
    "\n",
    "Чтобы выполнить проект, обращайтесь к библиотекам *pandas*, *matplotlib* и *sklearn.* Вам поможет их документация."
   ]
  },
  {
   "cell_type": "markdown",
   "metadata": {},
   "source": [
    "## Подготовка данных"
   ]
  },
  {
   "cell_type": "code",
   "execution_count": 1,
   "metadata": {},
   "outputs": [],
   "source": [
    "import pandas as pd\n",
    "import matplotlib.pyplot as plt\n",
    "import seaborn as sns\n",
    "import plotly.express as px\n",
    "\n",
    "import numpy as np\n",
    "from numpy.random import RandomState\n",
    "\n",
    "from scipy import stats as st\n",
    "\n",
    "from sklearn.metrics import mean_absolute_error\n",
    "from sklearn.metrics import make_scorer\n",
    "\n",
    "from sklearn.ensemble import RandomForestRegressor\n",
    "\n",
    "from sklearn.linear_model import LinearRegression\n",
    "from sklearn.linear_model import SGDRegressor\n",
    "\n",
    "from sklearn.tree import DecisionTreeRegressor\n",
    "from sklearn.svm import LinearSVR\n",
    "\n",
    "from sklearn.model_selection import cross_val_score\n",
    "from sklearn.model_selection import GridSearchCV, KFold\n",
    "\n",
    "from sklearn.dummy import DummyRegressor\n",
    "\n",
    "from sklearn.preprocessing import StandardScaler, OneHotEncoder\n",
    "\n",
    "from sklearn.compose import ColumnTransformer\n",
    "\n",
    "RANDOM_STATE = 12345\n",
    "\n",
    "pd.set_option('display.max_columns', None)"
   ]
  },
  {
   "cell_type": "code",
   "execution_count": 2,
   "metadata": {},
   "outputs": [],
   "source": [
    "data_train = pd.read_csv('/datasets/gold_industry_train.csv')"
   ]
  },
  {
   "cell_type": "code",
   "execution_count": 3,
   "metadata": {},
   "outputs": [],
   "source": [
    "data_test = pd.read_csv('/datasets/gold_industry_test.csv')"
   ]
  },
  {
   "cell_type": "code",
   "execution_count": 4,
   "metadata": {},
   "outputs": [],
   "source": [
    "data_full = pd.read_csv('/datasets/gold_industry_full.csv')"
   ]
  },
  {
   "cell_type": "code",
   "execution_count": 5,
   "metadata": {},
   "outputs": [
    {
     "name": "stdout",
     "output_type": "stream",
     "text": [
      "<class 'pandas.core.frame.DataFrame'>\n",
      "RangeIndex: 14579 entries, 0 to 14578\n",
      "Data columns (total 87 columns):\n",
      " #   Column                                              Non-Null Count  Dtype  \n",
      "---  ------                                              --------------  -----  \n",
      " 0   date                                                14579 non-null  object \n",
      " 1   rougher.input.feed_au                               14579 non-null  float64\n",
      " 2   rougher.input.feed_ag                               14579 non-null  float64\n",
      " 3   rougher.input.feed_pb                               14507 non-null  float64\n",
      " 4   rougher.input.feed_sol                              14502 non-null  float64\n",
      " 5   rougher.input.feed_rate                             14572 non-null  float64\n",
      " 6   rougher.input.feed_size                             14478 non-null  float64\n",
      " 7   rougher.input.floatbank10_sulfate                   14548 non-null  float64\n",
      " 8   rougher.input.floatbank10_xanthate                  14572 non-null  float64\n",
      " 9   rougher.state.floatbank10_a_air                     14579 non-null  float64\n",
      " 10  rougher.state.floatbank10_a_level                   14579 non-null  float64\n",
      " 11  rougher.state.floatbank10_b_air                     14579 non-null  float64\n",
      " 12  rougher.state.floatbank10_b_level                   14579 non-null  float64\n",
      " 13  rougher.state.floatbank10_c_air                     14579 non-null  float64\n",
      " 14  rougher.state.floatbank10_c_level                   14579 non-null  float64\n",
      " 15  rougher.state.floatbank10_d_air                     14579 non-null  float64\n",
      " 16  rougher.state.floatbank10_d_level                   14579 non-null  float64\n",
      " 17  rougher.state.floatbank10_e_air                     14150 non-null  float64\n",
      " 18  rougher.state.floatbank10_e_level                   14579 non-null  float64\n",
      " 19  rougher.state.floatbank10_f_air                     14579 non-null  float64\n",
      " 20  rougher.state.floatbank10_f_level                   14579 non-null  float64\n",
      " 21  rougher.input.floatbank11_sulfate                   14543 non-null  float64\n",
      " 22  rougher.input.floatbank11_xanthate                  14172 non-null  float64\n",
      " 23  rougher.calculation.sulfate_to_au_concentrate       14578 non-null  float64\n",
      " 24  rougher.calculation.floatbank10_sulfate_to_au_feed  14578 non-null  float64\n",
      " 25  rougher.calculation.floatbank11_sulfate_to_au_feed  14578 non-null  float64\n",
      " 26  rougher.calculation.au_pb_ratio                     14579 non-null  float64\n",
      " 27  rougher.output.concentrate_au                       14579 non-null  float64\n",
      " 28  rougher.output.concentrate_ag                       14579 non-null  float64\n",
      " 29  rougher.output.concentrate_pb                       14579 non-null  float64\n",
      " 30  rougher.output.concentrate_sol                      14561 non-null  float64\n",
      " 31  rougher.output.recovery                             14579 non-null  float64\n",
      " 32  rougher.output.tail_au                              14579 non-null  float64\n",
      " 33  rougher.output.tail_ag                              14578 non-null  float64\n",
      " 34  rougher.output.tail_pb                              14579 non-null  float64\n",
      " 35  rougher.output.tail_sol                             14579 non-null  float64\n",
      " 36  primary_cleaner.input.sulfate                       14556 non-null  float64\n",
      " 37  primary_cleaner.input.depressant                    14551 non-null  float64\n",
      " 38  primary_cleaner.input.feed_size                     14579 non-null  float64\n",
      " 39  primary_cleaner.input.xanthate                      14518 non-null  float64\n",
      " 40  primary_cleaner.state.floatbank8_a_air              14576 non-null  float64\n",
      " 41  primary_cleaner.state.floatbank8_a_level            14579 non-null  float64\n",
      " 42  primary_cleaner.state.floatbank8_b_air              14576 non-null  float64\n",
      " 43  primary_cleaner.state.floatbank8_b_level            14579 non-null  float64\n",
      " 44  primary_cleaner.state.floatbank8_c_air              14579 non-null  float64\n",
      " 45  primary_cleaner.state.floatbank8_c_level            14579 non-null  float64\n",
      " 46  primary_cleaner.state.floatbank8_d_air              14578 non-null  float64\n",
      " 47  primary_cleaner.state.floatbank8_d_level            14579 non-null  float64\n",
      " 48  primary_cleaner.output.concentrate_au               14579 non-null  float64\n",
      " 49  primary_cleaner.output.concentrate_ag               14579 non-null  float64\n",
      " 50  primary_cleaner.output.concentrate_pb               14491 non-null  float64\n",
      " 51  primary_cleaner.output.concentrate_sol              14314 non-null  float64\n",
      " 52  primary_cleaner.output.tail_au                      14579 non-null  float64\n",
      " 53  primary_cleaner.output.tail_ag                      14575 non-null  float64\n",
      " 54  primary_cleaner.output.tail_pb                      14573 non-null  float64\n",
      " 55  primary_cleaner.output.tail_sol                     14534 non-null  float64\n",
      " 56  secondary_cleaner.state.floatbank2_a_air            14485 non-null  float64\n",
      " 57  secondary_cleaner.state.floatbank2_a_level          14579 non-null  float64\n",
      " 58  secondary_cleaner.state.floatbank2_b_air            14557 non-null  float64\n",
      " 59  secondary_cleaner.state.floatbank2_b_level          14579 non-null  float64\n",
      " 60  secondary_cleaner.state.floatbank3_a_air            14567 non-null  float64\n",
      " 61  secondary_cleaner.state.floatbank3_a_level          14579 non-null  float64\n",
      " 62  secondary_cleaner.state.floatbank3_b_air            14579 non-null  float64\n",
      " 63  secondary_cleaner.state.floatbank3_b_level          14579 non-null  float64\n",
      " 64  secondary_cleaner.state.floatbank4_a_air            14574 non-null  float64\n",
      " 65  secondary_cleaner.state.floatbank4_a_level          14579 non-null  float64\n",
      " 66  secondary_cleaner.state.floatbank4_b_air            14579 non-null  float64\n",
      " 67  secondary_cleaner.state.floatbank4_b_level          14579 non-null  float64\n",
      " 68  secondary_cleaner.state.floatbank5_a_air            14579 non-null  float64\n",
      " 69  secondary_cleaner.state.floatbank5_a_level          14579 non-null  float64\n",
      " 70  secondary_cleaner.state.floatbank5_b_air            14579 non-null  float64\n",
      " 71  secondary_cleaner.state.floatbank5_b_level          14579 non-null  float64\n",
      " 72  secondary_cleaner.state.floatbank6_a_air            14578 non-null  float64\n",
      " 73  secondary_cleaner.state.floatbank6_a_level          14579 non-null  float64\n",
      " 74  secondary_cleaner.output.tail_au                    14579 non-null  float64\n",
      " 75  secondary_cleaner.output.tail_ag                    14578 non-null  float64\n",
      " 76  secondary_cleaner.output.tail_pb                    14575 non-null  float64\n",
      " 77  secondary_cleaner.output.tail_sol                   13659 non-null  float64\n",
      " 78  final.output.concentrate_au                         14579 non-null  float64\n",
      " 79  final.output.concentrate_ag                         14578 non-null  float64\n",
      " 80  final.output.concentrate_pb                         14578 non-null  float64\n",
      " 81  final.output.concentrate_sol                        14387 non-null  float64\n",
      " 82  final.output.recovery                               14579 non-null  float64\n",
      " 83  final.output.tail_au                                14579 non-null  float64\n",
      " 84  final.output.tail_ag                                14578 non-null  float64\n",
      " 85  final.output.tail_pb                                14504 non-null  float64\n",
      " 86  final.output.tail_sol                               14574 non-null  float64\n",
      "dtypes: float64(86), object(1)\n",
      "memory usage: 9.7+ MB\n"
     ]
    }
   ],
   "source": [
    "data_train.info()"
   ]
  },
  {
   "cell_type": "code",
   "execution_count": 6,
   "metadata": {},
   "outputs": [
    {
     "name": "stdout",
     "output_type": "stream",
     "text": [
      "<class 'pandas.core.frame.DataFrame'>\n",
      "RangeIndex: 4860 entries, 0 to 4859\n",
      "Data columns (total 53 columns):\n",
      " #   Column                                      Non-Null Count  Dtype  \n",
      "---  ------                                      --------------  -----  \n",
      " 0   date                                        4860 non-null   object \n",
      " 1   rougher.input.feed_au                       4860 non-null   float64\n",
      " 2   rougher.input.feed_ag                       4860 non-null   float64\n",
      " 3   rougher.input.feed_pb                       4832 non-null   float64\n",
      " 4   rougher.input.feed_sol                      4838 non-null   float64\n",
      " 5   rougher.input.feed_rate                     4856 non-null   float64\n",
      " 6   rougher.input.feed_size                     4816 non-null   float64\n",
      " 7   rougher.input.floatbank10_sulfate           4857 non-null   float64\n",
      " 8   rougher.input.floatbank10_xanthate          4859 non-null   float64\n",
      " 9   rougher.state.floatbank10_a_air             4859 non-null   float64\n",
      " 10  rougher.state.floatbank10_a_level           4859 non-null   float64\n",
      " 11  rougher.state.floatbank10_b_air             4859 non-null   float64\n",
      " 12  rougher.state.floatbank10_b_level           4859 non-null   float64\n",
      " 13  rougher.state.floatbank10_c_air             4859 non-null   float64\n",
      " 14  rougher.state.floatbank10_c_level           4859 non-null   float64\n",
      " 15  rougher.state.floatbank10_d_air             4860 non-null   float64\n",
      " 16  rougher.state.floatbank10_d_level           4860 non-null   float64\n",
      " 17  rougher.state.floatbank10_e_air             4853 non-null   float64\n",
      " 18  rougher.state.floatbank10_e_level           4860 non-null   float64\n",
      " 19  rougher.state.floatbank10_f_air             4860 non-null   float64\n",
      " 20  rougher.state.floatbank10_f_level           4860 non-null   float64\n",
      " 21  rougher.input.floatbank11_sulfate           4852 non-null   float64\n",
      " 22  rougher.input.floatbank11_xanthate          4814 non-null   float64\n",
      " 23  primary_cleaner.input.sulfate               4859 non-null   float64\n",
      " 24  primary_cleaner.input.depressant            4851 non-null   float64\n",
      " 25  primary_cleaner.input.feed_size             4860 non-null   float64\n",
      " 26  primary_cleaner.input.xanthate              4817 non-null   float64\n",
      " 27  primary_cleaner.state.floatbank8_a_air      4859 non-null   float64\n",
      " 28  primary_cleaner.state.floatbank8_a_level    4859 non-null   float64\n",
      " 29  primary_cleaner.state.floatbank8_b_air      4859 non-null   float64\n",
      " 30  primary_cleaner.state.floatbank8_b_level    4859 non-null   float64\n",
      " 31  primary_cleaner.state.floatbank8_c_air      4858 non-null   float64\n",
      " 32  primary_cleaner.state.floatbank8_c_level    4859 non-null   float64\n",
      " 33  primary_cleaner.state.floatbank8_d_air      4858 non-null   float64\n",
      " 34  primary_cleaner.state.floatbank8_d_level    4859 non-null   float64\n",
      " 35  secondary_cleaner.state.floatbank2_a_air    4734 non-null   float64\n",
      " 36  secondary_cleaner.state.floatbank2_a_level  4859 non-null   float64\n",
      " 37  secondary_cleaner.state.floatbank2_b_air    4859 non-null   float64\n",
      " 38  secondary_cleaner.state.floatbank2_b_level  4859 non-null   float64\n",
      " 39  secondary_cleaner.state.floatbank3_a_air    4859 non-null   float64\n",
      " 40  secondary_cleaner.state.floatbank3_a_level  4859 non-null   float64\n",
      " 41  secondary_cleaner.state.floatbank3_b_air    4859 non-null   float64\n",
      " 42  secondary_cleaner.state.floatbank3_b_level  4859 non-null   float64\n",
      " 43  secondary_cleaner.state.floatbank4_a_air    4859 non-null   float64\n",
      " 44  secondary_cleaner.state.floatbank4_a_level  4859 non-null   float64\n",
      " 45  secondary_cleaner.state.floatbank4_b_air    4859 non-null   float64\n",
      " 46  secondary_cleaner.state.floatbank4_b_level  4859 non-null   float64\n",
      " 47  secondary_cleaner.state.floatbank5_a_air    4859 non-null   float64\n",
      " 48  secondary_cleaner.state.floatbank5_a_level  4859 non-null   float64\n",
      " 49  secondary_cleaner.state.floatbank5_b_air    4859 non-null   float64\n",
      " 50  secondary_cleaner.state.floatbank5_b_level  4859 non-null   float64\n",
      " 51  secondary_cleaner.state.floatbank6_a_air    4859 non-null   float64\n",
      " 52  secondary_cleaner.state.floatbank6_a_level  4859 non-null   float64\n",
      "dtypes: float64(52), object(1)\n",
      "memory usage: 2.0+ MB\n"
     ]
    }
   ],
   "source": [
    "data_test.info()"
   ]
  },
  {
   "cell_type": "code",
   "execution_count": 7,
   "metadata": {},
   "outputs": [
    {
     "name": "stdout",
     "output_type": "stream",
     "text": [
      "<class 'pandas.core.frame.DataFrame'>\n",
      "RangeIndex: 19439 entries, 0 to 19438\n",
      "Data columns (total 87 columns):\n",
      " #   Column                                              Non-Null Count  Dtype  \n",
      "---  ------                                              --------------  -----  \n",
      " 0   date                                                19439 non-null  object \n",
      " 1   rougher.input.feed_au                               19439 non-null  float64\n",
      " 2   rougher.input.feed_ag                               19439 non-null  float64\n",
      " 3   rougher.input.feed_pb                               19339 non-null  float64\n",
      " 4   rougher.input.feed_sol                              19340 non-null  float64\n",
      " 5   rougher.input.feed_rate                             19428 non-null  float64\n",
      " 6   rougher.input.feed_size                             19294 non-null  float64\n",
      " 7   rougher.input.floatbank10_sulfate                   19405 non-null  float64\n",
      " 8   rougher.input.floatbank10_xanthate                  19431 non-null  float64\n",
      " 9   rougher.state.floatbank10_a_air                     19438 non-null  float64\n",
      " 10  rougher.state.floatbank10_a_level                   19438 non-null  float64\n",
      " 11  rougher.state.floatbank10_b_air                     19438 non-null  float64\n",
      " 12  rougher.state.floatbank10_b_level                   19438 non-null  float64\n",
      " 13  rougher.state.floatbank10_c_air                     19438 non-null  float64\n",
      " 14  rougher.state.floatbank10_c_level                   19438 non-null  float64\n",
      " 15  rougher.state.floatbank10_d_air                     19439 non-null  float64\n",
      " 16  rougher.state.floatbank10_d_level                   19439 non-null  float64\n",
      " 17  rougher.state.floatbank10_e_air                     19003 non-null  float64\n",
      " 18  rougher.state.floatbank10_e_level                   19439 non-null  float64\n",
      " 19  rougher.state.floatbank10_f_air                     19439 non-null  float64\n",
      " 20  rougher.state.floatbank10_f_level                   19439 non-null  float64\n",
      " 21  rougher.input.floatbank11_sulfate                   19395 non-null  float64\n",
      " 22  rougher.input.floatbank11_xanthate                  18986 non-null  float64\n",
      " 23  rougher.calculation.sulfate_to_au_concentrate       19437 non-null  float64\n",
      " 24  rougher.calculation.floatbank10_sulfate_to_au_feed  19437 non-null  float64\n",
      " 25  rougher.calculation.floatbank11_sulfate_to_au_feed  19437 non-null  float64\n",
      " 26  rougher.calculation.au_pb_ratio                     19439 non-null  float64\n",
      " 27  rougher.output.concentrate_au                       19439 non-null  float64\n",
      " 28  rougher.output.concentrate_ag                       19439 non-null  float64\n",
      " 29  rougher.output.concentrate_pb                       19439 non-null  float64\n",
      " 30  rougher.output.concentrate_sol                      19416 non-null  float64\n",
      " 31  rougher.output.recovery                             19439 non-null  float64\n",
      " 32  rougher.output.tail_au                              19439 non-null  float64\n",
      " 33  rougher.output.tail_ag                              19438 non-null  float64\n",
      " 34  rougher.output.tail_pb                              19439 non-null  float64\n",
      " 35  rougher.output.tail_sol                             19439 non-null  float64\n",
      " 36  primary_cleaner.input.sulfate                       19415 non-null  float64\n",
      " 37  primary_cleaner.input.depressant                    19402 non-null  float64\n",
      " 38  primary_cleaner.input.feed_size                     19439 non-null  float64\n",
      " 39  primary_cleaner.input.xanthate                      19335 non-null  float64\n",
      " 40  primary_cleaner.state.floatbank8_a_air              19435 non-null  float64\n",
      " 41  primary_cleaner.state.floatbank8_a_level            19438 non-null  float64\n",
      " 42  primary_cleaner.state.floatbank8_b_air              19435 non-null  float64\n",
      " 43  primary_cleaner.state.floatbank8_b_level            19438 non-null  float64\n",
      " 44  primary_cleaner.state.floatbank8_c_air              19437 non-null  float64\n",
      " 45  primary_cleaner.state.floatbank8_c_level            19438 non-null  float64\n",
      " 46  primary_cleaner.state.floatbank8_d_air              19436 non-null  float64\n",
      " 47  primary_cleaner.state.floatbank8_d_level            19438 non-null  float64\n",
      " 48  primary_cleaner.output.concentrate_au               19439 non-null  float64\n",
      " 49  primary_cleaner.output.concentrate_ag               19439 non-null  float64\n",
      " 50  primary_cleaner.output.concentrate_pb               19323 non-null  float64\n",
      " 51  primary_cleaner.output.concentrate_sol              19069 non-null  float64\n",
      " 52  primary_cleaner.output.tail_au                      19439 non-null  float64\n",
      " 53  primary_cleaner.output.tail_ag                      19435 non-null  float64\n",
      " 54  primary_cleaner.output.tail_pb                      19418 non-null  float64\n",
      " 55  primary_cleaner.output.tail_sol                     19377 non-null  float64\n",
      " 56  secondary_cleaner.state.floatbank2_a_air            19219 non-null  float64\n",
      " 57  secondary_cleaner.state.floatbank2_a_level          19438 non-null  float64\n",
      " 58  secondary_cleaner.state.floatbank2_b_air            19416 non-null  float64\n",
      " 59  secondary_cleaner.state.floatbank2_b_level          19438 non-null  float64\n",
      " 60  secondary_cleaner.state.floatbank3_a_air            19426 non-null  float64\n",
      " 61  secondary_cleaner.state.floatbank3_a_level          19438 non-null  float64\n",
      " 62  secondary_cleaner.state.floatbank3_b_air            19438 non-null  float64\n",
      " 63  secondary_cleaner.state.floatbank3_b_level          19438 non-null  float64\n",
      " 64  secondary_cleaner.state.floatbank4_a_air            19433 non-null  float64\n",
      " 65  secondary_cleaner.state.floatbank4_a_level          19438 non-null  float64\n",
      " 66  secondary_cleaner.state.floatbank4_b_air            19438 non-null  float64\n",
      " 67  secondary_cleaner.state.floatbank4_b_level          19438 non-null  float64\n",
      " 68  secondary_cleaner.state.floatbank5_a_air            19438 non-null  float64\n",
      " 69  secondary_cleaner.state.floatbank5_a_level          19438 non-null  float64\n",
      " 70  secondary_cleaner.state.floatbank5_b_air            19438 non-null  float64\n",
      " 71  secondary_cleaner.state.floatbank5_b_level          19438 non-null  float64\n",
      " 72  secondary_cleaner.state.floatbank6_a_air            19437 non-null  float64\n",
      " 73  secondary_cleaner.state.floatbank6_a_level          19438 non-null  float64\n",
      " 74  secondary_cleaner.output.tail_au                    19439 non-null  float64\n",
      " 75  secondary_cleaner.output.tail_ag                    19437 non-null  float64\n",
      " 76  secondary_cleaner.output.tail_pb                    19427 non-null  float64\n",
      " 77  secondary_cleaner.output.tail_sol                   17691 non-null  float64\n",
      " 78  final.output.concentrate_au                         19439 non-null  float64\n",
      " 79  final.output.concentrate_ag                         19438 non-null  float64\n",
      " 80  final.output.concentrate_pb                         19438 non-null  float64\n",
      " 81  final.output.concentrate_sol                        19228 non-null  float64\n",
      " 82  final.output.recovery                               19439 non-null  float64\n",
      " 83  final.output.tail_au                                19439 non-null  float64\n",
      " 84  final.output.tail_ag                                19438 non-null  float64\n",
      " 85  final.output.tail_pb                                19338 non-null  float64\n",
      " 86  final.output.tail_sol                               19433 non-null  float64\n",
      "dtypes: float64(86), object(1)\n",
      "memory usage: 12.9+ MB\n"
     ]
    }
   ],
   "source": [
    "data_full.info()"
   ]
  },
  {
   "cell_type": "code",
   "execution_count": 8,
   "metadata": {},
   "outputs": [
    {
     "data": {
      "text/html": [
       "<div>\n",
       "<style scoped>\n",
       "    .dataframe tbody tr th:only-of-type {\n",
       "        vertical-align: middle;\n",
       "    }\n",
       "\n",
       "    .dataframe tbody tr th {\n",
       "        vertical-align: top;\n",
       "    }\n",
       "\n",
       "    .dataframe thead th {\n",
       "        text-align: right;\n",
       "    }\n",
       "</style>\n",
       "<table border=\"1\" class=\"dataframe\">\n",
       "  <thead>\n",
       "    <tr style=\"text-align: right;\">\n",
       "      <th></th>\n",
       "      <th>date</th>\n",
       "      <th>rougher.input.feed_au</th>\n",
       "      <th>rougher.input.feed_ag</th>\n",
       "      <th>rougher.input.feed_pb</th>\n",
       "      <th>rougher.input.feed_sol</th>\n",
       "      <th>rougher.input.feed_rate</th>\n",
       "      <th>rougher.input.feed_size</th>\n",
       "      <th>rougher.input.floatbank10_sulfate</th>\n",
       "      <th>rougher.input.floatbank10_xanthate</th>\n",
       "      <th>rougher.state.floatbank10_a_air</th>\n",
       "      <th>rougher.state.floatbank10_a_level</th>\n",
       "      <th>rougher.state.floatbank10_b_air</th>\n",
       "      <th>rougher.state.floatbank10_b_level</th>\n",
       "      <th>rougher.state.floatbank10_c_air</th>\n",
       "      <th>rougher.state.floatbank10_c_level</th>\n",
       "      <th>rougher.state.floatbank10_d_air</th>\n",
       "      <th>rougher.state.floatbank10_d_level</th>\n",
       "      <th>rougher.state.floatbank10_e_air</th>\n",
       "      <th>rougher.state.floatbank10_e_level</th>\n",
       "      <th>rougher.state.floatbank10_f_air</th>\n",
       "      <th>rougher.state.floatbank10_f_level</th>\n",
       "      <th>rougher.input.floatbank11_sulfate</th>\n",
       "      <th>rougher.input.floatbank11_xanthate</th>\n",
       "      <th>rougher.calculation.sulfate_to_au_concentrate</th>\n",
       "      <th>rougher.calculation.floatbank10_sulfate_to_au_feed</th>\n",
       "      <th>rougher.calculation.floatbank11_sulfate_to_au_feed</th>\n",
       "      <th>rougher.calculation.au_pb_ratio</th>\n",
       "      <th>rougher.output.concentrate_au</th>\n",
       "      <th>rougher.output.concentrate_ag</th>\n",
       "      <th>rougher.output.concentrate_pb</th>\n",
       "      <th>rougher.output.concentrate_sol</th>\n",
       "      <th>rougher.output.recovery</th>\n",
       "      <th>rougher.output.tail_au</th>\n",
       "      <th>rougher.output.tail_ag</th>\n",
       "      <th>rougher.output.tail_pb</th>\n",
       "      <th>rougher.output.tail_sol</th>\n",
       "      <th>primary_cleaner.input.sulfate</th>\n",
       "      <th>primary_cleaner.input.depressant</th>\n",
       "      <th>primary_cleaner.input.feed_size</th>\n",
       "      <th>primary_cleaner.input.xanthate</th>\n",
       "      <th>primary_cleaner.state.floatbank8_a_air</th>\n",
       "      <th>primary_cleaner.state.floatbank8_a_level</th>\n",
       "      <th>primary_cleaner.state.floatbank8_b_air</th>\n",
       "      <th>primary_cleaner.state.floatbank8_b_level</th>\n",
       "      <th>primary_cleaner.state.floatbank8_c_air</th>\n",
       "      <th>primary_cleaner.state.floatbank8_c_level</th>\n",
       "      <th>primary_cleaner.state.floatbank8_d_air</th>\n",
       "      <th>primary_cleaner.state.floatbank8_d_level</th>\n",
       "      <th>primary_cleaner.output.concentrate_au</th>\n",
       "      <th>primary_cleaner.output.concentrate_ag</th>\n",
       "      <th>primary_cleaner.output.concentrate_pb</th>\n",
       "      <th>primary_cleaner.output.concentrate_sol</th>\n",
       "      <th>primary_cleaner.output.tail_au</th>\n",
       "      <th>primary_cleaner.output.tail_ag</th>\n",
       "      <th>primary_cleaner.output.tail_pb</th>\n",
       "      <th>primary_cleaner.output.tail_sol</th>\n",
       "      <th>secondary_cleaner.state.floatbank2_a_air</th>\n",
       "      <th>secondary_cleaner.state.floatbank2_a_level</th>\n",
       "      <th>secondary_cleaner.state.floatbank2_b_air</th>\n",
       "      <th>secondary_cleaner.state.floatbank2_b_level</th>\n",
       "      <th>secondary_cleaner.state.floatbank3_a_air</th>\n",
       "      <th>secondary_cleaner.state.floatbank3_a_level</th>\n",
       "      <th>secondary_cleaner.state.floatbank3_b_air</th>\n",
       "      <th>secondary_cleaner.state.floatbank3_b_level</th>\n",
       "      <th>secondary_cleaner.state.floatbank4_a_air</th>\n",
       "      <th>secondary_cleaner.state.floatbank4_a_level</th>\n",
       "      <th>secondary_cleaner.state.floatbank4_b_air</th>\n",
       "      <th>secondary_cleaner.state.floatbank4_b_level</th>\n",
       "      <th>secondary_cleaner.state.floatbank5_a_air</th>\n",
       "      <th>secondary_cleaner.state.floatbank5_a_level</th>\n",
       "      <th>secondary_cleaner.state.floatbank5_b_air</th>\n",
       "      <th>secondary_cleaner.state.floatbank5_b_level</th>\n",
       "      <th>secondary_cleaner.state.floatbank6_a_air</th>\n",
       "      <th>secondary_cleaner.state.floatbank6_a_level</th>\n",
       "      <th>secondary_cleaner.output.tail_au</th>\n",
       "      <th>secondary_cleaner.output.tail_ag</th>\n",
       "      <th>secondary_cleaner.output.tail_pb</th>\n",
       "      <th>secondary_cleaner.output.tail_sol</th>\n",
       "      <th>final.output.concentrate_au</th>\n",
       "      <th>final.output.concentrate_ag</th>\n",
       "      <th>final.output.concentrate_pb</th>\n",
       "      <th>final.output.concentrate_sol</th>\n",
       "      <th>final.output.recovery</th>\n",
       "      <th>final.output.tail_au</th>\n",
       "      <th>final.output.tail_ag</th>\n",
       "      <th>final.output.tail_pb</th>\n",
       "      <th>final.output.tail_sol</th>\n",
       "    </tr>\n",
       "  </thead>\n",
       "  <tbody>\n",
       "    <tr>\n",
       "      <th>0</th>\n",
       "      <td>2016-01-15 00:00:00</td>\n",
       "      <td>6.486150</td>\n",
       "      <td>6.100378</td>\n",
       "      <td>2.284912</td>\n",
       "      <td>36.808594</td>\n",
       "      <td>523.546326</td>\n",
       "      <td>55.486599</td>\n",
       "      <td>11.986616</td>\n",
       "      <td>6.007990</td>\n",
       "      <td>999.706909</td>\n",
       "      <td>-404.066986</td>\n",
       "      <td>1603.011353</td>\n",
       "      <td>-434.715027</td>\n",
       "      <td>1602.375000</td>\n",
       "      <td>-442.204468</td>\n",
       "      <td>1598.937256</td>\n",
       "      <td>-451.294128</td>\n",
       "      <td>1404.472046</td>\n",
       "      <td>-455.462982</td>\n",
       "      <td>1416.354980</td>\n",
       "      <td>-451.939636</td>\n",
       "      <td>11.836743</td>\n",
       "      <td>6.005818</td>\n",
       "      <td>41885.707031</td>\n",
       "      <td>3481.779053</td>\n",
       "      <td>3520.337158</td>\n",
       "      <td>2.838687</td>\n",
       "      <td>19.793808</td>\n",
       "      <td>11.500771</td>\n",
       "      <td>7.101074</td>\n",
       "      <td>28.029297</td>\n",
       "      <td>87.107763</td>\n",
       "      <td>1.170244</td>\n",
       "      <td>5.008018</td>\n",
       "      <td>0.508728</td>\n",
       "      <td>19.154297</td>\n",
       "      <td>127.092003</td>\n",
       "      <td>10.128295</td>\n",
       "      <td>7.25</td>\n",
       "      <td>0.988759</td>\n",
       "      <td>1549.775757</td>\n",
       "      <td>-498.912140</td>\n",
       "      <td>1551.434204</td>\n",
       "      <td>-516.403442</td>\n",
       "      <td>1549.873901</td>\n",
       "      <td>-498.666595</td>\n",
       "      <td>1554.367432</td>\n",
       "      <td>-493.428131</td>\n",
       "      <td>34.174427</td>\n",
       "      <td>8.547551</td>\n",
       "      <td>10.389648</td>\n",
       "      <td>19.529297</td>\n",
       "      <td>2.106679</td>\n",
       "      <td>14.936526</td>\n",
       "      <td>2.534912</td>\n",
       "      <td>7.476074</td>\n",
       "      <td>25.853109</td>\n",
       "      <td>-498.526489</td>\n",
       "      <td>23.893660</td>\n",
       "      <td>-501.406281</td>\n",
       "      <td>23.961798</td>\n",
       "      <td>-495.262817</td>\n",
       "      <td>21.940409</td>\n",
       "      <td>-499.340973</td>\n",
       "      <td>14.016835</td>\n",
       "      <td>-502.488007</td>\n",
       "      <td>12.099931</td>\n",
       "      <td>-504.715942</td>\n",
       "      <td>9.925633</td>\n",
       "      <td>-498.310211</td>\n",
       "      <td>8.079666</td>\n",
       "      <td>-500.470978</td>\n",
       "      <td>14.151341</td>\n",
       "      <td>-605.841980</td>\n",
       "      <td>2.606185</td>\n",
       "      <td>14.500184</td>\n",
       "      <td>4.694824</td>\n",
       "      <td>8.764648</td>\n",
       "      <td>42.192020</td>\n",
       "      <td>6.055403</td>\n",
       "      <td>9.889648</td>\n",
       "      <td>5.507324</td>\n",
       "      <td>70.541216</td>\n",
       "      <td>2.143149</td>\n",
       "      <td>10.411962</td>\n",
       "      <td>0.895447</td>\n",
       "      <td>16.904297</td>\n",
       "    </tr>\n",
       "    <tr>\n",
       "      <th>1</th>\n",
       "      <td>2016-01-15 01:00:00</td>\n",
       "      <td>6.478583</td>\n",
       "      <td>6.161113</td>\n",
       "      <td>2.266033</td>\n",
       "      <td>35.753385</td>\n",
       "      <td>525.290581</td>\n",
       "      <td>57.278666</td>\n",
       "      <td>11.971193</td>\n",
       "      <td>6.005766</td>\n",
       "      <td>1000.286398</td>\n",
       "      <td>-400.065196</td>\n",
       "      <td>1600.754587</td>\n",
       "      <td>-449.953435</td>\n",
       "      <td>1600.479580</td>\n",
       "      <td>-449.830646</td>\n",
       "      <td>1600.527589</td>\n",
       "      <td>-449.953649</td>\n",
       "      <td>1399.227084</td>\n",
       "      <td>-450.869848</td>\n",
       "      <td>1399.719514</td>\n",
       "      <td>-450.119001</td>\n",
       "      <td>11.996163</td>\n",
       "      <td>6.012594</td>\n",
       "      <td>42050.861809</td>\n",
       "      <td>3498.370979</td>\n",
       "      <td>3489.981857</td>\n",
       "      <td>2.858998</td>\n",
       "      <td>20.050975</td>\n",
       "      <td>11.615865</td>\n",
       "      <td>7.278807</td>\n",
       "      <td>28.067063</td>\n",
       "      <td>86.843261</td>\n",
       "      <td>1.184827</td>\n",
       "      <td>4.955378</td>\n",
       "      <td>0.536689</td>\n",
       "      <td>18.965234</td>\n",
       "      <td>125.629232</td>\n",
       "      <td>10.296251</td>\n",
       "      <td>7.25</td>\n",
       "      <td>1.002663</td>\n",
       "      <td>1576.166671</td>\n",
       "      <td>-500.904965</td>\n",
       "      <td>1575.950626</td>\n",
       "      <td>-499.865889</td>\n",
       "      <td>1575.994189</td>\n",
       "      <td>-499.315107</td>\n",
       "      <td>1574.479259</td>\n",
       "      <td>-498.931665</td>\n",
       "      <td>34.118526</td>\n",
       "      <td>8.558743</td>\n",
       "      <td>10.497069</td>\n",
       "      <td>19.369147</td>\n",
       "      <td>2.353017</td>\n",
       "      <td>16.250511</td>\n",
       "      <td>3.049646</td>\n",
       "      <td>6.733907</td>\n",
       "      <td>25.880539</td>\n",
       "      <td>-499.989656</td>\n",
       "      <td>23.889530</td>\n",
       "      <td>-500.372428</td>\n",
       "      <td>23.970550</td>\n",
       "      <td>-500.085473</td>\n",
       "      <td>22.085714</td>\n",
       "      <td>-499.446897</td>\n",
       "      <td>13.992281</td>\n",
       "      <td>-505.503262</td>\n",
       "      <td>11.950531</td>\n",
       "      <td>-501.331529</td>\n",
       "      <td>10.039245</td>\n",
       "      <td>-500.169983</td>\n",
       "      <td>7.984757</td>\n",
       "      <td>-500.582168</td>\n",
       "      <td>13.998353</td>\n",
       "      <td>-599.787184</td>\n",
       "      <td>2.488248</td>\n",
       "      <td>14.265474</td>\n",
       "      <td>4.592547</td>\n",
       "      <td>9.001494</td>\n",
       "      <td>42.701629</td>\n",
       "      <td>6.029369</td>\n",
       "      <td>9.968944</td>\n",
       "      <td>5.257781</td>\n",
       "      <td>69.266198</td>\n",
       "      <td>2.224930</td>\n",
       "      <td>10.462676</td>\n",
       "      <td>0.927452</td>\n",
       "      <td>16.634514</td>\n",
       "    </tr>\n",
       "    <tr>\n",
       "      <th>2</th>\n",
       "      <td>2016-01-15 02:00:00</td>\n",
       "      <td>6.362222</td>\n",
       "      <td>6.116455</td>\n",
       "      <td>2.159622</td>\n",
       "      <td>35.971630</td>\n",
       "      <td>530.026610</td>\n",
       "      <td>57.510649</td>\n",
       "      <td>11.920603</td>\n",
       "      <td>6.197377</td>\n",
       "      <td>999.719565</td>\n",
       "      <td>-400.074028</td>\n",
       "      <td>1599.337330</td>\n",
       "      <td>-450.008530</td>\n",
       "      <td>1599.672797</td>\n",
       "      <td>-449.954491</td>\n",
       "      <td>1599.849325</td>\n",
       "      <td>-449.954185</td>\n",
       "      <td>1399.180945</td>\n",
       "      <td>-449.937588</td>\n",
       "      <td>1400.316682</td>\n",
       "      <td>-450.527147</td>\n",
       "      <td>11.920305</td>\n",
       "      <td>6.204633</td>\n",
       "      <td>42018.101184</td>\n",
       "      <td>3495.348910</td>\n",
       "      <td>3502.359819</td>\n",
       "      <td>2.945989</td>\n",
       "      <td>19.737170</td>\n",
       "      <td>11.695753</td>\n",
       "      <td>7.216833</td>\n",
       "      <td>27.454037</td>\n",
       "      <td>86.842308</td>\n",
       "      <td>1.162562</td>\n",
       "      <td>4.843460</td>\n",
       "      <td>0.546416</td>\n",
       "      <td>18.808533</td>\n",
       "      <td>123.819808</td>\n",
       "      <td>11.316280</td>\n",
       "      <td>7.25</td>\n",
       "      <td>0.991265</td>\n",
       "      <td>1601.556163</td>\n",
       "      <td>-499.997791</td>\n",
       "      <td>1600.386685</td>\n",
       "      <td>-500.607762</td>\n",
       "      <td>1602.003542</td>\n",
       "      <td>-500.870069</td>\n",
       "      <td>1599.541515</td>\n",
       "      <td>-499.827444</td>\n",
       "      <td>33.969464</td>\n",
       "      <td>8.603505</td>\n",
       "      <td>10.354494</td>\n",
       "      <td>19.167579</td>\n",
       "      <td>2.416800</td>\n",
       "      <td>16.491823</td>\n",
       "      <td>3.124664</td>\n",
       "      <td>6.471768</td>\n",
       "      <td>26.005245</td>\n",
       "      <td>-499.929616</td>\n",
       "      <td>23.886657</td>\n",
       "      <td>-499.951928</td>\n",
       "      <td>23.913535</td>\n",
       "      <td>-499.442343</td>\n",
       "      <td>23.957717</td>\n",
       "      <td>-499.901982</td>\n",
       "      <td>14.015015</td>\n",
       "      <td>-502.520901</td>\n",
       "      <td>11.912783</td>\n",
       "      <td>-501.133383</td>\n",
       "      <td>10.070913</td>\n",
       "      <td>-500.129135</td>\n",
       "      <td>8.013877</td>\n",
       "      <td>-500.517572</td>\n",
       "      <td>14.028663</td>\n",
       "      <td>-601.427363</td>\n",
       "      <td>2.458187</td>\n",
       "      <td>14.115662</td>\n",
       "      <td>4.624775</td>\n",
       "      <td>8.842896</td>\n",
       "      <td>42.657501</td>\n",
       "      <td>6.055926</td>\n",
       "      <td>10.213995</td>\n",
       "      <td>5.383759</td>\n",
       "      <td>68.116445</td>\n",
       "      <td>2.257889</td>\n",
       "      <td>10.507046</td>\n",
       "      <td>0.953716</td>\n",
       "      <td>16.208849</td>\n",
       "    </tr>\n",
       "    <tr>\n",
       "      <th>3</th>\n",
       "      <td>2016-01-15 03:00:00</td>\n",
       "      <td>6.118189</td>\n",
       "      <td>6.043309</td>\n",
       "      <td>2.037807</td>\n",
       "      <td>36.862241</td>\n",
       "      <td>542.590390</td>\n",
       "      <td>57.792734</td>\n",
       "      <td>11.630094</td>\n",
       "      <td>6.203177</td>\n",
       "      <td>999.814770</td>\n",
       "      <td>-400.200179</td>\n",
       "      <td>1600.059442</td>\n",
       "      <td>-450.619948</td>\n",
       "      <td>1600.012842</td>\n",
       "      <td>-449.910497</td>\n",
       "      <td>1597.725177</td>\n",
       "      <td>-450.130127</td>\n",
       "      <td>1400.943157</td>\n",
       "      <td>-450.030142</td>\n",
       "      <td>1400.234743</td>\n",
       "      <td>-449.790835</td>\n",
       "      <td>11.692450</td>\n",
       "      <td>6.196578</td>\n",
       "      <td>42029.447991</td>\n",
       "      <td>3498.578313</td>\n",
       "      <td>3499.162912</td>\n",
       "      <td>3.002340</td>\n",
       "      <td>19.320810</td>\n",
       "      <td>11.915047</td>\n",
       "      <td>7.175616</td>\n",
       "      <td>27.341277</td>\n",
       "      <td>87.226430</td>\n",
       "      <td>1.079755</td>\n",
       "      <td>4.655288</td>\n",
       "      <td>0.542525</td>\n",
       "      <td>19.330200</td>\n",
       "      <td>122.270188</td>\n",
       "      <td>11.322140</td>\n",
       "      <td>7.25</td>\n",
       "      <td>0.996739</td>\n",
       "      <td>1599.968720</td>\n",
       "      <td>-500.951778</td>\n",
       "      <td>1600.659236</td>\n",
       "      <td>-499.677094</td>\n",
       "      <td>1600.304144</td>\n",
       "      <td>-500.727997</td>\n",
       "      <td>1600.449520</td>\n",
       "      <td>-500.052575</td>\n",
       "      <td>28.260743</td>\n",
       "      <td>7.221879</td>\n",
       "      <td>8.496563</td>\n",
       "      <td>15.978538</td>\n",
       "      <td>2.262051</td>\n",
       "      <td>16.024359</td>\n",
       "      <td>2.960362</td>\n",
       "      <td>6.843791</td>\n",
       "      <td>25.942508</td>\n",
       "      <td>-499.176749</td>\n",
       "      <td>23.955516</td>\n",
       "      <td>-499.848796</td>\n",
       "      <td>23.966838</td>\n",
       "      <td>-500.008812</td>\n",
       "      <td>23.954443</td>\n",
       "      <td>-499.944710</td>\n",
       "      <td>14.036510</td>\n",
       "      <td>-500.857308</td>\n",
       "      <td>11.999550</td>\n",
       "      <td>-501.193686</td>\n",
       "      <td>9.970366</td>\n",
       "      <td>-499.201640</td>\n",
       "      <td>7.977324</td>\n",
       "      <td>-500.255908</td>\n",
       "      <td>14.005551</td>\n",
       "      <td>-599.996129</td>\n",
       "      <td>2.322062</td>\n",
       "      <td>13.732071</td>\n",
       "      <td>4.482453</td>\n",
       "      <td>9.122857</td>\n",
       "      <td>42.689819</td>\n",
       "      <td>6.047977</td>\n",
       "      <td>9.977019</td>\n",
       "      <td>4.858634</td>\n",
       "      <td>68.347543</td>\n",
       "      <td>2.146849</td>\n",
       "      <td>10.422762</td>\n",
       "      <td>0.883763</td>\n",
       "      <td>16.532835</td>\n",
       "    </tr>\n",
       "    <tr>\n",
       "      <th>4</th>\n",
       "      <td>2016-01-15 04:00:00</td>\n",
       "      <td>5.663707</td>\n",
       "      <td>6.060915</td>\n",
       "      <td>1.786875</td>\n",
       "      <td>34.347666</td>\n",
       "      <td>540.531893</td>\n",
       "      <td>56.047189</td>\n",
       "      <td>10.957755</td>\n",
       "      <td>6.198826</td>\n",
       "      <td>999.678690</td>\n",
       "      <td>-399.752729</td>\n",
       "      <td>1600.208824</td>\n",
       "      <td>-449.599614</td>\n",
       "      <td>1600.357732</td>\n",
       "      <td>-450.034364</td>\n",
       "      <td>1599.759049</td>\n",
       "      <td>-449.909799</td>\n",
       "      <td>1401.560902</td>\n",
       "      <td>-448.877187</td>\n",
       "      <td>1401.160227</td>\n",
       "      <td>-450.407128</td>\n",
       "      <td>10.960521</td>\n",
       "      <td>6.194897</td>\n",
       "      <td>42125.354245</td>\n",
       "      <td>3494.800771</td>\n",
       "      <td>3506.679315</td>\n",
       "      <td>3.169615</td>\n",
       "      <td>19.216101</td>\n",
       "      <td>12.411054</td>\n",
       "      <td>7.240205</td>\n",
       "      <td>27.041023</td>\n",
       "      <td>86.688794</td>\n",
       "      <td>1.012642</td>\n",
       "      <td>4.552800</td>\n",
       "      <td>0.515438</td>\n",
       "      <td>19.267422</td>\n",
       "      <td>117.988169</td>\n",
       "      <td>11.913613</td>\n",
       "      <td>7.25</td>\n",
       "      <td>1.009869</td>\n",
       "      <td>1601.339707</td>\n",
       "      <td>-498.975456</td>\n",
       "      <td>1601.437854</td>\n",
       "      <td>-500.323246</td>\n",
       "      <td>1599.581894</td>\n",
       "      <td>-500.888152</td>\n",
       "      <td>1602.649541</td>\n",
       "      <td>-500.593010</td>\n",
       "      <td>33.044932</td>\n",
       "      <td>9.089428</td>\n",
       "      <td>9.986786</td>\n",
       "      <td>19.199864</td>\n",
       "      <td>2.277073</td>\n",
       "      <td>16.480185</td>\n",
       "      <td>3.112100</td>\n",
       "      <td>6.550154</td>\n",
       "      <td>26.024787</td>\n",
       "      <td>-500.279091</td>\n",
       "      <td>23.955345</td>\n",
       "      <td>-500.593614</td>\n",
       "      <td>23.985703</td>\n",
       "      <td>-500.083811</td>\n",
       "      <td>23.958945</td>\n",
       "      <td>-499.990309</td>\n",
       "      <td>14.027298</td>\n",
       "      <td>-499.838632</td>\n",
       "      <td>11.953070</td>\n",
       "      <td>-501.053894</td>\n",
       "      <td>9.925709</td>\n",
       "      <td>-501.686727</td>\n",
       "      <td>7.894242</td>\n",
       "      <td>-500.356035</td>\n",
       "      <td>13.996647</td>\n",
       "      <td>-601.496691</td>\n",
       "      <td>2.330448</td>\n",
       "      <td>14.079996</td>\n",
       "      <td>4.470737</td>\n",
       "      <td>8.871028</td>\n",
       "      <td>42.774141</td>\n",
       "      <td>6.148599</td>\n",
       "      <td>10.142511</td>\n",
       "      <td>4.939416</td>\n",
       "      <td>66.927016</td>\n",
       "      <td>2.055292</td>\n",
       "      <td>10.360302</td>\n",
       "      <td>0.792826</td>\n",
       "      <td>16.525686</td>\n",
       "    </tr>\n",
       "  </tbody>\n",
       "</table>\n",
       "</div>"
      ],
      "text/plain": [
       "                  date  rougher.input.feed_au  rougher.input.feed_ag  \\\n",
       "0  2016-01-15 00:00:00               6.486150               6.100378   \n",
       "1  2016-01-15 01:00:00               6.478583               6.161113   \n",
       "2  2016-01-15 02:00:00               6.362222               6.116455   \n",
       "3  2016-01-15 03:00:00               6.118189               6.043309   \n",
       "4  2016-01-15 04:00:00               5.663707               6.060915   \n",
       "\n",
       "   rougher.input.feed_pb  rougher.input.feed_sol  rougher.input.feed_rate  \\\n",
       "0               2.284912               36.808594               523.546326   \n",
       "1               2.266033               35.753385               525.290581   \n",
       "2               2.159622               35.971630               530.026610   \n",
       "3               2.037807               36.862241               542.590390   \n",
       "4               1.786875               34.347666               540.531893   \n",
       "\n",
       "   rougher.input.feed_size  rougher.input.floatbank10_sulfate  \\\n",
       "0                55.486599                          11.986616   \n",
       "1                57.278666                          11.971193   \n",
       "2                57.510649                          11.920603   \n",
       "3                57.792734                          11.630094   \n",
       "4                56.047189                          10.957755   \n",
       "\n",
       "   rougher.input.floatbank10_xanthate  rougher.state.floatbank10_a_air  \\\n",
       "0                            6.007990                       999.706909   \n",
       "1                            6.005766                      1000.286398   \n",
       "2                            6.197377                       999.719565   \n",
       "3                            6.203177                       999.814770   \n",
       "4                            6.198826                       999.678690   \n",
       "\n",
       "   rougher.state.floatbank10_a_level  rougher.state.floatbank10_b_air  \\\n",
       "0                        -404.066986                      1603.011353   \n",
       "1                        -400.065196                      1600.754587   \n",
       "2                        -400.074028                      1599.337330   \n",
       "3                        -400.200179                      1600.059442   \n",
       "4                        -399.752729                      1600.208824   \n",
       "\n",
       "   rougher.state.floatbank10_b_level  rougher.state.floatbank10_c_air  \\\n",
       "0                        -434.715027                      1602.375000   \n",
       "1                        -449.953435                      1600.479580   \n",
       "2                        -450.008530                      1599.672797   \n",
       "3                        -450.619948                      1600.012842   \n",
       "4                        -449.599614                      1600.357732   \n",
       "\n",
       "   rougher.state.floatbank10_c_level  rougher.state.floatbank10_d_air  \\\n",
       "0                        -442.204468                      1598.937256   \n",
       "1                        -449.830646                      1600.527589   \n",
       "2                        -449.954491                      1599.849325   \n",
       "3                        -449.910497                      1597.725177   \n",
       "4                        -450.034364                      1599.759049   \n",
       "\n",
       "   rougher.state.floatbank10_d_level  rougher.state.floatbank10_e_air  \\\n",
       "0                        -451.294128                      1404.472046   \n",
       "1                        -449.953649                      1399.227084   \n",
       "2                        -449.954185                      1399.180945   \n",
       "3                        -450.130127                      1400.943157   \n",
       "4                        -449.909799                      1401.560902   \n",
       "\n",
       "   rougher.state.floatbank10_e_level  rougher.state.floatbank10_f_air  \\\n",
       "0                        -455.462982                      1416.354980   \n",
       "1                        -450.869848                      1399.719514   \n",
       "2                        -449.937588                      1400.316682   \n",
       "3                        -450.030142                      1400.234743   \n",
       "4                        -448.877187                      1401.160227   \n",
       "\n",
       "   rougher.state.floatbank10_f_level  rougher.input.floatbank11_sulfate  \\\n",
       "0                        -451.939636                          11.836743   \n",
       "1                        -450.119001                          11.996163   \n",
       "2                        -450.527147                          11.920305   \n",
       "3                        -449.790835                          11.692450   \n",
       "4                        -450.407128                          10.960521   \n",
       "\n",
       "   rougher.input.floatbank11_xanthate  \\\n",
       "0                            6.005818   \n",
       "1                            6.012594   \n",
       "2                            6.204633   \n",
       "3                            6.196578   \n",
       "4                            6.194897   \n",
       "\n",
       "   rougher.calculation.sulfate_to_au_concentrate  \\\n",
       "0                                   41885.707031   \n",
       "1                                   42050.861809   \n",
       "2                                   42018.101184   \n",
       "3                                   42029.447991   \n",
       "4                                   42125.354245   \n",
       "\n",
       "   rougher.calculation.floatbank10_sulfate_to_au_feed  \\\n",
       "0                                        3481.779053    \n",
       "1                                        3498.370979    \n",
       "2                                        3495.348910    \n",
       "3                                        3498.578313    \n",
       "4                                        3494.800771    \n",
       "\n",
       "   rougher.calculation.floatbank11_sulfate_to_au_feed  \\\n",
       "0                                        3520.337158    \n",
       "1                                        3489.981857    \n",
       "2                                        3502.359819    \n",
       "3                                        3499.162912    \n",
       "4                                        3506.679315    \n",
       "\n",
       "   rougher.calculation.au_pb_ratio  rougher.output.concentrate_au  \\\n",
       "0                         2.838687                      19.793808   \n",
       "1                         2.858998                      20.050975   \n",
       "2                         2.945989                      19.737170   \n",
       "3                         3.002340                      19.320810   \n",
       "4                         3.169615                      19.216101   \n",
       "\n",
       "   rougher.output.concentrate_ag  rougher.output.concentrate_pb  \\\n",
       "0                      11.500771                       7.101074   \n",
       "1                      11.615865                       7.278807   \n",
       "2                      11.695753                       7.216833   \n",
       "3                      11.915047                       7.175616   \n",
       "4                      12.411054                       7.240205   \n",
       "\n",
       "   rougher.output.concentrate_sol  rougher.output.recovery  \\\n",
       "0                       28.029297                87.107763   \n",
       "1                       28.067063                86.843261   \n",
       "2                       27.454037                86.842308   \n",
       "3                       27.341277                87.226430   \n",
       "4                       27.041023                86.688794   \n",
       "\n",
       "   rougher.output.tail_au  rougher.output.tail_ag  rougher.output.tail_pb  \\\n",
       "0                1.170244                5.008018                0.508728   \n",
       "1                1.184827                4.955378                0.536689   \n",
       "2                1.162562                4.843460                0.546416   \n",
       "3                1.079755                4.655288                0.542525   \n",
       "4                1.012642                4.552800                0.515438   \n",
       "\n",
       "   rougher.output.tail_sol  primary_cleaner.input.sulfate  \\\n",
       "0                19.154297                     127.092003   \n",
       "1                18.965234                     125.629232   \n",
       "2                18.808533                     123.819808   \n",
       "3                19.330200                     122.270188   \n",
       "4                19.267422                     117.988169   \n",
       "\n",
       "   primary_cleaner.input.depressant  primary_cleaner.input.feed_size  \\\n",
       "0                         10.128295                             7.25   \n",
       "1                         10.296251                             7.25   \n",
       "2                         11.316280                             7.25   \n",
       "3                         11.322140                             7.25   \n",
       "4                         11.913613                             7.25   \n",
       "\n",
       "   primary_cleaner.input.xanthate  primary_cleaner.state.floatbank8_a_air  \\\n",
       "0                        0.988759                             1549.775757   \n",
       "1                        1.002663                             1576.166671   \n",
       "2                        0.991265                             1601.556163   \n",
       "3                        0.996739                             1599.968720   \n",
       "4                        1.009869                             1601.339707   \n",
       "\n",
       "   primary_cleaner.state.floatbank8_a_level  \\\n",
       "0                               -498.912140   \n",
       "1                               -500.904965   \n",
       "2                               -499.997791   \n",
       "3                               -500.951778   \n",
       "4                               -498.975456   \n",
       "\n",
       "   primary_cleaner.state.floatbank8_b_air  \\\n",
       "0                             1551.434204   \n",
       "1                             1575.950626   \n",
       "2                             1600.386685   \n",
       "3                             1600.659236   \n",
       "4                             1601.437854   \n",
       "\n",
       "   primary_cleaner.state.floatbank8_b_level  \\\n",
       "0                               -516.403442   \n",
       "1                               -499.865889   \n",
       "2                               -500.607762   \n",
       "3                               -499.677094   \n",
       "4                               -500.323246   \n",
       "\n",
       "   primary_cleaner.state.floatbank8_c_air  \\\n",
       "0                             1549.873901   \n",
       "1                             1575.994189   \n",
       "2                             1602.003542   \n",
       "3                             1600.304144   \n",
       "4                             1599.581894   \n",
       "\n",
       "   primary_cleaner.state.floatbank8_c_level  \\\n",
       "0                               -498.666595   \n",
       "1                               -499.315107   \n",
       "2                               -500.870069   \n",
       "3                               -500.727997   \n",
       "4                               -500.888152   \n",
       "\n",
       "   primary_cleaner.state.floatbank8_d_air  \\\n",
       "0                             1554.367432   \n",
       "1                             1574.479259   \n",
       "2                             1599.541515   \n",
       "3                             1600.449520   \n",
       "4                             1602.649541   \n",
       "\n",
       "   primary_cleaner.state.floatbank8_d_level  \\\n",
       "0                               -493.428131   \n",
       "1                               -498.931665   \n",
       "2                               -499.827444   \n",
       "3                               -500.052575   \n",
       "4                               -500.593010   \n",
       "\n",
       "   primary_cleaner.output.concentrate_au  \\\n",
       "0                              34.174427   \n",
       "1                              34.118526   \n",
       "2                              33.969464   \n",
       "3                              28.260743   \n",
       "4                              33.044932   \n",
       "\n",
       "   primary_cleaner.output.concentrate_ag  \\\n",
       "0                               8.547551   \n",
       "1                               8.558743   \n",
       "2                               8.603505   \n",
       "3                               7.221879   \n",
       "4                               9.089428   \n",
       "\n",
       "   primary_cleaner.output.concentrate_pb  \\\n",
       "0                              10.389648   \n",
       "1                              10.497069   \n",
       "2                              10.354494   \n",
       "3                               8.496563   \n",
       "4                               9.986786   \n",
       "\n",
       "   primary_cleaner.output.concentrate_sol  primary_cleaner.output.tail_au  \\\n",
       "0                               19.529297                        2.106679   \n",
       "1                               19.369147                        2.353017   \n",
       "2                               19.167579                        2.416800   \n",
       "3                               15.978538                        2.262051   \n",
       "4                               19.199864                        2.277073   \n",
       "\n",
       "   primary_cleaner.output.tail_ag  primary_cleaner.output.tail_pb  \\\n",
       "0                       14.936526                        2.534912   \n",
       "1                       16.250511                        3.049646   \n",
       "2                       16.491823                        3.124664   \n",
       "3                       16.024359                        2.960362   \n",
       "4                       16.480185                        3.112100   \n",
       "\n",
       "   primary_cleaner.output.tail_sol  secondary_cleaner.state.floatbank2_a_air  \\\n",
       "0                         7.476074                                 25.853109   \n",
       "1                         6.733907                                 25.880539   \n",
       "2                         6.471768                                 26.005245   \n",
       "3                         6.843791                                 25.942508   \n",
       "4                         6.550154                                 26.024787   \n",
       "\n",
       "   secondary_cleaner.state.floatbank2_a_level  \\\n",
       "0                                 -498.526489   \n",
       "1                                 -499.989656   \n",
       "2                                 -499.929616   \n",
       "3                                 -499.176749   \n",
       "4                                 -500.279091   \n",
       "\n",
       "   secondary_cleaner.state.floatbank2_b_air  \\\n",
       "0                                 23.893660   \n",
       "1                                 23.889530   \n",
       "2                                 23.886657   \n",
       "3                                 23.955516   \n",
       "4                                 23.955345   \n",
       "\n",
       "   secondary_cleaner.state.floatbank2_b_level  \\\n",
       "0                                 -501.406281   \n",
       "1                                 -500.372428   \n",
       "2                                 -499.951928   \n",
       "3                                 -499.848796   \n",
       "4                                 -500.593614   \n",
       "\n",
       "   secondary_cleaner.state.floatbank3_a_air  \\\n",
       "0                                 23.961798   \n",
       "1                                 23.970550   \n",
       "2                                 23.913535   \n",
       "3                                 23.966838   \n",
       "4                                 23.985703   \n",
       "\n",
       "   secondary_cleaner.state.floatbank3_a_level  \\\n",
       "0                                 -495.262817   \n",
       "1                                 -500.085473   \n",
       "2                                 -499.442343   \n",
       "3                                 -500.008812   \n",
       "4                                 -500.083811   \n",
       "\n",
       "   secondary_cleaner.state.floatbank3_b_air  \\\n",
       "0                                 21.940409   \n",
       "1                                 22.085714   \n",
       "2                                 23.957717   \n",
       "3                                 23.954443   \n",
       "4                                 23.958945   \n",
       "\n",
       "   secondary_cleaner.state.floatbank3_b_level  \\\n",
       "0                                 -499.340973   \n",
       "1                                 -499.446897   \n",
       "2                                 -499.901982   \n",
       "3                                 -499.944710   \n",
       "4                                 -499.990309   \n",
       "\n",
       "   secondary_cleaner.state.floatbank4_a_air  \\\n",
       "0                                 14.016835   \n",
       "1                                 13.992281   \n",
       "2                                 14.015015   \n",
       "3                                 14.036510   \n",
       "4                                 14.027298   \n",
       "\n",
       "   secondary_cleaner.state.floatbank4_a_level  \\\n",
       "0                                 -502.488007   \n",
       "1                                 -505.503262   \n",
       "2                                 -502.520901   \n",
       "3                                 -500.857308   \n",
       "4                                 -499.838632   \n",
       "\n",
       "   secondary_cleaner.state.floatbank4_b_air  \\\n",
       "0                                 12.099931   \n",
       "1                                 11.950531   \n",
       "2                                 11.912783   \n",
       "3                                 11.999550   \n",
       "4                                 11.953070   \n",
       "\n",
       "   secondary_cleaner.state.floatbank4_b_level  \\\n",
       "0                                 -504.715942   \n",
       "1                                 -501.331529   \n",
       "2                                 -501.133383   \n",
       "3                                 -501.193686   \n",
       "4                                 -501.053894   \n",
       "\n",
       "   secondary_cleaner.state.floatbank5_a_air  \\\n",
       "0                                  9.925633   \n",
       "1                                 10.039245   \n",
       "2                                 10.070913   \n",
       "3                                  9.970366   \n",
       "4                                  9.925709   \n",
       "\n",
       "   secondary_cleaner.state.floatbank5_a_level  \\\n",
       "0                                 -498.310211   \n",
       "1                                 -500.169983   \n",
       "2                                 -500.129135   \n",
       "3                                 -499.201640   \n",
       "4                                 -501.686727   \n",
       "\n",
       "   secondary_cleaner.state.floatbank5_b_air  \\\n",
       "0                                  8.079666   \n",
       "1                                  7.984757   \n",
       "2                                  8.013877   \n",
       "3                                  7.977324   \n",
       "4                                  7.894242   \n",
       "\n",
       "   secondary_cleaner.state.floatbank5_b_level  \\\n",
       "0                                 -500.470978   \n",
       "1                                 -500.582168   \n",
       "2                                 -500.517572   \n",
       "3                                 -500.255908   \n",
       "4                                 -500.356035   \n",
       "\n",
       "   secondary_cleaner.state.floatbank6_a_air  \\\n",
       "0                                 14.151341   \n",
       "1                                 13.998353   \n",
       "2                                 14.028663   \n",
       "3                                 14.005551   \n",
       "4                                 13.996647   \n",
       "\n",
       "   secondary_cleaner.state.floatbank6_a_level  \\\n",
       "0                                 -605.841980   \n",
       "1                                 -599.787184   \n",
       "2                                 -601.427363   \n",
       "3                                 -599.996129   \n",
       "4                                 -601.496691   \n",
       "\n",
       "   secondary_cleaner.output.tail_au  secondary_cleaner.output.tail_ag  \\\n",
       "0                          2.606185                         14.500184   \n",
       "1                          2.488248                         14.265474   \n",
       "2                          2.458187                         14.115662   \n",
       "3                          2.322062                         13.732071   \n",
       "4                          2.330448                         14.079996   \n",
       "\n",
       "   secondary_cleaner.output.tail_pb  secondary_cleaner.output.tail_sol  \\\n",
       "0                          4.694824                           8.764648   \n",
       "1                          4.592547                           9.001494   \n",
       "2                          4.624775                           8.842896   \n",
       "3                          4.482453                           9.122857   \n",
       "4                          4.470737                           8.871028   \n",
       "\n",
       "   final.output.concentrate_au  final.output.concentrate_ag  \\\n",
       "0                    42.192020                     6.055403   \n",
       "1                    42.701629                     6.029369   \n",
       "2                    42.657501                     6.055926   \n",
       "3                    42.689819                     6.047977   \n",
       "4                    42.774141                     6.148599   \n",
       "\n",
       "   final.output.concentrate_pb  final.output.concentrate_sol  \\\n",
       "0                     9.889648                      5.507324   \n",
       "1                     9.968944                      5.257781   \n",
       "2                    10.213995                      5.383759   \n",
       "3                     9.977019                      4.858634   \n",
       "4                    10.142511                      4.939416   \n",
       "\n",
       "   final.output.recovery  final.output.tail_au  final.output.tail_ag  \\\n",
       "0              70.541216              2.143149             10.411962   \n",
       "1              69.266198              2.224930             10.462676   \n",
       "2              68.116445              2.257889             10.507046   \n",
       "3              68.347543              2.146849             10.422762   \n",
       "4              66.927016              2.055292             10.360302   \n",
       "\n",
       "   final.output.tail_pb  final.output.tail_sol  \n",
       "0              0.895447              16.904297  \n",
       "1              0.927452              16.634514  \n",
       "2              0.953716              16.208849  \n",
       "3              0.883763              16.532835  \n",
       "4              0.792826              16.525686  "
      ]
     },
     "metadata": {},
     "output_type": "display_data"
    }
   ],
   "source": [
    "display(data_train.head())"
   ]
  },
  {
   "cell_type": "code",
   "execution_count": 9,
   "metadata": {},
   "outputs": [
    {
     "data": {
      "text/html": [
       "<div>\n",
       "<style scoped>\n",
       "    .dataframe tbody tr th:only-of-type {\n",
       "        vertical-align: middle;\n",
       "    }\n",
       "\n",
       "    .dataframe tbody tr th {\n",
       "        vertical-align: top;\n",
       "    }\n",
       "\n",
       "    .dataframe thead th {\n",
       "        text-align: right;\n",
       "    }\n",
       "</style>\n",
       "<table border=\"1\" class=\"dataframe\">\n",
       "  <thead>\n",
       "    <tr style=\"text-align: right;\">\n",
       "      <th></th>\n",
       "      <th>date</th>\n",
       "      <th>rougher.input.feed_au</th>\n",
       "      <th>rougher.input.feed_ag</th>\n",
       "      <th>rougher.input.feed_pb</th>\n",
       "      <th>rougher.input.feed_sol</th>\n",
       "      <th>rougher.input.feed_rate</th>\n",
       "      <th>rougher.input.feed_size</th>\n",
       "      <th>rougher.input.floatbank10_sulfate</th>\n",
       "      <th>rougher.input.floatbank10_xanthate</th>\n",
       "      <th>rougher.state.floatbank10_a_air</th>\n",
       "      <th>rougher.state.floatbank10_a_level</th>\n",
       "      <th>rougher.state.floatbank10_b_air</th>\n",
       "      <th>rougher.state.floatbank10_b_level</th>\n",
       "      <th>rougher.state.floatbank10_c_air</th>\n",
       "      <th>rougher.state.floatbank10_c_level</th>\n",
       "      <th>rougher.state.floatbank10_d_air</th>\n",
       "      <th>rougher.state.floatbank10_d_level</th>\n",
       "      <th>rougher.state.floatbank10_e_air</th>\n",
       "      <th>rougher.state.floatbank10_e_level</th>\n",
       "      <th>rougher.state.floatbank10_f_air</th>\n",
       "      <th>rougher.state.floatbank10_f_level</th>\n",
       "      <th>rougher.input.floatbank11_sulfate</th>\n",
       "      <th>rougher.input.floatbank11_xanthate</th>\n",
       "      <th>primary_cleaner.input.sulfate</th>\n",
       "      <th>primary_cleaner.input.depressant</th>\n",
       "      <th>primary_cleaner.input.feed_size</th>\n",
       "      <th>primary_cleaner.input.xanthate</th>\n",
       "      <th>primary_cleaner.state.floatbank8_a_air</th>\n",
       "      <th>primary_cleaner.state.floatbank8_a_level</th>\n",
       "      <th>primary_cleaner.state.floatbank8_b_air</th>\n",
       "      <th>primary_cleaner.state.floatbank8_b_level</th>\n",
       "      <th>primary_cleaner.state.floatbank8_c_air</th>\n",
       "      <th>primary_cleaner.state.floatbank8_c_level</th>\n",
       "      <th>primary_cleaner.state.floatbank8_d_air</th>\n",
       "      <th>primary_cleaner.state.floatbank8_d_level</th>\n",
       "      <th>secondary_cleaner.state.floatbank2_a_air</th>\n",
       "      <th>secondary_cleaner.state.floatbank2_a_level</th>\n",
       "      <th>secondary_cleaner.state.floatbank2_b_air</th>\n",
       "      <th>secondary_cleaner.state.floatbank2_b_level</th>\n",
       "      <th>secondary_cleaner.state.floatbank3_a_air</th>\n",
       "      <th>secondary_cleaner.state.floatbank3_a_level</th>\n",
       "      <th>secondary_cleaner.state.floatbank3_b_air</th>\n",
       "      <th>secondary_cleaner.state.floatbank3_b_level</th>\n",
       "      <th>secondary_cleaner.state.floatbank4_a_air</th>\n",
       "      <th>secondary_cleaner.state.floatbank4_a_level</th>\n",
       "      <th>secondary_cleaner.state.floatbank4_b_air</th>\n",
       "      <th>secondary_cleaner.state.floatbank4_b_level</th>\n",
       "      <th>secondary_cleaner.state.floatbank5_a_air</th>\n",
       "      <th>secondary_cleaner.state.floatbank5_a_level</th>\n",
       "      <th>secondary_cleaner.state.floatbank5_b_air</th>\n",
       "      <th>secondary_cleaner.state.floatbank5_b_level</th>\n",
       "      <th>secondary_cleaner.state.floatbank6_a_air</th>\n",
       "      <th>secondary_cleaner.state.floatbank6_a_level</th>\n",
       "    </tr>\n",
       "  </thead>\n",
       "  <tbody>\n",
       "    <tr>\n",
       "      <th>0</th>\n",
       "      <td>2017-12-09 14:59:59</td>\n",
       "      <td>4.365491</td>\n",
       "      <td>6.158718</td>\n",
       "      <td>3.875727</td>\n",
       "      <td>39.135119</td>\n",
       "      <td>555.820208</td>\n",
       "      <td>94.544358</td>\n",
       "      <td>6.146982</td>\n",
       "      <td>9.308612</td>\n",
       "      <td>1196.238112</td>\n",
       "      <td>-299.862743</td>\n",
       "      <td>1147.248241</td>\n",
       "      <td>-500.363165</td>\n",
       "      <td>1047.279065</td>\n",
       "      <td>-500.354091</td>\n",
       "      <td>948.756608</td>\n",
       "      <td>-498.439416</td>\n",
       "      <td>849.441918</td>\n",
       "      <td>-499.255503</td>\n",
       "      <td>850.112246</td>\n",
       "      <td>-499.407112</td>\n",
       "      <td>6.168939</td>\n",
       "      <td>9.309852</td>\n",
       "      <td>95.248427</td>\n",
       "      <td>8.078957</td>\n",
       "      <td>6.500000</td>\n",
       "      <td>1.283045</td>\n",
       "      <td>1648.759906</td>\n",
       "      <td>-399.862053</td>\n",
       "      <td>1650.135395</td>\n",
       "      <td>-399.957321</td>\n",
       "      <td>1648.831890</td>\n",
       "      <td>-400.586116</td>\n",
       "      <td>1649.464582</td>\n",
       "      <td>-400.673303</td>\n",
       "      <td>34.940919</td>\n",
       "      <td>-500.150510</td>\n",
       "      <td>30.031867</td>\n",
       "      <td>-500.328335</td>\n",
       "      <td>26.033990</td>\n",
       "      <td>-500.147792</td>\n",
       "      <td>22.952306</td>\n",
       "      <td>-500.037678</td>\n",
       "      <td>23.018622</td>\n",
       "      <td>-500.492702</td>\n",
       "      <td>20.020205</td>\n",
       "      <td>-500.220296</td>\n",
       "      <td>17.963512</td>\n",
       "      <td>-499.939490</td>\n",
       "      <td>12.990306</td>\n",
       "      <td>-500.080993</td>\n",
       "      <td>19.990336</td>\n",
       "      <td>-499.191575</td>\n",
       "    </tr>\n",
       "    <tr>\n",
       "      <th>1</th>\n",
       "      <td>2017-12-09 15:59:59</td>\n",
       "      <td>4.362781</td>\n",
       "      <td>6.048130</td>\n",
       "      <td>3.902537</td>\n",
       "      <td>39.713906</td>\n",
       "      <td>544.731687</td>\n",
       "      <td>123.742430</td>\n",
       "      <td>6.210119</td>\n",
       "      <td>9.297709</td>\n",
       "      <td>1201.904177</td>\n",
       "      <td>-299.907308</td>\n",
       "      <td>1154.087804</td>\n",
       "      <td>-500.036580</td>\n",
       "      <td>1054.009756</td>\n",
       "      <td>-500.237335</td>\n",
       "      <td>944.138793</td>\n",
       "      <td>-496.866953</td>\n",
       "      <td>851.589767</td>\n",
       "      <td>-499.040466</td>\n",
       "      <td>851.345606</td>\n",
       "      <td>-499.122561</td>\n",
       "      <td>6.209517</td>\n",
       "      <td>9.297194</td>\n",
       "      <td>98.880538</td>\n",
       "      <td>7.984164</td>\n",
       "      <td>6.500000</td>\n",
       "      <td>1.241969</td>\n",
       "      <td>1646.547763</td>\n",
       "      <td>-398.977083</td>\n",
       "      <td>1648.212240</td>\n",
       "      <td>-400.383265</td>\n",
       "      <td>1648.917387</td>\n",
       "      <td>-399.521344</td>\n",
       "      <td>1651.498591</td>\n",
       "      <td>-399.745329</td>\n",
       "      <td>34.980742</td>\n",
       "      <td>-498.131002</td>\n",
       "      <td>29.968453</td>\n",
       "      <td>-586.013330</td>\n",
       "      <td>25.971737</td>\n",
       "      <td>-499.608392</td>\n",
       "      <td>22.958448</td>\n",
       "      <td>-499.821308</td>\n",
       "      <td>23.024963</td>\n",
       "      <td>-501.153409</td>\n",
       "      <td>20.054122</td>\n",
       "      <td>-500.314711</td>\n",
       "      <td>17.979515</td>\n",
       "      <td>-499.272871</td>\n",
       "      <td>12.992404</td>\n",
       "      <td>-499.976268</td>\n",
       "      <td>20.013986</td>\n",
       "      <td>-500.625471</td>\n",
       "    </tr>\n",
       "    <tr>\n",
       "      <th>2</th>\n",
       "      <td>2017-12-09 16:59:59</td>\n",
       "      <td>5.081681</td>\n",
       "      <td>6.082745</td>\n",
       "      <td>4.564078</td>\n",
       "      <td>37.208683</td>\n",
       "      <td>558.155110</td>\n",
       "      <td>82.610855</td>\n",
       "      <td>7.363824</td>\n",
       "      <td>9.003562</td>\n",
       "      <td>1200.826926</td>\n",
       "      <td>-300.124116</td>\n",
       "      <td>1150.754676</td>\n",
       "      <td>-499.986009</td>\n",
       "      <td>1049.182824</td>\n",
       "      <td>-500.014696</td>\n",
       "      <td>948.085464</td>\n",
       "      <td>-499.997003</td>\n",
       "      <td>850.170086</td>\n",
       "      <td>-500.270334</td>\n",
       "      <td>849.557905</td>\n",
       "      <td>-500.198702</td>\n",
       "      <td>7.358308</td>\n",
       "      <td>9.000624</td>\n",
       "      <td>119.497545</td>\n",
       "      <td>8.003752</td>\n",
       "      <td>6.500000</td>\n",
       "      <td>1.259741</td>\n",
       "      <td>1647.368779</td>\n",
       "      <td>-399.788506</td>\n",
       "      <td>1648.395206</td>\n",
       "      <td>-400.166490</td>\n",
       "      <td>1648.953828</td>\n",
       "      <td>-400.468641</td>\n",
       "      <td>1649.821569</td>\n",
       "      <td>-400.071884</td>\n",
       "      <td>34.952967</td>\n",
       "      <td>-501.204647</td>\n",
       "      <td>29.927025</td>\n",
       "      <td>-500.106628</td>\n",
       "      <td>25.978253</td>\n",
       "      <td>-499.890060</td>\n",
       "      <td>23.004376</td>\n",
       "      <td>-500.014529</td>\n",
       "      <td>22.993827</td>\n",
       "      <td>-501.559663</td>\n",
       "      <td>20.029144</td>\n",
       "      <td>-500.000662</td>\n",
       "      <td>18.012723</td>\n",
       "      <td>-500.024764</td>\n",
       "      <td>13.016445</td>\n",
       "      <td>-500.058432</td>\n",
       "      <td>19.973767</td>\n",
       "      <td>-501.394155</td>\n",
       "    </tr>\n",
       "    <tr>\n",
       "      <th>3</th>\n",
       "      <td>2017-12-09 17:59:59</td>\n",
       "      <td>5.145949</td>\n",
       "      <td>6.084374</td>\n",
       "      <td>4.768124</td>\n",
       "      <td>36.808874</td>\n",
       "      <td>539.713765</td>\n",
       "      <td>77.984784</td>\n",
       "      <td>6.927072</td>\n",
       "      <td>8.955597</td>\n",
       "      <td>1199.292489</td>\n",
       "      <td>-299.778385</td>\n",
       "      <td>1152.512559</td>\n",
       "      <td>-500.338106</td>\n",
       "      <td>1052.601592</td>\n",
       "      <td>-499.695075</td>\n",
       "      <td>955.171539</td>\n",
       "      <td>-500.294989</td>\n",
       "      <td>851.957342</td>\n",
       "      <td>-499.779541</td>\n",
       "      <td>850.765662</td>\n",
       "      <td>-501.030559</td>\n",
       "      <td>6.929364</td>\n",
       "      <td>8.920717</td>\n",
       "      <td>108.080163</td>\n",
       "      <td>7.970121</td>\n",
       "      <td>6.660000</td>\n",
       "      <td>0.774909</td>\n",
       "      <td>1652.660845</td>\n",
       "      <td>-399.702218</td>\n",
       "      <td>1651.203128</td>\n",
       "      <td>-400.291472</td>\n",
       "      <td>1651.924848</td>\n",
       "      <td>-398.058033</td>\n",
       "      <td>1650.782696</td>\n",
       "      <td>-399.597977</td>\n",
       "      <td>35.038256</td>\n",
       "      <td>-500.102649</td>\n",
       "      <td>30.066959</td>\n",
       "      <td>-500.211499</td>\n",
       "      <td>26.013515</td>\n",
       "      <td>-500.054597</td>\n",
       "      <td>22.988928</td>\n",
       "      <td>-499.981410</td>\n",
       "      <td>23.032807</td>\n",
       "      <td>-501.287889</td>\n",
       "      <td>19.977466</td>\n",
       "      <td>-500.159903</td>\n",
       "      <td>17.980463</td>\n",
       "      <td>-500.504602</td>\n",
       "      <td>12.949071</td>\n",
       "      <td>-500.009937</td>\n",
       "      <td>20.010332</td>\n",
       "      <td>-508.337973</td>\n",
       "    </tr>\n",
       "    <tr>\n",
       "      <th>4</th>\n",
       "      <td>2017-12-09 18:59:59</td>\n",
       "      <td>5.735249</td>\n",
       "      <td>6.165220</td>\n",
       "      <td>4.512346</td>\n",
       "      <td>37.810642</td>\n",
       "      <td>558.713584</td>\n",
       "      <td>86.434874</td>\n",
       "      <td>7.823471</td>\n",
       "      <td>7.490356</td>\n",
       "      <td>1198.005449</td>\n",
       "      <td>-300.283401</td>\n",
       "      <td>1099.481500</td>\n",
       "      <td>-499.702465</td>\n",
       "      <td>999.539264</td>\n",
       "      <td>-499.306051</td>\n",
       "      <td>889.445596</td>\n",
       "      <td>-498.118617</td>\n",
       "      <td>800.533525</td>\n",
       "      <td>-499.765068</td>\n",
       "      <td>800.510356</td>\n",
       "      <td>-497.289533</td>\n",
       "      <td>7.824875</td>\n",
       "      <td>7.500678</td>\n",
       "      <td>117.750648</td>\n",
       "      <td>6.954311</td>\n",
       "      <td>6.426667</td>\n",
       "      <td>0.731271</td>\n",
       "      <td>1649.411497</td>\n",
       "      <td>-399.853156</td>\n",
       "      <td>1648.917211</td>\n",
       "      <td>-400.321866</td>\n",
       "      <td>1649.117753</td>\n",
       "      <td>-399.645348</td>\n",
       "      <td>1650.398209</td>\n",
       "      <td>-400.654533</td>\n",
       "      <td>34.894598</td>\n",
       "      <td>-498.444587</td>\n",
       "      <td>30.020745</td>\n",
       "      <td>-533.831343</td>\n",
       "      <td>26.022094</td>\n",
       "      <td>-499.725484</td>\n",
       "      <td>22.992992</td>\n",
       "      <td>-499.891405</td>\n",
       "      <td>23.001911</td>\n",
       "      <td>-499.947838</td>\n",
       "      <td>20.023735</td>\n",
       "      <td>-499.713680</td>\n",
       "      <td>17.990955</td>\n",
       "      <td>-500.334769</td>\n",
       "      <td>13.007523</td>\n",
       "      <td>-499.968459</td>\n",
       "      <td>19.995999</td>\n",
       "      <td>-499.788805</td>\n",
       "    </tr>\n",
       "  </tbody>\n",
       "</table>\n",
       "</div>"
      ],
      "text/plain": [
       "                  date  rougher.input.feed_au  rougher.input.feed_ag  \\\n",
       "0  2017-12-09 14:59:59               4.365491               6.158718   \n",
       "1  2017-12-09 15:59:59               4.362781               6.048130   \n",
       "2  2017-12-09 16:59:59               5.081681               6.082745   \n",
       "3  2017-12-09 17:59:59               5.145949               6.084374   \n",
       "4  2017-12-09 18:59:59               5.735249               6.165220   \n",
       "\n",
       "   rougher.input.feed_pb  rougher.input.feed_sol  rougher.input.feed_rate  \\\n",
       "0               3.875727               39.135119               555.820208   \n",
       "1               3.902537               39.713906               544.731687   \n",
       "2               4.564078               37.208683               558.155110   \n",
       "3               4.768124               36.808874               539.713765   \n",
       "4               4.512346               37.810642               558.713584   \n",
       "\n",
       "   rougher.input.feed_size  rougher.input.floatbank10_sulfate  \\\n",
       "0                94.544358                           6.146982   \n",
       "1               123.742430                           6.210119   \n",
       "2                82.610855                           7.363824   \n",
       "3                77.984784                           6.927072   \n",
       "4                86.434874                           7.823471   \n",
       "\n",
       "   rougher.input.floatbank10_xanthate  rougher.state.floatbank10_a_air  \\\n",
       "0                            9.308612                      1196.238112   \n",
       "1                            9.297709                      1201.904177   \n",
       "2                            9.003562                      1200.826926   \n",
       "3                            8.955597                      1199.292489   \n",
       "4                            7.490356                      1198.005449   \n",
       "\n",
       "   rougher.state.floatbank10_a_level  rougher.state.floatbank10_b_air  \\\n",
       "0                        -299.862743                      1147.248241   \n",
       "1                        -299.907308                      1154.087804   \n",
       "2                        -300.124116                      1150.754676   \n",
       "3                        -299.778385                      1152.512559   \n",
       "4                        -300.283401                      1099.481500   \n",
       "\n",
       "   rougher.state.floatbank10_b_level  rougher.state.floatbank10_c_air  \\\n",
       "0                        -500.363165                      1047.279065   \n",
       "1                        -500.036580                      1054.009756   \n",
       "2                        -499.986009                      1049.182824   \n",
       "3                        -500.338106                      1052.601592   \n",
       "4                        -499.702465                       999.539264   \n",
       "\n",
       "   rougher.state.floatbank10_c_level  rougher.state.floatbank10_d_air  \\\n",
       "0                        -500.354091                       948.756608   \n",
       "1                        -500.237335                       944.138793   \n",
       "2                        -500.014696                       948.085464   \n",
       "3                        -499.695075                       955.171539   \n",
       "4                        -499.306051                       889.445596   \n",
       "\n",
       "   rougher.state.floatbank10_d_level  rougher.state.floatbank10_e_air  \\\n",
       "0                        -498.439416                       849.441918   \n",
       "1                        -496.866953                       851.589767   \n",
       "2                        -499.997003                       850.170086   \n",
       "3                        -500.294989                       851.957342   \n",
       "4                        -498.118617                       800.533525   \n",
       "\n",
       "   rougher.state.floatbank10_e_level  rougher.state.floatbank10_f_air  \\\n",
       "0                        -499.255503                       850.112246   \n",
       "1                        -499.040466                       851.345606   \n",
       "2                        -500.270334                       849.557905   \n",
       "3                        -499.779541                       850.765662   \n",
       "4                        -499.765068                       800.510356   \n",
       "\n",
       "   rougher.state.floatbank10_f_level  rougher.input.floatbank11_sulfate  \\\n",
       "0                        -499.407112                           6.168939   \n",
       "1                        -499.122561                           6.209517   \n",
       "2                        -500.198702                           7.358308   \n",
       "3                        -501.030559                           6.929364   \n",
       "4                        -497.289533                           7.824875   \n",
       "\n",
       "   rougher.input.floatbank11_xanthate  primary_cleaner.input.sulfate  \\\n",
       "0                            9.309852                      95.248427   \n",
       "1                            9.297194                      98.880538   \n",
       "2                            9.000624                     119.497545   \n",
       "3                            8.920717                     108.080163   \n",
       "4                            7.500678                     117.750648   \n",
       "\n",
       "   primary_cleaner.input.depressant  primary_cleaner.input.feed_size  \\\n",
       "0                          8.078957                         6.500000   \n",
       "1                          7.984164                         6.500000   \n",
       "2                          8.003752                         6.500000   \n",
       "3                          7.970121                         6.660000   \n",
       "4                          6.954311                         6.426667   \n",
       "\n",
       "   primary_cleaner.input.xanthate  primary_cleaner.state.floatbank8_a_air  \\\n",
       "0                        1.283045                             1648.759906   \n",
       "1                        1.241969                             1646.547763   \n",
       "2                        1.259741                             1647.368779   \n",
       "3                        0.774909                             1652.660845   \n",
       "4                        0.731271                             1649.411497   \n",
       "\n",
       "   primary_cleaner.state.floatbank8_a_level  \\\n",
       "0                               -399.862053   \n",
       "1                               -398.977083   \n",
       "2                               -399.788506   \n",
       "3                               -399.702218   \n",
       "4                               -399.853156   \n",
       "\n",
       "   primary_cleaner.state.floatbank8_b_air  \\\n",
       "0                             1650.135395   \n",
       "1                             1648.212240   \n",
       "2                             1648.395206   \n",
       "3                             1651.203128   \n",
       "4                             1648.917211   \n",
       "\n",
       "   primary_cleaner.state.floatbank8_b_level  \\\n",
       "0                               -399.957321   \n",
       "1                               -400.383265   \n",
       "2                               -400.166490   \n",
       "3                               -400.291472   \n",
       "4                               -400.321866   \n",
       "\n",
       "   primary_cleaner.state.floatbank8_c_air  \\\n",
       "0                             1648.831890   \n",
       "1                             1648.917387   \n",
       "2                             1648.953828   \n",
       "3                             1651.924848   \n",
       "4                             1649.117753   \n",
       "\n",
       "   primary_cleaner.state.floatbank8_c_level  \\\n",
       "0                               -400.586116   \n",
       "1                               -399.521344   \n",
       "2                               -400.468641   \n",
       "3                               -398.058033   \n",
       "4                               -399.645348   \n",
       "\n",
       "   primary_cleaner.state.floatbank8_d_air  \\\n",
       "0                             1649.464582   \n",
       "1                             1651.498591   \n",
       "2                             1649.821569   \n",
       "3                             1650.782696   \n",
       "4                             1650.398209   \n",
       "\n",
       "   primary_cleaner.state.floatbank8_d_level  \\\n",
       "0                               -400.673303   \n",
       "1                               -399.745329   \n",
       "2                               -400.071884   \n",
       "3                               -399.597977   \n",
       "4                               -400.654533   \n",
       "\n",
       "   secondary_cleaner.state.floatbank2_a_air  \\\n",
       "0                                 34.940919   \n",
       "1                                 34.980742   \n",
       "2                                 34.952967   \n",
       "3                                 35.038256   \n",
       "4                                 34.894598   \n",
       "\n",
       "   secondary_cleaner.state.floatbank2_a_level  \\\n",
       "0                                 -500.150510   \n",
       "1                                 -498.131002   \n",
       "2                                 -501.204647   \n",
       "3                                 -500.102649   \n",
       "4                                 -498.444587   \n",
       "\n",
       "   secondary_cleaner.state.floatbank2_b_air  \\\n",
       "0                                 30.031867   \n",
       "1                                 29.968453   \n",
       "2                                 29.927025   \n",
       "3                                 30.066959   \n",
       "4                                 30.020745   \n",
       "\n",
       "   secondary_cleaner.state.floatbank2_b_level  \\\n",
       "0                                 -500.328335   \n",
       "1                                 -586.013330   \n",
       "2                                 -500.106628   \n",
       "3                                 -500.211499   \n",
       "4                                 -533.831343   \n",
       "\n",
       "   secondary_cleaner.state.floatbank3_a_air  \\\n",
       "0                                 26.033990   \n",
       "1                                 25.971737   \n",
       "2                                 25.978253   \n",
       "3                                 26.013515   \n",
       "4                                 26.022094   \n",
       "\n",
       "   secondary_cleaner.state.floatbank3_a_level  \\\n",
       "0                                 -500.147792   \n",
       "1                                 -499.608392   \n",
       "2                                 -499.890060   \n",
       "3                                 -500.054597   \n",
       "4                                 -499.725484   \n",
       "\n",
       "   secondary_cleaner.state.floatbank3_b_air  \\\n",
       "0                                 22.952306   \n",
       "1                                 22.958448   \n",
       "2                                 23.004376   \n",
       "3                                 22.988928   \n",
       "4                                 22.992992   \n",
       "\n",
       "   secondary_cleaner.state.floatbank3_b_level  \\\n",
       "0                                 -500.037678   \n",
       "1                                 -499.821308   \n",
       "2                                 -500.014529   \n",
       "3                                 -499.981410   \n",
       "4                                 -499.891405   \n",
       "\n",
       "   secondary_cleaner.state.floatbank4_a_air  \\\n",
       "0                                 23.018622   \n",
       "1                                 23.024963   \n",
       "2                                 22.993827   \n",
       "3                                 23.032807   \n",
       "4                                 23.001911   \n",
       "\n",
       "   secondary_cleaner.state.floatbank4_a_level  \\\n",
       "0                                 -500.492702   \n",
       "1                                 -501.153409   \n",
       "2                                 -501.559663   \n",
       "3                                 -501.287889   \n",
       "4                                 -499.947838   \n",
       "\n",
       "   secondary_cleaner.state.floatbank4_b_air  \\\n",
       "0                                 20.020205   \n",
       "1                                 20.054122   \n",
       "2                                 20.029144   \n",
       "3                                 19.977466   \n",
       "4                                 20.023735   \n",
       "\n",
       "   secondary_cleaner.state.floatbank4_b_level  \\\n",
       "0                                 -500.220296   \n",
       "1                                 -500.314711   \n",
       "2                                 -500.000662   \n",
       "3                                 -500.159903   \n",
       "4                                 -499.713680   \n",
       "\n",
       "   secondary_cleaner.state.floatbank5_a_air  \\\n",
       "0                                 17.963512   \n",
       "1                                 17.979515   \n",
       "2                                 18.012723   \n",
       "3                                 17.980463   \n",
       "4                                 17.990955   \n",
       "\n",
       "   secondary_cleaner.state.floatbank5_a_level  \\\n",
       "0                                 -499.939490   \n",
       "1                                 -499.272871   \n",
       "2                                 -500.024764   \n",
       "3                                 -500.504602   \n",
       "4                                 -500.334769   \n",
       "\n",
       "   secondary_cleaner.state.floatbank5_b_air  \\\n",
       "0                                 12.990306   \n",
       "1                                 12.992404   \n",
       "2                                 13.016445   \n",
       "3                                 12.949071   \n",
       "4                                 13.007523   \n",
       "\n",
       "   secondary_cleaner.state.floatbank5_b_level  \\\n",
       "0                                 -500.080993   \n",
       "1                                 -499.976268   \n",
       "2                                 -500.058432   \n",
       "3                                 -500.009937   \n",
       "4                                 -499.968459   \n",
       "\n",
       "   secondary_cleaner.state.floatbank6_a_air  \\\n",
       "0                                 19.990336   \n",
       "1                                 20.013986   \n",
       "2                                 19.973767   \n",
       "3                                 20.010332   \n",
       "4                                 19.995999   \n",
       "\n",
       "   secondary_cleaner.state.floatbank6_a_level  \n",
       "0                                 -499.191575  \n",
       "1                                 -500.625471  \n",
       "2                                 -501.394155  \n",
       "3                                 -508.337973  \n",
       "4                                 -499.788805  "
      ]
     },
     "metadata": {},
     "output_type": "display_data"
    }
   ],
   "source": [
    "display(data_test.head())"
   ]
  },
  {
   "cell_type": "markdown",
   "metadata": {},
   "source": [
    "Все столбцы, кроме 'date', имеют тип данных float64. Заменим тип данных столбца 'date' с object на datetime"
   ]
  },
  {
   "cell_type": "code",
   "execution_count": 10,
   "metadata": {},
   "outputs": [],
   "source": [
    "# меняем тип данных object на datetime в столбце 'date'\n",
    "data_train['date'] = pd.to_datetime(data_train['date'], format='%Y-%m-%dT%H:%M:%S')\n",
    "data_test['date'] = pd.to_datetime(data_test['date'], format='%Y-%m-%dT%H:%M:%S')\n",
    "data_full['date'] = pd.to_datetime(data_full['date'], format='%Y-%m-%dT%H:%M:%S')"
   ]
  },
  {
   "cell_type": "code",
   "execution_count": 11,
   "metadata": {},
   "outputs": [
    {
     "data": {
      "text/html": [
       "<div>\n",
       "<style scoped>\n",
       "    .dataframe tbody tr th:only-of-type {\n",
       "        vertical-align: middle;\n",
       "    }\n",
       "\n",
       "    .dataframe tbody tr th {\n",
       "        vertical-align: top;\n",
       "    }\n",
       "\n",
       "    .dataframe thead th {\n",
       "        text-align: right;\n",
       "    }\n",
       "</style>\n",
       "<table border=\"1\" class=\"dataframe\">\n",
       "  <thead>\n",
       "    <tr style=\"text-align: right;\">\n",
       "      <th></th>\n",
       "      <th>date</th>\n",
       "      <th>rougher.input.feed_au</th>\n",
       "      <th>rougher.input.feed_ag</th>\n",
       "      <th>rougher.input.feed_pb</th>\n",
       "      <th>rougher.input.feed_sol</th>\n",
       "      <th>rougher.input.feed_rate</th>\n",
       "      <th>rougher.input.feed_size</th>\n",
       "      <th>rougher.input.floatbank10_sulfate</th>\n",
       "      <th>rougher.input.floatbank10_xanthate</th>\n",
       "      <th>rougher.state.floatbank10_a_air</th>\n",
       "      <th>rougher.state.floatbank10_a_level</th>\n",
       "      <th>rougher.state.floatbank10_b_air</th>\n",
       "      <th>rougher.state.floatbank10_b_level</th>\n",
       "      <th>rougher.state.floatbank10_c_air</th>\n",
       "      <th>rougher.state.floatbank10_c_level</th>\n",
       "      <th>rougher.state.floatbank10_d_air</th>\n",
       "      <th>rougher.state.floatbank10_d_level</th>\n",
       "      <th>rougher.state.floatbank10_e_air</th>\n",
       "      <th>rougher.state.floatbank10_e_level</th>\n",
       "      <th>rougher.state.floatbank10_f_air</th>\n",
       "      <th>rougher.state.floatbank10_f_level</th>\n",
       "      <th>rougher.input.floatbank11_sulfate</th>\n",
       "      <th>rougher.input.floatbank11_xanthate</th>\n",
       "      <th>rougher.calculation.sulfate_to_au_concentrate</th>\n",
       "      <th>rougher.calculation.floatbank10_sulfate_to_au_feed</th>\n",
       "      <th>rougher.calculation.floatbank11_sulfate_to_au_feed</th>\n",
       "      <th>rougher.calculation.au_pb_ratio</th>\n",
       "      <th>rougher.output.concentrate_au</th>\n",
       "      <th>rougher.output.concentrate_ag</th>\n",
       "      <th>rougher.output.concentrate_pb</th>\n",
       "      <th>rougher.output.concentrate_sol</th>\n",
       "      <th>rougher.output.recovery</th>\n",
       "      <th>rougher.output.tail_au</th>\n",
       "      <th>rougher.output.tail_ag</th>\n",
       "      <th>rougher.output.tail_pb</th>\n",
       "      <th>rougher.output.tail_sol</th>\n",
       "      <th>primary_cleaner.input.sulfate</th>\n",
       "      <th>primary_cleaner.input.depressant</th>\n",
       "      <th>primary_cleaner.input.feed_size</th>\n",
       "      <th>primary_cleaner.input.xanthate</th>\n",
       "      <th>primary_cleaner.state.floatbank8_a_air</th>\n",
       "      <th>primary_cleaner.state.floatbank8_a_level</th>\n",
       "      <th>primary_cleaner.state.floatbank8_b_air</th>\n",
       "      <th>primary_cleaner.state.floatbank8_b_level</th>\n",
       "      <th>primary_cleaner.state.floatbank8_c_air</th>\n",
       "      <th>primary_cleaner.state.floatbank8_c_level</th>\n",
       "      <th>primary_cleaner.state.floatbank8_d_air</th>\n",
       "      <th>primary_cleaner.state.floatbank8_d_level</th>\n",
       "      <th>primary_cleaner.output.concentrate_au</th>\n",
       "      <th>primary_cleaner.output.concentrate_ag</th>\n",
       "      <th>primary_cleaner.output.concentrate_pb</th>\n",
       "      <th>primary_cleaner.output.concentrate_sol</th>\n",
       "      <th>primary_cleaner.output.tail_au</th>\n",
       "      <th>primary_cleaner.output.tail_ag</th>\n",
       "      <th>primary_cleaner.output.tail_pb</th>\n",
       "      <th>primary_cleaner.output.tail_sol</th>\n",
       "      <th>secondary_cleaner.state.floatbank2_a_air</th>\n",
       "      <th>secondary_cleaner.state.floatbank2_a_level</th>\n",
       "      <th>secondary_cleaner.state.floatbank2_b_air</th>\n",
       "      <th>secondary_cleaner.state.floatbank2_b_level</th>\n",
       "      <th>secondary_cleaner.state.floatbank3_a_air</th>\n",
       "      <th>secondary_cleaner.state.floatbank3_a_level</th>\n",
       "      <th>secondary_cleaner.state.floatbank3_b_air</th>\n",
       "      <th>secondary_cleaner.state.floatbank3_b_level</th>\n",
       "      <th>secondary_cleaner.state.floatbank4_a_air</th>\n",
       "      <th>secondary_cleaner.state.floatbank4_a_level</th>\n",
       "      <th>secondary_cleaner.state.floatbank4_b_air</th>\n",
       "      <th>secondary_cleaner.state.floatbank4_b_level</th>\n",
       "      <th>secondary_cleaner.state.floatbank5_a_air</th>\n",
       "      <th>secondary_cleaner.state.floatbank5_a_level</th>\n",
       "      <th>secondary_cleaner.state.floatbank5_b_air</th>\n",
       "      <th>secondary_cleaner.state.floatbank5_b_level</th>\n",
       "      <th>secondary_cleaner.state.floatbank6_a_air</th>\n",
       "      <th>secondary_cleaner.state.floatbank6_a_level</th>\n",
       "      <th>secondary_cleaner.output.tail_au</th>\n",
       "      <th>secondary_cleaner.output.tail_ag</th>\n",
       "      <th>secondary_cleaner.output.tail_pb</th>\n",
       "      <th>secondary_cleaner.output.tail_sol</th>\n",
       "      <th>final.output.concentrate_au</th>\n",
       "      <th>final.output.concentrate_ag</th>\n",
       "      <th>final.output.concentrate_pb</th>\n",
       "      <th>final.output.concentrate_sol</th>\n",
       "      <th>final.output.recovery</th>\n",
       "      <th>final.output.tail_au</th>\n",
       "      <th>final.output.tail_ag</th>\n",
       "      <th>final.output.tail_pb</th>\n",
       "      <th>final.output.tail_sol</th>\n",
       "    </tr>\n",
       "  </thead>\n",
       "  <tbody>\n",
       "    <tr>\n",
       "      <th>0</th>\n",
       "      <td>2016-01-15 00:00:00</td>\n",
       "      <td>6.486150</td>\n",
       "      <td>6.100378</td>\n",
       "      <td>2.284912</td>\n",
       "      <td>36.808594</td>\n",
       "      <td>523.546326</td>\n",
       "      <td>55.486599</td>\n",
       "      <td>11.986616</td>\n",
       "      <td>6.007990</td>\n",
       "      <td>999.706909</td>\n",
       "      <td>-404.066986</td>\n",
       "      <td>1603.011353</td>\n",
       "      <td>-434.715027</td>\n",
       "      <td>1602.375000</td>\n",
       "      <td>-442.204468</td>\n",
       "      <td>1598.937256</td>\n",
       "      <td>-451.294128</td>\n",
       "      <td>1404.472046</td>\n",
       "      <td>-455.462982</td>\n",
       "      <td>1416.354980</td>\n",
       "      <td>-451.939636</td>\n",
       "      <td>11.836743</td>\n",
       "      <td>6.005818</td>\n",
       "      <td>41885.707031</td>\n",
       "      <td>3481.779053</td>\n",
       "      <td>3520.337158</td>\n",
       "      <td>2.838687</td>\n",
       "      <td>19.793808</td>\n",
       "      <td>11.500771</td>\n",
       "      <td>7.101074</td>\n",
       "      <td>28.029297</td>\n",
       "      <td>87.107763</td>\n",
       "      <td>1.170244</td>\n",
       "      <td>5.008018</td>\n",
       "      <td>0.508728</td>\n",
       "      <td>19.154297</td>\n",
       "      <td>127.092003</td>\n",
       "      <td>10.128295</td>\n",
       "      <td>7.25</td>\n",
       "      <td>0.988759</td>\n",
       "      <td>1549.775757</td>\n",
       "      <td>-498.912140</td>\n",
       "      <td>1551.434204</td>\n",
       "      <td>-516.403442</td>\n",
       "      <td>1549.873901</td>\n",
       "      <td>-498.666595</td>\n",
       "      <td>1554.367432</td>\n",
       "      <td>-493.428131</td>\n",
       "      <td>34.174427</td>\n",
       "      <td>8.547551</td>\n",
       "      <td>10.389648</td>\n",
       "      <td>19.529297</td>\n",
       "      <td>2.106679</td>\n",
       "      <td>14.936526</td>\n",
       "      <td>2.534912</td>\n",
       "      <td>7.476074</td>\n",
       "      <td>25.853109</td>\n",
       "      <td>-498.526489</td>\n",
       "      <td>23.893660</td>\n",
       "      <td>-501.406281</td>\n",
       "      <td>23.961798</td>\n",
       "      <td>-495.262817</td>\n",
       "      <td>21.940409</td>\n",
       "      <td>-499.340973</td>\n",
       "      <td>14.016835</td>\n",
       "      <td>-502.488007</td>\n",
       "      <td>12.099931</td>\n",
       "      <td>-504.715942</td>\n",
       "      <td>9.925633</td>\n",
       "      <td>-498.310211</td>\n",
       "      <td>8.079666</td>\n",
       "      <td>-500.470978</td>\n",
       "      <td>14.151341</td>\n",
       "      <td>-605.841980</td>\n",
       "      <td>2.606185</td>\n",
       "      <td>14.500184</td>\n",
       "      <td>4.694824</td>\n",
       "      <td>8.764648</td>\n",
       "      <td>42.192020</td>\n",
       "      <td>6.055403</td>\n",
       "      <td>9.889648</td>\n",
       "      <td>5.507324</td>\n",
       "      <td>70.541216</td>\n",
       "      <td>2.143149</td>\n",
       "      <td>10.411962</td>\n",
       "      <td>0.895447</td>\n",
       "      <td>16.904297</td>\n",
       "    </tr>\n",
       "    <tr>\n",
       "      <th>1</th>\n",
       "      <td>2016-01-15 01:00:00</td>\n",
       "      <td>6.478583</td>\n",
       "      <td>6.161113</td>\n",
       "      <td>2.266033</td>\n",
       "      <td>35.753385</td>\n",
       "      <td>525.290581</td>\n",
       "      <td>57.278666</td>\n",
       "      <td>11.971193</td>\n",
       "      <td>6.005766</td>\n",
       "      <td>1000.286398</td>\n",
       "      <td>-400.065196</td>\n",
       "      <td>1600.754587</td>\n",
       "      <td>-449.953435</td>\n",
       "      <td>1600.479580</td>\n",
       "      <td>-449.830646</td>\n",
       "      <td>1600.527589</td>\n",
       "      <td>-449.953649</td>\n",
       "      <td>1399.227084</td>\n",
       "      <td>-450.869848</td>\n",
       "      <td>1399.719514</td>\n",
       "      <td>-450.119001</td>\n",
       "      <td>11.996163</td>\n",
       "      <td>6.012594</td>\n",
       "      <td>42050.861809</td>\n",
       "      <td>3498.370979</td>\n",
       "      <td>3489.981857</td>\n",
       "      <td>2.858998</td>\n",
       "      <td>20.050975</td>\n",
       "      <td>11.615865</td>\n",
       "      <td>7.278807</td>\n",
       "      <td>28.067063</td>\n",
       "      <td>86.843261</td>\n",
       "      <td>1.184827</td>\n",
       "      <td>4.955378</td>\n",
       "      <td>0.536689</td>\n",
       "      <td>18.965234</td>\n",
       "      <td>125.629232</td>\n",
       "      <td>10.296251</td>\n",
       "      <td>7.25</td>\n",
       "      <td>1.002663</td>\n",
       "      <td>1576.166671</td>\n",
       "      <td>-500.904965</td>\n",
       "      <td>1575.950626</td>\n",
       "      <td>-499.865889</td>\n",
       "      <td>1575.994189</td>\n",
       "      <td>-499.315107</td>\n",
       "      <td>1574.479259</td>\n",
       "      <td>-498.931665</td>\n",
       "      <td>34.118526</td>\n",
       "      <td>8.558743</td>\n",
       "      <td>10.497069</td>\n",
       "      <td>19.369147</td>\n",
       "      <td>2.353017</td>\n",
       "      <td>16.250511</td>\n",
       "      <td>3.049646</td>\n",
       "      <td>6.733907</td>\n",
       "      <td>25.880539</td>\n",
       "      <td>-499.989656</td>\n",
       "      <td>23.889530</td>\n",
       "      <td>-500.372428</td>\n",
       "      <td>23.970550</td>\n",
       "      <td>-500.085473</td>\n",
       "      <td>22.085714</td>\n",
       "      <td>-499.446897</td>\n",
       "      <td>13.992281</td>\n",
       "      <td>-505.503262</td>\n",
       "      <td>11.950531</td>\n",
       "      <td>-501.331529</td>\n",
       "      <td>10.039245</td>\n",
       "      <td>-500.169983</td>\n",
       "      <td>7.984757</td>\n",
       "      <td>-500.582168</td>\n",
       "      <td>13.998353</td>\n",
       "      <td>-599.787184</td>\n",
       "      <td>2.488248</td>\n",
       "      <td>14.265474</td>\n",
       "      <td>4.592547</td>\n",
       "      <td>9.001494</td>\n",
       "      <td>42.701629</td>\n",
       "      <td>6.029369</td>\n",
       "      <td>9.968944</td>\n",
       "      <td>5.257781</td>\n",
       "      <td>69.266198</td>\n",
       "      <td>2.224930</td>\n",
       "      <td>10.462676</td>\n",
       "      <td>0.927452</td>\n",
       "      <td>16.634514</td>\n",
       "    </tr>\n",
       "    <tr>\n",
       "      <th>2</th>\n",
       "      <td>2016-01-15 02:00:00</td>\n",
       "      <td>6.362222</td>\n",
       "      <td>6.116455</td>\n",
       "      <td>2.159622</td>\n",
       "      <td>35.971630</td>\n",
       "      <td>530.026610</td>\n",
       "      <td>57.510649</td>\n",
       "      <td>11.920603</td>\n",
       "      <td>6.197377</td>\n",
       "      <td>999.719565</td>\n",
       "      <td>-400.074028</td>\n",
       "      <td>1599.337330</td>\n",
       "      <td>-450.008530</td>\n",
       "      <td>1599.672797</td>\n",
       "      <td>-449.954491</td>\n",
       "      <td>1599.849325</td>\n",
       "      <td>-449.954185</td>\n",
       "      <td>1399.180945</td>\n",
       "      <td>-449.937588</td>\n",
       "      <td>1400.316682</td>\n",
       "      <td>-450.527147</td>\n",
       "      <td>11.920305</td>\n",
       "      <td>6.204633</td>\n",
       "      <td>42018.101184</td>\n",
       "      <td>3495.348910</td>\n",
       "      <td>3502.359819</td>\n",
       "      <td>2.945989</td>\n",
       "      <td>19.737170</td>\n",
       "      <td>11.695753</td>\n",
       "      <td>7.216833</td>\n",
       "      <td>27.454037</td>\n",
       "      <td>86.842308</td>\n",
       "      <td>1.162562</td>\n",
       "      <td>4.843460</td>\n",
       "      <td>0.546416</td>\n",
       "      <td>18.808533</td>\n",
       "      <td>123.819808</td>\n",
       "      <td>11.316280</td>\n",
       "      <td>7.25</td>\n",
       "      <td>0.991265</td>\n",
       "      <td>1601.556163</td>\n",
       "      <td>-499.997791</td>\n",
       "      <td>1600.386685</td>\n",
       "      <td>-500.607762</td>\n",
       "      <td>1602.003542</td>\n",
       "      <td>-500.870069</td>\n",
       "      <td>1599.541515</td>\n",
       "      <td>-499.827444</td>\n",
       "      <td>33.969464</td>\n",
       "      <td>8.603505</td>\n",
       "      <td>10.354494</td>\n",
       "      <td>19.167579</td>\n",
       "      <td>2.416800</td>\n",
       "      <td>16.491823</td>\n",
       "      <td>3.124664</td>\n",
       "      <td>6.471768</td>\n",
       "      <td>26.005245</td>\n",
       "      <td>-499.929616</td>\n",
       "      <td>23.886657</td>\n",
       "      <td>-499.951928</td>\n",
       "      <td>23.913535</td>\n",
       "      <td>-499.442343</td>\n",
       "      <td>23.957717</td>\n",
       "      <td>-499.901982</td>\n",
       "      <td>14.015015</td>\n",
       "      <td>-502.520901</td>\n",
       "      <td>11.912783</td>\n",
       "      <td>-501.133383</td>\n",
       "      <td>10.070913</td>\n",
       "      <td>-500.129135</td>\n",
       "      <td>8.013877</td>\n",
       "      <td>-500.517572</td>\n",
       "      <td>14.028663</td>\n",
       "      <td>-601.427363</td>\n",
       "      <td>2.458187</td>\n",
       "      <td>14.115662</td>\n",
       "      <td>4.624775</td>\n",
       "      <td>8.842896</td>\n",
       "      <td>42.657501</td>\n",
       "      <td>6.055926</td>\n",
       "      <td>10.213995</td>\n",
       "      <td>5.383759</td>\n",
       "      <td>68.116445</td>\n",
       "      <td>2.257889</td>\n",
       "      <td>10.507046</td>\n",
       "      <td>0.953716</td>\n",
       "      <td>16.208849</td>\n",
       "    </tr>\n",
       "    <tr>\n",
       "      <th>3</th>\n",
       "      <td>2016-01-15 03:00:00</td>\n",
       "      <td>6.118189</td>\n",
       "      <td>6.043309</td>\n",
       "      <td>2.037807</td>\n",
       "      <td>36.862241</td>\n",
       "      <td>542.590390</td>\n",
       "      <td>57.792734</td>\n",
       "      <td>11.630094</td>\n",
       "      <td>6.203177</td>\n",
       "      <td>999.814770</td>\n",
       "      <td>-400.200179</td>\n",
       "      <td>1600.059442</td>\n",
       "      <td>-450.619948</td>\n",
       "      <td>1600.012842</td>\n",
       "      <td>-449.910497</td>\n",
       "      <td>1597.725177</td>\n",
       "      <td>-450.130127</td>\n",
       "      <td>1400.943157</td>\n",
       "      <td>-450.030142</td>\n",
       "      <td>1400.234743</td>\n",
       "      <td>-449.790835</td>\n",
       "      <td>11.692450</td>\n",
       "      <td>6.196578</td>\n",
       "      <td>42029.447991</td>\n",
       "      <td>3498.578313</td>\n",
       "      <td>3499.162912</td>\n",
       "      <td>3.002340</td>\n",
       "      <td>19.320810</td>\n",
       "      <td>11.915047</td>\n",
       "      <td>7.175616</td>\n",
       "      <td>27.341277</td>\n",
       "      <td>87.226430</td>\n",
       "      <td>1.079755</td>\n",
       "      <td>4.655288</td>\n",
       "      <td>0.542525</td>\n",
       "      <td>19.330200</td>\n",
       "      <td>122.270188</td>\n",
       "      <td>11.322140</td>\n",
       "      <td>7.25</td>\n",
       "      <td>0.996739</td>\n",
       "      <td>1599.968720</td>\n",
       "      <td>-500.951778</td>\n",
       "      <td>1600.659236</td>\n",
       "      <td>-499.677094</td>\n",
       "      <td>1600.304144</td>\n",
       "      <td>-500.727997</td>\n",
       "      <td>1600.449520</td>\n",
       "      <td>-500.052575</td>\n",
       "      <td>28.260743</td>\n",
       "      <td>7.221879</td>\n",
       "      <td>8.496563</td>\n",
       "      <td>15.978538</td>\n",
       "      <td>2.262051</td>\n",
       "      <td>16.024359</td>\n",
       "      <td>2.960362</td>\n",
       "      <td>6.843791</td>\n",
       "      <td>25.942508</td>\n",
       "      <td>-499.176749</td>\n",
       "      <td>23.955516</td>\n",
       "      <td>-499.848796</td>\n",
       "      <td>23.966838</td>\n",
       "      <td>-500.008812</td>\n",
       "      <td>23.954443</td>\n",
       "      <td>-499.944710</td>\n",
       "      <td>14.036510</td>\n",
       "      <td>-500.857308</td>\n",
       "      <td>11.999550</td>\n",
       "      <td>-501.193686</td>\n",
       "      <td>9.970366</td>\n",
       "      <td>-499.201640</td>\n",
       "      <td>7.977324</td>\n",
       "      <td>-500.255908</td>\n",
       "      <td>14.005551</td>\n",
       "      <td>-599.996129</td>\n",
       "      <td>2.322062</td>\n",
       "      <td>13.732071</td>\n",
       "      <td>4.482453</td>\n",
       "      <td>9.122857</td>\n",
       "      <td>42.689819</td>\n",
       "      <td>6.047977</td>\n",
       "      <td>9.977019</td>\n",
       "      <td>4.858634</td>\n",
       "      <td>68.347543</td>\n",
       "      <td>2.146849</td>\n",
       "      <td>10.422762</td>\n",
       "      <td>0.883763</td>\n",
       "      <td>16.532835</td>\n",
       "    </tr>\n",
       "    <tr>\n",
       "      <th>4</th>\n",
       "      <td>2016-01-15 04:00:00</td>\n",
       "      <td>5.663707</td>\n",
       "      <td>6.060915</td>\n",
       "      <td>1.786875</td>\n",
       "      <td>34.347666</td>\n",
       "      <td>540.531893</td>\n",
       "      <td>56.047189</td>\n",
       "      <td>10.957755</td>\n",
       "      <td>6.198826</td>\n",
       "      <td>999.678690</td>\n",
       "      <td>-399.752729</td>\n",
       "      <td>1600.208824</td>\n",
       "      <td>-449.599614</td>\n",
       "      <td>1600.357732</td>\n",
       "      <td>-450.034364</td>\n",
       "      <td>1599.759049</td>\n",
       "      <td>-449.909799</td>\n",
       "      <td>1401.560902</td>\n",
       "      <td>-448.877187</td>\n",
       "      <td>1401.160227</td>\n",
       "      <td>-450.407128</td>\n",
       "      <td>10.960521</td>\n",
       "      <td>6.194897</td>\n",
       "      <td>42125.354245</td>\n",
       "      <td>3494.800771</td>\n",
       "      <td>3506.679315</td>\n",
       "      <td>3.169615</td>\n",
       "      <td>19.216101</td>\n",
       "      <td>12.411054</td>\n",
       "      <td>7.240205</td>\n",
       "      <td>27.041023</td>\n",
       "      <td>86.688794</td>\n",
       "      <td>1.012642</td>\n",
       "      <td>4.552800</td>\n",
       "      <td>0.515438</td>\n",
       "      <td>19.267422</td>\n",
       "      <td>117.988169</td>\n",
       "      <td>11.913613</td>\n",
       "      <td>7.25</td>\n",
       "      <td>1.009869</td>\n",
       "      <td>1601.339707</td>\n",
       "      <td>-498.975456</td>\n",
       "      <td>1601.437854</td>\n",
       "      <td>-500.323246</td>\n",
       "      <td>1599.581894</td>\n",
       "      <td>-500.888152</td>\n",
       "      <td>1602.649541</td>\n",
       "      <td>-500.593010</td>\n",
       "      <td>33.044932</td>\n",
       "      <td>9.089428</td>\n",
       "      <td>9.986786</td>\n",
       "      <td>19.199864</td>\n",
       "      <td>2.277073</td>\n",
       "      <td>16.480185</td>\n",
       "      <td>3.112100</td>\n",
       "      <td>6.550154</td>\n",
       "      <td>26.024787</td>\n",
       "      <td>-500.279091</td>\n",
       "      <td>23.955345</td>\n",
       "      <td>-500.593614</td>\n",
       "      <td>23.985703</td>\n",
       "      <td>-500.083811</td>\n",
       "      <td>23.958945</td>\n",
       "      <td>-499.990309</td>\n",
       "      <td>14.027298</td>\n",
       "      <td>-499.838632</td>\n",
       "      <td>11.953070</td>\n",
       "      <td>-501.053894</td>\n",
       "      <td>9.925709</td>\n",
       "      <td>-501.686727</td>\n",
       "      <td>7.894242</td>\n",
       "      <td>-500.356035</td>\n",
       "      <td>13.996647</td>\n",
       "      <td>-601.496691</td>\n",
       "      <td>2.330448</td>\n",
       "      <td>14.079996</td>\n",
       "      <td>4.470737</td>\n",
       "      <td>8.871028</td>\n",
       "      <td>42.774141</td>\n",
       "      <td>6.148599</td>\n",
       "      <td>10.142511</td>\n",
       "      <td>4.939416</td>\n",
       "      <td>66.927016</td>\n",
       "      <td>2.055292</td>\n",
       "      <td>10.360302</td>\n",
       "      <td>0.792826</td>\n",
       "      <td>16.525686</td>\n",
       "    </tr>\n",
       "  </tbody>\n",
       "</table>\n",
       "</div>"
      ],
      "text/plain": [
       "                 date  rougher.input.feed_au  rougher.input.feed_ag  \\\n",
       "0 2016-01-15 00:00:00               6.486150               6.100378   \n",
       "1 2016-01-15 01:00:00               6.478583               6.161113   \n",
       "2 2016-01-15 02:00:00               6.362222               6.116455   \n",
       "3 2016-01-15 03:00:00               6.118189               6.043309   \n",
       "4 2016-01-15 04:00:00               5.663707               6.060915   \n",
       "\n",
       "   rougher.input.feed_pb  rougher.input.feed_sol  rougher.input.feed_rate  \\\n",
       "0               2.284912               36.808594               523.546326   \n",
       "1               2.266033               35.753385               525.290581   \n",
       "2               2.159622               35.971630               530.026610   \n",
       "3               2.037807               36.862241               542.590390   \n",
       "4               1.786875               34.347666               540.531893   \n",
       "\n",
       "   rougher.input.feed_size  rougher.input.floatbank10_sulfate  \\\n",
       "0                55.486599                          11.986616   \n",
       "1                57.278666                          11.971193   \n",
       "2                57.510649                          11.920603   \n",
       "3                57.792734                          11.630094   \n",
       "4                56.047189                          10.957755   \n",
       "\n",
       "   rougher.input.floatbank10_xanthate  rougher.state.floatbank10_a_air  \\\n",
       "0                            6.007990                       999.706909   \n",
       "1                            6.005766                      1000.286398   \n",
       "2                            6.197377                       999.719565   \n",
       "3                            6.203177                       999.814770   \n",
       "4                            6.198826                       999.678690   \n",
       "\n",
       "   rougher.state.floatbank10_a_level  rougher.state.floatbank10_b_air  \\\n",
       "0                        -404.066986                      1603.011353   \n",
       "1                        -400.065196                      1600.754587   \n",
       "2                        -400.074028                      1599.337330   \n",
       "3                        -400.200179                      1600.059442   \n",
       "4                        -399.752729                      1600.208824   \n",
       "\n",
       "   rougher.state.floatbank10_b_level  rougher.state.floatbank10_c_air  \\\n",
       "0                        -434.715027                      1602.375000   \n",
       "1                        -449.953435                      1600.479580   \n",
       "2                        -450.008530                      1599.672797   \n",
       "3                        -450.619948                      1600.012842   \n",
       "4                        -449.599614                      1600.357732   \n",
       "\n",
       "   rougher.state.floatbank10_c_level  rougher.state.floatbank10_d_air  \\\n",
       "0                        -442.204468                      1598.937256   \n",
       "1                        -449.830646                      1600.527589   \n",
       "2                        -449.954491                      1599.849325   \n",
       "3                        -449.910497                      1597.725177   \n",
       "4                        -450.034364                      1599.759049   \n",
       "\n",
       "   rougher.state.floatbank10_d_level  rougher.state.floatbank10_e_air  \\\n",
       "0                        -451.294128                      1404.472046   \n",
       "1                        -449.953649                      1399.227084   \n",
       "2                        -449.954185                      1399.180945   \n",
       "3                        -450.130127                      1400.943157   \n",
       "4                        -449.909799                      1401.560902   \n",
       "\n",
       "   rougher.state.floatbank10_e_level  rougher.state.floatbank10_f_air  \\\n",
       "0                        -455.462982                      1416.354980   \n",
       "1                        -450.869848                      1399.719514   \n",
       "2                        -449.937588                      1400.316682   \n",
       "3                        -450.030142                      1400.234743   \n",
       "4                        -448.877187                      1401.160227   \n",
       "\n",
       "   rougher.state.floatbank10_f_level  rougher.input.floatbank11_sulfate  \\\n",
       "0                        -451.939636                          11.836743   \n",
       "1                        -450.119001                          11.996163   \n",
       "2                        -450.527147                          11.920305   \n",
       "3                        -449.790835                          11.692450   \n",
       "4                        -450.407128                          10.960521   \n",
       "\n",
       "   rougher.input.floatbank11_xanthate  \\\n",
       "0                            6.005818   \n",
       "1                            6.012594   \n",
       "2                            6.204633   \n",
       "3                            6.196578   \n",
       "4                            6.194897   \n",
       "\n",
       "   rougher.calculation.sulfate_to_au_concentrate  \\\n",
       "0                                   41885.707031   \n",
       "1                                   42050.861809   \n",
       "2                                   42018.101184   \n",
       "3                                   42029.447991   \n",
       "4                                   42125.354245   \n",
       "\n",
       "   rougher.calculation.floatbank10_sulfate_to_au_feed  \\\n",
       "0                                        3481.779053    \n",
       "1                                        3498.370979    \n",
       "2                                        3495.348910    \n",
       "3                                        3498.578313    \n",
       "4                                        3494.800771    \n",
       "\n",
       "   rougher.calculation.floatbank11_sulfate_to_au_feed  \\\n",
       "0                                        3520.337158    \n",
       "1                                        3489.981857    \n",
       "2                                        3502.359819    \n",
       "3                                        3499.162912    \n",
       "4                                        3506.679315    \n",
       "\n",
       "   rougher.calculation.au_pb_ratio  rougher.output.concentrate_au  \\\n",
       "0                         2.838687                      19.793808   \n",
       "1                         2.858998                      20.050975   \n",
       "2                         2.945989                      19.737170   \n",
       "3                         3.002340                      19.320810   \n",
       "4                         3.169615                      19.216101   \n",
       "\n",
       "   rougher.output.concentrate_ag  rougher.output.concentrate_pb  \\\n",
       "0                      11.500771                       7.101074   \n",
       "1                      11.615865                       7.278807   \n",
       "2                      11.695753                       7.216833   \n",
       "3                      11.915047                       7.175616   \n",
       "4                      12.411054                       7.240205   \n",
       "\n",
       "   rougher.output.concentrate_sol  rougher.output.recovery  \\\n",
       "0                       28.029297                87.107763   \n",
       "1                       28.067063                86.843261   \n",
       "2                       27.454037                86.842308   \n",
       "3                       27.341277                87.226430   \n",
       "4                       27.041023                86.688794   \n",
       "\n",
       "   rougher.output.tail_au  rougher.output.tail_ag  rougher.output.tail_pb  \\\n",
       "0                1.170244                5.008018                0.508728   \n",
       "1                1.184827                4.955378                0.536689   \n",
       "2                1.162562                4.843460                0.546416   \n",
       "3                1.079755                4.655288                0.542525   \n",
       "4                1.012642                4.552800                0.515438   \n",
       "\n",
       "   rougher.output.tail_sol  primary_cleaner.input.sulfate  \\\n",
       "0                19.154297                     127.092003   \n",
       "1                18.965234                     125.629232   \n",
       "2                18.808533                     123.819808   \n",
       "3                19.330200                     122.270188   \n",
       "4                19.267422                     117.988169   \n",
       "\n",
       "   primary_cleaner.input.depressant  primary_cleaner.input.feed_size  \\\n",
       "0                         10.128295                             7.25   \n",
       "1                         10.296251                             7.25   \n",
       "2                         11.316280                             7.25   \n",
       "3                         11.322140                             7.25   \n",
       "4                         11.913613                             7.25   \n",
       "\n",
       "   primary_cleaner.input.xanthate  primary_cleaner.state.floatbank8_a_air  \\\n",
       "0                        0.988759                             1549.775757   \n",
       "1                        1.002663                             1576.166671   \n",
       "2                        0.991265                             1601.556163   \n",
       "3                        0.996739                             1599.968720   \n",
       "4                        1.009869                             1601.339707   \n",
       "\n",
       "   primary_cleaner.state.floatbank8_a_level  \\\n",
       "0                               -498.912140   \n",
       "1                               -500.904965   \n",
       "2                               -499.997791   \n",
       "3                               -500.951778   \n",
       "4                               -498.975456   \n",
       "\n",
       "   primary_cleaner.state.floatbank8_b_air  \\\n",
       "0                             1551.434204   \n",
       "1                             1575.950626   \n",
       "2                             1600.386685   \n",
       "3                             1600.659236   \n",
       "4                             1601.437854   \n",
       "\n",
       "   primary_cleaner.state.floatbank8_b_level  \\\n",
       "0                               -516.403442   \n",
       "1                               -499.865889   \n",
       "2                               -500.607762   \n",
       "3                               -499.677094   \n",
       "4                               -500.323246   \n",
       "\n",
       "   primary_cleaner.state.floatbank8_c_air  \\\n",
       "0                             1549.873901   \n",
       "1                             1575.994189   \n",
       "2                             1602.003542   \n",
       "3                             1600.304144   \n",
       "4                             1599.581894   \n",
       "\n",
       "   primary_cleaner.state.floatbank8_c_level  \\\n",
       "0                               -498.666595   \n",
       "1                               -499.315107   \n",
       "2                               -500.870069   \n",
       "3                               -500.727997   \n",
       "4                               -500.888152   \n",
       "\n",
       "   primary_cleaner.state.floatbank8_d_air  \\\n",
       "0                             1554.367432   \n",
       "1                             1574.479259   \n",
       "2                             1599.541515   \n",
       "3                             1600.449520   \n",
       "4                             1602.649541   \n",
       "\n",
       "   primary_cleaner.state.floatbank8_d_level  \\\n",
       "0                               -493.428131   \n",
       "1                               -498.931665   \n",
       "2                               -499.827444   \n",
       "3                               -500.052575   \n",
       "4                               -500.593010   \n",
       "\n",
       "   primary_cleaner.output.concentrate_au  \\\n",
       "0                              34.174427   \n",
       "1                              34.118526   \n",
       "2                              33.969464   \n",
       "3                              28.260743   \n",
       "4                              33.044932   \n",
       "\n",
       "   primary_cleaner.output.concentrate_ag  \\\n",
       "0                               8.547551   \n",
       "1                               8.558743   \n",
       "2                               8.603505   \n",
       "3                               7.221879   \n",
       "4                               9.089428   \n",
       "\n",
       "   primary_cleaner.output.concentrate_pb  \\\n",
       "0                              10.389648   \n",
       "1                              10.497069   \n",
       "2                              10.354494   \n",
       "3                               8.496563   \n",
       "4                               9.986786   \n",
       "\n",
       "   primary_cleaner.output.concentrate_sol  primary_cleaner.output.tail_au  \\\n",
       "0                               19.529297                        2.106679   \n",
       "1                               19.369147                        2.353017   \n",
       "2                               19.167579                        2.416800   \n",
       "3                               15.978538                        2.262051   \n",
       "4                               19.199864                        2.277073   \n",
       "\n",
       "   primary_cleaner.output.tail_ag  primary_cleaner.output.tail_pb  \\\n",
       "0                       14.936526                        2.534912   \n",
       "1                       16.250511                        3.049646   \n",
       "2                       16.491823                        3.124664   \n",
       "3                       16.024359                        2.960362   \n",
       "4                       16.480185                        3.112100   \n",
       "\n",
       "   primary_cleaner.output.tail_sol  secondary_cleaner.state.floatbank2_a_air  \\\n",
       "0                         7.476074                                 25.853109   \n",
       "1                         6.733907                                 25.880539   \n",
       "2                         6.471768                                 26.005245   \n",
       "3                         6.843791                                 25.942508   \n",
       "4                         6.550154                                 26.024787   \n",
       "\n",
       "   secondary_cleaner.state.floatbank2_a_level  \\\n",
       "0                                 -498.526489   \n",
       "1                                 -499.989656   \n",
       "2                                 -499.929616   \n",
       "3                                 -499.176749   \n",
       "4                                 -500.279091   \n",
       "\n",
       "   secondary_cleaner.state.floatbank2_b_air  \\\n",
       "0                                 23.893660   \n",
       "1                                 23.889530   \n",
       "2                                 23.886657   \n",
       "3                                 23.955516   \n",
       "4                                 23.955345   \n",
       "\n",
       "   secondary_cleaner.state.floatbank2_b_level  \\\n",
       "0                                 -501.406281   \n",
       "1                                 -500.372428   \n",
       "2                                 -499.951928   \n",
       "3                                 -499.848796   \n",
       "4                                 -500.593614   \n",
       "\n",
       "   secondary_cleaner.state.floatbank3_a_air  \\\n",
       "0                                 23.961798   \n",
       "1                                 23.970550   \n",
       "2                                 23.913535   \n",
       "3                                 23.966838   \n",
       "4                                 23.985703   \n",
       "\n",
       "   secondary_cleaner.state.floatbank3_a_level  \\\n",
       "0                                 -495.262817   \n",
       "1                                 -500.085473   \n",
       "2                                 -499.442343   \n",
       "3                                 -500.008812   \n",
       "4                                 -500.083811   \n",
       "\n",
       "   secondary_cleaner.state.floatbank3_b_air  \\\n",
       "0                                 21.940409   \n",
       "1                                 22.085714   \n",
       "2                                 23.957717   \n",
       "3                                 23.954443   \n",
       "4                                 23.958945   \n",
       "\n",
       "   secondary_cleaner.state.floatbank3_b_level  \\\n",
       "0                                 -499.340973   \n",
       "1                                 -499.446897   \n",
       "2                                 -499.901982   \n",
       "3                                 -499.944710   \n",
       "4                                 -499.990309   \n",
       "\n",
       "   secondary_cleaner.state.floatbank4_a_air  \\\n",
       "0                                 14.016835   \n",
       "1                                 13.992281   \n",
       "2                                 14.015015   \n",
       "3                                 14.036510   \n",
       "4                                 14.027298   \n",
       "\n",
       "   secondary_cleaner.state.floatbank4_a_level  \\\n",
       "0                                 -502.488007   \n",
       "1                                 -505.503262   \n",
       "2                                 -502.520901   \n",
       "3                                 -500.857308   \n",
       "4                                 -499.838632   \n",
       "\n",
       "   secondary_cleaner.state.floatbank4_b_air  \\\n",
       "0                                 12.099931   \n",
       "1                                 11.950531   \n",
       "2                                 11.912783   \n",
       "3                                 11.999550   \n",
       "4                                 11.953070   \n",
       "\n",
       "   secondary_cleaner.state.floatbank4_b_level  \\\n",
       "0                                 -504.715942   \n",
       "1                                 -501.331529   \n",
       "2                                 -501.133383   \n",
       "3                                 -501.193686   \n",
       "4                                 -501.053894   \n",
       "\n",
       "   secondary_cleaner.state.floatbank5_a_air  \\\n",
       "0                                  9.925633   \n",
       "1                                 10.039245   \n",
       "2                                 10.070913   \n",
       "3                                  9.970366   \n",
       "4                                  9.925709   \n",
       "\n",
       "   secondary_cleaner.state.floatbank5_a_level  \\\n",
       "0                                 -498.310211   \n",
       "1                                 -500.169983   \n",
       "2                                 -500.129135   \n",
       "3                                 -499.201640   \n",
       "4                                 -501.686727   \n",
       "\n",
       "   secondary_cleaner.state.floatbank5_b_air  \\\n",
       "0                                  8.079666   \n",
       "1                                  7.984757   \n",
       "2                                  8.013877   \n",
       "3                                  7.977324   \n",
       "4                                  7.894242   \n",
       "\n",
       "   secondary_cleaner.state.floatbank5_b_level  \\\n",
       "0                                 -500.470978   \n",
       "1                                 -500.582168   \n",
       "2                                 -500.517572   \n",
       "3                                 -500.255908   \n",
       "4                                 -500.356035   \n",
       "\n",
       "   secondary_cleaner.state.floatbank6_a_air  \\\n",
       "0                                 14.151341   \n",
       "1                                 13.998353   \n",
       "2                                 14.028663   \n",
       "3                                 14.005551   \n",
       "4                                 13.996647   \n",
       "\n",
       "   secondary_cleaner.state.floatbank6_a_level  \\\n",
       "0                                 -605.841980   \n",
       "1                                 -599.787184   \n",
       "2                                 -601.427363   \n",
       "3                                 -599.996129   \n",
       "4                                 -601.496691   \n",
       "\n",
       "   secondary_cleaner.output.tail_au  secondary_cleaner.output.tail_ag  \\\n",
       "0                          2.606185                         14.500184   \n",
       "1                          2.488248                         14.265474   \n",
       "2                          2.458187                         14.115662   \n",
       "3                          2.322062                         13.732071   \n",
       "4                          2.330448                         14.079996   \n",
       "\n",
       "   secondary_cleaner.output.tail_pb  secondary_cleaner.output.tail_sol  \\\n",
       "0                          4.694824                           8.764648   \n",
       "1                          4.592547                           9.001494   \n",
       "2                          4.624775                           8.842896   \n",
       "3                          4.482453                           9.122857   \n",
       "4                          4.470737                           8.871028   \n",
       "\n",
       "   final.output.concentrate_au  final.output.concentrate_ag  \\\n",
       "0                    42.192020                     6.055403   \n",
       "1                    42.701629                     6.029369   \n",
       "2                    42.657501                     6.055926   \n",
       "3                    42.689819                     6.047977   \n",
       "4                    42.774141                     6.148599   \n",
       "\n",
       "   final.output.concentrate_pb  final.output.concentrate_sol  \\\n",
       "0                     9.889648                      5.507324   \n",
       "1                     9.968944                      5.257781   \n",
       "2                    10.213995                      5.383759   \n",
       "3                     9.977019                      4.858634   \n",
       "4                    10.142511                      4.939416   \n",
       "\n",
       "   final.output.recovery  final.output.tail_au  final.output.tail_ag  \\\n",
       "0              70.541216              2.143149             10.411962   \n",
       "1              69.266198              2.224930             10.462676   \n",
       "2              68.116445              2.257889             10.507046   \n",
       "3              68.347543              2.146849             10.422762   \n",
       "4              66.927016              2.055292             10.360302   \n",
       "\n",
       "   final.output.tail_pb  final.output.tail_sol  \n",
       "0              0.895447              16.904297  \n",
       "1              0.927452              16.634514  \n",
       "2              0.953716              16.208849  \n",
       "3              0.883763              16.532835  \n",
       "4              0.792826              16.525686  "
      ]
     },
     "metadata": {},
     "output_type": "display_data"
    }
   ],
   "source": [
    "display(data_full.head())"
   ]
  },
  {
   "cell_type": "code",
   "execution_count": 12,
   "metadata": {},
   "outputs": [
    {
     "name": "stdout",
     "output_type": "stream",
     "text": [
      "Обучающая выборка\n",
      "secondary_cleaner.output.tail_sol           920\n",
      "rougher.state.floatbank10_e_air             429\n",
      "rougher.input.floatbank11_xanthate          407\n",
      "primary_cleaner.output.concentrate_sol      265\n",
      "final.output.concentrate_sol                192\n",
      "                                           ... \n",
      "primary_cleaner.state.floatbank8_c_air        0\n",
      "primary_cleaner.state.floatbank8_c_level      0\n",
      "primary_cleaner.state.floatbank8_d_level      0\n",
      "primary_cleaner.output.concentrate_au         0\n",
      "primary_cleaner.state.floatbank8_b_level      0\n",
      "Length: 87, dtype: int64\n",
      "\n",
      "Тестовая выборка\n",
      "secondary_cleaner.state.floatbank2_a_air      126\n",
      "rougher.input.floatbank11_xanthate             46\n",
      "rougher.input.feed_size                        44\n",
      "primary_cleaner.input.xanthate                 43\n",
      "rougher.input.feed_pb                          28\n",
      "rougher.input.feed_sol                         22\n",
      "primary_cleaner.input.depressant                9\n",
      "rougher.input.floatbank11_sulfate               8\n",
      "rougher.state.floatbank10_e_air                 7\n",
      "rougher.input.feed_rate                         4\n",
      "rougher.input.floatbank10_sulfate               3\n",
      "primary_cleaner.state.floatbank8_d_air          2\n",
      "primary_cleaner.state.floatbank8_c_air          2\n",
      "primary_cleaner.state.floatbank8_d_level        1\n",
      "secondary_cleaner.state.floatbank3_a_level      1\n",
      "secondary_cleaner.state.floatbank2_a_level      1\n",
      "secondary_cleaner.state.floatbank2_b_air        1\n",
      "secondary_cleaner.state.floatbank2_b_level      1\n",
      "secondary_cleaner.state.floatbank3_a_air        1\n",
      "secondary_cleaner.state.floatbank4_a_air        1\n",
      "secondary_cleaner.state.floatbank3_b_air        1\n",
      "secondary_cleaner.state.floatbank3_b_level      1\n",
      "secondary_cleaner.state.floatbank4_a_level      1\n",
      "secondary_cleaner.state.floatbank4_b_air        1\n",
      "secondary_cleaner.state.floatbank4_b_level      1\n",
      "secondary_cleaner.state.floatbank5_a_air        1\n",
      "secondary_cleaner.state.floatbank5_a_level      1\n",
      "secondary_cleaner.state.floatbank5_b_air        1\n",
      "secondary_cleaner.state.floatbank5_b_level      1\n",
      "secondary_cleaner.state.floatbank6_a_air        1\n",
      "primary_cleaner.state.floatbank8_c_level        1\n",
      "secondary_cleaner.state.floatbank6_a_level      1\n",
      "primary_cleaner.state.floatbank8_b_level        1\n",
      "rougher.state.floatbank10_c_air                 1\n",
      "primary_cleaner.state.floatbank8_a_level        1\n",
      "primary_cleaner.state.floatbank8_a_air          1\n",
      "rougher.input.floatbank10_xanthate              1\n",
      "primary_cleaner.input.sulfate                   1\n",
      "rougher.state.floatbank10_a_air                 1\n",
      "rougher.state.floatbank10_a_level               1\n",
      "rougher.state.floatbank10_b_air                 1\n",
      "primary_cleaner.state.floatbank8_b_air          1\n",
      "rougher.state.floatbank10_b_level               1\n",
      "rougher.state.floatbank10_c_level               1\n",
      "rougher.input.feed_ag                           0\n",
      "rougher.state.floatbank10_d_level               0\n",
      "rougher.state.floatbank10_d_air                 0\n",
      "rougher.state.floatbank10_e_level               0\n",
      "rougher.state.floatbank10_f_air                 0\n",
      "rougher.state.floatbank10_f_level               0\n",
      "primary_cleaner.input.feed_size                 0\n",
      "rougher.input.feed_au                           0\n",
      "date                                            0\n",
      "dtype: int64\n",
      "\n",
      "Исходные данные\n",
      "secondary_cleaner.output.tail_sol           1748\n",
      "rougher.input.floatbank11_xanthate           453\n",
      "rougher.state.floatbank10_e_air              436\n",
      "primary_cleaner.output.concentrate_sol       370\n",
      "secondary_cleaner.state.floatbank2_a_air     220\n",
      "                                            ... \n",
      "rougher.output.tail_sol                        0\n",
      "primary_cleaner.input.feed_size                0\n",
      "rougher.input.feed_au                          0\n",
      "primary_cleaner.output.concentrate_au          0\n",
      "date                                           0\n",
      "Length: 87, dtype: int64\n",
      "\n",
      "\n",
      "Всего пропусков в обучающей выборке: 3050\n",
      "\n",
      "Всего пропусков в тестовой выборке: 375\n",
      "\n",
      "Всего пропусков в исходных данных: 4481\n"
     ]
    }
   ],
   "source": [
    "# проверка пропусков \n",
    "\n",
    "print('Обучающая выборка')\n",
    "print(data_train.isna().sum().sort_values(ascending=False))\n",
    "print()\n",
    "print('Тестовая выборка')\n",
    "print(data_test.isna().sum().sort_values(ascending=False))\n",
    "print()\n",
    "print('Исходные данные')\n",
    "print(data_full.isna().sum().sort_values(ascending=False))\n",
    "print()\n",
    "print()\n",
    "print('Всего пропусков в обучающей выборке:', data_train.isna().sum().sum())\n",
    "print()\n",
    "print('Всего пропусков в тестовой выборке:', data_test.isna().sum().sum())\n",
    "print()\n",
    "print('Всего пропусков в исходных данных:', data_full.isna().sum().sum())"
   ]
  },
  {
   "cell_type": "code",
   "execution_count": 13,
   "metadata": {},
   "outputs": [
    {
     "name": "stdout",
     "output_type": "stream",
     "text": [
      "0\n",
      "0\n"
     ]
    },
    {
     "data": {
      "text/plain": [
       "0"
      ]
     },
     "execution_count": 13,
     "metadata": {},
     "output_type": "execute_result"
    }
   ],
   "source": [
    "print(data_test.duplicated().sum())\n",
    "print(data_train.duplicated().sum())\n",
    "data_full.duplicated().sum()"
   ]
  },
  {
   "cell_type": "markdown",
   "metadata": {},
   "source": [
    "Вывод:\n",
    "\n",
    "Датасет train содержит 87 столбцов и 14579 строк. \n",
    "\n",
    "Датасет test содержит 53 столбцов и 4860 строк. \n",
    "\n",
    "Датасет full содержит 87 столбцов и 19439 строк. \n",
    "\n",
    "Во всех датасетах есть пропуски. Видимо из-за того, что некоторые параметры замеряются и/или рассчитываются значительно позже.\n",
    "\n",
    "Всего пропусков в обучающей выборке: 3050\n",
    "\n",
    "Всего пропусков в тестовой выборке: 375\n",
    "\n",
    "Всего пропусков в исходных данных: 4481\n",
    "\n",
    "Тестовая выборка составляет 25% от исходных данных, обучающая выборка - 75% от исходных данных.\n",
    "\n",
    "Все столбцы, кроме 'date', имеют тип данных float64, заменили тип данных столбца 'date' с object на datetime.\n",
    "\n",
    "Дубликаты отсутствуют.\n"
   ]
  },
  {
   "cell_type": "markdown",
   "metadata": {},
   "source": [
    "Проверим, что эффективность обогащения рассчитана правильно. Вычислим её на обучающей выборке для признака rougher.output.recovery. Найдем MAE между расчётами и значением признака."
   ]
  },
  {
   "cell_type": "code",
   "execution_count": 14,
   "metadata": {},
   "outputs": [],
   "source": [
    "recovery=data_train"
   ]
  },
  {
   "cell_type": "code",
   "execution_count": 15,
   "metadata": {},
   "outputs": [],
   "source": [
    "recovery=recovery.dropna().reset_index() "
   ]
  },
  {
   "cell_type": "code",
   "execution_count": 16,
   "metadata": {},
   "outputs": [],
   "source": [
    "rougher_output_recovery=recovery['rougher.output.recovery']\n",
    "rougher_output_tail_au=recovery['rougher.output.tail_au']\n",
    "rougher_input_feed_au=recovery['rougher.input.feed_au']\n",
    "rougher_output_concentrate_au=recovery['rougher.output.concentrate_au']"
   ]
  },
  {
   "cell_type": "code",
   "execution_count": 17,
   "metadata": {},
   "outputs": [],
   "source": [
    "# Функция для подсчета эффективности обогащения\n",
    "def calc_rougher_output_recovery(rougher_output_concentrate,rougher_input_feed,rougher_output_tail):\n",
    "    calc_rougher_output_recovery=((rougher_output_concentrate_au*(rougher_input_feed_au-rougher_output_tail_au))/(rougher_input_feed_au*(rougher_output_concentrate_au-rougher_output_tail_au)))*100\n",
    "    return calc_rougher_output_recovery"
   ]
  },
  {
   "cell_type": "code",
   "execution_count": 18,
   "metadata": {},
   "outputs": [
    {
     "data": {
      "text/plain": [
       "0        87.107763\n",
       "1        86.843261\n",
       "2        86.842308\n",
       "3        87.226430\n",
       "4        86.688794\n",
       "           ...    \n",
       "12332    87.684717\n",
       "12333    90.677361\n",
       "12334    89.574376\n",
       "12335    87.724007\n",
       "12336    88.890579\n",
       "Length: 12337, dtype: float64"
      ]
     },
     "execution_count": 18,
     "metadata": {},
     "output_type": "execute_result"
    }
   ],
   "source": [
    "calc_rougher_output_recovery(rougher_output_concentrate_au,rougher_input_feed_au,rougher_output_tail_au)"
   ]
  },
  {
   "cell_type": "code",
   "execution_count": 19,
   "metadata": {},
   "outputs": [
    {
     "data": {
      "text/plain": [
       "0        87.107763\n",
       "1        86.843261\n",
       "2        86.842308\n",
       "3        87.226430\n",
       "4        86.688794\n",
       "           ...    \n",
       "12332    87.684717\n",
       "12333    90.677361\n",
       "12334    89.574376\n",
       "12335    87.724007\n",
       "12336    88.890579\n",
       "Name: rougher.output.recovery, Length: 12337, dtype: float64"
      ]
     },
     "execution_count": 19,
     "metadata": {},
     "output_type": "execute_result"
    }
   ],
   "source": [
    "rougher_output_recovery"
   ]
  },
  {
   "cell_type": "code",
   "execution_count": 20,
   "metadata": {},
   "outputs": [
    {
     "name": "stdout",
     "output_type": "stream",
     "text": [
      "MAE (среднее абсолютное отклонение) = 9.906677443564516e-15\n"
     ]
    }
   ],
   "source": [
    "mae = mean_absolute_error(calc_rougher_output_recovery(rougher_output_concentrate_au,rougher_input_feed_au,rougher_output_tail_au), rougher_output_recovery)\n",
    "print('MAE (среднее абсолютное отклонение) =', mae)"
   ]
  },
  {
   "cell_type": "markdown",
   "metadata": {},
   "source": [
    "Абсолютная средняя ошибка MAE (среднее абсолютное отклонение) - степень несоответствия между фактическими и прогнозируемыми значениями - получилась очень маленькой (0.00000000000000973), следовательно, расчеты верны."
   ]
  },
  {
   "cell_type": "markdown",
   "metadata": {},
   "source": [
    "Проанализируем признаки в тестовой выборке и произведем предобработку данных.\n",
    "\n",
    "Заполним пропуски. По условию данные индексируются датой и временем получения информации (признак date). Соседние по времени параметры часто похожи. Следовательно, можно заполнить пропуски с помощью функции ffill заполним отсутствующие значения в выборках и исходных данных. Эта функция заполняет пропуски предпоследним значением признака (значения даты расположены по возрастанию)."
   ]
  },
  {
   "cell_type": "code",
   "execution_count": 22,
   "metadata": {},
   "outputs": [],
   "source": [
    "data_train = data_train.ffill(axis=0)\n",
    "data_test = data_test.ffill(axis=0)\n",
    "data_full = data_full.ffill(axis=0)"
   ]
  },
  {
   "cell_type": "code",
   "execution_count": 23,
   "metadata": {},
   "outputs": [
    {
     "name": "stdout",
     "output_type": "stream",
     "text": [
      "Размер таблиц\n",
      "Обучающая выборка: (14579, 87)\n",
      "Тестовая выборка: (4860, 53)\n",
      "Исходные данные: (19439, 87)\n",
      "\n",
      "Количество пропусков\n",
      "Всего пропусков в обучающей выборке: 0\n",
      "Всего пропусков в тестовой выборке: 0\n",
      "Всего пропусков в исходных данных: 0\n"
     ]
    }
   ],
   "source": [
    "print('Размер таблиц')\n",
    "print('Обучающая выборка:', data_train.shape)\n",
    "print('Тестовая выборка:', data_test.shape)\n",
    "print('Исходные данные:', data_full.shape)\n",
    "print()\n",
    "print('Количество пропусков')\n",
    "print('Всего пропусков в обучающей выборке:', data_train.isna().sum().sum())\n",
    "print('Всего пропусков в тестовой выборке:', data_test.isna().sum().sum())\n",
    "print('Всего пропусков в исходных данных:', data_full.isna().sum().sum())"
   ]
  },
  {
   "cell_type": "markdown",
   "metadata": {},
   "source": [
    "Число столбцов в обучающей и тестовой выборках разное: 87 и 53. Необходимо выровнять."
   ]
  },
  {
   "cell_type": "code",
   "execution_count": 24,
   "metadata": {},
   "outputs": [
    {
     "name": "stdout",
     "output_type": "stream",
     "text": [
      "['rougher.output.tail_pb', 'rougher.output.concentrate_ag', 'final.output.tail_pb', 'final.output.tail_ag', 'rougher.output.concentrate_pb', 'secondary_cleaner.output.tail_au', 'rougher.output.tail_au', 'secondary_cleaner.output.tail_sol', 'rougher.calculation.au_pb_ratio', 'rougher.output.recovery', 'final.output.concentrate_ag', 'secondary_cleaner.output.tail_ag', 'rougher.calculation.sulfate_to_au_concentrate', 'secondary_cleaner.output.tail_pb', 'final.output.tail_au', 'final.output.tail_sol', 'rougher.output.tail_ag', 'primary_cleaner.output.concentrate_ag', 'rougher.output.tail_sol', 'final.output.concentrate_au', 'final.output.concentrate_sol', 'final.output.concentrate_pb', 'primary_cleaner.output.concentrate_au', 'primary_cleaner.output.tail_ag', 'primary_cleaner.output.tail_au', 'primary_cleaner.output.tail_sol', 'primary_cleaner.output.concentrate_pb', 'rougher.output.concentrate_sol', 'rougher.output.concentrate_au', 'primary_cleaner.output.tail_pb', 'primary_cleaner.output.concentrate_sol', 'rougher.calculation.floatbank10_sulfate_to_au_feed', 'rougher.calculation.floatbank11_sulfate_to_au_feed', 'final.output.recovery']\n",
      "\n",
      "10                          final.output.concentrate_ag\n",
      "19                          final.output.concentrate_au\n",
      "21                          final.output.concentrate_pb\n",
      "20                         final.output.concentrate_sol\n",
      "33                                final.output.recovery\n",
      "3                                  final.output.tail_ag\n",
      "14                                 final.output.tail_au\n",
      "2                                  final.output.tail_pb\n",
      "15                                final.output.tail_sol\n",
      "17                primary_cleaner.output.concentrate_ag\n",
      "22                primary_cleaner.output.concentrate_au\n",
      "26                primary_cleaner.output.concentrate_pb\n",
      "30               primary_cleaner.output.concentrate_sol\n",
      "23                       primary_cleaner.output.tail_ag\n",
      "24                       primary_cleaner.output.tail_au\n",
      "29                       primary_cleaner.output.tail_pb\n",
      "25                      primary_cleaner.output.tail_sol\n",
      "8                       rougher.calculation.au_pb_ratio\n",
      "31    rougher.calculation.floatbank10_sulfate_to_au_...\n",
      "32    rougher.calculation.floatbank11_sulfate_to_au_...\n",
      "12        rougher.calculation.sulfate_to_au_concentrate\n",
      "1                         rougher.output.concentrate_ag\n",
      "28                        rougher.output.concentrate_au\n",
      "4                         rougher.output.concentrate_pb\n",
      "27                       rougher.output.concentrate_sol\n",
      "9                               rougher.output.recovery\n",
      "16                               rougher.output.tail_ag\n",
      "6                                rougher.output.tail_au\n",
      "0                                rougher.output.tail_pb\n",
      "18                              rougher.output.tail_sol\n",
      "11                     secondary_cleaner.output.tail_ag\n",
      "5                      secondary_cleaner.output.tail_au\n",
      "13                     secondary_cleaner.output.tail_pb\n",
      "7                     secondary_cleaner.output.tail_sol\n",
      "dtype: object\n",
      "\n",
      "Количество отсутствующих признаков в тестовой выборке (gold_recovery_test): 34\n"
     ]
    }
   ],
   "source": [
    "# посмотрим признаки, которые отсутствуют в тестовой выборке и на разницу признаков в тестовой и полной выборках\n",
    "\n",
    "diff_list = list(set(data_full.columns) - set(data_test.columns))\n",
    "print(diff_list)\n",
    "diff_list = pd.Series(diff_list)\n",
    "print()\n",
    "print(diff_list.sort_values())\n",
    "print()\n",
    "print('Количество отсутствующих признаков в тестовой выборке (gold_recovery_test):', (\n",
    "        len(diff_list))\n",
    "     )"
   ]
  },
  {
   "cell_type": "markdown",
   "metadata": {},
   "source": [
    "Вывод\n",
    "\n",
    "Столбцы, которые отсутствуют содержат выходные признаки после каждого технологического этапа. Эти признаки могут быть целевыми и их можно предсказывать.\n",
    "Также отсутствуют целевые признаки - final.output.recovery и rougher.output.recovery. В дальнейшем они понадобятся на этапе подсчета метрики sMAPE.\n",
    "\n",
    "Чтобы построить модель, необходимо выровнять размер обучающей и тестовой выборок: удалить дополнительные признаки из набора train, кроме final.output.recovery и rougher.output.recovery"
   ]
  },
  {
   "cell_type": "code",
   "execution_count": 25,
   "metadata": {},
   "outputs": [],
   "source": [
    "# установим столбец 'date' в качестве индекса во всех таблицах данных\n",
    "\n",
    "data_train = data_train.set_index('date')\n",
    "data_test = data_test.set_index('date')\n",
    "data_full = data_full.set_index('date')"
   ]
  },
  {
   "cell_type": "code",
   "execution_count": 26,
   "metadata": {},
   "outputs": [],
   "source": [
    "# добавим в тестовую выборку столбцы final.output.recovery и rougher.output.recovery из исходных данных\n",
    "\n",
    "data_test = data_test.merge(\n",
    "        data_full.loc[:, ['rougher.output.recovery','final.output.recovery']], on='date')"
   ]
  },
  {
   "cell_type": "code",
   "execution_count": 27,
   "metadata": {},
   "outputs": [
    {
     "name": "stdout",
     "output_type": "stream",
     "text": [
      "(14579, 86)\n",
      "(4860, 54)\n"
     ]
    }
   ],
   "source": [
    "print(data_train.shape)\n",
    "print(data_test.shape)"
   ]
  },
  {
   "cell_type": "code",
   "execution_count": 28,
   "metadata": {},
   "outputs": [],
   "source": [
    "# выравниваем количество колонок в обучающей и тестовой выборках \n",
    "data_train = data_train[data_test.columns]"
   ]
  },
  {
   "cell_type": "code",
   "execution_count": 29,
   "metadata": {},
   "outputs": [
    {
     "name": "stdout",
     "output_type": "stream",
     "text": [
      "(14579, 54)\n",
      "(4860, 54)\n"
     ]
    }
   ],
   "source": [
    "print(data_train.shape)\n",
    "print(data_test.shape)"
   ]
  },
  {
   "cell_type": "markdown",
   "metadata": {},
   "source": [
    "Вывод:\n",
    "\n",
    "Заполнили пропуски методом ffill, установим столбец 'date' в качестве индекса во всех таблицах данных и выравнили кол-во признаков в обучащей и тестовой выборках, чтобы обучить модель и сделать прогноз."
   ]
  },
  {
   "cell_type": "markdown",
   "metadata": {},
   "source": [
    "## Анализ данных"
   ]
  },
  {
   "cell_type": "markdown",
   "metadata": {},
   "source": [
    "Анализ концентрации металлов (Au, Ag, Pb) на различных этапах\n",
    "Этапы:\n",
    "- 'rougher.input.feed_au' - исходное сырье,\n",
    "- 'rougher.output.concentrate' - флотация (концентрация на выходе),\n",
    "- 'primary_cleaner.output.concentrate' - первичная очистка (концентрация на выходе),\n",
    "- 'final.output.concentrate' - финальный концентрат."
   ]
  },
  {
   "cell_type": "code",
   "execution_count": 30,
   "metadata": {},
   "outputs": [],
   "source": [
    "# Создаем датасеты с концентрациями металлов на первичной очистке\n",
    "concetrates_primary=[]\n",
    "concetrates_primary=pd.DataFrame(concetrates_primary)\n",
    "concetrates_primary['primary_cleaner.output.concentrate_ag'] = data_full['primary_cleaner.output.concentrate_ag']\n",
    "concetrates_primary['primary_cleaner.output.concentrate_pb'] = data_full['primary_cleaner.output.concentrate_pb']\n",
    "concetrates_primary['primary_cleaner.output.concentrate_sol'] = data_full['primary_cleaner.output.concentrate_sol']\n",
    "concetrates_primary['primary_cleaner.output.concentrate_au'] = data_full['primary_cleaner.output.concentrate_au']"
   ]
  },
  {
   "cell_type": "code",
   "execution_count": 31,
   "metadata": {},
   "outputs": [
    {
     "data": {
      "image/png": "[encoded data removed]",
      "text/plain": [
       "<Figure size 1224x720 with 1 Axes>"
      ]
     },
     "metadata": {
      "needs_background": "light"
     },
     "output_type": "display_data"
    }
   ],
   "source": [
    "# Boxplot для концентрации металлов\n",
    "plt.figure(figsize=(17,10))\n",
    "a=sns.set(style=\"whitegrid\")\n",
    "a=sns.boxplot(data=concetrates_primary)"
   ]
  },
  {
   "cell_type": "code",
   "execution_count": 32,
   "metadata": {},
   "outputs": [],
   "source": [
    "# Создаем датасеты с концентрациями металлов на финальной очистке\n",
    "concetrates_final=[]\n",
    "concetrates_final=pd.DataFrame(concetrates_final)\n",
    "concetrates_final['final.output.concentrate_ag']=data_full['final.output.concentrate_ag']\n",
    "concetrates_final['final.output.concentrate_pb']=data_full['final.output.concentrate_pb']\n",
    "concetrates_final['final.output.concentrate_sol']=data_full['final.output.concentrate_sol']\n",
    "concetrates_final['final.output.concentrate_au']=data_full['final.output.concentrate_au']"
   ]
  },
  {
   "cell_type": "code",
   "execution_count": 33,
   "metadata": {},
   "outputs": [
    {
     "data": {
      "image/png": "[encoded data removed]",
      "text/plain": [
       "<Figure size 1224x792 with 1 Axes>"
      ]
     },
     "metadata": {},
     "output_type": "display_data"
    }
   ],
   "source": [
    "plt.figure(figsize=(17,11))\n",
    "b=sns.set(style=\"whitegrid\")\n",
    "b=sns.boxplot(data=concetrates_final)"
   ]
  },
  {
   "cell_type": "markdown",
   "metadata": {},
   "source": [
    "Из графика видно, что имеются выбросы. Больше всего их в концентрации золота (AU) на стадии первичной и финальной очистки. Среднее значение концентрации золота на финальной очистке выросло по сравнению с первичной очисткой."
   ]
  },
  {
   "cell_type": "code",
   "execution_count": 34,
   "metadata": {},
   "outputs": [],
   "source": [
    "# Создаем датасеты с концентрацией Ag на каждом этапе\n",
    "concetrates_cycle_ag=[]\n",
    "concetrates_cycle_ag=pd.DataFrame(concetrates_cycle_ag)\n",
    "concetrates_cycle_ag['rougher.input.feed_ag']=data_full['rougher.input.feed_ag']\n",
    "concetrates_cycle_ag['rougher.output.concentrate_ag']=data_full['rougher.output.concentrate_ag']\n",
    "concetrates_cycle_ag['primary_cleaner.output.concentrate_ag'] = data_full['primary_cleaner.output.concentrate_ag']\n",
    "concetrates_cycle_ag['final.output.concentrate_ag']=data_full['final.output.concentrate_ag']"
   ]
  },
  {
   "cell_type": "code",
   "execution_count": 35,
   "metadata": {},
   "outputs": [
    {
     "data": {
      "image/png": "[encoded data removed]",
      "text/plain": [
       "<Figure size 1224x792 with 1 Axes>"
      ]
     },
     "metadata": {},
     "output_type": "display_data"
    }
   ],
   "source": [
    "plt.figure(figsize=(17,11))\n",
    "b=sns.set(style=\"whitegrid\")\n",
    "b=sns.boxplot(data=concetrates_cycle_ag)"
   ]
  },
  {
   "cell_type": "markdown",
   "metadata": {},
   "source": [
    "Концентрация Ag (серебра) падает начиная с этапа флотации"
   ]
  },
  {
   "cell_type": "code",
   "execution_count": 36,
   "metadata": {},
   "outputs": [],
   "source": [
    "# Создаем датасеты с концентрацией Au на каждом этапе\n",
    "concetrates_cycle_au=[]\n",
    "concetrates_cycle_au=pd.DataFrame(concetrates_cycle_au)\n",
    "concetrates_cycle_au['rougher.input.feed_au']=data_full['rougher.input.feed_au']\n",
    "concetrates_cycle_au['rougher.output.concentrate_au']=data_full['rougher.output.concentrate_au']\n",
    "concetrates_cycle_au['primary_cleaner.output.concentrate_au'] = data_full['primary_cleaner.output.concentrate_au']\n",
    "concetrates_cycle_au['final.output.concentrate_au']=data_full['final.output.concentrate_au']"
   ]
  },
  {
   "cell_type": "code",
   "execution_count": 37,
   "metadata": {},
   "outputs": [
    {
     "data": {
      "image/png": "[encoded data removed]",
      "text/plain": [
       "<Figure size 1224x792 with 1 Axes>"
      ]
     },
     "metadata": {},
     "output_type": "display_data"
    }
   ],
   "source": [
    "plt.figure(figsize=(17,11))\n",
    "b=sns.set(style=\"whitegrid\")\n",
    "b=sns.boxplot(data=concetrates_cycle_au)"
   ]
  },
  {
   "cell_type": "markdown",
   "metadata": {},
   "source": [
    "Концентрация Au (золота) растет на протяжеии всех этапов"
   ]
  },
  {
   "cell_type": "code",
   "execution_count": 38,
   "metadata": {},
   "outputs": [],
   "source": [
    "# Создаем датасеты с концентрацией Pb на каждом этапе\n",
    "concetrates_cycle_pb=[]\n",
    "concetrates_cycle_pb=pd.DataFrame(concetrates_cycle_pb)\n",
    "concetrates_cycle_pb['rougher.input.feed_pb']=data_full['rougher.input.feed_pb']\n",
    "concetrates_cycle_pb['rougher.output.concentrate_pb']=data_full['rougher.output.concentrate_pb']\n",
    "concetrates_cycle_pb['primary_cleaner.output.concentrate_pb'] = data_full['primary_cleaner.output.concentrate_pb']\n",
    "concetrates_cycle_pb['final.output.concentrate_pb']=data_full['final.output.concentrate_pb']"
   ]
  },
  {
   "cell_type": "code",
   "execution_count": 39,
   "metadata": {},
   "outputs": [
    {
     "data": {
      "image/png": "[encoded data removed]",
      "text/plain": [
       "<Figure size 1224x792 with 1 Axes>"
      ]
     },
     "metadata": {},
     "output_type": "display_data"
    }
   ],
   "source": [
    "plt.figure(figsize=(17,11))\n",
    "b=sns.set(style=\"whitegrid\")\n",
    "b=sns.boxplot(data=concetrates_cycle_pb)"
   ]
  },
  {
   "cell_type": "markdown",
   "metadata": {},
   "source": [
    "Концентрация Pb (свинца) медленно растет на протяжении всех этапов очистки"
   ]
  },
  {
   "cell_type": "markdown",
   "metadata": {},
   "source": [
    "Распределение на этапе первичной очистки"
   ]
  },
  {
   "cell_type": "code",
   "execution_count": 40,
   "metadata": {},
   "outputs": [
    {
     "name": "stderr",
     "output_type": "stream",
     "text": [
      "/opt/conda/lib/python3.9/site-packages/seaborn/distributions.py:2557: FutureWarning: `distplot` is a deprecated function and will be removed in a future version. Please adapt your code to use either `displot` (a figure-level function with similar flexibility) or `histplot` (an axes-level function for histograms).\n",
      "  warnings.warn(msg, FutureWarning)\n",
      "/opt/conda/lib/python3.9/site-packages/seaborn/distributions.py:2557: FutureWarning: `distplot` is a deprecated function and will be removed in a future version. Please adapt your code to use either `displot` (a figure-level function with similar flexibility) or `histplot` (an axes-level function for histograms).\n",
      "  warnings.warn(msg, FutureWarning)\n",
      "/opt/conda/lib/python3.9/site-packages/seaborn/distributions.py:2557: FutureWarning: `distplot` is a deprecated function and will be removed in a future version. Please adapt your code to use either `displot` (a figure-level function with similar flexibility) or `histplot` (an axes-level function for histograms).\n",
      "  warnings.warn(msg, FutureWarning)\n",
      "/opt/conda/lib/python3.9/site-packages/seaborn/distributions.py:2557: FutureWarning: `distplot` is a deprecated function and will be removed in a future version. Please adapt your code to use either `displot` (a figure-level function with similar flexibility) or `histplot` (an axes-level function for histograms).\n",
      "  warnings.warn(msg, FutureWarning)\n"
     ]
    },
    {
     "data": {
      "text/plain": [
       "Text(0, 0.5, 'Friqency')"
      ]
     },
     "execution_count": 40,
     "metadata": {},
     "output_type": "execute_result"
    },
    {
     "data": {
      "image/png": "[encoded data removed]",
      "text/plain": [
       "<Figure size 1008x576 with 1 Axes>"
      ]
     },
     "metadata": {},
     "output_type": "display_data"
    }
   ],
   "source": [
    "plt.figure(figsize=(14,8))\n",
    "sns.distplot(data_full[data_full['primary_cleaner.output.concentrate_ag']>0.3]['primary_cleaner.output.concentrate_ag'],bins=30,label='primary_cleaner.output.concentrate_ag')\n",
    "sns.distplot(data_full[data_full['primary_cleaner.output.concentrate_pb']>0.01]['primary_cleaner.output.concentrate_pb'],bins=30,label='primary_cleaner.output.concentrate_pb')\n",
    "sns.distplot(data_full[data_full['primary_cleaner.output.concentrate_sol']>0.01]['primary_cleaner.output.concentrate_sol'],bins=30,label='primary_cleaner.output.concentrate_sol')\n",
    "sns.distplot(data_full[data_full['primary_cleaner.output.concentrate_au']>0.01]['primary_cleaner.output.concentrate_au'],bins=30,label='primary_cleaner.output.concentrate_au')\n",
    "plt.vlines(data_full[data_full['primary_cleaner.output.concentrate_ag']>0.3]['primary_cleaner.output.concentrate_ag'].mean(),0,0.24,color = 'r')\n",
    "plt.vlines(data_full[data_full['primary_cleaner.output.concentrate_pb']>0.3]['primary_cleaner.output.concentrate_pb'].mean(),0,0.23,color = 'g')\n",
    "plt.vlines(data_full[data_full['primary_cleaner.output.concentrate_sol']>0.3]['primary_cleaner.output.concentrate_sol'].mean(),0,0.23,color = 'b')\n",
    "plt.vlines(data_full[data_full['primary_cleaner.output.concentrate_au']>0.3]['primary_cleaner.output.concentrate_au'].mean(),0,0.13,color = 'y')\n",
    "\n",
    "plt.text(8,0.22,round(data_full['primary_cleaner.output.concentrate_ag'].mean(),2),fontsize=12)\n",
    "plt.text(8,0.24,round(data_full['primary_cleaner.output.concentrate_pb'].mean(),2),fontsize=12)\n",
    "plt.text(10,0.23,round(data_full['primary_cleaner.output.concentrate_sol'].mean(),2),fontsize=12)\n",
    "plt.text(32,0.12,round(data_full['primary_cleaner.output.concentrate_au'].mean(),2),fontsize=12)\n",
    "plt.legend()\n",
    "plt.title('Metal concentrate primary cleaner output')\n",
    "plt.xlabel(\"% Metal concentrate\")\n",
    "plt.ylabel(\"Friqency\")"
   ]
  },
  {
   "cell_type": "markdown",
   "metadata": {},
   "source": [
    "Распределение на этапе финальной очистки"
   ]
  },
  {
   "cell_type": "code",
   "execution_count": 41,
   "metadata": {},
   "outputs": [
    {
     "name": "stderr",
     "output_type": "stream",
     "text": [
      "/opt/conda/lib/python3.9/site-packages/seaborn/distributions.py:2557: FutureWarning: `distplot` is a deprecated function and will be removed in a future version. Please adapt your code to use either `displot` (a figure-level function with similar flexibility) or `histplot` (an axes-level function for histograms).\n",
      "  warnings.warn(msg, FutureWarning)\n",
      "/opt/conda/lib/python3.9/site-packages/seaborn/distributions.py:2557: FutureWarning: `distplot` is a deprecated function and will be removed in a future version. Please adapt your code to use either `displot` (a figure-level function with similar flexibility) or `histplot` (an axes-level function for histograms).\n",
      "  warnings.warn(msg, FutureWarning)\n",
      "/opt/conda/lib/python3.9/site-packages/seaborn/distributions.py:2557: FutureWarning: `distplot` is a deprecated function and will be removed in a future version. Please adapt your code to use either `displot` (a figure-level function with similar flexibility) or `histplot` (an axes-level function for histograms).\n",
      "  warnings.warn(msg, FutureWarning)\n",
      "/opt/conda/lib/python3.9/site-packages/seaborn/distributions.py:2557: FutureWarning: `distplot` is a deprecated function and will be removed in a future version. Please adapt your code to use either `displot` (a figure-level function with similar flexibility) or `histplot` (an axes-level function for histograms).\n",
      "  warnings.warn(msg, FutureWarning)\n"
     ]
    },
    {
     "data": {
      "text/plain": [
       "Text(0, 0.5, 'Friqency')"
      ]
     },
     "execution_count": 41,
     "metadata": {},
     "output_type": "execute_result"
    },
    {
     "data": {
      "image/png": "[encoded data removed]",
      "text/plain": [
       "<Figure size 1008x576 with 1 Axes>"
      ]
     },
     "metadata": {},
     "output_type": "display_data"
    }
   ],
   "source": [
    "plt.figure(figsize=(14,8))\n",
    "sns.distplot(data_full[data_full['final.output.concentrate_ag']>0.03]['final.output.concentrate_ag'],bins=30,label='final.output.concentrate_ag')\n",
    "sns.distplot(data_full[data_full['final.output.concentrate_pb']>0.03]['final.output.concentrate_pb'],bins=30,label='final.output.concentrate_pb')\n",
    "sns.distplot(data_full[data_full['final.output.concentrate_sol']>0.03]['final.output.concentrate_sol'],bins=30,label='final.output.concentrate_sol')\n",
    "sns.distplot(data_full[data_full['final.output.concentrate_au']>0.03]['final.output.concentrate_au'],bins=30,label='final.output.concentrate_au')\n",
    "plt.vlines(data_full[data_full['final.output.concentrate_ag']>0.3]['final.output.concentrate_ag'].mean(),0,0.32,color = 'r')\n",
    "plt.vlines(data_full[data_full['final.output.concentrate_pb']>0.3]['final.output.concentrate_pb'].mean(),0,0.30,color = 'r')\n",
    "plt.vlines(data_full[data_full['final.output.concentrate_sol']>0.3]['final.output.concentrate_sol'].mean(),0,0.20,color = 'r')\n",
    "plt.vlines(data_full[data_full['final.output.concentrate_au']>0.3]['final.output.concentrate_au'].mean(),0,0.21,color = 'r')\n",
    "\n",
    "plt.text(5,0.32,round(data_full['final.output.concentrate_ag'].mean(),2),fontsize=12)\n",
    "plt.text(8,0.30,round(data_full['final.output.concentrate_pb'].mean(),2),fontsize=12)\n",
    "plt.text(10,0.17,round(data_full['final.output.concentrate_sol'].mean(),2),fontsize=12)\n",
    "plt.text(45,0.21,round(data_full['final.output.concentrate_au'].mean(),2),fontsize=12)\n",
    "\n",
    "plt.legend()\n",
    "plt.title('Metal concentrate final output')\n",
    "plt.xlabel(\"% Metal concentrate\")\n",
    "plt.ylabel(\"Friqency\")"
   ]
  },
  {
   "cell_type": "markdown",
   "metadata": {},
   "source": [
    "Выводы:\n",
    "Распределения концентрации металлов менялись после каждой процедуры.\n",
    "Среднее значение концентрации золота после первичной очистки было 32.12%. После финальной очистки значение средней концентрации золота стало 44.08%. Общие значения стали более приближены к среднему значению. "
   ]
  },
  {
   "cell_type": "markdown",
   "metadata": {},
   "source": [
    "Распределение металла на этапе флотации"
   ]
  },
  {
   "cell_type": "code",
   "execution_count": 42,
   "metadata": {},
   "outputs": [
    {
     "name": "stderr",
     "output_type": "stream",
     "text": [
      "/opt/conda/lib/python3.9/site-packages/seaborn/distributions.py:2557: FutureWarning: `distplot` is a deprecated function and will be removed in a future version. Please adapt your code to use either `displot` (a figure-level function with similar flexibility) or `histplot` (an axes-level function for histograms).\n",
      "  warnings.warn(msg, FutureWarning)\n",
      "/opt/conda/lib/python3.9/site-packages/seaborn/distributions.py:2557: FutureWarning: `distplot` is a deprecated function and will be removed in a future version. Please adapt your code to use either `displot` (a figure-level function with similar flexibility) or `histplot` (an axes-level function for histograms).\n",
      "  warnings.warn(msg, FutureWarning)\n",
      "/opt/conda/lib/python3.9/site-packages/seaborn/distributions.py:2557: FutureWarning: `distplot` is a deprecated function and will be removed in a future version. Please adapt your code to use either `displot` (a figure-level function with similar flexibility) or `histplot` (an axes-level function for histograms).\n",
      "  warnings.warn(msg, FutureWarning)\n",
      "/opt/conda/lib/python3.9/site-packages/seaborn/distributions.py:2557: FutureWarning: `distplot` is a deprecated function and will be removed in a future version. Please adapt your code to use either `displot` (a figure-level function with similar flexibility) or `histplot` (an axes-level function for histograms).\n",
      "  warnings.warn(msg, FutureWarning)\n"
     ]
    },
    {
     "data": {
      "text/plain": [
       "Text(0, 0.5, 'Friqency')"
      ]
     },
     "execution_count": 42,
     "metadata": {},
     "output_type": "execute_result"
    },
    {
     "data": {
      "image/png": "[encoded data removed]",
      "text/plain": [
       "<Figure size 1008x576 with 1 Axes>"
      ]
     },
     "metadata": {},
     "output_type": "display_data"
    }
   ],
   "source": [
    "#rougher.output.concentrate_au\n",
    "plt.figure(figsize=(14,8))\n",
    "sns.distplot(data_full[data_full['rougher.output.concentrate_ag']>0.03]['rougher.output.concentrate_ag'],bins=30,label='rougher.output.concentrate_ag')\n",
    "sns.distplot(data_full[data_full['rougher.output.concentrate_pb']>0.03]['rougher.output.concentrate_pb'],bins=30,label='rougher.output.concentrate_pb')\n",
    "sns.distplot(data_full[data_full['rougher.output.concentrate_sol']>0.03]['rougher.output.concentrate_sol'],bins=30,label='rougher.output.concentrate_sol')\n",
    "sns.distplot(data_full[data_full['rougher.output.concentrate_au']>0.03]['rougher.output.concentrate_au'],bins=30,label='rougher.output.concentrate_au')\n",
    "plt.vlines(data_full[data_full['rougher.output.concentrate_ag']>0.3]['rougher.output.concentrate_ag'].mean(),0,0.32,color = 'r')\n",
    "plt.vlines(data_full[data_full['rougher.output.concentrate_pb']>0.3]['rougher.output.concentrate_pb'].mean(),0,0.30,color = 'r')\n",
    "plt.vlines(data_full[data_full['rougher.output.concentrate_sol']>0.3]['rougher.output.concentrate_sol'].mean(),0,0.20,color = 'r')\n",
    "plt.vlines(data_full[data_full['rougher.output.concentrate_au']>0.3]['rougher.output.concentrate_au'].mean(),0,0.21,color = 'r')\n",
    "\n",
    "plt.text(11,0.18,round(data_full['rougher.output.concentrate_ag'].mean(),2),fontsize=12)\n",
    "plt.text(8,0.30,round(data_full['rougher.output.concentrate_pb'].mean(),2),fontsize=12)\n",
    "plt.text(28,0.12,round(data_full['rougher.output.concentrate_sol'].mean(),2),fontsize=12)\n",
    "plt.text(20,0.21,round(data_full['rougher.output.concentrate_au'].mean(),2),fontsize=12)\n",
    "\n",
    "plt.legend()\n",
    "plt.title('Metal concentrate rougher output')\n",
    "plt.xlabel(\"% Metal concentrate\")\n",
    "plt.ylabel(\"Friqency\")"
   ]
  },
  {
   "cell_type": "markdown",
   "metadata": {},
   "source": [
    "Среднее значение конентрации золота - 11.99%. После флотации оно увеличилось до 28.8.\n",
    "Также увеличилась и концентрация других металлов."
   ]
  },
  {
   "cell_type": "markdown",
   "metadata": {},
   "source": [
    "2.2 Распределения размеров гранул сырья на обучающей и тестовой выборках"
   ]
  },
  {
   "cell_type": "code",
   "execution_count": 43,
   "metadata": {},
   "outputs": [
    {
     "name": "stderr",
     "output_type": "stream",
     "text": [
      "/opt/conda/lib/python3.9/site-packages/seaborn/distributions.py:2557: FutureWarning: `distplot` is a deprecated function and will be removed in a future version. Please adapt your code to use either `displot` (a figure-level function with similar flexibility) or `histplot` (an axes-level function for histograms).\n",
      "  warnings.warn(msg, FutureWarning)\n",
      "/opt/conda/lib/python3.9/site-packages/seaborn/distributions.py:2557: FutureWarning: `distplot` is a deprecated function and will be removed in a future version. Please adapt your code to use either `displot` (a figure-level function with similar flexibility) or `histplot` (an axes-level function for histograms).\n",
      "  warnings.warn(msg, FutureWarning)\n"
     ]
    },
    {
     "data": {
      "text/plain": [
       "Text(0, 0.5, 'Frequency')"
      ]
     },
     "execution_count": 43,
     "metadata": {},
     "output_type": "execute_result"
    },
    {
     "data": {
      "image/png": "[encoded data removed]",
      "text/plain": [
       "<Figure size 1080x576 with 1 Axes>"
      ]
     },
     "metadata": {},
     "output_type": "display_data"
    }
   ],
   "source": [
    "plt.figure(figsize=(15,8))\n",
    "sns.distplot(data_train['primary_cleaner.input.feed_size'],label='train primary_cleaner.input.feed_size')\n",
    "sns.distplot(data_test['primary_cleaner.input.feed_size'],label='test primary_cleaner.input.feed_size')\n",
    "plt.title('Feed size in Train and Test data')\n",
    "plt.legend\n",
    "plt.xlabel('Feed size')\n",
    "plt.ylabel('Frequency')"
   ]
  },
  {
   "cell_type": "markdown",
   "metadata": {},
   "source": [
    "Вывод:\n",
    "Распределения обучающей и тестовой выборки практически совпадают. Можно считать тестовую выборку репрезентативной."
   ]
  },
  {
   "cell_type": "markdown",
   "metadata": {},
   "source": [
    "2.3. Исследуем суммарную концентрацию всех веществ на разных стадиях: в сырье, в черновом и финальном концентратах"
   ]
  },
  {
   "cell_type": "code",
   "execution_count": 44,
   "metadata": {},
   "outputs": [],
   "source": [
    "#Посчитаем сумму концентраций металлов после флотации\n",
    "data_full['sum_concentrate_rougher']=data_full['rougher.output.concentrate_ag']+data_full['rougher.output.concentrate_pb']+data_full['rougher.output.concentrate_sol']+data_full['rougher.output.concentrate_au']\n"
   ]
  },
  {
   "cell_type": "code",
   "execution_count": 45,
   "metadata": {},
   "outputs": [],
   "source": [
    "# Посчитаем сумму концентраций металлов после первичной очистки\n",
    "data_full['sum_primary_cleaner_output_concentrate']=data_full['primary_cleaner.output.concentrate_ag']+data_full['primary_cleaner.output.concentrate_pb']+data_full['primary_cleaner.output.concentrate_sol']+data_full['primary_cleaner.output.concentrate_au']\n"
   ]
  },
  {
   "cell_type": "code",
   "execution_count": 46,
   "metadata": {},
   "outputs": [],
   "source": [
    "# Посчитаем сумму концентраций металлов после финальной очистки\n",
    "data_full['sum_final_output_concentrate']=data_full['final.output.concentrate_ag']+data_full['final.output.concentrate_pb']+data_full['final.output.concentrate_sol']+data_full['final.output.concentrate_au']\n"
   ]
  },
  {
   "cell_type": "code",
   "execution_count": 47,
   "metadata": {},
   "outputs": [],
   "source": [
    "sum_concentrate=['sum_concentrate_rougher','sum_primary_cleaner_output_concentrate','sum_final_output_concentrate']"
   ]
  },
  {
   "cell_type": "code",
   "execution_count": 48,
   "metadata": {},
   "outputs": [
    {
     "name": "stderr",
     "output_type": "stream",
     "text": [
      "/opt/conda/lib/python3.9/site-packages/seaborn/distributions.py:2557: FutureWarning: `distplot` is a deprecated function and will be removed in a future version. Please adapt your code to use either `displot` (a figure-level function with similar flexibility) or `histplot` (an axes-level function for histograms).\n",
      "  warnings.warn(msg, FutureWarning)\n",
      "/opt/conda/lib/python3.9/site-packages/seaborn/distributions.py:2557: FutureWarning: `distplot` is a deprecated function and will be removed in a future version. Please adapt your code to use either `displot` (a figure-level function with similar flexibility) or `histplot` (an axes-level function for histograms).\n",
      "  warnings.warn(msg, FutureWarning)\n",
      "/opt/conda/lib/python3.9/site-packages/seaborn/distributions.py:2557: FutureWarning: `distplot` is a deprecated function and will be removed in a future version. Please adapt your code to use either `displot` (a figure-level function with similar flexibility) or `histplot` (an axes-level function for histograms).\n",
      "  warnings.warn(msg, FutureWarning)\n"
     ]
    },
    {
     "data": {
      "text/plain": [
       "Text(0, 0.5, 'Frequency')"
      ]
     },
     "execution_count": 48,
     "metadata": {},
     "output_type": "execute_result"
    },
    {
     "data": {
      "image/png": "[encoded data removed]",
      "text/plain": [
       "<Figure size 1008x576 with 1 Axes>"
      ]
     },
     "metadata": {},
     "output_type": "display_data"
    }
   ],
   "source": [
    "plt.figure(figsize=(14,8))\n",
    "sns.distplot(data_full[data_full['sum_concentrate_rougher']>0.04]['sum_concentrate_rougher'],bins=80,label='sum_concentrate_rougher')\n",
    "sns.distplot(data_full[data_full['sum_primary_cleaner_output_concentrate']>0.04]['sum_primary_cleaner_output_concentrate'],bins=80,label='sum_primary_cleaner_output_concentrate')\n",
    "sns.distplot(data_full[data_full['sum_final_output_concentrate']>0.04]['sum_final_output_concentrate'],bins=80,label='sum_final_output_concentrate')\n",
    "plt.vlines(data_full[data_full['sum_concentrate_rougher']>0.3]['sum_concentrate_rougher'].mean(),0,0.07,color = 'r')\n",
    "plt.vlines(data_full[data_full['sum_primary_cleaner_output_concentrate']>0.3]['sum_primary_cleaner_output_concentrate'].mean(),0,0.10,color = 'r')\n",
    "plt.vlines(data_full[data_full['sum_final_output_concentrate']>0.3]['sum_final_output_concentrate'].mean(),0,0.17,color = 'r')\n",
    "plt.legend()\n",
    "plt.title('Sum concentrate of metal in rougher, primary clean and final state')\n",
    "plt.xlabel(\"Sum concentrate of metal\")\n",
    "plt.ylabel(\"Frequency\")"
   ]
  },
  {
   "cell_type": "markdown",
   "metadata": {},
   "source": [
    "По распределению видно, что присутствуют выбросы. Удалим значения от 0 до 40, их очень много, а чистота их нулевая."
   ]
  },
  {
   "cell_type": "code",
   "execution_count": 49,
   "metadata": {},
   "outputs": [
    {
     "data": {
      "text/html": [
       "<div>\n",
       "<style scoped>\n",
       "    .dataframe tbody tr th:only-of-type {\n",
       "        vertical-align: middle;\n",
       "    }\n",
       "\n",
       "    .dataframe tbody tr th {\n",
       "        vertical-align: top;\n",
       "    }\n",
       "\n",
       "    .dataframe thead th {\n",
       "        text-align: right;\n",
       "    }\n",
       "</style>\n",
       "<table border=\"1\" class=\"dataframe\">\n",
       "  <thead>\n",
       "    <tr style=\"text-align: right;\">\n",
       "      <th></th>\n",
       "      <th>rougher.input.feed_au</th>\n",
       "      <th>rougher.input.feed_ag</th>\n",
       "      <th>rougher.input.feed_pb</th>\n",
       "      <th>rougher.input.feed_sol</th>\n",
       "      <th>rougher.input.feed_rate</th>\n",
       "      <th>rougher.input.feed_size</th>\n",
       "      <th>rougher.input.floatbank10_sulfate</th>\n",
       "      <th>rougher.input.floatbank10_xanthate</th>\n",
       "      <th>rougher.state.floatbank10_a_air</th>\n",
       "      <th>rougher.state.floatbank10_a_level</th>\n",
       "      <th>rougher.state.floatbank10_b_air</th>\n",
       "      <th>rougher.state.floatbank10_b_level</th>\n",
       "      <th>rougher.state.floatbank10_c_air</th>\n",
       "      <th>rougher.state.floatbank10_c_level</th>\n",
       "      <th>rougher.state.floatbank10_d_air</th>\n",
       "      <th>rougher.state.floatbank10_d_level</th>\n",
       "      <th>rougher.state.floatbank10_e_air</th>\n",
       "      <th>rougher.state.floatbank10_e_level</th>\n",
       "      <th>rougher.state.floatbank10_f_air</th>\n",
       "      <th>rougher.state.floatbank10_f_level</th>\n",
       "      <th>rougher.input.floatbank11_sulfate</th>\n",
       "      <th>rougher.input.floatbank11_xanthate</th>\n",
       "      <th>rougher.calculation.sulfate_to_au_concentrate</th>\n",
       "      <th>rougher.calculation.floatbank10_sulfate_to_au_feed</th>\n",
       "      <th>rougher.calculation.floatbank11_sulfate_to_au_feed</th>\n",
       "      <th>rougher.calculation.au_pb_ratio</th>\n",
       "      <th>rougher.output.concentrate_au</th>\n",
       "      <th>rougher.output.concentrate_ag</th>\n",
       "      <th>rougher.output.concentrate_pb</th>\n",
       "      <th>rougher.output.concentrate_sol</th>\n",
       "      <th>rougher.output.recovery</th>\n",
       "      <th>rougher.output.tail_au</th>\n",
       "      <th>rougher.output.tail_ag</th>\n",
       "      <th>rougher.output.tail_pb</th>\n",
       "      <th>rougher.output.tail_sol</th>\n",
       "      <th>primary_cleaner.input.sulfate</th>\n",
       "      <th>primary_cleaner.input.depressant</th>\n",
       "      <th>primary_cleaner.input.feed_size</th>\n",
       "      <th>primary_cleaner.input.xanthate</th>\n",
       "      <th>primary_cleaner.state.floatbank8_a_air</th>\n",
       "      <th>primary_cleaner.state.floatbank8_a_level</th>\n",
       "      <th>primary_cleaner.state.floatbank8_b_air</th>\n",
       "      <th>primary_cleaner.state.floatbank8_b_level</th>\n",
       "      <th>primary_cleaner.state.floatbank8_c_air</th>\n",
       "      <th>primary_cleaner.state.floatbank8_c_level</th>\n",
       "      <th>primary_cleaner.state.floatbank8_d_air</th>\n",
       "      <th>primary_cleaner.state.floatbank8_d_level</th>\n",
       "      <th>primary_cleaner.output.concentrate_au</th>\n",
       "      <th>primary_cleaner.output.concentrate_ag</th>\n",
       "      <th>primary_cleaner.output.concentrate_pb</th>\n",
       "      <th>primary_cleaner.output.concentrate_sol</th>\n",
       "      <th>primary_cleaner.output.tail_au</th>\n",
       "      <th>primary_cleaner.output.tail_ag</th>\n",
       "      <th>primary_cleaner.output.tail_pb</th>\n",
       "      <th>primary_cleaner.output.tail_sol</th>\n",
       "      <th>secondary_cleaner.state.floatbank2_a_air</th>\n",
       "      <th>secondary_cleaner.state.floatbank2_a_level</th>\n",
       "      <th>secondary_cleaner.state.floatbank2_b_air</th>\n",
       "      <th>secondary_cleaner.state.floatbank2_b_level</th>\n",
       "      <th>secondary_cleaner.state.floatbank3_a_air</th>\n",
       "      <th>secondary_cleaner.state.floatbank3_a_level</th>\n",
       "      <th>secondary_cleaner.state.floatbank3_b_air</th>\n",
       "      <th>secondary_cleaner.state.floatbank3_b_level</th>\n",
       "      <th>secondary_cleaner.state.floatbank4_a_air</th>\n",
       "      <th>secondary_cleaner.state.floatbank4_a_level</th>\n",
       "      <th>secondary_cleaner.state.floatbank4_b_air</th>\n",
       "      <th>secondary_cleaner.state.floatbank4_b_level</th>\n",
       "      <th>secondary_cleaner.state.floatbank5_a_air</th>\n",
       "      <th>secondary_cleaner.state.floatbank5_a_level</th>\n",
       "      <th>secondary_cleaner.state.floatbank5_b_air</th>\n",
       "      <th>secondary_cleaner.state.floatbank5_b_level</th>\n",
       "      <th>secondary_cleaner.state.floatbank6_a_air</th>\n",
       "      <th>secondary_cleaner.state.floatbank6_a_level</th>\n",
       "      <th>secondary_cleaner.output.tail_au</th>\n",
       "      <th>secondary_cleaner.output.tail_ag</th>\n",
       "      <th>secondary_cleaner.output.tail_pb</th>\n",
       "      <th>secondary_cleaner.output.tail_sol</th>\n",
       "      <th>final.output.concentrate_au</th>\n",
       "      <th>final.output.concentrate_ag</th>\n",
       "      <th>final.output.concentrate_pb</th>\n",
       "      <th>final.output.concentrate_sol</th>\n",
       "      <th>final.output.recovery</th>\n",
       "      <th>final.output.tail_au</th>\n",
       "      <th>final.output.tail_ag</th>\n",
       "      <th>final.output.tail_pb</th>\n",
       "      <th>final.output.tail_sol</th>\n",
       "      <th>sum_concentrate_rougher</th>\n",
       "      <th>sum_primary_cleaner_output_concentrate</th>\n",
       "      <th>sum_final_output_concentrate</th>\n",
       "    </tr>\n",
       "    <tr>\n",
       "      <th>date</th>\n",
       "      <th></th>\n",
       "      <th></th>\n",
       "      <th></th>\n",
       "      <th></th>\n",
       "      <th></th>\n",
       "      <th></th>\n",
       "      <th></th>\n",
       "      <th></th>\n",
       "      <th></th>\n",
       "      <th></th>\n",
       "      <th></th>\n",
       "      <th></th>\n",
       "      <th></th>\n",
       "      <th></th>\n",
       "      <th></th>\n",
       "      <th></th>\n",
       "      <th></th>\n",
       "      <th></th>\n",
       "      <th></th>\n",
       "      <th></th>\n",
       "      <th></th>\n",
       "      <th></th>\n",
       "      <th></th>\n",
       "      <th></th>\n",
       "      <th></th>\n",
       "      <th></th>\n",
       "      <th></th>\n",
       "      <th></th>\n",
       "      <th></th>\n",
       "      <th></th>\n",
       "      <th></th>\n",
       "      <th></th>\n",
       "      <th></th>\n",
       "      <th></th>\n",
       "      <th></th>\n",
       "      <th></th>\n",
       "      <th></th>\n",
       "      <th></th>\n",
       "      <th></th>\n",
       "      <th></th>\n",
       "      <th></th>\n",
       "      <th></th>\n",
       "      <th></th>\n",
       "      <th></th>\n",
       "      <th></th>\n",
       "      <th></th>\n",
       "      <th></th>\n",
       "      <th></th>\n",
       "      <th></th>\n",
       "      <th></th>\n",
       "      <th></th>\n",
       "      <th></th>\n",
       "      <th></th>\n",
       "      <th></th>\n",
       "      <th></th>\n",
       "      <th></th>\n",
       "      <th></th>\n",
       "      <th></th>\n",
       "      <th></th>\n",
       "      <th></th>\n",
       "      <th></th>\n",
       "      <th></th>\n",
       "      <th></th>\n",
       "      <th></th>\n",
       "      <th></th>\n",
       "      <th></th>\n",
       "      <th></th>\n",
       "      <th></th>\n",
       "      <th></th>\n",
       "      <th></th>\n",
       "      <th></th>\n",
       "      <th></th>\n",
       "      <th></th>\n",
       "      <th></th>\n",
       "      <th></th>\n",
       "      <th></th>\n",
       "      <th></th>\n",
       "      <th></th>\n",
       "      <th></th>\n",
       "      <th></th>\n",
       "      <th></th>\n",
       "      <th></th>\n",
       "      <th></th>\n",
       "      <th></th>\n",
       "      <th></th>\n",
       "      <th></th>\n",
       "      <th></th>\n",
       "      <th></th>\n",
       "      <th></th>\n",
       "    </tr>\n",
       "  </thead>\n",
       "  <tbody>\n",
       "    <tr>\n",
       "      <th>2016-01-15 00:00:00</th>\n",
       "      <td>6.486150</td>\n",
       "      <td>6.100378</td>\n",
       "      <td>2.284912</td>\n",
       "      <td>36.808594</td>\n",
       "      <td>523.546326</td>\n",
       "      <td>55.486599</td>\n",
       "      <td>11.986616</td>\n",
       "      <td>6.007990</td>\n",
       "      <td>999.706909</td>\n",
       "      <td>-404.066986</td>\n",
       "      <td>1603.011353</td>\n",
       "      <td>-434.715027</td>\n",
       "      <td>1602.375000</td>\n",
       "      <td>-442.204468</td>\n",
       "      <td>1598.937256</td>\n",
       "      <td>-451.294128</td>\n",
       "      <td>1404.472046</td>\n",
       "      <td>-455.462982</td>\n",
       "      <td>1416.354980</td>\n",
       "      <td>-451.939636</td>\n",
       "      <td>11.836743</td>\n",
       "      <td>6.005818</td>\n",
       "      <td>41885.707031</td>\n",
       "      <td>3481.779053</td>\n",
       "      <td>3520.337158</td>\n",
       "      <td>2.838687</td>\n",
       "      <td>19.793808</td>\n",
       "      <td>11.500771</td>\n",
       "      <td>7.101074</td>\n",
       "      <td>28.029297</td>\n",
       "      <td>87.107763</td>\n",
       "      <td>1.170244</td>\n",
       "      <td>5.008018</td>\n",
       "      <td>0.508728</td>\n",
       "      <td>19.154297</td>\n",
       "      <td>127.092003</td>\n",
       "      <td>10.128295</td>\n",
       "      <td>7.25</td>\n",
       "      <td>0.988759</td>\n",
       "      <td>1549.775757</td>\n",
       "      <td>-498.912140</td>\n",
       "      <td>1551.434204</td>\n",
       "      <td>-516.403442</td>\n",
       "      <td>1549.873901</td>\n",
       "      <td>-498.666595</td>\n",
       "      <td>1554.367432</td>\n",
       "      <td>-493.428131</td>\n",
       "      <td>34.174427</td>\n",
       "      <td>8.547551</td>\n",
       "      <td>10.389648</td>\n",
       "      <td>19.529297</td>\n",
       "      <td>2.106679</td>\n",
       "      <td>14.936526</td>\n",
       "      <td>2.534912</td>\n",
       "      <td>7.476074</td>\n",
       "      <td>25.853109</td>\n",
       "      <td>-498.526489</td>\n",
       "      <td>23.893660</td>\n",
       "      <td>-501.406281</td>\n",
       "      <td>23.961798</td>\n",
       "      <td>-495.262817</td>\n",
       "      <td>21.940409</td>\n",
       "      <td>-499.340973</td>\n",
       "      <td>14.016835</td>\n",
       "      <td>-502.488007</td>\n",
       "      <td>12.099931</td>\n",
       "      <td>-504.715942</td>\n",
       "      <td>9.925633</td>\n",
       "      <td>-498.310211</td>\n",
       "      <td>8.079666</td>\n",
       "      <td>-500.470978</td>\n",
       "      <td>14.151341</td>\n",
       "      <td>-605.841980</td>\n",
       "      <td>2.606185</td>\n",
       "      <td>14.500184</td>\n",
       "      <td>4.694824</td>\n",
       "      <td>8.764648</td>\n",
       "      <td>42.192020</td>\n",
       "      <td>6.055403</td>\n",
       "      <td>9.889648</td>\n",
       "      <td>5.507324</td>\n",
       "      <td>70.541216</td>\n",
       "      <td>2.143149</td>\n",
       "      <td>10.411962</td>\n",
       "      <td>0.895447</td>\n",
       "      <td>16.904297</td>\n",
       "      <td>66.424950</td>\n",
       "      <td>72.640924</td>\n",
       "      <td>63.644396</td>\n",
       "    </tr>\n",
       "    <tr>\n",
       "      <th>2016-01-15 01:00:00</th>\n",
       "      <td>6.478583</td>\n",
       "      <td>6.161113</td>\n",
       "      <td>2.266033</td>\n",
       "      <td>35.753385</td>\n",
       "      <td>525.290581</td>\n",
       "      <td>57.278666</td>\n",
       "      <td>11.971193</td>\n",
       "      <td>6.005766</td>\n",
       "      <td>1000.286398</td>\n",
       "      <td>-400.065196</td>\n",
       "      <td>1600.754587</td>\n",
       "      <td>-449.953435</td>\n",
       "      <td>1600.479580</td>\n",
       "      <td>-449.830646</td>\n",
       "      <td>1600.527589</td>\n",
       "      <td>-449.953649</td>\n",
       "      <td>1399.227084</td>\n",
       "      <td>-450.869848</td>\n",
       "      <td>1399.719514</td>\n",
       "      <td>-450.119001</td>\n",
       "      <td>11.996163</td>\n",
       "      <td>6.012594</td>\n",
       "      <td>42050.861809</td>\n",
       "      <td>3498.370979</td>\n",
       "      <td>3489.981857</td>\n",
       "      <td>2.858998</td>\n",
       "      <td>20.050975</td>\n",
       "      <td>11.615865</td>\n",
       "      <td>7.278807</td>\n",
       "      <td>28.067063</td>\n",
       "      <td>86.843261</td>\n",
       "      <td>1.184827</td>\n",
       "      <td>4.955378</td>\n",
       "      <td>0.536689</td>\n",
       "      <td>18.965234</td>\n",
       "      <td>125.629232</td>\n",
       "      <td>10.296251</td>\n",
       "      <td>7.25</td>\n",
       "      <td>1.002663</td>\n",
       "      <td>1576.166671</td>\n",
       "      <td>-500.904965</td>\n",
       "      <td>1575.950626</td>\n",
       "      <td>-499.865889</td>\n",
       "      <td>1575.994189</td>\n",
       "      <td>-499.315107</td>\n",
       "      <td>1574.479259</td>\n",
       "      <td>-498.931665</td>\n",
       "      <td>34.118526</td>\n",
       "      <td>8.558743</td>\n",
       "      <td>10.497069</td>\n",
       "      <td>19.369147</td>\n",
       "      <td>2.353017</td>\n",
       "      <td>16.250511</td>\n",
       "      <td>3.049646</td>\n",
       "      <td>6.733907</td>\n",
       "      <td>25.880539</td>\n",
       "      <td>-499.989656</td>\n",
       "      <td>23.889530</td>\n",
       "      <td>-500.372428</td>\n",
       "      <td>23.970550</td>\n",
       "      <td>-500.085473</td>\n",
       "      <td>22.085714</td>\n",
       "      <td>-499.446897</td>\n",
       "      <td>13.992281</td>\n",
       "      <td>-505.503262</td>\n",
       "      <td>11.950531</td>\n",
       "      <td>-501.331529</td>\n",
       "      <td>10.039245</td>\n",
       "      <td>-500.169983</td>\n",
       "      <td>7.984757</td>\n",
       "      <td>-500.582168</td>\n",
       "      <td>13.998353</td>\n",
       "      <td>-599.787184</td>\n",
       "      <td>2.488248</td>\n",
       "      <td>14.265474</td>\n",
       "      <td>4.592547</td>\n",
       "      <td>9.001494</td>\n",
       "      <td>42.701629</td>\n",
       "      <td>6.029369</td>\n",
       "      <td>9.968944</td>\n",
       "      <td>5.257781</td>\n",
       "      <td>69.266198</td>\n",
       "      <td>2.224930</td>\n",
       "      <td>10.462676</td>\n",
       "      <td>0.927452</td>\n",
       "      <td>16.634514</td>\n",
       "      <td>67.012710</td>\n",
       "      <td>72.543485</td>\n",
       "      <td>63.957723</td>\n",
       "    </tr>\n",
       "    <tr>\n",
       "      <th>2016-01-15 02:00:00</th>\n",
       "      <td>6.362222</td>\n",
       "      <td>6.116455</td>\n",
       "      <td>2.159622</td>\n",
       "      <td>35.971630</td>\n",
       "      <td>530.026610</td>\n",
       "      <td>57.510649</td>\n",
       "      <td>11.920603</td>\n",
       "      <td>6.197377</td>\n",
       "      <td>999.719565</td>\n",
       "      <td>-400.074028</td>\n",
       "      <td>1599.337330</td>\n",
       "      <td>-450.008530</td>\n",
       "      <td>1599.672797</td>\n",
       "      <td>-449.954491</td>\n",
       "      <td>1599.849325</td>\n",
       "      <td>-449.954185</td>\n",
       "      <td>1399.180945</td>\n",
       "      <td>-449.937588</td>\n",
       "      <td>1400.316682</td>\n",
       "      <td>-450.527147</td>\n",
       "      <td>11.920305</td>\n",
       "      <td>6.204633</td>\n",
       "      <td>42018.101184</td>\n",
       "      <td>3495.348910</td>\n",
       "      <td>3502.359819</td>\n",
       "      <td>2.945989</td>\n",
       "      <td>19.737170</td>\n",
       "      <td>11.695753</td>\n",
       "      <td>7.216833</td>\n",
       "      <td>27.454037</td>\n",
       "      <td>86.842308</td>\n",
       "      <td>1.162562</td>\n",
       "      <td>4.843460</td>\n",
       "      <td>0.546416</td>\n",
       "      <td>18.808533</td>\n",
       "      <td>123.819808</td>\n",
       "      <td>11.316280</td>\n",
       "      <td>7.25</td>\n",
       "      <td>0.991265</td>\n",
       "      <td>1601.556163</td>\n",
       "      <td>-499.997791</td>\n",
       "      <td>1600.386685</td>\n",
       "      <td>-500.607762</td>\n",
       "      <td>1602.003542</td>\n",
       "      <td>-500.870069</td>\n",
       "      <td>1599.541515</td>\n",
       "      <td>-499.827444</td>\n",
       "      <td>33.969464</td>\n",
       "      <td>8.603505</td>\n",
       "      <td>10.354494</td>\n",
       "      <td>19.167579</td>\n",
       "      <td>2.416800</td>\n",
       "      <td>16.491823</td>\n",
       "      <td>3.124664</td>\n",
       "      <td>6.471768</td>\n",
       "      <td>26.005245</td>\n",
       "      <td>-499.929616</td>\n",
       "      <td>23.886657</td>\n",
       "      <td>-499.951928</td>\n",
       "      <td>23.913535</td>\n",
       "      <td>-499.442343</td>\n",
       "      <td>23.957717</td>\n",
       "      <td>-499.901982</td>\n",
       "      <td>14.015015</td>\n",
       "      <td>-502.520901</td>\n",
       "      <td>11.912783</td>\n",
       "      <td>-501.133383</td>\n",
       "      <td>10.070913</td>\n",
       "      <td>-500.129135</td>\n",
       "      <td>8.013877</td>\n",
       "      <td>-500.517572</td>\n",
       "      <td>14.028663</td>\n",
       "      <td>-601.427363</td>\n",
       "      <td>2.458187</td>\n",
       "      <td>14.115662</td>\n",
       "      <td>4.624775</td>\n",
       "      <td>8.842896</td>\n",
       "      <td>42.657501</td>\n",
       "      <td>6.055926</td>\n",
       "      <td>10.213995</td>\n",
       "      <td>5.383759</td>\n",
       "      <td>68.116445</td>\n",
       "      <td>2.257889</td>\n",
       "      <td>10.507046</td>\n",
       "      <td>0.953716</td>\n",
       "      <td>16.208849</td>\n",
       "      <td>66.103793</td>\n",
       "      <td>72.095042</td>\n",
       "      <td>64.311180</td>\n",
       "    </tr>\n",
       "    <tr>\n",
       "      <th>2016-01-15 03:00:00</th>\n",
       "      <td>6.118189</td>\n",
       "      <td>6.043309</td>\n",
       "      <td>2.037807</td>\n",
       "      <td>36.862241</td>\n",
       "      <td>542.590390</td>\n",
       "      <td>57.792734</td>\n",
       "      <td>11.630094</td>\n",
       "      <td>6.203177</td>\n",
       "      <td>999.814770</td>\n",
       "      <td>-400.200179</td>\n",
       "      <td>1600.059442</td>\n",
       "      <td>-450.619948</td>\n",
       "      <td>1600.012842</td>\n",
       "      <td>-449.910497</td>\n",
       "      <td>1597.725177</td>\n",
       "      <td>-450.130127</td>\n",
       "      <td>1400.943157</td>\n",
       "      <td>-450.030142</td>\n",
       "      <td>1400.234743</td>\n",
       "      <td>-449.790835</td>\n",
       "      <td>11.692450</td>\n",
       "      <td>6.196578</td>\n",
       "      <td>42029.447991</td>\n",
       "      <td>3498.578313</td>\n",
       "      <td>3499.162912</td>\n",
       "      <td>3.002340</td>\n",
       "      <td>19.320810</td>\n",
       "      <td>11.915047</td>\n",
       "      <td>7.175616</td>\n",
       "      <td>27.341277</td>\n",
       "      <td>87.226430</td>\n",
       "      <td>1.079755</td>\n",
       "      <td>4.655288</td>\n",
       "      <td>0.542525</td>\n",
       "      <td>19.330200</td>\n",
       "      <td>122.270188</td>\n",
       "      <td>11.322140</td>\n",
       "      <td>7.25</td>\n",
       "      <td>0.996739</td>\n",
       "      <td>1599.968720</td>\n",
       "      <td>-500.951778</td>\n",
       "      <td>1600.659236</td>\n",
       "      <td>-499.677094</td>\n",
       "      <td>1600.304144</td>\n",
       "      <td>-500.727997</td>\n",
       "      <td>1600.449520</td>\n",
       "      <td>-500.052575</td>\n",
       "      <td>28.260743</td>\n",
       "      <td>7.221879</td>\n",
       "      <td>8.496563</td>\n",
       "      <td>15.978538</td>\n",
       "      <td>2.262051</td>\n",
       "      <td>16.024359</td>\n",
       "      <td>2.960362</td>\n",
       "      <td>6.843791</td>\n",
       "      <td>25.942508</td>\n",
       "      <td>-499.176749</td>\n",
       "      <td>23.955516</td>\n",
       "      <td>-499.848796</td>\n",
       "      <td>23.966838</td>\n",
       "      <td>-500.008812</td>\n",
       "      <td>23.954443</td>\n",
       "      <td>-499.944710</td>\n",
       "      <td>14.036510</td>\n",
       "      <td>-500.857308</td>\n",
       "      <td>11.999550</td>\n",
       "      <td>-501.193686</td>\n",
       "      <td>9.970366</td>\n",
       "      <td>-499.201640</td>\n",
       "      <td>7.977324</td>\n",
       "      <td>-500.255908</td>\n",
       "      <td>14.005551</td>\n",
       "      <td>-599.996129</td>\n",
       "      <td>2.322062</td>\n",
       "      <td>13.732071</td>\n",
       "      <td>4.482453</td>\n",
       "      <td>9.122857</td>\n",
       "      <td>42.689819</td>\n",
       "      <td>6.047977</td>\n",
       "      <td>9.977019</td>\n",
       "      <td>4.858634</td>\n",
       "      <td>68.347543</td>\n",
       "      <td>2.146849</td>\n",
       "      <td>10.422762</td>\n",
       "      <td>0.883763</td>\n",
       "      <td>16.532835</td>\n",
       "      <td>65.752751</td>\n",
       "      <td>59.957723</td>\n",
       "      <td>63.573449</td>\n",
       "    </tr>\n",
       "    <tr>\n",
       "      <th>2016-01-15 04:00:00</th>\n",
       "      <td>5.663707</td>\n",
       "      <td>6.060915</td>\n",
       "      <td>1.786875</td>\n",
       "      <td>34.347666</td>\n",
       "      <td>540.531893</td>\n",
       "      <td>56.047189</td>\n",
       "      <td>10.957755</td>\n",
       "      <td>6.198826</td>\n",
       "      <td>999.678690</td>\n",
       "      <td>-399.752729</td>\n",
       "      <td>1600.208824</td>\n",
       "      <td>-449.599614</td>\n",
       "      <td>1600.357732</td>\n",
       "      <td>-450.034364</td>\n",
       "      <td>1599.759049</td>\n",
       "      <td>-449.909799</td>\n",
       "      <td>1401.560902</td>\n",
       "      <td>-448.877187</td>\n",
       "      <td>1401.160227</td>\n",
       "      <td>-450.407128</td>\n",
       "      <td>10.960521</td>\n",
       "      <td>6.194897</td>\n",
       "      <td>42125.354245</td>\n",
       "      <td>3494.800771</td>\n",
       "      <td>3506.679315</td>\n",
       "      <td>3.169615</td>\n",
       "      <td>19.216101</td>\n",
       "      <td>12.411054</td>\n",
       "      <td>7.240205</td>\n",
       "      <td>27.041023</td>\n",
       "      <td>86.688794</td>\n",
       "      <td>1.012642</td>\n",
       "      <td>4.552800</td>\n",
       "      <td>0.515438</td>\n",
       "      <td>19.267422</td>\n",
       "      <td>117.988169</td>\n",
       "      <td>11.913613</td>\n",
       "      <td>7.25</td>\n",
       "      <td>1.009869</td>\n",
       "      <td>1601.339707</td>\n",
       "      <td>-498.975456</td>\n",
       "      <td>1601.437854</td>\n",
       "      <td>-500.323246</td>\n",
       "      <td>1599.581894</td>\n",
       "      <td>-500.888152</td>\n",
       "      <td>1602.649541</td>\n",
       "      <td>-500.593010</td>\n",
       "      <td>33.044932</td>\n",
       "      <td>9.089428</td>\n",
       "      <td>9.986786</td>\n",
       "      <td>19.199864</td>\n",
       "      <td>2.277073</td>\n",
       "      <td>16.480185</td>\n",
       "      <td>3.112100</td>\n",
       "      <td>6.550154</td>\n",
       "      <td>26.024787</td>\n",
       "      <td>-500.279091</td>\n",
       "      <td>23.955345</td>\n",
       "      <td>-500.593614</td>\n",
       "      <td>23.985703</td>\n",
       "      <td>-500.083811</td>\n",
       "      <td>23.958945</td>\n",
       "      <td>-499.990309</td>\n",
       "      <td>14.027298</td>\n",
       "      <td>-499.838632</td>\n",
       "      <td>11.953070</td>\n",
       "      <td>-501.053894</td>\n",
       "      <td>9.925709</td>\n",
       "      <td>-501.686727</td>\n",
       "      <td>7.894242</td>\n",
       "      <td>-500.356035</td>\n",
       "      <td>13.996647</td>\n",
       "      <td>-601.496691</td>\n",
       "      <td>2.330448</td>\n",
       "      <td>14.079996</td>\n",
       "      <td>4.470737</td>\n",
       "      <td>8.871028</td>\n",
       "      <td>42.774141</td>\n",
       "      <td>6.148599</td>\n",
       "      <td>10.142511</td>\n",
       "      <td>4.939416</td>\n",
       "      <td>66.927016</td>\n",
       "      <td>2.055292</td>\n",
       "      <td>10.360302</td>\n",
       "      <td>0.792826</td>\n",
       "      <td>16.525686</td>\n",
       "      <td>65.908382</td>\n",
       "      <td>71.321010</td>\n",
       "      <td>64.004667</td>\n",
       "    </tr>\n",
       "  </tbody>\n",
       "</table>\n",
       "</div>"
      ],
      "text/plain": [
       "                     rougher.input.feed_au  rougher.input.feed_ag  \\\n",
       "date                                                                \n",
       "2016-01-15 00:00:00               6.486150               6.100378   \n",
       "2016-01-15 01:00:00               6.478583               6.161113   \n",
       "2016-01-15 02:00:00               6.362222               6.116455   \n",
       "2016-01-15 03:00:00               6.118189               6.043309   \n",
       "2016-01-15 04:00:00               5.663707               6.060915   \n",
       "\n",
       "                     rougher.input.feed_pb  rougher.input.feed_sol  \\\n",
       "date                                                                 \n",
       "2016-01-15 00:00:00               2.284912               36.808594   \n",
       "2016-01-15 01:00:00               2.266033               35.753385   \n",
       "2016-01-15 02:00:00               2.159622               35.971630   \n",
       "2016-01-15 03:00:00               2.037807               36.862241   \n",
       "2016-01-15 04:00:00               1.786875               34.347666   \n",
       "\n",
       "                     rougher.input.feed_rate  rougher.input.feed_size  \\\n",
       "date                                                                    \n",
       "2016-01-15 00:00:00               523.546326                55.486599   \n",
       "2016-01-15 01:00:00               525.290581                57.278666   \n",
       "2016-01-15 02:00:00               530.026610                57.510649   \n",
       "2016-01-15 03:00:00               542.590390                57.792734   \n",
       "2016-01-15 04:00:00               540.531893                56.047189   \n",
       "\n",
       "                     rougher.input.floatbank10_sulfate  \\\n",
       "date                                                     \n",
       "2016-01-15 00:00:00                          11.986616   \n",
       "2016-01-15 01:00:00                          11.971193   \n",
       "2016-01-15 02:00:00                          11.920603   \n",
       "2016-01-15 03:00:00                          11.630094   \n",
       "2016-01-15 04:00:00                          10.957755   \n",
       "\n",
       "                     rougher.input.floatbank10_xanthate  \\\n",
       "date                                                      \n",
       "2016-01-15 00:00:00                            6.007990   \n",
       "2016-01-15 01:00:00                            6.005766   \n",
       "2016-01-15 02:00:00                            6.197377   \n",
       "2016-01-15 03:00:00                            6.203177   \n",
       "2016-01-15 04:00:00                            6.198826   \n",
       "\n",
       "                     rougher.state.floatbank10_a_air  \\\n",
       "date                                                   \n",
       "2016-01-15 00:00:00                       999.706909   \n",
       "2016-01-15 01:00:00                      1000.286398   \n",
       "2016-01-15 02:00:00                       999.719565   \n",
       "2016-01-15 03:00:00                       999.814770   \n",
       "2016-01-15 04:00:00                       999.678690   \n",
       "\n",
       "                     rougher.state.floatbank10_a_level  \\\n",
       "date                                                     \n",
       "2016-01-15 00:00:00                        -404.066986   \n",
       "2016-01-15 01:00:00                        -400.065196   \n",
       "2016-01-15 02:00:00                        -400.074028   \n",
       "2016-01-15 03:00:00                        -400.200179   \n",
       "2016-01-15 04:00:00                        -399.752729   \n",
       "\n",
       "                     rougher.state.floatbank10_b_air  \\\n",
       "date                                                   \n",
       "2016-01-15 00:00:00                      1603.011353   \n",
       "2016-01-15 01:00:00                      1600.754587   \n",
       "2016-01-15 02:00:00                      1599.337330   \n",
       "2016-01-15 03:00:00                      1600.059442   \n",
       "2016-01-15 04:00:00                      1600.208824   \n",
       "\n",
       "                     rougher.state.floatbank10_b_level  \\\n",
       "date                                                     \n",
       "2016-01-15 00:00:00                        -434.715027   \n",
       "2016-01-15 01:00:00                        -449.953435   \n",
       "2016-01-15 02:00:00                        -450.008530   \n",
       "2016-01-15 03:00:00                        -450.619948   \n",
       "2016-01-15 04:00:00                        -449.599614   \n",
       "\n",
       "                     rougher.state.floatbank10_c_air  \\\n",
       "date                                                   \n",
       "2016-01-15 00:00:00                      1602.375000   \n",
       "2016-01-15 01:00:00                      1600.479580   \n",
       "2016-01-15 02:00:00                      1599.672797   \n",
       "2016-01-15 03:00:00                      1600.012842   \n",
       "2016-01-15 04:00:00                      1600.357732   \n",
       "\n",
       "                     rougher.state.floatbank10_c_level  \\\n",
       "date                                                     \n",
       "2016-01-15 00:00:00                        -442.204468   \n",
       "2016-01-15 01:00:00                        -449.830646   \n",
       "2016-01-15 02:00:00                        -449.954491   \n",
       "2016-01-15 03:00:00                        -449.910497   \n",
       "2016-01-15 04:00:00                        -450.034364   \n",
       "\n",
       "                     rougher.state.floatbank10_d_air  \\\n",
       "date                                                   \n",
       "2016-01-15 00:00:00                      1598.937256   \n",
       "2016-01-15 01:00:00                      1600.527589   \n",
       "2016-01-15 02:00:00                      1599.849325   \n",
       "2016-01-15 03:00:00                      1597.725177   \n",
       "2016-01-15 04:00:00                      1599.759049   \n",
       "\n",
       "                     rougher.state.floatbank10_d_level  \\\n",
       "date                                                     \n",
       "2016-01-15 00:00:00                        -451.294128   \n",
       "2016-01-15 01:00:00                        -449.953649   \n",
       "2016-01-15 02:00:00                        -449.954185   \n",
       "2016-01-15 03:00:00                        -450.130127   \n",
       "2016-01-15 04:00:00                        -449.909799   \n",
       "\n",
       "                     rougher.state.floatbank10_e_air  \\\n",
       "date                                                   \n",
       "2016-01-15 00:00:00                      1404.472046   \n",
       "2016-01-15 01:00:00                      1399.227084   \n",
       "2016-01-15 02:00:00                      1399.180945   \n",
       "2016-01-15 03:00:00                      1400.943157   \n",
       "2016-01-15 04:00:00                      1401.560902   \n",
       "\n",
       "                     rougher.state.floatbank10_e_level  \\\n",
       "date                                                     \n",
       "2016-01-15 00:00:00                        -455.462982   \n",
       "2016-01-15 01:00:00                        -450.869848   \n",
       "2016-01-15 02:00:00                        -449.937588   \n",
       "2016-01-15 03:00:00                        -450.030142   \n",
       "2016-01-15 04:00:00                        -448.877187   \n",
       "\n",
       "                     rougher.state.floatbank10_f_air  \\\n",
       "date                                                   \n",
       "2016-01-15 00:00:00                      1416.354980   \n",
       "2016-01-15 01:00:00                      1399.719514   \n",
       "2016-01-15 02:00:00                      1400.316682   \n",
       "2016-01-15 03:00:00                      1400.234743   \n",
       "2016-01-15 04:00:00                      1401.160227   \n",
       "\n",
       "                     rougher.state.floatbank10_f_level  \\\n",
       "date                                                     \n",
       "2016-01-15 00:00:00                        -451.939636   \n",
       "2016-01-15 01:00:00                        -450.119001   \n",
       "2016-01-15 02:00:00                        -450.527147   \n",
       "2016-01-15 03:00:00                        -449.790835   \n",
       "2016-01-15 04:00:00                        -450.407128   \n",
       "\n",
       "                     rougher.input.floatbank11_sulfate  \\\n",
       "date                                                     \n",
       "2016-01-15 00:00:00                          11.836743   \n",
       "2016-01-15 01:00:00                          11.996163   \n",
       "2016-01-15 02:00:00                          11.920305   \n",
       "2016-01-15 03:00:00                          11.692450   \n",
       "2016-01-15 04:00:00                          10.960521   \n",
       "\n",
       "                     rougher.input.floatbank11_xanthate  \\\n",
       "date                                                      \n",
       "2016-01-15 00:00:00                            6.005818   \n",
       "2016-01-15 01:00:00                            6.012594   \n",
       "2016-01-15 02:00:00                            6.204633   \n",
       "2016-01-15 03:00:00                            6.196578   \n",
       "2016-01-15 04:00:00                            6.194897   \n",
       "\n",
       "                     rougher.calculation.sulfate_to_au_concentrate  \\\n",
       "date                                                                 \n",
       "2016-01-15 00:00:00                                   41885.707031   \n",
       "2016-01-15 01:00:00                                   42050.861809   \n",
       "2016-01-15 02:00:00                                   42018.101184   \n",
       "2016-01-15 03:00:00                                   42029.447991   \n",
       "2016-01-15 04:00:00                                   42125.354245   \n",
       "\n",
       "                     rougher.calculation.floatbank10_sulfate_to_au_feed  \\\n",
       "date                                                                      \n",
       "2016-01-15 00:00:00                                        3481.779053    \n",
       "2016-01-15 01:00:00                                        3498.370979    \n",
       "2016-01-15 02:00:00                                        3495.348910    \n",
       "2016-01-15 03:00:00                                        3498.578313    \n",
       "2016-01-15 04:00:00                                        3494.800771    \n",
       "\n",
       "                     rougher.calculation.floatbank11_sulfate_to_au_feed  \\\n",
       "date                                                                      \n",
       "2016-01-15 00:00:00                                        3520.337158    \n",
       "2016-01-15 01:00:00                                        3489.981857    \n",
       "2016-01-15 02:00:00                                        3502.359819    \n",
       "2016-01-15 03:00:00                                        3499.162912    \n",
       "2016-01-15 04:00:00                                        3506.679315    \n",
       "\n",
       "                     rougher.calculation.au_pb_ratio  \\\n",
       "date                                                   \n",
       "2016-01-15 00:00:00                         2.838687   \n",
       "2016-01-15 01:00:00                         2.858998   \n",
       "2016-01-15 02:00:00                         2.945989   \n",
       "2016-01-15 03:00:00                         3.002340   \n",
       "2016-01-15 04:00:00                         3.169615   \n",
       "\n",
       "                     rougher.output.concentrate_au  \\\n",
       "date                                                 \n",
       "2016-01-15 00:00:00                      19.793808   \n",
       "2016-01-15 01:00:00                      20.050975   \n",
       "2016-01-15 02:00:00                      19.737170   \n",
       "2016-01-15 03:00:00                      19.320810   \n",
       "2016-01-15 04:00:00                      19.216101   \n",
       "\n",
       "                     rougher.output.concentrate_ag  \\\n",
       "date                                                 \n",
       "2016-01-15 00:00:00                      11.500771   \n",
       "2016-01-15 01:00:00                      11.615865   \n",
       "2016-01-15 02:00:00                      11.695753   \n",
       "2016-01-15 03:00:00                      11.915047   \n",
       "2016-01-15 04:00:00                      12.411054   \n",
       "\n",
       "                     rougher.output.concentrate_pb  \\\n",
       "date                                                 \n",
       "2016-01-15 00:00:00                       7.101074   \n",
       "2016-01-15 01:00:00                       7.278807   \n",
       "2016-01-15 02:00:00                       7.216833   \n",
       "2016-01-15 03:00:00                       7.175616   \n",
       "2016-01-15 04:00:00                       7.240205   \n",
       "\n",
       "                     rougher.output.concentrate_sol  rougher.output.recovery  \\\n",
       "date                                                                           \n",
       "2016-01-15 00:00:00                       28.029297                87.107763   \n",
       "2016-01-15 01:00:00                       28.067063                86.843261   \n",
       "2016-01-15 02:00:00                       27.454037                86.842308   \n",
       "2016-01-15 03:00:00                       27.341277                87.226430   \n",
       "2016-01-15 04:00:00                       27.041023                86.688794   \n",
       "\n",
       "                     rougher.output.tail_au  rougher.output.tail_ag  \\\n",
       "date                                                                  \n",
       "2016-01-15 00:00:00                1.170244                5.008018   \n",
       "2016-01-15 01:00:00                1.184827                4.955378   \n",
       "2016-01-15 02:00:00                1.162562                4.843460   \n",
       "2016-01-15 03:00:00                1.079755                4.655288   \n",
       "2016-01-15 04:00:00                1.012642                4.552800   \n",
       "\n",
       "                     rougher.output.tail_pb  rougher.output.tail_sol  \\\n",
       "date                                                                   \n",
       "2016-01-15 00:00:00                0.508728                19.154297   \n",
       "2016-01-15 01:00:00                0.536689                18.965234   \n",
       "2016-01-15 02:00:00                0.546416                18.808533   \n",
       "2016-01-15 03:00:00                0.542525                19.330200   \n",
       "2016-01-15 04:00:00                0.515438                19.267422   \n",
       "\n",
       "                     primary_cleaner.input.sulfate  \\\n",
       "date                                                 \n",
       "2016-01-15 00:00:00                     127.092003   \n",
       "2016-01-15 01:00:00                     125.629232   \n",
       "2016-01-15 02:00:00                     123.819808   \n",
       "2016-01-15 03:00:00                     122.270188   \n",
       "2016-01-15 04:00:00                     117.988169   \n",
       "\n",
       "                     primary_cleaner.input.depressant  \\\n",
       "date                                                    \n",
       "2016-01-15 00:00:00                         10.128295   \n",
       "2016-01-15 01:00:00                         10.296251   \n",
       "2016-01-15 02:00:00                         11.316280   \n",
       "2016-01-15 03:00:00                         11.322140   \n",
       "2016-01-15 04:00:00                         11.913613   \n",
       "\n",
       "                     primary_cleaner.input.feed_size  \\\n",
       "date                                                   \n",
       "2016-01-15 00:00:00                             7.25   \n",
       "2016-01-15 01:00:00                             7.25   \n",
       "2016-01-15 02:00:00                             7.25   \n",
       "2016-01-15 03:00:00                             7.25   \n",
       "2016-01-15 04:00:00                             7.25   \n",
       "\n",
       "                     primary_cleaner.input.xanthate  \\\n",
       "date                                                  \n",
       "2016-01-15 00:00:00                        0.988759   \n",
       "2016-01-15 01:00:00                        1.002663   \n",
       "2016-01-15 02:00:00                        0.991265   \n",
       "2016-01-15 03:00:00                        0.996739   \n",
       "2016-01-15 04:00:00                        1.009869   \n",
       "\n",
       "                     primary_cleaner.state.floatbank8_a_air  \\\n",
       "date                                                          \n",
       "2016-01-15 00:00:00                             1549.775757   \n",
       "2016-01-15 01:00:00                             1576.166671   \n",
       "2016-01-15 02:00:00                             1601.556163   \n",
       "2016-01-15 03:00:00                             1599.968720   \n",
       "2016-01-15 04:00:00                             1601.339707   \n",
       "\n",
       "                     primary_cleaner.state.floatbank8_a_level  \\\n",
       "date                                                            \n",
       "2016-01-15 00:00:00                               -498.912140   \n",
       "2016-01-15 01:00:00                               -500.904965   \n",
       "2016-01-15 02:00:00                               -499.997791   \n",
       "2016-01-15 03:00:00                               -500.951778   \n",
       "2016-01-15 04:00:00                               -498.975456   \n",
       "\n",
       "                     primary_cleaner.state.floatbank8_b_air  \\\n",
       "date                                                          \n",
       "2016-01-15 00:00:00                             1551.434204   \n",
       "2016-01-15 01:00:00                             1575.950626   \n",
       "2016-01-15 02:00:00                             1600.386685   \n",
       "2016-01-15 03:00:00                             1600.659236   \n",
       "2016-01-15 04:00:00                             1601.437854   \n",
       "\n",
       "                     primary_cleaner.state.floatbank8_b_level  \\\n",
       "date                                                            \n",
       "2016-01-15 00:00:00                               -516.403442   \n",
       "2016-01-15 01:00:00                               -499.865889   \n",
       "2016-01-15 02:00:00                               -500.607762   \n",
       "2016-01-15 03:00:00                               -499.677094   \n",
       "2016-01-15 04:00:00                               -500.323246   \n",
       "\n",
       "                     primary_cleaner.state.floatbank8_c_air  \\\n",
       "date                                                          \n",
       "2016-01-15 00:00:00                             1549.873901   \n",
       "2016-01-15 01:00:00                             1575.994189   \n",
       "2016-01-15 02:00:00                             1602.003542   \n",
       "2016-01-15 03:00:00                             1600.304144   \n",
       "2016-01-15 04:00:00                             1599.581894   \n",
       "\n",
       "                     primary_cleaner.state.floatbank8_c_level  \\\n",
       "date                                                            \n",
       "2016-01-15 00:00:00                               -498.666595   \n",
       "2016-01-15 01:00:00                               -499.315107   \n",
       "2016-01-15 02:00:00                               -500.870069   \n",
       "2016-01-15 03:00:00                               -500.727997   \n",
       "2016-01-15 04:00:00                               -500.888152   \n",
       "\n",
       "                     primary_cleaner.state.floatbank8_d_air  \\\n",
       "date                                                          \n",
       "2016-01-15 00:00:00                             1554.367432   \n",
       "2016-01-15 01:00:00                             1574.479259   \n",
       "2016-01-15 02:00:00                             1599.541515   \n",
       "2016-01-15 03:00:00                             1600.449520   \n",
       "2016-01-15 04:00:00                             1602.649541   \n",
       "\n",
       "                     primary_cleaner.state.floatbank8_d_level  \\\n",
       "date                                                            \n",
       "2016-01-15 00:00:00                               -493.428131   \n",
       "2016-01-15 01:00:00                               -498.931665   \n",
       "2016-01-15 02:00:00                               -499.827444   \n",
       "2016-01-15 03:00:00                               -500.052575   \n",
       "2016-01-15 04:00:00                               -500.593010   \n",
       "\n",
       "                     primary_cleaner.output.concentrate_au  \\\n",
       "date                                                         \n",
       "2016-01-15 00:00:00                              34.174427   \n",
       "2016-01-15 01:00:00                              34.118526   \n",
       "2016-01-15 02:00:00                              33.969464   \n",
       "2016-01-15 03:00:00                              28.260743   \n",
       "2016-01-15 04:00:00                              33.044932   \n",
       "\n",
       "                     primary_cleaner.output.concentrate_ag  \\\n",
       "date                                                         \n",
       "2016-01-15 00:00:00                               8.547551   \n",
       "2016-01-15 01:00:00                               8.558743   \n",
       "2016-01-15 02:00:00                               8.603505   \n",
       "2016-01-15 03:00:00                               7.221879   \n",
       "2016-01-15 04:00:00                               9.089428   \n",
       "\n",
       "                     primary_cleaner.output.concentrate_pb  \\\n",
       "date                                                         \n",
       "2016-01-15 00:00:00                              10.389648   \n",
       "2016-01-15 01:00:00                              10.497069   \n",
       "2016-01-15 02:00:00                              10.354494   \n",
       "2016-01-15 03:00:00                               8.496563   \n",
       "2016-01-15 04:00:00                               9.986786   \n",
       "\n",
       "                     primary_cleaner.output.concentrate_sol  \\\n",
       "date                                                          \n",
       "2016-01-15 00:00:00                               19.529297   \n",
       "2016-01-15 01:00:00                               19.369147   \n",
       "2016-01-15 02:00:00                               19.167579   \n",
       "2016-01-15 03:00:00                               15.978538   \n",
       "2016-01-15 04:00:00                               19.199864   \n",
       "\n",
       "                     primary_cleaner.output.tail_au  \\\n",
       "date                                                  \n",
       "2016-01-15 00:00:00                        2.106679   \n",
       "2016-01-15 01:00:00                        2.353017   \n",
       "2016-01-15 02:00:00                        2.416800   \n",
       "2016-01-15 03:00:00                        2.262051   \n",
       "2016-01-15 04:00:00                        2.277073   \n",
       "\n",
       "                     primary_cleaner.output.tail_ag  \\\n",
       "date                                                  \n",
       "2016-01-15 00:00:00                       14.936526   \n",
       "2016-01-15 01:00:00                       16.250511   \n",
       "2016-01-15 02:00:00                       16.491823   \n",
       "2016-01-15 03:00:00                       16.024359   \n",
       "2016-01-15 04:00:00                       16.480185   \n",
       "\n",
       "                     primary_cleaner.output.tail_pb  \\\n",
       "date                                                  \n",
       "2016-01-15 00:00:00                        2.534912   \n",
       "2016-01-15 01:00:00                        3.049646   \n",
       "2016-01-15 02:00:00                        3.124664   \n",
       "2016-01-15 03:00:00                        2.960362   \n",
       "2016-01-15 04:00:00                        3.112100   \n",
       "\n",
       "                     primary_cleaner.output.tail_sol  \\\n",
       "date                                                   \n",
       "2016-01-15 00:00:00                         7.476074   \n",
       "2016-01-15 01:00:00                         6.733907   \n",
       "2016-01-15 02:00:00                         6.471768   \n",
       "2016-01-15 03:00:00                         6.843791   \n",
       "2016-01-15 04:00:00                         6.550154   \n",
       "\n",
       "                     secondary_cleaner.state.floatbank2_a_air  \\\n",
       "date                                                            \n",
       "2016-01-15 00:00:00                                 25.853109   \n",
       "2016-01-15 01:00:00                                 25.880539   \n",
       "2016-01-15 02:00:00                                 26.005245   \n",
       "2016-01-15 03:00:00                                 25.942508   \n",
       "2016-01-15 04:00:00                                 26.024787   \n",
       "\n",
       "                     secondary_cleaner.state.floatbank2_a_level  \\\n",
       "date                                                              \n",
       "2016-01-15 00:00:00                                 -498.526489   \n",
       "2016-01-15 01:00:00                                 -499.989656   \n",
       "2016-01-15 02:00:00                                 -499.929616   \n",
       "2016-01-15 03:00:00                                 -499.176749   \n",
       "2016-01-15 04:00:00                                 -500.279091   \n",
       "\n",
       "                     secondary_cleaner.state.floatbank2_b_air  \\\n",
       "date                                                            \n",
       "2016-01-15 00:00:00                                 23.893660   \n",
       "2016-01-15 01:00:00                                 23.889530   \n",
       "2016-01-15 02:00:00                                 23.886657   \n",
       "2016-01-15 03:00:00                                 23.955516   \n",
       "2016-01-15 04:00:00                                 23.955345   \n",
       "\n",
       "                     secondary_cleaner.state.floatbank2_b_level  \\\n",
       "date                                                              \n",
       "2016-01-15 00:00:00                                 -501.406281   \n",
       "2016-01-15 01:00:00                                 -500.372428   \n",
       "2016-01-15 02:00:00                                 -499.951928   \n",
       "2016-01-15 03:00:00                                 -499.848796   \n",
       "2016-01-15 04:00:00                                 -500.593614   \n",
       "\n",
       "                     secondary_cleaner.state.floatbank3_a_air  \\\n",
       "date                                                            \n",
       "2016-01-15 00:00:00                                 23.961798   \n",
       "2016-01-15 01:00:00                                 23.970550   \n",
       "2016-01-15 02:00:00                                 23.913535   \n",
       "2016-01-15 03:00:00                                 23.966838   \n",
       "2016-01-15 04:00:00                                 23.985703   \n",
       "\n",
       "                     secondary_cleaner.state.floatbank3_a_level  \\\n",
       "date                                                              \n",
       "2016-01-15 00:00:00                                 -495.262817   \n",
       "2016-01-15 01:00:00                                 -500.085473   \n",
       "2016-01-15 02:00:00                                 -499.442343   \n",
       "2016-01-15 03:00:00                                 -500.008812   \n",
       "2016-01-15 04:00:00                                 -500.083811   \n",
       "\n",
       "                     secondary_cleaner.state.floatbank3_b_air  \\\n",
       "date                                                            \n",
       "2016-01-15 00:00:00                                 21.940409   \n",
       "2016-01-15 01:00:00                                 22.085714   \n",
       "2016-01-15 02:00:00                                 23.957717   \n",
       "2016-01-15 03:00:00                                 23.954443   \n",
       "2016-01-15 04:00:00                                 23.958945   \n",
       "\n",
       "                     secondary_cleaner.state.floatbank3_b_level  \\\n",
       "date                                                              \n",
       "2016-01-15 00:00:00                                 -499.340973   \n",
       "2016-01-15 01:00:00                                 -499.446897   \n",
       "2016-01-15 02:00:00                                 -499.901982   \n",
       "2016-01-15 03:00:00                                 -499.944710   \n",
       "2016-01-15 04:00:00                                 -499.990309   \n",
       "\n",
       "                     secondary_cleaner.state.floatbank4_a_air  \\\n",
       "date                                                            \n",
       "2016-01-15 00:00:00                                 14.016835   \n",
       "2016-01-15 01:00:00                                 13.992281   \n",
       "2016-01-15 02:00:00                                 14.015015   \n",
       "2016-01-15 03:00:00                                 14.036510   \n",
       "2016-01-15 04:00:00                                 14.027298   \n",
       "\n",
       "                     secondary_cleaner.state.floatbank4_a_level  \\\n",
       "date                                                              \n",
       "2016-01-15 00:00:00                                 -502.488007   \n",
       "2016-01-15 01:00:00                                 -505.503262   \n",
       "2016-01-15 02:00:00                                 -502.520901   \n",
       "2016-01-15 03:00:00                                 -500.857308   \n",
       "2016-01-15 04:00:00                                 -499.838632   \n",
       "\n",
       "                     secondary_cleaner.state.floatbank4_b_air  \\\n",
       "date                                                            \n",
       "2016-01-15 00:00:00                                 12.099931   \n",
       "2016-01-15 01:00:00                                 11.950531   \n",
       "2016-01-15 02:00:00                                 11.912783   \n",
       "2016-01-15 03:00:00                                 11.999550   \n",
       "2016-01-15 04:00:00                                 11.953070   \n",
       "\n",
       "                     secondary_cleaner.state.floatbank4_b_level  \\\n",
       "date                                                              \n",
       "2016-01-15 00:00:00                                 -504.715942   \n",
       "2016-01-15 01:00:00                                 -501.331529   \n",
       "2016-01-15 02:00:00                                 -501.133383   \n",
       "2016-01-15 03:00:00                                 -501.193686   \n",
       "2016-01-15 04:00:00                                 -501.053894   \n",
       "\n",
       "                     secondary_cleaner.state.floatbank5_a_air  \\\n",
       "date                                                            \n",
       "2016-01-15 00:00:00                                  9.925633   \n",
       "2016-01-15 01:00:00                                 10.039245   \n",
       "2016-01-15 02:00:00                                 10.070913   \n",
       "2016-01-15 03:00:00                                  9.970366   \n",
       "2016-01-15 04:00:00                                  9.925709   \n",
       "\n",
       "                     secondary_cleaner.state.floatbank5_a_level  \\\n",
       "date                                                              \n",
       "2016-01-15 00:00:00                                 -498.310211   \n",
       "2016-01-15 01:00:00                                 -500.169983   \n",
       "2016-01-15 02:00:00                                 -500.129135   \n",
       "2016-01-15 03:00:00                                 -499.201640   \n",
       "2016-01-15 04:00:00                                 -501.686727   \n",
       "\n",
       "                     secondary_cleaner.state.floatbank5_b_air  \\\n",
       "date                                                            \n",
       "2016-01-15 00:00:00                                  8.079666   \n",
       "2016-01-15 01:00:00                                  7.984757   \n",
       "2016-01-15 02:00:00                                  8.013877   \n",
       "2016-01-15 03:00:00                                  7.977324   \n",
       "2016-01-15 04:00:00                                  7.894242   \n",
       "\n",
       "                     secondary_cleaner.state.floatbank5_b_level  \\\n",
       "date                                                              \n",
       "2016-01-15 00:00:00                                 -500.470978   \n",
       "2016-01-15 01:00:00                                 -500.582168   \n",
       "2016-01-15 02:00:00                                 -500.517572   \n",
       "2016-01-15 03:00:00                                 -500.255908   \n",
       "2016-01-15 04:00:00                                 -500.356035   \n",
       "\n",
       "                     secondary_cleaner.state.floatbank6_a_air  \\\n",
       "date                                                            \n",
       "2016-01-15 00:00:00                                 14.151341   \n",
       "2016-01-15 01:00:00                                 13.998353   \n",
       "2016-01-15 02:00:00                                 14.028663   \n",
       "2016-01-15 03:00:00                                 14.005551   \n",
       "2016-01-15 04:00:00                                 13.996647   \n",
       "\n",
       "                     secondary_cleaner.state.floatbank6_a_level  \\\n",
       "date                                                              \n",
       "2016-01-15 00:00:00                                 -605.841980   \n",
       "2016-01-15 01:00:00                                 -599.787184   \n",
       "2016-01-15 02:00:00                                 -601.427363   \n",
       "2016-01-15 03:00:00                                 -599.996129   \n",
       "2016-01-15 04:00:00                                 -601.496691   \n",
       "\n",
       "                     secondary_cleaner.output.tail_au  \\\n",
       "date                                                    \n",
       "2016-01-15 00:00:00                          2.606185   \n",
       "2016-01-15 01:00:00                          2.488248   \n",
       "2016-01-15 02:00:00                          2.458187   \n",
       "2016-01-15 03:00:00                          2.322062   \n",
       "2016-01-15 04:00:00                          2.330448   \n",
       "\n",
       "                     secondary_cleaner.output.tail_ag  \\\n",
       "date                                                    \n",
       "2016-01-15 00:00:00                         14.500184   \n",
       "2016-01-15 01:00:00                         14.265474   \n",
       "2016-01-15 02:00:00                         14.115662   \n",
       "2016-01-15 03:00:00                         13.732071   \n",
       "2016-01-15 04:00:00                         14.079996   \n",
       "\n",
       "                     secondary_cleaner.output.tail_pb  \\\n",
       "date                                                    \n",
       "2016-01-15 00:00:00                          4.694824   \n",
       "2016-01-15 01:00:00                          4.592547   \n",
       "2016-01-15 02:00:00                          4.624775   \n",
       "2016-01-15 03:00:00                          4.482453   \n",
       "2016-01-15 04:00:00                          4.470737   \n",
       "\n",
       "                     secondary_cleaner.output.tail_sol  \\\n",
       "date                                                     \n",
       "2016-01-15 00:00:00                           8.764648   \n",
       "2016-01-15 01:00:00                           9.001494   \n",
       "2016-01-15 02:00:00                           8.842896   \n",
       "2016-01-15 03:00:00                           9.122857   \n",
       "2016-01-15 04:00:00                           8.871028   \n",
       "\n",
       "                     final.output.concentrate_au  final.output.concentrate_ag  \\\n",
       "date                                                                            \n",
       "2016-01-15 00:00:00                    42.192020                     6.055403   \n",
       "2016-01-15 01:00:00                    42.701629                     6.029369   \n",
       "2016-01-15 02:00:00                    42.657501                     6.055926   \n",
       "2016-01-15 03:00:00                    42.689819                     6.047977   \n",
       "2016-01-15 04:00:00                    42.774141                     6.148599   \n",
       "\n",
       "                     final.output.concentrate_pb  \\\n",
       "date                                               \n",
       "2016-01-15 00:00:00                     9.889648   \n",
       "2016-01-15 01:00:00                     9.968944   \n",
       "2016-01-15 02:00:00                    10.213995   \n",
       "2016-01-15 03:00:00                     9.977019   \n",
       "2016-01-15 04:00:00                    10.142511   \n",
       "\n",
       "                     final.output.concentrate_sol  final.output.recovery  \\\n",
       "date                                                                       \n",
       "2016-01-15 00:00:00                      5.507324              70.541216   \n",
       "2016-01-15 01:00:00                      5.257781              69.266198   \n",
       "2016-01-15 02:00:00                      5.383759              68.116445   \n",
       "2016-01-15 03:00:00                      4.858634              68.347543   \n",
       "2016-01-15 04:00:00                      4.939416              66.927016   \n",
       "\n",
       "                     final.output.tail_au  final.output.tail_ag  \\\n",
       "date                                                              \n",
       "2016-01-15 00:00:00              2.143149             10.411962   \n",
       "2016-01-15 01:00:00              2.224930             10.462676   \n",
       "2016-01-15 02:00:00              2.257889             10.507046   \n",
       "2016-01-15 03:00:00              2.146849             10.422762   \n",
       "2016-01-15 04:00:00              2.055292             10.360302   \n",
       "\n",
       "                     final.output.tail_pb  final.output.tail_sol  \\\n",
       "date                                                               \n",
       "2016-01-15 00:00:00              0.895447              16.904297   \n",
       "2016-01-15 01:00:00              0.927452              16.634514   \n",
       "2016-01-15 02:00:00              0.953716              16.208849   \n",
       "2016-01-15 03:00:00              0.883763              16.532835   \n",
       "2016-01-15 04:00:00              0.792826              16.525686   \n",
       "\n",
       "                     sum_concentrate_rougher  \\\n",
       "date                                           \n",
       "2016-01-15 00:00:00                66.424950   \n",
       "2016-01-15 01:00:00                67.012710   \n",
       "2016-01-15 02:00:00                66.103793   \n",
       "2016-01-15 03:00:00                65.752751   \n",
       "2016-01-15 04:00:00                65.908382   \n",
       "\n",
       "                     sum_primary_cleaner_output_concentrate  \\\n",
       "date                                                          \n",
       "2016-01-15 00:00:00                               72.640924   \n",
       "2016-01-15 01:00:00                               72.543485   \n",
       "2016-01-15 02:00:00                               72.095042   \n",
       "2016-01-15 03:00:00                               59.957723   \n",
       "2016-01-15 04:00:00                               71.321010   \n",
       "\n",
       "                     sum_final_output_concentrate  \n",
       "date                                               \n",
       "2016-01-15 00:00:00                     63.644396  \n",
       "2016-01-15 01:00:00                     63.957723  \n",
       "2016-01-15 02:00:00                     64.311180  \n",
       "2016-01-15 03:00:00                     63.573449  \n",
       "2016-01-15 04:00:00                     64.004667  "
      ]
     },
     "execution_count": 49,
     "metadata": {},
     "output_type": "execute_result"
    }
   ],
   "source": [
    "data_full=data_full[data_full['sum_final_output_concentrate']>40]\n",
    "data_full=data_full[data_full['sum_primary_cleaner_output_concentrate']>40]\n",
    "data_full=data_full[data_full['sum_concentrate_rougher']>40]\n",
    "data_full.head()"
   ]
  },
  {
   "cell_type": "code",
   "execution_count": 50,
   "metadata": {},
   "outputs": [
    {
     "name": "stderr",
     "output_type": "stream",
     "text": [
      "/opt/conda/lib/python3.9/site-packages/seaborn/distributions.py:2557: FutureWarning: `distplot` is a deprecated function and will be removed in a future version. Please adapt your code to use either `displot` (a figure-level function with similar flexibility) or `histplot` (an axes-level function for histograms).\n",
      "  warnings.warn(msg, FutureWarning)\n",
      "/opt/conda/lib/python3.9/site-packages/seaborn/distributions.py:2557: FutureWarning: `distplot` is a deprecated function and will be removed in a future version. Please adapt your code to use either `displot` (a figure-level function with similar flexibility) or `histplot` (an axes-level function for histograms).\n",
      "  warnings.warn(msg, FutureWarning)\n",
      "/opt/conda/lib/python3.9/site-packages/seaborn/distributions.py:2557: FutureWarning: `distplot` is a deprecated function and will be removed in a future version. Please adapt your code to use either `displot` (a figure-level function with similar flexibility) or `histplot` (an axes-level function for histograms).\n",
      "  warnings.warn(msg, FutureWarning)\n"
     ]
    },
    {
     "data": {
      "text/plain": [
       "Text(0, 0.5, 'Frequency')"
      ]
     },
     "execution_count": 50,
     "metadata": {},
     "output_type": "execute_result"
    },
    {
     "data": {
      "image/png": "[encoded data removed]",
      "text/plain": [
       "<Figure size 1008x576 with 1 Axes>"
      ]
     },
     "metadata": {},
     "output_type": "display_data"
    }
   ],
   "source": [
    "plt.figure(figsize=(14,8))\n",
    "sns.distplot(data_full['sum_concentrate_rougher'],bins=80,label='sum_concentrate_rougher')\n",
    "sns.distplot(data_full['sum_primary_cleaner_output_concentrate'],bins=80,label='sum_primary_cleaner_output_concentrate')\n",
    "sns.distplot(data_full['sum_final_output_concentrate'],bins=80,label='sum_final_output_concentrate')\n",
    "plt.vlines(data_full['sum_concentrate_rougher'].mean(),0,0.07,color = 'r')\n",
    "plt.vlines(data_full['sum_primary_cleaner_output_concentrate'].mean(),0,0.10,color = 'r')\n",
    "plt.vlines(data_full['sum_final_output_concentrate'].mean(),0,0.17,color = 'r')\n",
    "plt.legend()\n",
    "plt.title('Sum concentrate of metal in rougher, primary clean and final state')\n",
    "plt.xlabel(\"Sum concentrate of metal\")\n",
    "plt.ylabel(\"Frequency\")"
   ]
  },
  {
   "cell_type": "markdown",
   "metadata": {},
   "source": [
    "Убрали выбросы "
   ]
  },
  {
   "cell_type": "code",
   "execution_count": 51,
   "metadata": {},
   "outputs": [
    {
     "name": "stdout",
     "output_type": "stream",
     "text": [
      "date\n",
      "2016-01-15 00:00:00    11.500771\n",
      "2016-01-15 01:00:00    11.615865\n",
      "2016-01-15 02:00:00    11.695753\n",
      "2016-01-15 03:00:00    11.915047\n",
      "2016-01-15 04:00:00    12.411054\n",
      "                         ...    \n",
      "2018-08-18 06:59:59    11.039123\n",
      "2018-08-18 07:59:59    11.231501\n",
      "2018-08-18 08:59:59    11.309414\n",
      "2018-08-18 09:59:59    11.528770\n",
      "2018-08-18 10:59:59    11.116297\n",
      "Name: rougher.output.concentrate_ag, Length: 18109, dtype: float64\n"
     ]
    }
   ],
   "source": [
    "print(data_full['rougher.output.concentrate_ag'])"
   ]
  },
  {
   "cell_type": "markdown",
   "metadata": {},
   "source": [
    "## Модель"
   ]
  },
  {
   "cell_type": "code",
   "execution_count": 52,
   "metadata": {},
   "outputs": [],
   "source": [
    "# Функция метрики качества\n",
    "def sMAPE(target, predictions):\n",
    "    smape = 1 / len(target) * np.sum(\n",
    "        (np.abs(target - predictions)) / ((np.abs(target) + np.abs(predictions)) / 2)) * 100\n",
    "    return smape"
   ]
  },
  {
   "cell_type": "code",
   "execution_count": 53,
   "metadata": {},
   "outputs": [],
   "source": [
    "smape_scorer = make_scorer(sMAPE, greater_is_better = False)"
   ]
  },
  {
   "cell_type": "code",
   "execution_count": 54,
   "metadata": {},
   "outputs": [],
   "source": [
    "def sMAPE_final(rougher, final):\n",
    "    fin_smape = 0.25 * rougher + 0.75 * final\n",
    "    return fin_smape"
   ]
  },
  {
   "cell_type": "markdown",
   "metadata": {},
   "source": [
    "Обучим различные модели и оценим качество кросс-валидацией"
   ]
  },
  {
   "cell_type": "code",
   "execution_count": 55,
   "metadata": {},
   "outputs": [],
   "source": [
    "X_features_train_rougher = data_train.drop(['rougher.output.recovery'], axis=1)\n",
    "y_target_train_rougher = data_train['rougher.output.recovery']\n",
    "\n",
    "X_features_test_rougher = data_test.drop(['rougher.output.recovery'], axis=1)\n",
    "y_target_test_rougher =data_test['rougher.output.recovery']\n",
    "\n",
    "X_features_train_final = data_train.drop(['final.output.recovery'], axis=1)\n",
    "y_target_train_final = data_train['final.output.recovery']\n",
    "\n",
    "X_features_test_final = data_test.drop(['final.output.recovery'], axis=1)\n",
    "y_target_test_final =data_test['final.output.recovery']\n"
   ]
  },
  {
   "cell_type": "markdown",
   "metadata": {},
   "source": [
    "Дерево решений"
   ]
  },
  {
   "cell_type": "code",
   "execution_count": 56,
   "metadata": {},
   "outputs": [
    {
     "name": "stdout",
     "output_type": "stream",
     "text": [
      "Лучшее значение sMAPE для дерева решений: 13.258645020962586 при значениях гиперпараметров: {'max_depth': 5}\n"
     ]
    }
   ],
   "source": [
    "param_grid = {'max_depth': range(2, 11)}\n",
    "\n",
    "model = DecisionTreeRegressor(random_state=RANDOM_STATE)\n",
    "search = GridSearchCV(model, param_grid, cv=5, scoring=smape_scorer)\n",
    "search.fit(X_features_train_rougher, y_target_train_rougher)\n",
    "print('Лучшее значение sMAPE для дерева решений: {} при значениях гиперпараметров: {}'.format(-search.best_score_, search.best_params_))"
   ]
  },
  {
   "cell_type": "markdown",
   "metadata": {},
   "source": [
    "Случайный лес"
   ]
  },
  {
   "cell_type": "code",
   "execution_count": 57,
   "metadata": {},
   "outputs": [
    {
     "name": "stdout",
     "output_type": "stream",
     "text": [
      "Лучшее значение sMAPE для случайного леса: 12.702998683102063 при значениях гиперпараметров: {'n_estimators': 30}\n"
     ]
    }
   ],
   "source": [
    "param_grid = {'n_estimators': range(10, 31, 10)}\n",
    "\n",
    "model = RandomForestRegressor(max_depth=2, random_state=RANDOM_STATE)\n",
    "search = GridSearchCV(model, param_grid, cv=5, scoring=smape_scorer)\n",
    "search.fit(X_features_train_rougher, y_target_train_rougher)\n",
    "print('Лучшее значение sMAPE для случайного леса: {} при значениях гиперпараметров: {}'.format(-search.best_score_, search.best_params_))"
   ]
  },
  {
   "cell_type": "markdown",
   "metadata": {},
   "source": [
    "Линейная регрессия"
   ]
  },
  {
   "cell_type": "code",
   "execution_count": 58,
   "metadata": {},
   "outputs": [
    {
     "name": "stdout",
     "output_type": "stream",
     "text": [
      "Лучшее значение sMAPE для линейной регрессии: 13.291850611159086\n"
     ]
    }
   ],
   "source": [
    "model = LinearRegression()\n",
    "model.fit(X_features_train_rougher, y_target_train_rougher)\n",
    "smape = cross_val_score(model, X_features_train_rougher, y_target_train_rougher, cv=5, scoring=smape_scorer).mean()\n",
    "print('Лучшее значение sMAPE для линейной регрессии:', -smape)"
   ]
  },
  {
   "cell_type": "markdown",
   "metadata": {},
   "source": [
    "Выяснили, что лучшая модель - Cлучайный лес. "
   ]
  },
  {
   "cell_type": "markdown",
   "metadata": {},
   "source": [
    "Дерево решений"
   ]
  },
  {
   "cell_type": "code",
   "execution_count": 59,
   "metadata": {},
   "outputs": [
    {
     "name": "stdout",
     "output_type": "stream",
     "text": [
      "Лучшее значение sMAPE для дерева решений: 9.621534561634414 при значениях гиперпараметров: {'max_depth': 3}\n"
     ]
    }
   ],
   "source": [
    "param_grid = {'max_depth': range(2, 11)}\n",
    "\n",
    "model = DecisionTreeRegressor(random_state=RANDOM_STATE)\n",
    "search = GridSearchCV(model, param_grid, cv=5, scoring=smape_scorer)\n",
    "search.fit(X_features_train_final, y_target_train_final)\n",
    "print('Лучшее значение sMAPE для дерева решений: {} при значениях гиперпараметров: {}'.format(-search.best_score_, search.best_params_))"
   ]
  },
  {
   "cell_type": "markdown",
   "metadata": {},
   "source": [
    "Случайный лес"
   ]
  },
  {
   "cell_type": "code",
   "execution_count": 60,
   "metadata": {},
   "outputs": [
    {
     "name": "stdout",
     "output_type": "stream",
     "text": [
      "Лучшее значение sMAPE для случайного леса: 9.46917849500418 при значениях гиперпараметров: {'n_estimators': 20}\n"
     ]
    }
   ],
   "source": [
    "param_grid = {'n_estimators': range(10, 31, 10)}\n",
    "\n",
    "model = RandomForestRegressor(max_depth=2, random_state=RANDOM_STATE)\n",
    "search = GridSearchCV(model, param_grid, cv=5, scoring=smape_scorer)\n",
    "search.fit(X_features_train_final, y_target_train_final)\n",
    "print('Лучшее значение sMAPE для случайного леса: {} при значениях гиперпараметров: {}'.format(-search.best_score_, search.best_params_))"
   ]
  },
  {
   "cell_type": "markdown",
   "metadata": {},
   "source": [
    "Линейная регрессия"
   ]
  },
  {
   "cell_type": "code",
   "execution_count": 61,
   "metadata": {},
   "outputs": [
    {
     "name": "stdout",
     "output_type": "stream",
     "text": [
      "Лучшее значение sMAPE для линейной регрессии: 10.91378127462557\n"
     ]
    }
   ],
   "source": [
    "model = LinearRegression()\n",
    "model.fit(X_features_train_final, y_target_train_final)\n",
    "smape = cross_val_score(model, X_features_train_final, y_target_train_final, cv=5, scoring=smape_scorer).mean()\n",
    "print('Лучшее значение sMAPE для линейной регрессии:', -smape)"
   ]
  },
  {
   "cell_type": "markdown",
   "metadata": {},
   "source": [
    "Выяснили, что лучшая модель - Cлучайный лес. Проверим ее качество на тестовой выборке."
   ]
  },
  {
   "cell_type": "code",
   "execution_count": 63,
   "metadata": {},
   "outputs": [
    {
     "name": "stdout",
     "output_type": "stream",
     "text": [
      "sMAPE тестовой: 7.158941017814504\n"
     ]
    }
   ],
   "source": [
    "model = RandomForestRegressor(max_depth=2, n_estimators=30, random_state=RANDOM_STATE) \n",
    "model.fit(X_features_train_rougher, y_target_train_rougher)\n",
    "predicted_rougher = model.predict(X_features_test_rougher)\n",
    "\n",
    "model_rfr_final_test = RandomForestRegressor(n_estimators=20, max_depth=2, random_state=RANDOM_STATE)\n",
    "model_rfr_final_test.fit(X_features_train_final, y_target_train_final)\n",
    "predicted_final = model_rfr_final_test.predict(X_features_test_final)\n",
    "\n",
    "smape_for_rougher_test = sMAPE(y_target_test_rougher, predicted_rougher)\n",
    "smape_for_final_test = sMAPE(y_target_test_final, predicted_final)\n",
    "final_smape_test = sMAPE_final(smape_for_rougher_test, smape_for_final_test)\n",
    "\n",
    "print('sMAPE тестовой:', final_smape_test)"
   ]
  },
  {
   "cell_type": "code",
   "execution_count": 64,
   "metadata": {},
   "outputs": [],
   "source": [
    "#dct_with_scores = {}"
   ]
  },
  {
   "cell_type": "code",
   "execution_count": null,
   "metadata": {},
   "outputs": [],
   "source": [
    "#%%time\n",
    "\n",
    "#model_lr_rougher = LinearRegression(normalize=True)\n",
    "#smape_rougher = cross_val_score(model_lr_rougher,\n",
    "#                          X_features_train_rougher,\n",
    "#                          y_target_train_rougher,\n",
    "#                          scoring = smape_scorer,\n",
    "#                          cv = 5)\n",
    "#result_smape_rougher = smape_rougher.mean()\n",
    "\n",
    "#model_lr_final = LinearRegression()\n",
    "#smape_final = cross_val_score(model_lr_final,\n",
    "#                        X_features_train_final,\n",
    "#                        y_target_train_final,\n",
    "#                        scoring = smape_scorer,\n",
    "#                        cv = 5)\n",
    "#result_smape_final = smape_final.mean()\n",
    "\n",
    "#result_smape = np.abs(sMAPE_final(result_smape_rougher, result_smape_final))\n",
    "#dct_with_scores['LR'] = [result_smape]\n",
    "#print(dct_with_scores['LR'])"
   ]
  },
  {
   "cell_type": "markdown",
   "metadata": {},
   "source": [
    "Модель DecisionTreeRegressor"
   ]
  },
  {
   "cell_type": "code",
   "execution_count": null,
   "metadata": {},
   "outputs": [],
   "source": [
    "#%%time\n",
    "\n",
    "#state = RandomState(12345)\n",
    "\n",
    "#best_result_dtr = 100\n",
    "#best_param_dtr = 0\n",
    "#for n in range(1, 10, 1):\n",
    "#    model_dtr_rougher = DecisionTreeRegressor(max_depth=n, random_state=state)\n",
    "#    smape_rougher = cross_val_score(model_dtr_rougher,\n",
    "#                              X_features_train_rougher,\n",
    "#                              y_target_train_rougher,\n",
    "#                              scoring=smape_scorer,\n",
    "#                              cv=5)\n",
    "#    result_smape_rougher = smape_rougher.mean()\n",
    "#\n",
    "#    model_dtr_final = DecisionTreeRegressor(max_depth=n, random_state=state)\n",
    "#    smape_final = cross_val_score(model_dtr_final, \n",
    "#                                  X_features_train_final,\n",
    "#                                  y_target_train_final,\n",
    "#                                  scoring=smape_scorer,\n",
    "#                                  cv=5)\n",
    "#    result_smape_final = smape_final.mean()\n",
    "    \n",
    "#    result_smape = np.abs(sMAPE_final(result_smape_rougher, result_smape_final))\n",
    "#    if result_smape < best_result_dtr:\n",
    "#        best_result_dtr = result_smape\n",
    "#        best_param_dtr = n\n",
    "#dct_with_scores['DTR'] = [best_result_dtr, best_param_dtr]\n",
    "#print(dct_with_scores['DTR'])\n",
    "#print('max_depth (глубина дерева)', best_param_dtr)"
   ]
  },
  {
   "cell_type": "markdown",
   "metadata": {},
   "source": [
    "Модель RandomForestRegressor"
   ]
  },
  {
   "cell_type": "code",
   "execution_count": null,
   "metadata": {},
   "outputs": [],
   "source": [
    "#%%time\n",
    "\n",
    "#best_model_rfr = 100\n",
    "#best_param_rfr = 0\n",
    "\n",
    "#for n in range(10, 100, 30):\n",
    "#    for d in range(2,10,2):\n",
    "#        model_rfr_rougher = RandomForestRegressor(n_estimators=n, max_depth=d, random_state=state)\n",
    "#        smape_rougher = cross_val_score(model_rfr_rougher,\n",
    "#                                  X_features_train_rougher,\n",
    "#                                  y_target_train_rougher,\n",
    "#                                  scoring=smape_scorer,\n",
    "#                                  cv=5)\n",
    "#        result_smape_rougher = smape_rougher.mean()\n",
    "#\n",
    "#        model_rfr_final = RandomForestRegressor(n_estimators=n, max_depth=d, random_state=state)\n",
    "#        smape_final = cross_val_score(model_rfr_final,\n",
    "#                                X_features_train_final,\n",
    "#                                y_target_train_final,\n",
    "#                                scoring=smape_scorer,\n",
    "#                                cv=5)\n",
    "#        result_smape_final = smape_final.mean()\n",
    "        \n",
    "#        result_smape = np.abs(sMAPE_final(result_smape_rougher, result_smape_final))\n",
    "#        if result_smape < best_model_rfr:\n",
    "#            best_model_rfr = result_smape\n",
    "#            best_param_rfr = [n,d]\n",
    "#dct_with_scores['RFR'] = [best_model_rfr, best_param_rfr]\n",
    "#print(dct_with_scores['RFR'])"
   ]
  },
  {
   "cell_type": "code",
   "execution_count": null,
   "metadata": {},
   "outputs": [],
   "source": [
    "#for key in dct_with_scores.keys():\n",
    "#    print(f'\\nМодель {str(key).upper()} - {dct_with_scores[key][0]}')"
   ]
  },
  {
   "cell_type": "markdown",
   "metadata": {},
   "source": [
    "Лучшая модель - модель RFR (RandomForestRegressor) - с лучшей итоговой меткой."
   ]
  },
  {
   "cell_type": "code",
   "execution_count": null,
   "metadata": {},
   "outputs": [],
   "source": [
    "#print('Лучшие параметры для модели RFR:\\nn_estimators (число деревьев) - {},\\nmax_depth (глубина дерева) - {}'.format(\n",
    "#        dct_with_scores[\n",
    "#        'RFR'][1][0], dct_with_scores['RFR'][1][1]))"
   ]
  },
  {
   "cell_type": "markdown",
   "metadata": {},
   "source": [
    "Проверка лучшей модели на тестовой выборке"
   ]
  },
  {
   "cell_type": "code",
   "execution_count": null,
   "metadata": {},
   "outputs": [],
   "source": [
    "#model_rfr_rougher_test = RandomForestRegressor(n_estimators=70, max_depth=2, random_state=state)\n",
    "#model_rfr_rougher_test.fit(X_features_train_rougher, y_target_train_rougher)\n",
    "#predicted_rougher = model_rfr_rougher_test.predict(X_features_test_rougher)\n",
    "\n",
    "#model_rfr_final_test = RandomForestRegressor(n_estimators=70, max_depth=2, random_state=state)\n",
    "#model_rfr_final_test.fit(X_features_train_final, y_target_train_final)\n",
    "#predicted_final = model_rfr_final_test.predict(X_features_test_final)\n",
    "\n",
    "#smape_for_rougher_test = sMAPE(y_target_test_rougher, predicted_rougher)\n",
    "#smape_for_final_test = sMAPE(y_target_test_final, predicted_final)\n",
    "#final_smape_test = sMAPE_final(smape_for_rougher_test, smape_for_final_test)\n",
    "\n",
    "#print('sMAPE тестовой:', final_smape_test)"
   ]
  },
  {
   "cell_type": "markdown",
   "metadata": {},
   "source": [
    "Проверка на адекватность"
   ]
  },
  {
   "cell_type": "code",
   "execution_count": 65,
   "metadata": {},
   "outputs": [
    {
     "name": "stdout",
     "output_type": "stream",
     "text": [
      "sMAPE константной: 8.843396027364125\n"
     ]
    }
   ],
   "source": [
    "model_dummy_rfr_rougher = DummyRegressor(strategy=\"mean\")\n",
    "model_dummy_rfr_rougher.fit(X_features_train_rougher, y_target_train_rougher)\n",
    "predicted_dummy_rougher = model_dummy_rfr_rougher.predict(X_features_test_rougher)\n",
    "smape_rougher_dummy = sMAPE(y_target_test_rougher, predicted_dummy_rougher)\n",
    "\n",
    "model_dummy_rfr_final = DummyRegressor(strategy=\"mean\")\n",
    "model_dummy_rfr_final.fit(X_features_train_final, y_target_train_final)\n",
    "predicted_dummy_final = model_dummy_rfr_final.predict(X_features_test_final)\n",
    "smape_final_dummy = sMAPE(y_target_test_final, predicted_dummy_final)\n",
    "\n",
    "final_smape_dummy = sMAPE_final(smape_rougher_dummy, smape_final_dummy)\n",
    "\n",
    "print('sMAPE константной:', final_smape_dummy)"
   ]
  },
  {
   "cell_type": "markdown",
   "metadata": {},
   "source": [
    "Показатель модели RFR (RandomForestRegressor) меньше константной."
   ]
  },
  {
   "cell_type": "markdown",
   "metadata": {},
   "source": [
    "Вывод:\n",
    "\n",
    "Загрузили данные.\n",
    "Данные индексируются датой и временем получения информации (признак date). Соседние по времени параметры часто похожи. \n",
    "В данных есть пропуски, видимо потому что замеряются и/или рассчитываются значительно позже. Из-за этого в тестовой выборке отсутствуют некоторые признаки, которые могут быть в обучающей.\n",
    "\n",
    "Датасет train содержит 87 столбцов и 14579 строк.\n",
    "\n",
    "Датасет test содержит 53 столбцов и 4860 строк.\n",
    "\n",
    "Датасет full содержит 87 столбцов и 19439 строк.\n",
    "\n",
    "Во всех датасетах есть пропуски. Видимо из-за того, что некоторые параметры замеряются и/или рассчитываются значительно позже.\n",
    "\n",
    "Всего пропусков в обучающей выборке: 3050\n",
    "\n",
    "Всего пропусков в тестовой выборке: 375\n",
    "\n",
    "Всего пропусков в исходных данных: 4481\n",
    "\n",
    "Тестовая выборка составляет 25% от исходных данных, обучающая выборка - 75% от исходных данных.\n",
    "\n",
    "Все столбцы, кроме 'date', имеют тип данных float64, заменили тип данных столбца 'date' с object на datetime.\n",
    "\n",
    "Дубликаты отсутствуют.\n",
    "\n",
    "Эффективность обогащения - MAE между расчетами и значением признака: выполнено правильно, так как значение MAE между столбцом rougher.output.recovery и нашими расчетами было очень близко к 0 (0.00000000000000973), следовательно, расчеты верны.\n",
    "\n",
    "Выровняли число столбцов в обучающей и тестовой выборках разное. В test добавили отсутствующие 'rougher.output.recovery','final.output.recovery'. Установили столбец 'date' индексом.\n",
    "\n",
    "Провели предварительный анализ данных. Концентрация золота увеличивается на каждом этапе очистки увеличивается на каждом этапе. В отвальных хвостах - концентрация снижается к финальной очистке. \n",
    "Противоположная тенденция в отношении концентрации серебра: чем больше мы очищаем сырье, тем ниже становится доля этого металла. Концентрация серебра увеличивается после флотации, после первичной очистки видно снижение и увеличение финальной концентрации. В отвальных хвостах - увеличивается после флотации, далее почти не изменяется.\n",
    "Концентрации свинца: Концентрация свинца уменьшается после первичной очистки, затем финальная концентрация увеличивается. В отвальных хвостах увеличение концентрации после флотации, далее одинаковый уровень. \n",
    "\n",
    "Размер гранул сырья в обучающей и тестовой выборках содержат столбцы 'primary_cleaner.input.feed_size' и 'rougher.input.feed_size'. Распределение размера гранул: перед флотацией оба распределения имеют скошенность вправо с длинными хвостами. После флотации распределение нормализуется. Распределение размера гранул не сильно различается, оценка модели будет корректной. Линейное и тестовое распределения размеров частиц сырья очень близки друг к другу.\n",
    "\n",
    "На следующем этапе мы разработали и протестировали несколько алгоритмов ML и настроили гиперпараметры наилучшей модели.\n",
    "\n",
    "Модель LR - 13.291850611159086, Модель DTR - 13.258645020962586, Модель RFR - 12.702998683102063. На этапе rougher\n",
    "\n",
    "Модель LR - 10.91378127462557, Модель DTR - 9.621534561634414, Модель RFR - 9.46917849500418. На этапе final\n",
    "\n",
    "Лучшая модель - модель RFR (RandomForestRegressor) - с лучшей итоговой меткой 12.702998683102063. \n",
    "Лучшая модель - модель RFR (RandomForestRegressor) - с лучшей итоговой меткой 9.46917849500418. \n",
    "\n",
    "Лучшие параметры для модели RFR: n_estimators (число деревьев) - 30 для rougher и 20 для final, max_depth (глубина дерева) - 2.\n",
    "Затем мы протестировали нашу модель на тестовом наборе. Мы достигли уровня ошибок в тестовом наборе 7.158941017814504. Проверили модель на адекватность, сравнили итоговую оценку с базовой. Показатель модели RFR (RandomForestRegressor) 7.158941017814504, меньше константной - 8.843396027364125"
   ]
  }
 ],
 "metadata": {
  "ExecuteTimeLog": [
   {
    "duration": 902,
    "start_time": "2023-09-21T00:11:34.976Z"
   },
   {
    "duration": 237,
    "start_time": "2023-09-21T00:11:35.880Z"
   },
   {
    "duration": 0,
    "start_time": "2023-09-21T00:11:36.119Z"
   },
   {
    "duration": 0,
    "start_time": "2023-09-21T00:11:36.120Z"
   },
   {
    "duration": 0,
    "start_time": "2023-09-21T00:11:36.121Z"
   },
   {
    "duration": 0,
    "start_time": "2023-09-21T00:11:36.123Z"
   },
   {
    "duration": 0,
    "start_time": "2023-09-21T00:11:36.124Z"
   },
   {
    "duration": 1086,
    "start_time": "2023-09-21T00:13:52.204Z"
   },
   {
    "duration": 1360,
    "start_time": "2023-09-21T00:13:59.046Z"
   },
   {
    "duration": 376,
    "start_time": "2023-09-21T00:14:00.408Z"
   },
   {
    "duration": 245,
    "start_time": "2023-09-21T00:14:00.787Z"
   },
   {
    "duration": 0,
    "start_time": "2023-09-21T00:14:01.034Z"
   },
   {
    "duration": 0,
    "start_time": "2023-09-21T00:14:01.035Z"
   },
   {
    "duration": 0,
    "start_time": "2023-09-21T00:14:01.036Z"
   },
   {
    "duration": 0,
    "start_time": "2023-09-21T00:14:01.037Z"
   },
   {
    "duration": 1421,
    "start_time": "2023-09-21T00:14:19.781Z"
   },
   {
    "duration": 363,
    "start_time": "2023-09-21T00:14:21.204Z"
   },
   {
    "duration": 163,
    "start_time": "2023-09-21T00:14:21.569Z"
   },
   {
    "duration": 1190,
    "start_time": "2023-09-21T00:14:21.734Z"
   },
   {
    "duration": 19,
    "start_time": "2023-09-21T00:14:22.926Z"
   },
   {
    "duration": 38,
    "start_time": "2023-09-21T00:14:22.947Z"
   },
   {
    "duration": 18,
    "start_time": "2023-09-21T00:14:22.987Z"
   },
   {
    "duration": 25,
    "start_time": "2023-09-21T00:41:49.703Z"
   },
   {
    "duration": 22,
    "start_time": "2023-09-21T00:42:08.497Z"
   },
   {
    "duration": 101,
    "start_time": "2023-09-21T00:42:26.051Z"
   },
   {
    "duration": 21,
    "start_time": "2023-09-21T00:42:31.347Z"
   },
   {
    "duration": 10,
    "start_time": "2023-09-21T01:05:18.651Z"
   },
   {
    "duration": 7,
    "start_time": "2023-09-21T01:05:20.844Z"
   },
   {
    "duration": 10,
    "start_time": "2023-09-21T01:05:23.745Z"
   },
   {
    "duration": 1607,
    "start_time": "2023-09-21T01:32:17.206Z"
   },
   {
    "duration": 352,
    "start_time": "2023-09-21T01:32:18.815Z"
   },
   {
    "duration": 86,
    "start_time": "2023-09-21T01:32:19.169Z"
   },
   {
    "duration": 438,
    "start_time": "2023-09-21T01:32:19.256Z"
   },
   {
    "duration": 21,
    "start_time": "2023-09-21T01:32:19.696Z"
   },
   {
    "duration": 14,
    "start_time": "2023-09-21T01:32:19.718Z"
   },
   {
    "duration": 17,
    "start_time": "2023-09-21T01:32:19.734Z"
   },
   {
    "duration": 54,
    "start_time": "2023-09-21T01:32:19.752Z"
   },
   {
    "duration": 21,
    "start_time": "2023-09-21T01:32:19.807Z"
   },
   {
    "duration": 28,
    "start_time": "2023-09-21T01:32:19.830Z"
   },
   {
    "duration": 14,
    "start_time": "2023-09-21T01:32:19.860Z"
   },
   {
    "duration": 16,
    "start_time": "2023-09-21T01:32:19.876Z"
   },
   {
    "duration": 39,
    "start_time": "2023-09-21T01:32:19.902Z"
   },
   {
    "duration": 139,
    "start_time": "2023-09-21T01:32:19.944Z"
   },
   {
    "duration": 0,
    "start_time": "2023-09-21T01:32:20.085Z"
   },
   {
    "duration": 0,
    "start_time": "2023-09-21T01:32:20.086Z"
   },
   {
    "duration": 0,
    "start_time": "2023-09-21T01:32:20.087Z"
   },
   {
    "duration": 0,
    "start_time": "2023-09-21T01:32:20.088Z"
   },
   {
    "duration": 0,
    "start_time": "2023-09-21T01:32:20.089Z"
   },
   {
    "duration": 0,
    "start_time": "2023-09-21T01:32:20.090Z"
   },
   {
    "duration": 0,
    "start_time": "2023-09-21T01:32:20.091Z"
   },
   {
    "duration": 0,
    "start_time": "2023-09-21T01:32:20.092Z"
   },
   {
    "duration": 0,
    "start_time": "2023-09-21T01:32:20.093Z"
   },
   {
    "duration": 0,
    "start_time": "2023-09-21T01:32:20.101Z"
   },
   {
    "duration": 0,
    "start_time": "2023-09-21T01:32:20.103Z"
   },
   {
    "duration": 0,
    "start_time": "2023-09-21T01:32:20.103Z"
   },
   {
    "duration": 0,
    "start_time": "2023-09-21T01:32:20.104Z"
   },
   {
    "duration": 0,
    "start_time": "2023-09-21T01:32:20.105Z"
   },
   {
    "duration": 0,
    "start_time": "2023-09-21T01:32:20.106Z"
   },
   {
    "duration": 0,
    "start_time": "2023-09-21T01:32:20.107Z"
   },
   {
    "duration": 1614,
    "start_time": "2023-09-21T01:32:48.331Z"
   },
   {
    "duration": 356,
    "start_time": "2023-09-21T01:32:49.947Z"
   },
   {
    "duration": 88,
    "start_time": "2023-09-21T01:32:50.305Z"
   },
   {
    "duration": 447,
    "start_time": "2023-09-21T01:32:50.396Z"
   },
   {
    "duration": 18,
    "start_time": "2023-09-21T01:32:50.845Z"
   },
   {
    "duration": 30,
    "start_time": "2023-09-21T01:32:50.864Z"
   },
   {
    "duration": 54,
    "start_time": "2023-09-21T01:32:50.896Z"
   },
   {
    "duration": 84,
    "start_time": "2023-09-21T01:32:50.952Z"
   },
   {
    "duration": 23,
    "start_time": "2023-09-21T01:32:51.037Z"
   },
   {
    "duration": 48,
    "start_time": "2023-09-21T01:32:51.064Z"
   },
   {
    "duration": 43,
    "start_time": "2023-09-21T01:32:51.114Z"
   },
   {
    "duration": 17,
    "start_time": "2023-09-21T01:32:51.160Z"
   },
   {
    "duration": 28,
    "start_time": "2023-09-21T01:32:51.179Z"
   },
   {
    "duration": 21,
    "start_time": "2023-09-21T01:32:51.209Z"
   },
   {
    "duration": 35,
    "start_time": "2023-09-21T01:32:51.232Z"
   },
   {
    "duration": 3,
    "start_time": "2023-09-21T01:32:51.269Z"
   },
   {
    "duration": 13,
    "start_time": "2023-09-21T01:32:51.273Z"
   },
   {
    "duration": 31,
    "start_time": "2023-09-21T01:32:51.288Z"
   },
   {
    "duration": 10,
    "start_time": "2023-09-21T01:32:51.320Z"
   },
   {
    "duration": 32,
    "start_time": "2023-09-21T01:32:51.332Z"
   },
   {
    "duration": 24,
    "start_time": "2023-09-21T01:32:51.366Z"
   },
   {
    "duration": 34,
    "start_time": "2023-09-21T01:32:51.392Z"
   },
   {
    "duration": 37,
    "start_time": "2023-09-21T01:32:51.428Z"
   },
   {
    "duration": 142,
    "start_time": "2023-09-21T01:32:51.466Z"
   },
   {
    "duration": 0,
    "start_time": "2023-09-21T01:32:51.610Z"
   },
   {
    "duration": 0,
    "start_time": "2023-09-21T01:32:51.612Z"
   },
   {
    "duration": 0,
    "start_time": "2023-09-21T01:32:51.613Z"
   },
   {
    "duration": 0,
    "start_time": "2023-09-21T01:32:51.615Z"
   },
   {
    "duration": 0,
    "start_time": "2023-09-21T01:32:51.617Z"
   },
   {
    "duration": 2255,
    "start_time": "2023-09-23T21:03:42.758Z"
   },
   {
    "duration": 1987,
    "start_time": "2023-09-23T21:03:48.384Z"
   },
   {
    "duration": 403,
    "start_time": "2023-09-23T21:03:50.379Z"
   },
   {
    "duration": 2305,
    "start_time": "2023-09-23T21:03:50.789Z"
   },
   {
    "duration": 21,
    "start_time": "2023-09-23T21:03:57.895Z"
   },
   {
    "duration": 44,
    "start_time": "2023-09-23T21:04:10.295Z"
   },
   {
    "duration": 26,
    "start_time": "2023-09-23T21:04:36.657Z"
   },
   {
    "duration": 11,
    "start_time": "2023-09-23T21:05:31.857Z"
   },
   {
    "duration": 36,
    "start_time": "2023-09-23T21:16:04.757Z"
   },
   {
    "duration": 43,
    "start_time": "2023-09-23T21:16:37.245Z"
   },
   {
    "duration": 20,
    "start_time": "2023-09-23T21:16:44.598Z"
   },
   {
    "duration": 15,
    "start_time": "2023-09-23T21:17:29.448Z"
   },
   {
    "duration": 52,
    "start_time": "2023-09-23T21:17:34.784Z"
   },
   {
    "duration": 103,
    "start_time": "2023-09-23T21:17:54.593Z"
   },
   {
    "duration": 191,
    "start_time": "2023-09-23T21:30:25.062Z"
   },
   {
    "duration": 2061,
    "start_time": "2023-09-23T21:30:37.885Z"
   },
   {
    "duration": 535,
    "start_time": "2023-09-23T21:30:39.948Z"
   },
   {
    "duration": 147,
    "start_time": "2023-09-23T21:30:40.485Z"
   },
   {
    "duration": 671,
    "start_time": "2023-09-23T21:30:40.639Z"
   },
   {
    "duration": 27,
    "start_time": "2023-09-23T21:30:41.313Z"
   },
   {
    "duration": 24,
    "start_time": "2023-09-23T21:30:41.346Z"
   },
   {
    "duration": 30,
    "start_time": "2023-09-23T21:30:41.375Z"
   },
   {
    "duration": 148,
    "start_time": "2023-09-23T21:30:41.406Z"
   },
   {
    "duration": 64,
    "start_time": "2023-09-23T21:30:41.556Z"
   },
   {
    "duration": 93,
    "start_time": "2023-09-23T21:30:41.623Z"
   },
   {
    "duration": 23,
    "start_time": "2023-09-23T21:30:41.723Z"
   },
   {
    "duration": 48,
    "start_time": "2023-09-23T21:30:41.748Z"
   },
   {
    "duration": 12,
    "start_time": "2023-09-23T21:30:41.798Z"
   },
   {
    "duration": 8,
    "start_time": "2023-09-23T21:30:41.812Z"
   },
   {
    "duration": 69,
    "start_time": "2023-09-23T21:30:41.822Z"
   },
   {
    "duration": 9,
    "start_time": "2023-09-23T21:30:41.895Z"
   },
   {
    "duration": 13,
    "start_time": "2023-09-23T21:30:41.905Z"
   },
   {
    "duration": 35,
    "start_time": "2023-09-23T21:30:41.920Z"
   },
   {
    "duration": 9,
    "start_time": "2023-09-23T21:30:41.963Z"
   },
   {
    "duration": 26,
    "start_time": "2023-09-23T21:30:41.974Z"
   },
   {
    "duration": 215,
    "start_time": "2023-09-23T21:30:42.002Z"
   },
   {
    "duration": 0,
    "start_time": "2023-09-23T21:30:42.222Z"
   },
   {
    "duration": 0,
    "start_time": "2023-09-23T21:30:42.223Z"
   },
   {
    "duration": 0,
    "start_time": "2023-09-23T21:30:42.233Z"
   },
   {
    "duration": 0,
    "start_time": "2023-09-23T21:30:42.234Z"
   },
   {
    "duration": 0,
    "start_time": "2023-09-23T21:30:42.235Z"
   },
   {
    "duration": 0,
    "start_time": "2023-09-23T21:30:42.235Z"
   },
   {
    "duration": 0,
    "start_time": "2023-09-23T21:30:42.236Z"
   },
   {
    "duration": 0,
    "start_time": "2023-09-23T21:30:42.237Z"
   },
   {
    "duration": 0,
    "start_time": "2023-09-23T21:30:42.238Z"
   },
   {
    "duration": 0,
    "start_time": "2023-09-23T21:30:42.239Z"
   },
   {
    "duration": 0,
    "start_time": "2023-09-23T21:30:42.240Z"
   },
   {
    "duration": 0,
    "start_time": "2023-09-23T21:30:42.249Z"
   },
   {
    "duration": 0,
    "start_time": "2023-09-23T21:30:42.260Z"
   },
   {
    "duration": 0,
    "start_time": "2023-09-23T21:30:42.265Z"
   },
   {
    "duration": 0,
    "start_time": "2023-09-23T21:30:42.266Z"
   },
   {
    "duration": 0,
    "start_time": "2023-09-23T21:30:42.267Z"
   },
   {
    "duration": 0,
    "start_time": "2023-09-23T21:30:42.268Z"
   },
   {
    "duration": 0,
    "start_time": "2023-09-23T21:30:42.276Z"
   },
   {
    "duration": 0,
    "start_time": "2023-09-23T21:30:42.281Z"
   },
   {
    "duration": 0,
    "start_time": "2023-09-23T21:30:42.282Z"
   },
   {
    "duration": 0,
    "start_time": "2023-09-23T21:30:42.282Z"
   },
   {
    "duration": 0,
    "start_time": "2023-09-23T21:30:42.283Z"
   },
   {
    "duration": 0,
    "start_time": "2023-09-23T21:30:42.293Z"
   },
   {
    "duration": 0,
    "start_time": "2023-09-23T21:30:42.319Z"
   },
   {
    "duration": 0,
    "start_time": "2023-09-23T21:30:42.324Z"
   },
   {
    "duration": 0,
    "start_time": "2023-09-23T21:30:42.326Z"
   },
   {
    "duration": 0,
    "start_time": "2023-09-23T21:30:42.327Z"
   },
   {
    "duration": 0,
    "start_time": "2023-09-23T21:30:42.329Z"
   },
   {
    "duration": 0,
    "start_time": "2023-09-23T21:30:42.330Z"
   },
   {
    "duration": 0,
    "start_time": "2023-09-23T21:30:42.331Z"
   },
   {
    "duration": 0,
    "start_time": "2023-09-23T21:30:42.337Z"
   },
   {
    "duration": 0,
    "start_time": "2023-09-23T21:30:42.338Z"
   },
   {
    "duration": 0,
    "start_time": "2023-09-23T21:30:42.340Z"
   },
   {
    "duration": 0,
    "start_time": "2023-09-23T21:30:42.349Z"
   },
   {
    "duration": 0,
    "start_time": "2023-09-23T21:30:42.351Z"
   },
   {
    "duration": 0,
    "start_time": "2023-09-23T21:30:42.355Z"
   },
   {
    "duration": 0,
    "start_time": "2023-09-23T21:30:42.357Z"
   },
   {
    "duration": 0,
    "start_time": "2023-09-23T21:30:42.358Z"
   },
   {
    "duration": 0,
    "start_time": "2023-09-23T21:30:42.360Z"
   },
   {
    "duration": 0,
    "start_time": "2023-09-23T21:30:42.369Z"
   },
   {
    "duration": 0,
    "start_time": "2023-09-23T21:30:42.370Z"
   },
   {
    "duration": 0,
    "start_time": "2023-09-23T21:30:42.372Z"
   },
   {
    "duration": 0,
    "start_time": "2023-09-23T21:30:42.378Z"
   },
   {
    "duration": 0,
    "start_time": "2023-09-23T21:30:42.379Z"
   },
   {
    "duration": 0,
    "start_time": "2023-09-23T21:30:42.380Z"
   },
   {
    "duration": 0,
    "start_time": "2023-09-23T21:30:42.389Z"
   },
   {
    "duration": 0,
    "start_time": "2023-09-23T21:30:42.391Z"
   },
   {
    "duration": 0,
    "start_time": "2023-09-23T21:30:42.396Z"
   },
   {
    "duration": 0,
    "start_time": "2023-09-23T21:30:42.398Z"
   },
   {
    "duration": 0,
    "start_time": "2023-09-23T21:30:42.399Z"
   },
   {
    "duration": 0,
    "start_time": "2023-09-23T21:30:42.400Z"
   },
   {
    "duration": 0,
    "start_time": "2023-09-23T21:30:42.402Z"
   },
   {
    "duration": 0,
    "start_time": "2023-09-23T21:30:42.403Z"
   },
   {
    "duration": 0,
    "start_time": "2023-09-23T21:30:42.409Z"
   },
   {
    "duration": 0,
    "start_time": "2023-09-23T21:30:42.425Z"
   },
   {
    "duration": 0,
    "start_time": "2023-09-23T21:30:42.426Z"
   },
   {
    "duration": 0,
    "start_time": "2023-09-23T21:30:42.428Z"
   },
   {
    "duration": 4,
    "start_time": "2023-09-23T21:30:50.499Z"
   },
   {
    "duration": 26,
    "start_time": "2023-09-23T21:56:39.176Z"
   },
   {
    "duration": 13,
    "start_time": "2023-09-23T22:01:39.205Z"
   },
   {
    "duration": 30,
    "start_time": "2023-09-23T22:03:53.778Z"
   },
   {
    "duration": 32,
    "start_time": "2023-09-23T22:05:03.178Z"
   },
   {
    "duration": 31,
    "start_time": "2023-09-23T22:05:55.153Z"
   },
   {
    "duration": 46,
    "start_time": "2023-09-23T22:31:31.667Z"
   },
   {
    "duration": 63,
    "start_time": "2023-09-23T22:36:42.025Z"
   },
   {
    "duration": 369,
    "start_time": "2023-09-23T22:37:09.047Z"
   },
   {
    "duration": 38,
    "start_time": "2023-09-23T22:44:06.318Z"
   },
   {
    "duration": 38,
    "start_time": "2023-09-23T22:45:52.551Z"
   },
   {
    "duration": 26,
    "start_time": "2023-09-23T22:46:00.809Z"
   },
   {
    "duration": 12,
    "start_time": "2023-09-23T22:46:15.854Z"
   },
   {
    "duration": 50,
    "start_time": "2023-09-23T23:02:06.081Z"
   },
   {
    "duration": 10,
    "start_time": "2023-09-23T23:10:10.769Z"
   },
   {
    "duration": 20,
    "start_time": "2023-09-23T23:17:05.650Z"
   },
   {
    "duration": 2059,
    "start_time": "2023-09-23T23:29:17.720Z"
   },
   {
    "duration": 476,
    "start_time": "2023-09-23T23:29:19.788Z"
   },
   {
    "duration": 153,
    "start_time": "2023-09-23T23:29:20.265Z"
   },
   {
    "duration": 617,
    "start_time": "2023-09-23T23:29:20.420Z"
   },
   {
    "duration": 25,
    "start_time": "2023-09-23T23:29:21.047Z"
   },
   {
    "duration": 24,
    "start_time": "2023-09-23T23:29:21.074Z"
   },
   {
    "duration": 20,
    "start_time": "2023-09-23T23:29:21.100Z"
   },
   {
    "duration": 114,
    "start_time": "2023-09-23T23:29:21.122Z"
   },
   {
    "duration": 66,
    "start_time": "2023-09-23T23:29:21.239Z"
   },
   {
    "duration": 19,
    "start_time": "2023-09-23T23:29:21.307Z"
   },
   {
    "duration": 124,
    "start_time": "2023-09-23T23:29:21.337Z"
   },
   {
    "duration": 44,
    "start_time": "2023-09-23T23:29:21.468Z"
   },
   {
    "duration": 480,
    "start_time": "2023-09-23T23:29:21.514Z"
   },
   {
    "duration": 3,
    "start_time": "2023-09-23T23:29:22.001Z"
   },
   {
    "duration": 125,
    "start_time": "2023-09-23T23:29:22.007Z"
   },
   {
    "duration": 7,
    "start_time": "2023-09-23T23:29:22.134Z"
   },
   {
    "duration": 7,
    "start_time": "2023-09-23T23:29:22.144Z"
   },
   {
    "duration": 16,
    "start_time": "2023-09-23T23:29:22.153Z"
   },
   {
    "duration": 57,
    "start_time": "2023-09-23T23:29:22.171Z"
   },
   {
    "duration": 46,
    "start_time": "2023-09-23T23:29:22.230Z"
   },
   {
    "duration": 64,
    "start_time": "2023-09-23T23:29:22.278Z"
   },
   {
    "duration": 39,
    "start_time": "2023-09-23T23:29:22.353Z"
   },
   {
    "duration": 205,
    "start_time": "2023-09-23T23:29:22.397Z"
   },
   {
    "duration": 0,
    "start_time": "2023-09-23T23:29:22.605Z"
   },
   {
    "duration": 0,
    "start_time": "2023-09-23T23:29:22.607Z"
   },
   {
    "duration": 0,
    "start_time": "2023-09-23T23:29:22.608Z"
   },
   {
    "duration": 0,
    "start_time": "2023-09-23T23:29:22.609Z"
   },
   {
    "duration": 0,
    "start_time": "2023-09-23T23:29:22.611Z"
   },
   {
    "duration": 0,
    "start_time": "2023-09-23T23:29:22.612Z"
   },
   {
    "duration": 0,
    "start_time": "2023-09-23T23:29:22.614Z"
   },
   {
    "duration": 0,
    "start_time": "2023-09-23T23:29:22.615Z"
   },
   {
    "duration": 0,
    "start_time": "2023-09-23T23:29:22.617Z"
   },
   {
    "duration": 0,
    "start_time": "2023-09-23T23:29:22.618Z"
   },
   {
    "duration": 0,
    "start_time": "2023-09-23T23:29:22.620Z"
   },
   {
    "duration": 0,
    "start_time": "2023-09-23T23:29:22.621Z"
   },
   {
    "duration": 0,
    "start_time": "2023-09-23T23:29:22.623Z"
   },
   {
    "duration": 0,
    "start_time": "2023-09-23T23:29:22.624Z"
   },
   {
    "duration": 0,
    "start_time": "2023-09-23T23:29:22.631Z"
   },
   {
    "duration": 0,
    "start_time": "2023-09-23T23:29:22.633Z"
   },
   {
    "duration": 0,
    "start_time": "2023-09-23T23:29:22.634Z"
   },
   {
    "duration": 0,
    "start_time": "2023-09-23T23:29:22.635Z"
   },
   {
    "duration": 0,
    "start_time": "2023-09-23T23:29:22.648Z"
   },
   {
    "duration": 0,
    "start_time": "2023-09-23T23:29:22.650Z"
   },
   {
    "duration": 0,
    "start_time": "2023-09-23T23:29:22.651Z"
   },
   {
    "duration": 0,
    "start_time": "2023-09-23T23:29:22.652Z"
   },
   {
    "duration": 0,
    "start_time": "2023-09-23T23:29:22.653Z"
   },
   {
    "duration": 0,
    "start_time": "2023-09-23T23:29:22.654Z"
   },
   {
    "duration": 0,
    "start_time": "2023-09-23T23:29:22.655Z"
   },
   {
    "duration": 0,
    "start_time": "2023-09-23T23:29:22.656Z"
   },
   {
    "duration": 0,
    "start_time": "2023-09-23T23:29:22.657Z"
   },
   {
    "duration": 0,
    "start_time": "2023-09-23T23:29:22.664Z"
   },
   {
    "duration": 0,
    "start_time": "2023-09-23T23:29:22.665Z"
   },
   {
    "duration": 0,
    "start_time": "2023-09-23T23:29:22.666Z"
   },
   {
    "duration": 0,
    "start_time": "2023-09-23T23:29:22.667Z"
   },
   {
    "duration": 0,
    "start_time": "2023-09-23T23:29:22.673Z"
   },
   {
    "duration": 0,
    "start_time": "2023-09-23T23:29:22.674Z"
   },
   {
    "duration": 0,
    "start_time": "2023-09-23T23:29:22.675Z"
   },
   {
    "duration": 0,
    "start_time": "2023-09-23T23:29:22.676Z"
   },
   {
    "duration": 0,
    "start_time": "2023-09-23T23:29:22.677Z"
   },
   {
    "duration": 0,
    "start_time": "2023-09-23T23:29:22.678Z"
   },
   {
    "duration": 0,
    "start_time": "2023-09-23T23:29:22.680Z"
   },
   {
    "duration": 0,
    "start_time": "2023-09-23T23:29:22.681Z"
   },
   {
    "duration": 0,
    "start_time": "2023-09-23T23:29:22.693Z"
   },
   {
    "duration": 0,
    "start_time": "2023-09-23T23:29:22.697Z"
   },
   {
    "duration": 0,
    "start_time": "2023-09-23T23:29:22.698Z"
   },
   {
    "duration": 0,
    "start_time": "2023-09-23T23:29:22.699Z"
   },
   {
    "duration": 0,
    "start_time": "2023-09-23T23:29:22.700Z"
   },
   {
    "duration": 0,
    "start_time": "2023-09-23T23:29:22.701Z"
   },
   {
    "duration": 1,
    "start_time": "2023-09-23T23:29:22.702Z"
   },
   {
    "duration": 0,
    "start_time": "2023-09-23T23:29:22.704Z"
   },
   {
    "duration": 0,
    "start_time": "2023-09-23T23:29:22.705Z"
   },
   {
    "duration": 0,
    "start_time": "2023-09-23T23:29:22.706Z"
   },
   {
    "duration": 1,
    "start_time": "2023-09-23T23:29:22.732Z"
   },
   {
    "duration": 16,
    "start_time": "2023-09-23T23:29:44.565Z"
   },
   {
    "duration": 43,
    "start_time": "2023-09-23T23:29:48.505Z"
   },
   {
    "duration": 15,
    "start_time": "2023-09-23T23:29:49.173Z"
   },
   {
    "duration": 7,
    "start_time": "2023-09-23T23:29:50.692Z"
   },
   {
    "duration": 7,
    "start_time": "2023-09-23T23:29:51.514Z"
   },
   {
    "duration": 4,
    "start_time": "2023-09-23T23:29:52.198Z"
   },
   {
    "duration": 204,
    "start_time": "2023-09-23T23:30:01.553Z"
   },
   {
    "duration": 180,
    "start_time": "2023-09-23T23:31:22.336Z"
   },
   {
    "duration": 296,
    "start_time": "2023-09-23T23:31:24.394Z"
   },
   {
    "duration": 21,
    "start_time": "2023-09-23T23:31:29.376Z"
   },
   {
    "duration": 86,
    "start_time": "2023-09-23T23:31:49.588Z"
   },
   {
    "duration": 299,
    "start_time": "2023-09-23T23:31:51.638Z"
   },
   {
    "duration": 43,
    "start_time": "2023-09-23T23:32:03.653Z"
   },
   {
    "duration": 1989,
    "start_time": "2023-09-23T23:32:59.613Z"
   },
   {
    "duration": 1961,
    "start_time": "2023-09-23T23:34:18.165Z"
   },
   {
    "duration": 1693,
    "start_time": "2023-09-23T23:36:04.020Z"
   },
   {
    "duration": 17,
    "start_time": "2023-09-23T23:55:08.179Z"
   },
   {
    "duration": 42,
    "start_time": "2023-09-23T23:55:15.609Z"
   },
   {
    "duration": 721,
    "start_time": "2023-09-23T23:55:21.267Z"
   },
   {
    "duration": 2701,
    "start_time": "2023-09-24T00:00:55.056Z"
   },
   {
    "duration": 1748,
    "start_time": "2023-09-24T00:04:07.672Z"
   },
   {
    "duration": 439,
    "start_time": "2023-09-24T00:04:09.422Z"
   },
   {
    "duration": 102,
    "start_time": "2023-09-24T00:04:09.871Z"
   },
   {
    "duration": 521,
    "start_time": "2023-09-24T00:04:09.975Z"
   },
   {
    "duration": 31,
    "start_time": "2023-09-24T00:04:10.498Z"
   },
   {
    "duration": 57,
    "start_time": "2023-09-24T00:04:10.531Z"
   },
   {
    "duration": 57,
    "start_time": "2023-09-24T00:04:10.591Z"
   },
   {
    "duration": 139,
    "start_time": "2023-09-24T00:04:10.656Z"
   },
   {
    "duration": 57,
    "start_time": "2023-09-24T00:04:10.797Z"
   },
   {
    "duration": 25,
    "start_time": "2023-09-24T00:04:10.857Z"
   },
   {
    "duration": 93,
    "start_time": "2023-09-24T00:04:10.884Z"
   },
   {
    "duration": 28,
    "start_time": "2023-09-24T00:04:10.979Z"
   },
   {
    "duration": 311,
    "start_time": "2023-09-24T00:04:11.009Z"
   },
   {
    "duration": 10,
    "start_time": "2023-09-24T00:04:11.327Z"
   },
   {
    "duration": 158,
    "start_time": "2023-09-24T00:04:11.343Z"
   },
   {
    "duration": 143,
    "start_time": "2023-09-24T00:04:11.503Z"
   },
   {
    "duration": 12,
    "start_time": "2023-09-24T00:04:11.650Z"
   },
   {
    "duration": 13,
    "start_time": "2023-09-24T00:04:11.664Z"
   },
   {
    "duration": 6,
    "start_time": "2023-09-24T00:04:11.678Z"
   },
   {
    "duration": 13,
    "start_time": "2023-09-24T00:04:11.685Z"
   },
   {
    "duration": 48,
    "start_time": "2023-09-24T00:04:11.699Z"
   },
   {
    "duration": 25,
    "start_time": "2023-09-24T00:04:11.749Z"
   },
   {
    "duration": 14,
    "start_time": "2023-09-24T00:04:11.776Z"
   },
   {
    "duration": 21,
    "start_time": "2023-09-24T00:04:11.792Z"
   },
   {
    "duration": 23,
    "start_time": "2023-09-24T00:04:11.814Z"
   },
   {
    "duration": 11,
    "start_time": "2023-09-24T00:04:11.841Z"
   },
   {
    "duration": 15,
    "start_time": "2023-09-24T00:04:11.853Z"
   },
   {
    "duration": 5,
    "start_time": "2023-09-24T00:04:11.873Z"
   },
   {
    "duration": 149,
    "start_time": "2023-09-24T00:04:11.880Z"
   },
   {
    "duration": 255,
    "start_time": "2023-09-24T00:04:12.031Z"
   },
   {
    "duration": 87,
    "start_time": "2023-09-24T00:04:12.288Z"
   },
   {
    "duration": 236,
    "start_time": "2023-09-24T00:04:12.377Z"
   },
   {
    "duration": 1647,
    "start_time": "2023-09-24T00:04:12.615Z"
   },
   {
    "duration": 1900,
    "start_time": "2023-09-24T00:04:14.264Z"
   },
   {
    "duration": 1648,
    "start_time": "2023-09-24T00:04:16.165Z"
   },
   {
    "duration": 600,
    "start_time": "2023-09-24T00:04:17.815Z"
   },
   {
    "duration": 23,
    "start_time": "2023-09-24T00:04:18.424Z"
   },
   {
    "duration": 9,
    "start_time": "2023-09-24T00:04:18.453Z"
   },
   {
    "duration": 9,
    "start_time": "2023-09-24T00:04:18.464Z"
   },
   {
    "duration": 9,
    "start_time": "2023-09-24T00:04:18.474Z"
   },
   {
    "duration": 133,
    "start_time": "2023-09-24T00:04:18.485Z"
   },
   {
    "duration": 0,
    "start_time": "2023-09-24T00:04:18.620Z"
   },
   {
    "duration": 0,
    "start_time": "2023-09-24T00:04:18.623Z"
   },
   {
    "duration": 0,
    "start_time": "2023-09-24T00:04:18.624Z"
   },
   {
    "duration": 0,
    "start_time": "2023-09-24T00:04:18.625Z"
   },
   {
    "duration": 0,
    "start_time": "2023-09-24T00:04:18.626Z"
   },
   {
    "duration": 0,
    "start_time": "2023-09-24T00:04:18.627Z"
   },
   {
    "duration": 0,
    "start_time": "2023-09-24T00:04:18.627Z"
   },
   {
    "duration": 0,
    "start_time": "2023-09-24T00:04:18.628Z"
   },
   {
    "duration": 0,
    "start_time": "2023-09-24T00:04:18.629Z"
   },
   {
    "duration": 0,
    "start_time": "2023-09-24T00:04:18.629Z"
   },
   {
    "duration": 0,
    "start_time": "2023-09-24T00:04:18.631Z"
   },
   {
    "duration": 0,
    "start_time": "2023-09-24T00:04:18.632Z"
   },
   {
    "duration": 0,
    "start_time": "2023-09-24T00:04:18.633Z"
   },
   {
    "duration": 0,
    "start_time": "2023-09-24T00:04:18.633Z"
   },
   {
    "duration": 0,
    "start_time": "2023-09-24T00:04:18.634Z"
   },
   {
    "duration": 0,
    "start_time": "2023-09-24T00:04:18.635Z"
   },
   {
    "duration": 0,
    "start_time": "2023-09-24T00:04:18.636Z"
   },
   {
    "duration": 0,
    "start_time": "2023-09-24T00:04:18.646Z"
   },
   {
    "duration": 0,
    "start_time": "2023-09-24T00:04:18.647Z"
   },
   {
    "duration": 0,
    "start_time": "2023-09-24T00:04:18.648Z"
   },
   {
    "duration": 0,
    "start_time": "2023-09-24T00:04:18.648Z"
   },
   {
    "duration": 0,
    "start_time": "2023-09-24T00:04:18.649Z"
   },
   {
    "duration": 0,
    "start_time": "2023-09-24T00:04:18.650Z"
   },
   {
    "duration": 1,
    "start_time": "2023-09-24T00:04:18.650Z"
   },
   {
    "duration": 0,
    "start_time": "2023-09-24T00:04:18.651Z"
   },
   {
    "duration": 0,
    "start_time": "2023-09-24T00:04:18.656Z"
   },
   {
    "duration": 0,
    "start_time": "2023-09-24T00:04:18.657Z"
   },
   {
    "duration": 0,
    "start_time": "2023-09-24T00:04:18.658Z"
   },
   {
    "duration": 1,
    "start_time": "2023-09-24T00:04:18.658Z"
   },
   {
    "duration": 0,
    "start_time": "2023-09-24T00:04:18.659Z"
   },
   {
    "duration": 0,
    "start_time": "2023-09-24T00:04:18.668Z"
   },
   {
    "duration": 1784,
    "start_time": "2023-09-24T00:06:12.271Z"
   },
   {
    "duration": 410,
    "start_time": "2023-09-24T00:06:14.058Z"
   },
   {
    "duration": 100,
    "start_time": "2023-09-24T00:06:14.470Z"
   },
   {
    "duration": 495,
    "start_time": "2023-09-24T00:06:14.573Z"
   },
   {
    "duration": 18,
    "start_time": "2023-09-24T00:06:15.071Z"
   },
   {
    "duration": 23,
    "start_time": "2023-09-24T00:06:15.091Z"
   },
   {
    "duration": 60,
    "start_time": "2023-09-24T00:06:15.116Z"
   },
   {
    "duration": 98,
    "start_time": "2023-09-24T00:06:15.178Z"
   },
   {
    "duration": 39,
    "start_time": "2023-09-24T00:06:15.277Z"
   },
   {
    "duration": 21,
    "start_time": "2023-09-24T00:06:15.318Z"
   },
   {
    "duration": 115,
    "start_time": "2023-09-24T00:06:15.341Z"
   },
   {
    "duration": 34,
    "start_time": "2023-09-24T00:06:15.463Z"
   },
   {
    "duration": 309,
    "start_time": "2023-09-24T00:06:15.499Z"
   },
   {
    "duration": 2,
    "start_time": "2023-09-24T00:06:15.811Z"
   },
   {
    "duration": 50,
    "start_time": "2023-09-24T00:06:15.815Z"
   },
   {
    "duration": 4,
    "start_time": "2023-09-24T00:06:15.870Z"
   },
   {
    "duration": 8,
    "start_time": "2023-09-24T00:06:15.876Z"
   },
   {
    "duration": 14,
    "start_time": "2023-09-24T00:06:15.886Z"
   },
   {
    "duration": 11,
    "start_time": "2023-09-24T00:06:15.903Z"
   },
   {
    "duration": 16,
    "start_time": "2023-09-24T00:06:15.916Z"
   },
   {
    "duration": 32,
    "start_time": "2023-09-24T00:06:15.943Z"
   },
   {
    "duration": 20,
    "start_time": "2023-09-24T00:06:15.977Z"
   },
   {
    "duration": 12,
    "start_time": "2023-09-24T00:06:15.999Z"
   },
   {
    "duration": 36,
    "start_time": "2023-09-24T00:06:16.013Z"
   },
   {
    "duration": 14,
    "start_time": "2023-09-24T00:06:16.052Z"
   },
   {
    "duration": 23,
    "start_time": "2023-09-24T00:06:16.069Z"
   },
   {
    "duration": 20,
    "start_time": "2023-09-24T00:06:16.095Z"
   },
   {
    "duration": 42,
    "start_time": "2023-09-24T00:06:16.117Z"
   },
   {
    "duration": 164,
    "start_time": "2023-09-24T00:06:16.163Z"
   },
   {
    "duration": 249,
    "start_time": "2023-09-24T00:06:16.332Z"
   },
   {
    "duration": 75,
    "start_time": "2023-09-24T00:06:16.582Z"
   },
   {
    "duration": 357,
    "start_time": "2023-09-24T00:06:16.659Z"
   },
   {
    "duration": 1676,
    "start_time": "2023-09-24T00:06:17.018Z"
   },
   {
    "duration": 1872,
    "start_time": "2023-09-24T00:06:18.695Z"
   },
   {
    "duration": 1650,
    "start_time": "2023-09-24T00:06:20.569Z"
   },
   {
    "duration": 622,
    "start_time": "2023-09-24T00:06:22.221Z"
   },
   {
    "duration": 7,
    "start_time": "2023-09-24T00:06:22.845Z"
   },
   {
    "duration": 23,
    "start_time": "2023-09-24T00:06:22.853Z"
   },
   {
    "duration": 25,
    "start_time": "2023-09-24T00:06:22.878Z"
   },
   {
    "duration": 64,
    "start_time": "2023-09-24T00:06:22.905Z"
   },
   {
    "duration": 1466,
    "start_time": "2023-09-24T00:06:22.973Z"
   },
   {
    "duration": 79,
    "start_time": "2023-09-24T00:06:24.444Z"
   },
   {
    "duration": 1657,
    "start_time": "2023-09-24T00:06:24.530Z"
   },
   {
    "duration": 2804,
    "start_time": "2023-09-24T00:06:26.189Z"
   },
   {
    "duration": 0,
    "start_time": "2023-09-24T00:06:28.995Z"
   },
   {
    "duration": 0,
    "start_time": "2023-09-24T00:06:28.997Z"
   },
   {
    "duration": 0,
    "start_time": "2023-09-24T00:06:28.998Z"
   },
   {
    "duration": 0,
    "start_time": "2023-09-24T00:06:28.999Z"
   },
   {
    "duration": 0,
    "start_time": "2023-09-24T00:06:29.000Z"
   },
   {
    "duration": 0,
    "start_time": "2023-09-24T00:06:29.002Z"
   },
   {
    "duration": 0,
    "start_time": "2023-09-24T00:06:29.003Z"
   },
   {
    "duration": 0,
    "start_time": "2023-09-24T00:06:29.004Z"
   },
   {
    "duration": 0,
    "start_time": "2023-09-24T00:06:29.005Z"
   },
   {
    "duration": 0,
    "start_time": "2023-09-24T00:06:29.005Z"
   },
   {
    "duration": 0,
    "start_time": "2023-09-24T00:06:29.006Z"
   },
   {
    "duration": 0,
    "start_time": "2023-09-24T00:06:29.007Z"
   },
   {
    "duration": 0,
    "start_time": "2023-09-24T00:06:29.008Z"
   },
   {
    "duration": 0,
    "start_time": "2023-09-24T00:06:29.009Z"
   },
   {
    "duration": 0,
    "start_time": "2023-09-24T00:06:29.010Z"
   },
   {
    "duration": 0,
    "start_time": "2023-09-24T00:06:29.011Z"
   },
   {
    "duration": 0,
    "start_time": "2023-09-24T00:06:29.012Z"
   },
   {
    "duration": 0,
    "start_time": "2023-09-24T00:06:29.013Z"
   },
   {
    "duration": 0,
    "start_time": "2023-09-24T00:06:29.015Z"
   },
   {
    "duration": 0,
    "start_time": "2023-09-24T00:06:29.016Z"
   },
   {
    "duration": 0,
    "start_time": "2023-09-24T00:06:29.017Z"
   },
   {
    "duration": 0,
    "start_time": "2023-09-24T00:06:29.018Z"
   },
   {
    "duration": 0,
    "start_time": "2023-09-24T00:06:29.019Z"
   },
   {
    "duration": 0,
    "start_time": "2023-09-24T00:06:29.021Z"
   },
   {
    "duration": 0,
    "start_time": "2023-09-24T00:06:29.022Z"
   },
   {
    "duration": 0,
    "start_time": "2023-09-24T00:06:29.023Z"
   },
   {
    "duration": 0,
    "start_time": "2023-09-24T00:06:29.031Z"
   },
   {
    "duration": 0,
    "start_time": "2023-09-24T00:06:29.032Z"
   },
   {
    "duration": 3315,
    "start_time": "2023-09-24T00:12:25.009Z"
   },
   {
    "duration": 2526,
    "start_time": "2023-09-24T00:12:50.763Z"
   },
   {
    "duration": 5,
    "start_time": "2023-09-24T00:13:02.915Z"
   },
   {
    "duration": 2357,
    "start_time": "2023-09-24T00:13:24.753Z"
   },
   {
    "duration": 422,
    "start_time": "2023-09-24T00:13:27.113Z"
   },
   {
    "duration": 105,
    "start_time": "2023-09-24T00:13:27.537Z"
   },
   {
    "duration": 503,
    "start_time": "2023-09-24T00:13:27.644Z"
   },
   {
    "duration": 32,
    "start_time": "2023-09-24T00:13:28.154Z"
   },
   {
    "duration": 24,
    "start_time": "2023-09-24T00:13:28.188Z"
   },
   {
    "duration": 35,
    "start_time": "2023-09-24T00:13:28.214Z"
   },
   {
    "duration": 86,
    "start_time": "2023-09-24T00:13:28.251Z"
   },
   {
    "duration": 52,
    "start_time": "2023-09-24T00:13:28.339Z"
   },
   {
    "duration": 36,
    "start_time": "2023-09-24T00:13:28.393Z"
   },
   {
    "duration": 74,
    "start_time": "2023-09-24T00:13:28.433Z"
   },
   {
    "duration": 41,
    "start_time": "2023-09-24T00:13:28.509Z"
   },
   {
    "duration": 314,
    "start_time": "2023-09-24T00:13:28.552Z"
   },
   {
    "duration": 3,
    "start_time": "2023-09-24T00:13:28.872Z"
   },
   {
    "duration": 30,
    "start_time": "2023-09-24T00:13:28.877Z"
   },
   {
    "duration": 5,
    "start_time": "2023-09-24T00:13:28.909Z"
   },
   {
    "duration": 29,
    "start_time": "2023-09-24T00:13:28.916Z"
   },
   {
    "duration": 25,
    "start_time": "2023-09-24T00:13:28.947Z"
   },
   {
    "duration": 8,
    "start_time": "2023-09-24T00:13:28.974Z"
   },
   {
    "duration": 8,
    "start_time": "2023-09-24T00:13:28.984Z"
   },
   {
    "duration": 29,
    "start_time": "2023-09-24T00:13:28.994Z"
   },
   {
    "duration": 42,
    "start_time": "2023-09-24T00:13:29.025Z"
   },
   {
    "duration": 7,
    "start_time": "2023-09-24T00:13:29.069Z"
   },
   {
    "duration": 22,
    "start_time": "2023-09-24T00:13:29.077Z"
   },
   {
    "duration": 10,
    "start_time": "2023-09-24T00:13:29.101Z"
   },
   {
    "duration": 38,
    "start_time": "2023-09-24T00:13:29.113Z"
   },
   {
    "duration": 9,
    "start_time": "2023-09-24T00:13:29.161Z"
   },
   {
    "duration": 7,
    "start_time": "2023-09-24T00:13:29.172Z"
   },
   {
    "duration": 160,
    "start_time": "2023-09-24T00:13:29.181Z"
   },
   {
    "duration": 242,
    "start_time": "2023-09-24T00:13:29.348Z"
   },
   {
    "duration": 92,
    "start_time": "2023-09-24T00:13:29.592Z"
   },
   {
    "duration": 228,
    "start_time": "2023-09-24T00:13:29.686Z"
   },
   {
    "duration": 1739,
    "start_time": "2023-09-24T00:13:29.916Z"
   },
   {
    "duration": 1620,
    "start_time": "2023-09-24T00:13:31.657Z"
   },
   {
    "duration": 1667,
    "start_time": "2023-09-24T00:13:33.279Z"
   },
   {
    "duration": 672,
    "start_time": "2023-09-24T00:13:34.955Z"
   },
   {
    "duration": 6,
    "start_time": "2023-09-24T00:13:35.629Z"
   },
   {
    "duration": 35,
    "start_time": "2023-09-24T00:13:35.637Z"
   },
   {
    "duration": 23,
    "start_time": "2023-09-24T00:13:35.673Z"
   },
   {
    "duration": 50,
    "start_time": "2023-09-24T00:13:35.698Z"
   },
   {
    "duration": 1614,
    "start_time": "2023-09-24T00:13:35.762Z"
   },
   {
    "duration": 101,
    "start_time": "2023-09-24T00:13:37.378Z"
   },
   {
    "duration": 1794,
    "start_time": "2023-09-24T00:13:37.481Z"
   },
   {
    "duration": 6,
    "start_time": "2023-09-24T00:13:39.277Z"
   },
   {
    "duration": 2819,
    "start_time": "2023-09-24T00:13:39.284Z"
   },
   {
    "duration": 0,
    "start_time": "2023-09-24T00:13:42.105Z"
   },
   {
    "duration": 0,
    "start_time": "2023-09-24T00:13:42.106Z"
   },
   {
    "duration": 0,
    "start_time": "2023-09-24T00:13:42.107Z"
   },
   {
    "duration": 0,
    "start_time": "2023-09-24T00:13:42.109Z"
   },
   {
    "duration": 0,
    "start_time": "2023-09-24T00:13:42.110Z"
   },
   {
    "duration": 0,
    "start_time": "2023-09-24T00:13:42.111Z"
   },
   {
    "duration": 0,
    "start_time": "2023-09-24T00:13:42.112Z"
   },
   {
    "duration": 0,
    "start_time": "2023-09-24T00:13:42.113Z"
   },
   {
    "duration": 0,
    "start_time": "2023-09-24T00:13:42.114Z"
   },
   {
    "duration": 0,
    "start_time": "2023-09-24T00:13:42.115Z"
   },
   {
    "duration": 0,
    "start_time": "2023-09-24T00:13:42.116Z"
   },
   {
    "duration": 0,
    "start_time": "2023-09-24T00:13:42.118Z"
   },
   {
    "duration": 0,
    "start_time": "2023-09-24T00:13:42.119Z"
   },
   {
    "duration": 0,
    "start_time": "2023-09-24T00:13:42.120Z"
   },
   {
    "duration": 0,
    "start_time": "2023-09-24T00:13:42.121Z"
   },
   {
    "duration": 0,
    "start_time": "2023-09-24T00:13:42.122Z"
   },
   {
    "duration": 0,
    "start_time": "2023-09-24T00:13:42.123Z"
   },
   {
    "duration": 0,
    "start_time": "2023-09-24T00:13:42.126Z"
   },
   {
    "duration": 0,
    "start_time": "2023-09-24T00:13:42.127Z"
   },
   {
    "duration": 0,
    "start_time": "2023-09-24T00:13:42.129Z"
   },
   {
    "duration": 0,
    "start_time": "2023-09-24T00:13:42.129Z"
   },
   {
    "duration": 0,
    "start_time": "2023-09-24T00:13:42.130Z"
   },
   {
    "duration": 0,
    "start_time": "2023-09-24T00:13:42.131Z"
   },
   {
    "duration": 0,
    "start_time": "2023-09-24T00:13:42.132Z"
   },
   {
    "duration": 0,
    "start_time": "2023-09-24T00:13:42.134Z"
   },
   {
    "duration": 0,
    "start_time": "2023-09-24T00:13:42.136Z"
   },
   {
    "duration": 0,
    "start_time": "2023-09-24T00:13:42.137Z"
   },
   {
    "duration": 0,
    "start_time": "2023-09-24T00:13:42.138Z"
   },
   {
    "duration": 1803,
    "start_time": "2023-09-24T00:16:05.018Z"
   },
   {
    "duration": 444,
    "start_time": "2023-09-24T00:16:06.824Z"
   },
   {
    "duration": 97,
    "start_time": "2023-09-24T00:16:07.270Z"
   },
   {
    "duration": 530,
    "start_time": "2023-09-24T00:16:07.371Z"
   },
   {
    "duration": 37,
    "start_time": "2023-09-24T00:16:07.903Z"
   },
   {
    "duration": 26,
    "start_time": "2023-09-24T00:16:07.954Z"
   },
   {
    "duration": 43,
    "start_time": "2023-09-24T00:16:07.982Z"
   },
   {
    "duration": 75,
    "start_time": "2023-09-24T00:16:08.031Z"
   },
   {
    "duration": 62,
    "start_time": "2023-09-24T00:16:08.108Z"
   },
   {
    "duration": 25,
    "start_time": "2023-09-24T00:16:08.177Z"
   },
   {
    "duration": 75,
    "start_time": "2023-09-24T00:16:08.204Z"
   },
   {
    "duration": 31,
    "start_time": "2023-09-24T00:16:08.281Z"
   },
   {
    "duration": 325,
    "start_time": "2023-09-24T00:16:08.335Z"
   },
   {
    "duration": 3,
    "start_time": "2023-09-24T00:16:08.671Z"
   },
   {
    "duration": 65,
    "start_time": "2023-09-24T00:16:08.676Z"
   },
   {
    "duration": 4,
    "start_time": "2023-09-24T00:16:08.743Z"
   },
   {
    "duration": 19,
    "start_time": "2023-09-24T00:16:08.754Z"
   },
   {
    "duration": 35,
    "start_time": "2023-09-24T00:16:08.775Z"
   },
   {
    "duration": 37,
    "start_time": "2023-09-24T00:16:08.812Z"
   },
   {
    "duration": 24,
    "start_time": "2023-09-24T00:16:08.851Z"
   },
   {
    "duration": 40,
    "start_time": "2023-09-24T00:16:08.877Z"
   },
   {
    "duration": 24,
    "start_time": "2023-09-24T00:16:08.918Z"
   },
   {
    "duration": 25,
    "start_time": "2023-09-24T00:16:08.943Z"
   },
   {
    "duration": 33,
    "start_time": "2023-09-24T00:16:08.969Z"
   },
   {
    "duration": 12,
    "start_time": "2023-09-24T00:16:09.003Z"
   },
   {
    "duration": 29,
    "start_time": "2023-09-24T00:16:09.017Z"
   },
   {
    "duration": 34,
    "start_time": "2023-09-24T00:16:09.051Z"
   },
   {
    "duration": 15,
    "start_time": "2023-09-24T00:16:09.091Z"
   },
   {
    "duration": 2659,
    "start_time": "2023-09-24T00:16:09.108Z"
   },
   {
    "duration": 0,
    "start_time": "2023-09-24T00:16:11.769Z"
   },
   {
    "duration": 0,
    "start_time": "2023-09-24T00:16:11.770Z"
   },
   {
    "duration": 0,
    "start_time": "2023-09-24T00:16:11.772Z"
   },
   {
    "duration": 0,
    "start_time": "2023-09-24T00:16:11.773Z"
   },
   {
    "duration": 0,
    "start_time": "2023-09-24T00:16:11.774Z"
   },
   {
    "duration": 0,
    "start_time": "2023-09-24T00:16:11.776Z"
   },
   {
    "duration": 0,
    "start_time": "2023-09-24T00:16:11.777Z"
   },
   {
    "duration": 0,
    "start_time": "2023-09-24T00:16:11.779Z"
   },
   {
    "duration": 0,
    "start_time": "2023-09-24T00:16:11.780Z"
   },
   {
    "duration": 0,
    "start_time": "2023-09-24T00:16:11.781Z"
   },
   {
    "duration": 0,
    "start_time": "2023-09-24T00:16:11.782Z"
   },
   {
    "duration": 0,
    "start_time": "2023-09-24T00:16:11.783Z"
   },
   {
    "duration": 0,
    "start_time": "2023-09-24T00:16:11.784Z"
   },
   {
    "duration": 0,
    "start_time": "2023-09-24T00:16:11.785Z"
   },
   {
    "duration": 0,
    "start_time": "2023-09-24T00:16:11.786Z"
   },
   {
    "duration": 0,
    "start_time": "2023-09-24T00:16:11.787Z"
   },
   {
    "duration": 0,
    "start_time": "2023-09-24T00:16:11.788Z"
   },
   {
    "duration": 0,
    "start_time": "2023-09-24T00:16:11.789Z"
   },
   {
    "duration": 0,
    "start_time": "2023-09-24T00:16:11.790Z"
   },
   {
    "duration": 0,
    "start_time": "2023-09-24T00:16:11.792Z"
   },
   {
    "duration": 0,
    "start_time": "2023-09-24T00:16:11.793Z"
   },
   {
    "duration": 0,
    "start_time": "2023-09-24T00:16:11.794Z"
   },
   {
    "duration": 0,
    "start_time": "2023-09-24T00:16:11.795Z"
   },
   {
    "duration": 0,
    "start_time": "2023-09-24T00:16:11.796Z"
   },
   {
    "duration": 0,
    "start_time": "2023-09-24T00:16:11.797Z"
   },
   {
    "duration": 0,
    "start_time": "2023-09-24T00:16:11.799Z"
   },
   {
    "duration": 0,
    "start_time": "2023-09-24T00:16:11.800Z"
   },
   {
    "duration": 0,
    "start_time": "2023-09-24T00:16:11.801Z"
   },
   {
    "duration": 0,
    "start_time": "2023-09-24T00:16:11.802Z"
   },
   {
    "duration": 0,
    "start_time": "2023-09-24T00:16:11.803Z"
   },
   {
    "duration": 0,
    "start_time": "2023-09-24T00:16:11.804Z"
   },
   {
    "duration": 0,
    "start_time": "2023-09-24T00:16:11.823Z"
   },
   {
    "duration": 0,
    "start_time": "2023-09-24T00:16:11.824Z"
   },
   {
    "duration": 0,
    "start_time": "2023-09-24T00:16:11.825Z"
   },
   {
    "duration": 0,
    "start_time": "2023-09-24T00:16:11.826Z"
   },
   {
    "duration": 0,
    "start_time": "2023-09-24T00:16:11.827Z"
   },
   {
    "duration": 0,
    "start_time": "2023-09-24T00:16:11.833Z"
   },
   {
    "duration": 0,
    "start_time": "2023-09-24T00:16:11.834Z"
   },
   {
    "duration": 0,
    "start_time": "2023-09-24T00:16:11.835Z"
   },
   {
    "duration": 0,
    "start_time": "2023-09-24T00:16:11.836Z"
   },
   {
    "duration": 0,
    "start_time": "2023-09-24T00:16:11.837Z"
   },
   {
    "duration": 0,
    "start_time": "2023-09-24T00:16:11.838Z"
   },
   {
    "duration": 0,
    "start_time": "2023-09-24T00:16:11.839Z"
   },
   {
    "duration": 0,
    "start_time": "2023-09-24T00:16:11.845Z"
   },
   {
    "duration": 0,
    "start_time": "2023-09-24T00:16:11.846Z"
   },
   {
    "duration": 2580,
    "start_time": "2023-09-24T00:16:39.575Z"
   },
   {
    "duration": 2195,
    "start_time": "2023-09-24T00:16:52.552Z"
   },
   {
    "duration": 5,
    "start_time": "2023-09-24T00:17:13.882Z"
   },
   {
    "duration": 15,
    "start_time": "2023-09-24T00:17:20.150Z"
   },
   {
    "duration": 2491,
    "start_time": "2023-09-24T00:17:22.395Z"
   },
   {
    "duration": 1765,
    "start_time": "2023-09-24T00:17:30.656Z"
   },
   {
    "duration": 430,
    "start_time": "2023-09-24T00:17:32.424Z"
   },
   {
    "duration": 97,
    "start_time": "2023-09-24T00:17:32.856Z"
   },
   {
    "duration": 717,
    "start_time": "2023-09-24T00:17:32.955Z"
   },
   {
    "duration": 17,
    "start_time": "2023-09-24T00:17:33.674Z"
   },
   {
    "duration": 14,
    "start_time": "2023-09-24T00:17:33.692Z"
   },
   {
    "duration": 37,
    "start_time": "2023-09-24T00:17:33.708Z"
   },
   {
    "duration": 85,
    "start_time": "2023-09-24T00:17:33.747Z"
   },
   {
    "duration": 47,
    "start_time": "2023-09-24T00:17:33.841Z"
   },
   {
    "duration": 16,
    "start_time": "2023-09-24T00:17:33.890Z"
   },
   {
    "duration": 112,
    "start_time": "2023-09-24T00:17:33.907Z"
   },
   {
    "duration": 56,
    "start_time": "2023-09-24T00:17:34.021Z"
   },
   {
    "duration": 327,
    "start_time": "2023-09-24T00:17:34.079Z"
   },
   {
    "duration": 3,
    "start_time": "2023-09-24T00:17:34.409Z"
   },
   {
    "duration": 155,
    "start_time": "2023-09-24T00:17:34.428Z"
   },
   {
    "duration": 169,
    "start_time": "2023-09-24T00:17:34.585Z"
   },
   {
    "duration": 111,
    "start_time": "2023-09-24T00:17:34.759Z"
   },
   {
    "duration": 184,
    "start_time": "2023-09-24T00:17:34.872Z"
   },
   {
    "duration": 263,
    "start_time": "2023-09-24T00:17:35.058Z"
   },
   {
    "duration": 71,
    "start_time": "2023-09-24T00:17:35.323Z"
   },
   {
    "duration": 121,
    "start_time": "2023-09-24T00:17:35.396Z"
   },
   {
    "duration": 56,
    "start_time": "2023-09-24T00:17:35.519Z"
   },
   {
    "duration": 32,
    "start_time": "2023-09-24T00:17:35.577Z"
   },
   {
    "duration": 77,
    "start_time": "2023-09-24T00:17:35.611Z"
   },
   {
    "duration": 33,
    "start_time": "2023-09-24T00:17:35.689Z"
   },
   {
    "duration": 46,
    "start_time": "2023-09-24T00:17:35.726Z"
   },
   {
    "duration": 30,
    "start_time": "2023-09-24T00:17:35.775Z"
   },
   {
    "duration": 43,
    "start_time": "2023-09-24T00:17:35.807Z"
   },
   {
    "duration": 86,
    "start_time": "2023-09-24T00:17:35.857Z"
   },
   {
    "duration": 2264,
    "start_time": "2023-09-24T00:17:35.945Z"
   },
   {
    "duration": 0,
    "start_time": "2023-09-24T00:17:38.212Z"
   },
   {
    "duration": 0,
    "start_time": "2023-09-24T00:17:38.214Z"
   },
   {
    "duration": 0,
    "start_time": "2023-09-24T00:17:38.215Z"
   },
   {
    "duration": 0,
    "start_time": "2023-09-24T00:17:38.216Z"
   },
   {
    "duration": 0,
    "start_time": "2023-09-24T00:17:38.217Z"
   },
   {
    "duration": 0,
    "start_time": "2023-09-24T00:17:38.218Z"
   },
   {
    "duration": 0,
    "start_time": "2023-09-24T00:17:38.219Z"
   },
   {
    "duration": 0,
    "start_time": "2023-09-24T00:17:38.220Z"
   },
   {
    "duration": 0,
    "start_time": "2023-09-24T00:17:38.221Z"
   },
   {
    "duration": 0,
    "start_time": "2023-09-24T00:17:38.222Z"
   },
   {
    "duration": 0,
    "start_time": "2023-09-24T00:17:38.223Z"
   },
   {
    "duration": 0,
    "start_time": "2023-09-24T00:17:38.225Z"
   },
   {
    "duration": 0,
    "start_time": "2023-09-24T00:17:38.230Z"
   },
   {
    "duration": 0,
    "start_time": "2023-09-24T00:17:38.231Z"
   },
   {
    "duration": 0,
    "start_time": "2023-09-24T00:17:38.232Z"
   },
   {
    "duration": 0,
    "start_time": "2023-09-24T00:17:38.233Z"
   },
   {
    "duration": 0,
    "start_time": "2023-09-24T00:17:38.234Z"
   },
   {
    "duration": 0,
    "start_time": "2023-09-24T00:17:38.235Z"
   },
   {
    "duration": 0,
    "start_time": "2023-09-24T00:17:38.236Z"
   },
   {
    "duration": 0,
    "start_time": "2023-09-24T00:17:38.237Z"
   },
   {
    "duration": 0,
    "start_time": "2023-09-24T00:17:38.238Z"
   },
   {
    "duration": 0,
    "start_time": "2023-09-24T00:17:38.238Z"
   },
   {
    "duration": 0,
    "start_time": "2023-09-24T00:17:38.239Z"
   },
   {
    "duration": 0,
    "start_time": "2023-09-24T00:17:38.244Z"
   },
   {
    "duration": 0,
    "start_time": "2023-09-24T00:17:38.245Z"
   },
   {
    "duration": 0,
    "start_time": "2023-09-24T00:17:38.246Z"
   },
   {
    "duration": 0,
    "start_time": "2023-09-24T00:17:38.249Z"
   },
   {
    "duration": 0,
    "start_time": "2023-09-24T00:17:38.250Z"
   },
   {
    "duration": 0,
    "start_time": "2023-09-24T00:17:38.251Z"
   },
   {
    "duration": 0,
    "start_time": "2023-09-24T00:17:38.253Z"
   },
   {
    "duration": 0,
    "start_time": "2023-09-24T00:17:38.254Z"
   },
   {
    "duration": 0,
    "start_time": "2023-09-24T00:17:38.259Z"
   },
   {
    "duration": 0,
    "start_time": "2023-09-24T00:17:38.261Z"
   },
   {
    "duration": 0,
    "start_time": "2023-09-24T00:17:38.262Z"
   },
   {
    "duration": 0,
    "start_time": "2023-09-24T00:17:38.262Z"
   },
   {
    "duration": 1,
    "start_time": "2023-09-24T00:17:38.263Z"
   },
   {
    "duration": 0,
    "start_time": "2023-09-24T00:17:38.270Z"
   },
   {
    "duration": 0,
    "start_time": "2023-09-24T00:17:38.272Z"
   },
   {
    "duration": 0,
    "start_time": "2023-09-24T00:17:38.273Z"
   },
   {
    "duration": 0,
    "start_time": "2023-09-24T00:17:38.274Z"
   },
   {
    "duration": 0,
    "start_time": "2023-09-24T00:17:38.275Z"
   },
   {
    "duration": 0,
    "start_time": "2023-09-24T00:17:38.276Z"
   },
   {
    "duration": 0,
    "start_time": "2023-09-24T00:17:38.278Z"
   },
   {
    "duration": 0,
    "start_time": "2023-09-24T00:17:38.279Z"
   },
   {
    "duration": 0,
    "start_time": "2023-09-24T00:17:38.280Z"
   },
   {
    "duration": 1815,
    "start_time": "2023-09-24T00:18:17.048Z"
   },
   {
    "duration": 412,
    "start_time": "2023-09-24T00:18:18.865Z"
   },
   {
    "duration": 97,
    "start_time": "2023-09-24T00:18:19.279Z"
   },
   {
    "duration": 500,
    "start_time": "2023-09-24T00:18:19.378Z"
   },
   {
    "duration": 18,
    "start_time": "2023-09-24T00:18:19.880Z"
   },
   {
    "duration": 27,
    "start_time": "2023-09-24T00:18:19.900Z"
   },
   {
    "duration": 37,
    "start_time": "2023-09-24T00:18:19.929Z"
   },
   {
    "duration": 76,
    "start_time": "2023-09-24T00:18:19.968Z"
   },
   {
    "duration": 49,
    "start_time": "2023-09-24T00:18:20.046Z"
   },
   {
    "duration": 41,
    "start_time": "2023-09-24T00:18:20.097Z"
   },
   {
    "duration": 80,
    "start_time": "2023-09-24T00:18:20.139Z"
   },
   {
    "duration": 60,
    "start_time": "2023-09-24T00:18:20.221Z"
   },
   {
    "duration": 342,
    "start_time": "2023-09-24T00:18:20.284Z"
   },
   {
    "duration": 2,
    "start_time": "2023-09-24T00:18:20.630Z"
   },
   {
    "duration": 26,
    "start_time": "2023-09-24T00:18:20.634Z"
   },
   {
    "duration": 4,
    "start_time": "2023-09-24T00:18:20.662Z"
   },
   {
    "duration": 3,
    "start_time": "2023-09-24T00:18:20.668Z"
   },
   {
    "duration": 78,
    "start_time": "2023-09-24T00:18:20.672Z"
   },
   {
    "duration": 52,
    "start_time": "2023-09-24T00:18:20.752Z"
   },
   {
    "duration": 93,
    "start_time": "2023-09-24T00:18:20.805Z"
   },
   {
    "duration": 108,
    "start_time": "2023-09-24T00:18:20.900Z"
   },
   {
    "duration": 73,
    "start_time": "2023-09-24T00:18:21.010Z"
   },
   {
    "duration": 51,
    "start_time": "2023-09-24T00:18:21.084Z"
   },
   {
    "duration": 30,
    "start_time": "2023-09-24T00:18:21.141Z"
   },
   {
    "duration": 10,
    "start_time": "2023-09-24T00:18:21.173Z"
   },
   {
    "duration": 20,
    "start_time": "2023-09-24T00:18:21.185Z"
   },
   {
    "duration": 2846,
    "start_time": "2023-09-24T00:18:21.206Z"
   },
   {
    "duration": 0,
    "start_time": "2023-09-24T00:18:24.058Z"
   },
   {
    "duration": 0,
    "start_time": "2023-09-24T00:18:24.059Z"
   },
   {
    "duration": 0,
    "start_time": "2023-09-24T00:18:24.061Z"
   },
   {
    "duration": 0,
    "start_time": "2023-09-24T00:18:24.062Z"
   },
   {
    "duration": 0,
    "start_time": "2023-09-24T00:18:24.063Z"
   },
   {
    "duration": 0,
    "start_time": "2023-09-24T00:18:24.064Z"
   },
   {
    "duration": 0,
    "start_time": "2023-09-24T00:18:24.066Z"
   },
   {
    "duration": 0,
    "start_time": "2023-09-24T00:18:24.067Z"
   },
   {
    "duration": 0,
    "start_time": "2023-09-24T00:18:24.068Z"
   },
   {
    "duration": 0,
    "start_time": "2023-09-24T00:18:24.069Z"
   },
   {
    "duration": 0,
    "start_time": "2023-09-24T00:18:24.070Z"
   },
   {
    "duration": 0,
    "start_time": "2023-09-24T00:18:24.071Z"
   },
   {
    "duration": 0,
    "start_time": "2023-09-24T00:18:24.072Z"
   },
   {
    "duration": 0,
    "start_time": "2023-09-24T00:18:24.073Z"
   },
   {
    "duration": 0,
    "start_time": "2023-09-24T00:18:24.074Z"
   },
   {
    "duration": 0,
    "start_time": "2023-09-24T00:18:24.075Z"
   },
   {
    "duration": 0,
    "start_time": "2023-09-24T00:18:24.076Z"
   },
   {
    "duration": 0,
    "start_time": "2023-09-24T00:18:24.078Z"
   },
   {
    "duration": 0,
    "start_time": "2023-09-24T00:18:24.079Z"
   },
   {
    "duration": 0,
    "start_time": "2023-09-24T00:18:24.080Z"
   },
   {
    "duration": 0,
    "start_time": "2023-09-24T00:18:24.081Z"
   },
   {
    "duration": 0,
    "start_time": "2023-09-24T00:18:24.082Z"
   },
   {
    "duration": 0,
    "start_time": "2023-09-24T00:18:24.083Z"
   },
   {
    "duration": 0,
    "start_time": "2023-09-24T00:18:24.084Z"
   },
   {
    "duration": 0,
    "start_time": "2023-09-24T00:18:24.085Z"
   },
   {
    "duration": 0,
    "start_time": "2023-09-24T00:18:24.086Z"
   },
   {
    "duration": 0,
    "start_time": "2023-09-24T00:18:24.087Z"
   },
   {
    "duration": 0,
    "start_time": "2023-09-24T00:18:24.088Z"
   },
   {
    "duration": 0,
    "start_time": "2023-09-24T00:18:24.089Z"
   },
   {
    "duration": 0,
    "start_time": "2023-09-24T00:18:24.090Z"
   },
   {
    "duration": 0,
    "start_time": "2023-09-24T00:18:24.091Z"
   },
   {
    "duration": 0,
    "start_time": "2023-09-24T00:18:24.092Z"
   },
   {
    "duration": 0,
    "start_time": "2023-09-24T00:18:24.094Z"
   },
   {
    "duration": 0,
    "start_time": "2023-09-24T00:18:24.095Z"
   },
   {
    "duration": 0,
    "start_time": "2023-09-24T00:18:24.096Z"
   },
   {
    "duration": 0,
    "start_time": "2023-09-24T00:18:24.097Z"
   },
   {
    "duration": 0,
    "start_time": "2023-09-24T00:18:24.098Z"
   },
   {
    "duration": 0,
    "start_time": "2023-09-24T00:18:24.098Z"
   },
   {
    "duration": 0,
    "start_time": "2023-09-24T00:18:24.099Z"
   },
   {
    "duration": 0,
    "start_time": "2023-09-24T00:18:24.100Z"
   },
   {
    "duration": 0,
    "start_time": "2023-09-24T00:18:24.101Z"
   },
   {
    "duration": 0,
    "start_time": "2023-09-24T00:18:24.102Z"
   },
   {
    "duration": 0,
    "start_time": "2023-09-24T00:18:24.103Z"
   },
   {
    "duration": 0,
    "start_time": "2023-09-24T00:18:24.104Z"
   },
   {
    "duration": 0,
    "start_time": "2023-09-24T00:18:24.105Z"
   },
   {
    "duration": 0,
    "start_time": "2023-09-24T00:18:24.106Z"
   },
   {
    "duration": 0,
    "start_time": "2023-09-24T00:18:24.107Z"
   },
   {
    "duration": 0,
    "start_time": "2023-09-24T00:18:24.108Z"
   },
   {
    "duration": 19,
    "start_time": "2023-09-24T00:20:28.226Z"
   },
   {
    "duration": 6,
    "start_time": "2023-09-24T00:20:28.867Z"
   },
   {
    "duration": 12,
    "start_time": "2023-09-24T00:22:45.934Z"
   },
   {
    "duration": 1872,
    "start_time": "2023-09-24T00:24:01.416Z"
   },
   {
    "duration": 402,
    "start_time": "2023-09-24T00:24:03.290Z"
   },
   {
    "duration": 97,
    "start_time": "2023-09-24T00:24:03.693Z"
   },
   {
    "duration": 484,
    "start_time": "2023-09-24T00:24:03.791Z"
   },
   {
    "duration": 17,
    "start_time": "2023-09-24T00:24:04.277Z"
   },
   {
    "duration": 122,
    "start_time": "2023-09-24T00:24:04.295Z"
   },
   {
    "duration": 351,
    "start_time": "2023-09-24T00:24:04.418Z"
   },
   {
    "duration": 261,
    "start_time": "2023-09-24T00:24:04.771Z"
   },
   {
    "duration": 172,
    "start_time": "2023-09-24T00:24:05.037Z"
   },
   {
    "duration": 176,
    "start_time": "2023-09-24T00:24:05.210Z"
   },
   {
    "duration": 132,
    "start_time": "2023-09-24T00:24:05.387Z"
   },
   {
    "duration": 43,
    "start_time": "2023-09-24T00:24:05.522Z"
   },
   {
    "duration": 318,
    "start_time": "2023-09-24T00:24:05.566Z"
   },
   {
    "duration": 4,
    "start_time": "2023-09-24T00:24:05.888Z"
   },
   {
    "duration": 58,
    "start_time": "2023-09-24T00:24:05.894Z"
   },
   {
    "duration": 11,
    "start_time": "2023-09-24T00:24:05.964Z"
   },
   {
    "duration": 9,
    "start_time": "2023-09-24T00:24:05.977Z"
   },
   {
    "duration": 17,
    "start_time": "2023-09-24T00:24:05.988Z"
   },
   {
    "duration": 7,
    "start_time": "2023-09-24T00:24:06.007Z"
   },
   {
    "duration": 17,
    "start_time": "2023-09-24T00:24:06.015Z"
   },
   {
    "duration": 41,
    "start_time": "2023-09-24T00:24:06.033Z"
   },
   {
    "duration": 15,
    "start_time": "2023-09-24T00:24:06.075Z"
   },
   {
    "duration": 6,
    "start_time": "2023-09-24T00:24:06.092Z"
   },
   {
    "duration": 49,
    "start_time": "2023-09-24T00:24:06.100Z"
   },
   {
    "duration": 6,
    "start_time": "2023-09-24T00:24:06.156Z"
   },
   {
    "duration": 15,
    "start_time": "2023-09-24T00:24:06.164Z"
   },
   {
    "duration": 11,
    "start_time": "2023-09-24T00:24:06.180Z"
   },
   {
    "duration": 2616,
    "start_time": "2023-09-24T00:24:06.193Z"
   },
   {
    "duration": 0,
    "start_time": "2023-09-24T00:24:08.812Z"
   },
   {
    "duration": 0,
    "start_time": "2023-09-24T00:24:08.814Z"
   },
   {
    "duration": 0,
    "start_time": "2023-09-24T00:24:08.815Z"
   },
   {
    "duration": 0,
    "start_time": "2023-09-24T00:24:08.816Z"
   },
   {
    "duration": 0,
    "start_time": "2023-09-24T00:24:08.817Z"
   },
   {
    "duration": 0,
    "start_time": "2023-09-24T00:24:08.818Z"
   },
   {
    "duration": 0,
    "start_time": "2023-09-24T00:24:08.819Z"
   },
   {
    "duration": 0,
    "start_time": "2023-09-24T00:24:08.821Z"
   },
   {
    "duration": 0,
    "start_time": "2023-09-24T00:24:08.822Z"
   },
   {
    "duration": 0,
    "start_time": "2023-09-24T00:24:08.823Z"
   },
   {
    "duration": 0,
    "start_time": "2023-09-24T00:24:08.824Z"
   },
   {
    "duration": 0,
    "start_time": "2023-09-24T00:24:08.824Z"
   },
   {
    "duration": 0,
    "start_time": "2023-09-24T00:24:08.825Z"
   },
   {
    "duration": 0,
    "start_time": "2023-09-24T00:24:08.826Z"
   },
   {
    "duration": 0,
    "start_time": "2023-09-24T00:24:08.826Z"
   },
   {
    "duration": 0,
    "start_time": "2023-09-24T00:24:08.832Z"
   },
   {
    "duration": 0,
    "start_time": "2023-09-24T00:24:08.833Z"
   },
   {
    "duration": 0,
    "start_time": "2023-09-24T00:24:08.834Z"
   },
   {
    "duration": 0,
    "start_time": "2023-09-24T00:24:08.835Z"
   },
   {
    "duration": 0,
    "start_time": "2023-09-24T00:24:08.840Z"
   },
   {
    "duration": 0,
    "start_time": "2023-09-24T00:24:08.841Z"
   },
   {
    "duration": 0,
    "start_time": "2023-09-24T00:24:08.842Z"
   },
   {
    "duration": 0,
    "start_time": "2023-09-24T00:24:08.843Z"
   },
   {
    "duration": 1,
    "start_time": "2023-09-24T00:24:08.846Z"
   },
   {
    "duration": 0,
    "start_time": "2023-09-24T00:24:08.848Z"
   },
   {
    "duration": 0,
    "start_time": "2023-09-24T00:24:08.851Z"
   },
   {
    "duration": 0,
    "start_time": "2023-09-24T00:24:08.855Z"
   },
   {
    "duration": 0,
    "start_time": "2023-09-24T00:24:08.856Z"
   },
   {
    "duration": 0,
    "start_time": "2023-09-24T00:24:08.857Z"
   },
   {
    "duration": 0,
    "start_time": "2023-09-24T00:24:08.858Z"
   },
   {
    "duration": 0,
    "start_time": "2023-09-24T00:24:08.859Z"
   },
   {
    "duration": 0,
    "start_time": "2023-09-24T00:24:08.860Z"
   },
   {
    "duration": 0,
    "start_time": "2023-09-24T00:24:08.861Z"
   },
   {
    "duration": 0,
    "start_time": "2023-09-24T00:24:08.862Z"
   },
   {
    "duration": 0,
    "start_time": "2023-09-24T00:24:08.863Z"
   },
   {
    "duration": 0,
    "start_time": "2023-09-24T00:24:08.864Z"
   },
   {
    "duration": 0,
    "start_time": "2023-09-24T00:24:08.865Z"
   },
   {
    "duration": 0,
    "start_time": "2023-09-24T00:24:08.866Z"
   },
   {
    "duration": 0,
    "start_time": "2023-09-24T00:24:08.867Z"
   },
   {
    "duration": 0,
    "start_time": "2023-09-24T00:24:08.868Z"
   },
   {
    "duration": 0,
    "start_time": "2023-09-24T00:24:08.869Z"
   },
   {
    "duration": 0,
    "start_time": "2023-09-24T00:24:08.870Z"
   },
   {
    "duration": 0,
    "start_time": "2023-09-24T00:24:08.872Z"
   },
   {
    "duration": 0,
    "start_time": "2023-09-24T00:24:08.873Z"
   },
   {
    "duration": 0,
    "start_time": "2023-09-24T00:24:08.874Z"
   },
   {
    "duration": 1773,
    "start_time": "2023-09-24T00:24:31.265Z"
   },
   {
    "duration": 430,
    "start_time": "2023-09-24T00:24:33.040Z"
   },
   {
    "duration": 99,
    "start_time": "2023-09-24T00:24:33.473Z"
   },
   {
    "duration": 502,
    "start_time": "2023-09-24T00:24:33.574Z"
   },
   {
    "duration": 17,
    "start_time": "2023-09-24T00:24:34.078Z"
   },
   {
    "duration": 385,
    "start_time": "2023-09-24T00:24:34.097Z"
   },
   {
    "duration": 137,
    "start_time": "2023-09-24T00:24:34.484Z"
   },
   {
    "duration": 159,
    "start_time": "2023-09-24T00:24:34.623Z"
   },
   {
    "duration": 65,
    "start_time": "2023-09-24T00:24:34.783Z"
   },
   {
    "duration": 54,
    "start_time": "2023-09-24T00:24:34.852Z"
   },
   {
    "duration": 108,
    "start_time": "2023-09-24T00:24:34.907Z"
   },
   {
    "duration": 54,
    "start_time": "2023-09-24T00:24:35.017Z"
   },
   {
    "duration": 304,
    "start_time": "2023-09-24T00:24:35.073Z"
   },
   {
    "duration": 3,
    "start_time": "2023-09-24T00:24:35.378Z"
   },
   {
    "duration": 103,
    "start_time": "2023-09-24T00:24:35.382Z"
   },
   {
    "duration": 222,
    "start_time": "2023-09-24T00:24:35.487Z"
   },
   {
    "duration": 49,
    "start_time": "2023-09-24T00:24:35.711Z"
   },
   {
    "duration": 26,
    "start_time": "2023-09-24T00:24:35.764Z"
   },
   {
    "duration": 20,
    "start_time": "2023-09-24T00:24:35.792Z"
   },
   {
    "duration": 58,
    "start_time": "2023-09-24T00:24:35.815Z"
   },
   {
    "duration": 78,
    "start_time": "2023-09-24T00:24:35.876Z"
   },
   {
    "duration": 28,
    "start_time": "2023-09-24T00:24:35.956Z"
   },
   {
    "duration": 54,
    "start_time": "2023-09-24T00:24:35.986Z"
   },
   {
    "duration": 74,
    "start_time": "2023-09-24T00:24:36.041Z"
   },
   {
    "duration": 20,
    "start_time": "2023-09-24T00:24:36.116Z"
   },
   {
    "duration": 34,
    "start_time": "2023-09-24T00:24:36.138Z"
   },
   {
    "duration": 23,
    "start_time": "2023-09-24T00:24:36.174Z"
   },
   {
    "duration": 196,
    "start_time": "2023-09-24T00:24:36.203Z"
   },
   {
    "duration": 242,
    "start_time": "2023-09-24T00:24:36.401Z"
   },
   {
    "duration": 63,
    "start_time": "2023-09-24T00:24:36.650Z"
   },
   {
    "duration": 320,
    "start_time": "2023-09-24T00:24:36.714Z"
   },
   {
    "duration": 1603,
    "start_time": "2023-09-24T00:24:37.035Z"
   },
   {
    "duration": 1826,
    "start_time": "2023-09-24T00:24:38.640Z"
   },
   {
    "duration": 1720,
    "start_time": "2023-09-24T00:24:40.468Z"
   },
   {
    "duration": 727,
    "start_time": "2023-09-24T00:24:42.190Z"
   },
   {
    "duration": 15,
    "start_time": "2023-09-24T00:24:42.918Z"
   },
   {
    "duration": 17,
    "start_time": "2023-09-24T00:24:42.934Z"
   },
   {
    "duration": 18,
    "start_time": "2023-09-24T00:24:42.953Z"
   },
   {
    "duration": 3,
    "start_time": "2023-09-24T00:24:42.976Z"
   },
   {
    "duration": 1532,
    "start_time": "2023-09-24T00:24:42.980Z"
   },
   {
    "duration": 92,
    "start_time": "2023-09-24T00:24:44.514Z"
   },
   {
    "duration": 1700,
    "start_time": "2023-09-24T00:24:44.607Z"
   },
   {
    "duration": 6,
    "start_time": "2023-09-24T00:24:46.309Z"
   },
   {
    "duration": 3060,
    "start_time": "2023-09-24T00:24:46.317Z"
   },
   {
    "duration": 0,
    "start_time": "2023-09-24T00:24:49.379Z"
   },
   {
    "duration": 0,
    "start_time": "2023-09-24T00:24:49.381Z"
   },
   {
    "duration": 0,
    "start_time": "2023-09-24T00:24:49.382Z"
   },
   {
    "duration": 0,
    "start_time": "2023-09-24T00:24:49.383Z"
   },
   {
    "duration": 0,
    "start_time": "2023-09-24T00:24:49.384Z"
   },
   {
    "duration": 0,
    "start_time": "2023-09-24T00:24:49.385Z"
   },
   {
    "duration": 0,
    "start_time": "2023-09-24T00:24:49.387Z"
   },
   {
    "duration": 0,
    "start_time": "2023-09-24T00:24:49.389Z"
   },
   {
    "duration": 0,
    "start_time": "2023-09-24T00:24:49.390Z"
   },
   {
    "duration": 0,
    "start_time": "2023-09-24T00:24:49.391Z"
   },
   {
    "duration": 0,
    "start_time": "2023-09-24T00:24:49.392Z"
   },
   {
    "duration": 0,
    "start_time": "2023-09-24T00:24:49.393Z"
   },
   {
    "duration": 0,
    "start_time": "2023-09-24T00:24:49.394Z"
   },
   {
    "duration": 0,
    "start_time": "2023-09-24T00:24:49.395Z"
   },
   {
    "duration": 0,
    "start_time": "2023-09-24T00:24:49.396Z"
   },
   {
    "duration": 0,
    "start_time": "2023-09-24T00:24:49.397Z"
   },
   {
    "duration": 0,
    "start_time": "2023-09-24T00:24:49.398Z"
   },
   {
    "duration": 0,
    "start_time": "2023-09-24T00:24:49.399Z"
   },
   {
    "duration": 0,
    "start_time": "2023-09-24T00:24:49.400Z"
   },
   {
    "duration": 0,
    "start_time": "2023-09-24T00:24:49.401Z"
   },
   {
    "duration": 0,
    "start_time": "2023-09-24T00:24:49.402Z"
   },
   {
    "duration": 0,
    "start_time": "2023-09-24T00:24:49.403Z"
   },
   {
    "duration": 0,
    "start_time": "2023-09-24T00:24:49.405Z"
   },
   {
    "duration": 0,
    "start_time": "2023-09-24T00:24:49.405Z"
   },
   {
    "duration": 0,
    "start_time": "2023-09-24T00:24:49.406Z"
   },
   {
    "duration": 0,
    "start_time": "2023-09-24T00:24:49.407Z"
   },
   {
    "duration": 0,
    "start_time": "2023-09-24T00:24:49.408Z"
   },
   {
    "duration": 0,
    "start_time": "2023-09-24T00:24:49.409Z"
   },
   {
    "duration": 19,
    "start_time": "2023-09-24T00:26:41.422Z"
   },
   {
    "duration": 1834,
    "start_time": "2023-09-24T00:28:45.222Z"
   },
   {
    "duration": 415,
    "start_time": "2023-09-24T00:28:47.068Z"
   },
   {
    "duration": 98,
    "start_time": "2023-09-24T00:28:47.485Z"
   },
   {
    "duration": 491,
    "start_time": "2023-09-24T00:28:47.584Z"
   },
   {
    "duration": 21,
    "start_time": "2023-09-24T00:28:48.078Z"
   },
   {
    "duration": 70,
    "start_time": "2023-09-24T00:28:48.101Z"
   },
   {
    "duration": 81,
    "start_time": "2023-09-24T00:28:48.173Z"
   },
   {
    "duration": 177,
    "start_time": "2023-09-24T00:28:48.262Z"
   },
   {
    "duration": 61,
    "start_time": "2023-09-24T00:28:48.441Z"
   },
   {
    "duration": 15,
    "start_time": "2023-09-24T00:28:48.504Z"
   },
   {
    "duration": 99,
    "start_time": "2023-09-24T00:28:48.520Z"
   },
   {
    "duration": 55,
    "start_time": "2023-09-24T00:28:48.621Z"
   },
   {
    "duration": 324,
    "start_time": "2023-09-24T00:28:48.678Z"
   },
   {
    "duration": 3,
    "start_time": "2023-09-24T00:28:49.005Z"
   },
   {
    "duration": 45,
    "start_time": "2023-09-24T00:28:49.031Z"
   },
   {
    "duration": 59,
    "start_time": "2023-09-24T00:28:49.078Z"
   },
   {
    "duration": 28,
    "start_time": "2023-09-24T00:28:49.139Z"
   },
   {
    "duration": 31,
    "start_time": "2023-09-24T00:28:49.169Z"
   },
   {
    "duration": 11,
    "start_time": "2023-09-24T00:28:49.202Z"
   },
   {
    "duration": 40,
    "start_time": "2023-09-24T00:28:49.215Z"
   },
   {
    "duration": 32,
    "start_time": "2023-09-24T00:28:49.257Z"
   },
   {
    "duration": 15,
    "start_time": "2023-09-24T00:28:49.291Z"
   },
   {
    "duration": 26,
    "start_time": "2023-09-24T00:28:49.308Z"
   },
   {
    "duration": 34,
    "start_time": "2023-09-24T00:28:49.336Z"
   },
   {
    "duration": 10,
    "start_time": "2023-09-24T00:28:49.372Z"
   },
   {
    "duration": 13,
    "start_time": "2023-09-24T00:28:49.383Z"
   },
   {
    "duration": 24,
    "start_time": "2023-09-24T00:28:49.398Z"
   },
   {
    "duration": 18,
    "start_time": "2023-09-24T00:28:49.426Z"
   },
   {
    "duration": 148,
    "start_time": "2023-09-24T00:28:49.446Z"
   },
   {
    "duration": 244,
    "start_time": "2023-09-24T00:28:49.596Z"
   },
   {
    "duration": 84,
    "start_time": "2023-09-24T00:28:49.842Z"
   },
   {
    "duration": 350,
    "start_time": "2023-09-24T00:28:49.927Z"
   },
   {
    "duration": 1777,
    "start_time": "2023-09-24T00:28:50.280Z"
   },
   {
    "duration": 1734,
    "start_time": "2023-09-24T00:28:52.059Z"
   },
   {
    "duration": 1789,
    "start_time": "2023-09-24T00:28:53.795Z"
   },
   {
    "duration": 745,
    "start_time": "2023-09-24T00:28:55.586Z"
   },
   {
    "duration": 21,
    "start_time": "2023-09-24T00:28:56.344Z"
   },
   {
    "duration": 31,
    "start_time": "2023-09-24T00:28:56.372Z"
   },
   {
    "duration": 61,
    "start_time": "2023-09-24T00:28:56.405Z"
   },
   {
    "duration": 6,
    "start_time": "2023-09-24T00:28:56.470Z"
   },
   {
    "duration": 1576,
    "start_time": "2023-09-24T00:28:56.482Z"
   },
   {
    "duration": 83,
    "start_time": "2023-09-24T00:28:58.065Z"
   },
   {
    "duration": 1564,
    "start_time": "2023-09-24T00:28:58.150Z"
   },
   {
    "duration": 22,
    "start_time": "2023-09-24T00:28:59.715Z"
   },
   {
    "duration": 13,
    "start_time": "2023-09-24T00:28:59.739Z"
   },
   {
    "duration": 17,
    "start_time": "2023-09-24T00:28:59.754Z"
   },
   {
    "duration": 174,
    "start_time": "2023-09-24T00:28:59.773Z"
   },
   {
    "duration": 0,
    "start_time": "2023-09-24T00:28:59.951Z"
   },
   {
    "duration": 0,
    "start_time": "2023-09-24T00:28:59.952Z"
   },
   {
    "duration": 0,
    "start_time": "2023-09-24T00:28:59.953Z"
   },
   {
    "duration": 0,
    "start_time": "2023-09-24T00:28:59.953Z"
   },
   {
    "duration": 0,
    "start_time": "2023-09-24T00:28:59.954Z"
   },
   {
    "duration": 0,
    "start_time": "2023-09-24T00:28:59.956Z"
   },
   {
    "duration": 0,
    "start_time": "2023-09-24T00:28:59.960Z"
   },
   {
    "duration": 1,
    "start_time": "2023-09-24T00:28:59.963Z"
   },
   {
    "duration": 0,
    "start_time": "2023-09-24T00:28:59.965Z"
   },
   {
    "duration": 0,
    "start_time": "2023-09-24T00:28:59.966Z"
   },
   {
    "duration": 0,
    "start_time": "2023-09-24T00:28:59.968Z"
   },
   {
    "duration": 0,
    "start_time": "2023-09-24T00:28:59.969Z"
   },
   {
    "duration": 0,
    "start_time": "2023-09-24T00:28:59.971Z"
   },
   {
    "duration": 0,
    "start_time": "2023-09-24T00:28:59.972Z"
   },
   {
    "duration": 0,
    "start_time": "2023-09-24T00:28:59.973Z"
   },
   {
    "duration": 0,
    "start_time": "2023-09-24T00:28:59.974Z"
   },
   {
    "duration": 0,
    "start_time": "2023-09-24T00:28:59.975Z"
   },
   {
    "duration": 0,
    "start_time": "2023-09-24T00:28:59.976Z"
   },
   {
    "duration": 0,
    "start_time": "2023-09-24T00:28:59.977Z"
   },
   {
    "duration": 0,
    "start_time": "2023-09-24T00:28:59.978Z"
   },
   {
    "duration": 7,
    "start_time": "2023-09-24T00:29:57.515Z"
   },
   {
    "duration": 6,
    "start_time": "2023-09-24T00:29:59.754Z"
   },
   {
    "duration": 3,
    "start_time": "2023-09-24T00:30:01.366Z"
   },
   {
    "duration": 38,
    "start_time": "2023-09-24T00:30:04.153Z"
   },
   {
    "duration": 1804,
    "start_time": "2023-09-24T00:30:24.453Z"
   },
   {
    "duration": 427,
    "start_time": "2023-09-24T00:30:26.263Z"
   },
   {
    "duration": 100,
    "start_time": "2023-09-24T00:30:26.691Z"
   },
   {
    "duration": 514,
    "start_time": "2023-09-24T00:30:26.793Z"
   },
   {
    "duration": 25,
    "start_time": "2023-09-24T00:30:27.309Z"
   },
   {
    "duration": 27,
    "start_time": "2023-09-24T00:30:27.338Z"
   },
   {
    "duration": 20,
    "start_time": "2023-09-24T00:30:27.367Z"
   },
   {
    "duration": 100,
    "start_time": "2023-09-24T00:30:27.389Z"
   },
   {
    "duration": 58,
    "start_time": "2023-09-24T00:30:27.491Z"
   },
   {
    "duration": 27,
    "start_time": "2023-09-24T00:30:27.551Z"
   },
   {
    "duration": 76,
    "start_time": "2023-09-24T00:30:27.580Z"
   },
   {
    "duration": 36,
    "start_time": "2023-09-24T00:30:27.658Z"
   },
   {
    "duration": 320,
    "start_time": "2023-09-24T00:30:27.695Z"
   },
   {
    "duration": 13,
    "start_time": "2023-09-24T00:30:28.020Z"
   },
   {
    "duration": 34,
    "start_time": "2023-09-24T00:30:28.037Z"
   },
   {
    "duration": 4,
    "start_time": "2023-09-24T00:30:28.077Z"
   },
   {
    "duration": 9,
    "start_time": "2023-09-24T00:30:28.083Z"
   },
   {
    "duration": 25,
    "start_time": "2023-09-24T00:30:28.093Z"
   },
   {
    "duration": 7,
    "start_time": "2023-09-24T00:30:28.120Z"
   },
   {
    "duration": 11,
    "start_time": "2023-09-24T00:30:28.133Z"
   },
   {
    "duration": 36,
    "start_time": "2023-09-24T00:30:28.146Z"
   },
   {
    "duration": 15,
    "start_time": "2023-09-24T00:30:28.183Z"
   },
   {
    "duration": 6,
    "start_time": "2023-09-24T00:30:28.200Z"
   },
   {
    "duration": 55,
    "start_time": "2023-09-24T00:30:28.207Z"
   },
   {
    "duration": 27,
    "start_time": "2023-09-24T00:30:28.267Z"
   },
   {
    "duration": 42,
    "start_time": "2023-09-24T00:30:28.296Z"
   },
   {
    "duration": 13,
    "start_time": "2023-09-24T00:30:28.345Z"
   },
   {
    "duration": 22,
    "start_time": "2023-09-24T00:30:28.360Z"
   },
   {
    "duration": 194,
    "start_time": "2023-09-24T00:30:28.383Z"
   },
   {
    "duration": 274,
    "start_time": "2023-09-24T00:30:28.578Z"
   },
   {
    "duration": 79,
    "start_time": "2023-09-24T00:30:28.854Z"
   },
   {
    "duration": 258,
    "start_time": "2023-09-24T00:30:28.935Z"
   },
   {
    "duration": 1667,
    "start_time": "2023-09-24T00:30:29.195Z"
   },
   {
    "duration": 1874,
    "start_time": "2023-09-24T00:30:30.877Z"
   },
   {
    "duration": 1594,
    "start_time": "2023-09-24T00:30:32.760Z"
   },
   {
    "duration": 717,
    "start_time": "2023-09-24T00:30:34.356Z"
   },
   {
    "duration": 7,
    "start_time": "2023-09-24T00:30:35.074Z"
   },
   {
    "duration": 309,
    "start_time": "2023-09-24T00:30:35.083Z"
   },
   {
    "duration": 226,
    "start_time": "2023-09-24T00:30:35.394Z"
   },
   {
    "duration": 213,
    "start_time": "2023-09-24T00:30:35.622Z"
   },
   {
    "duration": 1743,
    "start_time": "2023-09-24T00:30:35.840Z"
   },
   {
    "duration": 106,
    "start_time": "2023-09-24T00:30:37.585Z"
   },
   {
    "duration": 1624,
    "start_time": "2023-09-24T00:30:37.692Z"
   },
   {
    "duration": 18,
    "start_time": "2023-09-24T00:30:39.317Z"
   },
   {
    "duration": 23,
    "start_time": "2023-09-24T00:30:39.336Z"
   },
   {
    "duration": 23,
    "start_time": "2023-09-24T00:30:39.361Z"
   },
   {
    "duration": 17,
    "start_time": "2023-09-24T00:30:39.385Z"
   },
   {
    "duration": 14,
    "start_time": "2023-09-24T00:30:39.403Z"
   },
   {
    "duration": 12,
    "start_time": "2023-09-24T00:30:39.419Z"
   },
   {
    "duration": 239,
    "start_time": "2023-09-24T00:30:39.434Z"
   },
   {
    "duration": 0,
    "start_time": "2023-09-24T00:30:39.676Z"
   },
   {
    "duration": 0,
    "start_time": "2023-09-24T00:30:39.677Z"
   },
   {
    "duration": 0,
    "start_time": "2023-09-24T00:30:39.678Z"
   },
   {
    "duration": 0,
    "start_time": "2023-09-24T00:30:39.679Z"
   },
   {
    "duration": 0,
    "start_time": "2023-09-24T00:30:39.680Z"
   },
   {
    "duration": 0,
    "start_time": "2023-09-24T00:30:39.681Z"
   },
   {
    "duration": 0,
    "start_time": "2023-09-24T00:30:39.683Z"
   },
   {
    "duration": 0,
    "start_time": "2023-09-24T00:30:39.684Z"
   },
   {
    "duration": 0,
    "start_time": "2023-09-24T00:30:39.686Z"
   },
   {
    "duration": 0,
    "start_time": "2023-09-24T00:30:39.687Z"
   },
   {
    "duration": 0,
    "start_time": "2023-09-24T00:30:39.689Z"
   },
   {
    "duration": 0,
    "start_time": "2023-09-24T00:30:39.690Z"
   },
   {
    "duration": 0,
    "start_time": "2023-09-24T00:30:39.692Z"
   },
   {
    "duration": 0,
    "start_time": "2023-09-24T00:30:39.693Z"
   },
   {
    "duration": 0,
    "start_time": "2023-09-24T00:30:39.695Z"
   },
   {
    "duration": 0,
    "start_time": "2023-09-24T00:30:39.696Z"
   },
   {
    "duration": 0,
    "start_time": "2023-09-24T00:30:39.727Z"
   },
   {
    "duration": 9,
    "start_time": "2023-09-24T00:34:11.104Z"
   },
   {
    "duration": 10,
    "start_time": "2023-09-24T00:34:21.758Z"
   },
   {
    "duration": 23,
    "start_time": "2023-09-24T00:35:49.933Z"
   },
   {
    "duration": 5,
    "start_time": "2023-09-24T00:37:13.368Z"
   },
   {
    "duration": 218,
    "start_time": "2023-09-24T00:37:14.070Z"
   },
   {
    "duration": 174,
    "start_time": "2023-09-24T00:37:20.288Z"
   },
   {
    "duration": 543,
    "start_time": "2023-09-24T00:37:23.055Z"
   },
   {
    "duration": 136,
    "start_time": "2023-09-24T00:41:59.574Z"
   },
   {
    "duration": 27,
    "start_time": "2023-09-24T00:42:08.117Z"
   },
   {
    "duration": 4,
    "start_time": "2023-09-24T00:42:09.768Z"
   },
   {
    "duration": 211,
    "start_time": "2023-09-24T00:42:11.011Z"
   },
   {
    "duration": 7,
    "start_time": "2023-09-24T00:42:59.503Z"
   },
   {
    "duration": 156,
    "start_time": "2023-09-24T00:43:06.066Z"
   },
   {
    "duration": 5,
    "start_time": "2023-09-24T00:43:42.483Z"
   },
   {
    "duration": 451,
    "start_time": "2023-09-24T00:43:42.867Z"
   },
   {
    "duration": 155,
    "start_time": "2023-09-24T00:43:51.051Z"
   },
   {
    "duration": 3,
    "start_time": "2023-09-24T00:45:19.203Z"
   },
   {
    "duration": 3,
    "start_time": "2023-09-24T00:45:19.815Z"
   },
   {
    "duration": 3,
    "start_time": "2023-09-24T00:45:20.405Z"
   },
   {
    "duration": 4,
    "start_time": "2023-09-24T00:45:21.909Z"
   },
   {
    "duration": 19,
    "start_time": "2023-09-24T00:45:22.662Z"
   },
   {
    "duration": 593,
    "start_time": "2023-09-24T00:45:23.786Z"
   },
   {
    "duration": 760,
    "start_time": "2023-09-24T00:46:13.626Z"
   },
   {
    "duration": 26,
    "start_time": "2023-09-24T00:47:04.247Z"
   },
   {
    "duration": 839,
    "start_time": "2023-09-24T00:47:05.691Z"
   },
   {
    "duration": 6322,
    "start_time": "2023-09-24T00:47:39.933Z"
   },
   {
    "duration": 7740,
    "start_time": "2023-09-24T00:48:00.439Z"
   },
   {
    "duration": 5,
    "start_time": "2023-09-24T00:48:08.183Z"
   },
   {
    "duration": 627,
    "start_time": "2023-09-24T00:49:15.094Z"
   },
   {
    "duration": 108,
    "start_time": "2023-09-24T00:52:11.570Z"
   },
   {
    "duration": 50,
    "start_time": "2023-09-24T00:52:28.173Z"
   },
   {
    "duration": 27,
    "start_time": "2023-09-24T00:53:59.312Z"
   },
   {
    "duration": 3,
    "start_time": "2023-09-24T00:56:15.357Z"
   },
   {
    "duration": 21,
    "start_time": "2023-09-24T00:56:16.266Z"
   },
   {
    "duration": 14,
    "start_time": "2023-09-24T00:56:33.581Z"
   },
   {
    "duration": 15,
    "start_time": "2023-09-24T00:56:41.585Z"
   },
   {
    "duration": 8,
    "start_time": "2023-09-24T00:56:45.200Z"
   },
   {
    "duration": 3,
    "start_time": "2023-09-24T00:56:46.576Z"
   },
   {
    "duration": 3,
    "start_time": "2023-09-24T00:56:47.682Z"
   },
   {
    "duration": 134,
    "start_time": "2023-09-24T00:56:49.080Z"
   },
   {
    "duration": 88,
    "start_time": "2023-09-24T00:57:51.478Z"
   },
   {
    "duration": 1852,
    "start_time": "2023-09-24T01:00:02.553Z"
   },
   {
    "duration": 406,
    "start_time": "2023-09-24T01:00:04.407Z"
   },
   {
    "duration": 142,
    "start_time": "2023-09-24T01:00:04.815Z"
   },
   {
    "duration": 495,
    "start_time": "2023-09-24T01:00:04.959Z"
   },
   {
    "duration": 19,
    "start_time": "2023-09-24T01:00:05.463Z"
   },
   {
    "duration": 12,
    "start_time": "2023-09-24T01:00:05.484Z"
   },
   {
    "duration": 61,
    "start_time": "2023-09-24T01:00:05.498Z"
   },
   {
    "duration": 63,
    "start_time": "2023-09-24T01:00:05.562Z"
   },
   {
    "duration": 50,
    "start_time": "2023-09-24T01:00:05.633Z"
   },
   {
    "duration": 27,
    "start_time": "2023-09-24T01:00:05.685Z"
   },
   {
    "duration": 143,
    "start_time": "2023-09-24T01:00:05.715Z"
   },
   {
    "duration": 42,
    "start_time": "2023-09-24T01:00:05.860Z"
   },
   {
    "duration": 308,
    "start_time": "2023-09-24T01:00:05.904Z"
   },
   {
    "duration": 15,
    "start_time": "2023-09-24T01:00:06.214Z"
   },
   {
    "duration": 34,
    "start_time": "2023-09-24T01:00:06.237Z"
   },
   {
    "duration": 4,
    "start_time": "2023-09-24T01:00:06.273Z"
   },
   {
    "duration": 17,
    "start_time": "2023-09-24T01:00:06.279Z"
   },
   {
    "duration": 39,
    "start_time": "2023-09-24T01:00:06.298Z"
   },
   {
    "duration": 23,
    "start_time": "2023-09-24T01:00:06.338Z"
   },
   {
    "duration": 13,
    "start_time": "2023-09-24T01:00:06.363Z"
   },
   {
    "duration": 56,
    "start_time": "2023-09-24T01:00:06.378Z"
   },
   {
    "duration": 32,
    "start_time": "2023-09-24T01:00:06.446Z"
   },
   {
    "duration": 15,
    "start_time": "2023-09-24T01:00:06.480Z"
   },
   {
    "duration": 46,
    "start_time": "2023-09-24T01:00:06.497Z"
   },
   {
    "duration": 35,
    "start_time": "2023-09-24T01:00:06.545Z"
   },
   {
    "duration": 5,
    "start_time": "2023-09-24T01:00:06.582Z"
   },
   {
    "duration": 33,
    "start_time": "2023-09-24T01:00:06.589Z"
   },
   {
    "duration": 12,
    "start_time": "2023-09-24T01:00:06.631Z"
   },
   {
    "duration": 142,
    "start_time": "2023-09-24T01:00:06.645Z"
   },
   {
    "duration": 252,
    "start_time": "2023-09-24T01:00:06.789Z"
   },
   {
    "duration": 60,
    "start_time": "2023-09-24T01:00:07.042Z"
   },
   {
    "duration": 246,
    "start_time": "2023-09-24T01:00:07.104Z"
   },
   {
    "duration": 1627,
    "start_time": "2023-09-24T01:00:07.355Z"
   },
   {
    "duration": 1858,
    "start_time": "2023-09-24T01:00:08.985Z"
   },
   {
    "duration": 1669,
    "start_time": "2023-09-24T01:00:10.846Z"
   },
   {
    "duration": 716,
    "start_time": "2023-09-24T01:00:12.524Z"
   },
   {
    "duration": 9,
    "start_time": "2023-09-24T01:00:13.242Z"
   },
   {
    "duration": 47,
    "start_time": "2023-09-24T01:00:13.253Z"
   },
   {
    "duration": 57,
    "start_time": "2023-09-24T01:00:13.302Z"
   },
   {
    "duration": 34,
    "start_time": "2023-09-24T01:00:13.361Z"
   },
   {
    "duration": 1888,
    "start_time": "2023-09-24T01:00:13.400Z"
   },
   {
    "duration": 106,
    "start_time": "2023-09-24T01:00:15.290Z"
   },
   {
    "duration": 1704,
    "start_time": "2023-09-24T01:00:15.398Z"
   },
   {
    "duration": 7,
    "start_time": "2023-09-24T01:00:17.105Z"
   },
   {
    "duration": 25,
    "start_time": "2023-09-24T01:00:17.142Z"
   },
   {
    "duration": 37,
    "start_time": "2023-09-24T01:00:17.169Z"
   },
   {
    "duration": 51,
    "start_time": "2023-09-24T01:00:17.207Z"
   },
   {
    "duration": 158,
    "start_time": "2023-09-24T01:00:17.260Z"
   },
   {
    "duration": 0,
    "start_time": "2023-09-24T01:00:17.420Z"
   },
   {
    "duration": 0,
    "start_time": "2023-09-24T01:00:17.422Z"
   },
   {
    "duration": 0,
    "start_time": "2023-09-24T01:00:17.423Z"
   },
   {
    "duration": 0,
    "start_time": "2023-09-24T01:00:17.424Z"
   },
   {
    "duration": 0,
    "start_time": "2023-09-24T01:00:17.425Z"
   },
   {
    "duration": 0,
    "start_time": "2023-09-24T01:00:17.426Z"
   },
   {
    "duration": 0,
    "start_time": "2023-09-24T01:00:17.427Z"
   },
   {
    "duration": 0,
    "start_time": "2023-09-24T01:00:17.427Z"
   },
   {
    "duration": 0,
    "start_time": "2023-09-24T01:00:17.432Z"
   },
   {
    "duration": 0,
    "start_time": "2023-09-24T01:00:17.434Z"
   },
   {
    "duration": 0,
    "start_time": "2023-09-24T01:00:17.435Z"
   },
   {
    "duration": 2061,
    "start_time": "2023-09-24T01:00:29.716Z"
   },
   {
    "duration": 403,
    "start_time": "2023-09-24T01:00:31.780Z"
   },
   {
    "duration": 134,
    "start_time": "2023-09-24T01:00:32.185Z"
   },
   {
    "duration": 507,
    "start_time": "2023-09-24T01:00:32.321Z"
   },
   {
    "duration": 32,
    "start_time": "2023-09-24T01:00:32.830Z"
   },
   {
    "duration": 34,
    "start_time": "2023-09-24T01:00:32.866Z"
   },
   {
    "duration": 68,
    "start_time": "2023-09-24T01:00:32.902Z"
   },
   {
    "duration": 92,
    "start_time": "2023-09-24T01:00:32.972Z"
   },
   {
    "duration": 41,
    "start_time": "2023-09-24T01:00:33.066Z"
   },
   {
    "duration": 40,
    "start_time": "2023-09-24T01:00:33.109Z"
   },
   {
    "duration": 67,
    "start_time": "2023-09-24T01:00:33.153Z"
   },
   {
    "duration": 50,
    "start_time": "2023-09-24T01:00:33.224Z"
   },
   {
    "duration": 289,
    "start_time": "2023-09-24T01:00:33.275Z"
   },
   {
    "duration": 3,
    "start_time": "2023-09-24T01:00:33.568Z"
   },
   {
    "duration": 69,
    "start_time": "2023-09-24T01:00:33.573Z"
   },
   {
    "duration": 10,
    "start_time": "2023-09-24T01:00:33.644Z"
   },
   {
    "duration": 21,
    "start_time": "2023-09-24T01:00:33.656Z"
   },
   {
    "duration": 32,
    "start_time": "2023-09-24T01:00:33.679Z"
   },
   {
    "duration": 43,
    "start_time": "2023-09-24T01:00:33.713Z"
   },
   {
    "duration": 22,
    "start_time": "2023-09-24T01:00:33.758Z"
   },
   {
    "duration": 67,
    "start_time": "2023-09-24T01:00:33.783Z"
   },
   {
    "duration": 20,
    "start_time": "2023-09-24T01:00:33.852Z"
   },
   {
    "duration": 31,
    "start_time": "2023-09-24T01:00:33.874Z"
   },
   {
    "duration": 55,
    "start_time": "2023-09-24T01:00:33.907Z"
   },
   {
    "duration": 13,
    "start_time": "2023-09-24T01:00:33.965Z"
   },
   {
    "duration": 17,
    "start_time": "2023-09-24T01:00:33.980Z"
   },
   {
    "duration": 42,
    "start_time": "2023-09-24T01:00:33.999Z"
   },
   {
    "duration": 11,
    "start_time": "2023-09-24T01:00:34.052Z"
   },
   {
    "duration": 205,
    "start_time": "2023-09-24T01:00:34.065Z"
   },
   {
    "duration": 224,
    "start_time": "2023-09-24T01:00:34.271Z"
   },
   {
    "duration": 81,
    "start_time": "2023-09-24T01:00:34.497Z"
   },
   {
    "duration": 235,
    "start_time": "2023-09-24T01:00:34.579Z"
   },
   {
    "duration": 1674,
    "start_time": "2023-09-24T01:00:34.828Z"
   },
   {
    "duration": 1787,
    "start_time": "2023-09-24T01:00:36.504Z"
   },
   {
    "duration": 1715,
    "start_time": "2023-09-24T01:00:38.293Z"
   },
   {
    "duration": 739,
    "start_time": "2023-09-24T01:00:40.010Z"
   },
   {
    "duration": 7,
    "start_time": "2023-09-24T01:00:40.755Z"
   },
   {
    "duration": 40,
    "start_time": "2023-09-24T01:00:40.765Z"
   },
   {
    "duration": 32,
    "start_time": "2023-09-24T01:00:40.806Z"
   },
   {
    "duration": 30,
    "start_time": "2023-09-24T01:00:40.844Z"
   },
   {
    "duration": 1463,
    "start_time": "2023-09-24T01:00:40.880Z"
   },
   {
    "duration": 87,
    "start_time": "2023-09-24T01:00:42.351Z"
   },
   {
    "duration": 1649,
    "start_time": "2023-09-24T01:00:42.444Z"
   },
   {
    "duration": 6,
    "start_time": "2023-09-24T01:00:44.095Z"
   },
   {
    "duration": 55,
    "start_time": "2023-09-24T01:00:44.103Z"
   },
   {
    "duration": 29,
    "start_time": "2023-09-24T01:00:44.160Z"
   },
   {
    "duration": 61,
    "start_time": "2023-09-24T01:00:44.191Z"
   },
   {
    "duration": 47,
    "start_time": "2023-09-24T01:00:44.254Z"
   },
   {
    "duration": 5085,
    "start_time": "2023-09-24T01:00:44.303Z"
   },
   {
    "duration": 18,
    "start_time": "2023-09-24T01:00:49.390Z"
   },
   {
    "duration": 0,
    "start_time": "2023-09-24T01:00:49.410Z"
   },
   {
    "duration": 0,
    "start_time": "2023-09-24T01:00:49.412Z"
   },
   {
    "duration": 0,
    "start_time": "2023-09-24T01:00:49.414Z"
   },
   {
    "duration": 0,
    "start_time": "2023-09-24T01:00:49.415Z"
   },
   {
    "duration": 0,
    "start_time": "2023-09-24T01:00:49.417Z"
   },
   {
    "duration": 0,
    "start_time": "2023-09-24T01:00:49.419Z"
   },
   {
    "duration": 0,
    "start_time": "2023-09-24T01:00:49.420Z"
   },
   {
    "duration": 0,
    "start_time": "2023-09-24T01:00:49.422Z"
   },
   {
    "duration": 3,
    "start_time": "2023-09-24T01:01:08.310Z"
   },
   {
    "duration": 6396,
    "start_time": "2023-09-24T01:01:11.056Z"
   },
   {
    "duration": 1689,
    "start_time": "2023-09-24T01:02:46.459Z"
   },
   {
    "duration": 384,
    "start_time": "2023-09-24T01:02:48.152Z"
   },
   {
    "duration": 92,
    "start_time": "2023-09-24T01:02:48.546Z"
   },
   {
    "duration": 503,
    "start_time": "2023-09-24T01:02:48.645Z"
   },
   {
    "duration": 29,
    "start_time": "2023-09-24T01:02:49.155Z"
   },
   {
    "duration": 19,
    "start_time": "2023-09-24T01:02:49.186Z"
   },
   {
    "duration": 47,
    "start_time": "2023-09-24T01:02:49.208Z"
   },
   {
    "duration": 68,
    "start_time": "2023-09-24T01:02:49.260Z"
   },
   {
    "duration": 47,
    "start_time": "2023-09-24T01:02:49.330Z"
   },
   {
    "duration": 40,
    "start_time": "2023-09-24T01:02:49.379Z"
   },
   {
    "duration": 178,
    "start_time": "2023-09-24T01:02:49.420Z"
   },
   {
    "duration": 39,
    "start_time": "2023-09-24T01:02:49.600Z"
   },
   {
    "duration": 325,
    "start_time": "2023-09-24T01:02:49.641Z"
   },
   {
    "duration": 3,
    "start_time": "2023-09-24T01:02:49.970Z"
   },
   {
    "duration": 87,
    "start_time": "2023-09-24T01:02:49.974Z"
   },
   {
    "duration": 21,
    "start_time": "2023-09-24T01:02:50.064Z"
   },
   {
    "duration": 57,
    "start_time": "2023-09-24T01:02:50.087Z"
   },
   {
    "duration": 19,
    "start_time": "2023-09-24T01:02:50.149Z"
   },
   {
    "duration": 7,
    "start_time": "2023-09-24T01:02:50.170Z"
   },
   {
    "duration": 34,
    "start_time": "2023-09-24T01:02:50.178Z"
   },
   {
    "duration": 44,
    "start_time": "2023-09-24T01:02:50.214Z"
   },
   {
    "duration": 19,
    "start_time": "2023-09-24T01:02:50.259Z"
   },
   {
    "duration": 9,
    "start_time": "2023-09-24T01:02:50.280Z"
   },
   {
    "duration": 40,
    "start_time": "2023-09-24T01:02:50.291Z"
   },
   {
    "duration": 20,
    "start_time": "2023-09-24T01:02:50.334Z"
   },
   {
    "duration": 24,
    "start_time": "2023-09-24T01:02:50.355Z"
   },
   {
    "duration": 12,
    "start_time": "2023-09-24T01:02:50.381Z"
   },
   {
    "duration": 25,
    "start_time": "2023-09-24T01:02:50.394Z"
   },
   {
    "duration": 200,
    "start_time": "2023-09-24T01:02:50.421Z"
   },
   {
    "duration": 275,
    "start_time": "2023-09-24T01:02:50.622Z"
   },
   {
    "duration": 85,
    "start_time": "2023-09-24T01:02:50.899Z"
   },
   {
    "duration": 231,
    "start_time": "2023-09-24T01:02:50.986Z"
   },
   {
    "duration": 1676,
    "start_time": "2023-09-24T01:02:51.218Z"
   },
   {
    "duration": 1798,
    "start_time": "2023-09-24T01:02:52.896Z"
   },
   {
    "duration": 1696,
    "start_time": "2023-09-24T01:02:54.696Z"
   },
   {
    "duration": 754,
    "start_time": "2023-09-24T01:02:56.394Z"
   },
   {
    "duration": 15,
    "start_time": "2023-09-24T01:02:57.150Z"
   },
   {
    "duration": 9,
    "start_time": "2023-09-24T01:02:57.167Z"
   },
   {
    "duration": 5,
    "start_time": "2023-09-24T01:02:57.178Z"
   },
   {
    "duration": 3,
    "start_time": "2023-09-24T01:02:57.186Z"
   },
   {
    "duration": 1501,
    "start_time": "2023-09-24T01:02:57.194Z"
   },
   {
    "duration": 99,
    "start_time": "2023-09-24T01:02:58.697Z"
   },
   {
    "duration": 1544,
    "start_time": "2023-09-24T01:02:58.798Z"
   },
   {
    "duration": 6,
    "start_time": "2023-09-24T01:03:00.346Z"
   },
   {
    "duration": 78,
    "start_time": "2023-09-24T01:03:00.354Z"
   },
   {
    "duration": 46,
    "start_time": "2023-09-24T01:03:00.438Z"
   },
   {
    "duration": 56,
    "start_time": "2023-09-24T01:03:00.486Z"
   },
   {
    "duration": 72,
    "start_time": "2023-09-24T01:03:00.550Z"
   },
   {
    "duration": 37,
    "start_time": "2023-09-24T01:03:00.624Z"
   },
   {
    "duration": 7371,
    "start_time": "2023-09-24T01:03:00.663Z"
   },
   {
    "duration": 30524,
    "start_time": "2023-09-24T01:03:08.036Z"
   },
   {
    "duration": 1694,
    "start_time": "2023-09-24T01:15:28.801Z"
   },
   {
    "duration": 420,
    "start_time": "2023-09-24T01:15:30.497Z"
   },
   {
    "duration": 95,
    "start_time": "2023-09-24T01:15:30.919Z"
   },
   {
    "duration": 502,
    "start_time": "2023-09-24T01:15:31.017Z"
   },
   {
    "duration": 35,
    "start_time": "2023-09-24T01:15:31.520Z"
   },
   {
    "duration": 22,
    "start_time": "2023-09-24T01:15:31.557Z"
   },
   {
    "duration": 36,
    "start_time": "2023-09-24T01:15:31.581Z"
   },
   {
    "duration": 189,
    "start_time": "2023-09-24T01:15:31.619Z"
   },
   {
    "duration": 49,
    "start_time": "2023-09-24T01:15:31.810Z"
   },
   {
    "duration": 32,
    "start_time": "2023-09-24T01:15:31.861Z"
   },
   {
    "duration": 89,
    "start_time": "2023-09-24T01:15:31.895Z"
   },
   {
    "duration": 55,
    "start_time": "2023-09-24T01:15:31.986Z"
   },
   {
    "duration": 293,
    "start_time": "2023-09-24T01:15:32.049Z"
   },
   {
    "duration": 6,
    "start_time": "2023-09-24T01:15:32.350Z"
   },
   {
    "duration": 118,
    "start_time": "2023-09-24T01:15:32.358Z"
   },
   {
    "duration": 13,
    "start_time": "2023-09-24T01:15:32.477Z"
   },
   {
    "duration": 48,
    "start_time": "2023-09-24T01:15:32.493Z"
   },
   {
    "duration": 43,
    "start_time": "2023-09-24T01:15:32.543Z"
   },
   {
    "duration": 28,
    "start_time": "2023-09-24T01:15:32.588Z"
   },
   {
    "duration": 105,
    "start_time": "2023-09-24T01:15:32.618Z"
   },
   {
    "duration": 42,
    "start_time": "2023-09-24T01:15:32.725Z"
   },
   {
    "duration": 16,
    "start_time": "2023-09-24T01:15:32.768Z"
   },
   {
    "duration": 7,
    "start_time": "2023-09-24T01:15:32.786Z"
   },
   {
    "duration": 36,
    "start_time": "2023-09-24T01:15:32.795Z"
   },
   {
    "duration": 19,
    "start_time": "2023-09-24T01:15:32.833Z"
   },
   {
    "duration": 7,
    "start_time": "2023-09-24T01:15:32.856Z"
   },
   {
    "duration": 9,
    "start_time": "2023-09-24T01:15:32.865Z"
   },
   {
    "duration": 12,
    "start_time": "2023-09-24T01:15:32.880Z"
   },
   {
    "duration": 167,
    "start_time": "2023-09-24T01:15:32.894Z"
   },
   {
    "duration": 234,
    "start_time": "2023-09-24T01:15:33.063Z"
   },
   {
    "duration": 78,
    "start_time": "2023-09-24T01:15:33.298Z"
   },
   {
    "duration": 223,
    "start_time": "2023-09-24T01:15:33.378Z"
   },
   {
    "duration": 1420,
    "start_time": "2023-09-24T01:15:33.602Z"
   },
   {
    "duration": 1697,
    "start_time": "2023-09-24T01:15:35.024Z"
   },
   {
    "duration": 1674,
    "start_time": "2023-09-24T01:15:36.724Z"
   },
   {
    "duration": 709,
    "start_time": "2023-09-24T01:15:38.399Z"
   },
   {
    "duration": 19,
    "start_time": "2023-09-24T01:15:39.110Z"
   },
   {
    "duration": 7,
    "start_time": "2023-09-24T01:15:39.131Z"
   },
   {
    "duration": 18,
    "start_time": "2023-09-24T01:15:39.139Z"
   },
   {
    "duration": 5,
    "start_time": "2023-09-24T01:15:39.158Z"
   },
   {
    "duration": 1504,
    "start_time": "2023-09-24T01:15:39.165Z"
   },
   {
    "duration": 95,
    "start_time": "2023-09-24T01:15:40.671Z"
   },
   {
    "duration": 1626,
    "start_time": "2023-09-24T01:15:40.768Z"
   },
   {
    "duration": 4,
    "start_time": "2023-09-24T01:15:42.396Z"
   },
   {
    "duration": 8,
    "start_time": "2023-09-24T01:15:42.402Z"
   },
   {
    "duration": 18,
    "start_time": "2023-09-24T01:15:42.411Z"
   },
   {
    "duration": 8,
    "start_time": "2023-09-24T01:15:42.440Z"
   },
   {
    "duration": 20,
    "start_time": "2023-09-24T01:15:42.449Z"
   },
   {
    "duration": 3,
    "start_time": "2023-09-24T01:15:42.471Z"
   },
   {
    "duration": 6888,
    "start_time": "2023-09-24T01:15:42.475Z"
   },
   {
    "duration": 28033,
    "start_time": "2023-09-24T01:15:49.436Z"
   },
   {
    "duration": 280225,
    "start_time": "2023-09-24T01:16:17.470Z"
   },
   {
    "duration": 13,
    "start_time": "2023-09-24T01:20:57.702Z"
   },
   {
    "duration": 0,
    "start_time": "2023-09-24T01:20:57.717Z"
   },
   {
    "duration": 0,
    "start_time": "2023-09-24T01:20:57.719Z"
   },
   {
    "duration": 0,
    "start_time": "2023-09-24T01:20:57.720Z"
   },
   {
    "duration": 0,
    "start_time": "2023-09-24T01:20:57.722Z"
   },
   {
    "duration": 5,
    "start_time": "2023-09-24T01:21:02.104Z"
   },
   {
    "duration": 10,
    "start_time": "2023-09-24T01:21:11.796Z"
   },
   {
    "duration": 9,
    "start_time": "2023-09-24T01:21:31.380Z"
   },
   {
    "duration": 14462,
    "start_time": "2023-09-24T01:21:31.391Z"
   },
   {
    "duration": 1614,
    "start_time": "2023-09-24T01:24:42.866Z"
   },
   {
    "duration": 383,
    "start_time": "2023-09-24T01:24:44.482Z"
   },
   {
    "duration": 96,
    "start_time": "2023-09-24T01:24:44.867Z"
   },
   {
    "duration": 475,
    "start_time": "2023-09-24T01:24:44.965Z"
   },
   {
    "duration": 22,
    "start_time": "2023-09-24T01:24:45.443Z"
   },
   {
    "duration": 15,
    "start_time": "2023-09-24T01:24:45.467Z"
   },
   {
    "duration": 21,
    "start_time": "2023-09-24T01:24:45.483Z"
   },
   {
    "duration": 84,
    "start_time": "2023-09-24T01:24:45.505Z"
   },
   {
    "duration": 52,
    "start_time": "2023-09-24T01:24:45.591Z"
   },
   {
    "duration": 22,
    "start_time": "2023-09-24T01:24:45.645Z"
   },
   {
    "duration": 86,
    "start_time": "2023-09-24T01:24:45.669Z"
   },
   {
    "duration": 34,
    "start_time": "2023-09-24T01:24:45.757Z"
   },
   {
    "duration": 297,
    "start_time": "2023-09-24T01:24:45.793Z"
   },
   {
    "duration": 2,
    "start_time": "2023-09-24T01:24:46.093Z"
   },
   {
    "duration": 47,
    "start_time": "2023-09-24T01:24:46.097Z"
   },
   {
    "duration": 5,
    "start_time": "2023-09-24T01:24:46.146Z"
   },
   {
    "duration": 7,
    "start_time": "2023-09-24T01:24:46.153Z"
   },
   {
    "duration": 11,
    "start_time": "2023-09-24T01:24:46.162Z"
   },
   {
    "duration": 6,
    "start_time": "2023-09-24T01:24:46.174Z"
   },
   {
    "duration": 5,
    "start_time": "2023-09-24T01:24:46.182Z"
   },
   {
    "duration": 64,
    "start_time": "2023-09-24T01:24:46.189Z"
   },
   {
    "duration": 15,
    "start_time": "2023-09-24T01:24:46.257Z"
   },
   {
    "duration": 7,
    "start_time": "2023-09-24T01:24:46.273Z"
   },
   {
    "duration": 26,
    "start_time": "2023-09-24T01:24:46.281Z"
   },
   {
    "duration": 18,
    "start_time": "2023-09-24T01:24:46.309Z"
   },
   {
    "duration": 12,
    "start_time": "2023-09-24T01:24:46.329Z"
   },
   {
    "duration": 21,
    "start_time": "2023-09-24T01:24:46.344Z"
   },
   {
    "duration": 7,
    "start_time": "2023-09-24T01:24:46.366Z"
   },
   {
    "duration": 139,
    "start_time": "2023-09-24T01:24:46.374Z"
   },
   {
    "duration": 240,
    "start_time": "2023-09-24T01:24:46.515Z"
   },
   {
    "duration": 58,
    "start_time": "2023-09-24T01:24:46.758Z"
   },
   {
    "duration": 248,
    "start_time": "2023-09-24T01:24:46.817Z"
   },
   {
    "duration": 1672,
    "start_time": "2023-09-24T01:24:47.067Z"
   },
   {
    "duration": 1655,
    "start_time": "2023-09-24T01:24:48.747Z"
   },
   {
    "duration": 1596,
    "start_time": "2023-09-24T01:24:50.405Z"
   },
   {
    "duration": 599,
    "start_time": "2023-09-24T01:24:52.003Z"
   },
   {
    "duration": 6,
    "start_time": "2023-09-24T01:24:52.603Z"
   },
   {
    "duration": 36,
    "start_time": "2023-09-24T01:24:52.610Z"
   },
   {
    "duration": 25,
    "start_time": "2023-09-24T01:24:52.648Z"
   },
   {
    "duration": 6,
    "start_time": "2023-09-24T01:24:52.676Z"
   },
   {
    "duration": 1644,
    "start_time": "2023-09-24T01:24:52.687Z"
   },
   {
    "duration": 127,
    "start_time": "2023-09-24T01:24:54.333Z"
   },
   {
    "duration": 1709,
    "start_time": "2023-09-24T01:24:54.464Z"
   },
   {
    "duration": 7,
    "start_time": "2023-09-24T01:24:56.175Z"
   },
   {
    "duration": 24,
    "start_time": "2023-09-24T01:24:56.184Z"
   },
   {
    "duration": 5,
    "start_time": "2023-09-24T01:24:56.210Z"
   },
   {
    "duration": 4,
    "start_time": "2023-09-24T01:24:56.216Z"
   },
   {
    "duration": 28,
    "start_time": "2023-09-24T01:24:56.224Z"
   },
   {
    "duration": 11,
    "start_time": "2023-09-24T01:24:56.254Z"
   },
   {
    "duration": 4985,
    "start_time": "2023-09-24T01:24:56.266Z"
   },
   {
    "duration": 2083,
    "start_time": "2023-09-24T06:20:02.665Z"
   },
   {
    "duration": 2095,
    "start_time": "2023-09-24T06:21:30.950Z"
   },
   {
    "duration": 317,
    "start_time": "2023-09-24T06:21:33.048Z"
   },
   {
    "duration": 2106,
    "start_time": "2023-09-24T06:21:33.367Z"
   },
   {
    "duration": 23,
    "start_time": "2023-09-24T06:21:35.477Z"
   },
   {
    "duration": 55,
    "start_time": "2023-09-24T06:21:35.502Z"
   },
   {
    "duration": 49,
    "start_time": "2023-09-24T06:21:35.559Z"
   },
   {
    "duration": 97,
    "start_time": "2023-09-24T06:21:35.610Z"
   },
   {
    "duration": 87,
    "start_time": "2023-09-24T06:21:35.708Z"
   },
   {
    "duration": 34,
    "start_time": "2023-09-24T06:21:37.714Z"
   },
   {
    "duration": 93,
    "start_time": "2023-09-24T06:21:38.050Z"
   },
   {
    "duration": 34,
    "start_time": "2023-09-24T06:21:41.101Z"
   },
   {
    "duration": 332,
    "start_time": "2023-09-24T06:21:42.000Z"
   },
   {
    "duration": 4,
    "start_time": "2023-09-24T06:22:27.612Z"
   },
   {
    "duration": 39,
    "start_time": "2023-09-24T06:22:28.029Z"
   },
   {
    "duration": 3,
    "start_time": "2023-09-24T06:22:28.469Z"
   },
   {
    "duration": 3,
    "start_time": "2023-09-24T06:22:29.370Z"
   },
   {
    "duration": 8,
    "start_time": "2023-09-24T06:22:30.610Z"
   },
   {
    "duration": 9,
    "start_time": "2023-09-24T06:22:30.831Z"
   },
   {
    "duration": 6,
    "start_time": "2023-09-24T06:22:31.472Z"
   },
   {
    "duration": 4,
    "start_time": "2023-09-24T06:23:40.685Z"
   },
   {
    "duration": 25,
    "start_time": "2023-09-24T06:24:05.062Z"
   },
   {
    "duration": 15,
    "start_time": "2023-09-24T06:25:58.698Z"
   },
   {
    "duration": 14,
    "start_time": "2023-09-24T06:26:10.555Z"
   },
   {
    "duration": 18,
    "start_time": "2023-09-24T06:26:41.771Z"
   },
   {
    "duration": 11,
    "start_time": "2023-09-24T06:27:02.012Z"
   },
   {
    "duration": 4,
    "start_time": "2023-09-24T06:27:02.370Z"
   },
   {
    "duration": 8,
    "start_time": "2023-09-24T06:27:02.775Z"
   },
   {
    "duration": 11,
    "start_time": "2023-09-24T06:27:03.131Z"
   },
   {
    "duration": 143,
    "start_time": "2023-09-24T06:27:08.058Z"
   },
   {
    "duration": 49,
    "start_time": "2023-09-26T00:52:32.432Z"
   },
   {
    "duration": 1899,
    "start_time": "2023-09-26T00:57:05.718Z"
   },
   {
    "duration": 998,
    "start_time": "2023-09-26T00:57:07.619Z"
   },
   {
    "duration": 167,
    "start_time": "2023-09-26T00:57:08.618Z"
   },
   {
    "duration": 1268,
    "start_time": "2023-09-26T00:57:08.787Z"
   },
   {
    "duration": 20,
    "start_time": "2023-09-26T00:57:10.058Z"
   },
   {
    "duration": 20,
    "start_time": "2023-09-26T00:57:10.079Z"
   },
   {
    "duration": 24,
    "start_time": "2023-09-26T00:57:10.106Z"
   },
   {
    "duration": 85,
    "start_time": "2023-09-26T00:57:10.132Z"
   },
   {
    "duration": 39,
    "start_time": "2023-09-26T00:57:10.219Z"
   },
   {
    "duration": 15,
    "start_time": "2023-09-26T00:57:10.260Z"
   },
   {
    "duration": 87,
    "start_time": "2023-09-26T00:57:10.277Z"
   },
   {
    "duration": 43,
    "start_time": "2023-09-26T00:57:10.366Z"
   },
   {
    "duration": 260,
    "start_time": "2023-09-26T00:57:10.416Z"
   },
   {
    "duration": 2,
    "start_time": "2023-09-26T00:57:10.680Z"
   },
   {
    "duration": 46,
    "start_time": "2023-09-26T00:57:10.684Z"
   },
   {
    "duration": 4,
    "start_time": "2023-09-26T00:57:10.731Z"
   },
   {
    "duration": 19,
    "start_time": "2023-09-26T00:57:10.737Z"
   },
   {
    "duration": 60,
    "start_time": "2023-09-26T00:57:10.758Z"
   },
   {
    "duration": 51,
    "start_time": "2023-09-26T00:57:10.819Z"
   },
   {
    "duration": 41,
    "start_time": "2023-09-26T00:57:10.871Z"
   },
   {
    "duration": 4,
    "start_time": "2023-09-26T00:57:10.915Z"
   },
   {
    "duration": 31,
    "start_time": "2023-09-26T00:57:10.920Z"
   },
   {
    "duration": 15,
    "start_time": "2023-09-26T00:57:10.953Z"
   },
   {
    "duration": 6,
    "start_time": "2023-09-26T00:57:10.970Z"
   },
   {
    "duration": 38,
    "start_time": "2023-09-26T00:57:10.978Z"
   },
   {
    "duration": 10,
    "start_time": "2023-09-26T00:57:11.018Z"
   },
   {
    "duration": 4,
    "start_time": "2023-09-26T00:57:11.030Z"
   },
   {
    "duration": 11,
    "start_time": "2023-09-26T00:57:11.035Z"
   },
   {
    "duration": 21,
    "start_time": "2023-09-26T00:57:11.047Z"
   },
   {
    "duration": 176,
    "start_time": "2023-09-26T00:57:11.069Z"
   },
   {
    "duration": 213,
    "start_time": "2023-09-26T00:57:11.246Z"
   },
   {
    "duration": 73,
    "start_time": "2023-09-26T00:57:11.461Z"
   },
   {
    "duration": 219,
    "start_time": "2023-09-26T00:57:11.535Z"
   },
   {
    "duration": 74,
    "start_time": "2023-09-26T00:57:11.756Z"
   },
   {
    "duration": 204,
    "start_time": "2023-09-26T00:57:11.832Z"
   },
   {
    "duration": 2,
    "start_time": "2023-09-26T00:57:12.038Z"
   },
   {
    "duration": 5,
    "start_time": "2023-09-26T00:57:12.042Z"
   },
   {
    "duration": 1705,
    "start_time": "2023-09-26T00:57:12.049Z"
   },
   {
    "duration": 1600,
    "start_time": "2023-09-26T00:57:13.756Z"
   },
   {
    "duration": 1574,
    "start_time": "2023-09-26T00:57:15.358Z"
   },
   {
    "duration": 636,
    "start_time": "2023-09-26T00:57:16.936Z"
   },
   {
    "duration": 5,
    "start_time": "2023-09-26T00:57:17.573Z"
   },
   {
    "duration": 39,
    "start_time": "2023-09-26T00:57:17.580Z"
   },
   {
    "duration": 32,
    "start_time": "2023-09-26T00:57:17.620Z"
   },
   {
    "duration": 17,
    "start_time": "2023-09-26T00:57:17.653Z"
   },
   {
    "duration": 1557,
    "start_time": "2023-09-26T00:57:17.672Z"
   },
   {
    "duration": 96,
    "start_time": "2023-09-26T00:57:19.231Z"
   },
   {
    "duration": 1394,
    "start_time": "2023-09-26T00:57:19.328Z"
   },
   {
    "duration": 5,
    "start_time": "2023-09-26T00:57:20.724Z"
   },
   {
    "duration": 58,
    "start_time": "2023-09-26T00:57:20.731Z"
   },
   {
    "duration": 41,
    "start_time": "2023-09-26T00:57:20.791Z"
   },
   {
    "duration": 41,
    "start_time": "2023-09-26T00:57:20.833Z"
   },
   {
    "duration": 62,
    "start_time": "2023-09-26T00:57:20.876Z"
   },
   {
    "duration": 24,
    "start_time": "2023-09-26T00:57:20.940Z"
   },
   {
    "duration": 2938,
    "start_time": "2023-09-26T00:57:20.966Z"
   },
   {
    "duration": 26770,
    "start_time": "2023-09-26T00:57:23.906Z"
   },
   {
    "duration": 441452,
    "start_time": "2023-09-26T00:57:50.678Z"
   },
   {
    "duration": 3,
    "start_time": "2023-09-26T01:05:12.131Z"
   },
   {
    "duration": 26,
    "start_time": "2023-09-26T01:05:12.136Z"
   },
   {
    "duration": 0,
    "start_time": "2023-09-26T01:05:12.164Z"
   },
   {
    "duration": 0,
    "start_time": "2023-09-26T01:05:12.166Z"
   },
   {
    "duration": 0,
    "start_time": "2023-09-26T01:05:12.167Z"
   },
   {
    "duration": 0,
    "start_time": "2023-09-26T01:05:12.169Z"
   },
   {
    "duration": 56,
    "start_time": "2023-09-26T01:06:06.776Z"
   },
   {
    "duration": 197,
    "start_time": "2023-09-26T01:06:07.798Z"
   },
   {
    "duration": 13,
    "start_time": "2023-09-26T01:11:33.028Z"
   },
   {
    "duration": 179,
    "start_time": "2023-09-26T01:11:35.090Z"
   },
   {
    "duration": 215,
    "start_time": "2023-09-26T01:11:37.294Z"
   },
   {
    "duration": 52,
    "start_time": "2023-09-26T01:13:22.474Z"
   },
   {
    "duration": 238,
    "start_time": "2023-09-26T01:15:55.600Z"
   },
   {
    "duration": 12,
    "start_time": "2023-09-26T01:42:33.964Z"
   },
   {
    "duration": 11,
    "start_time": "2023-09-26T01:42:35.171Z"
   },
   {
    "duration": 5,
    "start_time": "2023-09-26T01:42:42.360Z"
   },
   {
    "duration": 16151,
    "start_time": "2023-09-26T01:42:48.144Z"
   },
   {
    "duration": 26946,
    "start_time": "2023-09-26T01:49:20.351Z"
   },
   {
    "duration": 105,
    "start_time": "2023-09-26T01:49:47.302Z"
   },
   {
    "duration": 0,
    "start_time": "2023-09-26T01:49:47.410Z"
   },
   {
    "duration": 11,
    "start_time": "2023-09-26T01:50:00.743Z"
   },
   {
    "duration": 1432,
    "start_time": "2023-09-26T01:50:16.773Z"
   },
   {
    "duration": 2010,
    "start_time": "2023-09-26T01:51:22.709Z"
   },
   {
    "duration": 2043,
    "start_time": "2023-09-26T01:51:43.066Z"
   },
   {
    "duration": 2001,
    "start_time": "2023-09-26T01:52:45.883Z"
   },
   {
    "duration": 2003,
    "start_time": "2023-09-26T01:52:58.021Z"
   },
   {
    "duration": 30081,
    "start_time": "2023-09-26T01:56:13.992Z"
   },
   {
    "duration": 16233,
    "start_time": "2023-09-26T02:01:38.586Z"
   },
   {
    "duration": 25559,
    "start_time": "2023-09-26T02:01:54.821Z"
   },
   {
    "duration": 1625,
    "start_time": "2023-09-26T02:02:20.381Z"
   },
   {
    "duration": 4906,
    "start_time": "2023-09-26T02:03:22.407Z"
   },
   {
    "duration": 1654,
    "start_time": "2023-09-26T02:07:43.295Z"
   },
   {
    "duration": 362,
    "start_time": "2023-09-26T02:07:44.951Z"
   },
   {
    "duration": 89,
    "start_time": "2023-09-26T02:07:45.316Z"
   },
   {
    "duration": 454,
    "start_time": "2023-09-26T02:07:45.406Z"
   },
   {
    "duration": 19,
    "start_time": "2023-09-26T02:07:45.862Z"
   },
   {
    "duration": 24,
    "start_time": "2023-09-26T02:07:45.883Z"
   },
   {
    "duration": 17,
    "start_time": "2023-09-26T02:07:45.909Z"
   },
   {
    "duration": 83,
    "start_time": "2023-09-26T02:07:45.928Z"
   },
   {
    "duration": 41,
    "start_time": "2023-09-26T02:07:46.012Z"
   },
   {
    "duration": 24,
    "start_time": "2023-09-26T02:07:46.054Z"
   },
   {
    "duration": 94,
    "start_time": "2023-09-26T02:07:46.080Z"
   },
   {
    "duration": 30,
    "start_time": "2023-09-26T02:07:46.176Z"
   },
   {
    "duration": 288,
    "start_time": "2023-09-26T02:07:46.207Z"
   },
   {
    "duration": 2,
    "start_time": "2023-09-26T02:07:46.502Z"
   },
   {
    "duration": 51,
    "start_time": "2023-09-26T02:07:46.506Z"
   },
   {
    "duration": 17,
    "start_time": "2023-09-26T02:07:46.558Z"
   },
   {
    "duration": 19,
    "start_time": "2023-09-26T02:07:46.577Z"
   },
   {
    "duration": 23,
    "start_time": "2023-09-26T02:07:46.598Z"
   },
   {
    "duration": 12,
    "start_time": "2023-09-26T02:07:46.623Z"
   },
   {
    "duration": 17,
    "start_time": "2023-09-26T02:07:46.636Z"
   },
   {
    "duration": 9,
    "start_time": "2023-09-26T02:07:46.655Z"
   },
   {
    "duration": 34,
    "start_time": "2023-09-26T02:07:46.665Z"
   },
   {
    "duration": 16,
    "start_time": "2023-09-26T02:07:46.701Z"
   },
   {
    "duration": 20,
    "start_time": "2023-09-26T02:07:46.719Z"
   },
   {
    "duration": 31,
    "start_time": "2023-09-26T02:07:46.741Z"
   },
   {
    "duration": 11,
    "start_time": "2023-09-26T02:07:46.774Z"
   },
   {
    "duration": 12,
    "start_time": "2023-09-26T02:07:46.787Z"
   },
   {
    "duration": 35,
    "start_time": "2023-09-26T02:07:46.801Z"
   },
   {
    "duration": 22,
    "start_time": "2023-09-26T02:07:46.838Z"
   },
   {
    "duration": 143,
    "start_time": "2023-09-26T02:07:46.862Z"
   },
   {
    "duration": 220,
    "start_time": "2023-09-26T02:07:47.007Z"
   },
   {
    "duration": 59,
    "start_time": "2023-09-26T02:07:47.229Z"
   },
   {
    "duration": 227,
    "start_time": "2023-09-26T02:07:47.289Z"
   },
   {
    "duration": 58,
    "start_time": "2023-09-26T02:07:47.518Z"
   },
   {
    "duration": 229,
    "start_time": "2023-09-26T02:07:47.578Z"
   },
   {
    "duration": 81,
    "start_time": "2023-09-26T02:07:47.809Z"
   },
   {
    "duration": 0,
    "start_time": "2023-09-26T02:07:47.893Z"
   },
   {
    "duration": 0,
    "start_time": "2023-09-26T02:07:47.896Z"
   },
   {
    "duration": 0,
    "start_time": "2023-09-26T02:07:47.897Z"
   },
   {
    "duration": 0,
    "start_time": "2023-09-26T02:07:47.899Z"
   },
   {
    "duration": 0,
    "start_time": "2023-09-26T02:07:47.900Z"
   },
   {
    "duration": 0,
    "start_time": "2023-09-26T02:07:47.902Z"
   },
   {
    "duration": 0,
    "start_time": "2023-09-26T02:07:47.903Z"
   },
   {
    "duration": 0,
    "start_time": "2023-09-26T02:07:47.905Z"
   },
   {
    "duration": 0,
    "start_time": "2023-09-26T02:07:47.906Z"
   },
   {
    "duration": 0,
    "start_time": "2023-09-26T02:07:47.907Z"
   },
   {
    "duration": 0,
    "start_time": "2023-09-26T02:07:47.909Z"
   },
   {
    "duration": 0,
    "start_time": "2023-09-26T02:07:47.911Z"
   },
   {
    "duration": 0,
    "start_time": "2023-09-26T02:07:47.912Z"
   },
   {
    "duration": 0,
    "start_time": "2023-09-26T02:07:47.915Z"
   },
   {
    "duration": 0,
    "start_time": "2023-09-26T02:07:47.916Z"
   },
   {
    "duration": 0,
    "start_time": "2023-09-26T02:07:47.917Z"
   },
   {
    "duration": 0,
    "start_time": "2023-09-26T02:07:47.918Z"
   },
   {
    "duration": 0,
    "start_time": "2023-09-26T02:07:47.919Z"
   },
   {
    "duration": 0,
    "start_time": "2023-09-26T02:07:47.921Z"
   },
   {
    "duration": 0,
    "start_time": "2023-09-26T02:07:47.922Z"
   },
   {
    "duration": 0,
    "start_time": "2023-09-26T02:07:47.924Z"
   },
   {
    "duration": 0,
    "start_time": "2023-09-26T02:07:47.925Z"
   },
   {
    "duration": 0,
    "start_time": "2023-09-26T02:07:47.927Z"
   },
   {
    "duration": 0,
    "start_time": "2023-09-26T02:07:47.927Z"
   },
   {
    "duration": 0,
    "start_time": "2023-09-26T02:07:47.929Z"
   },
   {
    "duration": 1,
    "start_time": "2023-09-26T02:07:47.929Z"
   },
   {
    "duration": 0,
    "start_time": "2023-09-26T02:07:47.931Z"
   },
   {
    "duration": 0,
    "start_time": "2023-09-26T02:07:47.932Z"
   },
   {
    "duration": 0,
    "start_time": "2023-09-26T02:07:47.933Z"
   },
   {
    "duration": 0,
    "start_time": "2023-09-26T02:07:47.934Z"
   },
   {
    "duration": 0,
    "start_time": "2023-09-26T02:07:47.935Z"
   },
   {
    "duration": 0,
    "start_time": "2023-09-26T02:07:47.936Z"
   },
   {
    "duration": 0,
    "start_time": "2023-09-26T02:07:47.937Z"
   },
   {
    "duration": 0,
    "start_time": "2023-09-26T02:07:47.939Z"
   },
   {
    "duration": 0,
    "start_time": "2023-09-26T02:07:48.001Z"
   },
   {
    "duration": 0,
    "start_time": "2023-09-26T02:07:48.003Z"
   },
   {
    "duration": 0,
    "start_time": "2023-09-26T02:07:48.004Z"
   },
   {
    "duration": 0,
    "start_time": "2023-09-26T02:07:48.005Z"
   },
   {
    "duration": 0,
    "start_time": "2023-09-26T02:07:48.007Z"
   },
   {
    "duration": 1570,
    "start_time": "2023-09-26T02:09:10.432Z"
   },
   {
    "duration": 361,
    "start_time": "2023-09-26T02:09:12.004Z"
   },
   {
    "duration": 89,
    "start_time": "2023-09-26T02:09:12.367Z"
   },
   {
    "duration": 446,
    "start_time": "2023-09-26T02:09:12.458Z"
   },
   {
    "duration": 20,
    "start_time": "2023-09-26T02:09:12.906Z"
   },
   {
    "duration": 17,
    "start_time": "2023-09-26T02:09:12.927Z"
   },
   {
    "duration": 18,
    "start_time": "2023-09-26T02:09:12.946Z"
   },
   {
    "duration": 96,
    "start_time": "2023-09-26T02:09:12.966Z"
   },
   {
    "duration": 53,
    "start_time": "2023-09-26T02:09:13.063Z"
   },
   {
    "duration": 16,
    "start_time": "2023-09-26T02:09:13.117Z"
   },
   {
    "duration": 82,
    "start_time": "2023-09-26T02:09:13.134Z"
   },
   {
    "duration": 33,
    "start_time": "2023-09-26T02:09:13.218Z"
   },
   {
    "duration": 278,
    "start_time": "2023-09-26T02:09:13.252Z"
   },
   {
    "duration": 2,
    "start_time": "2023-09-26T02:09:13.533Z"
   },
   {
    "duration": 40,
    "start_time": "2023-09-26T02:09:13.537Z"
   },
   {
    "duration": 6,
    "start_time": "2023-09-26T02:09:13.579Z"
   },
   {
    "duration": 22,
    "start_time": "2023-09-26T02:09:13.586Z"
   },
   {
    "duration": 13,
    "start_time": "2023-09-26T02:09:13.610Z"
   },
   {
    "duration": 32,
    "start_time": "2023-09-26T02:09:13.625Z"
   },
   {
    "duration": 23,
    "start_time": "2023-09-26T02:09:13.659Z"
   },
   {
    "duration": 38,
    "start_time": "2023-09-26T02:09:13.684Z"
   },
   {
    "duration": 62,
    "start_time": "2023-09-26T02:09:13.724Z"
   },
   {
    "duration": 18,
    "start_time": "2023-09-26T02:09:13.788Z"
   },
   {
    "duration": 22,
    "start_time": "2023-09-26T02:09:13.808Z"
   },
   {
    "duration": 20,
    "start_time": "2023-09-26T02:09:13.832Z"
   },
   {
    "duration": 14,
    "start_time": "2023-09-26T02:09:13.854Z"
   },
   {
    "duration": 4,
    "start_time": "2023-09-26T02:09:13.870Z"
   },
   {
    "duration": 13,
    "start_time": "2023-09-26T02:09:13.875Z"
   },
   {
    "duration": 4,
    "start_time": "2023-09-26T02:09:13.901Z"
   },
   {
    "duration": 151,
    "start_time": "2023-09-26T02:09:13.907Z"
   },
   {
    "duration": 234,
    "start_time": "2023-09-26T02:09:14.059Z"
   },
   {
    "duration": 112,
    "start_time": "2023-09-26T02:09:14.296Z"
   },
   {
    "duration": 277,
    "start_time": "2023-09-26T02:09:14.410Z"
   },
   {
    "duration": 69,
    "start_time": "2023-09-26T02:09:14.690Z"
   },
   {
    "duration": 221,
    "start_time": "2023-09-26T02:09:14.761Z"
   },
   {
    "duration": 155,
    "start_time": "2023-09-26T02:09:14.985Z"
   },
   {
    "duration": 229,
    "start_time": "2023-09-26T02:09:15.141Z"
   },
   {
    "duration": 65,
    "start_time": "2023-09-26T02:09:15.372Z"
   },
   {
    "duration": 235,
    "start_time": "2023-09-26T02:09:15.439Z"
   },
   {
    "duration": 1497,
    "start_time": "2023-09-26T02:09:15.677Z"
   },
   {
    "duration": 1670,
    "start_time": "2023-09-26T02:09:17.179Z"
   },
   {
    "duration": 1796,
    "start_time": "2023-09-26T02:09:18.851Z"
   },
   {
    "duration": 612,
    "start_time": "2023-09-26T02:09:20.649Z"
   },
   {
    "duration": 5,
    "start_time": "2023-09-26T02:09:21.263Z"
   },
   {
    "duration": 15,
    "start_time": "2023-09-26T02:09:21.269Z"
   },
   {
    "duration": 30,
    "start_time": "2023-09-26T02:09:21.286Z"
   },
   {
    "duration": 26,
    "start_time": "2023-09-26T02:09:21.317Z"
   },
   {
    "duration": 1416,
    "start_time": "2023-09-26T02:09:21.345Z"
   },
   {
    "duration": 94,
    "start_time": "2023-09-26T02:09:22.762Z"
   },
   {
    "duration": 1483,
    "start_time": "2023-09-26T02:09:22.857Z"
   },
   {
    "duration": 8,
    "start_time": "2023-09-26T02:09:24.342Z"
   },
   {
    "duration": 55,
    "start_time": "2023-09-26T02:09:24.351Z"
   },
   {
    "duration": 34,
    "start_time": "2023-09-26T02:09:24.408Z"
   },
   {
    "duration": 21,
    "start_time": "2023-09-26T02:09:24.444Z"
   },
   {
    "duration": 44,
    "start_time": "2023-09-26T02:09:24.467Z"
   },
   {
    "duration": 16437,
    "start_time": "2023-09-26T02:09:24.513Z"
   },
   {
    "duration": 27626,
    "start_time": "2023-09-26T02:09:40.952Z"
   },
   {
    "duration": 1636,
    "start_time": "2023-09-26T02:10:08.579Z"
   },
   {
    "duration": 162,
    "start_time": "2023-09-26T02:10:10.303Z"
   },
   {
    "duration": 0,
    "start_time": "2023-09-26T02:10:10.467Z"
   },
   {
    "duration": 0,
    "start_time": "2023-09-26T02:10:10.468Z"
   },
   {
    "duration": 0,
    "start_time": "2023-09-26T02:10:10.469Z"
   },
   {
    "duration": 0,
    "start_time": "2023-09-26T02:10:10.471Z"
   },
   {
    "duration": 0,
    "start_time": "2023-09-26T02:10:10.472Z"
   },
   {
    "duration": 0,
    "start_time": "2023-09-26T02:10:10.474Z"
   },
   {
    "duration": 0,
    "start_time": "2023-09-26T02:10:10.476Z"
   },
   {
    "duration": 0,
    "start_time": "2023-09-26T02:10:10.477Z"
   },
   {
    "duration": 0,
    "start_time": "2023-09-26T02:10:10.479Z"
   },
   {
    "duration": 0,
    "start_time": "2023-09-26T02:10:10.480Z"
   },
   {
    "duration": 0,
    "start_time": "2023-09-26T02:10:10.482Z"
   },
   {
    "duration": 0,
    "start_time": "2023-09-26T02:10:10.483Z"
   },
   {
    "duration": 1606,
    "start_time": "2023-09-26T02:11:26.154Z"
   },
   {
    "duration": 370,
    "start_time": "2023-09-26T02:11:27.761Z"
   },
   {
    "duration": 90,
    "start_time": "2023-09-26T02:11:28.133Z"
   },
   {
    "duration": 466,
    "start_time": "2023-09-26T02:11:28.225Z"
   },
   {
    "duration": 29,
    "start_time": "2023-09-26T02:11:28.693Z"
   },
   {
    "duration": 13,
    "start_time": "2023-09-26T02:11:28.724Z"
   },
   {
    "duration": 54,
    "start_time": "2023-09-26T02:11:28.739Z"
   },
   {
    "duration": 69,
    "start_time": "2023-09-26T02:11:28.795Z"
   },
   {
    "duration": 50,
    "start_time": "2023-09-26T02:11:28.867Z"
   },
   {
    "duration": 15,
    "start_time": "2023-09-26T02:11:28.920Z"
   },
   {
    "duration": 79,
    "start_time": "2023-09-26T02:11:28.937Z"
   },
   {
    "duration": 31,
    "start_time": "2023-09-26T02:11:29.019Z"
   },
   {
    "duration": 292,
    "start_time": "2023-09-26T02:11:29.052Z"
   },
   {
    "duration": 3,
    "start_time": "2023-09-26T02:11:29.346Z"
   },
   {
    "duration": 27,
    "start_time": "2023-09-26T02:11:29.350Z"
   },
   {
    "duration": 3,
    "start_time": "2023-09-26T02:11:29.379Z"
   },
   {
    "duration": 21,
    "start_time": "2023-09-26T02:11:29.384Z"
   },
   {
    "duration": 12,
    "start_time": "2023-09-26T02:11:29.407Z"
   },
   {
    "duration": 19,
    "start_time": "2023-09-26T02:11:29.421Z"
   },
   {
    "duration": 37,
    "start_time": "2023-09-26T02:11:29.441Z"
   },
   {
    "duration": 7,
    "start_time": "2023-09-26T02:11:29.479Z"
   },
   {
    "duration": 36,
    "start_time": "2023-09-26T02:11:29.488Z"
   },
   {
    "duration": 16,
    "start_time": "2023-09-26T02:11:29.526Z"
   },
   {
    "duration": 7,
    "start_time": "2023-09-26T02:11:29.544Z"
   },
   {
    "duration": 23,
    "start_time": "2023-09-26T02:11:29.553Z"
   },
   {
    "duration": 32,
    "start_time": "2023-09-26T02:11:29.578Z"
   },
   {
    "duration": 16,
    "start_time": "2023-09-26T02:11:29.612Z"
   },
   {
    "duration": 19,
    "start_time": "2023-09-26T02:11:29.632Z"
   },
   {
    "duration": 16,
    "start_time": "2023-09-26T02:11:29.653Z"
   },
   {
    "duration": 136,
    "start_time": "2023-09-26T02:11:29.670Z"
   },
   {
    "duration": 217,
    "start_time": "2023-09-26T02:11:29.808Z"
   },
   {
    "duration": 58,
    "start_time": "2023-09-26T02:11:30.027Z"
   },
   {
    "duration": 263,
    "start_time": "2023-09-26T02:11:30.087Z"
   },
   {
    "duration": 69,
    "start_time": "2023-09-26T02:11:30.352Z"
   },
   {
    "duration": 265,
    "start_time": "2023-09-26T02:11:30.423Z"
   },
   {
    "duration": 156,
    "start_time": "2023-09-26T02:11:30.690Z"
   },
   {
    "duration": 220,
    "start_time": "2023-09-26T02:11:30.848Z"
   },
   {
    "duration": 69,
    "start_time": "2023-09-26T02:11:31.069Z"
   },
   {
    "duration": 269,
    "start_time": "2023-09-26T02:11:31.140Z"
   },
   {
    "duration": 1644,
    "start_time": "2023-09-26T02:11:31.410Z"
   },
   {
    "duration": 1495,
    "start_time": "2023-09-26T02:11:33.056Z"
   },
   {
    "duration": 1888,
    "start_time": "2023-09-26T02:11:34.553Z"
   },
   {
    "duration": 617,
    "start_time": "2023-09-26T02:11:36.442Z"
   },
   {
    "duration": 5,
    "start_time": "2023-09-26T02:11:37.061Z"
   },
   {
    "duration": 68,
    "start_time": "2023-09-26T02:11:37.068Z"
   },
   {
    "duration": 25,
    "start_time": "2023-09-26T02:11:37.137Z"
   },
   {
    "duration": 19,
    "start_time": "2023-09-26T02:11:37.163Z"
   },
   {
    "duration": 1485,
    "start_time": "2023-09-26T02:11:37.184Z"
   },
   {
    "duration": 100,
    "start_time": "2023-09-26T02:11:38.671Z"
   },
   {
    "duration": 1738,
    "start_time": "2023-09-26T02:11:38.774Z"
   },
   {
    "duration": 5,
    "start_time": "2023-09-26T02:11:40.514Z"
   },
   {
    "duration": 31,
    "start_time": "2023-09-26T02:11:40.521Z"
   },
   {
    "duration": 13,
    "start_time": "2023-09-26T02:11:40.554Z"
   },
   {
    "duration": 22,
    "start_time": "2023-09-26T02:11:40.569Z"
   },
   {
    "duration": 57,
    "start_time": "2023-09-26T02:11:40.594Z"
   },
   {
    "duration": 16348,
    "start_time": "2023-09-26T02:11:40.653Z"
   },
   {
    "duration": 26577,
    "start_time": "2023-09-26T02:11:57.003Z"
   },
   {
    "duration": 1728,
    "start_time": "2023-09-26T02:12:23.582Z"
   },
   {
    "duration": 16066,
    "start_time": "2023-09-26T02:12:25.313Z"
   },
   {
    "duration": 25493,
    "start_time": "2023-09-26T02:12:41.381Z"
   },
   {
    "duration": 2030,
    "start_time": "2023-09-26T02:13:06.876Z"
   },
   {
    "duration": 3285,
    "start_time": "2023-09-26T02:13:08.908Z"
   },
   {
    "duration": 0,
    "start_time": "2023-09-26T02:13:12.194Z"
   },
   {
    "duration": 0,
    "start_time": "2023-09-26T02:13:12.202Z"
   },
   {
    "duration": 0,
    "start_time": "2023-09-26T02:13:12.203Z"
   },
   {
    "duration": 0,
    "start_time": "2023-09-26T02:13:12.205Z"
   },
   {
    "duration": 0,
    "start_time": "2023-09-26T02:13:12.207Z"
   },
   {
    "duration": 1,
    "start_time": "2023-09-26T02:13:12.208Z"
   },
   {
    "duration": 0,
    "start_time": "2023-09-26T02:13:12.210Z"
   },
   {
    "duration": 0,
    "start_time": "2023-09-26T02:13:12.211Z"
   },
   {
    "duration": 4935,
    "start_time": "2023-09-26T02:13:23.900Z"
   },
   {
    "duration": 2,
    "start_time": "2023-09-26T02:13:28.838Z"
   },
   {
    "duration": 9,
    "start_time": "2023-09-26T02:13:39.238Z"
   }
  ],
  "kernelspec": {
   "display_name": "Python 3 (ipykernel)",
   "language": "python",
   "name": "python3"
  },
  "language_info": {
   "codemirror_mode": {
    "name": "ipython",
    "version": 3
   },
   "file_extension": ".py",
   "mimetype": "text/x-python",
   "name": "python",
   "nbconvert_exporter": "python",
   "pygments_lexer": "ipython3",
   "version": "3.9.5"
  },
  "toc": {
   "base_numbering": 1,
   "nav_menu": {},
   "number_sections": true,
   "sideBar": true,
   "skip_h1_title": true,
   "title_cell": "Содержание",
   "title_sidebar": "Contents",
   "toc_cell": true,
   "toc_position": {
    "height": "calc(100% - 180px)",
    "left": "10px",
    "top": "150px",
    "width": "165px"
   },
   "toc_section_display": true,
   "toc_window_display": true
  }
 },
 "nbformat": 4,
 "nbformat_minor": 2
}
