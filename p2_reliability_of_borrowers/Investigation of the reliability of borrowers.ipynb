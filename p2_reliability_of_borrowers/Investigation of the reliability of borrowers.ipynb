{
 "cells": [
  {
   "cell_type": "markdown",
   "id": "18247e76",
   "metadata": {
    "deletable": false,
    "editable": false,
    "id": "c81daeeb"
   },
   "source": [
    "# Исследование надежности заемщиков\n"
   ]
  },
  {
   "cell_type": "markdown",
   "id": "3c896e25",
   "metadata": {
    "deletable": false,
    "editable": false,
    "id": "744d7639"
   },
   "source": [
    "## Откройте таблицу и изучите общую информацию о данных"
   ]
  },
  {
   "cell_type": "markdown",
   "id": "ede77c43",
   "metadata": {
    "deletable": false,
    "editable": false,
    "id": "e7a14c31"
   },
   "source": [
    "**Задание 1. Импортируйте библиотеку pandas. Считайте данные из csv-файла в датафрейм и сохраните в переменную `data`. Путь к файлу:**\n",
    "\n",
    "`/datasets/data.csv`"
   ]
  },
  {
   "cell_type": "code",
   "execution_count": 1,
   "id": "3f67b999",
   "metadata": {
    "deletable": false,
    "id": "7bcf75c9"
   },
   "outputs": [],
   "source": [
    "import pandas as pd\n",
    "\n",
    "try:\n",
    "    data = pd.read_csv('/datasets/data.csv')\n",
    "except:\n",
    "    data = pd.read_csv('https://code.s3.yandex.net/datasets/data.csv')"
   ]
  },
  {
   "cell_type": "markdown",
   "id": "3eec688b",
   "metadata": {
    "deletable": false,
    "editable": false,
    "id": "b8038fe3"
   },
   "source": [
    "**Задание 2. Выведите первые 20 строчек датафрейма `data` на экран.**"
   ]
  },
  {
   "cell_type": "code",
   "execution_count": 2,
   "id": "3c1fac01",
   "metadata": {
    "deletable": false,
    "id": "2a7cab99",
    "outputId": "1a8f3ef2-d323-4ec2-ddf7-89670b5944c4"
   },
   "outputs": [
    {
     "data": {
      "text/html": [
       "<div>\n",
       "<style scoped>\n",
       "    .dataframe tbody tr th:only-of-type {\n",
       "        vertical-align: middle;\n",
       "    }\n",
       "\n",
       "    .dataframe tbody tr th {\n",
       "        vertical-align: top;\n",
       "    }\n",
       "\n",
       "    .dataframe thead th {\n",
       "        text-align: right;\n",
       "    }\n",
       "</style>\n",
       "<table border=\"1\" class=\"dataframe\">\n",
       "  <thead>\n",
       "    <tr style=\"text-align: right;\">\n",
       "      <th></th>\n",
       "      <th>children</th>\n",
       "      <th>days_employed</th>\n",
       "      <th>dob_years</th>\n",
       "      <th>education</th>\n",
       "      <th>education_id</th>\n",
       "      <th>family_status</th>\n",
       "      <th>family_status_id</th>\n",
       "      <th>gender</th>\n",
       "      <th>income_type</th>\n",
       "      <th>debt</th>\n",
       "      <th>total_income</th>\n",
       "      <th>purpose</th>\n",
       "    </tr>\n",
       "  </thead>\n",
       "  <tbody>\n",
       "    <tr>\n",
       "      <th>0</th>\n",
       "      <td>1</td>\n",
       "      <td>-8437.673028</td>\n",
       "      <td>42</td>\n",
       "      <td>высшее</td>\n",
       "      <td>0</td>\n",
       "      <td>женат / замужем</td>\n",
       "      <td>0</td>\n",
       "      <td>F</td>\n",
       "      <td>сотрудник</td>\n",
       "      <td>0</td>\n",
       "      <td>253875.639453</td>\n",
       "      <td>покупка жилья</td>\n",
       "    </tr>\n",
       "    <tr>\n",
       "      <th>1</th>\n",
       "      <td>1</td>\n",
       "      <td>-4024.803754</td>\n",
       "      <td>36</td>\n",
       "      <td>среднее</td>\n",
       "      <td>1</td>\n",
       "      <td>женат / замужем</td>\n",
       "      <td>0</td>\n",
       "      <td>F</td>\n",
       "      <td>сотрудник</td>\n",
       "      <td>0</td>\n",
       "      <td>112080.014102</td>\n",
       "      <td>приобретение автомобиля</td>\n",
       "    </tr>\n",
       "    <tr>\n",
       "      <th>2</th>\n",
       "      <td>0</td>\n",
       "      <td>-5623.422610</td>\n",
       "      <td>33</td>\n",
       "      <td>Среднее</td>\n",
       "      <td>1</td>\n",
       "      <td>женат / замужем</td>\n",
       "      <td>0</td>\n",
       "      <td>M</td>\n",
       "      <td>сотрудник</td>\n",
       "      <td>0</td>\n",
       "      <td>145885.952297</td>\n",
       "      <td>покупка жилья</td>\n",
       "    </tr>\n",
       "    <tr>\n",
       "      <th>3</th>\n",
       "      <td>3</td>\n",
       "      <td>-4124.747207</td>\n",
       "      <td>32</td>\n",
       "      <td>среднее</td>\n",
       "      <td>1</td>\n",
       "      <td>женат / замужем</td>\n",
       "      <td>0</td>\n",
       "      <td>M</td>\n",
       "      <td>сотрудник</td>\n",
       "      <td>0</td>\n",
       "      <td>267628.550329</td>\n",
       "      <td>дополнительное образование</td>\n",
       "    </tr>\n",
       "    <tr>\n",
       "      <th>4</th>\n",
       "      <td>0</td>\n",
       "      <td>340266.072047</td>\n",
       "      <td>53</td>\n",
       "      <td>среднее</td>\n",
       "      <td>1</td>\n",
       "      <td>гражданский брак</td>\n",
       "      <td>1</td>\n",
       "      <td>F</td>\n",
       "      <td>пенсионер</td>\n",
       "      <td>0</td>\n",
       "      <td>158616.077870</td>\n",
       "      <td>сыграть свадьбу</td>\n",
       "    </tr>\n",
       "    <tr>\n",
       "      <th>5</th>\n",
       "      <td>0</td>\n",
       "      <td>-926.185831</td>\n",
       "      <td>27</td>\n",
       "      <td>высшее</td>\n",
       "      <td>0</td>\n",
       "      <td>гражданский брак</td>\n",
       "      <td>1</td>\n",
       "      <td>M</td>\n",
       "      <td>компаньон</td>\n",
       "      <td>0</td>\n",
       "      <td>255763.565419</td>\n",
       "      <td>покупка жилья</td>\n",
       "    </tr>\n",
       "    <tr>\n",
       "      <th>6</th>\n",
       "      <td>0</td>\n",
       "      <td>-2879.202052</td>\n",
       "      <td>43</td>\n",
       "      <td>высшее</td>\n",
       "      <td>0</td>\n",
       "      <td>женат / замужем</td>\n",
       "      <td>0</td>\n",
       "      <td>F</td>\n",
       "      <td>компаньон</td>\n",
       "      <td>0</td>\n",
       "      <td>240525.971920</td>\n",
       "      <td>операции с жильем</td>\n",
       "    </tr>\n",
       "    <tr>\n",
       "      <th>7</th>\n",
       "      <td>0</td>\n",
       "      <td>-152.779569</td>\n",
       "      <td>50</td>\n",
       "      <td>СРЕДНЕЕ</td>\n",
       "      <td>1</td>\n",
       "      <td>женат / замужем</td>\n",
       "      <td>0</td>\n",
       "      <td>M</td>\n",
       "      <td>сотрудник</td>\n",
       "      <td>0</td>\n",
       "      <td>135823.934197</td>\n",
       "      <td>образование</td>\n",
       "    </tr>\n",
       "    <tr>\n",
       "      <th>8</th>\n",
       "      <td>2</td>\n",
       "      <td>-6929.865299</td>\n",
       "      <td>35</td>\n",
       "      <td>ВЫСШЕЕ</td>\n",
       "      <td>0</td>\n",
       "      <td>гражданский брак</td>\n",
       "      <td>1</td>\n",
       "      <td>F</td>\n",
       "      <td>сотрудник</td>\n",
       "      <td>0</td>\n",
       "      <td>95856.832424</td>\n",
       "      <td>на проведение свадьбы</td>\n",
       "    </tr>\n",
       "    <tr>\n",
       "      <th>9</th>\n",
       "      <td>0</td>\n",
       "      <td>-2188.756445</td>\n",
       "      <td>41</td>\n",
       "      <td>среднее</td>\n",
       "      <td>1</td>\n",
       "      <td>женат / замужем</td>\n",
       "      <td>0</td>\n",
       "      <td>M</td>\n",
       "      <td>сотрудник</td>\n",
       "      <td>0</td>\n",
       "      <td>144425.938277</td>\n",
       "      <td>покупка жилья для семьи</td>\n",
       "    </tr>\n",
       "    <tr>\n",
       "      <th>10</th>\n",
       "      <td>2</td>\n",
       "      <td>-4171.483647</td>\n",
       "      <td>36</td>\n",
       "      <td>высшее</td>\n",
       "      <td>0</td>\n",
       "      <td>женат / замужем</td>\n",
       "      <td>0</td>\n",
       "      <td>M</td>\n",
       "      <td>компаньон</td>\n",
       "      <td>0</td>\n",
       "      <td>113943.491460</td>\n",
       "      <td>покупка недвижимости</td>\n",
       "    </tr>\n",
       "    <tr>\n",
       "      <th>11</th>\n",
       "      <td>0</td>\n",
       "      <td>-792.701887</td>\n",
       "      <td>40</td>\n",
       "      <td>среднее</td>\n",
       "      <td>1</td>\n",
       "      <td>женат / замужем</td>\n",
       "      <td>0</td>\n",
       "      <td>F</td>\n",
       "      <td>сотрудник</td>\n",
       "      <td>0</td>\n",
       "      <td>77069.234271</td>\n",
       "      <td>покупка коммерческой недвижимости</td>\n",
       "    </tr>\n",
       "    <tr>\n",
       "      <th>12</th>\n",
       "      <td>0</td>\n",
       "      <td>NaN</td>\n",
       "      <td>65</td>\n",
       "      <td>среднее</td>\n",
       "      <td>1</td>\n",
       "      <td>гражданский брак</td>\n",
       "      <td>1</td>\n",
       "      <td>M</td>\n",
       "      <td>пенсионер</td>\n",
       "      <td>0</td>\n",
       "      <td>NaN</td>\n",
       "      <td>сыграть свадьбу</td>\n",
       "    </tr>\n",
       "    <tr>\n",
       "      <th>13</th>\n",
       "      <td>0</td>\n",
       "      <td>-1846.641941</td>\n",
       "      <td>54</td>\n",
       "      <td>неоконченное высшее</td>\n",
       "      <td>2</td>\n",
       "      <td>женат / замужем</td>\n",
       "      <td>0</td>\n",
       "      <td>F</td>\n",
       "      <td>сотрудник</td>\n",
       "      <td>0</td>\n",
       "      <td>130458.228857</td>\n",
       "      <td>приобретение автомобиля</td>\n",
       "    </tr>\n",
       "    <tr>\n",
       "      <th>14</th>\n",
       "      <td>0</td>\n",
       "      <td>-1844.956182</td>\n",
       "      <td>56</td>\n",
       "      <td>высшее</td>\n",
       "      <td>0</td>\n",
       "      <td>гражданский брак</td>\n",
       "      <td>1</td>\n",
       "      <td>F</td>\n",
       "      <td>компаньон</td>\n",
       "      <td>1</td>\n",
       "      <td>165127.911772</td>\n",
       "      <td>покупка жилой недвижимости</td>\n",
       "    </tr>\n",
       "    <tr>\n",
       "      <th>15</th>\n",
       "      <td>1</td>\n",
       "      <td>-972.364419</td>\n",
       "      <td>26</td>\n",
       "      <td>среднее</td>\n",
       "      <td>1</td>\n",
       "      <td>женат / замужем</td>\n",
       "      <td>0</td>\n",
       "      <td>F</td>\n",
       "      <td>сотрудник</td>\n",
       "      <td>0</td>\n",
       "      <td>116820.904450</td>\n",
       "      <td>строительство собственной недвижимости</td>\n",
       "    </tr>\n",
       "    <tr>\n",
       "      <th>16</th>\n",
       "      <td>0</td>\n",
       "      <td>-1719.934226</td>\n",
       "      <td>35</td>\n",
       "      <td>среднее</td>\n",
       "      <td>1</td>\n",
       "      <td>женат / замужем</td>\n",
       "      <td>0</td>\n",
       "      <td>F</td>\n",
       "      <td>сотрудник</td>\n",
       "      <td>0</td>\n",
       "      <td>289202.704229</td>\n",
       "      <td>недвижимость</td>\n",
       "    </tr>\n",
       "    <tr>\n",
       "      <th>17</th>\n",
       "      <td>0</td>\n",
       "      <td>-2369.999720</td>\n",
       "      <td>33</td>\n",
       "      <td>высшее</td>\n",
       "      <td>0</td>\n",
       "      <td>гражданский брак</td>\n",
       "      <td>1</td>\n",
       "      <td>M</td>\n",
       "      <td>сотрудник</td>\n",
       "      <td>0</td>\n",
       "      <td>90410.586745</td>\n",
       "      <td>строительство недвижимости</td>\n",
       "    </tr>\n",
       "    <tr>\n",
       "      <th>18</th>\n",
       "      <td>0</td>\n",
       "      <td>400281.136913</td>\n",
       "      <td>53</td>\n",
       "      <td>среднее</td>\n",
       "      <td>1</td>\n",
       "      <td>вдовец / вдова</td>\n",
       "      <td>2</td>\n",
       "      <td>F</td>\n",
       "      <td>пенсионер</td>\n",
       "      <td>0</td>\n",
       "      <td>56823.777243</td>\n",
       "      <td>на покупку подержанного автомобиля</td>\n",
       "    </tr>\n",
       "    <tr>\n",
       "      <th>19</th>\n",
       "      <td>0</td>\n",
       "      <td>-10038.818549</td>\n",
       "      <td>48</td>\n",
       "      <td>СРЕДНЕЕ</td>\n",
       "      <td>1</td>\n",
       "      <td>в разводе</td>\n",
       "      <td>3</td>\n",
       "      <td>F</td>\n",
       "      <td>сотрудник</td>\n",
       "      <td>0</td>\n",
       "      <td>242831.107982</td>\n",
       "      <td>на покупку своего автомобиля</td>\n",
       "    </tr>\n",
       "  </tbody>\n",
       "</table>\n",
       "</div>"
      ],
      "text/plain": [
       "    children  days_employed  dob_years            education  education_id  \\\n",
       "0          1   -8437.673028         42               высшее             0   \n",
       "1          1   -4024.803754         36              среднее             1   \n",
       "2          0   -5623.422610         33              Среднее             1   \n",
       "3          3   -4124.747207         32              среднее             1   \n",
       "4          0  340266.072047         53              среднее             1   \n",
       "5          0    -926.185831         27               высшее             0   \n",
       "6          0   -2879.202052         43               высшее             0   \n",
       "7          0    -152.779569         50              СРЕДНЕЕ             1   \n",
       "8          2   -6929.865299         35               ВЫСШЕЕ             0   \n",
       "9          0   -2188.756445         41              среднее             1   \n",
       "10         2   -4171.483647         36               высшее             0   \n",
       "11         0    -792.701887         40              среднее             1   \n",
       "12         0            NaN         65              среднее             1   \n",
       "13         0   -1846.641941         54  неоконченное высшее             2   \n",
       "14         0   -1844.956182         56               высшее             0   \n",
       "15         1    -972.364419         26              среднее             1   \n",
       "16         0   -1719.934226         35              среднее             1   \n",
       "17         0   -2369.999720         33               высшее             0   \n",
       "18         0  400281.136913         53              среднее             1   \n",
       "19         0  -10038.818549         48              СРЕДНЕЕ             1   \n",
       "\n",
       "       family_status  family_status_id gender income_type  debt  \\\n",
       "0    женат / замужем                 0      F   сотрудник     0   \n",
       "1    женат / замужем                 0      F   сотрудник     0   \n",
       "2    женат / замужем                 0      M   сотрудник     0   \n",
       "3    женат / замужем                 0      M   сотрудник     0   \n",
       "4   гражданский брак                 1      F   пенсионер     0   \n",
       "5   гражданский брак                 1      M   компаньон     0   \n",
       "6    женат / замужем                 0      F   компаньон     0   \n",
       "7    женат / замужем                 0      M   сотрудник     0   \n",
       "8   гражданский брак                 1      F   сотрудник     0   \n",
       "9    женат / замужем                 0      M   сотрудник     0   \n",
       "10   женат / замужем                 0      M   компаньон     0   \n",
       "11   женат / замужем                 0      F   сотрудник     0   \n",
       "12  гражданский брак                 1      M   пенсионер     0   \n",
       "13   женат / замужем                 0      F   сотрудник     0   \n",
       "14  гражданский брак                 1      F   компаньон     1   \n",
       "15   женат / замужем                 0      F   сотрудник     0   \n",
       "16   женат / замужем                 0      F   сотрудник     0   \n",
       "17  гражданский брак                 1      M   сотрудник     0   \n",
       "18    вдовец / вдова                 2      F   пенсионер     0   \n",
       "19         в разводе                 3      F   сотрудник     0   \n",
       "\n",
       "     total_income                                 purpose  \n",
       "0   253875.639453                           покупка жилья  \n",
       "1   112080.014102                 приобретение автомобиля  \n",
       "2   145885.952297                           покупка жилья  \n",
       "3   267628.550329              дополнительное образование  \n",
       "4   158616.077870                         сыграть свадьбу  \n",
       "5   255763.565419                           покупка жилья  \n",
       "6   240525.971920                       операции с жильем  \n",
       "7   135823.934197                             образование  \n",
       "8    95856.832424                   на проведение свадьбы  \n",
       "9   144425.938277                 покупка жилья для семьи  \n",
       "10  113943.491460                    покупка недвижимости  \n",
       "11   77069.234271       покупка коммерческой недвижимости  \n",
       "12            NaN                         сыграть свадьбу  \n",
       "13  130458.228857                 приобретение автомобиля  \n",
       "14  165127.911772              покупка жилой недвижимости  \n",
       "15  116820.904450  строительство собственной недвижимости  \n",
       "16  289202.704229                            недвижимость  \n",
       "17   90410.586745              строительство недвижимости  \n",
       "18   56823.777243      на покупку подержанного автомобиля  \n",
       "19  242831.107982            на покупку своего автомобиля  "
      ]
     },
     "execution_count": 2,
     "metadata": {},
     "output_type": "execute_result"
    }
   ],
   "source": [
    "data.head(20)"
   ]
  },
  {
   "cell_type": "markdown",
   "id": "1fed895d",
   "metadata": {
    "deletable": false,
    "editable": false,
    "id": "1c12e233"
   },
   "source": [
    "**Задание 3. Выведите основную информацию о датафрейме с помощью метода `info()`.**"
   ]
  },
  {
   "cell_type": "code",
   "execution_count": 3,
   "id": "42795001",
   "metadata": {
    "deletable": false,
    "id": "2b757bca",
    "outputId": "15376089-8dad-46c9-b520-c05248d43158"
   },
   "outputs": [
    {
     "name": "stdout",
     "output_type": "stream",
     "text": [
      "<class 'pandas.core.frame.DataFrame'>\n",
      "RangeIndex: 21525 entries, 0 to 21524\n",
      "Data columns (total 12 columns):\n",
      " #   Column            Non-Null Count  Dtype  \n",
      "---  ------            --------------  -----  \n",
      " 0   children          21525 non-null  int64  \n",
      " 1   days_employed     19351 non-null  float64\n",
      " 2   dob_years         21525 non-null  int64  \n",
      " 3   education         21525 non-null  object \n",
      " 4   education_id      21525 non-null  int64  \n",
      " 5   family_status     21525 non-null  object \n",
      " 6   family_status_id  21525 non-null  int64  \n",
      " 7   gender            21525 non-null  object \n",
      " 8   income_type       21525 non-null  object \n",
      " 9   debt              21525 non-null  int64  \n",
      " 10  total_income      19351 non-null  float64\n",
      " 11  purpose           21525 non-null  object \n",
      "dtypes: float64(2), int64(5), object(5)\n",
      "memory usage: 2.0+ MB\n"
     ]
    }
   ],
   "source": [
    "data.info()"
   ]
  },
  {
   "cell_type": "markdown",
   "id": "af5d9daa",
   "metadata": {
    "deletable": false,
    "editable": false,
    "id": "333ec665"
   },
   "source": [
    "## Предобработка данных"
   ]
  },
  {
   "cell_type": "markdown",
   "id": "209daa99",
   "metadata": {
    "deletable": false,
    "editable": false,
    "id": "02d92d53"
   },
   "source": [
    "### Удаление пропусков"
   ]
  },
  {
   "cell_type": "markdown",
   "id": "c0829fd8",
   "metadata": {
    "deletable": false,
    "editable": false,
    "id": "cd84967c"
   },
   "source": [
    "**Задание 4. Выведите количество пропущенных значений для каждого столбца. Используйте комбинацию двух методов.**"
   ]
  },
  {
   "cell_type": "code",
   "execution_count": 4,
   "id": "b88985c7",
   "metadata": {
    "deletable": false,
    "id": "7f9b2309",
    "outputId": "81f4d817-781c-465c-ed15-91ce4446810d"
   },
   "outputs": [
    {
     "data": {
      "text/plain": [
       "children               0\n",
       "days_employed       2174\n",
       "dob_years              0\n",
       "education              0\n",
       "education_id           0\n",
       "family_status          0\n",
       "family_status_id       0\n",
       "gender                 0\n",
       "income_type            0\n",
       "debt                   0\n",
       "total_income        2174\n",
       "purpose                0\n",
       "dtype: int64"
      ]
     },
     "execution_count": 4,
     "metadata": {},
     "output_type": "execute_result"
    }
   ],
   "source": [
    "data.isna().sum()"
   ]
  },
  {
   "cell_type": "markdown",
   "id": "f3de9357",
   "metadata": {
    "deletable": false,
    "editable": false,
    "id": "db86e27b"
   },
   "source": [
    "**Задание 5. В двух столбцах есть пропущенные значения. Один из них — `days_employed`. Пропуски в этом столбце вы обработаете на следующем этапе. Другой столбец с пропущенными значениями — `total_income` — хранит данные о доходах. На сумму дохода сильнее всего влияет тип занятости, поэтому заполнить пропуски в этом столбце нужно медианным значением по каждому типу из столбца `income_type`. Например, у человека с типом занятости `сотрудник` пропуск в столбце `total_income` должен быть заполнен медианным доходом среди всех записей с тем же типом.**"
   ]
  },
  {
   "cell_type": "code",
   "execution_count": 5,
   "id": "e9fc82c0",
   "metadata": {
    "deletable": false,
    "id": "42006a93"
   },
   "outputs": [],
   "source": [
    "for t in data['income_type'].unique():\n",
    "    data.loc[(data['income_type'] == t) & (data['total_income'].isna()), 'total_income'] = \\\n",
    "    data.loc[(data['income_type'] == t), 'total_income'].median()"
   ]
  },
  {
   "cell_type": "markdown",
   "id": "940ee27e",
   "metadata": {
    "deletable": false,
    "editable": false,
    "id": "89da5ece"
   },
   "source": [
    "### Обработка аномальных значений"
   ]
  },
  {
   "cell_type": "markdown",
   "id": "c60fea6c",
   "metadata": {
    "deletable": false,
    "editable": false,
    "id": "57964554"
   },
   "source": [
    "**Задание 6. В данных могут встречаться артефакты (аномалии) — значения, которые не отражают действительность и появились по какой-то ошибке. таким артефактом будет отрицательное количество дней трудового стажа в столбце `days_employed`. Для реальных данных это нормально. Обработайте значения в этом столбце: замените все отрицательные значения положительными с помощью метода `abs()`.**"
   ]
  },
  {
   "cell_type": "code",
   "execution_count": 6,
   "id": "c4d59715",
   "metadata": {
    "deletable": false,
    "id": "f6f055bf"
   },
   "outputs": [],
   "source": [
    "data['days_employed'] = data['days_employed'].abs()"
   ]
  },
  {
   "cell_type": "markdown",
   "id": "c4d54659",
   "metadata": {
    "deletable": false,
    "editable": false,
    "id": "6107dd2f"
   },
   "source": [
    "**Задание 7. Для каждого типа занятости выведите медианное значение трудового стажа `days_employed` в днях.**"
   ]
  },
  {
   "cell_type": "code",
   "execution_count": 7,
   "id": "de1327f1",
   "metadata": {
    "deletable": false,
    "id": "85a5faf6",
    "outputId": "801ef80e-522b-4668-f34e-565af7432bcf"
   },
   "outputs": [
    {
     "data": {
      "text/plain": [
       "income_type\n",
       "безработный        366413.652744\n",
       "в декрете            3296.759962\n",
       "госслужащий          2689.368353\n",
       "компаньон            1547.382223\n",
       "пенсионер          365213.306266\n",
       "предприниматель       520.848083\n",
       "сотрудник            1574.202821\n",
       "студент               578.751554\n",
       "Name: days_employed, dtype: float64"
      ]
     },
     "execution_count": 7,
     "metadata": {},
     "output_type": "execute_result"
    }
   ],
   "source": [
    "data.groupby('income_type')['days_employed'].agg('median')"
   ]
  },
  {
   "cell_type": "markdown",
   "id": "9299c245",
   "metadata": {
    "deletable": false,
    "editable": false,
    "id": "38d1a030"
   },
   "source": [
    "У двух типов (безработные и пенсионеры) получатся аномально большие значения. Исправить такие значения сложно, поэтому оставьте их как есть. Тем более этот столбец не понадобится вам для исследования."
   ]
  },
  {
   "cell_type": "markdown",
   "id": "bc24000c",
   "metadata": {
    "deletable": false,
    "editable": false,
    "id": "d8a9f147"
   },
   "source": [
    "**Задание 8. Выведите перечень уникальных значений столбца `children`.**"
   ]
  },
  {
   "cell_type": "code",
   "execution_count": 8,
   "id": "6837c84b",
   "metadata": {
    "deletable": false,
    "id": "ef5056eb",
    "outputId": "6975b15c-7f95-4697-d16d-a0c79b657b03"
   },
   "outputs": [
    {
     "data": {
      "text/plain": [
       "array([ 1,  0,  3,  2, -1,  4, 20,  5])"
      ]
     },
     "execution_count": 8,
     "metadata": {},
     "output_type": "execute_result"
    }
   ],
   "source": [
    "data['children'].unique()"
   ]
  },
  {
   "cell_type": "markdown",
   "id": "819283b1",
   "metadata": {
    "deletable": false,
    "editable": false,
    "id": "40b9ebf2"
   },
   "source": [
    "**Задание 9. В столбце `children` есть два аномальных значения. Удалите строки, в которых встречаются такие аномальные значения из датафрейма `data`.**"
   ]
  },
  {
   "cell_type": "code",
   "execution_count": 9,
   "id": "38727366",
   "metadata": {
    "deletable": false,
    "id": "3ff9801d"
   },
   "outputs": [],
   "source": [
    "data = data[(data['children'] != -1) & (data['children'] != 20)]"
   ]
  },
  {
   "cell_type": "markdown",
   "id": "0d2783e8",
   "metadata": {
    "deletable": false,
    "editable": false,
    "id": "bbc4d0ce"
   },
   "source": [
    "**Задание 10. Ещё раз выведите перечень уникальных значений столбца `children`, чтобы убедиться, что артефакты удалены.**"
   ]
  },
  {
   "cell_type": "code",
   "execution_count": 10,
   "id": "422bd087",
   "metadata": {
    "deletable": false,
    "id": "ad4fa8b7",
    "outputId": "b2097101-d49d-44d9-901b-32a65c9463d1"
   },
   "outputs": [
    {
     "data": {
      "text/plain": [
       "array([1, 0, 3, 2, 4, 5])"
      ]
     },
     "execution_count": 10,
     "metadata": {},
     "output_type": "execute_result"
    }
   ],
   "source": [
    "data['children'].unique()"
   ]
  },
  {
   "cell_type": "markdown",
   "id": "fb52b695",
   "metadata": {
    "deletable": false,
    "editable": false,
    "id": "75440b63"
   },
   "source": [
    "### Удаление пропусков (продолжение)"
   ]
  },
  {
   "cell_type": "markdown",
   "id": "52b70417",
   "metadata": {
    "deletable": false,
    "editable": false,
    "id": "f4ea573f"
   },
   "source": [
    "**Задание 11. Заполните пропуски в столбце `days_employed` медианными значениями по каждого типа занятости `income_type`.**"
   ]
  },
  {
   "cell_type": "code",
   "execution_count": 11,
   "id": "c390d248",
   "metadata": {
    "deletable": false,
    "id": "af6b1a7e"
   },
   "outputs": [],
   "source": [
    "for t in data['income_type'].unique():\n",
    "    data.loc[(data['income_type'] == t) & (data['days_employed'].isna()), 'days_employed'] = \\\n",
    "    data.loc[(data['income_type'] == t), 'days_employed'].median()"
   ]
  },
  {
   "cell_type": "markdown",
   "id": "08218ec2",
   "metadata": {
    "deletable": false,
    "editable": false,
    "id": "2753f40d"
   },
   "source": [
    "**Задание 12. Убедитесь, что все пропуски заполнены. Проверьте себя и ещё раз выведите количество пропущенных значений для каждого столбца с помощью двух методов.**"
   ]
  },
  {
   "cell_type": "code",
   "execution_count": 12,
   "id": "cca77e2d",
   "metadata": {
    "deletable": false,
    "id": "55f78bc2",
    "outputId": "8da1e4e1-358e-4e87-98c9-f261bce0a7b2"
   },
   "outputs": [
    {
     "data": {
      "text/plain": [
       "children            0\n",
       "days_employed       0\n",
       "dob_years           0\n",
       "education           0\n",
       "education_id        0\n",
       "family_status       0\n",
       "family_status_id    0\n",
       "gender              0\n",
       "income_type         0\n",
       "debt                0\n",
       "total_income        0\n",
       "purpose             0\n",
       "dtype: int64"
      ]
     },
     "execution_count": 12,
     "metadata": {},
     "output_type": "execute_result"
    }
   ],
   "source": [
    "data.isna().sum()"
   ]
  },
  {
   "cell_type": "markdown",
   "id": "7c37e8f9",
   "metadata": {
    "deletable": false,
    "editable": false,
    "id": "ddc81e43"
   },
   "source": [
    "### Изменение типов данных"
   ]
  },
  {
   "cell_type": "markdown",
   "id": "9cf7484d",
   "metadata": {
    "deletable": false,
    "editable": false,
    "id": "42d19d24"
   },
   "source": [
    "**Задание 13. Замените вещественный тип данных в столбце `total_income` на целочисленный с помощью метода `astype()`.**"
   ]
  },
  {
   "cell_type": "code",
   "execution_count": 13,
   "id": "ed8d80a3",
   "metadata": {
    "deletable": false,
    "id": "920b65ad"
   },
   "outputs": [],
   "source": [
    "data['total_income'] = data['total_income'].astype(int)"
   ]
  },
  {
   "cell_type": "markdown",
   "id": "c017cbff",
   "metadata": {
    "deletable": false,
    "editable": false,
    "id": "80c420ba"
   },
   "source": [
    "### Обработка дубликатов"
   ]
  },
  {
   "cell_type": "markdown",
   "id": "10cbfa02",
   "metadata": {
    "deletable": false,
    "editable": false
   },
   "source": [
    "**Задание 14. Обработайте неявные дубликаты в столбце `education`. В этом столбце есть одни и те же значения, но записанные по-разному: с использованием заглавных и строчных букв. Приведите их к нижнему регистру. Проверьте остальные столбцы.**"
   ]
  },
  {
   "cell_type": "code",
   "execution_count": 14,
   "id": "1b5fd569",
   "metadata": {
    "deletable": false
   },
   "outputs": [],
   "source": [
    "data['education'] = data['education'].str.lower()"
   ]
  },
  {
   "cell_type": "markdown",
   "id": "94ede5d5",
   "metadata": {
    "deletable": false,
    "editable": false,
    "id": "dc587695"
   },
   "source": [
    "**Задание 15. Выведите на экран количество строк-дубликатов в данных. Если такие строки присутствуют, удалите их.**"
   ]
  },
  {
   "cell_type": "code",
   "execution_count": 15,
   "id": "67ea3a7f",
   "metadata": {
    "deletable": false,
    "id": "3ee445e4",
    "outputId": "9684deba-1934-42d1-99e1-cda61740f822"
   },
   "outputs": [
    {
     "data": {
      "text/plain": [
       "71"
      ]
     },
     "execution_count": 15,
     "metadata": {},
     "output_type": "execute_result"
    }
   ],
   "source": [
    "data.duplicated().sum()"
   ]
  },
  {
   "cell_type": "code",
   "execution_count": 16,
   "id": "4ca8c1df",
   "metadata": {
    "deletable": false,
    "id": "8575fe05"
   },
   "outputs": [],
   "source": [
    "data = data.drop_duplicates()"
   ]
  },
  {
   "cell_type": "markdown",
   "id": "e0d16ae7",
   "metadata": {
    "deletable": false,
    "editable": false,
    "id": "9904cf55"
   },
   "source": [
    "### Категоризация данных"
   ]
  },
  {
   "cell_type": "markdown",
   "id": "35d175c1",
   "metadata": {
    "deletable": false,
    "editable": false,
    "id": "72fcc8a2"
   },
   "source": [
    "**Задание 16. На основании диапазонов, указанных ниже, создайте в датафрейме `data` столбец `total_income_category` с категориями:**\n",
    "\n",
    "- 0–30000 — `'E'`;\n",
    "- 30001–50000 — `'D'`;\n",
    "- 50001–200000 — `'C'`;\n",
    "- 200001–1000000 — `'B'`;\n",
    "- 1000001 и выше — `'A'`.\n",
    "\n",
    "\n",
    "**Например, кредитополучателю с доходом 25000 нужно назначить категорию `'E'`, а клиенту, получающему 235000, — `'B'`. Используйте собственную функцию с именем `categorize_income()` и метод `apply()`.**"
   ]
  },
  {
   "cell_type": "code",
   "execution_count": 17,
   "id": "1459cc63",
   "metadata": {
    "deletable": false,
    "id": "e1771346"
   },
   "outputs": [],
   "source": [
    "def categorize_income(income):\n",
    "    try:\n",
    "        if 0 <= income <= 30000:\n",
    "            return 'E'\n",
    "        elif 30001 <= income <= 50000:\n",
    "            return 'D'\n",
    "        elif 50001 <= income <= 200000:\n",
    "            return 'C'\n",
    "        elif 200001 <= income <= 1000000:\n",
    "            return 'B'\n",
    "        elif income >= 1000001:\n",
    "            return 'A'\n",
    "    except:\n",
    "        pass"
   ]
  },
  {
   "cell_type": "code",
   "execution_count": 18,
   "id": "12639184",
   "metadata": {
    "deletable": false,
    "id": "d5f3586d"
   },
   "outputs": [],
   "source": [
    "data['total_income_category'] = data['total_income'].apply(categorize_income)"
   ]
  },
  {
   "cell_type": "markdown",
   "id": "022f886c",
   "metadata": {
    "deletable": false,
    "editable": false,
    "id": "dde49b5c"
   },
   "source": [
    "**Задание 17. Выведите на экран перечень уникальных целей взятия кредита из столбца `purpose`.**"
   ]
  },
  {
   "cell_type": "code",
   "execution_count": 19,
   "id": "14f3f750",
   "metadata": {
    "deletable": false,
    "id": "f67ce9b3",
    "outputId": "673c12d9-7d7e-4ae0-9812-c622c89dd244"
   },
   "outputs": [
    {
     "data": {
      "text/plain": [
       "array(['покупка жилья', 'приобретение автомобиля',\n",
       "       'дополнительное образование', 'сыграть свадьбу',\n",
       "       'операции с жильем', 'образование', 'на проведение свадьбы',\n",
       "       'покупка жилья для семьи', 'покупка недвижимости',\n",
       "       'покупка коммерческой недвижимости', 'покупка жилой недвижимости',\n",
       "       'строительство собственной недвижимости', 'недвижимость',\n",
       "       'строительство недвижимости', 'на покупку подержанного автомобиля',\n",
       "       'на покупку своего автомобиля',\n",
       "       'операции с коммерческой недвижимостью',\n",
       "       'строительство жилой недвижимости', 'жилье',\n",
       "       'операции со своей недвижимостью', 'автомобили',\n",
       "       'заняться образованием', 'сделка с подержанным автомобилем',\n",
       "       'получение образования', 'автомобиль', 'свадьба',\n",
       "       'получение дополнительного образования', 'покупка своего жилья',\n",
       "       'операции с недвижимостью', 'получение высшего образования',\n",
       "       'свой автомобиль', 'сделка с автомобилем',\n",
       "       'профильное образование', 'высшее образование',\n",
       "       'покупка жилья для сдачи', 'на покупку автомобиля', 'ремонт жилью',\n",
       "       'заняться высшим образованием'], dtype=object)"
      ]
     },
     "execution_count": 19,
     "metadata": {},
     "output_type": "execute_result"
    }
   ],
   "source": [
    "data['purpose'].unique()"
   ]
  },
  {
   "cell_type": "markdown",
   "id": "c976659c",
   "metadata": {
    "deletable": false,
    "editable": false,
    "id": "85d0aef0"
   },
   "source": [
    "**Задание 18. Создайте функцию, которая на основании данных из столбца `purpose` сформирует новый столбец `purpose_category`, в который войдут следующие категории:**\n",
    "\n",
    "- `'операции с автомобилем'`,\n",
    "- `'операции с недвижимостью'`,\n",
    "- `'проведение свадьбы'`,\n",
    "- `'получение образования'`.\n",
    "\n",
    "**Например, если в столбце `purpose` находится подстрока `'на покупку автомобиля'`, то в столбце `purpose_category` должна появиться строка `'операции с автомобилем'`.**\n",
    "\n",
    "**Используйте собственную функцию с именем `categorize_purpose()` и метод `apply()`. Изучите данные в столбце `purpose` и определите, какие подстроки помогут вам правильно определить категорию.**"
   ]
  },
  {
   "cell_type": "code",
   "execution_count": 20,
   "id": "d05e9fdc",
   "metadata": {
    "deletable": false,
    "id": "e149fab4"
   },
   "outputs": [],
   "source": [
    "def categorize_purpose(row):\n",
    "    try:\n",
    "        if 'автом' in row:\n",
    "            return 'операции с автомобилем'\n",
    "        elif 'жил' in row or 'недвиж' in row:\n",
    "            return 'операции с недвижимостью'\n",
    "        elif 'свад' in row:\n",
    "            return 'проведение свадьбы'\n",
    "        elif 'образов' in row:\n",
    "            return 'получение образования'\n",
    "    except:\n",
    "        return 'нет категории'"
   ]
  },
  {
   "cell_type": "code",
   "execution_count": 21,
   "id": "4a7b2384",
   "metadata": {
    "deletable": false,
    "id": "bf36e69b"
   },
   "outputs": [],
   "source": [
    "data['purpose_category'] = data['purpose'].apply(categorize_purpose)"
   ]
  },
  {
   "cell_type": "markdown",
   "id": "423e50c6",
   "metadata": {
    "deletable": false,
    "editable": false,
    "id": "09b242bf"
   },
   "source": [
    "### Шаг 3. Исследуйте данные и ответьте на вопросы"
   ]
  },
  {
   "cell_type": "markdown",
   "id": "67cf086e",
   "metadata": {
    "deletable": false,
    "editable": false,
    "id": "c5d66278"
   },
   "source": [
    "#### 3.1 Есть ли зависимость между количеством детей и возвратом кредита в срок?"
   ]
  },
  {
   "cell_type": "markdown",
   "id": "a47679c3",
   "metadata": {
    "deletable": false,
    "id": "2cacfc4a"
   },
   "source": [
    "Выдвину несколько гипотез, которые можно проверить\n",
    "Гипотеза 1: Люди, у которых есть дети более ответственно подходят к выплатам кредитов\n",
    "    Семейные люди способны брать ответственность, как за себя, так и за других. Это дает больший толчок к выполнению своих обязанностей\n",
    "Гипотеза 2: Многодетные семьи могут иметь проблемы с кредитами\n",
    "    Большее кол-во детей - большие траты"
   ]
  },
  {
   "cell_type": "markdown",
   "id": "0701c727",
   "metadata": {
    "deletable": false,
    "id": "3a6b99ec"
   },
   "source": [
    "**Вывод:** "
   ]
  },
  {
   "cell_type": "markdown",
   "id": "b1682228",
   "metadata": {
    "deletable": false,
    "editable": false,
    "id": "97be82ca"
   },
   "source": [
    "#### 3.2 Есть ли зависимость между семейным положением и возвратом кредита в срок?"
   ]
  },
  {
   "cell_type": "code",
   "execution_count": 22,
   "id": "2cbf6ee9",
   "metadata": {
    "deletable": false,
    "id": "dc3f7ee8"
   },
   "outputs": [
    {
     "name": "stdout",
     "output_type": "stream",
     "text": [
      "Доля просрочек по кредитам у семей с детьми 39%\n",
      "Доля просрочки кредитов у семей без детей 61%\n",
      "Доля просрочки кредитов у кого нет детей больше, чем у тех, у кого есть дети. Гипотеза 1 подтверждена\n"
     ]
    }
   ],
   "source": [
    "sum_debt = data['debt'].sum()\n",
    "debt_with_children = (data.loc[data['children'] != 0, 'debt'].sum() / sum_debt)\n",
    "debt_without_children = (data.loc[data['children'] == 0, 'debt'].sum() / sum_debt)\n",
    "\n",
    "print('Доля просрочек по кредитам у семей с детьми {:.0%}'.format(debt_with_children))\n",
    "print(\"Доля просрочки кредитов у семей без детей {:.0%}\".format(debt_without_children))\n",
    "\n",
    "def debt_depending_on_children():\n",
    "    if debt_without_children > debt_with_children:\n",
    "        print(\"Доля просрочки кредитов у кого нет детей больше, чем у тех, у кого есть дети. Гипотеза 1 подтверждена\")\n",
    "\n",
    "    elif debt_without_children < debt_with_children:\n",
    "        print(\"Доля просрочки кредитов у семей с детьми больше, чем у тех, у кого нет детей. Гипотеза 1 опровергнута\")\n",
    "    \n",
    "debt_depending_on_children()\n"
   ]
  },
  {
   "cell_type": "code",
   "execution_count": 23,
   "id": "54d630cd",
   "metadata": {},
   "outputs": [
    {
     "name": "stdout",
     "output_type": "stream",
     "text": [
      "Доля просрочек по кредитам у многодетных семей с пятью детьми 0%\n"
     ]
    }
   ],
   "source": [
    "sum_debt = data['debt'].count().sum()\n",
    "debt_with_many_children = (data.loc[data['children'] == 5, 'debt'].sum() / sum_debt)\n",
    "print('Доля просрочек по кредитам у многодетных семей с пятью детьми {:.0%}'.format(debt_with_many_children))"
   ]
  },
  {
   "cell_type": "markdown",
   "id": "c07c4139",
   "metadata": {},
   "source": [
    "Получился странный результат, указывающих, что у многодетных семей c 5-ю детьми доля просрочек по кредитам 0 %. \n",
    "Выведем информацию о просрочках кредитов по всем семьям с детьми"
   ]
  },
  {
   "cell_type": "code",
   "execution_count": 24,
   "id": "f01935a6",
   "metadata": {
    "scrolled": true
   },
   "outputs": [
    {
     "data": {
      "text/html": [
       "<div>\n",
       "<style scoped>\n",
       "    .dataframe tbody tr th:only-of-type {\n",
       "        vertical-align: middle;\n",
       "    }\n",
       "\n",
       "    .dataframe tbody tr th {\n",
       "        vertical-align: top;\n",
       "    }\n",
       "\n",
       "    .dataframe thead th {\n",
       "        text-align: right;\n",
       "    }\n",
       "</style>\n",
       "<table border=\"1\" class=\"dataframe\">\n",
       "  <thead>\n",
       "    <tr style=\"text-align: right;\">\n",
       "      <th></th>\n",
       "      <th>Кол-во семей</th>\n",
       "      <th>Кол-во просрочек</th>\n",
       "      <th>доля</th>\n",
       "    </tr>\n",
       "    <tr>\n",
       "      <th>children</th>\n",
       "      <th></th>\n",
       "      <th></th>\n",
       "      <th></th>\n",
       "    </tr>\n",
       "  </thead>\n",
       "  <tbody>\n",
       "    <tr>\n",
       "      <th>5</th>\n",
       "      <td>9</td>\n",
       "      <td>0</td>\n",
       "      <td>0.000</td>\n",
       "    </tr>\n",
       "    <tr>\n",
       "      <th>0</th>\n",
       "      <td>14091</td>\n",
       "      <td>1063</td>\n",
       "      <td>0.075</td>\n",
       "    </tr>\n",
       "    <tr>\n",
       "      <th>3</th>\n",
       "      <td>330</td>\n",
       "      <td>27</td>\n",
       "      <td>0.082</td>\n",
       "    </tr>\n",
       "    <tr>\n",
       "      <th>1</th>\n",
       "      <td>4808</td>\n",
       "      <td>444</td>\n",
       "      <td>0.092</td>\n",
       "    </tr>\n",
       "    <tr>\n",
       "      <th>2</th>\n",
       "      <td>2052</td>\n",
       "      <td>194</td>\n",
       "      <td>0.095</td>\n",
       "    </tr>\n",
       "    <tr>\n",
       "      <th>4</th>\n",
       "      <td>41</td>\n",
       "      <td>4</td>\n",
       "      <td>0.098</td>\n",
       "    </tr>\n",
       "  </tbody>\n",
       "</table>\n",
       "</div>"
      ],
      "text/plain": [
       "          Кол-во семей  Кол-во просрочек   доля\n",
       "children                                       \n",
       "5                    9                 0  0.000\n",
       "0                14091              1063  0.075\n",
       "3                  330                27  0.082\n",
       "1                 4808               444  0.092\n",
       "2                 2052               194  0.095\n",
       "4                   41                 4  0.098"
      ]
     },
     "metadata": {},
     "output_type": "display_data"
    }
   ],
   "source": [
    "cost = data.pivot_table(index = [ 'children'], values = 'debt', aggfunc = {'count','sum'})\n",
    "cost = cost.rename(columns={'count':'Кол-во семей','sum':'Кол-во просрочек'})\n",
    "cost['доля'] = round(cost['Кол-во просрочек']/cost['Кол-во семей'], 3)\n",
    "cost = cost.sort_values(by='доля', ascending=True)\n",
    "display(cost)"
   ]
  },
  {
   "cell_type": "markdown",
   "id": "8ad82303",
   "metadata": {
    "deletable": false,
    "id": "1cef7837"
   },
   "source": [
    "**Вывод:** "
   ]
  },
  {
   "cell_type": "markdown",
   "id": "6e26ef4c",
   "metadata": {},
   "source": [
    "Можно сделать вывод, что с ростом детей доля просрочек по кредитам растет. Таким образом, у многодетных семей \n",
    "действительно есть проблемы с выплатами кредитов.\n",
    "Что касается семей с пятью детьми - их слишком было мало в выборке, чтобы сделать вывод, что семьи с 5-ю \n",
    "детьми отлично выплачивают кредиты."
   ]
  },
  {
   "cell_type": "markdown",
   "id": "b90942aa",
   "metadata": {},
   "source": [
    "Проверим, как семейное положение влияет на просрочки по кредитам. "
   ]
  },
  {
   "cell_type": "code",
   "execution_count": 25,
   "id": "498f0185",
   "metadata": {},
   "outputs": [
    {
     "data": {
      "text/html": [
       "<div>\n",
       "<style scoped>\n",
       "    .dataframe tbody tr th:only-of-type {\n",
       "        vertical-align: middle;\n",
       "    }\n",
       "\n",
       "    .dataframe tbody tr th {\n",
       "        vertical-align: top;\n",
       "    }\n",
       "\n",
       "    .dataframe thead th {\n",
       "        text-align: right;\n",
       "    }\n",
       "</style>\n",
       "<table border=\"1\" class=\"dataframe\">\n",
       "  <thead>\n",
       "    <tr style=\"text-align: right;\">\n",
       "      <th></th>\n",
       "      <th>total</th>\n",
       "      <th>target</th>\n",
       "      <th>share</th>\n",
       "    </tr>\n",
       "    <tr>\n",
       "      <th>family_status</th>\n",
       "      <th></th>\n",
       "      <th></th>\n",
       "      <th></th>\n",
       "    </tr>\n",
       "  </thead>\n",
       "  <tbody>\n",
       "    <tr>\n",
       "      <th>вдовец / вдова</th>\n",
       "      <td>951</td>\n",
       "      <td>63</td>\n",
       "      <td>0.066</td>\n",
       "    </tr>\n",
       "    <tr>\n",
       "      <th>в разводе</th>\n",
       "      <td>1189</td>\n",
       "      <td>84</td>\n",
       "      <td>0.071</td>\n",
       "    </tr>\n",
       "    <tr>\n",
       "      <th>женат / замужем</th>\n",
       "      <td>12261</td>\n",
       "      <td>927</td>\n",
       "      <td>0.076</td>\n",
       "    </tr>\n",
       "    <tr>\n",
       "      <th>гражданский брак</th>\n",
       "      <td>4134</td>\n",
       "      <td>385</td>\n",
       "      <td>0.093</td>\n",
       "    </tr>\n",
       "    <tr>\n",
       "      <th>Не женат / не замужем</th>\n",
       "      <td>2796</td>\n",
       "      <td>273</td>\n",
       "      <td>0.098</td>\n",
       "    </tr>\n",
       "  </tbody>\n",
       "</table>\n",
       "</div>"
      ],
      "text/plain": [
       "                       total  target  share\n",
       "family_status                              \n",
       "вдовец / вдова           951      63  0.066\n",
       "в разводе               1189      84  0.071\n",
       "женат / замужем        12261     927  0.076\n",
       "гражданский брак        4134     385  0.093\n",
       "Не женат / не замужем   2796     273  0.098"
      ]
     },
     "metadata": {},
     "output_type": "display_data"
    }
   ],
   "source": [
    "target = data.pivot_table(index = [ 'family_status'], values = 'debt', aggfunc = {'count','sum'})\n",
    "target = target.rename(columns={'count':'total','sum':'target'})\n",
    "target['share'] = round(target['target']/target['total'], 3)\n",
    "target = target.sort_values(by='share', ascending=True)\n",
    "display(target)"
   ]
  },
  {
   "cell_type": "markdown",
   "id": "6df60318",
   "metadata": {},
   "source": [
    "Вывод: Одинокие люди хуже других выплачивают кредиты. По-видимому, брак - это способность принять на себя ответственность и люди, которые не были ни разу в браке - это либо молодые, еще не устоявшиеся, или люди, которые, в принципе, избегают ответственности. Отсюда склонность к невыплатам. Аналогично с гражданским браком, это люди, которые не до конца берут на себя ответственность. При этом лучше всех справляются вдовы/вдовцы, это люди, которые понимают, что все, что есть не вечно, им уже неоткуда ждать помощь. Вполне возможно, что это внезапные меры взять кредит, а не показатель того, что человек не способен брать на себя ответственность, что касается и разводов. \n",
    "Люди, которые находятся в браке, имеют также задолженности, здесь может влиять на невыплаты к примеру наличие детей. "
   ]
  },
  {
   "cell_type": "markdown",
   "id": "65a922eb",
   "metadata": {
    "deletable": false,
    "editable": false,
    "id": "1e8b2fca"
   },
   "source": [
    "#### 3.3 Есть ли зависимость между уровнем дохода и возвратом кредита в срок?"
   ]
  },
  {
   "cell_type": "markdown",
   "id": "2e390371",
   "metadata": {
    "deletable": false,
    "id": "cd7e3720"
   },
   "source": [
    "Гипотеза1: Чем больше доход, тем человек меньше имеет задолженностей по кредитам"
   ]
  },
  {
   "cell_type": "code",
   "execution_count": 26,
   "id": "b13e38e2",
   "metadata": {},
   "outputs": [
    {
     "data": {
      "text/html": [
       "<div>\n",
       "<style scoped>\n",
       "    .dataframe tbody tr th:only-of-type {\n",
       "        vertical-align: middle;\n",
       "    }\n",
       "\n",
       "    .dataframe tbody tr th {\n",
       "        vertical-align: top;\n",
       "    }\n",
       "\n",
       "    .dataframe thead th {\n",
       "        text-align: right;\n",
       "    }\n",
       "</style>\n",
       "<table border=\"1\" class=\"dataframe\">\n",
       "  <thead>\n",
       "    <tr style=\"text-align: right;\">\n",
       "      <th></th>\n",
       "      <th>total</th>\n",
       "      <th>target</th>\n",
       "      <th>share</th>\n",
       "    </tr>\n",
       "    <tr>\n",
       "      <th>total_income_category</th>\n",
       "      <th></th>\n",
       "      <th></th>\n",
       "      <th></th>\n",
       "    </tr>\n",
       "  </thead>\n",
       "  <tbody>\n",
       "    <tr>\n",
       "      <th>D</th>\n",
       "      <td>349</td>\n",
       "      <td>21</td>\n",
       "      <td>0.060</td>\n",
       "    </tr>\n",
       "    <tr>\n",
       "      <th>B</th>\n",
       "      <td>5014</td>\n",
       "      <td>354</td>\n",
       "      <td>0.071</td>\n",
       "    </tr>\n",
       "    <tr>\n",
       "      <th>A</th>\n",
       "      <td>25</td>\n",
       "      <td>2</td>\n",
       "      <td>0.080</td>\n",
       "    </tr>\n",
       "    <tr>\n",
       "      <th>C</th>\n",
       "      <td>15921</td>\n",
       "      <td>1353</td>\n",
       "      <td>0.085</td>\n",
       "    </tr>\n",
       "    <tr>\n",
       "      <th>E</th>\n",
       "      <td>22</td>\n",
       "      <td>2</td>\n",
       "      <td>0.091</td>\n",
       "    </tr>\n",
       "  </tbody>\n",
       "</table>\n",
       "</div>"
      ],
      "text/plain": [
       "                       total  target  share\n",
       "total_income_category                      \n",
       "D                        349      21  0.060\n",
       "B                       5014     354  0.071\n",
       "A                         25       2  0.080\n",
       "C                      15921    1353  0.085\n",
       "E                         22       2  0.091"
      ]
     },
     "metadata": {},
     "output_type": "display_data"
    }
   ],
   "source": [
    "target = data.pivot_table(index = [ 'total_income_category'], values = 'debt', aggfunc = {'count','sum'})\n",
    "target = target.rename(columns={'count':'total','sum':'target'})\n",
    "target['share'] = round(target['target']/target['total'], 3)\n",
    "target = target.sort_values(by='share', ascending=True)\n",
    "display(target)"
   ]
  },
  {
   "cell_type": "markdown",
   "id": "edd0fbef",
   "metadata": {},
   "source": [
    "БЫЛО: Нет прямой зависимости просрочек кредитов от увеличения дохода. При этом люди, из самой низкой категории заработков действительно\n",
    "справляются хуже всего с выплатами кредитов.\n",
    "Лучше всего справляется категория E. Пограничная категория, у которых есть заработок, но небольшой, видимо \n",
    "это стремление не съехать в категорию E. Можно даже сделать вывод на основе данных, что здесь с ростом дохода растет доля просрочек\n",
    "по кредитам(от D до A). Возможно, что категория C выбилась по причине огромного кол-ва людей в выборке.\n",
    "СТАЛО: По группам А, D, E крайне мало данных, чтобы на них опираться. Однако, прослеживается тенденция по категории B и C увеличение просрочек с увеличением заработка. Но в целом, выборка неинформативна для того, чтобы сделать вывод."
   ]
  },
  {
   "cell_type": "markdown",
   "id": "134c2f79",
   "metadata": {
    "deletable": false,
    "id": "e8593def"
   },
   "source": [
    "**Вывод:** "
   ]
  },
  {
   "cell_type": "markdown",
   "id": "ff713017",
   "metadata": {
    "deletable": false,
    "editable": false,
    "id": "99ecbd1f"
   },
   "source": [
    "#### 3.4 Как разные цели кредита влияют на его возврат в срок?"
   ]
  },
  {
   "cell_type": "code",
   "execution_count": 27,
   "id": "373ed995",
   "metadata": {
    "deletable": false,
    "id": "2b687290"
   },
   "outputs": [
    {
     "data": {
      "text/html": [
       "<div>\n",
       "<style scoped>\n",
       "    .dataframe tbody tr th:only-of-type {\n",
       "        vertical-align: middle;\n",
       "    }\n",
       "\n",
       "    .dataframe tbody tr th {\n",
       "        vertical-align: top;\n",
       "    }\n",
       "\n",
       "    .dataframe thead th {\n",
       "        text-align: right;\n",
       "    }\n",
       "</style>\n",
       "<table border=\"1\" class=\"dataframe\">\n",
       "  <thead>\n",
       "    <tr style=\"text-align: right;\">\n",
       "      <th></th>\n",
       "      <th>total</th>\n",
       "      <th>target</th>\n",
       "      <th>share</th>\n",
       "    </tr>\n",
       "    <tr>\n",
       "      <th>purpose_category</th>\n",
       "      <th></th>\n",
       "      <th></th>\n",
       "      <th></th>\n",
       "    </tr>\n",
       "  </thead>\n",
       "  <tbody>\n",
       "    <tr>\n",
       "      <th>операции с недвижимостью</th>\n",
       "      <td>10751</td>\n",
       "      <td>780</td>\n",
       "      <td>0.073</td>\n",
       "    </tr>\n",
       "    <tr>\n",
       "      <th>проведение свадьбы</th>\n",
       "      <td>2313</td>\n",
       "      <td>183</td>\n",
       "      <td>0.079</td>\n",
       "    </tr>\n",
       "    <tr>\n",
       "      <th>операции с автомобилем</th>\n",
       "      <td>4279</td>\n",
       "      <td>400</td>\n",
       "      <td>0.093</td>\n",
       "    </tr>\n",
       "    <tr>\n",
       "      <th>получение образования</th>\n",
       "      <td>3988</td>\n",
       "      <td>369</td>\n",
       "      <td>0.093</td>\n",
       "    </tr>\n",
       "  </tbody>\n",
       "</table>\n",
       "</div>"
      ],
      "text/plain": [
       "                          total  target  share\n",
       "purpose_category                              \n",
       "операции с недвижимостью  10751     780  0.073\n",
       "проведение свадьбы         2313     183  0.079\n",
       "операции с автомобилем     4279     400  0.093\n",
       "получение образования      3988     369  0.093"
      ]
     },
     "metadata": {},
     "output_type": "display_data"
    }
   ],
   "source": [
    "target = data.pivot_table(index = [ 'purpose_category'], values = 'debt', aggfunc = {'count','sum'})\n",
    "target = target.rename(columns={'count':'total','sum':'target'})\n",
    "target['share'] = round(target['target']/target['total'], 3)\n",
    "target = target.sort_values(by='share', ascending=True)\n",
    "display(target)"
   ]
  },
  {
   "cell_type": "markdown",
   "id": "88b9baaf",
   "metadata": {
    "deletable": false,
    "id": "b4bb2ce6"
   },
   "source": [
    "**Вывод:** "
   ]
  },
  {
   "cell_type": "markdown",
   "id": "5e90524e",
   "metadata": {},
   "source": [
    "Лучше всего справляются с выплатами, когда берут кредиты на жилье. Видимо страх остаться на улице выше, чем повышение комфорта. \n",
    "На операции с автомобилем и получение образования вышла одинаковая доля просрочек - повышение комфорта - это не закрытие\n",
    "базовых потребностей. Здесь самая большая доля просрочек."
   ]
  },
  {
   "cell_type": "markdown",
   "id": "02cf3c34",
   "metadata": {
    "deletable": false,
    "editable": false,
    "id": "09c3ac4c"
   },
   "source": [
    "#### 3.5 Приведите возможные причины появления пропусков в исходных данных."
   ]
  },
  {
   "cell_type": "markdown",
   "id": "5c7fc2d7",
   "metadata": {
    "deletable": false,
    "id": "9da2ceda"
   },
   "source": [
    "*Ответ:* Пропуски были в столбцах days_employed и total_income. Здесь можно учитывать человеческий фактор - человек не захотел \n",
    "отвечать. "
   ]
  },
  {
   "cell_type": "markdown",
   "id": "3444a2e0",
   "metadata": {},
   "source": [
    "Возможно данные пришли из разных источников, в одном из которых не требовалось указывать данные категории"
   ]
  },
  {
   "cell_type": "markdown",
   "id": "f90b6ef2",
   "metadata": {
    "deletable": false,
    "editable": false,
    "id": "7b0487d6"
   },
   "source": [
    "#### 3.6 Объясните, почему заполнить пропуски медианным значением — лучшее решение для количественных переменных."
   ]
  },
  {
   "cell_type": "raw",
   "id": "545ffd36",
   "metadata": {
    "deletable": false,
    "id": "7ecf2b8e"
   },
   "source": [
    "*Ответ:* Причина в том, что есть сильно выбивающиеся значения и нулевые. Аномальные для общей выборки. Средняя выборка не учитывает разброс данных"
   ]
  },
  {
   "cell_type": "markdown",
   "id": "03589f94",
   "metadata": {
    "deletable": false,
    "editable": false,
    "id": "6db5255a"
   },
   "source": [
    "### Шаг 4: общий вывод."
   ]
  },
  {
   "cell_type": "markdown",
   "id": "4e7bb7c1",
   "metadata": {},
   "source": [
    "Целью анализа являлось определить, как влияют различные факторы на долги/просрочки по кредитам - семейное положение, \n",
    "уровень дохода, кол-во детей и цели, под которые взят кредит.\n",
    "Перед анализом была проведена предобработка данных, так как в данных были обнаружены пропуски в столбцах с данными о доходах и кол-ве проработанных дней. Кол-во пропусков в этих столбцах оказалось одинаковым. Возможно данные пришли из разных источников, где не требовалось заполнять данные категории. Пропуски в данных о доходах были заменены медианным значением с аналогичном типом занятости. \n",
    "Также в проработанных днях встретились аномальные значения - отрицательные числа. Они были заменены на положительные значения. Эта категория не участвовала в общем анализе.\n",
    "По кол-ву детей доля выплат кредитов находится в интервале значений - от 0,075 до 0,098, где доля просрочек росла с увеличением детей. Чем больше детей, тем больше различных финансовых трудностей\n",
    "Для семей, у которых оказалось 5 детей, доля просрочек равна нулю, но так как в выборке участвовало всего 9 людей, это не показательная информация.\n",
    "Семейное положение - просрочки по кредитам находятся в пределах от 0,066 до 0,098. Наибольшие просрочки приходятся на людей, которые никогда не были в официальном браке. Лучше всех справляются вдовы/вдовцы, далее идут люди, которые были в разводе, далее люди, которые замужем/женаты, гражданский брак, неженатые/не замужние. \n",
    "По уровню дохода вышла не информативная выборка, так как кол-во участвующих сильно рознилось, чтобы сделать вывод о прямой зависимости уровня дохода и выплат по кредитам. Однако, из полученной выборки получилось, что самая маленькая доля выплат по кредитам у людей с самым низким доходом до 30 к. \n",
    "По целям на кредиты - просрочки находятся в пределах от 0,073 до 0,093. Лучше всего справляются люди, взявшие кредиты на ипотеку, хуже всех справляются люди, взявшие кредиты на образование или операции с автомобилем, вышла одинаковая доля - 0,093. Люди, которые закрывают базовые потребности более замотивированы, чем люди, которые повышают свой комфорт. \n",
    "Таким образом, нельзя сказать, что есть абсолютно точная прямая зависимость от каждого фактора. При этом при сочетании нескольких факторов могут быть гарантированные задержки в выплате кредитов. Наприме, неженатый мужчина с 4 детьми, взявший кредит себе не образование и т.д."
   ]
  }
 ],
 "metadata": {
  "ExecuteTimeLog": [
   {
    "duration": 51,
    "start_time": "2023-07-20T03:40:07.931Z"
   },
   {
    "duration": 463,
    "start_time": "2023-07-20T03:40:18.102Z"
   },
   {
    "duration": 9,
    "start_time": "2023-07-20T03:40:31.088Z"
   },
   {
    "duration": 66,
    "start_time": "2023-07-20T03:40:56.431Z"
   },
   {
    "duration": 16,
    "start_time": "2023-07-20T03:40:58.467Z"
   },
   {
    "duration": 14,
    "start_time": "2023-07-20T03:41:01.514Z"
   },
   {
    "duration": 11,
    "start_time": "2023-07-20T03:41:03.172Z"
   },
   {
    "duration": 33,
    "start_time": "2023-07-20T03:41:05.237Z"
   },
   {
    "duration": 4,
    "start_time": "2023-07-20T03:41:06.993Z"
   },
   {
    "duration": 9,
    "start_time": "2023-07-20T03:41:07.786Z"
   },
   {
    "duration": 4,
    "start_time": "2023-07-20T03:41:09.941Z"
   },
   {
    "duration": 7,
    "start_time": "2023-07-20T03:41:11.050Z"
   },
   {
    "duration": 4,
    "start_time": "2023-07-20T03:41:12.250Z"
   },
   {
    "duration": 33,
    "start_time": "2023-07-20T03:41:14.544Z"
   },
   {
    "duration": 11,
    "start_time": "2023-07-20T03:41:15.315Z"
   },
   {
    "duration": 4,
    "start_time": "2023-07-20T03:41:17.070Z"
   },
   {
    "duration": 13,
    "start_time": "2023-07-20T03:41:17.766Z"
   },
   {
    "duration": 18,
    "start_time": "2023-07-20T03:41:19.727Z"
   },
   {
    "duration": 15,
    "start_time": "2023-07-20T03:41:20.497Z"
   },
   {
    "duration": 3,
    "start_time": "2023-07-20T03:41:22.641Z"
   },
   {
    "duration": 11,
    "start_time": "2023-07-20T03:41:23.431Z"
   },
   {
    "duration": 5,
    "start_time": "2023-07-20T03:41:24.562Z"
   },
   {
    "duration": 3,
    "start_time": "2023-07-20T03:41:26.880Z"
   },
   {
    "duration": 8,
    "start_time": "2023-07-20T03:41:28.682Z"
   },
   {
    "duration": 230,
    "start_time": "2023-07-20T04:03:54.511Z"
   },
   {
    "duration": 315,
    "start_time": "2023-07-20T04:04:02.137Z"
   },
   {
    "duration": 408,
    "start_time": "2023-07-20T04:04:15.877Z"
   },
   {
    "duration": 316,
    "start_time": "2023-07-20T04:04:23.508Z"
   },
   {
    "duration": 8,
    "start_time": "2023-07-20T04:04:27.375Z"
   },
   {
    "duration": 7,
    "start_time": "2023-07-20T04:05:18.265Z"
   },
   {
    "duration": 5,
    "start_time": "2023-07-20T04:07:58.501Z"
   },
   {
    "duration": 5,
    "start_time": "2023-07-20T04:09:32.474Z"
   },
   {
    "duration": 7,
    "start_time": "2023-07-20T04:10:07.274Z"
   },
   {
    "duration": 8,
    "start_time": "2023-07-20T04:10:13.703Z"
   },
   {
    "duration": 7,
    "start_time": "2023-07-20T04:10:24.067Z"
   },
   {
    "duration": 41,
    "start_time": "2023-07-20T04:18:25.362Z"
   },
   {
    "duration": 19,
    "start_time": "2023-07-20T04:18:31.052Z"
   },
   {
    "duration": 21,
    "start_time": "2023-07-20T04:18:46.541Z"
   },
   {
    "duration": 17,
    "start_time": "2023-07-20T04:19:06.141Z"
   },
   {
    "duration": 13,
    "start_time": "2023-07-20T04:23:20.608Z"
   },
   {
    "duration": 5,
    "start_time": "2023-07-20T04:23:36.174Z"
   },
   {
    "duration": 5,
    "start_time": "2023-07-20T04:23:43.479Z"
   },
   {
    "duration": 5,
    "start_time": "2023-07-20T04:23:46.658Z"
   },
   {
    "duration": 7,
    "start_time": "2023-07-20T04:28:38.445Z"
   },
   {
    "duration": 8,
    "start_time": "2023-07-20T04:28:46.252Z"
   },
   {
    "duration": 7,
    "start_time": "2023-07-20T04:28:57.953Z"
   },
   {
    "duration": 20,
    "start_time": "2023-07-20T04:33:45.637Z"
   },
   {
    "duration": 23,
    "start_time": "2023-07-20T04:43:01.651Z"
   },
   {
    "duration": 27,
    "start_time": "2023-07-20T04:43:41.469Z"
   },
   {
    "duration": 582,
    "start_time": "2023-07-20T08:24:00.239Z"
   },
   {
    "duration": 27,
    "start_time": "2023-07-20T08:24:00.823Z"
   },
   {
    "duration": 41,
    "start_time": "2023-07-20T08:24:00.852Z"
   },
   {
    "duration": 33,
    "start_time": "2023-07-20T08:24:00.896Z"
   },
   {
    "duration": 70,
    "start_time": "2023-07-20T08:24:00.931Z"
   },
   {
    "duration": 14,
    "start_time": "2023-07-20T08:24:01.003Z"
   },
   {
    "duration": 46,
    "start_time": "2023-07-20T08:24:01.019Z"
   },
   {
    "duration": 44,
    "start_time": "2023-07-20T08:24:01.067Z"
   },
   {
    "duration": 53,
    "start_time": "2023-07-20T08:24:01.113Z"
   },
   {
    "duration": 55,
    "start_time": "2023-07-20T08:24:01.170Z"
   },
   {
    "duration": 91,
    "start_time": "2023-07-20T08:24:01.226Z"
   },
   {
    "duration": 12,
    "start_time": "2023-07-20T08:24:01.319Z"
   },
   {
    "duration": 22,
    "start_time": "2023-07-20T08:24:01.333Z"
   },
   {
    "duration": 49,
    "start_time": "2023-07-20T08:24:01.358Z"
   },
   {
    "duration": 81,
    "start_time": "2023-07-20T08:24:01.408Z"
   },
   {
    "duration": 18,
    "start_time": "2023-07-20T08:24:01.491Z"
   },
   {
    "duration": 23,
    "start_time": "2023-07-20T08:24:01.511Z"
   },
   {
    "duration": 48,
    "start_time": "2023-07-20T08:24:01.536Z"
   },
   {
    "duration": 58,
    "start_time": "2023-07-20T08:24:01.586Z"
   },
   {
    "duration": 46,
    "start_time": "2023-07-20T08:24:01.646Z"
   },
   {
    "duration": 119,
    "start_time": "2023-07-20T08:24:01.694Z"
   },
   {
    "duration": 139,
    "start_time": "2023-07-20T08:24:01.815Z"
   },
   {
    "duration": 0,
    "start_time": "2023-07-20T08:24:01.956Z"
   },
   {
    "duration": 0,
    "start_time": "2023-07-20T08:24:01.957Z"
   },
   {
    "duration": 0,
    "start_time": "2023-07-20T08:24:01.958Z"
   },
   {
    "duration": 0,
    "start_time": "2023-07-20T08:24:01.960Z"
   },
   {
    "duration": 0,
    "start_time": "2023-07-20T08:24:01.961Z"
   },
   {
    "duration": 1,
    "start_time": "2023-07-20T08:24:01.962Z"
   },
   {
    "duration": 0,
    "start_time": "2023-07-20T08:24:01.963Z"
   },
   {
    "duration": 0,
    "start_time": "2023-07-20T08:24:01.965Z"
   },
   {
    "duration": 0,
    "start_time": "2023-07-20T08:24:01.965Z"
   },
   {
    "duration": 0,
    "start_time": "2023-07-20T08:24:01.966Z"
   },
   {
    "duration": 491,
    "start_time": "2023-07-23T06:00:38.931Z"
   },
   {
    "duration": 20,
    "start_time": "2023-07-23T06:00:39.424Z"
   },
   {
    "duration": 13,
    "start_time": "2023-07-23T06:00:39.445Z"
   },
   {
    "duration": 18,
    "start_time": "2023-07-23T06:00:39.460Z"
   },
   {
    "duration": 35,
    "start_time": "2023-07-23T06:00:39.480Z"
   },
   {
    "duration": 3,
    "start_time": "2023-07-23T06:00:39.516Z"
   },
   {
    "duration": 13,
    "start_time": "2023-07-23T06:00:39.521Z"
   },
   {
    "duration": 7,
    "start_time": "2023-07-23T06:00:39.535Z"
   },
   {
    "duration": 13,
    "start_time": "2023-07-23T06:00:39.544Z"
   },
   {
    "duration": 10,
    "start_time": "2023-07-23T06:00:39.561Z"
   },
   {
    "duration": 35,
    "start_time": "2023-07-23T06:00:39.574Z"
   },
   {
    "duration": 9,
    "start_time": "2023-07-23T06:00:39.610Z"
   },
   {
    "duration": 4,
    "start_time": "2023-07-23T06:00:39.620Z"
   },
   {
    "duration": 15,
    "start_time": "2023-07-23T06:00:39.625Z"
   },
   {
    "duration": 48,
    "start_time": "2023-07-23T06:00:39.642Z"
   },
   {
    "duration": 15,
    "start_time": "2023-07-23T06:00:39.692Z"
   },
   {
    "duration": 3,
    "start_time": "2023-07-23T06:00:39.708Z"
   },
   {
    "duration": 10,
    "start_time": "2023-07-23T06:00:39.713Z"
   },
   {
    "duration": 5,
    "start_time": "2023-07-23T06:00:39.724Z"
   },
   {
    "duration": 3,
    "start_time": "2023-07-23T06:00:39.731Z"
   },
   {
    "duration": 12,
    "start_time": "2023-07-23T06:00:39.735Z"
   },
   {
    "duration": 31,
    "start_time": "2023-07-23T06:00:39.748Z"
   },
   {
    "duration": 4,
    "start_time": "2023-07-23T06:00:39.781Z"
   },
   {
    "duration": 22,
    "start_time": "2023-07-23T06:00:39.786Z"
   },
   {
    "duration": 19,
    "start_time": "2023-07-23T06:00:39.810Z"
   },
   {
    "duration": 45,
    "start_time": "2023-07-23T06:00:39.830Z"
   },
   {
    "duration": 141,
    "start_time": "2023-07-23T06:00:39.880Z"
   },
   {
    "duration": 478,
    "start_time": "2023-07-23T06:01:03.478Z"
   },
   {
    "duration": 32,
    "start_time": "2023-07-23T06:01:03.958Z"
   },
   {
    "duration": 23,
    "start_time": "2023-07-23T06:01:03.992Z"
   },
   {
    "duration": 13,
    "start_time": "2023-07-23T06:01:04.018Z"
   },
   {
    "duration": 74,
    "start_time": "2023-07-23T06:01:04.034Z"
   },
   {
    "duration": 5,
    "start_time": "2023-07-23T06:01:04.110Z"
   },
   {
    "duration": 16,
    "start_time": "2023-07-23T06:01:04.116Z"
   },
   {
    "duration": 6,
    "start_time": "2023-07-23T06:01:04.134Z"
   },
   {
    "duration": 16,
    "start_time": "2023-07-23T06:01:04.142Z"
   },
   {
    "duration": 9,
    "start_time": "2023-07-23T06:01:04.160Z"
   },
   {
    "duration": 45,
    "start_time": "2023-07-23T06:01:04.172Z"
   },
   {
    "duration": 15,
    "start_time": "2023-07-23T06:01:04.219Z"
   },
   {
    "duration": 8,
    "start_time": "2023-07-23T06:01:04.235Z"
   },
   {
    "duration": 27,
    "start_time": "2023-07-23T06:01:04.245Z"
   },
   {
    "duration": 28,
    "start_time": "2023-07-23T06:01:04.273Z"
   },
   {
    "duration": 16,
    "start_time": "2023-07-23T06:01:04.303Z"
   },
   {
    "duration": 5,
    "start_time": "2023-07-23T06:01:04.320Z"
   },
   {
    "duration": 12,
    "start_time": "2023-07-23T06:01:04.326Z"
   },
   {
    "duration": 27,
    "start_time": "2023-07-23T06:01:04.339Z"
   },
   {
    "duration": 12,
    "start_time": "2023-07-23T06:01:04.367Z"
   },
   {
    "duration": 11,
    "start_time": "2023-07-23T06:01:04.381Z"
   },
   {
    "duration": 6,
    "start_time": "2023-07-23T06:01:04.394Z"
   },
   {
    "duration": 5,
    "start_time": "2023-07-23T06:01:04.402Z"
   },
   {
    "duration": 22,
    "start_time": "2023-07-23T06:01:04.408Z"
   },
   {
    "duration": 44,
    "start_time": "2023-07-23T06:01:04.431Z"
   },
   {
    "duration": 20,
    "start_time": "2023-07-23T06:01:04.483Z"
   },
   {
    "duration": 27,
    "start_time": "2023-07-23T06:06:15.365Z"
   },
   {
    "duration": 448,
    "start_time": "2023-07-23T06:52:30.206Z"
   },
   {
    "duration": 27,
    "start_time": "2023-07-23T06:52:30.656Z"
   },
   {
    "duration": 38,
    "start_time": "2023-07-23T06:52:30.685Z"
   },
   {
    "duration": 27,
    "start_time": "2023-07-23T06:52:30.725Z"
   },
   {
    "duration": 74,
    "start_time": "2023-07-23T06:52:30.754Z"
   },
   {
    "duration": 30,
    "start_time": "2023-07-23T06:52:30.829Z"
   },
   {
    "duration": 44,
    "start_time": "2023-07-23T06:52:30.860Z"
   },
   {
    "duration": 43,
    "start_time": "2023-07-23T06:52:30.905Z"
   },
   {
    "duration": 47,
    "start_time": "2023-07-23T06:52:30.950Z"
   },
   {
    "duration": 35,
    "start_time": "2023-07-23T06:52:30.999Z"
   },
   {
    "duration": 83,
    "start_time": "2023-07-23T06:52:31.035Z"
   },
   {
    "duration": 15,
    "start_time": "2023-07-23T06:52:31.120Z"
   },
   {
    "duration": 20,
    "start_time": "2023-07-23T06:52:31.137Z"
   },
   {
    "duration": 38,
    "start_time": "2023-07-23T06:52:31.159Z"
   },
   {
    "duration": 49,
    "start_time": "2023-07-23T06:52:31.199Z"
   },
   {
    "duration": 43,
    "start_time": "2023-07-23T06:52:31.250Z"
   },
   {
    "duration": 18,
    "start_time": "2023-07-23T06:52:31.295Z"
   },
   {
    "duration": 32,
    "start_time": "2023-07-23T06:52:31.315Z"
   },
   {
    "duration": 34,
    "start_time": "2023-07-23T06:52:31.349Z"
   },
   {
    "duration": 5,
    "start_time": "2023-07-23T06:52:31.385Z"
   },
   {
    "duration": 21,
    "start_time": "2023-07-23T06:52:31.392Z"
   },
   {
    "duration": 20,
    "start_time": "2023-07-23T06:52:31.414Z"
   },
   {
    "duration": 28,
    "start_time": "2023-07-23T06:52:31.436Z"
   },
   {
    "duration": 36,
    "start_time": "2023-07-23T06:52:31.466Z"
   },
   {
    "duration": 19,
    "start_time": "2023-07-23T06:52:31.503Z"
   },
   {
    "duration": 20,
    "start_time": "2023-07-23T06:52:31.524Z"
   },
   {
    "duration": 34,
    "start_time": "2023-07-23T06:52:31.545Z"
   },
   {
    "duration": 437,
    "start_time": "2023-07-23T09:49:53.068Z"
   },
   {
    "duration": 20,
    "start_time": "2023-07-23T09:49:53.507Z"
   },
   {
    "duration": 18,
    "start_time": "2023-07-23T09:49:53.528Z"
   },
   {
    "duration": 14,
    "start_time": "2023-07-23T09:49:53.547Z"
   },
   {
    "duration": 36,
    "start_time": "2023-07-23T09:49:53.563Z"
   },
   {
    "duration": 3,
    "start_time": "2023-07-23T09:49:53.601Z"
   },
   {
    "duration": 10,
    "start_time": "2023-07-23T09:49:53.605Z"
   },
   {
    "duration": 9,
    "start_time": "2023-07-23T09:49:53.616Z"
   },
   {
    "duration": 9,
    "start_time": "2023-07-23T09:49:53.631Z"
   },
   {
    "duration": 9,
    "start_time": "2023-07-23T09:49:53.642Z"
   },
   {
    "duration": 45,
    "start_time": "2023-07-23T09:49:53.652Z"
   },
   {
    "duration": 8,
    "start_time": "2023-07-23T09:49:53.699Z"
   },
   {
    "duration": 14,
    "start_time": "2023-07-23T09:49:53.708Z"
   },
   {
    "duration": 61,
    "start_time": "2023-07-23T09:49:53.723Z"
   },
   {
    "duration": 53,
    "start_time": "2023-07-23T09:49:53.786Z"
   },
   {
    "duration": 47,
    "start_time": "2023-07-23T09:49:53.841Z"
   },
   {
    "duration": 4,
    "start_time": "2023-07-23T09:49:53.890Z"
   },
   {
    "duration": 21,
    "start_time": "2023-07-23T09:49:53.896Z"
   },
   {
    "duration": 58,
    "start_time": "2023-07-23T09:49:53.918Z"
   },
   {
    "duration": 27,
    "start_time": "2023-07-23T09:49:53.978Z"
   },
   {
    "duration": 37,
    "start_time": "2023-07-23T09:49:54.006Z"
   },
   {
    "duration": 11,
    "start_time": "2023-07-23T09:49:54.044Z"
   },
   {
    "duration": 11,
    "start_time": "2023-07-23T09:49:54.057Z"
   },
   {
    "duration": 33,
    "start_time": "2023-07-23T09:49:54.070Z"
   },
   {
    "duration": 17,
    "start_time": "2023-07-23T09:49:54.104Z"
   },
   {
    "duration": 23,
    "start_time": "2023-07-23T09:49:54.122Z"
   },
   {
    "duration": 17,
    "start_time": "2023-07-23T09:49:54.147Z"
   }
  ],
  "colab": {
   "name": "dpp_template_part2.ipynb",
   "provenance": []
  },
  "kernelspec": {
   "display_name": "Python 3 (ipykernel)",
   "language": "python",
   "name": "python3"
  },
  "language_info": {
   "codemirror_mode": {
    "name": "ipython",
    "version": 3
   },
   "file_extension": ".py",
   "mimetype": "text/x-python",
   "name": "python",
   "nbconvert_exporter": "python",
   "pygments_lexer": "ipython3",
   "version": "3.9.5"
  },
  "toc": {
   "base_numbering": 1,
   "nav_menu": {},
   "number_sections": true,
   "sideBar": true,
   "skip_h1_title": true,
   "title_cell": "Table of Contents",
   "title_sidebar": "Contents",
   "toc_cell": false,
   "toc_position": {
    "height": "calc(100% - 180px)",
    "left": "10px",
    "top": "150px",
    "width": "282px"
   },
   "toc_section_display": true,
   "toc_window_display": true
  }
 },
 "nbformat": 4,
 "nbformat_minor": 5
}
