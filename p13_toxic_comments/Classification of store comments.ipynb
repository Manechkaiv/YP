{
 "cells": [
  {
   "cell_type": "markdown",
   "metadata": {
    "toc": true
   },
   "source": [
    "<h1>Содержание<span class=\"tocSkip\"></span></h1>\n",
    "<div class=\"toc\"><ul class=\"toc-item\"><li><span><a href=\"#Подготовка\" data-toc-modified-id=\"Подготовка-1\"><span class=\"toc-item-num\">1&nbsp;&nbsp;</span>Подготовка</a></span></li><li><span><a href=\"#Обучение\" data-toc-modified-id=\"Обучение-2\"><span class=\"toc-item-num\">2&nbsp;&nbsp;</span>Обучение</a></span></li><li><span><a href=\"#Выводы\" data-toc-modified-id=\"Выводы-3\"><span class=\"toc-item-num\">3&nbsp;&nbsp;</span>Выводы</a></span></li><li><span><a href=\"#Чек-лист-проверки\" data-toc-modified-id=\"Чек-лист-проверки-4\"><span class=\"toc-item-num\">4&nbsp;&nbsp;</span>Чек-лист проверки</a></span></li></ul></div>"
   ]
  },
  {
   "cell_type": "markdown",
   "metadata": {},
   "source": [
    "# Проект для «Викишоп»"
   ]
  },
  {
   "cell_type": "markdown",
   "metadata": {},
   "source": [
    "Интернет-магазин «Викишоп» запускает новый сервис. Теперь пользователи могут редактировать и дополнять описания товаров, как в вики-сообществах. То есть клиенты предлагают свои правки и комментируют изменения других. Магазину нужен инструмент, который будет искать токсичные комментарии и отправлять их на модерацию. \n",
    "\n",
    "Обучите модель классифицировать комментарии на позитивные и негативные. В вашем распоряжении набор данных с разметкой о токсичности правок.\n",
    "\n",
    "Постройте модель со значением метрики качества *F1* не меньше 0.75. \n",
    "\n",
    "**Инструкция по выполнению проекта**\n",
    "\n",
    "1. Загрузите и подготовьте данные.\n",
    "2. Обучите разные модели. \n",
    "3. Сделайте выводы.\n",
    "\n",
    "Для выполнения проекта применять *BERT* необязательно, но вы можете попробовать.\n",
    "\n",
    "**Описание данных**\n",
    "\n",
    "Данные находятся в файле `toxic_comments.csv`. Столбец *text* в нём содержит текст комментария, а *toxic* — целевой признак."
   ]
  },
  {
   "cell_type": "markdown",
   "metadata": {},
   "source": [
    "## Подготовка"
   ]
  },
  {
   "cell_type": "code",
   "execution_count": 1,
   "metadata": {},
   "outputs": [
    {
     "name": "stderr",
     "output_type": "stream",
     "text": [
      "[nltk_data] Downloading package wordnet to /home/jovyan/nltk_data...\n",
      "[nltk_data]   Package wordnet is already up-to-date!\n",
      "[nltk_data] Downloading package stopwords to /home/jovyan/nltk_data...\n",
      "[nltk_data]   Package stopwords is already up-to-date!\n"
     ]
    },
    {
     "name": "stdout",
     "output_type": "stream",
     "text": [
      "Requirement already satisfied: spacy in /opt/conda/lib/python3.9/site-packages (3.2.0)\n",
      "Requirement already satisfied: catalogue<2.1.0,>=2.0.6 in /opt/conda/lib/python3.9/site-packages (from spacy) (2.0.8)\n",
      "Requirement already satisfied: jinja2 in /opt/conda/lib/python3.9/site-packages (from spacy) (3.0.1)\n",
      "Requirement already satisfied: murmurhash<1.1.0,>=0.28.0 in /opt/conda/lib/python3.9/site-packages (from spacy) (1.0.8)\n",
      "Requirement already satisfied: spacy-loggers<2.0.0,>=1.0.0 in /opt/conda/lib/python3.9/site-packages (from spacy) (1.0.3)\n",
      "Requirement already satisfied: blis<0.8.0,>=0.4.0 in /opt/conda/lib/python3.9/site-packages (from spacy) (0.7.8)\n",
      "Requirement already satisfied: preshed<3.1.0,>=3.0.2 in /opt/conda/lib/python3.9/site-packages (from spacy) (3.0.7)\n",
      "Requirement already satisfied: langcodes<4.0.0,>=3.2.0 in /opt/conda/lib/python3.9/site-packages (from spacy) (3.3.0)\n",
      "Requirement already satisfied: pydantic!=1.8,!=1.8.1,<1.9.0,>=1.7.4 in /opt/conda/lib/python3.9/site-packages (from spacy) (1.8.2)\n",
      "Requirement already satisfied: thinc<8.1.0,>=8.0.12 in /opt/conda/lib/python3.9/site-packages (from spacy) (8.0.17)\n",
      "Requirement already satisfied: pathy>=0.3.5 in /opt/conda/lib/python3.9/site-packages (from spacy) (0.6.2)\n",
      "Requirement already satisfied: cymem<2.1.0,>=2.0.2 in /opt/conda/lib/python3.9/site-packages (from spacy) (2.0.6)\n",
      "Requirement already satisfied: requests<3.0.0,>=2.13.0 in /opt/conda/lib/python3.9/site-packages (from spacy) (2.25.1)\n",
      "Requirement already satisfied: srsly<3.0.0,>=2.4.1 in /opt/conda/lib/python3.9/site-packages (from spacy) (2.4.4)\n",
      "Requirement already satisfied: packaging>=20.0 in /opt/conda/lib/python3.9/site-packages (from spacy) (21.3)\n",
      "Requirement already satisfied: setuptools in /opt/conda/lib/python3.9/site-packages (from spacy) (49.6.0.post20210108)\n",
      "Requirement already satisfied: wasabi<1.1.0,>=0.8.1 in /opt/conda/lib/python3.9/site-packages (from spacy) (0.10.1)\n",
      "Requirement already satisfied: tqdm<5.0.0,>=4.38.0 in /opt/conda/lib/python3.9/site-packages (from spacy) (4.61.2)\n",
      "Requirement already satisfied: numpy>=1.15.0 in /opt/conda/lib/python3.9/site-packages (from spacy) (1.21.1)\n",
      "Requirement already satisfied: typer<0.5.0,>=0.3.0 in /opt/conda/lib/python3.9/site-packages (from spacy) (0.4.2)\n",
      "Requirement already satisfied: spacy-legacy<3.1.0,>=3.0.8 in /opt/conda/lib/python3.9/site-packages (from spacy) (3.0.10)\n",
      "Requirement already satisfied: pyparsing!=3.0.5,>=2.0.2 in /opt/conda/lib/python3.9/site-packages (from packaging>=20.0->spacy) (2.4.7)\n",
      "Requirement already satisfied: smart-open<6.0.0,>=5.2.1 in /opt/conda/lib/python3.9/site-packages (from pathy>=0.3.5->spacy) (5.2.1)\n",
      "Requirement already satisfied: typing-extensions>=3.7.4.3 in /opt/conda/lib/python3.9/site-packages (from pydantic!=1.8,!=1.8.1,<1.9.0,>=1.7.4->spacy) (4.3.0)\n",
      "Requirement already satisfied: urllib3<1.27,>=1.21.1 in /opt/conda/lib/python3.9/site-packages (from requests<3.0.0,>=2.13.0->spacy) (1.26.6)\n",
      "Requirement already satisfied: chardet<5,>=3.0.2 in /opt/conda/lib/python3.9/site-packages (from requests<3.0.0,>=2.13.0->spacy) (4.0.0)\n",
      "Requirement already satisfied: certifi>=2017.4.17 in /opt/conda/lib/python3.9/site-packages (from requests<3.0.0,>=2.13.0->spacy) (2022.6.15)\n",
      "Requirement already satisfied: idna<3,>=2.5 in /opt/conda/lib/python3.9/site-packages (from requests<3.0.0,>=2.13.0->spacy) (2.10)\n",
      "Requirement already satisfied: click<9.0.0,>=7.1.1 in /opt/conda/lib/python3.9/site-packages (from typer<0.5.0,>=0.3.0->spacy) (8.1.3)\n",
      "Requirement already satisfied: MarkupSafe>=2.0 in /opt/conda/lib/python3.9/site-packages (from jinja2->spacy) (2.1.1)\n",
      "\u001b[38;5;3m⚠ As of spaCy v3.0, shortcuts like 'en' are deprecated. Please use the\n",
      "full pipeline package name 'en_core_web_sm' instead.\u001b[0m\n",
      "Collecting en-core-web-sm==3.2.0\n",
      "  Downloading https://github.com/explosion/spacy-models/releases/download/en_core_web_sm-3.2.0/en_core_web_sm-3.2.0-py3-none-any.whl (13.9 MB)\n",
      "\u001b[K     |████████████████████████████████| 13.9 MB 1.2 MB/s eta 0:00:01\n",
      "\u001b[?25hRequirement already satisfied: spacy<3.3.0,>=3.2.0 in /opt/conda/lib/python3.9/site-packages (from en-core-web-sm==3.2.0) (3.2.0)\n",
      "Requirement already satisfied: pathy>=0.3.5 in /opt/conda/lib/python3.9/site-packages (from spacy<3.3.0,>=3.2.0->en-core-web-sm==3.2.0) (0.6.2)\n",
      "Requirement already satisfied: typer<0.5.0,>=0.3.0 in /opt/conda/lib/python3.9/site-packages (from spacy<3.3.0,>=3.2.0->en-core-web-sm==3.2.0) (0.4.2)\n",
      "Requirement already satisfied: pydantic!=1.8,!=1.8.1,<1.9.0,>=1.7.4 in /opt/conda/lib/python3.9/site-packages (from spacy<3.3.0,>=3.2.0->en-core-web-sm==3.2.0) (1.8.2)\n",
      "Requirement already satisfied: setuptools in /opt/conda/lib/python3.9/site-packages (from spacy<3.3.0,>=3.2.0->en-core-web-sm==3.2.0) (49.6.0.post20210108)\n",
      "Requirement already satisfied: murmurhash<1.1.0,>=0.28.0 in /opt/conda/lib/python3.9/site-packages (from spacy<3.3.0,>=3.2.0->en-core-web-sm==3.2.0) (1.0.8)\n",
      "Requirement already satisfied: thinc<8.1.0,>=8.0.12 in /opt/conda/lib/python3.9/site-packages (from spacy<3.3.0,>=3.2.0->en-core-web-sm==3.2.0) (8.0.17)\n",
      "Requirement already satisfied: blis<0.8.0,>=0.4.0 in /opt/conda/lib/python3.9/site-packages (from spacy<3.3.0,>=3.2.0->en-core-web-sm==3.2.0) (0.7.8)\n",
      "Requirement already satisfied: srsly<3.0.0,>=2.4.1 in /opt/conda/lib/python3.9/site-packages (from spacy<3.3.0,>=3.2.0->en-core-web-sm==3.2.0) (2.4.4)\n",
      "Requirement already satisfied: packaging>=20.0 in /opt/conda/lib/python3.9/site-packages (from spacy<3.3.0,>=3.2.0->en-core-web-sm==3.2.0) (21.3)\n",
      "Requirement already satisfied: langcodes<4.0.0,>=3.2.0 in /opt/conda/lib/python3.9/site-packages (from spacy<3.3.0,>=3.2.0->en-core-web-sm==3.2.0) (3.3.0)\n",
      "Requirement already satisfied: cymem<2.1.0,>=2.0.2 in /opt/conda/lib/python3.9/site-packages (from spacy<3.3.0,>=3.2.0->en-core-web-sm==3.2.0) (2.0.6)\n",
      "Requirement already satisfied: numpy>=1.15.0 in /opt/conda/lib/python3.9/site-packages (from spacy<3.3.0,>=3.2.0->en-core-web-sm==3.2.0) (1.21.1)\n",
      "Requirement already satisfied: spacy-loggers<2.0.0,>=1.0.0 in /opt/conda/lib/python3.9/site-packages (from spacy<3.3.0,>=3.2.0->en-core-web-sm==3.2.0) (1.0.3)\n",
      "Requirement already satisfied: preshed<3.1.0,>=3.0.2 in /opt/conda/lib/python3.9/site-packages (from spacy<3.3.0,>=3.2.0->en-core-web-sm==3.2.0) (3.0.7)\n",
      "Requirement already satisfied: jinja2 in /opt/conda/lib/python3.9/site-packages (from spacy<3.3.0,>=3.2.0->en-core-web-sm==3.2.0) (3.0.1)\n",
      "Requirement already satisfied: requests<3.0.0,>=2.13.0 in /opt/conda/lib/python3.9/site-packages (from spacy<3.3.0,>=3.2.0->en-core-web-sm==3.2.0) (2.25.1)\n",
      "Requirement already satisfied: wasabi<1.1.0,>=0.8.1 in /opt/conda/lib/python3.9/site-packages (from spacy<3.3.0,>=3.2.0->en-core-web-sm==3.2.0) (0.10.1)\n",
      "Requirement already satisfied: tqdm<5.0.0,>=4.38.0 in /opt/conda/lib/python3.9/site-packages (from spacy<3.3.0,>=3.2.0->en-core-web-sm==3.2.0) (4.61.2)\n",
      "Requirement already satisfied: spacy-legacy<3.1.0,>=3.0.8 in /opt/conda/lib/python3.9/site-packages (from spacy<3.3.0,>=3.2.0->en-core-web-sm==3.2.0) (3.0.10)\n",
      "Requirement already satisfied: catalogue<2.1.0,>=2.0.6 in /opt/conda/lib/python3.9/site-packages (from spacy<3.3.0,>=3.2.0->en-core-web-sm==3.2.0) (2.0.8)\n",
      "Requirement already satisfied: pyparsing!=3.0.5,>=2.0.2 in /opt/conda/lib/python3.9/site-packages (from packaging>=20.0->spacy<3.3.0,>=3.2.0->en-core-web-sm==3.2.0) (2.4.7)\n",
      "Requirement already satisfied: smart-open<6.0.0,>=5.2.1 in /opt/conda/lib/python3.9/site-packages (from pathy>=0.3.5->spacy<3.3.0,>=3.2.0->en-core-web-sm==3.2.0) (5.2.1)\n",
      "Requirement already satisfied: typing-extensions>=3.7.4.3 in /opt/conda/lib/python3.9/site-packages (from pydantic!=1.8,!=1.8.1,<1.9.0,>=1.7.4->spacy<3.3.0,>=3.2.0->en-core-web-sm==3.2.0) (4.3.0)\n",
      "Requirement already satisfied: idna<3,>=2.5 in /opt/conda/lib/python3.9/site-packages (from requests<3.0.0,>=2.13.0->spacy<3.3.0,>=3.2.0->en-core-web-sm==3.2.0) (2.10)\n",
      "Requirement already satisfied: urllib3<1.27,>=1.21.1 in /opt/conda/lib/python3.9/site-packages (from requests<3.0.0,>=2.13.0->spacy<3.3.0,>=3.2.0->en-core-web-sm==3.2.0) (1.26.6)\n",
      "Requirement already satisfied: certifi>=2017.4.17 in /opt/conda/lib/python3.9/site-packages (from requests<3.0.0,>=2.13.0->spacy<3.3.0,>=3.2.0->en-core-web-sm==3.2.0) (2022.6.15)\n",
      "Requirement already satisfied: chardet<5,>=3.0.2 in /opt/conda/lib/python3.9/site-packages (from requests<3.0.0,>=2.13.0->spacy<3.3.0,>=3.2.0->en-core-web-sm==3.2.0) (4.0.0)\n",
      "Requirement already satisfied: click<9.0.0,>=7.1.1 in /opt/conda/lib/python3.9/site-packages (from typer<0.5.0,>=0.3.0->spacy<3.3.0,>=3.2.0->en-core-web-sm==3.2.0) (8.1.3)\n",
      "Requirement already satisfied: MarkupSafe>=2.0 in /opt/conda/lib/python3.9/site-packages (from jinja2->spacy<3.3.0,>=3.2.0->en-core-web-sm==3.2.0) (2.1.1)\n",
      "\u001b[38;5;2m✔ Download and installation successful\u001b[0m\n",
      "You can now load the package via spacy.load('en_core_web_sm')\n"
     ]
    }
   ],
   "source": [
    "import numpy as np\n",
    "import pandas as pd\n",
    "import matplotlib.pyplot as plt\n",
    "import nltk\n",
    "nltk.download('wordnet')\n",
    "from tqdm.notebook import tqdm\n",
    "import warnings\n",
    "import transformers\n",
    "from tqdm import notebook\n",
    "import re\n",
    "\n",
    "from sklearn.linear_model import LogisticRegression\n",
    "from sklearn.tree import DecisionTreeClassifier\n",
    "\n",
    "\n",
    "from catboost import Pool, cv\n",
    "\n",
    "from sklearn.model_selection import (\n",
    "    GridSearchCV,\n",
    "    RandomizedSearchCV,\n",
    "    train_test_split,\n",
    "    cross_val_score\n",
    ")\n",
    "\n",
    "from nltk.corpus import stopwords as nltk_stopwords\n",
    "nltk.download('stopwords')\n",
    "stopwords = set(nltk_stopwords.words('english'))\n",
    "from nltk.stem import WordNetLemmatizer\n",
    "\n",
    "import sys\n",
    "!{sys.executable} -m pip install spacy\n",
    "!{sys.executable} -m spacy download en\n",
    "import spacy\n",
    "disabled_pipes = [ \"parser\",  \"ner\"]\n",
    "nlp = spacy.load('en_core_web_sm', disable=disabled_pipes)\n",
    "\n",
    "from sklearn.feature_extraction.text import TfidfVectorizer\n",
    "\n",
    "from sklearn.metrics import f1_score, make_scorer\n",
    "\n",
    "pd.set_option('display.max_columns', None)\n",
    "pd.set_option('display.max_colwidth', None)\n",
    "warnings.filterwarnings('ignore')\n",
    "\n",
    "RANDOM_STATE = 12345"
   ]
  },
  {
   "cell_type": "code",
   "execution_count": 2,
   "metadata": {},
   "outputs": [],
   "source": [
    "data = pd.read_csv('/datasets/toxic_comments.csv')"
   ]
  },
  {
   "cell_type": "code",
   "execution_count": 3,
   "metadata": {
    "scrolled": true
   },
   "outputs": [
    {
     "name": "stdout",
     "output_type": "stream",
     "text": [
      "<class 'pandas.core.frame.DataFrame'>\n",
      "RangeIndex: 159292 entries, 0 to 159291\n",
      "Data columns (total 3 columns):\n",
      " #   Column      Non-Null Count   Dtype \n",
      "---  ------      --------------   ----- \n",
      " 0   Unnamed: 0  159292 non-null  int64 \n",
      " 1   text        159292 non-null  object\n",
      " 2   toxic       159292 non-null  int64 \n",
      "dtypes: int64(2), object(1)\n",
      "memory usage: 3.6+ MB\n"
     ]
    }
   ],
   "source": [
    "data.info()"
   ]
  },
  {
   "cell_type": "code",
   "execution_count": 4,
   "metadata": {
    "scrolled": true
   },
   "outputs": [
    {
     "data": {
      "text/html": [
       "<div>\n",
       "<style scoped>\n",
       "    .dataframe tbody tr th:only-of-type {\n",
       "        vertical-align: middle;\n",
       "    }\n",
       "\n",
       "    .dataframe tbody tr th {\n",
       "        vertical-align: top;\n",
       "    }\n",
       "\n",
       "    .dataframe thead th {\n",
       "        text-align: right;\n",
       "    }\n",
       "</style>\n",
       "<table border=\"1\" class=\"dataframe\">\n",
       "  <thead>\n",
       "    <tr style=\"text-align: right;\">\n",
       "      <th></th>\n",
       "      <th>Unnamed: 0</th>\n",
       "      <th>text</th>\n",
       "      <th>toxic</th>\n",
       "    </tr>\n",
       "  </thead>\n",
       "  <tbody>\n",
       "    <tr>\n",
       "      <th>0</th>\n",
       "      <td>0</td>\n",
       "      <td>Explanation\\nWhy the edits made under my username Hardcore Metallica Fan were reverted? They weren't vandalisms, just closure on some GAs after I voted at New York Dolls FAC. And please don't remove the template from the talk page since I'm retired now.89.205.38.27</td>\n",
       "      <td>0</td>\n",
       "    </tr>\n",
       "    <tr>\n",
       "      <th>1</th>\n",
       "      <td>1</td>\n",
       "      <td>D'aww! He matches this background colour I'm seemingly stuck with. Thanks.  (talk) 21:51, January 11, 2016 (UTC)</td>\n",
       "      <td>0</td>\n",
       "    </tr>\n",
       "    <tr>\n",
       "      <th>2</th>\n",
       "      <td>2</td>\n",
       "      <td>Hey man, I'm really not trying to edit war. It's just that this guy is constantly removing relevant information and talking to me through edits instead of my talk page. He seems to care more about the formatting than the actual info.</td>\n",
       "      <td>0</td>\n",
       "    </tr>\n",
       "    <tr>\n",
       "      <th>3</th>\n",
       "      <td>3</td>\n",
       "      <td>\"\\nMore\\nI can't make any real suggestions on improvement - I wondered if the section statistics should be later on, or a subsection of \"\"types of accidents\"\"  -I think the references may need tidying so that they are all in the exact same format ie date format etc. I can do that later on, if no-one else does first - if you have any preferences for formatting style on references or want to do it yourself please let me know.\\n\\nThere appears to be a backlog on articles for review so I guess there may be a delay until a reviewer turns up. It's listed in the relevant form eg Wikipedia:Good_article_nominations#Transport  \"</td>\n",
       "      <td>0</td>\n",
       "    </tr>\n",
       "    <tr>\n",
       "      <th>4</th>\n",
       "      <td>4</td>\n",
       "      <td>You, sir, are my hero. Any chance you remember what page that's on?</td>\n",
       "      <td>0</td>\n",
       "    </tr>\n",
       "    <tr>\n",
       "      <th>5</th>\n",
       "      <td>5</td>\n",
       "      <td>\"\\n\\nCongratulations from me as well, use the tools well.  · talk \"</td>\n",
       "      <td>0</td>\n",
       "    </tr>\n",
       "    <tr>\n",
       "      <th>6</th>\n",
       "      <td>6</td>\n",
       "      <td>COCKSUCKER BEFORE YOU PISS AROUND ON MY WORK</td>\n",
       "      <td>1</td>\n",
       "    </tr>\n",
       "    <tr>\n",
       "      <th>7</th>\n",
       "      <td>7</td>\n",
       "      <td>Your vandalism to the Matt Shirvington article has been reverted.  Please don't do it again, or you will be banned.</td>\n",
       "      <td>0</td>\n",
       "    </tr>\n",
       "    <tr>\n",
       "      <th>8</th>\n",
       "      <td>8</td>\n",
       "      <td>Sorry if the word 'nonsense' was offensive to you. Anyway, I'm not intending to write anything in the article(wow they would jump on me for vandalism), I'm merely requesting that it be more encyclopedic so one can use it for school as a reference. I have been to the selective breeding page but it's almost a stub. It points to 'animal breeding' which is a short messy article that gives you no info. There must be someone around with expertise in eugenics? 93.161.107.169</td>\n",
       "      <td>0</td>\n",
       "    </tr>\n",
       "    <tr>\n",
       "      <th>9</th>\n",
       "      <td>9</td>\n",
       "      <td>alignment on this subject and which are contrary to those of DuLithgow</td>\n",
       "      <td>0</td>\n",
       "    </tr>\n",
       "  </tbody>\n",
       "</table>\n",
       "</div>"
      ],
      "text/plain": [
       "   Unnamed: 0  \\\n",
       "0           0   \n",
       "1           1   \n",
       "2           2   \n",
       "3           3   \n",
       "4           4   \n",
       "5           5   \n",
       "6           6   \n",
       "7           7   \n",
       "8           8   \n",
       "9           9   \n",
       "\n",
       "                                                                                                                                                                                                                                                                                                                                                                                                                                                                                                                                                                                                                                                 text  \\\n",
       "0                                                                                                                                                                                                                                                                                                                                                                           Explanation\\nWhy the edits made under my username Hardcore Metallica Fan were reverted? They weren't vandalisms, just closure on some GAs after I voted at New York Dolls FAC. And please don't remove the template from the talk page since I'm retired now.89.205.38.27   \n",
       "1                                                                                                                                                                                                                                                                                                                                                                                                                                                                                                                                    D'aww! He matches this background colour I'm seemingly stuck with. Thanks.  (talk) 21:51, January 11, 2016 (UTC)   \n",
       "2                                                                                                                                                                                                                                                                                                                                                                                                           Hey man, I'm really not trying to edit war. It's just that this guy is constantly removing relevant information and talking to me through edits instead of my talk page. He seems to care more about the formatting than the actual info.   \n",
       "3  \"\\nMore\\nI can't make any real suggestions on improvement - I wondered if the section statistics should be later on, or a subsection of \"\"types of accidents\"\"  -I think the references may need tidying so that they are all in the exact same format ie date format etc. I can do that later on, if no-one else does first - if you have any preferences for formatting style on references or want to do it yourself please let me know.\\n\\nThere appears to be a backlog on articles for review so I guess there may be a delay until a reviewer turns up. It's listed in the relevant form eg Wikipedia:Good_article_nominations#Transport  \"   \n",
       "4                                                                                                                                                                                                                                                                                                                                                                                                                                                                                                                                                                                 You, sir, are my hero. Any chance you remember what page that's on?   \n",
       "5                                                                                                                                                                                                                                                                                                                                                                                                                                                                                                                                                                                 \"\\n\\nCongratulations from me as well, use the tools well.  · talk \"   \n",
       "6                                                                                                                                                                                                                                                                                                                                                                                                                                                                                                                                                                                                        COCKSUCKER BEFORE YOU PISS AROUND ON MY WORK   \n",
       "7                                                                                                                                                                                                                                                                                                                                                                                                                                                                                                                                 Your vandalism to the Matt Shirvington article has been reverted.  Please don't do it again, or you will be banned.   \n",
       "8                                                                                                                                                            Sorry if the word 'nonsense' was offensive to you. Anyway, I'm not intending to write anything in the article(wow they would jump on me for vandalism), I'm merely requesting that it be more encyclopedic so one can use it for school as a reference. I have been to the selective breeding page but it's almost a stub. It points to 'animal breeding' which is a short messy article that gives you no info. There must be someone around with expertise in eugenics? 93.161.107.169   \n",
       "9                                                                                                                                                                                                                                                                                                                                                                                                                                                                                                                                                                              alignment on this subject and which are contrary to those of DuLithgow   \n",
       "\n",
       "   toxic  \n",
       "0      0  \n",
       "1      0  \n",
       "2      0  \n",
       "3      0  \n",
       "4      0  \n",
       "5      0  \n",
       "6      1  \n",
       "7      0  \n",
       "8      0  \n",
       "9      0  "
      ]
     },
     "execution_count": 4,
     "metadata": {},
     "output_type": "execute_result"
    }
   ],
   "source": [
    "data.head(10)"
   ]
  },
  {
   "cell_type": "code",
   "execution_count": 5,
   "metadata": {},
   "outputs": [
    {
     "data": {
      "text/plain": [
       "0    143106\n",
       "1     16186\n",
       "Name: toxic, dtype: int64"
      ]
     },
     "metadata": {},
     "output_type": "display_data"
    },
    {
     "data": {
      "text/plain": [
       "8.841344371679229"
      ]
     },
     "execution_count": 5,
     "metadata": {},
     "output_type": "execute_result"
    }
   ],
   "source": [
    "# Посмотри кол-во уникальных значений\n",
    "display(data['toxic'].value_counts())\n",
    "# Посмотрим соотношение в классах\n",
    "class_ratio = data['toxic'].value_counts()[0] / data['toxic'].value_counts()[1]\n",
    "class_ratio"
   ]
  },
  {
   "cell_type": "markdown",
   "metadata": {},
   "source": [
    "Классы не сбалансированы"
   ]
  },
  {
   "cell_type": "code",
   "execution_count": 6,
   "metadata": {},
   "outputs": [],
   "source": [
    "lemmatizer = WordNetLemmatizer()\n",
    "\n",
    "def lemmatize_text(text):\n",
    "    text = text.lower()\n",
    "    lemm_text = nlp(text)\n",
    "  #  lemm_text = \"\".join(lemmatizer.lemmatize(text))\n",
    "   # clear_text = re.sub(r'[^a-zA-Z]', ' ', lemm_text) \n",
    "  # clear_text = clear_text.split()\n",
    "   # clear_text = \" \".join(clear_text)\n",
    "    return \" \".join([token.lemma_ for token in lemm_text])"
   ]
  },
  {
   "cell_type": "code",
   "execution_count": 7,
   "metadata": {},
   "outputs": [],
   "source": [
    "\n",
    "#sentence = \"The striped bats are hanging on their feet for best\"\n",
    "\n",
    "#doc = nlp(sentence)\n",
    "\n",
    "#\" \".join([token.lemma_ for token in doc])\n",
    "\n"
   ]
  },
  {
   "cell_type": "code",
   "execution_count": 8,
   "metadata": {},
   "outputs": [
    {
     "data": {
      "application/vnd.jupyter.widget-view+json": {
       "model_id": "24e3f5614bb844baa9b9fb3c6d583cfb",
       "version_major": 2,
       "version_minor": 0
      },
      "text/plain": [
       "  0%|          | 0/159292 [00:00<?, ?it/s]"
      ]
     },
     "metadata": {},
     "output_type": "display_data"
    }
   ],
   "source": [
    "tqdm.pandas()\n",
    "\n",
    "data['lemm_text'] = data['text'].progress_apply(lemmatize_text)\n",
    "\n",
    "data = data.drop(['text'], axis=1)\n",
    "data = data.drop(['Unnamed: 0'], axis=1)"
   ]
  },
  {
   "cell_type": "code",
   "execution_count": 9,
   "metadata": {},
   "outputs": [
    {
     "data": {
      "text/html": [
       "<div>\n",
       "<style scoped>\n",
       "    .dataframe tbody tr th:only-of-type {\n",
       "        vertical-align: middle;\n",
       "    }\n",
       "\n",
       "    .dataframe tbody tr th {\n",
       "        vertical-align: top;\n",
       "    }\n",
       "\n",
       "    .dataframe thead th {\n",
       "        text-align: right;\n",
       "    }\n",
       "</style>\n",
       "<table border=\"1\" class=\"dataframe\">\n",
       "  <thead>\n",
       "    <tr style=\"text-align: right;\">\n",
       "      <th></th>\n",
       "      <th>toxic</th>\n",
       "      <th>lemm_text</th>\n",
       "    </tr>\n",
       "  </thead>\n",
       "  <tbody>\n",
       "    <tr>\n",
       "      <th>0</th>\n",
       "      <td>0</td>\n",
       "      <td>explanation \\n why the edit make under my username hardcore metallica fan be revert ? they be not vandalism , just closure on some gas after I vote at new york doll fac . and please do not remove the template from the talk page since I be retire now.89.205.38.27</td>\n",
       "    </tr>\n",
       "    <tr>\n",
       "      <th>1</th>\n",
       "      <td>0</td>\n",
       "      <td>d'aww ! he match this background colour I be seemingly stuck with . thank .   ( talk ) 21:51 , january 11 , 2016 ( utc )</td>\n",
       "    </tr>\n",
       "    <tr>\n",
       "      <th>2</th>\n",
       "      <td>0</td>\n",
       "      <td>hey man , I be really not try to edit war . it be just that this guy be constantly remove relevant information and talk to I through edit instead of my talk page . he seem to care more about the formatting than the actual info .</td>\n",
       "    </tr>\n",
       "    <tr>\n",
       "      <th>3</th>\n",
       "      <td>0</td>\n",
       "      <td>\" \\n more \\n I can not make any real suggestion on improvement - I wonder if the section statistic should be later on , or a subsection of \" \" type of accident \" \"   -i think the reference may need tidy so that they be all in the exact same format ie date format etc . I can do that later on , if no - one else do first - if you have any preference for format style on reference or want to do it yourself please let I know . \\n\\n there appear to be a backlog on article for review so I guess there may be a delay until a reviewer turn up . it be list in the relevant form eg wikipedia : good_article_nominations#transport   \"</td>\n",
       "    </tr>\n",
       "    <tr>\n",
       "      <th>4</th>\n",
       "      <td>0</td>\n",
       "      <td>you , sir , be my hero . any chance you remember what page that be on ?</td>\n",
       "    </tr>\n",
       "  </tbody>\n",
       "</table>\n",
       "</div>"
      ],
      "text/plain": [
       "   toxic  \\\n",
       "0      0   \n",
       "1      0   \n",
       "2      0   \n",
       "3      0   \n",
       "4      0   \n",
       "\n",
       "                                                                                                                                                                                                                                                                                                                                                                                                                                                                                                                                                                                                                                           lemm_text  \n",
       "0                                                                                                                                                                                                                                                                                                                                                                             explanation \\n why the edit make under my username hardcore metallica fan be revert ? they be not vandalism , just closure on some gas after I vote at new york doll fac . and please do not remove the template from the talk page since I be retire now.89.205.38.27  \n",
       "1                                                                                                                                                                                                                                                                                                                                                                                                                                                                                                                           d'aww ! he match this background colour I be seemingly stuck with . thank .   ( talk ) 21:51 , january 11 , 2016 ( utc )  \n",
       "2                                                                                                                                                                                                                                                                                                                                                                                                               hey man , I be really not try to edit war . it be just that this guy be constantly remove relevant information and talk to I through edit instead of my talk page . he seem to care more about the formatting than the actual info .  \n",
       "3  \" \\n more \\n I can not make any real suggestion on improvement - I wonder if the section statistic should be later on , or a subsection of \" \" type of accident \" \"   -i think the reference may need tidy so that they be all in the exact same format ie date format etc . I can do that later on , if no - one else do first - if you have any preference for format style on reference or want to do it yourself please let I know . \\n\\n there appear to be a backlog on article for review so I guess there may be a delay until a reviewer turn up . it be list in the relevant form eg wikipedia : good_article_nominations#transport   \"  \n",
       "4                                                                                                                                                                                                                                                                                                                                                                                                                                                                                                                                                                            you , sir , be my hero . any chance you remember what page that be on ?  "
      ]
     },
     "execution_count": 9,
     "metadata": {},
     "output_type": "execute_result"
    }
   ],
   "source": [
    "data.head()"
   ]
  },
  {
   "cell_type": "code",
   "execution_count": 10,
   "metadata": {},
   "outputs": [],
   "source": [
    "data_train, data_test = train_test_split(data,\n",
    "                                         test_size=0.5, \n",
    "                                         random_state=RANDOM_STATE)\n",
    "\n",
    "features_train = data_train.drop(['toxic'], axis=1)\n",
    "target_train = data_train['toxic']\n",
    "\n",
    "features_test = data_test.drop(['toxic'], axis=1)\n",
    "target_test = data_test['toxic']"
   ]
  },
  {
   "cell_type": "code",
   "execution_count": 11,
   "metadata": {},
   "outputs": [
    {
     "data": {
      "text/plain": [
       "(79646, 111895)"
      ]
     },
     "metadata": {},
     "output_type": "display_data"
    }
   ],
   "source": [
    "# считаем величину TF-IDF для обучающей выборки\n",
    "count_tf_idf_train = TfidfVectorizer(stop_words=stopwords)\n",
    "tf_idf_train = count_tf_idf_train.fit_transform(data_train.lemm_text)\n",
    "display(tf_idf_train.shape)"
   ]
  },
  {
   "cell_type": "code",
   "execution_count": 12,
   "metadata": {},
   "outputs": [
    {
     "data": {
      "text/plain": [
       "(79646, 111895)"
      ]
     },
     "metadata": {},
     "output_type": "display_data"
    }
   ],
   "source": [
    "# считаем величину TF-IDF для тестовой выборки\n",
    "count_tf_idf_test = TfidfVectorizer(stop_words=stopwords)\n",
    "tf_idf_test = count_tf_idf_train.transform(data_test.lemm_text)\n",
    "display(tf_idf_test.shape)"
   ]
  },
  {
   "cell_type": "markdown",
   "metadata": {},
   "source": [
    "## Обучение"
   ]
  },
  {
   "cell_type": "code",
   "execution_count": 13,
   "metadata": {},
   "outputs": [],
   "source": [
    "model = LogisticRegression(random_state = RANDOM_STATE)"
   ]
  },
  {
   "cell_type": "code",
   "execution_count": 14,
   "metadata": {},
   "outputs": [
    {
     "ename": "KeyboardInterrupt",
     "evalue": "",
     "output_type": "error",
     "traceback": [
      "\u001b[0;31m---------------------------------------------------------------------------\u001b[0m",
      "\u001b[0;31mKeyboardInterrupt\u001b[0m                         Traceback (most recent call last)",
      "\u001b[0;32m/tmp/ipykernel_85/242235297.py\u001b[0m in \u001b[0;36m<module>\u001b[0;34m\u001b[0m\n\u001b[1;32m      8\u001b[0m                        scoring = 'f1')\n\u001b[1;32m      9\u001b[0m \u001b[0;34m\u001b[0m\u001b[0m\n\u001b[0;32m---> 10\u001b[0;31m \u001b[0mgsearch_LR\u001b[0m\u001b[0;34m.\u001b[0m\u001b[0mfit\u001b[0m\u001b[0;34m(\u001b[0m\u001b[0mtf_idf_train\u001b[0m\u001b[0;34m,\u001b[0m \u001b[0mtarget_train\u001b[0m\u001b[0;34m)\u001b[0m\u001b[0;34m\u001b[0m\u001b[0;34m\u001b[0m\u001b[0m\n\u001b[0m",
      "\u001b[0;32m/opt/conda/lib/python3.9/site-packages/sklearn/utils/validation.py\u001b[0m in \u001b[0;36minner_f\u001b[0;34m(*args, **kwargs)\u001b[0m\n\u001b[1;32m     61\u001b[0m             \u001b[0mextra_args\u001b[0m \u001b[0;34m=\u001b[0m \u001b[0mlen\u001b[0m\u001b[0;34m(\u001b[0m\u001b[0margs\u001b[0m\u001b[0;34m)\u001b[0m \u001b[0;34m-\u001b[0m \u001b[0mlen\u001b[0m\u001b[0;34m(\u001b[0m\u001b[0mall_args\u001b[0m\u001b[0;34m)\u001b[0m\u001b[0;34m\u001b[0m\u001b[0;34m\u001b[0m\u001b[0m\n\u001b[1;32m     62\u001b[0m             \u001b[0;32mif\u001b[0m \u001b[0mextra_args\u001b[0m \u001b[0;34m<=\u001b[0m \u001b[0;36m0\u001b[0m\u001b[0;34m:\u001b[0m\u001b[0;34m\u001b[0m\u001b[0;34m\u001b[0m\u001b[0m\n\u001b[0;32m---> 63\u001b[0;31m                 \u001b[0;32mreturn\u001b[0m \u001b[0mf\u001b[0m\u001b[0;34m(\u001b[0m\u001b[0;34m*\u001b[0m\u001b[0margs\u001b[0m\u001b[0;34m,\u001b[0m \u001b[0;34m**\u001b[0m\u001b[0mkwargs\u001b[0m\u001b[0;34m)\u001b[0m\u001b[0;34m\u001b[0m\u001b[0;34m\u001b[0m\u001b[0m\n\u001b[0m\u001b[1;32m     64\u001b[0m \u001b[0;34m\u001b[0m\u001b[0m\n\u001b[1;32m     65\u001b[0m             \u001b[0;31m# extra_args > 0\u001b[0m\u001b[0;34m\u001b[0m\u001b[0;34m\u001b[0m\u001b[0;34m\u001b[0m\u001b[0m\n",
      "\u001b[0;32m/opt/conda/lib/python3.9/site-packages/sklearn/model_selection/_search.py\u001b[0m in \u001b[0;36mfit\u001b[0;34m(self, X, y, groups, **fit_params)\u001b[0m\n\u001b[1;32m    839\u001b[0m                 \u001b[0;32mreturn\u001b[0m \u001b[0mresults\u001b[0m\u001b[0;34m\u001b[0m\u001b[0;34m\u001b[0m\u001b[0m\n\u001b[1;32m    840\u001b[0m \u001b[0;34m\u001b[0m\u001b[0m\n\u001b[0;32m--> 841\u001b[0;31m             \u001b[0mself\u001b[0m\u001b[0;34m.\u001b[0m\u001b[0m_run_search\u001b[0m\u001b[0;34m(\u001b[0m\u001b[0mevaluate_candidates\u001b[0m\u001b[0;34m)\u001b[0m\u001b[0;34m\u001b[0m\u001b[0;34m\u001b[0m\u001b[0m\n\u001b[0m\u001b[1;32m    842\u001b[0m \u001b[0;34m\u001b[0m\u001b[0m\n\u001b[1;32m    843\u001b[0m             \u001b[0;31m# multimetric is determined here because in the case of a callable\u001b[0m\u001b[0;34m\u001b[0m\u001b[0;34m\u001b[0m\u001b[0;34m\u001b[0m\u001b[0m\n",
      "\u001b[0;32m/opt/conda/lib/python3.9/site-packages/sklearn/model_selection/_search.py\u001b[0m in \u001b[0;36m_run_search\u001b[0;34m(self, evaluate_candidates)\u001b[0m\n\u001b[1;32m   1286\u001b[0m     \u001b[0;32mdef\u001b[0m \u001b[0m_run_search\u001b[0m\u001b[0;34m(\u001b[0m\u001b[0mself\u001b[0m\u001b[0;34m,\u001b[0m \u001b[0mevaluate_candidates\u001b[0m\u001b[0;34m)\u001b[0m\u001b[0;34m:\u001b[0m\u001b[0;34m\u001b[0m\u001b[0;34m\u001b[0m\u001b[0m\n\u001b[1;32m   1287\u001b[0m         \u001b[0;34m\"\"\"Search all candidates in param_grid\"\"\"\u001b[0m\u001b[0;34m\u001b[0m\u001b[0;34m\u001b[0m\u001b[0m\n\u001b[0;32m-> 1288\u001b[0;31m         \u001b[0mevaluate_candidates\u001b[0m\u001b[0;34m(\u001b[0m\u001b[0mParameterGrid\u001b[0m\u001b[0;34m(\u001b[0m\u001b[0mself\u001b[0m\u001b[0;34m.\u001b[0m\u001b[0mparam_grid\u001b[0m\u001b[0;34m)\u001b[0m\u001b[0;34m)\u001b[0m\u001b[0;34m\u001b[0m\u001b[0;34m\u001b[0m\u001b[0m\n\u001b[0m\u001b[1;32m   1289\u001b[0m \u001b[0;34m\u001b[0m\u001b[0m\n\u001b[1;32m   1290\u001b[0m \u001b[0;34m\u001b[0m\u001b[0m\n",
      "\u001b[0;32m/opt/conda/lib/python3.9/site-packages/sklearn/model_selection/_search.py\u001b[0m in \u001b[0;36mevaluate_candidates\u001b[0;34m(candidate_params, cv, more_results)\u001b[0m\n\u001b[1;32m    793\u001b[0m                               n_splits, n_candidates, n_candidates * n_splits))\n\u001b[1;32m    794\u001b[0m \u001b[0;34m\u001b[0m\u001b[0m\n\u001b[0;32m--> 795\u001b[0;31m                 out = parallel(delayed(_fit_and_score)(clone(base_estimator),\n\u001b[0m\u001b[1;32m    796\u001b[0m                                                        \u001b[0mX\u001b[0m\u001b[0;34m,\u001b[0m \u001b[0my\u001b[0m\u001b[0;34m,\u001b[0m\u001b[0;34m\u001b[0m\u001b[0;34m\u001b[0m\u001b[0m\n\u001b[1;32m    797\u001b[0m                                                        \u001b[0mtrain\u001b[0m\u001b[0;34m=\u001b[0m\u001b[0mtrain\u001b[0m\u001b[0;34m,\u001b[0m \u001b[0mtest\u001b[0m\u001b[0;34m=\u001b[0m\u001b[0mtest\u001b[0m\u001b[0;34m,\u001b[0m\u001b[0;34m\u001b[0m\u001b[0;34m\u001b[0m\u001b[0m\n",
      "\u001b[0;32m/opt/conda/lib/python3.9/site-packages/joblib/parallel.py\u001b[0m in \u001b[0;36m__call__\u001b[0;34m(self, iterable)\u001b[0m\n\u001b[1;32m   1044\u001b[0m                 \u001b[0mself\u001b[0m\u001b[0;34m.\u001b[0m\u001b[0m_iterating\u001b[0m \u001b[0;34m=\u001b[0m \u001b[0mself\u001b[0m\u001b[0;34m.\u001b[0m\u001b[0m_original_iterator\u001b[0m \u001b[0;32mis\u001b[0m \u001b[0;32mnot\u001b[0m \u001b[0;32mNone\u001b[0m\u001b[0;34m\u001b[0m\u001b[0;34m\u001b[0m\u001b[0m\n\u001b[1;32m   1045\u001b[0m \u001b[0;34m\u001b[0m\u001b[0m\n\u001b[0;32m-> 1046\u001b[0;31m             \u001b[0;32mwhile\u001b[0m \u001b[0mself\u001b[0m\u001b[0;34m.\u001b[0m\u001b[0mdispatch_one_batch\u001b[0m\u001b[0;34m(\u001b[0m\u001b[0miterator\u001b[0m\u001b[0;34m)\u001b[0m\u001b[0;34m:\u001b[0m\u001b[0;34m\u001b[0m\u001b[0;34m\u001b[0m\u001b[0m\n\u001b[0m\u001b[1;32m   1047\u001b[0m                 \u001b[0;32mpass\u001b[0m\u001b[0;34m\u001b[0m\u001b[0;34m\u001b[0m\u001b[0m\n\u001b[1;32m   1048\u001b[0m \u001b[0;34m\u001b[0m\u001b[0m\n",
      "\u001b[0;32m/opt/conda/lib/python3.9/site-packages/joblib/parallel.py\u001b[0m in \u001b[0;36mdispatch_one_batch\u001b[0;34m(self, iterator)\u001b[0m\n\u001b[1;32m    859\u001b[0m                 \u001b[0;32mreturn\u001b[0m \u001b[0;32mFalse\u001b[0m\u001b[0;34m\u001b[0m\u001b[0;34m\u001b[0m\u001b[0m\n\u001b[1;32m    860\u001b[0m             \u001b[0;32melse\u001b[0m\u001b[0;34m:\u001b[0m\u001b[0;34m\u001b[0m\u001b[0;34m\u001b[0m\u001b[0m\n\u001b[0;32m--> 861\u001b[0;31m                 \u001b[0mself\u001b[0m\u001b[0;34m.\u001b[0m\u001b[0m_dispatch\u001b[0m\u001b[0;34m(\u001b[0m\u001b[0mtasks\u001b[0m\u001b[0;34m)\u001b[0m\u001b[0;34m\u001b[0m\u001b[0;34m\u001b[0m\u001b[0m\n\u001b[0m\u001b[1;32m    862\u001b[0m                 \u001b[0;32mreturn\u001b[0m \u001b[0;32mTrue\u001b[0m\u001b[0;34m\u001b[0m\u001b[0;34m\u001b[0m\u001b[0m\n\u001b[1;32m    863\u001b[0m \u001b[0;34m\u001b[0m\u001b[0m\n",
      "\u001b[0;32m/opt/conda/lib/python3.9/site-packages/joblib/parallel.py\u001b[0m in \u001b[0;36m_dispatch\u001b[0;34m(self, batch)\u001b[0m\n\u001b[1;32m    777\u001b[0m         \u001b[0;32mwith\u001b[0m \u001b[0mself\u001b[0m\u001b[0;34m.\u001b[0m\u001b[0m_lock\u001b[0m\u001b[0;34m:\u001b[0m\u001b[0;34m\u001b[0m\u001b[0;34m\u001b[0m\u001b[0m\n\u001b[1;32m    778\u001b[0m             \u001b[0mjob_idx\u001b[0m \u001b[0;34m=\u001b[0m \u001b[0mlen\u001b[0m\u001b[0;34m(\u001b[0m\u001b[0mself\u001b[0m\u001b[0;34m.\u001b[0m\u001b[0m_jobs\u001b[0m\u001b[0;34m)\u001b[0m\u001b[0;34m\u001b[0m\u001b[0;34m\u001b[0m\u001b[0m\n\u001b[0;32m--> 779\u001b[0;31m             \u001b[0mjob\u001b[0m \u001b[0;34m=\u001b[0m \u001b[0mself\u001b[0m\u001b[0;34m.\u001b[0m\u001b[0m_backend\u001b[0m\u001b[0;34m.\u001b[0m\u001b[0mapply_async\u001b[0m\u001b[0;34m(\u001b[0m\u001b[0mbatch\u001b[0m\u001b[0;34m,\u001b[0m \u001b[0mcallback\u001b[0m\u001b[0;34m=\u001b[0m\u001b[0mcb\u001b[0m\u001b[0;34m)\u001b[0m\u001b[0;34m\u001b[0m\u001b[0;34m\u001b[0m\u001b[0m\n\u001b[0m\u001b[1;32m    780\u001b[0m             \u001b[0;31m# A job can complete so quickly than its callback is\u001b[0m\u001b[0;34m\u001b[0m\u001b[0;34m\u001b[0m\u001b[0;34m\u001b[0m\u001b[0m\n\u001b[1;32m    781\u001b[0m             \u001b[0;31m# called before we get here, causing self._jobs to\u001b[0m\u001b[0;34m\u001b[0m\u001b[0;34m\u001b[0m\u001b[0;34m\u001b[0m\u001b[0m\n",
      "\u001b[0;32m/opt/conda/lib/python3.9/site-packages/joblib/_parallel_backends.py\u001b[0m in \u001b[0;36mapply_async\u001b[0;34m(self, func, callback)\u001b[0m\n\u001b[1;32m    206\u001b[0m     \u001b[0;32mdef\u001b[0m \u001b[0mapply_async\u001b[0m\u001b[0;34m(\u001b[0m\u001b[0mself\u001b[0m\u001b[0;34m,\u001b[0m \u001b[0mfunc\u001b[0m\u001b[0;34m,\u001b[0m \u001b[0mcallback\u001b[0m\u001b[0;34m=\u001b[0m\u001b[0;32mNone\u001b[0m\u001b[0;34m)\u001b[0m\u001b[0;34m:\u001b[0m\u001b[0;34m\u001b[0m\u001b[0;34m\u001b[0m\u001b[0m\n\u001b[1;32m    207\u001b[0m         \u001b[0;34m\"\"\"Schedule a func to be run\"\"\"\u001b[0m\u001b[0;34m\u001b[0m\u001b[0;34m\u001b[0m\u001b[0m\n\u001b[0;32m--> 208\u001b[0;31m         \u001b[0mresult\u001b[0m \u001b[0;34m=\u001b[0m \u001b[0mImmediateResult\u001b[0m\u001b[0;34m(\u001b[0m\u001b[0mfunc\u001b[0m\u001b[0;34m)\u001b[0m\u001b[0;34m\u001b[0m\u001b[0;34m\u001b[0m\u001b[0m\n\u001b[0m\u001b[1;32m    209\u001b[0m         \u001b[0;32mif\u001b[0m \u001b[0mcallback\u001b[0m\u001b[0;34m:\u001b[0m\u001b[0;34m\u001b[0m\u001b[0;34m\u001b[0m\u001b[0m\n\u001b[1;32m    210\u001b[0m             \u001b[0mcallback\u001b[0m\u001b[0;34m(\u001b[0m\u001b[0mresult\u001b[0m\u001b[0;34m)\u001b[0m\u001b[0;34m\u001b[0m\u001b[0;34m\u001b[0m\u001b[0m\n",
      "\u001b[0;32m/opt/conda/lib/python3.9/site-packages/joblib/_parallel_backends.py\u001b[0m in \u001b[0;36m__init__\u001b[0;34m(self, batch)\u001b[0m\n\u001b[1;32m    570\u001b[0m         \u001b[0;31m# Don't delay the application, to avoid keeping the input\u001b[0m\u001b[0;34m\u001b[0m\u001b[0;34m\u001b[0m\u001b[0;34m\u001b[0m\u001b[0m\n\u001b[1;32m    571\u001b[0m         \u001b[0;31m# arguments in memory\u001b[0m\u001b[0;34m\u001b[0m\u001b[0;34m\u001b[0m\u001b[0;34m\u001b[0m\u001b[0m\n\u001b[0;32m--> 572\u001b[0;31m         \u001b[0mself\u001b[0m\u001b[0;34m.\u001b[0m\u001b[0mresults\u001b[0m \u001b[0;34m=\u001b[0m \u001b[0mbatch\u001b[0m\u001b[0;34m(\u001b[0m\u001b[0;34m)\u001b[0m\u001b[0;34m\u001b[0m\u001b[0;34m\u001b[0m\u001b[0m\n\u001b[0m\u001b[1;32m    573\u001b[0m \u001b[0;34m\u001b[0m\u001b[0m\n\u001b[1;32m    574\u001b[0m     \u001b[0;32mdef\u001b[0m \u001b[0mget\u001b[0m\u001b[0;34m(\u001b[0m\u001b[0mself\u001b[0m\u001b[0;34m)\u001b[0m\u001b[0;34m:\u001b[0m\u001b[0;34m\u001b[0m\u001b[0;34m\u001b[0m\u001b[0m\n",
      "\u001b[0;32m/opt/conda/lib/python3.9/site-packages/joblib/parallel.py\u001b[0m in \u001b[0;36m__call__\u001b[0;34m(self)\u001b[0m\n\u001b[1;32m    260\u001b[0m         \u001b[0;31m# change the default number of processes to -1\u001b[0m\u001b[0;34m\u001b[0m\u001b[0;34m\u001b[0m\u001b[0;34m\u001b[0m\u001b[0m\n\u001b[1;32m    261\u001b[0m         \u001b[0;32mwith\u001b[0m \u001b[0mparallel_backend\u001b[0m\u001b[0;34m(\u001b[0m\u001b[0mself\u001b[0m\u001b[0;34m.\u001b[0m\u001b[0m_backend\u001b[0m\u001b[0;34m,\u001b[0m \u001b[0mn_jobs\u001b[0m\u001b[0;34m=\u001b[0m\u001b[0mself\u001b[0m\u001b[0;34m.\u001b[0m\u001b[0m_n_jobs\u001b[0m\u001b[0;34m)\u001b[0m\u001b[0;34m:\u001b[0m\u001b[0;34m\u001b[0m\u001b[0;34m\u001b[0m\u001b[0m\n\u001b[0;32m--> 262\u001b[0;31m             return [func(*args, **kwargs)\n\u001b[0m\u001b[1;32m    263\u001b[0m                     for func, args, kwargs in self.items]\n\u001b[1;32m    264\u001b[0m \u001b[0;34m\u001b[0m\u001b[0m\n",
      "\u001b[0;32m/opt/conda/lib/python3.9/site-packages/joblib/parallel.py\u001b[0m in \u001b[0;36m<listcomp>\u001b[0;34m(.0)\u001b[0m\n\u001b[1;32m    260\u001b[0m         \u001b[0;31m# change the default number of processes to -1\u001b[0m\u001b[0;34m\u001b[0m\u001b[0;34m\u001b[0m\u001b[0;34m\u001b[0m\u001b[0m\n\u001b[1;32m    261\u001b[0m         \u001b[0;32mwith\u001b[0m \u001b[0mparallel_backend\u001b[0m\u001b[0;34m(\u001b[0m\u001b[0mself\u001b[0m\u001b[0;34m.\u001b[0m\u001b[0m_backend\u001b[0m\u001b[0;34m,\u001b[0m \u001b[0mn_jobs\u001b[0m\u001b[0;34m=\u001b[0m\u001b[0mself\u001b[0m\u001b[0;34m.\u001b[0m\u001b[0m_n_jobs\u001b[0m\u001b[0;34m)\u001b[0m\u001b[0;34m:\u001b[0m\u001b[0;34m\u001b[0m\u001b[0;34m\u001b[0m\u001b[0m\n\u001b[0;32m--> 262\u001b[0;31m             return [func(*args, **kwargs)\n\u001b[0m\u001b[1;32m    263\u001b[0m                     for func, args, kwargs in self.items]\n\u001b[1;32m    264\u001b[0m \u001b[0;34m\u001b[0m\u001b[0m\n",
      "\u001b[0;32m/opt/conda/lib/python3.9/site-packages/sklearn/utils/fixes.py\u001b[0m in \u001b[0;36m__call__\u001b[0;34m(self, *args, **kwargs)\u001b[0m\n\u001b[1;32m    220\u001b[0m     \u001b[0;32mdef\u001b[0m \u001b[0m__call__\u001b[0m\u001b[0;34m(\u001b[0m\u001b[0mself\u001b[0m\u001b[0;34m,\u001b[0m \u001b[0;34m*\u001b[0m\u001b[0margs\u001b[0m\u001b[0;34m,\u001b[0m \u001b[0;34m**\u001b[0m\u001b[0mkwargs\u001b[0m\u001b[0;34m)\u001b[0m\u001b[0;34m:\u001b[0m\u001b[0;34m\u001b[0m\u001b[0;34m\u001b[0m\u001b[0m\n\u001b[1;32m    221\u001b[0m         \u001b[0;32mwith\u001b[0m \u001b[0mconfig_context\u001b[0m\u001b[0;34m(\u001b[0m\u001b[0;34m**\u001b[0m\u001b[0mself\u001b[0m\u001b[0;34m.\u001b[0m\u001b[0mconfig\u001b[0m\u001b[0;34m)\u001b[0m\u001b[0;34m:\u001b[0m\u001b[0;34m\u001b[0m\u001b[0;34m\u001b[0m\u001b[0m\n\u001b[0;32m--> 222\u001b[0;31m             \u001b[0;32mreturn\u001b[0m \u001b[0mself\u001b[0m\u001b[0;34m.\u001b[0m\u001b[0mfunction\u001b[0m\u001b[0;34m(\u001b[0m\u001b[0;34m*\u001b[0m\u001b[0margs\u001b[0m\u001b[0;34m,\u001b[0m \u001b[0;34m**\u001b[0m\u001b[0mkwargs\u001b[0m\u001b[0;34m)\u001b[0m\u001b[0;34m\u001b[0m\u001b[0;34m\u001b[0m\u001b[0m\n\u001b[0m",
      "\u001b[0;32m/opt/conda/lib/python3.9/site-packages/sklearn/model_selection/_validation.py\u001b[0m in \u001b[0;36m_fit_and_score\u001b[0;34m(estimator, X, y, scorer, train, test, verbose, parameters, fit_params, return_train_score, return_parameters, return_n_test_samples, return_times, return_estimator, split_progress, candidate_progress, error_score)\u001b[0m\n\u001b[1;32m    591\u001b[0m             \u001b[0mestimator\u001b[0m\u001b[0;34m.\u001b[0m\u001b[0mfit\u001b[0m\u001b[0;34m(\u001b[0m\u001b[0mX_train\u001b[0m\u001b[0;34m,\u001b[0m \u001b[0;34m**\u001b[0m\u001b[0mfit_params\u001b[0m\u001b[0;34m)\u001b[0m\u001b[0;34m\u001b[0m\u001b[0;34m\u001b[0m\u001b[0m\n\u001b[1;32m    592\u001b[0m         \u001b[0;32melse\u001b[0m\u001b[0;34m:\u001b[0m\u001b[0;34m\u001b[0m\u001b[0;34m\u001b[0m\u001b[0m\n\u001b[0;32m--> 593\u001b[0;31m             \u001b[0mestimator\u001b[0m\u001b[0;34m.\u001b[0m\u001b[0mfit\u001b[0m\u001b[0;34m(\u001b[0m\u001b[0mX_train\u001b[0m\u001b[0;34m,\u001b[0m \u001b[0my_train\u001b[0m\u001b[0;34m,\u001b[0m \u001b[0;34m**\u001b[0m\u001b[0mfit_params\u001b[0m\u001b[0;34m)\u001b[0m\u001b[0;34m\u001b[0m\u001b[0;34m\u001b[0m\u001b[0m\n\u001b[0m\u001b[1;32m    594\u001b[0m \u001b[0;34m\u001b[0m\u001b[0m\n\u001b[1;32m    595\u001b[0m     \u001b[0;32mexcept\u001b[0m \u001b[0mException\u001b[0m \u001b[0;32mas\u001b[0m \u001b[0me\u001b[0m\u001b[0;34m:\u001b[0m\u001b[0;34m\u001b[0m\u001b[0;34m\u001b[0m\u001b[0m\n",
      "\u001b[0;32m/opt/conda/lib/python3.9/site-packages/sklearn/linear_model/_logistic.py\u001b[0m in \u001b[0;36mfit\u001b[0;34m(self, X, y, sample_weight)\u001b[0m\n\u001b[1;32m   1404\u001b[0m         \u001b[0;32melse\u001b[0m\u001b[0;34m:\u001b[0m\u001b[0;34m\u001b[0m\u001b[0;34m\u001b[0m\u001b[0m\n\u001b[1;32m   1405\u001b[0m             \u001b[0mprefer\u001b[0m \u001b[0;34m=\u001b[0m \u001b[0;34m'processes'\u001b[0m\u001b[0;34m\u001b[0m\u001b[0;34m\u001b[0m\u001b[0m\n\u001b[0;32m-> 1406\u001b[0;31m         fold_coefs_ = Parallel(n_jobs=self.n_jobs, verbose=self.verbose,\n\u001b[0m\u001b[1;32m   1407\u001b[0m                                \u001b[0;34m**\u001b[0m\u001b[0m_joblib_parallel_args\u001b[0m\u001b[0;34m(\u001b[0m\u001b[0mprefer\u001b[0m\u001b[0;34m=\u001b[0m\u001b[0mprefer\u001b[0m\u001b[0;34m)\u001b[0m\u001b[0;34m)\u001b[0m\u001b[0;34m(\u001b[0m\u001b[0;34m\u001b[0m\u001b[0;34m\u001b[0m\u001b[0m\n\u001b[1;32m   1408\u001b[0m             path_func(X, y, pos_class=class_, Cs=[C_],\n",
      "\u001b[0;32m/opt/conda/lib/python3.9/site-packages/joblib/parallel.py\u001b[0m in \u001b[0;36m__call__\u001b[0;34m(self, iterable)\u001b[0m\n\u001b[1;32m   1041\u001b[0m             \u001b[0;31m# remaining jobs.\u001b[0m\u001b[0;34m\u001b[0m\u001b[0;34m\u001b[0m\u001b[0;34m\u001b[0m\u001b[0m\n\u001b[1;32m   1042\u001b[0m             \u001b[0mself\u001b[0m\u001b[0;34m.\u001b[0m\u001b[0m_iterating\u001b[0m \u001b[0;34m=\u001b[0m \u001b[0;32mFalse\u001b[0m\u001b[0;34m\u001b[0m\u001b[0;34m\u001b[0m\u001b[0m\n\u001b[0;32m-> 1043\u001b[0;31m             \u001b[0;32mif\u001b[0m \u001b[0mself\u001b[0m\u001b[0;34m.\u001b[0m\u001b[0mdispatch_one_batch\u001b[0m\u001b[0;34m(\u001b[0m\u001b[0miterator\u001b[0m\u001b[0;34m)\u001b[0m\u001b[0;34m:\u001b[0m\u001b[0;34m\u001b[0m\u001b[0;34m\u001b[0m\u001b[0m\n\u001b[0m\u001b[1;32m   1044\u001b[0m                 \u001b[0mself\u001b[0m\u001b[0;34m.\u001b[0m\u001b[0m_iterating\u001b[0m \u001b[0;34m=\u001b[0m \u001b[0mself\u001b[0m\u001b[0;34m.\u001b[0m\u001b[0m_original_iterator\u001b[0m \u001b[0;32mis\u001b[0m \u001b[0;32mnot\u001b[0m \u001b[0;32mNone\u001b[0m\u001b[0;34m\u001b[0m\u001b[0;34m\u001b[0m\u001b[0m\n\u001b[1;32m   1045\u001b[0m \u001b[0;34m\u001b[0m\u001b[0m\n",
      "\u001b[0;32m/opt/conda/lib/python3.9/site-packages/joblib/parallel.py\u001b[0m in \u001b[0;36mdispatch_one_batch\u001b[0;34m(self, iterator)\u001b[0m\n\u001b[1;32m    859\u001b[0m                 \u001b[0;32mreturn\u001b[0m \u001b[0;32mFalse\u001b[0m\u001b[0;34m\u001b[0m\u001b[0;34m\u001b[0m\u001b[0m\n\u001b[1;32m    860\u001b[0m             \u001b[0;32melse\u001b[0m\u001b[0;34m:\u001b[0m\u001b[0;34m\u001b[0m\u001b[0;34m\u001b[0m\u001b[0m\n\u001b[0;32m--> 861\u001b[0;31m                 \u001b[0mself\u001b[0m\u001b[0;34m.\u001b[0m\u001b[0m_dispatch\u001b[0m\u001b[0;34m(\u001b[0m\u001b[0mtasks\u001b[0m\u001b[0;34m)\u001b[0m\u001b[0;34m\u001b[0m\u001b[0;34m\u001b[0m\u001b[0m\n\u001b[0m\u001b[1;32m    862\u001b[0m                 \u001b[0;32mreturn\u001b[0m \u001b[0;32mTrue\u001b[0m\u001b[0;34m\u001b[0m\u001b[0;34m\u001b[0m\u001b[0m\n\u001b[1;32m    863\u001b[0m \u001b[0;34m\u001b[0m\u001b[0m\n",
      "\u001b[0;32m/opt/conda/lib/python3.9/site-packages/joblib/parallel.py\u001b[0m in \u001b[0;36m_dispatch\u001b[0;34m(self, batch)\u001b[0m\n\u001b[1;32m    777\u001b[0m         \u001b[0;32mwith\u001b[0m \u001b[0mself\u001b[0m\u001b[0;34m.\u001b[0m\u001b[0m_lock\u001b[0m\u001b[0;34m:\u001b[0m\u001b[0;34m\u001b[0m\u001b[0;34m\u001b[0m\u001b[0m\n\u001b[1;32m    778\u001b[0m             \u001b[0mjob_idx\u001b[0m \u001b[0;34m=\u001b[0m \u001b[0mlen\u001b[0m\u001b[0;34m(\u001b[0m\u001b[0mself\u001b[0m\u001b[0;34m.\u001b[0m\u001b[0m_jobs\u001b[0m\u001b[0;34m)\u001b[0m\u001b[0;34m\u001b[0m\u001b[0;34m\u001b[0m\u001b[0m\n\u001b[0;32m--> 779\u001b[0;31m             \u001b[0mjob\u001b[0m \u001b[0;34m=\u001b[0m \u001b[0mself\u001b[0m\u001b[0;34m.\u001b[0m\u001b[0m_backend\u001b[0m\u001b[0;34m.\u001b[0m\u001b[0mapply_async\u001b[0m\u001b[0;34m(\u001b[0m\u001b[0mbatch\u001b[0m\u001b[0;34m,\u001b[0m \u001b[0mcallback\u001b[0m\u001b[0;34m=\u001b[0m\u001b[0mcb\u001b[0m\u001b[0;34m)\u001b[0m\u001b[0;34m\u001b[0m\u001b[0;34m\u001b[0m\u001b[0m\n\u001b[0m\u001b[1;32m    780\u001b[0m             \u001b[0;31m# A job can complete so quickly than its callback is\u001b[0m\u001b[0;34m\u001b[0m\u001b[0;34m\u001b[0m\u001b[0;34m\u001b[0m\u001b[0m\n\u001b[1;32m    781\u001b[0m             \u001b[0;31m# called before we get here, causing self._jobs to\u001b[0m\u001b[0;34m\u001b[0m\u001b[0;34m\u001b[0m\u001b[0;34m\u001b[0m\u001b[0m\n",
      "\u001b[0;32m/opt/conda/lib/python3.9/site-packages/joblib/_parallel_backends.py\u001b[0m in \u001b[0;36mapply_async\u001b[0;34m(self, func, callback)\u001b[0m\n\u001b[1;32m    206\u001b[0m     \u001b[0;32mdef\u001b[0m \u001b[0mapply_async\u001b[0m\u001b[0;34m(\u001b[0m\u001b[0mself\u001b[0m\u001b[0;34m,\u001b[0m \u001b[0mfunc\u001b[0m\u001b[0;34m,\u001b[0m \u001b[0mcallback\u001b[0m\u001b[0;34m=\u001b[0m\u001b[0;32mNone\u001b[0m\u001b[0;34m)\u001b[0m\u001b[0;34m:\u001b[0m\u001b[0;34m\u001b[0m\u001b[0;34m\u001b[0m\u001b[0m\n\u001b[1;32m    207\u001b[0m         \u001b[0;34m\"\"\"Schedule a func to be run\"\"\"\u001b[0m\u001b[0;34m\u001b[0m\u001b[0;34m\u001b[0m\u001b[0m\n\u001b[0;32m--> 208\u001b[0;31m         \u001b[0mresult\u001b[0m \u001b[0;34m=\u001b[0m \u001b[0mImmediateResult\u001b[0m\u001b[0;34m(\u001b[0m\u001b[0mfunc\u001b[0m\u001b[0;34m)\u001b[0m\u001b[0;34m\u001b[0m\u001b[0;34m\u001b[0m\u001b[0m\n\u001b[0m\u001b[1;32m    209\u001b[0m         \u001b[0;32mif\u001b[0m \u001b[0mcallback\u001b[0m\u001b[0;34m:\u001b[0m\u001b[0;34m\u001b[0m\u001b[0;34m\u001b[0m\u001b[0m\n\u001b[1;32m    210\u001b[0m             \u001b[0mcallback\u001b[0m\u001b[0;34m(\u001b[0m\u001b[0mresult\u001b[0m\u001b[0;34m)\u001b[0m\u001b[0;34m\u001b[0m\u001b[0;34m\u001b[0m\u001b[0m\n",
      "\u001b[0;32m/opt/conda/lib/python3.9/site-packages/joblib/_parallel_backends.py\u001b[0m in \u001b[0;36m__init__\u001b[0;34m(self, batch)\u001b[0m\n\u001b[1;32m    570\u001b[0m         \u001b[0;31m# Don't delay the application, to avoid keeping the input\u001b[0m\u001b[0;34m\u001b[0m\u001b[0;34m\u001b[0m\u001b[0;34m\u001b[0m\u001b[0m\n\u001b[1;32m    571\u001b[0m         \u001b[0;31m# arguments in memory\u001b[0m\u001b[0;34m\u001b[0m\u001b[0;34m\u001b[0m\u001b[0;34m\u001b[0m\u001b[0m\n\u001b[0;32m--> 572\u001b[0;31m         \u001b[0mself\u001b[0m\u001b[0;34m.\u001b[0m\u001b[0mresults\u001b[0m \u001b[0;34m=\u001b[0m \u001b[0mbatch\u001b[0m\u001b[0;34m(\u001b[0m\u001b[0;34m)\u001b[0m\u001b[0;34m\u001b[0m\u001b[0;34m\u001b[0m\u001b[0m\n\u001b[0m\u001b[1;32m    573\u001b[0m \u001b[0;34m\u001b[0m\u001b[0m\n\u001b[1;32m    574\u001b[0m     \u001b[0;32mdef\u001b[0m \u001b[0mget\u001b[0m\u001b[0;34m(\u001b[0m\u001b[0mself\u001b[0m\u001b[0;34m)\u001b[0m\u001b[0;34m:\u001b[0m\u001b[0;34m\u001b[0m\u001b[0;34m\u001b[0m\u001b[0m\n",
      "\u001b[0;32m/opt/conda/lib/python3.9/site-packages/joblib/parallel.py\u001b[0m in \u001b[0;36m__call__\u001b[0;34m(self)\u001b[0m\n\u001b[1;32m    260\u001b[0m         \u001b[0;31m# change the default number of processes to -1\u001b[0m\u001b[0;34m\u001b[0m\u001b[0;34m\u001b[0m\u001b[0;34m\u001b[0m\u001b[0m\n\u001b[1;32m    261\u001b[0m         \u001b[0;32mwith\u001b[0m \u001b[0mparallel_backend\u001b[0m\u001b[0;34m(\u001b[0m\u001b[0mself\u001b[0m\u001b[0;34m.\u001b[0m\u001b[0m_backend\u001b[0m\u001b[0;34m,\u001b[0m \u001b[0mn_jobs\u001b[0m\u001b[0;34m=\u001b[0m\u001b[0mself\u001b[0m\u001b[0;34m.\u001b[0m\u001b[0m_n_jobs\u001b[0m\u001b[0;34m)\u001b[0m\u001b[0;34m:\u001b[0m\u001b[0;34m\u001b[0m\u001b[0;34m\u001b[0m\u001b[0m\n\u001b[0;32m--> 262\u001b[0;31m             return [func(*args, **kwargs)\n\u001b[0m\u001b[1;32m    263\u001b[0m                     for func, args, kwargs in self.items]\n\u001b[1;32m    264\u001b[0m \u001b[0;34m\u001b[0m\u001b[0m\n",
      "\u001b[0;32m/opt/conda/lib/python3.9/site-packages/joblib/parallel.py\u001b[0m in \u001b[0;36m<listcomp>\u001b[0;34m(.0)\u001b[0m\n\u001b[1;32m    260\u001b[0m         \u001b[0;31m# change the default number of processes to -1\u001b[0m\u001b[0;34m\u001b[0m\u001b[0;34m\u001b[0m\u001b[0;34m\u001b[0m\u001b[0m\n\u001b[1;32m    261\u001b[0m         \u001b[0;32mwith\u001b[0m \u001b[0mparallel_backend\u001b[0m\u001b[0;34m(\u001b[0m\u001b[0mself\u001b[0m\u001b[0;34m.\u001b[0m\u001b[0m_backend\u001b[0m\u001b[0;34m,\u001b[0m \u001b[0mn_jobs\u001b[0m\u001b[0;34m=\u001b[0m\u001b[0mself\u001b[0m\u001b[0;34m.\u001b[0m\u001b[0m_n_jobs\u001b[0m\u001b[0;34m)\u001b[0m\u001b[0;34m:\u001b[0m\u001b[0;34m\u001b[0m\u001b[0;34m\u001b[0m\u001b[0m\n\u001b[0;32m--> 262\u001b[0;31m             return [func(*args, **kwargs)\n\u001b[0m\u001b[1;32m    263\u001b[0m                     for func, args, kwargs in self.items]\n\u001b[1;32m    264\u001b[0m \u001b[0;34m\u001b[0m\u001b[0m\n",
      "\u001b[0;32m/opt/conda/lib/python3.9/site-packages/sklearn/utils/fixes.py\u001b[0m in \u001b[0;36m__call__\u001b[0;34m(self, *args, **kwargs)\u001b[0m\n\u001b[1;32m    220\u001b[0m     \u001b[0;32mdef\u001b[0m \u001b[0m__call__\u001b[0m\u001b[0;34m(\u001b[0m\u001b[0mself\u001b[0m\u001b[0;34m,\u001b[0m \u001b[0;34m*\u001b[0m\u001b[0margs\u001b[0m\u001b[0;34m,\u001b[0m \u001b[0;34m**\u001b[0m\u001b[0mkwargs\u001b[0m\u001b[0;34m)\u001b[0m\u001b[0;34m:\u001b[0m\u001b[0;34m\u001b[0m\u001b[0;34m\u001b[0m\u001b[0m\n\u001b[1;32m    221\u001b[0m         \u001b[0;32mwith\u001b[0m \u001b[0mconfig_context\u001b[0m\u001b[0;34m(\u001b[0m\u001b[0;34m**\u001b[0m\u001b[0mself\u001b[0m\u001b[0;34m.\u001b[0m\u001b[0mconfig\u001b[0m\u001b[0;34m)\u001b[0m\u001b[0;34m:\u001b[0m\u001b[0;34m\u001b[0m\u001b[0;34m\u001b[0m\u001b[0m\n\u001b[0;32m--> 222\u001b[0;31m             \u001b[0;32mreturn\u001b[0m \u001b[0mself\u001b[0m\u001b[0;34m.\u001b[0m\u001b[0mfunction\u001b[0m\u001b[0;34m(\u001b[0m\u001b[0;34m*\u001b[0m\u001b[0margs\u001b[0m\u001b[0;34m,\u001b[0m \u001b[0;34m**\u001b[0m\u001b[0mkwargs\u001b[0m\u001b[0;34m)\u001b[0m\u001b[0;34m\u001b[0m\u001b[0;34m\u001b[0m\u001b[0m\n\u001b[0m",
      "\u001b[0;32m/opt/conda/lib/python3.9/site-packages/sklearn/linear_model/_logistic.py\u001b[0m in \u001b[0;36m_logistic_regression_path\u001b[0;34m(X, y, pos_class, Cs, fit_intercept, max_iter, tol, verbose, solver, coef, class_weight, dual, penalty, intercept_scaling, multi_class, random_state, check_input, max_squared_sum, sample_weight, l1_ratio)\u001b[0m\n\u001b[1;32m    756\u001b[0m             iprint = [-1, 50, 1, 100, 101][\n\u001b[1;32m    757\u001b[0m                 np.searchsorted(np.array([0, 1, 2, 3]), verbose)]\n\u001b[0;32m--> 758\u001b[0;31m             opt_res = optimize.minimize(\n\u001b[0m\u001b[1;32m    759\u001b[0m                 \u001b[0mfunc\u001b[0m\u001b[0;34m,\u001b[0m \u001b[0mw0\u001b[0m\u001b[0;34m,\u001b[0m \u001b[0mmethod\u001b[0m\u001b[0;34m=\u001b[0m\u001b[0;34m\"L-BFGS-B\"\u001b[0m\u001b[0;34m,\u001b[0m \u001b[0mjac\u001b[0m\u001b[0;34m=\u001b[0m\u001b[0;32mTrue\u001b[0m\u001b[0;34m,\u001b[0m\u001b[0;34m\u001b[0m\u001b[0;34m\u001b[0m\u001b[0m\n\u001b[1;32m    760\u001b[0m                 \u001b[0margs\u001b[0m\u001b[0;34m=\u001b[0m\u001b[0;34m(\u001b[0m\u001b[0mX\u001b[0m\u001b[0;34m,\u001b[0m \u001b[0mtarget\u001b[0m\u001b[0;34m,\u001b[0m \u001b[0;36m1.\u001b[0m \u001b[0;34m/\u001b[0m \u001b[0mC\u001b[0m\u001b[0;34m,\u001b[0m \u001b[0msample_weight\u001b[0m\u001b[0;34m)\u001b[0m\u001b[0;34m,\u001b[0m\u001b[0;34m\u001b[0m\u001b[0;34m\u001b[0m\u001b[0m\n",
      "\u001b[0;32m/opt/conda/lib/python3.9/site-packages/scipy/optimize/_minimize.py\u001b[0m in \u001b[0;36mminimize\u001b[0;34m(fun, x0, args, method, jac, hess, hessp, bounds, constraints, tol, callback, options)\u001b[0m\n\u001b[1;32m    697\u001b[0m                                  **options)\n\u001b[1;32m    698\u001b[0m     \u001b[0;32melif\u001b[0m \u001b[0mmeth\u001b[0m \u001b[0;34m==\u001b[0m \u001b[0;34m'l-bfgs-b'\u001b[0m\u001b[0;34m:\u001b[0m\u001b[0;34m\u001b[0m\u001b[0;34m\u001b[0m\u001b[0m\n\u001b[0;32m--> 699\u001b[0;31m         res = _minimize_lbfgsb(fun, x0, args, jac, bounds,\n\u001b[0m\u001b[1;32m    700\u001b[0m                                callback=callback, **options)\n\u001b[1;32m    701\u001b[0m     \u001b[0;32melif\u001b[0m \u001b[0mmeth\u001b[0m \u001b[0;34m==\u001b[0m \u001b[0;34m'tnc'\u001b[0m\u001b[0;34m:\u001b[0m\u001b[0;34m\u001b[0m\u001b[0;34m\u001b[0m\u001b[0m\n",
      "\u001b[0;32m/opt/conda/lib/python3.9/site-packages/scipy/optimize/_lbfgsb_py.py\u001b[0m in \u001b[0;36m_minimize_lbfgsb\u001b[0;34m(fun, x0, args, jac, bounds, disp, maxcor, ftol, gtol, eps, maxfun, maxiter, iprint, callback, maxls, finite_diff_rel_step, **unknown_options)\u001b[0m\n\u001b[1;32m    360\u001b[0m             \u001b[0;31m# until the completion of the current minimization iteration.\u001b[0m\u001b[0;34m\u001b[0m\u001b[0;34m\u001b[0m\u001b[0;34m\u001b[0m\u001b[0m\n\u001b[1;32m    361\u001b[0m             \u001b[0;31m# Overwrite f and g:\u001b[0m\u001b[0;34m\u001b[0m\u001b[0;34m\u001b[0m\u001b[0;34m\u001b[0m\u001b[0m\n\u001b[0;32m--> 362\u001b[0;31m             \u001b[0mf\u001b[0m\u001b[0;34m,\u001b[0m \u001b[0mg\u001b[0m \u001b[0;34m=\u001b[0m \u001b[0mfunc_and_grad\u001b[0m\u001b[0;34m(\u001b[0m\u001b[0mx\u001b[0m\u001b[0;34m)\u001b[0m\u001b[0;34m\u001b[0m\u001b[0;34m\u001b[0m\u001b[0m\n\u001b[0m\u001b[1;32m    363\u001b[0m         \u001b[0;32melif\u001b[0m \u001b[0mtask_str\u001b[0m\u001b[0;34m.\u001b[0m\u001b[0mstartswith\u001b[0m\u001b[0;34m(\u001b[0m\u001b[0;34mb'NEW_X'\u001b[0m\u001b[0;34m)\u001b[0m\u001b[0;34m:\u001b[0m\u001b[0;34m\u001b[0m\u001b[0;34m\u001b[0m\u001b[0m\n\u001b[1;32m    364\u001b[0m             \u001b[0;31m# new iteration\u001b[0m\u001b[0;34m\u001b[0m\u001b[0;34m\u001b[0m\u001b[0;34m\u001b[0m\u001b[0m\n",
      "\u001b[0;32m/opt/conda/lib/python3.9/site-packages/scipy/optimize/_differentiable_functions.py\u001b[0m in \u001b[0;36mfun_and_grad\u001b[0;34m(self, x)\u001b[0m\n\u001b[1;32m    283\u001b[0m         \u001b[0;32mif\u001b[0m \u001b[0;32mnot\u001b[0m \u001b[0mnp\u001b[0m\u001b[0;34m.\u001b[0m\u001b[0marray_equal\u001b[0m\u001b[0;34m(\u001b[0m\u001b[0mx\u001b[0m\u001b[0;34m,\u001b[0m \u001b[0mself\u001b[0m\u001b[0;34m.\u001b[0m\u001b[0mx\u001b[0m\u001b[0;34m)\u001b[0m\u001b[0;34m:\u001b[0m\u001b[0;34m\u001b[0m\u001b[0;34m\u001b[0m\u001b[0m\n\u001b[1;32m    284\u001b[0m             \u001b[0mself\u001b[0m\u001b[0;34m.\u001b[0m\u001b[0m_update_x_impl\u001b[0m\u001b[0;34m(\u001b[0m\u001b[0mx\u001b[0m\u001b[0;34m)\u001b[0m\u001b[0;34m\u001b[0m\u001b[0;34m\u001b[0m\u001b[0m\n\u001b[0;32m--> 285\u001b[0;31m         \u001b[0mself\u001b[0m\u001b[0;34m.\u001b[0m\u001b[0m_update_fun\u001b[0m\u001b[0;34m(\u001b[0m\u001b[0;34m)\u001b[0m\u001b[0;34m\u001b[0m\u001b[0;34m\u001b[0m\u001b[0m\n\u001b[0m\u001b[1;32m    286\u001b[0m         \u001b[0mself\u001b[0m\u001b[0;34m.\u001b[0m\u001b[0m_update_grad\u001b[0m\u001b[0;34m(\u001b[0m\u001b[0;34m)\u001b[0m\u001b[0;34m\u001b[0m\u001b[0;34m\u001b[0m\u001b[0m\n\u001b[1;32m    287\u001b[0m         \u001b[0;32mreturn\u001b[0m \u001b[0mself\u001b[0m\u001b[0;34m.\u001b[0m\u001b[0mf\u001b[0m\u001b[0;34m,\u001b[0m \u001b[0mself\u001b[0m\u001b[0;34m.\u001b[0m\u001b[0mg\u001b[0m\u001b[0;34m\u001b[0m\u001b[0;34m\u001b[0m\u001b[0m\n",
      "\u001b[0;32m/opt/conda/lib/python3.9/site-packages/scipy/optimize/_differentiable_functions.py\u001b[0m in \u001b[0;36m_update_fun\u001b[0;34m(self)\u001b[0m\n\u001b[1;32m    249\u001b[0m     \u001b[0;32mdef\u001b[0m \u001b[0m_update_fun\u001b[0m\u001b[0;34m(\u001b[0m\u001b[0mself\u001b[0m\u001b[0;34m)\u001b[0m\u001b[0;34m:\u001b[0m\u001b[0;34m\u001b[0m\u001b[0;34m\u001b[0m\u001b[0m\n\u001b[1;32m    250\u001b[0m         \u001b[0;32mif\u001b[0m \u001b[0;32mnot\u001b[0m \u001b[0mself\u001b[0m\u001b[0;34m.\u001b[0m\u001b[0mf_updated\u001b[0m\u001b[0;34m:\u001b[0m\u001b[0;34m\u001b[0m\u001b[0;34m\u001b[0m\u001b[0m\n\u001b[0;32m--> 251\u001b[0;31m             \u001b[0mself\u001b[0m\u001b[0;34m.\u001b[0m\u001b[0m_update_fun_impl\u001b[0m\u001b[0;34m(\u001b[0m\u001b[0;34m)\u001b[0m\u001b[0;34m\u001b[0m\u001b[0;34m\u001b[0m\u001b[0m\n\u001b[0m\u001b[1;32m    252\u001b[0m             \u001b[0mself\u001b[0m\u001b[0;34m.\u001b[0m\u001b[0mf_updated\u001b[0m \u001b[0;34m=\u001b[0m \u001b[0;32mTrue\u001b[0m\u001b[0;34m\u001b[0m\u001b[0;34m\u001b[0m\u001b[0m\n\u001b[1;32m    253\u001b[0m \u001b[0;34m\u001b[0m\u001b[0m\n",
      "\u001b[0;32m/opt/conda/lib/python3.9/site-packages/scipy/optimize/_differentiable_functions.py\u001b[0m in \u001b[0;36mupdate_fun\u001b[0;34m()\u001b[0m\n\u001b[1;32m    153\u001b[0m \u001b[0;34m\u001b[0m\u001b[0m\n\u001b[1;32m    154\u001b[0m         \u001b[0;32mdef\u001b[0m \u001b[0mupdate_fun\u001b[0m\u001b[0;34m(\u001b[0m\u001b[0;34m)\u001b[0m\u001b[0;34m:\u001b[0m\u001b[0;34m\u001b[0m\u001b[0;34m\u001b[0m\u001b[0m\n\u001b[0;32m--> 155\u001b[0;31m             \u001b[0mself\u001b[0m\u001b[0;34m.\u001b[0m\u001b[0mf\u001b[0m \u001b[0;34m=\u001b[0m \u001b[0mfun_wrapped\u001b[0m\u001b[0;34m(\u001b[0m\u001b[0mself\u001b[0m\u001b[0;34m.\u001b[0m\u001b[0mx\u001b[0m\u001b[0;34m)\u001b[0m\u001b[0;34m\u001b[0m\u001b[0;34m\u001b[0m\u001b[0m\n\u001b[0m\u001b[1;32m    156\u001b[0m \u001b[0;34m\u001b[0m\u001b[0m\n\u001b[1;32m    157\u001b[0m         \u001b[0mself\u001b[0m\u001b[0;34m.\u001b[0m\u001b[0m_update_fun_impl\u001b[0m \u001b[0;34m=\u001b[0m \u001b[0mupdate_fun\u001b[0m\u001b[0;34m\u001b[0m\u001b[0;34m\u001b[0m\u001b[0m\n",
      "\u001b[0;32m/opt/conda/lib/python3.9/site-packages/scipy/optimize/_differentiable_functions.py\u001b[0m in \u001b[0;36mfun_wrapped\u001b[0;34m(x)\u001b[0m\n\u001b[1;32m    135\u001b[0m             \u001b[0;31m# Overwriting results in undefined behaviour because\u001b[0m\u001b[0;34m\u001b[0m\u001b[0;34m\u001b[0m\u001b[0;34m\u001b[0m\u001b[0m\n\u001b[1;32m    136\u001b[0m             \u001b[0;31m# fun(self.x) will change self.x, with the two no longer linked.\u001b[0m\u001b[0;34m\u001b[0m\u001b[0;34m\u001b[0m\u001b[0;34m\u001b[0m\u001b[0m\n\u001b[0;32m--> 137\u001b[0;31m             \u001b[0mfx\u001b[0m \u001b[0;34m=\u001b[0m \u001b[0mfun\u001b[0m\u001b[0;34m(\u001b[0m\u001b[0mnp\u001b[0m\u001b[0;34m.\u001b[0m\u001b[0mcopy\u001b[0m\u001b[0;34m(\u001b[0m\u001b[0mx\u001b[0m\u001b[0;34m)\u001b[0m\u001b[0;34m,\u001b[0m \u001b[0;34m*\u001b[0m\u001b[0margs\u001b[0m\u001b[0;34m)\u001b[0m\u001b[0;34m\u001b[0m\u001b[0;34m\u001b[0m\u001b[0m\n\u001b[0m\u001b[1;32m    138\u001b[0m             \u001b[0;31m# Make sure the function returns a true scalar\u001b[0m\u001b[0;34m\u001b[0m\u001b[0;34m\u001b[0m\u001b[0;34m\u001b[0m\u001b[0m\n\u001b[1;32m    139\u001b[0m             \u001b[0;32mif\u001b[0m \u001b[0;32mnot\u001b[0m \u001b[0mnp\u001b[0m\u001b[0;34m.\u001b[0m\u001b[0misscalar\u001b[0m\u001b[0;34m(\u001b[0m\u001b[0mfx\u001b[0m\u001b[0;34m)\u001b[0m\u001b[0;34m:\u001b[0m\u001b[0;34m\u001b[0m\u001b[0;34m\u001b[0m\u001b[0m\n",
      "\u001b[0;32m/opt/conda/lib/python3.9/site-packages/scipy/optimize/_optimize.py\u001b[0m in \u001b[0;36m__call__\u001b[0;34m(self, x, *args)\u001b[0m\n\u001b[1;32m     74\u001b[0m     \u001b[0;32mdef\u001b[0m \u001b[0m__call__\u001b[0m\u001b[0;34m(\u001b[0m\u001b[0mself\u001b[0m\u001b[0;34m,\u001b[0m \u001b[0mx\u001b[0m\u001b[0;34m,\u001b[0m \u001b[0;34m*\u001b[0m\u001b[0margs\u001b[0m\u001b[0;34m)\u001b[0m\u001b[0;34m:\u001b[0m\u001b[0;34m\u001b[0m\u001b[0;34m\u001b[0m\u001b[0m\n\u001b[1;32m     75\u001b[0m         \u001b[0;34m\"\"\" returns the the function value \"\"\"\u001b[0m\u001b[0;34m\u001b[0m\u001b[0;34m\u001b[0m\u001b[0m\n\u001b[0;32m---> 76\u001b[0;31m         \u001b[0mself\u001b[0m\u001b[0;34m.\u001b[0m\u001b[0m_compute_if_needed\u001b[0m\u001b[0;34m(\u001b[0m\u001b[0mx\u001b[0m\u001b[0;34m,\u001b[0m \u001b[0;34m*\u001b[0m\u001b[0margs\u001b[0m\u001b[0;34m)\u001b[0m\u001b[0;34m\u001b[0m\u001b[0;34m\u001b[0m\u001b[0m\n\u001b[0m\u001b[1;32m     77\u001b[0m         \u001b[0;32mreturn\u001b[0m \u001b[0mself\u001b[0m\u001b[0;34m.\u001b[0m\u001b[0m_value\u001b[0m\u001b[0;34m\u001b[0m\u001b[0;34m\u001b[0m\u001b[0m\n\u001b[1;32m     78\u001b[0m \u001b[0;34m\u001b[0m\u001b[0m\n",
      "\u001b[0;32m/opt/conda/lib/python3.9/site-packages/scipy/optimize/_optimize.py\u001b[0m in \u001b[0;36m_compute_if_needed\u001b[0;34m(self, x, *args)\u001b[0m\n\u001b[1;32m     68\u001b[0m         \u001b[0;32mif\u001b[0m \u001b[0;32mnot\u001b[0m \u001b[0mnp\u001b[0m\u001b[0;34m.\u001b[0m\u001b[0mall\u001b[0m\u001b[0;34m(\u001b[0m\u001b[0mx\u001b[0m \u001b[0;34m==\u001b[0m \u001b[0mself\u001b[0m\u001b[0;34m.\u001b[0m\u001b[0mx\u001b[0m\u001b[0;34m)\u001b[0m \u001b[0;32mor\u001b[0m \u001b[0mself\u001b[0m\u001b[0;34m.\u001b[0m\u001b[0m_value\u001b[0m \u001b[0;32mis\u001b[0m \u001b[0;32mNone\u001b[0m \u001b[0;32mor\u001b[0m \u001b[0mself\u001b[0m\u001b[0;34m.\u001b[0m\u001b[0mjac\u001b[0m \u001b[0;32mis\u001b[0m \u001b[0;32mNone\u001b[0m\u001b[0;34m:\u001b[0m\u001b[0;34m\u001b[0m\u001b[0;34m\u001b[0m\u001b[0m\n\u001b[1;32m     69\u001b[0m             \u001b[0mself\u001b[0m\u001b[0;34m.\u001b[0m\u001b[0mx\u001b[0m \u001b[0;34m=\u001b[0m \u001b[0mnp\u001b[0m\u001b[0;34m.\u001b[0m\u001b[0masarray\u001b[0m\u001b[0;34m(\u001b[0m\u001b[0mx\u001b[0m\u001b[0;34m)\u001b[0m\u001b[0;34m.\u001b[0m\u001b[0mcopy\u001b[0m\u001b[0;34m(\u001b[0m\u001b[0;34m)\u001b[0m\u001b[0;34m\u001b[0m\u001b[0;34m\u001b[0m\u001b[0m\n\u001b[0;32m---> 70\u001b[0;31m             \u001b[0mfg\u001b[0m \u001b[0;34m=\u001b[0m \u001b[0mself\u001b[0m\u001b[0;34m.\u001b[0m\u001b[0mfun\u001b[0m\u001b[0;34m(\u001b[0m\u001b[0mx\u001b[0m\u001b[0;34m,\u001b[0m \u001b[0;34m*\u001b[0m\u001b[0margs\u001b[0m\u001b[0;34m)\u001b[0m\u001b[0;34m\u001b[0m\u001b[0;34m\u001b[0m\u001b[0m\n\u001b[0m\u001b[1;32m     71\u001b[0m             \u001b[0mself\u001b[0m\u001b[0;34m.\u001b[0m\u001b[0mjac\u001b[0m \u001b[0;34m=\u001b[0m \u001b[0mfg\u001b[0m\u001b[0;34m[\u001b[0m\u001b[0;36m1\u001b[0m\u001b[0;34m]\u001b[0m\u001b[0;34m\u001b[0m\u001b[0;34m\u001b[0m\u001b[0m\n\u001b[1;32m     72\u001b[0m             \u001b[0mself\u001b[0m\u001b[0;34m.\u001b[0m\u001b[0m_value\u001b[0m \u001b[0;34m=\u001b[0m \u001b[0mfg\u001b[0m\u001b[0;34m[\u001b[0m\u001b[0;36m0\u001b[0m\u001b[0;34m]\u001b[0m\u001b[0;34m\u001b[0m\u001b[0;34m\u001b[0m\u001b[0m\n",
      "\u001b[0;32m/opt/conda/lib/python3.9/site-packages/sklearn/linear_model/_logistic.py\u001b[0m in \u001b[0;36m_logistic_loss_and_grad\u001b[0;34m(w, X, y, alpha, sample_weight)\u001b[0m\n\u001b[1;32m    115\u001b[0m     \u001b[0mgrad\u001b[0m \u001b[0;34m=\u001b[0m \u001b[0mnp\u001b[0m\u001b[0;34m.\u001b[0m\u001b[0mempty_like\u001b[0m\u001b[0;34m(\u001b[0m\u001b[0mw\u001b[0m\u001b[0;34m)\u001b[0m\u001b[0;34m\u001b[0m\u001b[0;34m\u001b[0m\u001b[0m\n\u001b[1;32m    116\u001b[0m \u001b[0;34m\u001b[0m\u001b[0m\n\u001b[0;32m--> 117\u001b[0;31m     \u001b[0mw\u001b[0m\u001b[0;34m,\u001b[0m \u001b[0mc\u001b[0m\u001b[0;34m,\u001b[0m \u001b[0myz\u001b[0m \u001b[0;34m=\u001b[0m \u001b[0m_intercept_dot\u001b[0m\u001b[0;34m(\u001b[0m\u001b[0mw\u001b[0m\u001b[0;34m,\u001b[0m \u001b[0mX\u001b[0m\u001b[0;34m,\u001b[0m \u001b[0my\u001b[0m\u001b[0;34m)\u001b[0m\u001b[0;34m\u001b[0m\u001b[0;34m\u001b[0m\u001b[0m\n\u001b[0m\u001b[1;32m    118\u001b[0m \u001b[0;34m\u001b[0m\u001b[0m\n\u001b[1;32m    119\u001b[0m     \u001b[0;32mif\u001b[0m \u001b[0msample_weight\u001b[0m \u001b[0;32mis\u001b[0m \u001b[0;32mNone\u001b[0m\u001b[0;34m:\u001b[0m\u001b[0;34m\u001b[0m\u001b[0;34m\u001b[0m\u001b[0m\n",
      "\u001b[0;32m/opt/conda/lib/python3.9/site-packages/sklearn/linear_model/_logistic.py\u001b[0m in \u001b[0;36m_intercept_dot\u001b[0;34m(w, X, y)\u001b[0m\n\u001b[1;32m     78\u001b[0m         \u001b[0mw\u001b[0m \u001b[0;34m=\u001b[0m \u001b[0mw\u001b[0m\u001b[0;34m[\u001b[0m\u001b[0;34m:\u001b[0m\u001b[0;34m-\u001b[0m\u001b[0;36m1\u001b[0m\u001b[0;34m]\u001b[0m\u001b[0;34m\u001b[0m\u001b[0;34m\u001b[0m\u001b[0m\n\u001b[1;32m     79\u001b[0m \u001b[0;34m\u001b[0m\u001b[0m\n\u001b[0;32m---> 80\u001b[0;31m     \u001b[0mz\u001b[0m \u001b[0;34m=\u001b[0m \u001b[0msafe_sparse_dot\u001b[0m\u001b[0;34m(\u001b[0m\u001b[0mX\u001b[0m\u001b[0;34m,\u001b[0m \u001b[0mw\u001b[0m\u001b[0;34m)\u001b[0m \u001b[0;34m+\u001b[0m \u001b[0mc\u001b[0m\u001b[0;34m\u001b[0m\u001b[0;34m\u001b[0m\u001b[0m\n\u001b[0m\u001b[1;32m     81\u001b[0m     \u001b[0myz\u001b[0m \u001b[0;34m=\u001b[0m \u001b[0my\u001b[0m \u001b[0;34m*\u001b[0m \u001b[0mz\u001b[0m\u001b[0;34m\u001b[0m\u001b[0;34m\u001b[0m\u001b[0m\n\u001b[1;32m     82\u001b[0m     \u001b[0;32mreturn\u001b[0m \u001b[0mw\u001b[0m\u001b[0;34m,\u001b[0m \u001b[0mc\u001b[0m\u001b[0;34m,\u001b[0m \u001b[0myz\u001b[0m\u001b[0;34m\u001b[0m\u001b[0;34m\u001b[0m\u001b[0m\n",
      "\u001b[0;32m/opt/conda/lib/python3.9/site-packages/sklearn/utils/validation.py\u001b[0m in \u001b[0;36minner_f\u001b[0;34m(*args, **kwargs)\u001b[0m\n\u001b[1;32m     61\u001b[0m             \u001b[0mextra_args\u001b[0m \u001b[0;34m=\u001b[0m \u001b[0mlen\u001b[0m\u001b[0;34m(\u001b[0m\u001b[0margs\u001b[0m\u001b[0;34m)\u001b[0m \u001b[0;34m-\u001b[0m \u001b[0mlen\u001b[0m\u001b[0;34m(\u001b[0m\u001b[0mall_args\u001b[0m\u001b[0;34m)\u001b[0m\u001b[0;34m\u001b[0m\u001b[0;34m\u001b[0m\u001b[0m\n\u001b[1;32m     62\u001b[0m             \u001b[0;32mif\u001b[0m \u001b[0mextra_args\u001b[0m \u001b[0;34m<=\u001b[0m \u001b[0;36m0\u001b[0m\u001b[0;34m:\u001b[0m\u001b[0;34m\u001b[0m\u001b[0;34m\u001b[0m\u001b[0m\n\u001b[0;32m---> 63\u001b[0;31m                 \u001b[0;32mreturn\u001b[0m \u001b[0mf\u001b[0m\u001b[0;34m(\u001b[0m\u001b[0;34m*\u001b[0m\u001b[0margs\u001b[0m\u001b[0;34m,\u001b[0m \u001b[0;34m**\u001b[0m\u001b[0mkwargs\u001b[0m\u001b[0;34m)\u001b[0m\u001b[0;34m\u001b[0m\u001b[0;34m\u001b[0m\u001b[0m\n\u001b[0m\u001b[1;32m     64\u001b[0m \u001b[0;34m\u001b[0m\u001b[0m\n\u001b[1;32m     65\u001b[0m             \u001b[0;31m# extra_args > 0\u001b[0m\u001b[0;34m\u001b[0m\u001b[0;34m\u001b[0m\u001b[0;34m\u001b[0m\u001b[0m\n",
      "\u001b[0;32m/opt/conda/lib/python3.9/site-packages/sklearn/utils/extmath.py\u001b[0m in \u001b[0;36msafe_sparse_dot\u001b[0;34m(a, b, dense_output)\u001b[0m\n\u001b[1;32m    150\u001b[0m             \u001b[0mret\u001b[0m \u001b[0;34m=\u001b[0m \u001b[0mnp\u001b[0m\u001b[0;34m.\u001b[0m\u001b[0mdot\u001b[0m\u001b[0;34m(\u001b[0m\u001b[0ma\u001b[0m\u001b[0;34m,\u001b[0m \u001b[0mb\u001b[0m\u001b[0;34m)\u001b[0m\u001b[0;34m\u001b[0m\u001b[0;34m\u001b[0m\u001b[0m\n\u001b[1;32m    151\u001b[0m     \u001b[0;32melse\u001b[0m\u001b[0;34m:\u001b[0m\u001b[0;34m\u001b[0m\u001b[0;34m\u001b[0m\u001b[0m\n\u001b[0;32m--> 152\u001b[0;31m         \u001b[0mret\u001b[0m \u001b[0;34m=\u001b[0m \u001b[0ma\u001b[0m \u001b[0;34m@\u001b[0m \u001b[0mb\u001b[0m\u001b[0;34m\u001b[0m\u001b[0;34m\u001b[0m\u001b[0m\n\u001b[0m\u001b[1;32m    153\u001b[0m \u001b[0;34m\u001b[0m\u001b[0m\n\u001b[1;32m    154\u001b[0m     if (sparse.issparse(a) and sparse.issparse(b)\n",
      "\u001b[0;32m/opt/conda/lib/python3.9/site-packages/scipy/sparse/_base.py\u001b[0m in \u001b[0;36m__matmul__\u001b[0;34m(self, other)\u001b[0m\n\u001b[1;32m    628\u001b[0m             raise ValueError(\"Scalar operands are not allowed, \"\n\u001b[1;32m    629\u001b[0m                              \"use '*' instead\")\n\u001b[0;32m--> 630\u001b[0;31m         \u001b[0;32mreturn\u001b[0m \u001b[0mself\u001b[0m\u001b[0;34m.\u001b[0m\u001b[0m_mul_dispatch\u001b[0m\u001b[0;34m(\u001b[0m\u001b[0mother\u001b[0m\u001b[0;34m)\u001b[0m\u001b[0;34m\u001b[0m\u001b[0;34m\u001b[0m\u001b[0m\n\u001b[0m\u001b[1;32m    631\u001b[0m \u001b[0;34m\u001b[0m\u001b[0m\n\u001b[1;32m    632\u001b[0m     \u001b[0;32mdef\u001b[0m \u001b[0m__rmatmul__\u001b[0m\u001b[0;34m(\u001b[0m\u001b[0mself\u001b[0m\u001b[0;34m,\u001b[0m \u001b[0mother\u001b[0m\u001b[0;34m)\u001b[0m\u001b[0;34m:\u001b[0m\u001b[0;34m\u001b[0m\u001b[0;34m\u001b[0m\u001b[0m\n",
      "\u001b[0;32m/opt/conda/lib/python3.9/site-packages/scipy/sparse/_base.py\u001b[0m in \u001b[0;36m_mul_dispatch\u001b[0;34m(self, other)\u001b[0m\n\u001b[1;32m    526\u001b[0m             \u001b[0;31m# Fast path for the most common case\u001b[0m\u001b[0;34m\u001b[0m\u001b[0;34m\u001b[0m\u001b[0;34m\u001b[0m\u001b[0m\n\u001b[1;32m    527\u001b[0m             \u001b[0;32mif\u001b[0m \u001b[0mother\u001b[0m\u001b[0;34m.\u001b[0m\u001b[0mshape\u001b[0m \u001b[0;34m==\u001b[0m \u001b[0;34m(\u001b[0m\u001b[0mN\u001b[0m\u001b[0;34m,\u001b[0m\u001b[0;34m)\u001b[0m\u001b[0;34m:\u001b[0m\u001b[0;34m\u001b[0m\u001b[0;34m\u001b[0m\u001b[0m\n\u001b[0;32m--> 528\u001b[0;31m                 \u001b[0;32mreturn\u001b[0m \u001b[0mself\u001b[0m\u001b[0;34m.\u001b[0m\u001b[0m_mul_vector\u001b[0m\u001b[0;34m(\u001b[0m\u001b[0mother\u001b[0m\u001b[0;34m)\u001b[0m\u001b[0;34m\u001b[0m\u001b[0;34m\u001b[0m\u001b[0m\n\u001b[0m\u001b[1;32m    529\u001b[0m             \u001b[0;32melif\u001b[0m \u001b[0mother\u001b[0m\u001b[0;34m.\u001b[0m\u001b[0mshape\u001b[0m \u001b[0;34m==\u001b[0m \u001b[0;34m(\u001b[0m\u001b[0mN\u001b[0m\u001b[0;34m,\u001b[0m \u001b[0;36m1\u001b[0m\u001b[0;34m)\u001b[0m\u001b[0;34m:\u001b[0m\u001b[0;34m\u001b[0m\u001b[0;34m\u001b[0m\u001b[0m\n\u001b[1;32m    530\u001b[0m                 \u001b[0;32mreturn\u001b[0m \u001b[0mself\u001b[0m\u001b[0;34m.\u001b[0m\u001b[0m_mul_vector\u001b[0m\u001b[0;34m(\u001b[0m\u001b[0mother\u001b[0m\u001b[0;34m.\u001b[0m\u001b[0mravel\u001b[0m\u001b[0;34m(\u001b[0m\u001b[0;34m)\u001b[0m\u001b[0;34m)\u001b[0m\u001b[0;34m.\u001b[0m\u001b[0mreshape\u001b[0m\u001b[0;34m(\u001b[0m\u001b[0mM\u001b[0m\u001b[0;34m,\u001b[0m \u001b[0;36m1\u001b[0m\u001b[0;34m)\u001b[0m\u001b[0;34m\u001b[0m\u001b[0;34m\u001b[0m\u001b[0m\n",
      "\u001b[0;32m/opt/conda/lib/python3.9/site-packages/scipy/sparse/_compressed.py\u001b[0m in \u001b[0;36m_mul_vector\u001b[0;34m(self, other)\u001b[0m\n\u001b[1;32m    487\u001b[0m         \u001b[0;31m# csr_matvec or csc_matvec\u001b[0m\u001b[0;34m\u001b[0m\u001b[0;34m\u001b[0m\u001b[0;34m\u001b[0m\u001b[0m\n\u001b[1;32m    488\u001b[0m         \u001b[0mfn\u001b[0m \u001b[0;34m=\u001b[0m \u001b[0mgetattr\u001b[0m\u001b[0;34m(\u001b[0m\u001b[0m_sparsetools\u001b[0m\u001b[0;34m,\u001b[0m \u001b[0mself\u001b[0m\u001b[0;34m.\u001b[0m\u001b[0mformat\u001b[0m \u001b[0;34m+\u001b[0m \u001b[0;34m'_matvec'\u001b[0m\u001b[0;34m)\u001b[0m\u001b[0;34m\u001b[0m\u001b[0;34m\u001b[0m\u001b[0m\n\u001b[0;32m--> 489\u001b[0;31m         \u001b[0mfn\u001b[0m\u001b[0;34m(\u001b[0m\u001b[0mM\u001b[0m\u001b[0;34m,\u001b[0m \u001b[0mN\u001b[0m\u001b[0;34m,\u001b[0m \u001b[0mself\u001b[0m\u001b[0;34m.\u001b[0m\u001b[0mindptr\u001b[0m\u001b[0;34m,\u001b[0m \u001b[0mself\u001b[0m\u001b[0;34m.\u001b[0m\u001b[0mindices\u001b[0m\u001b[0;34m,\u001b[0m \u001b[0mself\u001b[0m\u001b[0;34m.\u001b[0m\u001b[0mdata\u001b[0m\u001b[0;34m,\u001b[0m \u001b[0mother\u001b[0m\u001b[0;34m,\u001b[0m \u001b[0mresult\u001b[0m\u001b[0;34m)\u001b[0m\u001b[0;34m\u001b[0m\u001b[0;34m\u001b[0m\u001b[0m\n\u001b[0m\u001b[1;32m    490\u001b[0m \u001b[0;34m\u001b[0m\u001b[0m\n\u001b[1;32m    491\u001b[0m         \u001b[0;32mreturn\u001b[0m \u001b[0mresult\u001b[0m\u001b[0;34m\u001b[0m\u001b[0;34m\u001b[0m\u001b[0m\n",
      "\u001b[0;31mKeyboardInterrupt\u001b[0m: "
     ]
    }
   ],
   "source": [
    "f1 = make_scorer(f1_score)\n",
    "\n",
    "grid={\"C\": np.logspace(2.0, 4.0, num=5, base=2), \"penalty\":[\"l2\"]} \n",
    "\n",
    "gsearch_LR = GridSearchCV(estimator=model, \n",
    "                       cv=5, \n",
    "                       param_grid=grid,\n",
    "                       scoring = 'f1')\n",
    "\n",
    "gsearch_LR.fit(tf_idf_train, target_train)    "
   ]
  },
  {
   "cell_type": "code",
   "execution_count": null,
   "metadata": {},
   "outputs": [],
   "source": [
    "print(\"Best Parameters:\", gsearch_LR.best_params_)\n",
    "print(\"Best Score:\", gsearch_LR.best_score_)"
   ]
  },
  {
   "cell_type": "code",
   "execution_count": 15,
   "metadata": {},
   "outputs": [
    {
     "name": "stdout",
     "output_type": "stream",
     "text": [
      "Best Parameters: {'class_weight': {0: 1, 1: 8.841344371679229}, 'max_depth': 90, 'random_state': 12345}\n",
      "\n",
      "Grid score:\n",
      "\n",
      "F1 на cv 0.6455898549305183\n"
     ]
    }
   ],
   "source": [
    "classificator = DecisionTreeClassifier()\n",
    "dict_classes={0:1, 1:class_ratio}\n",
    "hyperparams = [{'max_depth':[x for x in range(50,100,2)],\n",
    "                'random_state':[RANDOM_STATE],\n",
    "                'class_weight':[dict_classes]}]\n",
    "\n",
    "cv_counts = 2\n",
    "\n",
    "clf = GridSearchCV(classificator, hyperparams, scoring='f1',cv=cv_counts)\n",
    "clf.fit(tf_idf_train, target_train)\n",
    "\n",
    "DTC_best_params = clf.best_params_\n",
    "print(\"Best Parameters:\", DTC_best_params)\n",
    "print()\n",
    "print(\"Grid score:\")\n",
    "print()\n",
    "means = clf.cv_results_['mean_test_score']\n",
    "stds = clf.cv_results_['std_test_score']\n",
    "\n",
    "cv_f1_DTC = max(means)\n",
    "print('F1 на cv', cv_f1_DTC)"
   ]
  },
  {
   "cell_type": "markdown",
   "metadata": {},
   "source": [
    "Делаем предсказания на тестовой выборке"
   ]
  },
  {
   "cell_type": "code",
   "execution_count": null,
   "metadata": {},
   "outputs": [],
   "source": [
    "predictions = gsearch_LR.predict(tf_idf_test)\n",
    "print('f1-score: {:.2f}'.format(f1_score(target_test, predictions)))"
   ]
  },
  {
   "cell_type": "markdown",
   "metadata": {},
   "source": [
    "## Выводы"
   ]
  },
  {
   "cell_type": "markdown",
   "metadata": {},
   "source": [
    "Были подготовлены данные, лемматизирован текст.\n",
    "\n",
    "Данные разделены на обучающую и тестовую выборки.\n",
    "\n",
    "Обучены две модели LR и DecisionTreeClassifier. С помощью LR получена модель со значением метрики качества F1 больше 0.75.\n"
   ]
  }
 ],
 "metadata": {
  "ExecuteTimeLog": [
   {
    "duration": 2758,
    "start_time": "2023-11-30T10:29:03.112Z"
   },
   {
    "duration": 182,
    "start_time": "2023-11-30T10:47:19.111Z"
   },
   {
    "duration": 46,
    "start_time": "2023-11-30T10:47:21.213Z"
   },
   {
    "duration": 11,
    "start_time": "2023-11-30T10:47:22.225Z"
   },
   {
    "duration": 10,
    "start_time": "2023-11-30T10:47:29.994Z"
   },
   {
    "duration": 356,
    "start_time": "2023-11-30T11:13:58.626Z"
   },
   {
    "duration": 55,
    "start_time": "2023-11-30T11:14:02.677Z"
   },
   {
    "duration": 11,
    "start_time": "2023-11-30T11:14:03.486Z"
   },
   {
    "duration": 6,
    "start_time": "2023-11-30T11:14:05.019Z"
   },
   {
    "duration": 7,
    "start_time": "2023-11-30T11:14:08.498Z"
   },
   {
    "duration": 2793,
    "start_time": "2023-11-30T11:48:12.179Z"
   },
   {
    "duration": 46,
    "start_time": "2023-11-30T11:48:14.974Z"
   },
   {
    "duration": 11,
    "start_time": "2023-11-30T11:48:15.021Z"
   },
   {
    "duration": 30,
    "start_time": "2023-11-30T11:48:15.033Z"
   },
   {
    "duration": 39,
    "start_time": "2023-11-30T11:48:15.065Z"
   },
   {
    "duration": 176,
    "start_time": "2023-11-30T11:48:15.105Z"
   },
   {
    "duration": 0,
    "start_time": "2023-11-30T11:48:15.283Z"
   },
   {
    "duration": 0,
    "start_time": "2023-11-30T11:48:15.284Z"
   },
   {
    "duration": 0,
    "start_time": "2023-11-30T11:48:15.285Z"
   },
   {
    "duration": 0,
    "start_time": "2023-11-30T11:48:15.286Z"
   },
   {
    "duration": 0,
    "start_time": "2023-11-30T11:48:15.287Z"
   },
   {
    "duration": 0,
    "start_time": "2023-11-30T11:48:15.288Z"
   },
   {
    "duration": 0,
    "start_time": "2023-11-30T11:48:15.289Z"
   },
   {
    "duration": 16,
    "start_time": "2023-11-30T11:54:42.664Z"
   },
   {
    "duration": 6,
    "start_time": "2023-11-30T11:54:49.243Z"
   },
   {
    "duration": 6,
    "start_time": "2023-11-30T11:54:58.352Z"
   },
   {
    "duration": 6,
    "start_time": "2023-11-30T11:55:49.392Z"
   },
   {
    "duration": 43,
    "start_time": "2023-11-30T11:55:52.333Z"
   },
   {
    "duration": 11,
    "start_time": "2023-11-30T11:55:53.135Z"
   },
   {
    "duration": 7,
    "start_time": "2023-11-30T11:55:54.265Z"
   },
   {
    "duration": 2869,
    "start_time": "2023-11-30T12:11:15.084Z"
   },
   {
    "duration": 45,
    "start_time": "2023-11-30T12:11:17.955Z"
   },
   {
    "duration": 11,
    "start_time": "2023-11-30T12:11:18.001Z"
   },
   {
    "duration": 11,
    "start_time": "2023-11-30T12:11:18.015Z"
   },
   {
    "duration": 3,
    "start_time": "2023-11-30T12:11:18.027Z"
   },
   {
    "duration": 5,
    "start_time": "2023-11-30T12:11:18.031Z"
   },
   {
    "duration": 174,
    "start_time": "2023-11-30T12:11:18.037Z"
   },
   {
    "duration": 0,
    "start_time": "2023-11-30T12:11:18.213Z"
   },
   {
    "duration": 0,
    "start_time": "2023-11-30T12:11:18.214Z"
   },
   {
    "duration": 0,
    "start_time": "2023-11-30T12:11:18.215Z"
   },
   {
    "duration": 0,
    "start_time": "2023-11-30T12:11:18.216Z"
   },
   {
    "duration": 0,
    "start_time": "2023-11-30T12:11:18.217Z"
   },
   {
    "duration": 0,
    "start_time": "2023-11-30T12:11:18.218Z"
   },
   {
    "duration": 0,
    "start_time": "2023-11-30T12:11:18.219Z"
   },
   {
    "duration": 0,
    "start_time": "2023-11-30T12:11:18.220Z"
   },
   {
    "duration": 0,
    "start_time": "2023-11-30T12:11:18.221Z"
   },
   {
    "duration": 2773,
    "start_time": "2023-11-30T12:12:58.081Z"
   },
   {
    "duration": 44,
    "start_time": "2023-11-30T12:13:00.856Z"
   },
   {
    "duration": 11,
    "start_time": "2023-11-30T12:13:00.901Z"
   },
   {
    "duration": 40,
    "start_time": "2023-11-30T12:13:00.914Z"
   },
   {
    "duration": 40,
    "start_time": "2023-11-30T12:13:00.956Z"
   },
   {
    "duration": 28,
    "start_time": "2023-11-30T12:13:00.997Z"
   },
   {
    "duration": 167,
    "start_time": "2023-11-30T12:13:01.027Z"
   },
   {
    "duration": 0,
    "start_time": "2023-11-30T12:13:01.196Z"
   },
   {
    "duration": 0,
    "start_time": "2023-11-30T12:13:01.197Z"
   },
   {
    "duration": 0,
    "start_time": "2023-11-30T12:13:01.198Z"
   },
   {
    "duration": 0,
    "start_time": "2023-11-30T12:13:01.211Z"
   },
   {
    "duration": 0,
    "start_time": "2023-11-30T12:13:01.212Z"
   },
   {
    "duration": 0,
    "start_time": "2023-11-30T12:13:01.214Z"
   },
   {
    "duration": 0,
    "start_time": "2023-11-30T12:13:01.215Z"
   },
   {
    "duration": 0,
    "start_time": "2023-11-30T12:13:01.216Z"
   },
   {
    "duration": 0,
    "start_time": "2023-11-30T12:13:01.217Z"
   },
   {
    "duration": 15,
    "start_time": "2023-11-30T12:13:30.899Z"
   },
   {
    "duration": 6,
    "start_time": "2023-11-30T12:14:38.756Z"
   },
   {
    "duration": 15,
    "start_time": "2023-11-30T12:14:41.450Z"
   },
   {
    "duration": 3,
    "start_time": "2023-11-30T12:16:15.381Z"
   },
   {
    "duration": 979,
    "start_time": "2023-11-30T12:16:16.365Z"
   },
   {
    "duration": 2909,
    "start_time": "2023-11-30T12:16:42.804Z"
   },
   {
    "duration": 45,
    "start_time": "2023-11-30T12:16:45.715Z"
   },
   {
    "duration": 11,
    "start_time": "2023-11-30T12:16:45.762Z"
   },
   {
    "duration": 19,
    "start_time": "2023-11-30T12:16:45.775Z"
   },
   {
    "duration": 14,
    "start_time": "2023-11-30T12:16:45.796Z"
   },
   {
    "duration": 5,
    "start_time": "2023-11-30T12:16:45.811Z"
   },
   {
    "duration": 4079,
    "start_time": "2023-11-30T12:16:45.818Z"
   },
   {
    "duration": 0,
    "start_time": "2023-11-30T12:16:49.899Z"
   },
   {
    "duration": 0,
    "start_time": "2023-11-30T12:16:49.900Z"
   },
   {
    "duration": 0,
    "start_time": "2023-11-30T12:16:49.901Z"
   },
   {
    "duration": 0,
    "start_time": "2023-11-30T12:16:49.902Z"
   },
   {
    "duration": 0,
    "start_time": "2023-11-30T12:16:49.911Z"
   },
   {
    "duration": 0,
    "start_time": "2023-11-30T12:16:49.912Z"
   },
   {
    "duration": 0,
    "start_time": "2023-11-30T12:16:49.913Z"
   },
   {
    "duration": 0,
    "start_time": "2023-11-30T12:16:49.914Z"
   },
   {
    "duration": 0,
    "start_time": "2023-11-30T12:16:49.915Z"
   },
   {
    "duration": 3329,
    "start_time": "2023-11-30T12:17:01.957Z"
   },
   {
    "duration": 2849,
    "start_time": "2023-11-30T12:17:12.565Z"
   },
   {
    "duration": 49,
    "start_time": "2023-11-30T12:17:15.416Z"
   },
   {
    "duration": 11,
    "start_time": "2023-11-30T12:17:15.467Z"
   },
   {
    "duration": 20,
    "start_time": "2023-11-30T12:17:15.480Z"
   },
   {
    "duration": 19,
    "start_time": "2023-11-30T12:17:15.503Z"
   },
   {
    "duration": 26,
    "start_time": "2023-11-30T12:17:15.523Z"
   },
   {
    "duration": 4014,
    "start_time": "2023-11-30T12:17:15.550Z"
   },
   {
    "duration": 11,
    "start_time": "2023-11-30T12:17:19.566Z"
   },
   {
    "duration": 52,
    "start_time": "2023-11-30T12:17:19.579Z"
   },
   {
    "duration": 27,
    "start_time": "2023-11-30T12:17:19.633Z"
   },
   {
    "duration": 2,
    "start_time": "2023-11-30T12:17:19.662Z"
   },
   {
    "duration": 185,
    "start_time": "2023-11-30T12:17:19.666Z"
   },
   {
    "duration": 0,
    "start_time": "2023-11-30T12:17:19.852Z"
   },
   {
    "duration": 0,
    "start_time": "2023-11-30T12:17:19.853Z"
   },
   {
    "duration": 0,
    "start_time": "2023-11-30T12:17:19.855Z"
   },
   {
    "duration": 0,
    "start_time": "2023-11-30T12:17:19.855Z"
   },
   {
    "duration": 8,
    "start_time": "2023-11-30T12:34:05.864Z"
   },
   {
    "duration": 12,
    "start_time": "2023-11-30T12:34:37.017Z"
   },
   {
    "duration": 3,
    "start_time": "2023-11-30T12:34:44.523Z"
   },
   {
    "duration": 5,
    "start_time": "2023-11-30T12:34:55.820Z"
   },
   {
    "duration": 44,
    "start_time": "2023-12-04T13:58:36.444Z"
   },
   {
    "duration": 2938,
    "start_time": "2023-12-04T13:58:52.505Z"
   },
   {
    "duration": 114,
    "start_time": "2023-12-04T13:58:55.445Z"
   },
   {
    "duration": 12,
    "start_time": "2023-12-04T13:58:55.561Z"
   },
   {
    "duration": 18,
    "start_time": "2023-12-04T13:58:55.575Z"
   },
   {
    "duration": 3,
    "start_time": "2023-12-04T13:58:55.594Z"
   },
   {
    "duration": 4,
    "start_time": "2023-12-04T13:58:55.599Z"
   },
   {
    "duration": 3974,
    "start_time": "2023-12-04T13:58:55.604Z"
   },
   {
    "duration": 8,
    "start_time": "2023-12-04T13:58:59.580Z"
   },
   {
    "duration": 32,
    "start_time": "2023-12-04T13:58:59.590Z"
   },
   {
    "duration": 39,
    "start_time": "2023-12-04T13:58:59.625Z"
   },
   {
    "duration": 27,
    "start_time": "2023-12-04T13:58:59.665Z"
   },
   {
    "duration": 3,
    "start_time": "2023-12-04T13:58:59.694Z"
   },
   {
    "duration": 16,
    "start_time": "2023-12-04T13:58:59.698Z"
   },
   {
    "duration": 4,
    "start_time": "2023-12-04T13:58:59.716Z"
   },
   {
    "duration": 194,
    "start_time": "2023-12-04T13:58:59.721Z"
   },
   {
    "duration": 0,
    "start_time": "2023-12-04T13:58:59.916Z"
   },
   {
    "duration": 0,
    "start_time": "2023-12-04T13:58:59.917Z"
   },
   {
    "duration": 0,
    "start_time": "2023-12-04T13:58:59.918Z"
   },
   {
    "duration": 0,
    "start_time": "2023-12-04T13:58:59.919Z"
   },
   {
    "duration": 939,
    "start_time": "2023-12-04T16:15:44.411Z"
   },
   {
    "duration": 2829,
    "start_time": "2023-12-04T16:17:48.341Z"
   },
   {
    "duration": 43,
    "start_time": "2023-12-04T16:17:51.172Z"
   },
   {
    "duration": 10,
    "start_time": "2023-12-04T16:17:51.216Z"
   },
   {
    "duration": 9,
    "start_time": "2023-12-04T16:17:51.228Z"
   },
   {
    "duration": 3,
    "start_time": "2023-12-04T16:17:51.238Z"
   },
   {
    "duration": 4,
    "start_time": "2023-12-04T16:17:51.242Z"
   },
   {
    "duration": 4035,
    "start_time": "2023-12-04T16:17:51.248Z"
   },
   {
    "duration": 8,
    "start_time": "2023-12-04T16:17:55.285Z"
   },
   {
    "duration": 20,
    "start_time": "2023-12-04T16:17:55.295Z"
   },
   {
    "duration": 44,
    "start_time": "2023-12-04T16:17:55.317Z"
   },
   {
    "duration": 33,
    "start_time": "2023-12-04T16:17:55.363Z"
   },
   {
    "duration": 17,
    "start_time": "2023-12-04T16:17:55.397Z"
   },
   {
    "duration": 1111,
    "start_time": "2023-12-04T16:17:55.415Z"
   },
   {
    "duration": 0,
    "start_time": "2023-12-04T16:17:56.528Z"
   },
   {
    "duration": 0,
    "start_time": "2023-12-04T16:17:56.530Z"
   },
   {
    "duration": 0,
    "start_time": "2023-12-04T16:17:56.531Z"
   },
   {
    "duration": 0,
    "start_time": "2023-12-04T16:17:56.532Z"
   },
   {
    "duration": 0,
    "start_time": "2023-12-04T16:17:56.534Z"
   },
   {
    "duration": 5,
    "start_time": "2023-12-04T16:18:38.553Z"
   },
   {
    "duration": 8,
    "start_time": "2023-12-04T16:18:50.656Z"
   },
   {
    "duration": 957,
    "start_time": "2023-12-04T16:19:04.602Z"
   },
   {
    "duration": 5,
    "start_time": "2023-12-04T16:19:24.734Z"
   },
   {
    "duration": 203,
    "start_time": "2023-12-04T16:21:57.084Z"
   },
   {
    "duration": 5,
    "start_time": "2023-12-04T16:23:20.275Z"
   },
   {
    "duration": 77,
    "start_time": "2023-12-04T16:23:21.126Z"
   },
   {
    "duration": 6172,
    "start_time": "2023-12-04T16:23:38.842Z"
   },
   {
    "duration": 43,
    "start_time": "2023-12-04T16:23:45.016Z"
   },
   {
    "duration": 10,
    "start_time": "2023-12-04T16:23:45.060Z"
   },
   {
    "duration": 25,
    "start_time": "2023-12-04T16:23:45.072Z"
   },
   {
    "duration": 37,
    "start_time": "2023-12-04T16:23:45.099Z"
   },
   {
    "duration": 17,
    "start_time": "2023-12-04T16:23:45.137Z"
   },
   {
    "duration": 4019,
    "start_time": "2023-12-04T16:23:45.155Z"
   },
   {
    "duration": 6,
    "start_time": "2023-12-04T16:23:49.176Z"
   },
   {
    "duration": 12,
    "start_time": "2023-12-04T16:23:49.184Z"
   },
   {
    "duration": 106,
    "start_time": "2023-12-04T16:23:49.198Z"
   },
   {
    "duration": 8,
    "start_time": "2023-12-04T16:23:49.305Z"
   },
   {
    "duration": 145,
    "start_time": "2023-12-04T16:23:49.315Z"
   },
   {
    "duration": 28,
    "start_time": "2023-12-04T16:23:49.462Z"
   },
   {
    "duration": 12,
    "start_time": "2023-12-04T16:23:49.492Z"
   },
   {
    "duration": 1297,
    "start_time": "2023-12-04T16:23:49.511Z"
   },
   {
    "duration": 0,
    "start_time": "2023-12-04T16:23:50.809Z"
   },
   {
    "duration": 0,
    "start_time": "2023-12-04T16:23:50.811Z"
   },
   {
    "duration": 0,
    "start_time": "2023-12-04T16:23:50.811Z"
   },
   {
    "duration": 0,
    "start_time": "2023-12-04T16:23:50.812Z"
   },
   {
    "duration": 0,
    "start_time": "2023-12-04T16:23:50.813Z"
   },
   {
    "duration": 13,
    "start_time": "2023-12-04T16:24:48.060Z"
   },
   {
    "duration": 11,
    "start_time": "2023-12-04T16:25:02.485Z"
   },
   {
    "duration": 21,
    "start_time": "2023-12-04T16:25:07.337Z"
   },
   {
    "duration": 5,
    "start_time": "2023-12-04T16:25:27.426Z"
   },
   {
    "duration": 6,
    "start_time": "2023-12-04T16:26:13.498Z"
   },
   {
    "duration": 6,
    "start_time": "2023-12-04T16:26:23.047Z"
   },
   {
    "duration": 10,
    "start_time": "2023-12-04T16:26:53.218Z"
   },
   {
    "duration": 2769,
    "start_time": "2023-12-04T16:28:16.846Z"
   },
   {
    "duration": 44,
    "start_time": "2023-12-04T16:28:19.617Z"
   },
   {
    "duration": 17,
    "start_time": "2023-12-04T16:28:19.662Z"
   },
   {
    "duration": 10,
    "start_time": "2023-12-04T16:28:19.681Z"
   },
   {
    "duration": 5,
    "start_time": "2023-12-04T16:28:19.693Z"
   },
   {
    "duration": 8,
    "start_time": "2023-12-04T16:28:19.700Z"
   },
   {
    "duration": 4008,
    "start_time": "2023-12-04T16:28:19.710Z"
   },
   {
    "duration": 8,
    "start_time": "2023-12-04T16:28:23.719Z"
   },
   {
    "duration": 13,
    "start_time": "2023-12-04T16:28:23.728Z"
   },
   {
    "duration": 5,
    "start_time": "2023-12-04T16:28:23.743Z"
   },
   {
    "duration": 16,
    "start_time": "2023-12-04T16:28:23.749Z"
   },
   {
    "duration": 5,
    "start_time": "2023-12-04T16:28:23.766Z"
   },
   {
    "duration": 9,
    "start_time": "2023-12-04T16:28:23.773Z"
   },
   {
    "duration": 64,
    "start_time": "2023-12-04T16:28:23.785Z"
   },
   {
    "duration": 28,
    "start_time": "2023-12-04T16:28:23.850Z"
   },
   {
    "duration": 33,
    "start_time": "2023-12-04T16:28:23.879Z"
   },
   {
    "duration": 1050,
    "start_time": "2023-12-04T16:28:23.913Z"
   },
   {
    "duration": 0,
    "start_time": "2023-12-04T16:28:24.964Z"
   },
   {
    "duration": 0,
    "start_time": "2023-12-04T16:28:24.966Z"
   },
   {
    "duration": 0,
    "start_time": "2023-12-04T16:28:24.968Z"
   },
   {
    "duration": 0,
    "start_time": "2023-12-04T16:28:24.969Z"
   },
   {
    "duration": 0,
    "start_time": "2023-12-04T16:28:24.970Z"
   },
   {
    "duration": 2861,
    "start_time": "2023-12-04T16:29:14.601Z"
   },
   {
    "duration": 43,
    "start_time": "2023-12-04T16:29:17.464Z"
   },
   {
    "duration": 10,
    "start_time": "2023-12-04T16:29:17.509Z"
   },
   {
    "duration": 15,
    "start_time": "2023-12-04T16:29:17.520Z"
   },
   {
    "duration": 2,
    "start_time": "2023-12-04T16:29:17.537Z"
   },
   {
    "duration": 7,
    "start_time": "2023-12-04T16:29:17.540Z"
   },
   {
    "duration": 3954,
    "start_time": "2023-12-04T16:29:17.549Z"
   },
   {
    "duration": 11,
    "start_time": "2023-12-04T16:29:21.504Z"
   },
   {
    "duration": 7,
    "start_time": "2023-12-04T16:29:21.516Z"
   },
   {
    "duration": 5,
    "start_time": "2023-12-04T16:29:21.524Z"
   },
   {
    "duration": 42,
    "start_time": "2023-12-04T16:29:21.531Z"
   },
   {
    "duration": 50,
    "start_time": "2023-12-04T16:29:21.574Z"
   },
   {
    "duration": 3,
    "start_time": "2023-12-04T16:29:21.625Z"
   },
   {
    "duration": 161,
    "start_time": "2023-12-04T16:29:21.631Z"
   },
   {
    "duration": 5,
    "start_time": "2023-12-04T16:29:21.794Z"
   },
   {
    "duration": 3,
    "start_time": "2023-12-04T16:29:21.810Z"
   },
   {
    "duration": 16,
    "start_time": "2023-12-04T16:29:21.815Z"
   },
   {
    "duration": 7,
    "start_time": "2023-12-04T16:29:21.833Z"
   },
   {
    "duration": 2,
    "start_time": "2023-12-04T16:42:24.000Z"
   },
   {
    "duration": 2766,
    "start_time": "2023-12-04T16:43:34.710Z"
   },
   {
    "duration": 43,
    "start_time": "2023-12-04T16:43:37.478Z"
   },
   {
    "duration": 10,
    "start_time": "2023-12-04T16:43:37.522Z"
   },
   {
    "duration": 11,
    "start_time": "2023-12-04T16:43:37.534Z"
   },
   {
    "duration": 2,
    "start_time": "2023-12-04T16:43:37.546Z"
   },
   {
    "duration": 3,
    "start_time": "2023-12-04T16:43:37.550Z"
   },
   {
    "duration": 4136,
    "start_time": "2023-12-04T16:43:37.554Z"
   },
   {
    "duration": 7,
    "start_time": "2023-12-04T16:43:41.692Z"
   },
   {
    "duration": 15,
    "start_time": "2023-12-04T16:43:41.700Z"
   },
   {
    "duration": 5,
    "start_time": "2023-12-04T16:43:41.717Z"
   },
   {
    "duration": 46,
    "start_time": "2023-12-04T16:43:41.723Z"
   },
   {
    "duration": 47,
    "start_time": "2023-12-04T16:43:41.771Z"
   },
   {
    "duration": 12,
    "start_time": "2023-12-04T16:43:41.820Z"
   },
   {
    "duration": 174,
    "start_time": "2023-12-04T16:43:41.833Z"
   },
   {
    "duration": 8,
    "start_time": "2023-12-04T16:43:42.010Z"
   },
   {
    "duration": 17,
    "start_time": "2023-12-04T16:43:42.019Z"
   },
   {
    "duration": 4,
    "start_time": "2023-12-04T16:43:42.039Z"
   },
   {
    "duration": 20,
    "start_time": "2023-12-04T16:43:42.045Z"
   },
   {
    "duration": 2727,
    "start_time": "2023-12-04T17:01:20.462Z"
   },
   {
    "duration": 43,
    "start_time": "2023-12-04T17:01:23.191Z"
   },
   {
    "duration": 10,
    "start_time": "2023-12-04T17:01:23.236Z"
   },
   {
    "duration": 14,
    "start_time": "2023-12-04T17:01:23.247Z"
   },
   {
    "duration": 3,
    "start_time": "2023-12-04T17:01:23.263Z"
   },
   {
    "duration": 10,
    "start_time": "2023-12-04T17:01:23.267Z"
   },
   {
    "duration": 3924,
    "start_time": "2023-12-04T17:01:23.279Z"
   },
   {
    "duration": 11,
    "start_time": "2023-12-04T17:01:27.204Z"
   },
   {
    "duration": 25,
    "start_time": "2023-12-04T17:01:27.216Z"
   },
   {
    "duration": 7,
    "start_time": "2023-12-04T17:01:27.243Z"
   },
   {
    "duration": 168,
    "start_time": "2023-12-04T17:01:27.251Z"
   },
   {
    "duration": 13,
    "start_time": "2023-12-04T17:01:27.420Z"
   },
   {
    "duration": 9,
    "start_time": "2023-12-04T17:01:27.435Z"
   },
   {
    "duration": 7,
    "start_time": "2023-12-04T17:01:27.446Z"
   },
   {
    "duration": 64,
    "start_time": "2023-12-04T17:01:27.454Z"
   },
   {
    "duration": 6,
    "start_time": "2023-12-04T17:01:27.520Z"
   },
   {
    "duration": 3,
    "start_time": "2023-12-04T17:01:27.527Z"
   },
   {
    "duration": 4,
    "start_time": "2023-12-04T17:01:27.531Z"
   },
   {
    "duration": 11,
    "start_time": "2023-12-04T17:01:27.536Z"
   },
   {
    "duration": 2725,
    "start_time": "2023-12-04T17:15:35.458Z"
   },
   {
    "duration": 43,
    "start_time": "2023-12-04T17:15:38.185Z"
   },
   {
    "duration": 11,
    "start_time": "2023-12-04T17:15:38.230Z"
   },
   {
    "duration": 14,
    "start_time": "2023-12-04T17:15:38.242Z"
   },
   {
    "duration": 6,
    "start_time": "2023-12-04T17:15:38.258Z"
   },
   {
    "duration": 17,
    "start_time": "2023-12-04T17:15:38.266Z"
   },
   {
    "duration": 4005,
    "start_time": "2023-12-04T17:15:38.284Z"
   },
   {
    "duration": 7,
    "start_time": "2023-12-04T17:15:42.291Z"
   },
   {
    "duration": 10,
    "start_time": "2023-12-04T17:15:42.311Z"
   },
   {
    "duration": 5,
    "start_time": "2023-12-04T17:15:42.323Z"
   },
   {
    "duration": 183,
    "start_time": "2023-12-04T17:15:42.329Z"
   },
   {
    "duration": 14,
    "start_time": "2023-12-04T17:15:42.513Z"
   },
   {
    "duration": 17,
    "start_time": "2023-12-04T17:15:42.529Z"
   },
   {
    "duration": 5,
    "start_time": "2023-12-04T17:15:42.549Z"
   },
   {
    "duration": 58,
    "start_time": "2023-12-04T17:15:42.556Z"
   },
   {
    "duration": 164,
    "start_time": "2023-12-04T17:15:42.615Z"
   },
   {
    "duration": 0,
    "start_time": "2023-12-04T17:15:42.781Z"
   },
   {
    "duration": 0,
    "start_time": "2023-12-04T17:15:42.782Z"
   },
   {
    "duration": 0,
    "start_time": "2023-12-04T17:15:42.784Z"
   },
   {
    "duration": 12,
    "start_time": "2023-12-04T17:15:56.665Z"
   },
   {
    "duration": 12,
    "start_time": "2023-12-04T17:16:18.066Z"
   },
   {
    "duration": 12,
    "start_time": "2023-12-04T17:16:50.387Z"
   },
   {
    "duration": 14,
    "start_time": "2023-12-04T17:20:17.581Z"
   },
   {
    "duration": 6,
    "start_time": "2023-12-04T17:20:18.681Z"
   },
   {
    "duration": 5,
    "start_time": "2023-12-04T17:23:31.709Z"
   },
   {
    "duration": 44,
    "start_time": "2023-12-04T17:23:33.155Z"
   },
   {
    "duration": 13,
    "start_time": "2023-12-04T17:23:34.549Z"
   },
   {
    "duration": 10,
    "start_time": "2023-12-04T17:27:07.211Z"
   },
   {
    "duration": 6,
    "start_time": "2023-12-04T17:27:07.878Z"
   },
   {
    "duration": 38,
    "start_time": "2023-12-04T17:27:08.585Z"
   },
   {
    "duration": 23,
    "start_time": "2023-12-04T17:27:10.226Z"
   },
   {
    "duration": 17,
    "start_time": "2023-12-04T17:27:11.606Z"
   },
   {
    "duration": 6,
    "start_time": "2023-12-04T17:37:24.464Z"
   },
   {
    "duration": 6,
    "start_time": "2023-12-04T17:37:28.575Z"
   },
   {
    "duration": 37,
    "start_time": "2023-12-04T17:37:31.234Z"
   },
   {
    "duration": 32,
    "start_time": "2023-12-04T17:37:32.886Z"
   },
   {
    "duration": 11,
    "start_time": "2023-12-04T17:37:35.128Z"
   },
   {
    "duration": 6,
    "start_time": "2023-12-04T17:42:38.161Z"
   },
   {
    "duration": 6,
    "start_time": "2023-12-04T17:42:38.822Z"
   },
   {
    "duration": 37,
    "start_time": "2023-12-04T17:42:40.196Z"
   },
   {
    "duration": 22,
    "start_time": "2023-12-04T17:42:41.067Z"
   },
   {
    "duration": 18,
    "start_time": "2023-12-04T17:42:42.356Z"
   },
   {
    "duration": 3,
    "start_time": "2023-12-04T17:42:48.243Z"
   },
   {
    "duration": 42,
    "start_time": "2023-12-04T17:42:49.090Z"
   },
   {
    "duration": 13,
    "start_time": "2023-12-04T17:42:51.801Z"
   },
   {
    "duration": 1221,
    "start_time": "2023-12-04T17:46:37.801Z"
   },
   {
    "duration": 9,
    "start_time": "2023-12-04T17:46:51.048Z"
   },
   {
    "duration": 68,
    "start_time": "2023-12-04T17:49:56.151Z"
   },
   {
    "duration": 2814,
    "start_time": "2023-12-04T17:50:52.025Z"
   },
   {
    "duration": 44,
    "start_time": "2023-12-04T17:50:54.841Z"
   },
   {
    "duration": 10,
    "start_time": "2023-12-04T17:50:54.887Z"
   },
   {
    "duration": 10,
    "start_time": "2023-12-04T17:50:54.899Z"
   },
   {
    "duration": 3,
    "start_time": "2023-12-04T17:50:54.911Z"
   },
   {
    "duration": 5,
    "start_time": "2023-12-04T17:50:54.916Z"
   },
   {
    "duration": 4260,
    "start_time": "2023-12-04T17:50:54.924Z"
   },
   {
    "duration": 7,
    "start_time": "2023-12-04T17:50:59.185Z"
   },
   {
    "duration": 18,
    "start_time": "2023-12-04T17:50:59.194Z"
   },
   {
    "duration": 72,
    "start_time": "2023-12-04T17:50:59.215Z"
   },
   {
    "duration": 3,
    "start_time": "2023-12-04T17:50:59.288Z"
   },
   {
    "duration": 152,
    "start_time": "2023-12-04T17:50:59.292Z"
   },
   {
    "duration": 6,
    "start_time": "2023-12-04T17:50:59.446Z"
   },
   {
    "duration": 215,
    "start_time": "2023-12-04T17:50:59.454Z"
   },
   {
    "duration": 0,
    "start_time": "2023-12-04T17:50:59.671Z"
   },
   {
    "duration": 0,
    "start_time": "2023-12-04T17:50:59.672Z"
   },
   {
    "duration": 5,
    "start_time": "2023-12-04T17:53:06.709Z"
   },
   {
    "duration": 10,
    "start_time": "2023-12-04T17:53:08.132Z"
   },
   {
    "duration": 3,
    "start_time": "2023-12-04T17:53:39.342Z"
   },
   {
    "duration": 11,
    "start_time": "2023-12-04T17:54:15.327Z"
   },
   {
    "duration": 6,
    "start_time": "2023-12-04T17:54:23.001Z"
   },
   {
    "duration": 9,
    "start_time": "2023-12-04T17:55:38.841Z"
   },
   {
    "duration": 2841,
    "start_time": "2023-12-04T17:55:50.115Z"
   },
   {
    "duration": 44,
    "start_time": "2023-12-04T17:55:52.957Z"
   },
   {
    "duration": 14,
    "start_time": "2023-12-04T17:55:53.002Z"
   },
   {
    "duration": 14,
    "start_time": "2023-12-04T17:55:53.019Z"
   },
   {
    "duration": 7,
    "start_time": "2023-12-04T17:55:53.034Z"
   },
   {
    "duration": 2,
    "start_time": "2023-12-04T17:55:53.043Z"
   },
   {
    "duration": 4,
    "start_time": "2023-12-04T17:55:53.047Z"
   },
   {
    "duration": 4269,
    "start_time": "2023-12-04T17:55:53.052Z"
   },
   {
    "duration": 8,
    "start_time": "2023-12-04T17:55:57.323Z"
   },
   {
    "duration": 8,
    "start_time": "2023-12-04T17:55:57.333Z"
   },
   {
    "duration": 82,
    "start_time": "2023-12-04T17:55:57.342Z"
   },
   {
    "duration": 2,
    "start_time": "2023-12-04T17:55:57.426Z"
   },
   {
    "duration": 158,
    "start_time": "2023-12-04T17:55:57.430Z"
   },
   {
    "duration": 6,
    "start_time": "2023-12-04T17:55:57.590Z"
   },
   {
    "duration": 23,
    "start_time": "2023-12-04T17:55:57.598Z"
   },
   {
    "duration": 189,
    "start_time": "2023-12-04T17:58:18.604Z"
   },
   {
    "duration": 7,
    "start_time": "2023-12-04T17:58:53.166Z"
   },
   {
    "duration": 13,
    "start_time": "2023-12-04T17:58:57.447Z"
   },
   {
    "duration": 13,
    "start_time": "2023-12-04T17:59:38.955Z"
   },
   {
    "duration": 2716,
    "start_time": "2023-12-04T18:00:43.724Z"
   },
   {
    "duration": 94,
    "start_time": "2023-12-04T18:02:01.938Z"
   },
   {
    "duration": 29,
    "start_time": "2023-12-04T18:11:27.644Z"
   },
   {
    "duration": 14,
    "start_time": "2023-12-04T18:12:04.564Z"
   },
   {
    "duration": 7,
    "start_time": "2023-12-04T18:12:37.291Z"
   },
   {
    "duration": 34,
    "start_time": "2023-12-04T18:12:41.544Z"
   },
   {
    "duration": 58,
    "start_time": "2023-12-04T18:13:24.501Z"
   },
   {
    "duration": 2901,
    "start_time": "2023-12-04T18:14:42.340Z"
   },
   {
    "duration": 43,
    "start_time": "2023-12-04T18:14:45.243Z"
   },
   {
    "duration": 10,
    "start_time": "2023-12-04T18:14:45.287Z"
   },
   {
    "duration": 15,
    "start_time": "2023-12-04T18:14:45.299Z"
   },
   {
    "duration": 8,
    "start_time": "2023-12-04T18:14:45.316Z"
   },
   {
    "duration": 2,
    "start_time": "2023-12-04T18:14:45.325Z"
   },
   {
    "duration": 5,
    "start_time": "2023-12-04T18:14:45.328Z"
   },
   {
    "duration": 3915,
    "start_time": "2023-12-04T18:14:45.334Z"
   },
   {
    "duration": 8,
    "start_time": "2023-12-04T18:14:49.252Z"
   },
   {
    "duration": 38,
    "start_time": "2023-12-04T18:14:49.262Z"
   },
   {
    "duration": 103,
    "start_time": "2023-12-04T18:14:49.301Z"
   },
   {
    "duration": 7,
    "start_time": "2023-12-04T18:14:49.406Z"
   },
   {
    "duration": 41,
    "start_time": "2023-12-04T18:14:49.415Z"
   },
   {
    "duration": 174,
    "start_time": "2023-12-04T18:14:49.458Z"
   },
   {
    "duration": 2,
    "start_time": "2023-12-04T18:14:49.633Z"
   },
   {
    "duration": 25,
    "start_time": "2023-12-04T18:14:49.637Z"
   },
   {
    "duration": 4,
    "start_time": "2023-12-04T18:14:49.664Z"
   },
   {
    "duration": 2751,
    "start_time": "2023-12-04T18:14:49.669Z"
   },
   {
    "duration": 175,
    "start_time": "2023-12-04T18:14:52.422Z"
   },
   {
    "duration": 26,
    "start_time": "2023-12-04T18:16:34.586Z"
   },
   {
    "duration": 6,
    "start_time": "2023-12-04T18:16:35.590Z"
   },
   {
    "duration": 48,
    "start_time": "2023-12-04T23:35:22.485Z"
   },
   {
    "duration": 3057,
    "start_time": "2023-12-04T23:35:26.442Z"
   },
   {
    "duration": 2391,
    "start_time": "2023-12-04T23:35:33.006Z"
   },
   {
    "duration": 30,
    "start_time": "2023-12-04T23:35:36.689Z"
   },
   {
    "duration": 10,
    "start_time": "2023-12-04T23:35:40.086Z"
   },
   {
    "duration": 1335,
    "start_time": "2023-12-04T23:35:55.181Z"
   },
   {
    "duration": 10,
    "start_time": "2023-12-04T23:36:44.908Z"
   },
   {
    "duration": 11,
    "start_time": "2023-12-04T23:49:19.147Z"
   },
   {
    "duration": 2883,
    "start_time": "2023-12-04T23:49:29.438Z"
   },
   {
    "duration": 879,
    "start_time": "2023-12-04T23:49:32.323Z"
   },
   {
    "duration": 27,
    "start_time": "2023-12-04T23:49:33.204Z"
   },
   {
    "duration": 19,
    "start_time": "2023-12-04T23:49:33.233Z"
   },
   {
    "duration": 10,
    "start_time": "2023-12-04T23:49:33.256Z"
   },
   {
    "duration": 179,
    "start_time": "2023-12-04T23:49:33.267Z"
   },
   {
    "duration": 0,
    "start_time": "2023-12-04T23:49:33.449Z"
   },
   {
    "duration": 0,
    "start_time": "2023-12-04T23:49:33.452Z"
   },
   {
    "duration": 0,
    "start_time": "2023-12-04T23:49:33.453Z"
   },
   {
    "duration": 0,
    "start_time": "2023-12-04T23:49:33.454Z"
   },
   {
    "duration": 0,
    "start_time": "2023-12-04T23:49:33.455Z"
   },
   {
    "duration": 0,
    "start_time": "2023-12-04T23:49:33.456Z"
   },
   {
    "duration": 0,
    "start_time": "2023-12-04T23:49:33.458Z"
   },
   {
    "duration": 0,
    "start_time": "2023-12-04T23:49:33.459Z"
   },
   {
    "duration": 0,
    "start_time": "2023-12-04T23:49:33.460Z"
   },
   {
    "duration": 0,
    "start_time": "2023-12-04T23:49:33.461Z"
   },
   {
    "duration": 0,
    "start_time": "2023-12-04T23:49:33.462Z"
   },
   {
    "duration": 0,
    "start_time": "2023-12-04T23:49:33.463Z"
   },
   {
    "duration": 0,
    "start_time": "2023-12-04T23:49:33.463Z"
   },
   {
    "duration": 0,
    "start_time": "2023-12-04T23:49:33.464Z"
   },
   {
    "duration": 1,
    "start_time": "2023-12-04T23:49:33.465Z"
   },
   {
    "duration": 8,
    "start_time": "2023-12-04T23:50:43.155Z"
   },
   {
    "duration": 847,
    "start_time": "2023-12-04T23:50:45.800Z"
   },
   {
    "duration": 31,
    "start_time": "2023-12-04T23:50:48.391Z"
   },
   {
    "duration": 8,
    "start_time": "2023-12-04T23:50:51.237Z"
   },
   {
    "duration": 2941,
    "start_time": "2023-12-04T23:51:22.156Z"
   },
   {
    "duration": 954,
    "start_time": "2023-12-04T23:51:25.099Z"
   },
   {
    "duration": 30,
    "start_time": "2023-12-04T23:51:26.055Z"
   },
   {
    "duration": 10,
    "start_time": "2023-12-04T23:51:26.087Z"
   },
   {
    "duration": 10,
    "start_time": "2023-12-04T23:51:26.098Z"
   },
   {
    "duration": 3,
    "start_time": "2023-12-04T23:51:26.109Z"
   },
   {
    "duration": 10166,
    "start_time": "2023-12-04T23:51:26.114Z"
   },
   {
    "duration": 1377,
    "start_time": "2023-12-04T23:51:36.281Z"
   },
   {
    "duration": 0,
    "start_time": "2023-12-04T23:51:37.660Z"
   },
   {
    "duration": 0,
    "start_time": "2023-12-04T23:51:37.661Z"
   },
   {
    "duration": 0,
    "start_time": "2023-12-04T23:51:37.662Z"
   },
   {
    "duration": 0,
    "start_time": "2023-12-04T23:51:37.662Z"
   },
   {
    "duration": 0,
    "start_time": "2023-12-04T23:51:37.663Z"
   },
   {
    "duration": 0,
    "start_time": "2023-12-04T23:51:37.665Z"
   },
   {
    "duration": 1,
    "start_time": "2023-12-04T23:51:37.666Z"
   },
   {
    "duration": 0,
    "start_time": "2023-12-04T23:51:37.668Z"
   },
   {
    "duration": 0,
    "start_time": "2023-12-04T23:51:37.669Z"
   },
   {
    "duration": 0,
    "start_time": "2023-12-04T23:51:37.670Z"
   },
   {
    "duration": 0,
    "start_time": "2023-12-04T23:51:37.672Z"
   },
   {
    "duration": 0,
    "start_time": "2023-12-04T23:51:37.673Z"
   },
   {
    "duration": 0,
    "start_time": "2023-12-04T23:51:37.674Z"
   },
   {
    "duration": 6,
    "start_time": "2023-12-04T23:54:07.525Z"
   },
   {
    "duration": 8,
    "start_time": "2023-12-04T23:54:16.447Z"
   },
   {
    "duration": 885,
    "start_time": "2023-12-04T23:54:18.210Z"
   },
   {
    "duration": 30,
    "start_time": "2023-12-04T23:54:20.265Z"
   },
   {
    "duration": 7,
    "start_time": "2023-12-04T23:54:22.777Z"
   },
   {
    "duration": 2712,
    "start_time": "2023-12-04T23:54:30.403Z"
   },
   {
    "duration": 872,
    "start_time": "2023-12-04T23:54:33.117Z"
   },
   {
    "duration": 31,
    "start_time": "2023-12-04T23:54:33.990Z"
   },
   {
    "duration": 24,
    "start_time": "2023-12-04T23:54:34.023Z"
   },
   {
    "duration": 10,
    "start_time": "2023-12-04T23:54:34.049Z"
   },
   {
    "duration": 3,
    "start_time": "2023-12-04T23:54:34.061Z"
   },
   {
    "duration": 1662,
    "start_time": "2023-12-04T23:54:34.066Z"
   },
   {
    "duration": 0,
    "start_time": "2023-12-04T23:54:35.730Z"
   },
   {
    "duration": 0,
    "start_time": "2023-12-04T23:54:35.731Z"
   },
   {
    "duration": 0,
    "start_time": "2023-12-04T23:54:35.733Z"
   },
   {
    "duration": 0,
    "start_time": "2023-12-04T23:54:35.734Z"
   },
   {
    "duration": 0,
    "start_time": "2023-12-04T23:54:35.735Z"
   },
   {
    "duration": 0,
    "start_time": "2023-12-04T23:54:35.736Z"
   },
   {
    "duration": 0,
    "start_time": "2023-12-04T23:54:35.737Z"
   },
   {
    "duration": 0,
    "start_time": "2023-12-04T23:54:35.739Z"
   },
   {
    "duration": 0,
    "start_time": "2023-12-04T23:54:35.740Z"
   },
   {
    "duration": 0,
    "start_time": "2023-12-04T23:54:35.741Z"
   },
   {
    "duration": 0,
    "start_time": "2023-12-04T23:54:35.744Z"
   },
   {
    "duration": 0,
    "start_time": "2023-12-04T23:54:35.745Z"
   },
   {
    "duration": 0,
    "start_time": "2023-12-04T23:54:35.746Z"
   },
   {
    "duration": 0,
    "start_time": "2023-12-04T23:54:35.747Z"
   },
   {
    "duration": 367,
    "start_time": "2023-12-04T23:55:13.050Z"
   },
   {
    "duration": 5,
    "start_time": "2023-12-04T23:55:37.976Z"
   },
   {
    "duration": 946,
    "start_time": "2023-12-04T23:55:40.720Z"
   },
   {
    "duration": 38,
    "start_time": "2023-12-04T23:55:44.248Z"
   },
   {
    "duration": 8,
    "start_time": "2023-12-04T23:55:48.326Z"
   },
   {
    "duration": 2766,
    "start_time": "2023-12-04T23:56:17.055Z"
   },
   {
    "duration": 883,
    "start_time": "2023-12-04T23:56:19.823Z"
   },
   {
    "duration": 35,
    "start_time": "2023-12-04T23:56:20.708Z"
   },
   {
    "duration": 11,
    "start_time": "2023-12-04T23:56:20.745Z"
   },
   {
    "duration": 14,
    "start_time": "2023-12-04T23:56:20.758Z"
   },
   {
    "duration": 4,
    "start_time": "2023-12-04T23:56:20.774Z"
   },
   {
    "duration": 10229,
    "start_time": "2023-12-04T23:56:20.780Z"
   },
   {
    "duration": 1356,
    "start_time": "2023-12-04T23:56:31.011Z"
   },
   {
    "duration": 0,
    "start_time": "2023-12-04T23:56:32.369Z"
   },
   {
    "duration": 0,
    "start_time": "2023-12-04T23:56:32.370Z"
   },
   {
    "duration": 0,
    "start_time": "2023-12-04T23:56:32.371Z"
   },
   {
    "duration": 0,
    "start_time": "2023-12-04T23:56:32.372Z"
   },
   {
    "duration": 0,
    "start_time": "2023-12-04T23:56:32.373Z"
   },
   {
    "duration": 0,
    "start_time": "2023-12-04T23:56:32.375Z"
   },
   {
    "duration": 0,
    "start_time": "2023-12-04T23:56:32.376Z"
   },
   {
    "duration": 0,
    "start_time": "2023-12-04T23:56:32.377Z"
   },
   {
    "duration": 0,
    "start_time": "2023-12-04T23:56:32.378Z"
   },
   {
    "duration": 0,
    "start_time": "2023-12-04T23:56:32.379Z"
   },
   {
    "duration": 0,
    "start_time": "2023-12-04T23:56:32.380Z"
   },
   {
    "duration": 0,
    "start_time": "2023-12-04T23:56:32.380Z"
   },
   {
    "duration": 0,
    "start_time": "2023-12-04T23:56:32.382Z"
   },
   {
    "duration": 1194,
    "start_time": "2023-12-04T23:58:19.044Z"
   },
   {
    "duration": 1203,
    "start_time": "2023-12-04T23:59:07.659Z"
   },
   {
    "duration": 10,
    "start_time": "2023-12-04T23:59:22.504Z"
   },
   {
    "duration": 1202,
    "start_time": "2023-12-04T23:59:50.168Z"
   },
   {
    "duration": 27,
    "start_time": "2023-12-05T00:00:14.857Z"
   },
   {
    "duration": 2980,
    "start_time": "2023-12-07T20:31:23.787Z"
   },
   {
    "duration": 2278,
    "start_time": "2023-12-07T20:31:26.769Z"
   },
   {
    "duration": 31,
    "start_time": "2023-12-07T20:31:29.049Z"
   },
   {
    "duration": 10,
    "start_time": "2023-12-07T20:31:29.082Z"
   },
   {
    "duration": 19,
    "start_time": "2023-12-07T20:31:29.094Z"
   },
   {
    "duration": 4,
    "start_time": "2023-12-07T20:31:29.115Z"
   },
   {
    "duration": 9683,
    "start_time": "2023-12-07T20:31:29.120Z"
   },
   {
    "duration": 13,
    "start_time": "2023-12-07T20:31:38.805Z"
   },
   {
    "duration": 34,
    "start_time": "2023-12-07T20:31:38.820Z"
   },
   {
    "duration": 184,
    "start_time": "2023-12-07T20:31:38.856Z"
   },
   {
    "duration": 0,
    "start_time": "2023-12-07T20:31:39.041Z"
   },
   {
    "duration": 0,
    "start_time": "2023-12-07T20:31:39.043Z"
   },
   {
    "duration": 0,
    "start_time": "2023-12-07T20:31:39.045Z"
   },
   {
    "duration": 0,
    "start_time": "2023-12-07T20:31:39.046Z"
   },
   {
    "duration": 0,
    "start_time": "2023-12-07T20:31:39.048Z"
   },
   {
    "duration": 0,
    "start_time": "2023-12-07T20:31:39.050Z"
   },
   {
    "duration": 10,
    "start_time": "2023-12-07T20:33:59.332Z"
   },
   {
    "duration": 837,
    "start_time": "2023-12-07T20:34:09.205Z"
   },
   {
    "duration": 7,
    "start_time": "2023-12-07T20:34:12.641Z"
   },
   {
    "duration": 4,
    "start_time": "2023-12-07T21:22:20.507Z"
   },
   {
    "duration": 7179,
    "start_time": "2023-12-07T21:22:22.332Z"
   },
   {
    "duration": 8,
    "start_time": "2023-12-07T21:22:35.566Z"
   },
   {
    "duration": 2842,
    "start_time": "2023-12-07T21:22:48.030Z"
   },
   {
    "duration": 857,
    "start_time": "2023-12-07T21:22:50.873Z"
   },
   {
    "duration": 32,
    "start_time": "2023-12-07T21:22:51.731Z"
   },
   {
    "duration": 11,
    "start_time": "2023-12-07T21:22:51.765Z"
   },
   {
    "duration": 36,
    "start_time": "2023-12-07T21:22:51.778Z"
   },
   {
    "duration": 3,
    "start_time": "2023-12-07T21:22:51.816Z"
   },
   {
    "duration": 8623,
    "start_time": "2023-12-07T21:22:51.821Z"
   },
   {
    "duration": 6,
    "start_time": "2023-12-07T21:23:00.446Z"
   },
   {
    "duration": 62,
    "start_time": "2023-12-07T21:23:00.454Z"
   },
   {
    "duration": 188,
    "start_time": "2023-12-07T21:23:00.519Z"
   },
   {
    "duration": 0,
    "start_time": "2023-12-07T21:23:00.708Z"
   },
   {
    "duration": 0,
    "start_time": "2023-12-07T21:23:00.709Z"
   },
   {
    "duration": 0,
    "start_time": "2023-12-07T21:23:00.711Z"
   },
   {
    "duration": 0,
    "start_time": "2023-12-07T21:23:00.712Z"
   },
   {
    "duration": 0,
    "start_time": "2023-12-07T21:23:00.713Z"
   },
   {
    "duration": 0,
    "start_time": "2023-12-07T21:23:00.714Z"
   },
   {
    "duration": 3,
    "start_time": "2023-12-07T21:23:37.955Z"
   },
   {
    "duration": 1307,
    "start_time": "2023-12-07T21:23:38.985Z"
   },
   {
    "duration": 2654,
    "start_time": "2023-12-07T21:23:49.860Z"
   },
   {
    "duration": 871,
    "start_time": "2023-12-07T21:23:52.516Z"
   },
   {
    "duration": 31,
    "start_time": "2023-12-07T21:23:53.389Z"
   },
   {
    "duration": 18,
    "start_time": "2023-12-07T21:23:53.422Z"
   },
   {
    "duration": 9,
    "start_time": "2023-12-07T21:23:53.442Z"
   },
   {
    "duration": 3,
    "start_time": "2023-12-07T21:23:53.453Z"
   },
   {
    "duration": 8094,
    "start_time": "2023-12-07T21:23:53.457Z"
   },
   {
    "duration": 7,
    "start_time": "2023-12-07T21:24:01.552Z"
   },
   {
    "duration": 54,
    "start_time": "2023-12-07T21:24:01.560Z"
   },
   {
    "duration": 182,
    "start_time": "2023-12-07T21:24:01.615Z"
   },
   {
    "duration": 0,
    "start_time": "2023-12-07T21:24:01.799Z"
   },
   {
    "duration": 0,
    "start_time": "2023-12-07T21:24:01.800Z"
   },
   {
    "duration": 0,
    "start_time": "2023-12-07T21:24:01.801Z"
   },
   {
    "duration": 0,
    "start_time": "2023-12-07T21:24:01.802Z"
   },
   {
    "duration": 0,
    "start_time": "2023-12-07T21:24:01.811Z"
   },
   {
    "duration": 0,
    "start_time": "2023-12-07T21:24:01.812Z"
   },
   {
    "duration": 2611,
    "start_time": "2023-12-07T21:55:21.494Z"
   },
   {
    "duration": 830,
    "start_time": "2023-12-07T21:55:24.108Z"
   },
   {
    "duration": 23,
    "start_time": "2023-12-07T21:55:24.940Z"
   },
   {
    "duration": 10,
    "start_time": "2023-12-07T21:55:24.966Z"
   },
   {
    "duration": 34,
    "start_time": "2023-12-07T21:55:24.978Z"
   },
   {
    "duration": 3,
    "start_time": "2023-12-07T21:55:25.014Z"
   },
   {
    "duration": 7862,
    "start_time": "2023-12-07T21:55:25.019Z"
   },
   {
    "duration": 7,
    "start_time": "2023-12-07T21:55:32.882Z"
   },
   {
    "duration": 47,
    "start_time": "2023-12-07T21:55:32.891Z"
   },
   {
    "duration": 161,
    "start_time": "2023-12-07T21:55:32.940Z"
   },
   {
    "duration": 0,
    "start_time": "2023-12-07T21:55:33.102Z"
   },
   {
    "duration": 0,
    "start_time": "2023-12-07T21:55:33.103Z"
   },
   {
    "duration": 0,
    "start_time": "2023-12-07T21:55:33.110Z"
   },
   {
    "duration": 0,
    "start_time": "2023-12-07T21:55:33.111Z"
   },
   {
    "duration": 0,
    "start_time": "2023-12-07T21:55:33.112Z"
   },
   {
    "duration": 0,
    "start_time": "2023-12-07T21:55:33.113Z"
   },
   {
    "duration": 0,
    "start_time": "2023-12-07T21:55:33.114Z"
   },
   {
    "duration": 0,
    "start_time": "2023-12-07T21:55:33.115Z"
   },
   {
    "duration": 9,
    "start_time": "2023-12-07T21:58:12.390Z"
   },
   {
    "duration": 3359,
    "start_time": "2023-12-07T21:58:20.940Z"
   },
   {
    "duration": 3056,
    "start_time": "2023-12-07T21:58:24.301Z"
   },
   {
    "duration": 2715,
    "start_time": "2023-12-07T22:02:15.472Z"
   },
   {
    "duration": 860,
    "start_time": "2023-12-07T22:02:18.189Z"
   },
   {
    "duration": 27,
    "start_time": "2023-12-07T22:02:19.051Z"
   },
   {
    "duration": 11,
    "start_time": "2023-12-07T22:02:19.079Z"
   },
   {
    "duration": 28,
    "start_time": "2023-12-07T22:02:19.092Z"
   },
   {
    "duration": 4,
    "start_time": "2023-12-07T22:02:19.121Z"
   },
   {
    "duration": 7911,
    "start_time": "2023-12-07T22:02:19.126Z"
   },
   {
    "duration": 6,
    "start_time": "2023-12-07T22:02:27.039Z"
   },
   {
    "duration": 32,
    "start_time": "2023-12-07T22:02:27.046Z"
   },
   {
    "duration": 3463,
    "start_time": "2023-12-07T22:02:27.079Z"
   },
   {
    "duration": 3087,
    "start_time": "2023-12-07T22:02:30.544Z"
   },
   {
    "duration": 2,
    "start_time": "2023-12-07T22:02:33.632Z"
   },
   {
    "duration": 39380,
    "start_time": "2023-12-07T22:02:33.636Z"
   },
   {
    "duration": 271,
    "start_time": "2023-12-07T22:03:13.018Z"
   },
   {
    "duration": 0,
    "start_time": "2023-12-07T22:03:13.290Z"
   },
   {
    "duration": 0,
    "start_time": "2023-12-07T22:03:13.291Z"
   },
   {
    "duration": 0,
    "start_time": "2023-12-07T22:03:13.292Z"
   },
   {
    "duration": 32,
    "start_time": "2023-12-07T22:04:25.410Z"
   },
   {
    "duration": 3,
    "start_time": "2023-12-07T22:04:47.569Z"
   },
   {
    "duration": 39386,
    "start_time": "2023-12-07T22:04:48.733Z"
   },
   {
    "duration": 112,
    "start_time": "2023-12-07T22:05:28.121Z"
   },
   {
    "duration": 4,
    "start_time": "2023-12-07T22:18:55.634Z"
   },
   {
    "duration": 12,
    "start_time": "2023-12-07T22:19:17.490Z"
   },
   {
    "duration": 15,
    "start_time": "2023-12-07T22:20:58.795Z"
   },
   {
    "duration": 11,
    "start_time": "2023-12-07T22:21:12.917Z"
   },
   {
    "duration": 7,
    "start_time": "2023-12-07T22:21:54.249Z"
   },
   {
    "duration": 30,
    "start_time": "2023-12-07T22:23:03.312Z"
   },
   {
    "duration": 2625,
    "start_time": "2023-12-07T22:23:31.030Z"
   },
   {
    "duration": 813,
    "start_time": "2023-12-07T22:23:33.656Z"
   },
   {
    "duration": 44,
    "start_time": "2023-12-07T22:23:34.471Z"
   },
   {
    "duration": 11,
    "start_time": "2023-12-07T22:23:34.517Z"
   },
   {
    "duration": 11,
    "start_time": "2023-12-07T22:23:34.531Z"
   },
   {
    "duration": 4,
    "start_time": "2023-12-07T22:23:34.543Z"
   },
   {
    "duration": 7748,
    "start_time": "2023-12-07T22:23:34.548Z"
   },
   {
    "duration": 14,
    "start_time": "2023-12-07T22:23:42.298Z"
   },
   {
    "duration": 43,
    "start_time": "2023-12-07T22:23:42.313Z"
   },
   {
    "duration": 3391,
    "start_time": "2023-12-07T22:23:42.358Z"
   },
   {
    "duration": 3144,
    "start_time": "2023-12-07T22:23:45.751Z"
   },
   {
    "duration": 2,
    "start_time": "2023-12-07T22:23:48.897Z"
   },
   {
    "duration": 183,
    "start_time": "2023-12-07T22:23:48.900Z"
   },
   {
    "duration": 0,
    "start_time": "2023-12-07T22:23:49.085Z"
   },
   {
    "duration": 0,
    "start_time": "2023-12-07T22:23:49.086Z"
   },
   {
    "duration": 0,
    "start_time": "2023-12-07T22:23:49.087Z"
   },
   {
    "duration": 0,
    "start_time": "2023-12-07T22:23:49.088Z"
   },
   {
    "duration": 0,
    "start_time": "2023-12-07T22:23:49.089Z"
   },
   {
    "duration": 30,
    "start_time": "2023-12-07T22:36:48.167Z"
   },
   {
    "duration": 29,
    "start_time": "2023-12-07T22:37:45.847Z"
   },
   {
    "duration": 10,
    "start_time": "2023-12-07T22:40:23.025Z"
   },
   {
    "duration": 12,
    "start_time": "2023-12-07T22:40:27.702Z"
   },
   {
    "duration": 359432,
    "start_time": "2023-12-07T22:40:38.486Z"
   },
   {
    "duration": 0,
    "start_time": "2023-12-07T22:46:37.920Z"
   },
   {
    "duration": 16,
    "start_time": "2023-12-07T22:46:39.468Z"
   },
   {
    "duration": 15,
    "start_time": "2023-12-07T22:47:19.711Z"
   },
   {
    "duration": 7,
    "start_time": "2023-12-07T22:47:28.397Z"
   },
   {
    "duration": 15,
    "start_time": "2023-12-07T22:47:34.050Z"
   },
   {
    "duration": 8,
    "start_time": "2023-12-07T22:48:53.165Z"
   },
   {
    "duration": 15,
    "start_time": "2023-12-07T22:49:17.802Z"
   },
   {
    "duration": 44803,
    "start_time": "2023-12-07T22:49:24.495Z"
   },
   {
    "duration": 2673,
    "start_time": "2023-12-07T22:55:24.324Z"
   },
   {
    "duration": 813,
    "start_time": "2023-12-07T22:55:26.999Z"
   },
   {
    "duration": 28,
    "start_time": "2023-12-07T22:55:27.814Z"
   },
   {
    "duration": 10,
    "start_time": "2023-12-07T22:55:27.844Z"
   },
   {
    "duration": 10,
    "start_time": "2023-12-07T22:55:27.855Z"
   },
   {
    "duration": 3,
    "start_time": "2023-12-07T22:55:27.867Z"
   },
   {
    "duration": 7710,
    "start_time": "2023-12-07T22:55:27.871Z"
   },
   {
    "duration": 6,
    "start_time": "2023-12-07T22:55:35.582Z"
   },
   {
    "duration": 52,
    "start_time": "2023-12-07T22:55:35.590Z"
   },
   {
    "duration": 3364,
    "start_time": "2023-12-07T22:55:35.644Z"
   },
   {
    "duration": 3077,
    "start_time": "2023-12-07T22:55:39.010Z"
   },
   {
    "duration": 2,
    "start_time": "2023-12-07T22:55:42.089Z"
   },
   {
    "duration": 57391,
    "start_time": "2023-12-07T22:55:42.093Z"
   },
   {
    "duration": 0,
    "start_time": "2023-12-07T22:56:39.485Z"
   },
   {
    "duration": 0,
    "start_time": "2023-12-07T22:56:39.487Z"
   },
   {
    "duration": 0,
    "start_time": "2023-12-07T22:56:39.488Z"
   },
   {
    "duration": 0,
    "start_time": "2023-12-07T22:56:39.489Z"
   },
   {
    "duration": 2668,
    "start_time": "2023-12-07T22:56:56.880Z"
   },
   {
    "duration": 846,
    "start_time": "2023-12-07T22:56:59.550Z"
   },
   {
    "duration": 35,
    "start_time": "2023-12-07T22:57:00.397Z"
   },
   {
    "duration": 31,
    "start_time": "2023-12-07T22:57:00.434Z"
   },
   {
    "duration": 21,
    "start_time": "2023-12-07T22:57:00.467Z"
   },
   {
    "duration": 18,
    "start_time": "2023-12-07T22:57:00.489Z"
   },
   {
    "duration": 8070,
    "start_time": "2023-12-07T22:57:00.508Z"
   },
   {
    "duration": 9,
    "start_time": "2023-12-07T22:57:08.579Z"
   },
   {
    "duration": 43,
    "start_time": "2023-12-07T22:57:08.590Z"
   },
   {
    "duration": 3544,
    "start_time": "2023-12-07T22:57:08.635Z"
   },
   {
    "duration": 3154,
    "start_time": "2023-12-07T22:57:12.180Z"
   },
   {
    "duration": 3,
    "start_time": "2023-12-07T22:57:15.335Z"
   },
   {
    "duration": 41,
    "start_time": "2023-12-08T15:25:45.228Z"
   },
   {
    "duration": 2294,
    "start_time": "2023-12-08T15:25:50.809Z"
   },
   {
    "duration": 2105,
    "start_time": "2023-12-08T15:25:53.105Z"
   },
   {
    "duration": 19,
    "start_time": "2023-12-08T15:25:55.211Z"
   },
   {
    "duration": 10,
    "start_time": "2023-12-08T15:25:55.231Z"
   },
   {
    "duration": 9,
    "start_time": "2023-12-08T15:25:55.242Z"
   },
   {
    "duration": 3,
    "start_time": "2023-12-08T15:25:55.252Z"
   },
   {
    "duration": 136,
    "start_time": "2023-12-08T15:25:55.256Z"
   },
   {
    "duration": 0,
    "start_time": "2023-12-08T15:25:55.394Z"
   },
   {
    "duration": 0,
    "start_time": "2023-12-08T15:25:55.395Z"
   },
   {
    "duration": 0,
    "start_time": "2023-12-08T15:25:55.396Z"
   },
   {
    "duration": 0,
    "start_time": "2023-12-08T15:25:55.397Z"
   },
   {
    "duration": 0,
    "start_time": "2023-12-08T15:25:55.398Z"
   },
   {
    "duration": 0,
    "start_time": "2023-12-08T15:25:55.399Z"
   },
   {
    "duration": 0,
    "start_time": "2023-12-08T15:25:55.399Z"
   },
   {
    "duration": 0,
    "start_time": "2023-12-08T15:25:55.400Z"
   },
   {
    "duration": 0,
    "start_time": "2023-12-08T15:25:55.415Z"
   },
   {
    "duration": 0,
    "start_time": "2023-12-08T15:25:55.416Z"
   },
   {
    "duration": 0,
    "start_time": "2023-12-08T15:25:55.416Z"
   },
   {
    "duration": 9,
    "start_time": "2023-12-08T15:30:49.072Z"
   },
   {
    "duration": 1024,
    "start_time": "2023-12-08T15:33:43.208Z"
   },
   {
    "duration": 10072,
    "start_time": "2023-12-08T15:44:20.819Z"
   },
   {
    "duration": 10958,
    "start_time": "2023-12-08T15:44:52.584Z"
   },
   {
    "duration": 193,
    "start_time": "2023-12-08T15:47:04.106Z"
   },
   {
    "duration": 9649,
    "start_time": "2023-12-08T15:47:15.112Z"
   },
   {
    "duration": 14,
    "start_time": "2023-12-08T15:47:27.772Z"
   },
   {
    "duration": 9931,
    "start_time": "2023-12-08T15:48:10.103Z"
   },
   {
    "duration": 12,
    "start_time": "2023-12-08T15:48:59.065Z"
   },
   {
    "duration": 3,
    "start_time": "2023-12-08T15:50:27.692Z"
   },
   {
    "duration": 10,
    "start_time": "2023-12-08T15:50:30.586Z"
   },
   {
    "duration": 1976421,
    "start_time": "2023-12-08T15:50:33.087Z"
   },
   {
    "duration": 7,
    "start_time": "2023-12-08T16:25:52.633Z"
   },
   {
    "duration": 3,
    "start_time": "2023-12-08T16:26:50.376Z"
   },
   {
    "duration": 1091,
    "start_time": "2023-12-08T16:26:54.406Z"
   },
   {
    "duration": 14135,
    "start_time": "2023-12-08T16:27:17.903Z"
   },
   {
    "duration": 732,
    "start_time": "2023-12-08T16:27:32.039Z"
   },
   {
    "duration": 16,
    "start_time": "2023-12-08T16:27:32.773Z"
   },
   {
    "duration": 9,
    "start_time": "2023-12-08T16:27:32.790Z"
   },
   {
    "duration": 19,
    "start_time": "2023-12-08T16:27:32.800Z"
   },
   {
    "duration": 2,
    "start_time": "2023-12-08T16:27:32.821Z"
   },
   {
    "duration": 9,
    "start_time": "2023-12-08T16:27:32.824Z"
   },
   {
    "duration": 1986806,
    "start_time": "2023-12-08T16:27:32.834Z"
   },
   {
    "duration": 5,
    "start_time": "2023-12-08T17:00:39.642Z"
   },
   {
    "duration": 31,
    "start_time": "2023-12-08T17:00:39.650Z"
   },
   {
    "duration": 3166,
    "start_time": "2023-12-08T17:00:39.682Z"
   },
   {
    "duration": 2986,
    "start_time": "2023-12-08T17:00:42.850Z"
   },
   {
    "duration": 2,
    "start_time": "2023-12-08T17:00:45.838Z"
   },
   {
    "duration": 679766,
    "start_time": "2023-12-08T17:00:45.841Z"
   },
   {
    "duration": 0,
    "start_time": "2023-12-08T17:12:05.609Z"
   },
   {
    "duration": 0,
    "start_time": "2023-12-08T17:12:05.609Z"
   },
   {
    "duration": 0,
    "start_time": "2023-12-08T17:12:05.610Z"
   },
   {
    "duration": 0,
    "start_time": "2023-12-08T17:12:05.611Z"
   },
   {
    "duration": 0,
    "start_time": "2023-12-08T17:12:05.614Z"
   },
   {
    "duration": 0,
    "start_time": "2023-12-08T17:12:05.615Z"
   },
   {
    "duration": 6,
    "start_time": "2023-12-08T17:12:06.811Z"
   },
   {
    "duration": 71338,
    "start_time": "2023-12-08T17:12:36.581Z"
   },
   {
    "duration": 16138,
    "start_time": "2023-12-09T13:08:05.931Z"
   },
   {
    "duration": 3,
    "start_time": "2023-12-09T13:08:55.372Z"
   },
   {
    "duration": 328,
    "start_time": "2023-12-09T13:09:01.078Z"
   },
   {
    "duration": 15,
    "start_time": "2023-12-09T13:11:56.865Z"
   },
   {
    "duration": 15815,
    "start_time": "2023-12-09T13:12:20.666Z"
   },
   {
    "duration": 2156,
    "start_time": "2023-12-09T13:12:36.482Z"
   },
   {
    "duration": 26,
    "start_time": "2023-12-09T13:12:38.639Z"
   },
   {
    "duration": 12,
    "start_time": "2023-12-09T13:12:38.668Z"
   },
   {
    "duration": 24,
    "start_time": "2023-12-09T13:12:38.682Z"
   },
   {
    "duration": 4,
    "start_time": "2023-12-09T13:12:38.708Z"
   },
   {
    "duration": 4,
    "start_time": "2023-12-09T13:12:38.714Z"
   },
   {
    "duration": 931937,
    "start_time": "2023-12-09T13:12:38.720Z"
   },
   {
    "duration": 14,
    "start_time": "2023-12-09T13:28:10.659Z"
   },
   {
    "duration": 20,
    "start_time": "2023-12-09T13:28:10.675Z"
   },
   {
    "duration": 3265,
    "start_time": "2023-12-09T13:28:10.697Z"
   },
   {
    "duration": 3053,
    "start_time": "2023-12-09T13:28:13.963Z"
   },
   {
    "duration": 2,
    "start_time": "2023-12-09T13:28:17.018Z"
   },
   {
    "duration": 867153,
    "start_time": "2023-12-09T13:28:17.021Z"
   },
   {
    "duration": 4,
    "start_time": "2023-12-09T13:42:44.176Z"
   },
   {
    "duration": 116,
    "start_time": "2023-12-09T13:42:44.181Z"
   },
   {
    "duration": 343,
    "start_time": "2023-12-09T13:42:44.298Z"
   },
   {
    "duration": 0,
    "start_time": "2023-12-09T13:42:44.643Z"
   },
   {
    "duration": 375,
    "start_time": "2023-12-09T16:02:03.353Z"
   },
   {
    "duration": 46,
    "start_time": "2023-12-11T04:57:15.516Z"
   },
   {
    "duration": 15523,
    "start_time": "2023-12-11T04:57:28.451Z"
   },
   {
    "duration": 301,
    "start_time": "2023-12-11T04:57:43.976Z"
   },
   {
    "duration": 0,
    "start_time": "2023-12-11T04:57:44.279Z"
   },
   {
    "duration": 15,
    "start_time": "2023-12-11T04:57:54.252Z"
   },
   {
    "duration": 16,
    "start_time": "2023-12-11T04:58:35.256Z"
   },
   {
    "duration": 17,
    "start_time": "2023-12-11T04:58:47.155Z"
   },
   {
    "duration": 14705,
    "start_time": "2023-12-11T04:59:00.391Z"
   },
   {
    "duration": 2290,
    "start_time": "2023-12-11T04:59:15.099Z"
   },
   {
    "duration": 32,
    "start_time": "2023-12-11T04:59:17.393Z"
   },
   {
    "duration": 10,
    "start_time": "2023-12-11T04:59:17.427Z"
   },
   {
    "duration": 10,
    "start_time": "2023-12-11T04:59:17.439Z"
   },
   {
    "duration": 15,
    "start_time": "2023-12-11T04:59:17.451Z"
   },
   {
    "duration": 5,
    "start_time": "2023-12-11T04:59:17.468Z"
   },
   {
    "duration": 1075552,
    "start_time": "2023-12-11T04:59:17.475Z"
   },
   {
    "duration": 7,
    "start_time": "2023-12-11T05:17:13.028Z"
   },
   {
    "duration": 49,
    "start_time": "2023-12-11T05:17:13.037Z"
   },
   {
    "duration": 3724,
    "start_time": "2023-12-11T05:17:13.087Z"
   },
   {
    "duration": 3415,
    "start_time": "2023-12-11T05:17:16.812Z"
   },
   {
    "duration": 3,
    "start_time": "2023-12-11T05:17:20.229Z"
   },
   {
    "duration": 985734,
    "start_time": "2023-12-11T05:17:20.234Z"
   },
   {
    "duration": 3,
    "start_time": "2023-12-11T05:33:45.970Z"
   },
   {
    "duration": 33,
    "start_time": "2023-12-11T05:33:45.975Z"
   },
   {
    "duration": 15822,
    "start_time": "2023-12-11T22:05:22.255Z"
   },
   {
    "duration": 2353,
    "start_time": "2023-12-11T22:05:38.079Z"
   },
   {
    "duration": 31,
    "start_time": "2023-12-11T22:05:40.434Z"
   },
   {
    "duration": 15,
    "start_time": "2023-12-11T22:05:40.467Z"
   },
   {
    "duration": 14,
    "start_time": "2023-12-11T22:05:40.484Z"
   },
   {
    "duration": 4,
    "start_time": "2023-12-11T22:05:40.499Z"
   },
   {
    "duration": 4,
    "start_time": "2023-12-11T22:05:40.505Z"
   },
   {
    "duration": 1104785,
    "start_time": "2023-12-11T22:05:40.510Z"
   },
   {
    "duration": 8,
    "start_time": "2023-12-11T22:24:05.298Z"
   },
   {
    "duration": 49,
    "start_time": "2023-12-11T22:24:05.307Z"
   },
   {
    "duration": 3890,
    "start_time": "2023-12-11T22:24:05.357Z"
   },
   {
    "duration": 3472,
    "start_time": "2023-12-11T22:24:09.248Z"
   },
   {
    "duration": 3,
    "start_time": "2023-12-11T22:24:12.722Z"
   },
   {
    "duration": 989254,
    "start_time": "2023-12-11T22:24:12.728Z"
   },
   {
    "duration": 3,
    "start_time": "2023-12-11T22:40:41.984Z"
   },
   {
    "duration": 12029505,
    "start_time": "2023-12-11T22:40:41.988Z"
   },
   {
    "duration": 4,
    "start_time": "2023-12-12T02:01:11.494Z"
   },
   {
    "duration": 34,
    "start_time": "2023-12-12T02:01:11.499Z"
   },
   {
    "duration": 3,
    "start_time": "2023-12-12T02:02:37.521Z"
   },
   {
    "duration": 3,
    "start_time": "2023-12-12T02:07:58.831Z"
   },
   {
    "duration": 3,
    "start_time": "2023-12-12T02:11:18.005Z"
   },
   {
    "duration": 4,
    "start_time": "2023-12-12T02:11:39.955Z"
   },
   {
    "duration": 19137,
    "start_time": "2023-12-12T18:04:51.041Z"
   },
   {
    "duration": 304,
    "start_time": "2023-12-12T18:16:59.247Z"
   },
   {
    "duration": 19,
    "start_time": "2023-12-12T18:17:34.812Z"
   },
   {
    "duration": 16,
    "start_time": "2023-12-12T18:18:09.604Z"
   },
   {
    "duration": 14514,
    "start_time": "2023-12-12T18:18:17.498Z"
   },
   {
    "duration": 3280,
    "start_time": "2023-12-12T18:18:32.015Z"
   },
   {
    "duration": 30,
    "start_time": "2023-12-12T18:18:35.296Z"
   },
   {
    "duration": 22,
    "start_time": "2023-12-12T18:18:35.328Z"
   },
   {
    "duration": 25,
    "start_time": "2023-12-12T18:18:35.352Z"
   },
   {
    "duration": 3,
    "start_time": "2023-12-12T18:18:35.378Z"
   },
   {
    "duration": 24,
    "start_time": "2023-12-12T18:18:35.382Z"
   },
   {
    "duration": 1041800,
    "start_time": "2023-12-12T18:18:35.408Z"
   },
   {
    "duration": 6,
    "start_time": "2023-12-12T18:35:57.210Z"
   },
   {
    "duration": 47,
    "start_time": "2023-12-12T18:35:57.218Z"
   },
   {
    "duration": 3564,
    "start_time": "2023-12-12T18:35:57.267Z"
   },
   {
    "duration": 3270,
    "start_time": "2023-12-12T18:36:00.833Z"
   },
   {
    "duration": 3,
    "start_time": "2023-12-12T18:36:04.104Z"
   },
   {
    "duration": 64867,
    "start_time": "2023-12-12T18:36:04.108Z"
   },
   {
    "duration": 0,
    "start_time": "2023-12-12T18:37:08.977Z"
   },
   {
    "duration": 0,
    "start_time": "2023-12-12T18:37:08.979Z"
   },
   {
    "duration": 0,
    "start_time": "2023-12-12T18:37:08.980Z"
   },
   {
    "duration": 0,
    "start_time": "2023-12-12T18:37:08.981Z"
   },
   {
    "duration": 720909,
    "start_time": "2023-12-12T18:37:15.712Z"
   }
  ],
  "kernelspec": {
   "display_name": "Python 3 (ipykernel)",
   "language": "python",
   "name": "python3"
  },
  "language_info": {
   "codemirror_mode": {
    "name": "ipython",
    "version": 3
   },
   "file_extension": ".py",
   "mimetype": "text/x-python",
   "name": "python",
   "nbconvert_exporter": "python",
   "pygments_lexer": "ipython3",
   "version": "3.9.5"
  },
  "toc": {
   "base_numbering": 1,
   "nav_menu": {},
   "number_sections": true,
   "sideBar": true,
   "skip_h1_title": true,
   "title_cell": "Содержание",
   "title_sidebar": "Contents",
   "toc_cell": true,
   "toc_position": {
    "height": "calc(100% - 180px)",
    "left": "10px",
    "top": "150px",
    "width": "302.391px"
   },
   "toc_section_display": true,
   "toc_window_display": false
  }
 },
 "nbformat": 4,
 "nbformat_minor": 2
}
